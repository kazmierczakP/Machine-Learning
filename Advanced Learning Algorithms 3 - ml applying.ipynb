{
 "cells": [
  {
   "cell_type": "markdown",
   "id": "2c380d48",
   "metadata": {},
   "source": [
    "## Regression"
   ]
  },
  {
   "cell_type": "markdown",
   "id": "fe1878eb",
   "metadata": {},
   "source": [
    "#### cross validation"
   ]
  },
  {
   "cell_type": "markdown",
   "id": "4b5ea37d",
   "metadata": {},
   "source": [
    "`Cross validation` set is a dubset (next to train and test) made to additionally test the mode performance by testing the best choice of `engineered features` or `model architecture`"
   ]
  },
  {
   "cell_type": "markdown",
   "id": "a6cd42a4",
   "metadata": {},
   "source": [
    "Only the final model shouls be tested on the `test set`"
   ]
  },
  {
   "cell_type": "code",
   "execution_count": 42,
   "id": "e4f1ef74",
   "metadata": {},
   "outputs": [],
   "source": [
    "import pandas as pd\n",
    "import numpy as np\n",
    "import tensorflow as tf\n",
    "import sklearn\n",
    "from sklearn.model_selection import train_test_split\n",
    "from sklearn.preprocessing import StandardScaler, PolynomialFeatures\n",
    "from sklearn.linear_model import LinearRegression\n",
    "from sklearn.metrics import mean_squared_error\n",
    "import matplotlib.pyplot as plt"
   ]
  },
  {
   "cell_type": "code",
   "execution_count": 9,
   "id": "c41234f9",
   "metadata": {},
   "outputs": [],
   "source": [
    "#np.save('outfile', data)\n",
    "data=np.load('data/data2.npy')"
   ]
  },
  {
   "cell_type": "code",
   "execution_count": 13,
   "id": "cf9aaedc",
   "metadata": {},
   "outputs": [],
   "source": [
    "x=data[:,0]\n",
    "y=data[:,1]\n",
    "x=np.expand_dims(x,axis=1)\n",
    "y=np.expand_dims(y,axis=1)"
   ]
  },
  {
   "cell_type": "code",
   "execution_count": 15,
   "id": "5e25d95f",
   "metadata": {},
   "outputs": [
    {
     "data": {
      "text/plain": [
       "<matplotlib.collections.PathCollection at 0x14ebf0b61c0>"
      ]
     },
     "execution_count": 15,
     "metadata": {},
     "output_type": "execute_result"
    },
    {
     "data": {
      "image/png": "[encoded data removed]",
      "text/plain": [
       "<Figure size 432x288 with 1 Axes>"
      ]
     },
     "metadata": {
      "needs_background": "light"
     },
     "output_type": "display_data"
    }
   ],
   "source": [
    "plt.scatter(x,y)"
   ]
  },
  {
   "cell_type": "code",
   "execution_count": 20,
   "id": "16ca52f2",
   "metadata": {},
   "outputs": [
    {
     "name": "stdout",
     "output_type": "stream",
     "text": [
      "training: (30, 1), (30, 1)\n",
      "cv: (10, 1), (10, 1)\n",
      "test: (10, 1), (10, 1)\n"
     ]
    }
   ],
   "source": [
    "x_train,x_,y_train,y_=train_test_split(x,y,test_size=0.4,random_state=1)\n",
    "x_cv,x_test,y_cv,y_test=train_test_split(x_,y_,test_size=0.5,random_state=1)\n",
    "print(f'training: {x_train.shape}, {y_train.shape}' )\n",
    "print(f'cv: {x_cv.shape}, {y_cv.shape}' )\n",
    "print(f'test: {x_test.shape}, {y_test.shape}' )"
   ]
  },
  {
   "cell_type": "code",
   "execution_count": 22,
   "id": "41008bab",
   "metadata": {},
   "outputs": [
    {
     "data": {
      "text/plain": [
       "<matplotlib.legend.Legend at 0x14ebfaabc10>"
      ]
     },
     "execution_count": 22,
     "metadata": {},
     "output_type": "execute_result"
    },
    {
     "data": {
      "image/png": "[encoded data removed]",
      "text/plain": [
       "<Figure size 432x288 with 1 Axes>"
      ]
     },
     "metadata": {
      "needs_background": "light"
     },
     "output_type": "display_data"
    }
   ],
   "source": [
    "plt.scatter(x_train,y_train,label='train')\n",
    "plt.scatter(x_cv,y_cv,label='cv')\n",
    "plt.scatter(x_test,y_test,label='test')\n",
    "plt.legend()"
   ]
  },
  {
   "cell_type": "markdown",
   "id": "5852a927",
   "metadata": {},
   "source": [
    "#### feature scaling"
   ]
  },
  {
   "cell_type": "code",
   "execution_count": 28,
   "id": "e828947b",
   "metadata": {},
   "outputs": [
    {
     "data": {
      "text/plain": [
       "<matplotlib.collections.PathCollection at 0x14ebfbff3d0>"
      ]
     },
     "execution_count": 28,
     "metadata": {},
     "output_type": "execute_result"
    },
    {
     "data": {
      "image/png": "[encoded data removed]",
      "text/plain": [
       "<Figure size 432x288 with 1 Axes>"
      ]
     },
     "metadata": {
      "needs_background": "light"
     },
     "output_type": "display_data"
    }
   ],
   "source": [
    "scaler_linear=StandardScaler()\n",
    "x_train_scaled=scaler_linear.fit_transform(x_train)\n",
    "plt.scatter(x_train_scaled,y_train)"
   ]
  },
  {
   "cell_type": "code",
   "execution_count": 30,
   "id": "cf15b650",
   "metadata": {},
   "outputs": [
    {
     "data": {
      "text/plain": [
       "LinearRegression()"
      ]
     },
     "execution_count": 30,
     "metadata": {},
     "output_type": "execute_result"
    }
   ],
   "source": [
    "linear_model=LinearRegression()\n",
    "linear_model.fit(x_train_scaled,y_train)"
   ]
  },
  {
   "cell_type": "markdown",
   "id": "55af741e",
   "metadata": {},
   "source": [
    "#### evalueate model"
   ]
  },
  {
   "cell_type": "code",
   "execution_count": 36,
   "id": "6ca876fe",
   "metadata": {},
   "outputs": [
    {
     "name": "stdout",
     "output_type": "stream",
     "text": [
      "scikit error: 406.1814264310123\n",
      "for loop error: 406.1814264310123\n"
     ]
    }
   ],
   "source": [
    "y_hat=linear_model.predict(x_train_scaled)\n",
    "error=mean_squared_error(y_train,y_hat)/2\n",
    "print(f'scikit error: {error}')\n",
    "total_squared_error=0\n",
    "for i in range(len(y_hat)):\n",
    "    squared_error=(y_hat[i]-y_train[i])**2\n",
    "    total_squared_error+=squared_error\n",
    "mse=total_squared_error/(2*len(y_hat))\n",
    "print(f'for loop error: {mse[0]}')"
   ]
  },
  {
   "cell_type": "markdown",
   "id": "76faa2ac",
   "metadata": {},
   "source": [
    "#### scaling cv"
   ]
  },
  {
   "cell_type": "code",
   "execution_count": 38,
   "id": "666ca9cd",
   "metadata": {},
   "outputs": [
    {
     "name": "stdout",
     "output_type": "stream",
     "text": [
      "mean: [2504.06166667]\n",
      "scale: [574.85344565]\n"
     ]
    }
   ],
   "source": [
    "x_cv_scaled=scaler_linear.transform(x_cv)\n",
    "print(f'mean: {scaler_linear.mean_}')\n",
    "print(f'scale: {scaler_linear.scale_}')"
   ]
  },
  {
   "cell_type": "code",
   "execution_count": 40,
   "id": "0f48ab73",
   "metadata": {},
   "outputs": [
    {
     "name": "stdout",
     "output_type": "stream",
     "text": [
      "scikit error: 551.7633686764401\n"
     ]
    }
   ],
   "source": [
    "y_hat=linear_model.predict(x_cv_scaled)\n",
    "error=mean_squared_error(y_cv,y_hat)/2\n",
    "print(f'scikit error: {error}')"
   ]
  },
  {
   "cell_type": "markdown",
   "id": "3e90f6b3",
   "metadata": {},
   "source": [
    "#### adding polynomial features"
   ]
  },
  {
   "cell_type": "code",
   "execution_count": 51,
   "id": "cc1ae562",
   "metadata": {},
   "outputs": [
    {
     "data": {
      "text/plain": [
       "array([[3.32447000e+03, 1.10521008e+07],\n",
       "       [2.34488000e+03, 5.49846221e+06],\n",
       "       [3.48773000e+03, 1.21642606e+07]])"
      ]
     },
     "execution_count": 51,
     "metadata": {},
     "output_type": "execute_result"
    }
   ],
   "source": [
    "poly=PolynomialFeatures(degree=2,include_bias=False)\n",
    "x_train_mapped=poly.fit_transform(x_train)\n",
    "x_train_mapped[:3]"
   ]
  },
  {
   "cell_type": "code",
   "execution_count": 52,
   "id": "19c548a6",
   "metadata": {},
   "outputs": [
    {
     "data": {
      "text/plain": [
       "array([[ 1.42716085,  1.47236975],\n",
       "       [-0.27690826, -0.36461578],\n",
       "       [ 1.71116367,  1.84024054]])"
      ]
     },
     "execution_count": 52,
     "metadata": {},
     "output_type": "execute_result"
    }
   ],
   "source": [
    "scaler_poly=StandardScaler()\n",
    "x_train_mapped_scaled=scaler_poly.fit_transform(x_train_mapped)\n",
    "x_train_mapped_scaled[:3]"
   ]
  },
  {
   "cell_type": "code",
   "execution_count": 53,
   "id": "2b839832",
   "metadata": {},
   "outputs": [
    {
     "data": {
      "text/plain": [
       "LinearRegression()"
      ]
     },
     "execution_count": 53,
     "metadata": {},
     "output_type": "execute_result"
    }
   ],
   "source": [
    "model=LinearRegression()\n",
    "model.fit(x_train_mapped_scaled,y_train)"
   ]
  },
  {
   "cell_type": "code",
   "execution_count": 55,
   "id": "ac3e3ad3",
   "metadata": {},
   "outputs": [
    {
     "name": "stdout",
     "output_type": "stream",
     "text": [
      "scikit error train: 49.115763074720654\n"
     ]
    }
   ],
   "source": [
    "y_hat=model.predict(x_train_mapped_scaled)\n",
    "error=mean_squared_error(y_train,y_hat)/2\n",
    "print(f'scikit error train: {error}')"
   ]
  },
  {
   "cell_type": "code",
   "execution_count": 57,
   "id": "d1f5a150",
   "metadata": {},
   "outputs": [
    {
     "name": "stdout",
     "output_type": "stream",
     "text": [
      "scikit error cv: 87.6946643843581\n"
     ]
    }
   ],
   "source": [
    "x_cv_mapped=poly.transform(x_cv)\n",
    "x_cv_mapped_scaled=scaler_poly.transform(x_cv_mapped)\n",
    "y_hat=model.predict(x_cv_mapped_scaled)\n",
    "error=mean_squared_error(y_cv,y_hat)/2\n",
    "print(f'scikit error cv: {error}')"
   ]
  },
  {
   "cell_type": "code",
   "execution_count": 66,
   "id": "6eb27033",
   "metadata": {},
   "outputs": [],
   "source": [
    "error_train=np.zeros(10)\n",
    "error_cv=np.zeros(10)\n",
    "for i in range(1,11):\n",
    "    poly=PolynomialFeatures(degree=i,include_bias=False)\n",
    "    scaler_poly=StandardScaler()\n",
    "    x_train_mapped=poly.fit_transform(x_train)\n",
    "    x_train_mapped_scaled=scaler_poly.fit_transform(x_train_mapped)\n",
    "    x_cv_mapped=poly.transform(x_cv)\n",
    "    x_cv_mapped_scaled=scaler_poly.transform(x_cv_mapped)\n",
    "    model=LinearRegression()\n",
    "    model.fit(x_train_mapped_scaled,y_train)\n",
    "    y_hat=model.predict(x_train_mapped_scaled)\n",
    "    error_train[i-1]=mean_squared_error(y_train,y_hat)/2\n",
    "    #print(f'scikit error train: {error}')\n",
    "    y_hat=model.predict(x_cv_mapped_scaled)\n",
    "    error_cv[i-1]=mean_squared_error(y_cv,y_hat)/2\n",
    "    #print(f'scikit error cv: {error}')"
   ]
  },
  {
   "cell_type": "code",
   "execution_count": 67,
   "id": "af69d87d",
   "metadata": {},
   "outputs": [
    {
     "data": {
      "text/plain": [
       "[<matplotlib.lines.Line2D at 0x14ec04fa250>]"
      ]
     },
     "execution_count": 67,
     "metadata": {},
     "output_type": "execute_result"
    },
    {
     "data": {
      "image/png": "[encoded data removed]",
      "text/plain": [
       "<Figure size 432x288 with 1 Axes>"
      ]
     },
     "metadata": {
      "needs_background": "light"
     },
     "output_type": "display_data"
    }
   ],
   "source": [
    "plt.plot(error_train)\n",
    "plt.plot(error_cv)"
   ]
  },
  {
   "cell_type": "markdown",
   "id": "e04070ee",
   "metadata": {},
   "source": [
    "## Neural networks"
   ]
  },
  {
   "cell_type": "code",
   "execution_count": null,
   "id": "c5916ea2",
   "metadata": {},
   "outputs": [],
   "source": []
  }
 ],
 "metadata": {
  "kernelspec": {
   "display_name": "Python 3 (ipykernel)",
   "language": "python",
   "name": "python3"
  },
  "language_info": {
   "codemirror_mode": {
    "name": "ipython",
    "version": 3
   },
   "file_extension": ".py",
   "mimetype": "text/x-python",
   "name": "python",
   "nbconvert_exporter": "python",
   "pygments_lexer": "ipython3",
   "version": "3.8.12"
  }
 },
 "nbformat": 4,
 "nbformat_minor": 5
}
