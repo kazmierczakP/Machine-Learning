{
 "cells": [
  {
   "cell_type": "markdown",
   "id": "9907a026",
   "metadata": {},
   "source": [
    "# Decision tree"
   ]
  },
  {
   "cell_type": "markdown",
   "id": "7f6f8f49",
   "metadata": {},
   "source": [
    "Stop splitting rules:\n",
    "\n",
    "    - 100% of one class in node\n",
    "    - exceeding max depth\n",
    "    - improvements in purity below treshold\n",
    "    - number of examples below treshold"
   ]
  },
  {
   "cell_type": "markdown",
   "id": "de5f14f4",
   "metadata": {},
   "source": [
    "***"
   ]
  },
  {
   "cell_type": "markdown",
   "id": "23737ad7",
   "metadata": {},
   "source": [
    "## Splitting rules"
   ]
  },
  {
   "cell_type": "markdown",
   "id": "41243d29",
   "metadata": {},
   "source": [
    "### Entropy"
   ]
  },
  {
   "cell_type": "markdown",
   "id": "09d63398",
   "metadata": {},
   "source": [
    "Measure of impurity of the node. Takes values between 0 and 1 (the smaller the better)."
   ]
  },
  {
   "cell_type": "markdown",
   "id": "95c6c656",
   "metadata": {},
   "source": [
    "$$ E = - \\sum_{i=1}^{m} p_i*log_2(p_i) = -p_1*log_2(p_1)-(1-p_1)*log_2(1-p_1) $$"
   ]
  },
  {
   "cell_type": "markdown",
   "id": "bc45fe01",
   "metadata": {},
   "source": [
    "pi - probability of selecting class i in the node"
   ]
  },
  {
   "cell_type": "code",
   "execution_count": 13,
   "id": "15cdf856",
   "metadata": {},
   "outputs": [
    {
     "data": {
      "text/plain": [
       "Text(0.5, 1.0, 'Entropy')"
      ]
     },
     "execution_count": 13,
     "metadata": {},
     "output_type": "execute_result"
    },
    {
     "data": {
      "image/png": "[encoded data removed]",
      "text/plain": [
       "<Figure size 432x288 with 1 Axes>"
      ]
     },
     "metadata": {
      "needs_background": "light"
     },
     "output_type": "display_data"
    }
   ],
   "source": [
    "import matplotlib.pyplot as plt\n",
    "import numpy as np\n",
    "x=np.linspace(0.01,0.99,100)\n",
    "plt.plot(x,-x*np.log2(x)-(1-x)*np.log2(1-x))\n",
    "plt.xlabel('p1')\n",
    "plt.ylabel('H')\n",
    "plt.title('Entropy')"
   ]
  },
  {
   "cell_type": "markdown",
   "id": "0423fb2d",
   "metadata": {},
   "source": [
    "### Gini"
   ]
  },
  {
   "cell_type": "markdown",
   "id": "5bd07543",
   "metadata": {},
   "source": [
    "Another cryterium for measuring purity of node. Takes values between 0 and 0.5 (the smaller the better)."
   ]
  },
  {
   "cell_type": "markdown",
   "id": "83fe4051",
   "metadata": {},
   "source": [
    "$$ Gini = 1 - \\sum_{i=1}^{m} p_i^{2} = 1-p_1^{2}-(1-p_1)^{2} $$"
   ]
  },
  {
   "cell_type": "markdown",
   "id": "5b9f0324",
   "metadata": {},
   "source": [
    "***"
   ]
  },
  {
   "cell_type": "markdown",
   "id": "2c715d4a",
   "metadata": {},
   "source": [
    "### Information gain"
   ]
  },
  {
   "cell_type": "markdown",
   "id": "f9d4c8cd",
   "metadata": {},
   "source": [
    "Used to choose the feature to split the data in node. `The higher the better`."
   ]
  },
  {
   "cell_type": "markdown",
   "id": "db4f87b9",
   "metadata": {},
   "source": [
    "$$ Information Gain = H(p_1)^{root} - (w^{left}*H(p_1)^{left}+w^{right}*H(p_1)^{right}) $$"
   ]
  },
  {
   "cell_type": "markdown",
   "id": "f10b7ffc",
   "metadata": {},
   "source": [
    "w stands for wighted average"
   ]
  },
  {
   "cell_type": "markdown",
   "id": "78c02942",
   "metadata": {},
   "source": [
    "***"
   ]
  },
  {
   "cell_type": "markdown",
   "id": "2a2e09a1",
   "metadata": {},
   "source": [
    "## One-hot encoding"
   ]
  },
  {
   "cell_type": "markdown",
   "id": "3a9cb164",
   "metadata": {},
   "source": [
    "Instead on `one feature taking n values`, create `n features taking 0 or 1 values` (whwther the feature is present for the record)"
   ]
  },
  {
   "cell_type": "markdown",
   "id": "6c9ed8ce",
   "metadata": {},
   "source": [
    "With this setup we can still use the splitting cryterions like `Gini` or `Entropy`"
   ]
  },
  {
   "cell_type": "markdown",
   "id": "b235249d",
   "metadata": {},
   "source": [
    "## Continuous features"
   ]
  },
  {
   "cell_type": "markdown",
   "id": "d43c6396",
   "metadata": {},
   "source": [
    "For continous values choose a `threshold` that can split the data best (has the best `information gain`)."
   ]
  },
  {
   "cell_type": "markdown",
   "id": "43391294",
   "metadata": {},
   "source": [
    "***"
   ]
  },
  {
   "cell_type": "markdown",
   "id": "1370f036",
   "metadata": {},
   "source": [
    "# Regression tree"
   ]
  },
  {
   "cell_type": "markdown",
   "id": "0795f790",
   "metadata": {},
   "source": [
    "Tree will group the observations and return `average value` of the `continuous feture` in the `group`."
   ]
  },
  {
   "cell_type": "markdown",
   "id": "8132c588",
   "metadata": {},
   "source": [
    "Splits will be made by reducing the `variance` of the continuous feature in groups."
   ]
  },
  {
   "cell_type": "markdown",
   "id": "4164f8f4",
   "metadata": {},
   "source": [
    "Information Gain will use `variance instead of entropy` and show largest variance reduction."
   ]
  },
  {
   "cell_type": "markdown",
   "id": "28e3d834",
   "metadata": {},
   "source": [
    "$$ Information Gain = Variance^{root} - (w^{left}*Variance^{left}+w^{right}*Variance^{right}) $$"
   ]
  },
  {
   "cell_type": "markdown",
   "id": "65122804",
   "metadata": {},
   "source": [
    "w stands for wighted average"
   ]
  },
  {
   "cell_type": "markdown",
   "id": "3ebc103c",
   "metadata": {},
   "source": [
    "***"
   ]
  },
  {
   "cell_type": "code",
   "execution_count": 17,
   "id": "a822bf97",
   "metadata": {},
   "outputs": [],
   "source": [
    "import numpy as np"
   ]
  },
  {
   "cell_type": "code",
   "execution_count": 40,
   "id": "b62d109a",
   "metadata": {},
   "outputs": [],
   "source": [
    "x=np.array([[1,1,1],[0,0,1],[0,1,0],[1,0,1],[1,1,1],[1,1,0],[0,0,0],[1,1,0],[0,1,0],[0,1,0]])\n",
    "y=np.array([1,1,0,0,1,1,0,1,0,0])"
   ]
  },
  {
   "cell_type": "code",
   "execution_count": 41,
   "id": "de97693b",
   "metadata": {},
   "outputs": [
    {
     "name": "stdout",
     "output_type": "stream",
     "text": [
      "1.0\n"
     ]
    }
   ],
   "source": [
    "def entropy(p):\n",
    "    if p==0 or p==1:\n",
    "        return 0\n",
    "    else:\n",
    "        return -p*np.log2(p)-(1-p)*np.log2(1-p)\n",
    "print(entropy(0.5))"
   ]
  },
  {
   "cell_type": "code",
   "execution_count": 42,
   "id": "68a40a3f",
   "metadata": {},
   "outputs": [],
   "source": [
    "def split_incides(X,index_feature):\n",
    "    left_incides=[]\n",
    "    right_incides=[]\n",
    "    for i,x in enumerate(X):\n",
    "        if x[index_feature]==1:\n",
    "            left_incides.append(i)\n",
    "        else:\n",
    "            right_incides.append(i)\n",
    "    return left_incides, right_incides"
   ]
  },
  {
   "cell_type": "code",
   "execution_count": 51,
   "id": "79c99368",
   "metadata": {},
   "outputs": [],
   "source": [
    "def weighted_entropy(X,Y,left_incides,right_incides):\n",
    "    w_left=len(left_incides)/len(X)\n",
    "    w_right=len(right_incides)/len(X)\n",
    "    p_left=sum(Y[left_incides])/len(left_incides)\n",
    "    p_right=sum(Y[right_incides])/len(right_incides)\n",
    "    \n",
    "    weighted_entropy=w_left*entropy(p_left)+w_right*entropy(p_right)\n",
    "    return weighted_entropy"
   ]
  },
  {
   "cell_type": "code",
   "execution_count": 54,
   "id": "31fc11bb",
   "metadata": {},
   "outputs": [
    {
     "data": {
      "text/plain": [
       "0.7219280948873623"
      ]
     },
     "execution_count": 54,
     "metadata": {},
     "output_type": "execute_result"
    }
   ],
   "source": [
    "left_incides,right_incides=split_incides(x,0)\n",
    "weighted_entropy(x,y,left_incides,right_incides)"
   ]
  },
  {
   "cell_type": "code",
   "execution_count": 55,
   "id": "8a143090",
   "metadata": {},
   "outputs": [],
   "source": [
    "def information_gain(X,Y,left_incides,right_incides):\n",
    "    p_node=sum(Y)/len(Y)\n",
    "    h_node=entropy(p_node)\n",
    "    w_entropy=weighted_entropy(X,Y,left_incides,right_incides)\n",
    "    return h_node-w_entropy"
   ]
  },
  {
   "cell_type": "code",
   "execution_count": 57,
   "id": "0d50ca4d",
   "metadata": {},
   "outputs": [
    {
     "data": {
      "text/plain": [
       "0.2780719051126377"
      ]
     },
     "execution_count": 57,
     "metadata": {},
     "output_type": "execute_result"
    }
   ],
   "source": [
    "information_gain(x,y,left_incides,right_incides)"
   ]
  },
  {
   "cell_type": "code",
   "execution_count": 59,
   "id": "ad79cdc0",
   "metadata": {},
   "outputs": [
    {
     "name": "stdout",
     "output_type": "stream",
     "text": [
      "feature: ear, informatio gain: 0.278\n",
      "feature: face, informatio gain: 0.035\n",
      "feature: hair, informatio gain: 0.125\n"
     ]
    }
   ],
   "source": [
    "for i, feature in enumerate(['ear','face','hair']):\n",
    "    left_incides,right_incides=split_incides(x,i)\n",
    "    i_gain=information_gain(x,y,left_incides,right_incides)\n",
    "    print(f'feature: {feature}, informatio gain: {i_gain:.3f}')"
   ]
  },
  {
   "cell_type": "markdown",
   "id": "5c472cc4",
   "metadata": {},
   "source": [
    "***"
   ]
  },
  {
   "cell_type": "markdown",
   "id": "afd8e5e7",
   "metadata": {},
   "source": [
    "# Tree ensembles"
   ]
  },
  {
   "cell_type": "markdown",
   "id": "d4d64a7e",
   "metadata": {},
   "source": [
    "`single tree` can be very sensitive to chenges in the data"
   ]
  },
  {
   "cell_type": "markdown",
   "id": "c937a958",
   "metadata": {},
   "source": [
    "`tree ensemble` - a collection of different trees (trees vote on the final prediciton)"
   ]
  },
  {
   "cell_type": "markdown",
   "id": "35a41e14",
   "metadata": {},
   "source": [
    "### sampling with replacement"
   ]
  },
  {
   "cell_type": "markdown",
   "id": "562636c4",
   "metadata": {},
   "source": [
    "sampling on the same dataset without changing it (so each time each item has the same chance to be chosen)"
   ]
  },
  {
   "cell_type": "markdown",
   "id": "a942d19e",
   "metadata": {},
   "source": [
    "for each tree we create a subset with the same size (training set) based on the original one (but diffenrent as we randomly choose the items with replacement (each can be chosen more then once))"
   ]
  },
  {
   "cell_type": "markdown",
   "id": "ca038a72",
   "metadata": {},
   "source": [
    "## Random forest"
   ]
  },
  {
   "cell_type": "markdown",
   "id": "c1e9974c",
   "metadata": {},
   "source": [
    "`random forest` sn one of tree ensembles options"
   ]
  },
  {
   "cell_type": "markdown",
   "id": "f49daafa",
   "metadata": {},
   "source": [
    "at each node a `feature` to split is `randomly chosen` from a `subset of features`"
   ]
  },
  {
   "cell_type": "markdown",
   "id": "d7bfec62",
   "metadata": {},
   "source": [
    "## XGBoost"
   ]
  },
  {
   "cell_type": "markdown",
   "id": "a927ced0",
   "metadata": {},
   "source": [
    "similar to random forest but while creating next datasets for new trees we `promote the presence of obserwations that were misclassified`"
   ]
  },
  {
   "cell_type": "markdown",
   "id": "605ae16b",
   "metadata": {},
   "source": [
    "the changes are being made to te `original dataset`"
   ]
  },
  {
   "cell_type": "markdown",
   "id": "f8d3a279",
   "metadata": {},
   "source": [
    "`XGBRegressor` - for regression "
   ]
  },
  {
   "cell_type": "markdown",
   "id": "cc492713",
   "metadata": {},
   "source": [
    "***"
   ]
  },
  {
   "cell_type": "code",
   "execution_count": 29,
   "id": "69f69d48",
   "metadata": {},
   "outputs": [],
   "source": [
    "import numpy as np\n",
    "import pandas as pd\n",
    "import sklearn\n",
    "from sklearn.tree import DecisionTreeClassifier\n",
    "from sklearn.model_selection import train_test_split\n",
    "from sklearn.metrics import accuracy_score\n",
    "import xgboost\n",
    "import matplotlib.pyplot as plt"
   ]
  },
  {
   "cell_type": "markdown",
   "id": "be7a3339",
   "metadata": {},
   "source": [
    "#### data"
   ]
  },
  {
   "cell_type": "code",
   "execution_count": 37,
   "id": "a50698b4",
   "metadata": {},
   "outputs": [],
   "source": [
    "df=pd.read_csv('data/heart.csv')"
   ]
  },
  {
   "cell_type": "code",
   "execution_count": 38,
   "id": "1c92d9ca",
   "metadata": {},
   "outputs": [
    {
     "data": {
      "text/html": [
       "<div>\n",
       "<style scoped>\n",
       "    .dataframe tbody tr th:only-of-type {\n",
       "        vertical-align: middle;\n",
       "    }\n",
       "\n",
       "    .dataframe tbody tr th {\n",
       "        vertical-align: top;\n",
       "    }\n",
       "\n",
       "    .dataframe thead th {\n",
       "        text-align: right;\n",
       "    }\n",
       "</style>\n",
       "<table border=\"1\" class=\"dataframe\">\n",
       "  <thead>\n",
       "    <tr style=\"text-align: right;\">\n",
       "      <th></th>\n",
       "      <th>age</th>\n",
       "      <th>sex</th>\n",
       "      <th>cp</th>\n",
       "      <th>trtbps</th>\n",
       "      <th>chol</th>\n",
       "      <th>fbs</th>\n",
       "      <th>restecg</th>\n",
       "      <th>thalachh</th>\n",
       "      <th>exng</th>\n",
       "      <th>oldpeak</th>\n",
       "      <th>slp</th>\n",
       "      <th>caa</th>\n",
       "      <th>thall</th>\n",
       "      <th>output</th>\n",
       "    </tr>\n",
       "  </thead>\n",
       "  <tbody>\n",
       "    <tr>\n",
       "      <th>0</th>\n",
       "      <td>60</td>\n",
       "      <td>1</td>\n",
       "      <td>3</td>\n",
       "      <td>145</td>\n",
       "      <td>233</td>\n",
       "      <td>1</td>\n",
       "      <td>0</td>\n",
       "      <td>150</td>\n",
       "      <td>0</td>\n",
       "      <td>2.3</td>\n",
       "      <td>0</td>\n",
       "      <td>0</td>\n",
       "      <td>1</td>\n",
       "      <td>1</td>\n",
       "    </tr>\n",
       "    <tr>\n",
       "      <th>1</th>\n",
       "      <td>35</td>\n",
       "      <td>1</td>\n",
       "      <td>2</td>\n",
       "      <td>130</td>\n",
       "      <td>250</td>\n",
       "      <td>0</td>\n",
       "      <td>1</td>\n",
       "      <td>187</td>\n",
       "      <td>0</td>\n",
       "      <td>3.5</td>\n",
       "      <td>0</td>\n",
       "      <td>0</td>\n",
       "      <td>2</td>\n",
       "      <td>1</td>\n",
       "    </tr>\n",
       "    <tr>\n",
       "      <th>2</th>\n",
       "      <td>41</td>\n",
       "      <td>0</td>\n",
       "      <td>1</td>\n",
       "      <td>130</td>\n",
       "      <td>204</td>\n",
       "      <td>0</td>\n",
       "      <td>0</td>\n",
       "      <td>172</td>\n",
       "      <td>0</td>\n",
       "      <td>1.4</td>\n",
       "      <td>2</td>\n",
       "      <td>0</td>\n",
       "      <td>2</td>\n",
       "      <td>1</td>\n",
       "    </tr>\n",
       "    <tr>\n",
       "      <th>3</th>\n",
       "      <td>55</td>\n",
       "      <td>1</td>\n",
       "      <td>1</td>\n",
       "      <td>120</td>\n",
       "      <td>236</td>\n",
       "      <td>0</td>\n",
       "      <td>1</td>\n",
       "      <td>178</td>\n",
       "      <td>0</td>\n",
       "      <td>0.8</td>\n",
       "      <td>2</td>\n",
       "      <td>0</td>\n",
       "      <td>2</td>\n",
       "      <td>1</td>\n",
       "    </tr>\n",
       "    <tr>\n",
       "      <th>4</th>\n",
       "      <td>56</td>\n",
       "      <td>0</td>\n",
       "      <td>0</td>\n",
       "      <td>120</td>\n",
       "      <td>354</td>\n",
       "      <td>0</td>\n",
       "      <td>1</td>\n",
       "      <td>163</td>\n",
       "      <td>1</td>\n",
       "      <td>0.6</td>\n",
       "      <td>2</td>\n",
       "      <td>0</td>\n",
       "      <td>2</td>\n",
       "      <td>1</td>\n",
       "    </tr>\n",
       "  </tbody>\n",
       "</table>\n",
       "</div>"
      ],
      "text/plain": [
       "   age  sex  cp  trtbps  chol  fbs  restecg  thalachh  exng  oldpeak  slp  \\\n",
       "0   60    1   3     145   233    1        0       150     0      2.3    0   \n",
       "1   35    1   2     130   250    0        1       187     0      3.5    0   \n",
       "2   41    0   1     130   204    0        0       172     0      1.4    2   \n",
       "3   55    1   1     120   236    0        1       178     0      0.8    2   \n",
       "4   56    0   0     120   354    0        1       163     1      0.6    2   \n",
       "\n",
       "   caa  thall  output  \n",
       "0    0      1       1  \n",
       "1    0      2       1  \n",
       "2    0      2       1  \n",
       "3    0      2       1  \n",
       "4    0      2       1  "
      ]
     },
     "execution_count": 38,
     "metadata": {},
     "output_type": "execute_result"
    }
   ],
   "source": [
    "df.head()"
   ]
  },
  {
   "cell_type": "code",
   "execution_count": 46,
   "id": "b5ac73da",
   "metadata": {},
   "outputs": [],
   "source": [
    "cat_variables=['sex','cp','restecg','exng','slp']"
   ]
  },
  {
   "cell_type": "code",
   "execution_count": 47,
   "id": "20d61b8c",
   "metadata": {},
   "outputs": [],
   "source": [
    "df=pd.get_dummies(data=df,prefix=cat_variables,columns=cat_variables)"
   ]
  },
  {
   "cell_type": "code",
   "execution_count": 48,
   "id": "25aba16f",
   "metadata": {},
   "outputs": [
    {
     "data": {
      "text/html": [
       "<div>\n",
       "<style scoped>\n",
       "    .dataframe tbody tr th:only-of-type {\n",
       "        vertical-align: middle;\n",
       "    }\n",
       "\n",
       "    .dataframe tbody tr th {\n",
       "        vertical-align: top;\n",
       "    }\n",
       "\n",
       "    .dataframe thead th {\n",
       "        text-align: right;\n",
       "    }\n",
       "</style>\n",
       "<table border=\"1\" class=\"dataframe\">\n",
       "  <thead>\n",
       "    <tr style=\"text-align: right;\">\n",
       "      <th></th>\n",
       "      <th>age</th>\n",
       "      <th>trtbps</th>\n",
       "      <th>chol</th>\n",
       "      <th>fbs</th>\n",
       "      <th>thalachh</th>\n",
       "      <th>oldpeak</th>\n",
       "      <th>caa</th>\n",
       "      <th>thall</th>\n",
       "      <th>output</th>\n",
       "      <th>sex_0</th>\n",
       "      <th>...</th>\n",
       "      <th>cp_2</th>\n",
       "      <th>cp_3</th>\n",
       "      <th>restecg_0</th>\n",
       "      <th>restecg_1</th>\n",
       "      <th>restecg_2</th>\n",
       "      <th>exng_0</th>\n",
       "      <th>exng_1</th>\n",
       "      <th>slp_0</th>\n",
       "      <th>slp_1</th>\n",
       "      <th>slp_2</th>\n",
       "    </tr>\n",
       "  </thead>\n",
       "  <tbody>\n",
       "    <tr>\n",
       "      <th>0</th>\n",
       "      <td>60</td>\n",
       "      <td>145</td>\n",
       "      <td>233</td>\n",
       "      <td>1</td>\n",
       "      <td>150</td>\n",
       "      <td>2.3</td>\n",
       "      <td>0</td>\n",
       "      <td>1</td>\n",
       "      <td>1</td>\n",
       "      <td>0</td>\n",
       "      <td>...</td>\n",
       "      <td>0</td>\n",
       "      <td>1</td>\n",
       "      <td>1</td>\n",
       "      <td>0</td>\n",
       "      <td>0</td>\n",
       "      <td>1</td>\n",
       "      <td>0</td>\n",
       "      <td>1</td>\n",
       "      <td>0</td>\n",
       "      <td>0</td>\n",
       "    </tr>\n",
       "    <tr>\n",
       "      <th>1</th>\n",
       "      <td>35</td>\n",
       "      <td>130</td>\n",
       "      <td>250</td>\n",
       "      <td>0</td>\n",
       "      <td>187</td>\n",
       "      <td>3.5</td>\n",
       "      <td>0</td>\n",
       "      <td>2</td>\n",
       "      <td>1</td>\n",
       "      <td>0</td>\n",
       "      <td>...</td>\n",
       "      <td>1</td>\n",
       "      <td>0</td>\n",
       "      <td>0</td>\n",
       "      <td>1</td>\n",
       "      <td>0</td>\n",
       "      <td>1</td>\n",
       "      <td>0</td>\n",
       "      <td>1</td>\n",
       "      <td>0</td>\n",
       "      <td>0</td>\n",
       "    </tr>\n",
       "    <tr>\n",
       "      <th>2</th>\n",
       "      <td>41</td>\n",
       "      <td>130</td>\n",
       "      <td>204</td>\n",
       "      <td>0</td>\n",
       "      <td>172</td>\n",
       "      <td>1.4</td>\n",
       "      <td>0</td>\n",
       "      <td>2</td>\n",
       "      <td>1</td>\n",
       "      <td>1</td>\n",
       "      <td>...</td>\n",
       "      <td>0</td>\n",
       "      <td>0</td>\n",
       "      <td>1</td>\n",
       "      <td>0</td>\n",
       "      <td>0</td>\n",
       "      <td>1</td>\n",
       "      <td>0</td>\n",
       "      <td>0</td>\n",
       "      <td>0</td>\n",
       "      <td>1</td>\n",
       "    </tr>\n",
       "    <tr>\n",
       "      <th>3</th>\n",
       "      <td>55</td>\n",
       "      <td>120</td>\n",
       "      <td>236</td>\n",
       "      <td>0</td>\n",
       "      <td>178</td>\n",
       "      <td>0.8</td>\n",
       "      <td>0</td>\n",
       "      <td>2</td>\n",
       "      <td>1</td>\n",
       "      <td>0</td>\n",
       "      <td>...</td>\n",
       "      <td>0</td>\n",
       "      <td>0</td>\n",
       "      <td>0</td>\n",
       "      <td>1</td>\n",
       "      <td>0</td>\n",
       "      <td>1</td>\n",
       "      <td>0</td>\n",
       "      <td>0</td>\n",
       "      <td>0</td>\n",
       "      <td>1</td>\n",
       "    </tr>\n",
       "    <tr>\n",
       "      <th>4</th>\n",
       "      <td>56</td>\n",
       "      <td>120</td>\n",
       "      <td>354</td>\n",
       "      <td>0</td>\n",
       "      <td>163</td>\n",
       "      <td>0.6</td>\n",
       "      <td>0</td>\n",
       "      <td>2</td>\n",
       "      <td>1</td>\n",
       "      <td>1</td>\n",
       "      <td>...</td>\n",
       "      <td>0</td>\n",
       "      <td>0</td>\n",
       "      <td>0</td>\n",
       "      <td>1</td>\n",
       "      <td>0</td>\n",
       "      <td>0</td>\n",
       "      <td>1</td>\n",
       "      <td>0</td>\n",
       "      <td>0</td>\n",
       "      <td>1</td>\n",
       "    </tr>\n",
       "  </tbody>\n",
       "</table>\n",
       "<p>5 rows × 23 columns</p>\n",
       "</div>"
      ],
      "text/plain": [
       "   age  trtbps  chol  fbs  thalachh  oldpeak  caa  thall  output  sex_0  ...  \\\n",
       "0   60     145   233    1       150      2.3    0      1       1      0  ...   \n",
       "1   35     130   250    0       187      3.5    0      2       1      0  ...   \n",
       "2   41     130   204    0       172      1.4    0      2       1      1  ...   \n",
       "3   55     120   236    0       178      0.8    0      2       1      0  ...   \n",
       "4   56     120   354    0       163      0.6    0      2       1      1  ...   \n",
       "\n",
       "   cp_2  cp_3  restecg_0  restecg_1  restecg_2  exng_0  exng_1  slp_0  slp_1  \\\n",
       "0     0     1          1          0          0       1       0      1      0   \n",
       "1     1     0          0          1          0       1       0      1      0   \n",
       "2     0     0          1          0          0       1       0      0      0   \n",
       "3     0     0          0          1          0       1       0      0      0   \n",
       "4     0     0          0          1          0       0       1      0      0   \n",
       "\n",
       "   slp_2  \n",
       "0      0  \n",
       "1      0  \n",
       "2      1  \n",
       "3      1  \n",
       "4      1  \n",
       "\n",
       "[5 rows x 23 columns]"
      ]
     },
     "execution_count": 48,
     "metadata": {},
     "output_type": "execute_result"
    }
   ],
   "source": [
    "df.head()"
   ]
  },
  {
   "cell_type": "code",
   "execution_count": 49,
   "id": "626ff727",
   "metadata": {},
   "outputs": [],
   "source": [
    "features=df.columns\n",
    "features=features.drop('output')"
   ]
  },
  {
   "cell_type": "code",
   "execution_count": 50,
   "id": "4cc85ea9",
   "metadata": {},
   "outputs": [
    {
     "name": "stdout",
     "output_type": "stream",
     "text": [
      "x_train: 231\n",
      "x_val: 58\n",
      "proportion: 0.593\n"
     ]
    }
   ],
   "source": [
    "x_train,x_val,y_train,y_val=train_test_split(df[features],df['output'],train_size=0.8,random_state=55)\n",
    "print(f'x_train: {len(x_train)}')\n",
    "print(f'x_val: {len(x_val)}')\n",
    "print(f'proportion: {sum(y_train)/len(y_train):.3f}')"
   ]
  },
  {
   "cell_type": "markdown",
   "id": "6fd4f460",
   "metadata": {},
   "source": [
    "#### decision tree"
   ]
  },
  {
   "cell_type": "code",
   "execution_count": 53,
   "id": "d7206bce",
   "metadata": {},
   "outputs": [],
   "source": [
    "min_samples_split=[2,10,30,50,80,100,150,190,200]\n",
    "max_depth=[1,2,4,16,32,64]"
   ]
  },
  {
   "cell_type": "code",
   "execution_count": 54,
   "id": "99df2a85",
   "metadata": {},
   "outputs": [
    {
     "data": {
      "text/plain": [
       "<matplotlib.legend.Legend at 0x236a16c4460>"
      ]
     },
     "execution_count": 54,
     "metadata": {},
     "output_type": "execute_result"
    },
    {
     "data": {
      "image/png": "[encoded data removed]",
      "text/plain": [
       "<Figure size 432x288 with 1 Axes>"
      ]
     },
     "metadata": {
      "needs_background": "light"
     },
     "output_type": "display_data"
    }
   ],
   "source": [
    "acc_train_list=[]\n",
    "acc_val_list=[]\n",
    "for samples in min_samples_split:\n",
    "    model=DecisionTreeClassifier(min_samples_split=samples,random_state=55).fit(x_train,y_train)\n",
    "    predictions_train=model.predict(x_train)\n",
    "    predictions_val=model.predict(x_val)\n",
    "    acc_train=accuracy_score(predictions_train,y_train)\n",
    "    acc_val=accuracy_score(predictions_val,y_val)\n",
    "    acc_train_list.append(acc_train)\n",
    "    acc_val_list.append(acc_val)\n",
    "\n",
    "plt.title('tree')\n",
    "plt.xlabel('samples')\n",
    "plt.ylabel('acc')\n",
    "plt.xticks(ticks=range(len(min_samples_split)),labels=min_samples_split)\n",
    "plt.plot(acc_train_list,label='train')\n",
    "plt.plot(acc_val_list,label='val')\n",
    "plt.legend()"
   ]
  },
  {
   "cell_type": "code",
   "execution_count": 55,
   "id": "1d2d171e",
   "metadata": {},
   "outputs": [
    {
     "data": {
      "text/plain": [
       "<matplotlib.legend.Legend at 0x236a175fdf0>"
      ]
     },
     "execution_count": 55,
     "metadata": {},
     "output_type": "execute_result"
    },
    {
     "data": {
      "image/png": "[encoded data removed]",
      "text/plain": [
       "<Figure size 432x288 with 1 Axes>"
      ]
     },
     "metadata": {
      "needs_background": "light"
     },
     "output_type": "display_data"
    }
   ],
   "source": [
    "acc_train_list=[]\n",
    "acc_val_list=[]\n",
    "for depth in max_depth:\n",
    "    model=DecisionTreeClassifier(max_depth=depth,random_state=55).fit(x_train,y_train)\n",
    "    predictions_train=model.predict(x_train)\n",
    "    predictions_val=model.predict(x_val)\n",
    "    acc_train=accuracy_score(predictions_train,y_train)\n",
    "    acc_val=accuracy_score(predictions_val,y_val)\n",
    "    acc_train_list.append(acc_train)\n",
    "    acc_val_list.append(acc_val)\n",
    "\n",
    "plt.title('tree')\n",
    "plt.xlabel('depth')\n",
    "plt.ylabel('acc')\n",
    "plt.xticks(ticks=range(len(max_depth)),labels=max_depth)\n",
    "plt.plot(acc_train_list,label='train')\n",
    "plt.plot(acc_val_list,label='val')\n",
    "plt.legend()"
   ]
  },
  {
   "cell_type": "markdown",
   "id": "3ced38f3",
   "metadata": {},
   "source": [
    "best performance for `max_depth=4`, `min_samples=30`"
   ]
  },
  {
   "cell_type": "code",
   "execution_count": 56,
   "id": "270aafff",
   "metadata": {},
   "outputs": [],
   "source": [
    "decision_tree=DecisionTreeClassifier(min_samples_split=30,max_depth=4,random_state=55).fit(x_train,y_train)"
   ]
  },
  {
   "cell_type": "code",
   "execution_count": 60,
   "id": "26308c16",
   "metadata": {},
   "outputs": [
    {
     "name": "stdout",
     "output_type": "stream",
     "text": [
      "accuracy_train: 0.870\n",
      "accuracy_val: 0.759\n"
     ]
    }
   ],
   "source": [
    "print(f'accuracy_train: {accuracy_score(decision_tree.predict(x_train),y_train):.3f}')\n",
    "print(f'accuracy_val: {accuracy_score(decision_tree.predict(x_val),y_val):.3f}')"
   ]
  },
  {
   "cell_type": "code",
   "execution_count": null,
   "id": "df950476",
   "metadata": {},
   "outputs": [],
   "source": []
  }
 ],
 "metadata": {
  "kernelspec": {
   "display_name": "Python 3 (ipykernel)",
   "language": "python",
   "name": "python3"
  },
  "language_info": {
   "codemirror_mode": {
    "name": "ipython",
    "version": 3
   },
   "file_extension": ".py",
   "mimetype": "text/x-python",
   "name": "python",
   "nbconvert_exporter": "python",
   "pygments_lexer": "ipython3",
   "version": "3.8.12"
  }
 },
 "nbformat": 4,
 "nbformat_minor": 5
}
