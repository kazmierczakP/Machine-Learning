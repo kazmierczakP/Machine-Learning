{
 "cells": [
  {
   "cell_type": "markdown",
   "id": "9907a026",
   "metadata": {},
   "source": [
    "# Decision tree"
   ]
  },
  {
   "cell_type": "markdown",
   "id": "7f6f8f49",
   "metadata": {},
   "source": [
    "Stop splitting rules:\n",
    "\n",
    "    - 100% of one class in node\n",
    "    - exceeding max depth\n",
    "    - improvements in purity below treshold\n",
    "    - number of examples below treshold"
   ]
  },
  {
   "cell_type": "markdown",
   "id": "de5f14f4",
   "metadata": {},
   "source": [
    "***"
   ]
  },
  {
   "cell_type": "markdown",
   "id": "23737ad7",
   "metadata": {},
   "source": [
    "## Splitting rules"
   ]
  },
  {
   "cell_type": "markdown",
   "id": "41243d29",
   "metadata": {},
   "source": [
    "### Entropy"
   ]
  },
  {
   "cell_type": "markdown",
   "id": "09d63398",
   "metadata": {},
   "source": [
    "Measure of impurity of the node. Takes values between 0 and 1 (the smaller the better)."
   ]
  },
  {
   "cell_type": "markdown",
   "id": "95c6c656",
   "metadata": {},
   "source": [
    "$$ E = - \\sum_{i=1}^{m} p_i*log_2(p_i) = -p_1*log_2(p_1)-(1-p_1)*log_2(1-p_1) $$"
   ]
  },
  {
   "cell_type": "markdown",
   "id": "bc45fe01",
   "metadata": {},
   "source": [
    "pi - probability of selecting class i in the node"
   ]
  },
  {
   "cell_type": "code",
   "execution_count": 13,
   "id": "15cdf856",
   "metadata": {},
   "outputs": [
    {
     "data": {
      "text/plain": [
       "Text(0.5, 1.0, 'Entropy')"
      ]
     },
     "execution_count": 13,
     "metadata": {},
     "output_type": "execute_result"
    },
    {
     "data": {
      "image/png": "[encoded data removed]",
      "text/plain": [
       "<Figure size 432x288 with 1 Axes>"
      ]
     },
     "metadata": {
      "needs_background": "light"
     },
     "output_type": "display_data"
    }
   ],
   "source": [
    "import matplotlib.pyplot as plt\n",
    "import numpy as np\n",
    "x=np.linspace(0.01,0.99,100)\n",
    "plt.plot(x,-x*np.log2(x)-(1-x)*np.log2(1-x))\n",
    "plt.xlabel('p1')\n",
    "plt.ylabel('H')\n",
    "plt.title('Entropy')"
   ]
  },
  {
   "cell_type": "markdown",
   "id": "0423fb2d",
   "metadata": {},
   "source": [
    "### Gini"
   ]
  },
  {
   "cell_type": "markdown",
   "id": "5bd07543",
   "metadata": {},
   "source": [
    "Another cryterium for measuring purity of node. Takes values between 0 and 0.5 (the smaller the better)."
   ]
  },
  {
   "cell_type": "markdown",
   "id": "83fe4051",
   "metadata": {},
   "source": [
    "$$ Gini = 1 - \\sum_{i=1}^{m} p_i^{2} = 1-p_1^{2}-(1-p_1)^{2} $$"
   ]
  },
  {
   "cell_type": "markdown",
   "id": "5b9f0324",
   "metadata": {},
   "source": [
    "***"
   ]
  },
  {
   "cell_type": "markdown",
   "id": "2c715d4a",
   "metadata": {},
   "source": [
    "### Information gain"
   ]
  },
  {
   "cell_type": "markdown",
   "id": "f9d4c8cd",
   "metadata": {},
   "source": [
    "Used to choose the feature to split the data in node. `The higher the better`."
   ]
  },
  {
   "cell_type": "markdown",
   "id": "db4f87b9",
   "metadata": {},
   "source": [
    "$$ Information Gain = H(p_1)^{root} - (w^{left}*H(p_1)^{left}+w^{right}*H(p_1)^{right}) $$"
   ]
  },
  {
   "cell_type": "markdown",
   "id": "f10b7ffc",
   "metadata": {},
   "source": [
    "w stands for wighted average"
   ]
  },
  {
   "cell_type": "markdown",
   "id": "78c02942",
   "metadata": {},
   "source": [
    "***"
   ]
  },
  {
   "cell_type": "markdown",
   "id": "2a2e09a1",
   "metadata": {},
   "source": [
    "## One-hot encoding"
   ]
  },
  {
   "cell_type": "markdown",
   "id": "3a9cb164",
   "metadata": {},
   "source": [
    "Instead on `one feature taking n values`, create `n features taking 0 or 1 values` (whwther the feature is present for the record)"
   ]
  },
  {
   "cell_type": "markdown",
   "id": "6c9ed8ce",
   "metadata": {},
   "source": [
    "With this setup we can still use the splitting cryterions like `Gini` or `Entropy`"
   ]
  },
  {
   "cell_type": "markdown",
   "id": "b235249d",
   "metadata": {},
   "source": [
    "## Continuous features"
   ]
  },
  {
   "cell_type": "markdown",
   "id": "d43c6396",
   "metadata": {},
   "source": [
    "For continous values choose a `threshold` that can split the data best (has the best `information gain`)."
   ]
  },
  {
   "cell_type": "markdown",
   "id": "43391294",
   "metadata": {},
   "source": [
    "***"
   ]
  },
  {
   "cell_type": "markdown",
   "id": "1370f036",
   "metadata": {},
   "source": [
    "# Regression tree"
   ]
  },
  {
   "cell_type": "markdown",
   "id": "0795f790",
   "metadata": {},
   "source": [
    "Tree will group the observations and return `average value` of the `continuous feture` in the `group`."
   ]
  },
  {
   "cell_type": "markdown",
   "id": "8132c588",
   "metadata": {},
   "source": [
    "Splits will be made by reducing the `variance` of the continuous feature in groups."
   ]
  },
  {
   "cell_type": "markdown",
   "id": "4164f8f4",
   "metadata": {},
   "source": [
    "Information Gain will use `variance instead of entropy` and show largest variance reduction."
   ]
  },
  {
   "cell_type": "markdown",
   "id": "28e3d834",
   "metadata": {},
   "source": [
    "$$ Information Gain = Variance^{root} - (w^{left}*Variance^{left}+w^{right}*Variance^{right}) $$"
   ]
  },
  {
   "cell_type": "markdown",
   "id": "65122804",
   "metadata": {},
   "source": [
    "w stands for wighted average"
   ]
  },
  {
   "cell_type": "markdown",
   "id": "3ebc103c",
   "metadata": {},
   "source": [
    "***"
   ]
  },
  {
   "cell_type": "code",
   "execution_count": 17,
   "id": "a822bf97",
   "metadata": {},
   "outputs": [],
   "source": [
    "import numpy as np"
   ]
  },
  {
   "cell_type": "code",
   "execution_count": 40,
   "id": "b62d109a",
   "metadata": {},
   "outputs": [],
   "source": [
    "x=np.array([[1,1,1],[0,0,1],[0,1,0],[1,0,1],[1,1,1],[1,1,0],[0,0,0],[1,1,0],[0,1,0],[0,1,0]])\n",
    "y=np.array([1,1,0,0,1,1,0,1,0,0])"
   ]
  },
  {
   "cell_type": "code",
   "execution_count": 41,
   "id": "de97693b",
   "metadata": {},
   "outputs": [
    {
     "name": "stdout",
     "output_type": "stream",
     "text": [
      "1.0\n"
     ]
    }
   ],
   "source": [
    "def entropy(p):\n",
    "    if p==0 or p==1:\n",
    "        return 0\n",
    "    else:\n",
    "        return -p*np.log2(p)-(1-p)*np.log2(1-p)\n",
    "print(entropy(0.5))"
   ]
  },
  {
   "cell_type": "code",
   "execution_count": 42,
   "id": "68a40a3f",
   "metadata": {},
   "outputs": [],
   "source": [
    "def split_incides(X,index_feature):\n",
    "    left_incides=[]\n",
    "    right_incides=[]\n",
    "    for i,x in enumerate(X):\n",
    "        if x[index_feature]==1:\n",
    "            left_incides.append(i)\n",
    "        else:\n",
    "            right_incides.append(i)\n",
    "    return left_incides, right_incides"
   ]
  },
  {
   "cell_type": "code",
   "execution_count": 51,
   "id": "79c99368",
   "metadata": {},
   "outputs": [],
   "source": [
    "def weighted_entropy(X,Y,left_incides,right_incides):\n",
    "    w_left=len(left_incides)/len(X)\n",
    "    w_right=len(right_incides)/len(X)\n",
    "    p_left=sum(Y[left_incides])/len(left_incides)\n",
    "    p_right=sum(Y[right_incides])/len(right_incides)\n",
    "    \n",
    "    weighted_entropy=w_left*entropy(p_left)+w_right*entropy(p_right)\n",
    "    return weighted_entropy"
   ]
  },
  {
   "cell_type": "code",
   "execution_count": 54,
   "id": "31fc11bb",
   "metadata": {},
   "outputs": [
    {
     "data": {
      "text/plain": [
       "0.7219280948873623"
      ]
     },
     "execution_count": 54,
     "metadata": {},
     "output_type": "execute_result"
    }
   ],
   "source": [
    "left_incides,right_incides=split_incides(x,0)\n",
    "weighted_entropy(x,y,left_incides,right_incides)"
   ]
  },
  {
   "cell_type": "code",
   "execution_count": 55,
   "id": "8a143090",
   "metadata": {},
   "outputs": [],
   "source": [
    "def information_gain(X,Y,left_incides,right_incides):\n",
    "    p_node=sum(Y)/len(Y)\n",
    "    h_node=entropy(p_node)\n",
    "    w_entropy=weighted_entropy(X,Y,left_incides,right_incides)\n",
    "    return h_node-w_entropy"
   ]
  },
  {
   "cell_type": "code",
   "execution_count": 57,
   "id": "0d50ca4d",
   "metadata": {},
   "outputs": [
    {
     "data": {
      "text/plain": [
       "0.2780719051126377"
      ]
     },
     "execution_count": 57,
     "metadata": {},
     "output_type": "execute_result"
    }
   ],
   "source": [
    "information_gain(x,y,left_incides,right_incides)"
   ]
  },
  {
   "cell_type": "code",
   "execution_count": 59,
   "id": "ad79cdc0",
   "metadata": {},
   "outputs": [
    {
     "name": "stdout",
     "output_type": "stream",
     "text": [
      "feature: ear, informatio gain: 0.278\n",
      "feature: face, informatio gain: 0.035\n",
      "feature: hair, informatio gain: 0.125\n"
     ]
    }
   ],
   "source": [
    "for i, feature in enumerate(['ear','face','hair']):\n",
    "    left_incides,right_incides=split_incides(x,i)\n",
    "    i_gain=information_gain(x,y,left_incides,right_incides)\n",
    "    print(f'feature: {feature}, informatio gain: {i_gain:.3f}')"
   ]
  },
  {
   "cell_type": "markdown",
   "id": "5c472cc4",
   "metadata": {},
   "source": [
    "***"
   ]
  },
  {
   "cell_type": "markdown",
   "id": "afd8e5e7",
   "metadata": {},
   "source": [
    "# Tree ensembles"
   ]
  },
  {
   "cell_type": "code",
   "execution_count": null,
   "id": "2e5acc35",
   "metadata": {},
   "outputs": [],
   "source": []
  }
 ],
 "metadata": {
  "kernelspec": {
   "display_name": "Python 3 (ipykernel)",
   "language": "python",
   "name": "python3"
  },
  "language_info": {
   "codemirror_mode": {
    "name": "ipython",
    "version": 3
   },
   "file_extension": ".py",
   "mimetype": "text/x-python",
   "name": "python",
   "nbconvert_exporter": "python",
   "pygments_lexer": "ipython3",
   "version": "3.8.12"
  }
 },
 "nbformat": 4,
 "nbformat_minor": 5
}
