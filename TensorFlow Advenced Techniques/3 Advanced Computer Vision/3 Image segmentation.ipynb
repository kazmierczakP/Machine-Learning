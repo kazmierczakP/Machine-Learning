{
 "cells": [
  {
   "cell_type": "markdown",
   "id": "2b64a316-b53a-46fc-a355-0991a44d9117",
   "metadata": {},
   "source": [
    "# Image segmantation"
   ]
  },
  {
   "cell_type": "markdown",
   "id": "6fbc2359-1d48-4d5b-b803-8f8fb761618c",
   "metadata": {},
   "source": [
    "#### F-CNN \n",
    "Fully Convolutional Neural Network (not `Fully Connected` Neural Network)\n",
    "\n",
    "- `semantic segmentation` - all objects form single segment, each pixel associated to one segemnt\n",
    "- `instance segmentation` - objects of the same type are treated as different object\n",
    "\n",
    "---\n",
    "\n",
    "### Image segmentation architecture\n",
    "\n",
    "#### Encoder (feature extractor, dowsncsales image): \n",
    "- CNN with fully connected layers\n",
    "- aggregates low level fearures to high level features (like eyes & ears)\n",
    "\n",
    "#### Decoder (adds back the features lost in encoding, upscales image):\n",
    "- replaces fully connected layers in a CNN\n",
    "- up samples image to its original size to generate pixel mask\n",
    "- FCN-32, FCN-16, FCN-8\n",
    "- ---"
   ]
  },
  {
   "cell_type": "markdown",
   "id": "cd90573e-f192-40f8-a69b-c245a639e1b6",
   "metadata": {},
   "source": [
    "#### SegNet\n",
    "\n",
    "- architecture like Autoencoder,\n",
    "- for every Pooling layer in encoder\n",
    "- Upsampling layer in decoder\n",
    "\n",
    "![alt text](segnet.png \"Title\")\n",
    "---"
   ]
  },
  {
   "cell_type": "markdown",
   "id": "c39671fa-6e2e-477e-975f-57507340d615",
   "metadata": {},
   "source": [
    "---\n",
    "### F-CNN architecture\n",
    "- FCN-32 uses last layer from the encoder (enlarges it by 32 times after encoder shrinked it 32 times (each layer by 2x))\n",
    "- FCN-16 uses 2 last layes from the encoder (takes output of last pool, upsamples it 2 times and combines with output of one before last pool layer. Then enlares the dimentionality by 16 times)\n",
    "- FCN-8 like previous one uses three last layers outputs and enlarges the output by 8\n",
    "![alt text](decoder.png \"Title\")\n",
    "#### Upsampling (decoder upsamples image to its original size):\n",
    "- reverse of pooling (instead of making pixel with the value being avg of 4 pixsels)\n",
    "- uses a kernel like Convlution layer\n",
    "\n",
    "#### Upsampling methods:\n",
    "- `UpSampling2D` `x=UPSampling2D((2,2),'nearest'/'bilinear')`\n",
    "- `Conv2DTranspose` (reverse of convolution using some kernel) `Conv2DTranspose(32,(3,3))`\n",
    "---"
   ]
  },
  {
   "cell_type": "markdown",
   "id": "5c776612-0d46-4878-a444-234644cec150",
   "metadata": {},
   "source": [
    "#### data"
   ]
  },
  {
   "cell_type": "code",
   "execution_count": 25,
   "id": "e573a337-573d-4b5b-9da9-7a3e14c15234",
   "metadata": {},
   "outputs": [],
   "source": [
    "import tensorflow as tf\n",
    "import tensorflow_datasets as tfds\n",
    "import os\n",
    "import zipfile\n",
    "import numpy as np\n",
    "import matplotlib.pyplot as plt\n",
    "#import h5py as h5py"
   ]
  },
  {
   "cell_type": "code",
   "execution_count": null,
   "id": "f66cc361-2e68-4e82-9d75-63449e5d1868",
   "metadata": {},
   "outputs": [],
   "source": [
    "# !wget https://storage.googleapis.com/learning-datasets/fcnn-dataset.zip  -O /tmp/fcnn-dataset.zip"
   ]
  },
  {
   "cell_type": "code",
   "execution_count": 3,
   "id": "9fdbc0ab-4220-4327-ba4a-499bdef0c1cd",
   "metadata": {},
   "outputs": [],
   "source": [
    "local_zip = './data/fcnn-dataset.zip'\n",
    "zip_ref = zipfile.ZipFile(local_zip, 'r')\n",
    "zip_ref.extractall('./data/fcnn')\n",
    "zip_ref.close()"
   ]
  },
  {
   "cell_type": "code",
   "execution_count": 2,
   "id": "bb46a14b-eb4f-48cd-9297-032d2fc93d4f",
   "metadata": {},
   "outputs": [],
   "source": [
    "class_names = ['sky', 'building','column/pole', 'road', 'side walk', 'vegetation', 'traffic light', 'fence', 'vehicle', 'pedestrian', 'byciclist', 'void']"
   ]
  },
  {
   "cell_type": "code",
   "execution_count": 3,
   "id": "7e46801f-1b69-4233-9f0e-f18fc1de7120",
   "metadata": {},
   "outputs": [],
   "source": [
    "def map_filename_to_image_and_mask(t_filename, a_filename, height=224, width=224):\n",
    "  img_raw = tf.io.read_file(t_filename)\n",
    "  anno_raw = tf.io.read_file(a_filename)\n",
    "  image = tf.image.decode_jpeg(img_raw)\n",
    "  annotation = tf.image.decode_jpeg(anno_raw)\n",
    "\n",
    "  image = tf.image.resize(image, (height, width,))\n",
    "  annotation = tf.image.resize(annotation, (height, width,))\n",
    "  image = tf.reshape(image, (height, width, 3,))\n",
    "  annotation = tf.cast(annotation, dtype=tf.int32)\n",
    "  annotation = tf.reshape(annotation, (height, width, 1,))\n",
    "  stack_list = []\n",
    "\n",
    "  for c in range(len(class_names)):\n",
    "    mask = tf.equal(annotation[:,:,0], tf.constant(c))\n",
    "    stack_list.append(tf.cast(mask, dtype=tf.int32))\n",
    "\n",
    "  annotation = tf.stack(stack_list, axis=2)\n",
    "\n",
    "  image = image/127.5\n",
    "  image -= 1\n",
    "\n",
    "  return image, annotation"
   ]
  },
  {
   "cell_type": "code",
   "execution_count": 4,
   "id": "0df02815-1a7d-44a4-9c86-95e4028927af",
   "metadata": {},
   "outputs": [],
   "source": [
    "BATCH_SIZE = 64\n",
    "\n",
    "def get_dataset_slice_paths(image_dir, label_map_dir):\n",
    "  image_file_list = os.listdir(image_dir)\n",
    "  label_map_file_list = os.listdir(label_map_dir)\n",
    "  image_paths = [os.path.join(image_dir, fname) for fname in image_file_list]\n",
    "  label_map_paths = [os.path.join(label_map_dir, fname) for fname in label_map_file_list]\n",
    "\n",
    "  return image_paths, label_map_paths\n",
    "\n",
    "def get_training_dataset(image_paths, label_map_paths):\n",
    "  training_dataset = tf.data.Dataset.from_tensor_slices((image_paths, label_map_paths))\n",
    "  training_dataset = training_dataset.map(map_filename_to_image_and_mask)\n",
    "  training_dataset = training_dataset.shuffle(100, reshuffle_each_iteration=True)\n",
    "  training_dataset = training_dataset.batch(BATCH_SIZE)\n",
    "  training_dataset = training_dataset.repeat()\n",
    "  training_dataset = training_dataset.prefetch(-1)\n",
    "\n",
    "  return training_dataset\n",
    "\n",
    "def get_validation_dataset(image_paths, label_map_paths):\n",
    "  validation_dataset = tf.data.Dataset.from_tensor_slices((image_paths, label_map_paths))\n",
    "  validation_dataset = validation_dataset.map(map_filename_to_image_and_mask)\n",
    "  validation_dataset = validation_dataset.batch(BATCH_SIZE)\n",
    "  validation_dataset = validation_dataset.repeat()\n",
    "\n",
    "  return validation_dataset"
   ]
  },
  {
   "cell_type": "code",
   "execution_count": 5,
   "id": "69c562bc-fc55-4405-81a4-a8f2f057c795",
   "metadata": {},
   "outputs": [],
   "source": [
    "training_image_paths, training_label_map_paths = get_dataset_slice_paths('./data/fcnn/dataset1/images_prepped_train/','./data/fcnn/dataset1/annotations_prepped_train/')\n",
    "validation_image_paths, validation_label_map_paths = get_dataset_slice_paths('./data/fcnn/dataset1/images_prepped_test/','./data/fcnn/dataset1/annotations_prepped_test/')\n",
    "\n",
    "training_dataset = get_training_dataset(training_image_paths, training_label_map_paths)\n",
    "validation_dataset = get_validation_dataset(validation_image_paths, validation_label_map_paths)"
   ]
  },
  {
   "cell_type": "code",
   "execution_count": 6,
   "id": "bc429406-8b91-4c7e-9f35-9ba84cd82235",
   "metadata": {},
   "outputs": [
    {
     "data": {
      "text/plain": [
       "<PrefetchDataset element_spec=(TensorSpec(shape=(None, 224, 224, 3), dtype=tf.float32, name=None), TensorSpec(shape=(None, 224, 224, 12), dtype=tf.int32, name=None))>"
      ]
     },
     "execution_count": 6,
     "metadata": {},
     "output_type": "execute_result"
    }
   ],
   "source": [
    "training_dataset"
   ]
  },
  {
   "cell_type": "markdown",
   "id": "48284326-ba63-44b0-924e-8dd50caaabb4",
   "metadata": {},
   "source": [
    "#### VGG"
   ]
  },
  {
   "cell_type": "code",
   "execution_count": 7,
   "id": "205de122-2c7e-4e83-ad23-d00c25f4aecc",
   "metadata": {},
   "outputs": [],
   "source": [
    "def block(x,n_convs,filters,kernel,activation,pool_size,name):\n",
    "    for i in range(n_convs):\n",
    "        x=tf.keras.layers.Conv2D(filters,kernel,padding='same',name=f'{name}_conv{i+1}')(x)\n",
    "    x=tf.keras.layers.MaxPooling2D(pool_size,name=f'{name}_pool{i+1}')(x)\n",
    "    return x"
   ]
  },
  {
   "cell_type": "code",
   "execution_count": 8,
   "id": "af72fe86-a0a7-411c-bd6e-8ed0e3adaa99",
   "metadata": {},
   "outputs": [],
   "source": [
    "#!wget https://github.com/fchollet/deep-learning-models/releases/download/v0.1/vgg16_weights_tf_dim_ordering_tf_kernels_notop.h5\n",
    "vgg_weights_path = \"./vgg16_weights_tf_dim_ordering_tf_kernels_notop.h5\""
   ]
  },
  {
   "cell_type": "code",
   "execution_count": 17,
   "id": "791e8e21-0757-4d30-b70a-453d9ff267e8",
   "metadata": {},
   "outputs": [],
   "source": [
    "def VGG_16(image):\n",
    "    x=block(image,2,64,(3,3),'relu',(2,2),'block1')\n",
    "    p1=x\n",
    "    x=block(x,2,128,(3,3),'relu',(2,2),'block2')\n",
    "    p2=x\n",
    "    x=block(x,3,256,(3,3),'relu',(2,2),'block3')\n",
    "    p3=x\n",
    "    x=block(x,3,512,(3,3),'relu',(2,2),'block4')\n",
    "    p4=x\n",
    "    x=block(x,3,512,(3,3),'relu',(2,2),'block5')\n",
    "    p5=x\n",
    "    vgg=tf.keras.models.Model(image,p5)\n",
    "    vgg.load_weights(vgg_weights_path)\n",
    "    n=4096\n",
    "    c6 = tf.keras.layers.Conv2D( n , ( 7 , 7 ) , activation='relu' , padding='same', name=\"conv6\")(p5)\n",
    "    c7 = tf.keras.layers.Conv2D( n , ( 1 , 1 ) , activation='relu' , padding='same', name=\"conv7\")(c6)\n",
    "    return (p1,p2,p3,p4,c7)"
   ]
  },
  {
   "cell_type": "code",
   "execution_count": 18,
   "id": "d0f6f595-51f1-4813-beb7-efbdf6512737",
   "metadata": {},
   "outputs": [],
   "source": [
    "def fcn8_decoder(convs,classes):\n",
    "    f1,f2,f3,f4,f5 = convs\n",
    "    o1=tf.keras.layers.Conv2DTranspose(classes,(4,4),(2,2),use_bias=False)(f5)\n",
    "    o1=tf.keras.layers.Cropping2D((1,1))(o1)\n",
    "    o2=(f4)\n",
    "    o2=tf.keras.layers.Cropping2D((1,1))(o2) # cropping removes excess pixels form borders\n",
    "    o=tf.keras.layers.Add()([o1,o2])\n",
    "    \n",
    "    o=tf.keras.layers.Conv2DTranspose(classes,(4,4),(2,2))(o)\n",
    "    o=tf.keras.layers.Cropping2D((1,1))(o1)\n",
    "    o3=(f3)\n",
    "    o3=tf.keras.layers.Cropping2D((1,1))(o3)\n",
    "    o=tf.keras.layers.Add()([o,o3])\n",
    "\n",
    "    o=tf.keras.layers.Conv2DTranspose(classes,(8,8),(8,8),use_bias=False)(o)\n",
    "    o=tf.keras.layers.Activation('softmax')(o)\n",
    "    return o"
   ]
  },
  {
   "cell_type": "code",
   "execution_count": 22,
   "id": "4246e8c7-64e7-4bd1-b916-99e42e6f248e",
   "metadata": {},
   "outputs": [],
   "source": [
    "def segmentation_model():\n",
    "    inputs=tf.keras.layers.Input(shape=(224,224,3))\n",
    "    convs=VGG_16(inputs)\n",
    "    outputs=fcn8_decoder(convs,12)\n",
    "    model=tf.keras.models.Model(inputs=inputs,outputs=outputs)\n",
    "    return model"
   ]
  },
  {
   "cell_type": "code",
   "execution_count": 23,
   "id": "e540fa16-c3b7-4d55-b4e3-1c8dbbad0370",
   "metadata": {},
   "outputs": [
    {
     "ename": "ImportError",
     "evalue": "`load_weights` requires h5py package when loading weights from HDF5. Try installing h5py.",
     "output_type": "error",
     "traceback": [
      "\u001b[1;31m---------------------------------------------------------------------------\u001b[0m",
      "\u001b[1;31mImportError\u001b[0m                               Traceback (most recent call last)",
      "Cell \u001b[1;32mIn[23], line 1\u001b[0m\n\u001b[1;32m----> 1\u001b[0m model\u001b[38;5;241m=\u001b[39m\u001b[43msegmentation_model\u001b[49m\u001b[43m(\u001b[49m\u001b[43m)\u001b[49m\n",
      "Cell \u001b[1;32mIn[22], line 3\u001b[0m, in \u001b[0;36msegmentation_model\u001b[1;34m()\u001b[0m\n\u001b[0;32m      1\u001b[0m \u001b[38;5;28;01mdef\u001b[39;00m \u001b[38;5;21msegmentation_model\u001b[39m():\n\u001b[0;32m      2\u001b[0m     inputs\u001b[38;5;241m=\u001b[39mtf\u001b[38;5;241m.\u001b[39mkeras\u001b[38;5;241m.\u001b[39mlayers\u001b[38;5;241m.\u001b[39mInput(shape\u001b[38;5;241m=\u001b[39m(\u001b[38;5;241m224\u001b[39m,\u001b[38;5;241m224\u001b[39m,\u001b[38;5;241m3\u001b[39m))\n\u001b[1;32m----> 3\u001b[0m     convs\u001b[38;5;241m=\u001b[39m\u001b[43mVGG_16\u001b[49m\u001b[43m(\u001b[49m\u001b[43minputs\u001b[49m\u001b[43m)\u001b[49m\n\u001b[0;32m      4\u001b[0m     outputs\u001b[38;5;241m=\u001b[39mfcn8_decoder(convs,\u001b[38;5;241m12\u001b[39m)\n\u001b[0;32m      5\u001b[0m     model\u001b[38;5;241m=\u001b[39mtf\u001b[38;5;241m.\u001b[39mkeras\u001b[38;5;241m.\u001b[39mmodels\u001b[38;5;241m.\u001b[39mModel(inputs\u001b[38;5;241m=\u001b[39minputs,outputs\u001b[38;5;241m=\u001b[39moutputs)\n",
      "Cell \u001b[1;32mIn[17], line 13\u001b[0m, in \u001b[0;36mVGG_16\u001b[1;34m(image)\u001b[0m\n\u001b[0;32m     11\u001b[0m p5\u001b[38;5;241m=\u001b[39mx\n\u001b[0;32m     12\u001b[0m vgg\u001b[38;5;241m=\u001b[39mtf\u001b[38;5;241m.\u001b[39mkeras\u001b[38;5;241m.\u001b[39mModel(image,p5)\n\u001b[1;32m---> 13\u001b[0m \u001b[43mvgg\u001b[49m\u001b[38;5;241;43m.\u001b[39;49m\u001b[43mload_weights\u001b[49m\u001b[43m(\u001b[49m\u001b[43mvgg_weights_path\u001b[49m\u001b[43m)\u001b[49m\n\u001b[0;32m     14\u001b[0m n\u001b[38;5;241m=\u001b[39m\u001b[38;5;241m4096\u001b[39m\n\u001b[0;32m     15\u001b[0m c6 \u001b[38;5;241m=\u001b[39m tf\u001b[38;5;241m.\u001b[39mkeras\u001b[38;5;241m.\u001b[39mlayers\u001b[38;5;241m.\u001b[39mConv2D( n , ( \u001b[38;5;241m7\u001b[39m , \u001b[38;5;241m7\u001b[39m ) , activation\u001b[38;5;241m=\u001b[39m\u001b[38;5;124m'\u001b[39m\u001b[38;5;124mrelu\u001b[39m\u001b[38;5;124m'\u001b[39m , padding\u001b[38;5;241m=\u001b[39m\u001b[38;5;124m'\u001b[39m\u001b[38;5;124msame\u001b[39m\u001b[38;5;124m'\u001b[39m, name\u001b[38;5;241m=\u001b[39m\u001b[38;5;124m\"\u001b[39m\u001b[38;5;124mconv6\u001b[39m\u001b[38;5;124m\"\u001b[39m)(p5)\n",
      "File \u001b[1;32m~\\miniconda3\\envs\\tensorflow\\lib\\site-packages\\keras\\utils\\traceback_utils.py:70\u001b[0m, in \u001b[0;36mfilter_traceback.<locals>.error_handler\u001b[1;34m(*args, **kwargs)\u001b[0m\n\u001b[0;32m     67\u001b[0m     filtered_tb \u001b[38;5;241m=\u001b[39m _process_traceback_frames(e\u001b[38;5;241m.\u001b[39m__traceback__)\n\u001b[0;32m     68\u001b[0m     \u001b[38;5;66;03m# To get the full stack trace, call:\u001b[39;00m\n\u001b[0;32m     69\u001b[0m     \u001b[38;5;66;03m# `tf.debugging.disable_traceback_filtering()`\u001b[39;00m\n\u001b[1;32m---> 70\u001b[0m     \u001b[38;5;28;01mraise\u001b[39;00m e\u001b[38;5;241m.\u001b[39mwith_traceback(filtered_tb) \u001b[38;5;28;01mfrom\u001b[39;00m \u001b[38;5;28;01mNone\u001b[39;00m\n\u001b[0;32m     71\u001b[0m \u001b[38;5;28;01mfinally\u001b[39;00m:\n\u001b[0;32m     72\u001b[0m     \u001b[38;5;28;01mdel\u001b[39;00m filtered_tb\n",
      "File \u001b[1;32m~\\miniconda3\\envs\\tensorflow\\lib\\site-packages\\keras\\engine\\training.py:2920\u001b[0m, in \u001b[0;36mModel.load_weights\u001b[1;34m(self, filepath, by_name, skip_mismatch, options)\u001b[0m\n\u001b[0;32m   2918\u001b[0m status \u001b[38;5;241m=\u001b[39m \u001b[38;5;28;01mNone\u001b[39;00m\n\u001b[0;32m   2919\u001b[0m \u001b[38;5;28;01mif\u001b[39;00m h5py \u001b[38;5;129;01mis\u001b[39;00m \u001b[38;5;28;01mNone\u001b[39;00m:\n\u001b[1;32m-> 2920\u001b[0m     \u001b[38;5;28;01mraise\u001b[39;00m \u001b[38;5;167;01mImportError\u001b[39;00m(\n\u001b[0;32m   2921\u001b[0m         \u001b[38;5;124m\"\u001b[39m\u001b[38;5;124m`load_weights` requires h5py package when loading weights \u001b[39m\u001b[38;5;124m\"\u001b[39m\n\u001b[0;32m   2922\u001b[0m         \u001b[38;5;124m\"\u001b[39m\u001b[38;5;124mfrom HDF5. Try installing h5py.\u001b[39m\u001b[38;5;124m\"\u001b[39m\n\u001b[0;32m   2923\u001b[0m     )\n\u001b[0;32m   2924\u001b[0m \u001b[38;5;28;01mif\u001b[39;00m \u001b[38;5;129;01mnot\u001b[39;00m \u001b[38;5;28mself\u001b[39m\u001b[38;5;241m.\u001b[39m_is_graph_network \u001b[38;5;129;01mand\u001b[39;00m \u001b[38;5;129;01mnot\u001b[39;00m \u001b[38;5;28mself\u001b[39m\u001b[38;5;241m.\u001b[39mbuilt:\n\u001b[0;32m   2925\u001b[0m     \u001b[38;5;28;01mraise\u001b[39;00m \u001b[38;5;167;01mValueError\u001b[39;00m(\n\u001b[0;32m   2926\u001b[0m         \u001b[38;5;124m\"\u001b[39m\u001b[38;5;124mUnable to load weights saved in HDF5 format into a \u001b[39m\u001b[38;5;124m\"\u001b[39m\n\u001b[0;32m   2927\u001b[0m         \u001b[38;5;124m\"\u001b[39m\u001b[38;5;124msubclassed Model which has not created its variables yet. \u001b[39m\u001b[38;5;124m\"\u001b[39m\n\u001b[0;32m   2928\u001b[0m         \u001b[38;5;124m\"\u001b[39m\u001b[38;5;124mCall the Model first, then load the weights.\u001b[39m\u001b[38;5;124m\"\u001b[39m\n\u001b[0;32m   2929\u001b[0m     )\n",
      "\u001b[1;31mImportError\u001b[0m: `load_weights` requires h5py package when loading weights from HDF5. Try installing h5py."
     ]
    }
   ],
   "source": [
    "model=segmentation_model()"
   ]
  },
  {
   "cell_type": "code",
   "execution_count": null,
   "id": "7c69f8e7-2051-4cc3-84fa-da07f60d85e6",
   "metadata": {},
   "outputs": [],
   "source": [
    "model.compile(loss='categorical_crossentropy',optimizer=tf.keras.optimizers.SGD(learning_rate=1E-2, momentum=0.9, nesterov=True),metrics=['accuracy'])"
   ]
  },
  {
   "cell_type": "markdown",
   "id": "99a70d2a-b38d-46af-a51c-be576bb9e9a8",
   "metadata": {},
   "source": [
    "---"
   ]
  },
  {
   "cell_type": "markdown",
   "id": "548e802b-e2bc-4725-a23b-846ad99371b0",
   "metadata": {},
   "source": [
    "#### train"
   ]
  },
  {
   "cell_type": "code",
   "execution_count": null,
   "id": "86bbde41-cb24-45d9-a18e-f736cdaa2d33",
   "metadata": {},
   "outputs": [],
   "source": [
    "train_count = 367\n",
    "validation_count = 101\n",
    "\n",
    "EPOCHS = 170\n",
    "\n",
    "steps_per_epoch = train_count//BATCH_SIZE\n",
    "validation_steps = validation_count//BATCH_SIZE\n",
    "\n",
    "history = model.fit(training_dataset,steps_per_epoch=steps_per_epoch, validation_data=validation_dataset, validation_steps=validation_steps, epochs=EPOCHS)"
   ]
  },
  {
   "cell_type": "code",
   "execution_count": null,
   "id": "32f8d3f5-31d7-494c-a6d7-b88ce3e1c312",
   "metadata": {},
   "outputs": [],
   "source": [
    "results = model.predict(validation_dataset, steps=validation_steps)\n",
    "results = np.argmax(results, axis=3)"
   ]
  },
  {
   "cell_type": "markdown",
   "id": "850bd491-8696-49f7-801a-7140fc55a500",
   "metadata": {},
   "source": [
    "---"
   ]
  },
  {
   "cell_type": "markdown",
   "id": "4ca2e174-c27d-48fc-bd26-bfaae879450f",
   "metadata": {},
   "source": [
    "## U-Net\n",
    "\n",
    "U-Net is like F-CNN but with `skip-connections` in between.\n",
    "![alt text](u-net.png \"Title\")"
   ]
  },
  {
   "cell_type": "code",
   "execution_count": 20,
   "id": "2f179c1e-2bf9-45a5-a237-89b059f520ce",
   "metadata": {},
   "outputs": [],
   "source": [
    "import tensorflow as tf\n",
    "import tensorflow_datasets as tfds\n",
    "import matplotlib.pyplot as plt"
   ]
  },
  {
   "cell_type": "code",
   "execution_count": 2,
   "id": "bfa9ce6d-8e59-4666-9c26-25c30d827ad6",
   "metadata": {},
   "outputs": [],
   "source": [
    "def encoder_block(x,filters,kernel=(3,3),pool_size=(2,2),dropout=0.3):\n",
    "    n_convs=2\n",
    "    f=x\n",
    "    for i in range(n_convs):\n",
    "        f=tf.keras.layers.Conv2D(filters,kernel,kernel_initializer = 'he_normal', padding = 'same')(f)\n",
    "        f=tf.keras.layers.Activation('relu')(f)\n",
    "    p=tf.keras.layers.MaxPooling2D(pool_size)(f)\n",
    "    p=tf.keras.layers.Dropout(dropout)(p)\n",
    "    return f,p # we return f to pass it in skip-connection"
   ]
  },
  {
   "cell_type": "code",
   "execution_count": 3,
   "id": "7e9c5434-8789-420b-b840-8e35b54719d6",
   "metadata": {},
   "outputs": [],
   "source": [
    "def encoder(input):\n",
    "    f1,p1=encoder_block(input,64)\n",
    "    f2,p2=encoder_block(p1,128)\n",
    "    f3,p3=encoder_block(p2,256)\n",
    "    f4,p4=encoder_block(p3,512)\n",
    "    return p4, (f1,f2,f3,f4)"
   ]
  },
  {
   "cell_type": "code",
   "execution_count": 4,
   "id": "d7526c01-e135-4dea-8065-8e6f86cb0809",
   "metadata": {},
   "outputs": [],
   "source": [
    "def bottleneck(input):\n",
    "    n_convs=2\n",
    "    filters=1024\n",
    "    kernel=(3,3)\n",
    "    x=input\n",
    "    for i in range(n_convs):\n",
    "        x=tf.keras.layers.Conv2D(filters,kernel,kernel_initializer = 'he_normal',padding = 'same')(x)\n",
    "        x=tf.keras.layers.Activation('relu')(x)\n",
    "    return x"
   ]
  },
  {
   "cell_type": "code",
   "execution_count": 5,
   "id": "6d4e9e1d-1f3f-410a-8c62-232b5b473978",
   "metadata": {},
   "outputs": [],
   "source": [
    "def decoder_block(x,conv_output,filters,kernel=(3,3),strides=(2,2),dropout=0.3):\n",
    "    u=tf.keras.layers.Conv2DTranspose(filters,kernel,strides,padding = 'same')(x)\n",
    "    c=tf.keras.layers.concatenate([u,conv_output])\n",
    "    c=tf.keras.layers.Dropout(dropout)(c)\n",
    "    n_convs=2\n",
    "    for i in range(n_convs):\n",
    "        c=tf.keras.layers.Conv2D(filters,kernel,kernel_initializer = 'he_normal',padding = 'same')(c)\n",
    "        c=tf.keras.layers.Activation('relu')(c)\n",
    "    return c"
   ]
  },
  {
   "cell_type": "code",
   "execution_count": 6,
   "id": "1bc5a483-a58f-433b-a2ea-7153c18ac83b",
   "metadata": {},
   "outputs": [],
   "source": [
    "def decoder(input,convs):\n",
    "    f1,f2,f3,f4=convs\n",
    "    c6=decoder_block(input,f4,512)\n",
    "    c7=decoder_block(c6,f3,256)\n",
    "    c8=decoder_block(c7,f2,128)\n",
    "    c9=decoder_block(c8,f1,64)\n",
    "    output=tf.keras.layers.Conv2D(3,(1,1),activation='softmax')(c9)\n",
    "    return output"
   ]
  },
  {
   "cell_type": "markdown",
   "id": "3995d565-5642-44e0-a56d-adc1545cea66",
   "metadata": {},
   "source": [
    "#### model"
   ]
  },
  {
   "cell_type": "code",
   "execution_count": 7,
   "id": "589bc8c0-a349-4927-b666-3ed236f2b081",
   "metadata": {},
   "outputs": [],
   "source": [
    "def unet():\n",
    "    input=tf.keras.layers.Input(shape=(128,128,3))\n",
    "    encoder_output,convs=encoder(input)\n",
    "    bottle_neck=bottleneck(encoder_output)\n",
    "    output=decoder(bottle_neck,convs)\n",
    "    model=tf.keras.models.Model(inputs=input,outputs=output)\n",
    "    return model"
   ]
  },
  {
   "cell_type": "code",
   "execution_count": 8,
   "id": "00225ecf-57db-4a3f-ab99-298be3c52b17",
   "metadata": {},
   "outputs": [
    {
     "name": "stdout",
     "output_type": "stream",
     "text": [
      "Model: \"model\"\n",
      "__________________________________________________________________________________________________\n",
      " Layer (type)                   Output Shape         Param #     Connected to                     \n",
      "==================================================================================================\n",
      " input_1 (InputLayer)           [(None, 128, 128, 3  0           []                               \n",
      "                                )]                                                                \n",
      "                                                                                                  \n",
      " conv2d (Conv2D)                (None, 128, 128, 64  1792        ['input_1[0][0]']                \n",
      "                                )                                                                 \n",
      "                                                                                                  \n",
      " activation (Activation)        (None, 128, 128, 64  0           ['conv2d[0][0]']                 \n",
      "                                )                                                                 \n",
      "                                                                                                  \n",
      " conv2d_1 (Conv2D)              (None, 128, 128, 64  36928       ['activation[0][0]']             \n",
      "                                )                                                                 \n",
      "                                                                                                  \n",
      " activation_1 (Activation)      (None, 128, 128, 64  0           ['conv2d_1[0][0]']               \n",
      "                                )                                                                 \n",
      "                                                                                                  \n",
      " max_pooling2d (MaxPooling2D)   (None, 64, 64, 64)   0           ['activation_1[0][0]']           \n",
      "                                                                                                  \n",
      " dropout (Dropout)              (None, 64, 64, 64)   0           ['max_pooling2d[0][0]']          \n",
      "                                                                                                  \n",
      " conv2d_2 (Conv2D)              (None, 64, 64, 128)  73856       ['dropout[0][0]']                \n",
      "                                                                                                  \n",
      " activation_2 (Activation)      (None, 64, 64, 128)  0           ['conv2d_2[0][0]']               \n",
      "                                                                                                  \n",
      " conv2d_3 (Conv2D)              (None, 64, 64, 128)  147584      ['activation_2[0][0]']           \n",
      "                                                                                                  \n",
      " activation_3 (Activation)      (None, 64, 64, 128)  0           ['conv2d_3[0][0]']               \n",
      "                                                                                                  \n",
      " max_pooling2d_1 (MaxPooling2D)  (None, 32, 32, 128)  0          ['activation_3[0][0]']           \n",
      "                                                                                                  \n",
      " dropout_1 (Dropout)            (None, 32, 32, 128)  0           ['max_pooling2d_1[0][0]']        \n",
      "                                                                                                  \n",
      " conv2d_4 (Conv2D)              (None, 32, 32, 256)  295168      ['dropout_1[0][0]']              \n",
      "                                                                                                  \n",
      " activation_4 (Activation)      (None, 32, 32, 256)  0           ['conv2d_4[0][0]']               \n",
      "                                                                                                  \n",
      " conv2d_5 (Conv2D)              (None, 32, 32, 256)  590080      ['activation_4[0][0]']           \n",
      "                                                                                                  \n",
      " activation_5 (Activation)      (None, 32, 32, 256)  0           ['conv2d_5[0][0]']               \n",
      "                                                                                                  \n",
      " max_pooling2d_2 (MaxPooling2D)  (None, 16, 16, 256)  0          ['activation_5[0][0]']           \n",
      "                                                                                                  \n",
      " dropout_2 (Dropout)            (None, 16, 16, 256)  0           ['max_pooling2d_2[0][0]']        \n",
      "                                                                                                  \n",
      " conv2d_6 (Conv2D)              (None, 16, 16, 512)  1180160     ['dropout_2[0][0]']              \n",
      "                                                                                                  \n",
      " activation_6 (Activation)      (None, 16, 16, 512)  0           ['conv2d_6[0][0]']               \n",
      "                                                                                                  \n",
      " conv2d_7 (Conv2D)              (None, 16, 16, 512)  2359808     ['activation_6[0][0]']           \n",
      "                                                                                                  \n",
      " activation_7 (Activation)      (None, 16, 16, 512)  0           ['conv2d_7[0][0]']               \n",
      "                                                                                                  \n",
      " max_pooling2d_3 (MaxPooling2D)  (None, 8, 8, 512)   0           ['activation_7[0][0]']           \n",
      "                                                                                                  \n",
      " dropout_3 (Dropout)            (None, 8, 8, 512)    0           ['max_pooling2d_3[0][0]']        \n",
      "                                                                                                  \n",
      " conv2d_8 (Conv2D)              (None, 8, 8, 1024)   4719616     ['dropout_3[0][0]']              \n",
      "                                                                                                  \n",
      " activation_8 (Activation)      (None, 8, 8, 1024)   0           ['conv2d_8[0][0]']               \n",
      "                                                                                                  \n",
      " conv2d_9 (Conv2D)              (None, 8, 8, 1024)   9438208     ['activation_8[0][0]']           \n",
      "                                                                                                  \n",
      " activation_9 (Activation)      (None, 8, 8, 1024)   0           ['conv2d_9[0][0]']               \n",
      "                                                                                                  \n",
      " conv2d_transpose (Conv2DTransp  (None, 16, 16, 512)  4719104    ['activation_9[0][0]']           \n",
      " ose)                                                                                             \n",
      "                                                                                                  \n",
      " concatenate (Concatenate)      (None, 16, 16, 1024  0           ['conv2d_transpose[0][0]',       \n",
      "                                )                                 'activation_7[0][0]']           \n",
      "                                                                                                  \n",
      " dropout_4 (Dropout)            (None, 16, 16, 1024  0           ['concatenate[0][0]']            \n",
      "                                )                                                                 \n",
      "                                                                                                  \n",
      " conv2d_10 (Conv2D)             (None, 16, 16, 512)  4719104     ['dropout_4[0][0]']              \n",
      "                                                                                                  \n",
      " activation_10 (Activation)     (None, 16, 16, 512)  0           ['conv2d_10[0][0]']              \n",
      "                                                                                                  \n",
      " conv2d_11 (Conv2D)             (None, 16, 16, 512)  2359808     ['activation_10[0][0]']          \n",
      "                                                                                                  \n",
      " activation_11 (Activation)     (None, 16, 16, 512)  0           ['conv2d_11[0][0]']              \n",
      "                                                                                                  \n",
      " conv2d_transpose_1 (Conv2DTran  (None, 32, 32, 256)  1179904    ['activation_11[0][0]']          \n",
      " spose)                                                                                           \n",
      "                                                                                                  \n",
      " concatenate_1 (Concatenate)    (None, 32, 32, 512)  0           ['conv2d_transpose_1[0][0]',     \n",
      "                                                                  'activation_5[0][0]']           \n",
      "                                                                                                  \n",
      " dropout_5 (Dropout)            (None, 32, 32, 512)  0           ['concatenate_1[0][0]']          \n",
      "                                                                                                  \n",
      " conv2d_12 (Conv2D)             (None, 32, 32, 256)  1179904     ['dropout_5[0][0]']              \n",
      "                                                                                                  \n",
      " activation_12 (Activation)     (None, 32, 32, 256)  0           ['conv2d_12[0][0]']              \n",
      "                                                                                                  \n",
      " conv2d_13 (Conv2D)             (None, 32, 32, 256)  590080      ['activation_12[0][0]']          \n",
      "                                                                                                  \n",
      " activation_13 (Activation)     (None, 32, 32, 256)  0           ['conv2d_13[0][0]']              \n",
      "                                                                                                  \n",
      " conv2d_transpose_2 (Conv2DTran  (None, 64, 64, 128)  295040     ['activation_13[0][0]']          \n",
      " spose)                                                                                           \n",
      "                                                                                                  \n",
      " concatenate_2 (Concatenate)    (None, 64, 64, 256)  0           ['conv2d_transpose_2[0][0]',     \n",
      "                                                                  'activation_3[0][0]']           \n",
      "                                                                                                  \n",
      " dropout_6 (Dropout)            (None, 64, 64, 256)  0           ['concatenate_2[0][0]']          \n",
      "                                                                                                  \n",
      " conv2d_14 (Conv2D)             (None, 64, 64, 128)  295040      ['dropout_6[0][0]']              \n",
      "                                                                                                  \n",
      " activation_14 (Activation)     (None, 64, 64, 128)  0           ['conv2d_14[0][0]']              \n",
      "                                                                                                  \n",
      " conv2d_15 (Conv2D)             (None, 64, 64, 128)  147584      ['activation_14[0][0]']          \n",
      "                                                                                                  \n",
      " activation_15 (Activation)     (None, 64, 64, 128)  0           ['conv2d_15[0][0]']              \n",
      "                                                                                                  \n",
      " conv2d_transpose_3 (Conv2DTran  (None, 128, 128, 64  73792      ['activation_15[0][0]']          \n",
      " spose)                         )                                                                 \n",
      "                                                                                                  \n",
      " concatenate_3 (Concatenate)    (None, 128, 128, 12  0           ['conv2d_transpose_3[0][0]',     \n",
      "                                8)                                'activation_1[0][0]']           \n",
      "                                                                                                  \n",
      " dropout_7 (Dropout)            (None, 128, 128, 12  0           ['concatenate_3[0][0]']          \n",
      "                                8)                                                                \n",
      "                                                                                                  \n",
      " conv2d_16 (Conv2D)             (None, 128, 128, 64  73792       ['dropout_7[0][0]']              \n",
      "                                )                                                                 \n",
      "                                                                                                  \n",
      " activation_16 (Activation)     (None, 128, 128, 64  0           ['conv2d_16[0][0]']              \n",
      "                                )                                                                 \n",
      "                                                                                                  \n",
      " conv2d_17 (Conv2D)             (None, 128, 128, 64  36928       ['activation_16[0][0]']          \n",
      "                                )                                                                 \n",
      "                                                                                                  \n",
      " activation_17 (Activation)     (None, 128, 128, 64  0           ['conv2d_17[0][0]']              \n",
      "                                )                                                                 \n",
      "                                                                                                  \n",
      " conv2d_18 (Conv2D)             (None, 128, 128, 3)  195         ['activation_17[0][0]']          \n",
      "                                                                                                  \n",
      "==================================================================================================\n",
      "Total params: 34,513,475\n",
      "Trainable params: 34,513,475\n",
      "Non-trainable params: 0\n",
      "__________________________________________________________________________________________________\n"
     ]
    }
   ],
   "source": [
    "model = unet()\n",
    "model.summary()"
   ]
  },
  {
   "cell_type": "code",
   "execution_count": 9,
   "id": "7844654c-9360-4db8-86b9-81c81c84fb3e",
   "metadata": {},
   "outputs": [],
   "source": [
    "model.compile(optimizer=tf.keras.optimizers.Adam(), loss='sparse_categorical_crossentropy',metrics=['accuracy'])"
   ]
  },
  {
   "cell_type": "markdown",
   "id": "7144d97b-4e9c-42a9-ae09-55da6ab1082c",
   "metadata": {},
   "source": [
    "#### data"
   ]
  },
  {
   "cell_type": "code",
   "execution_count": 10,
   "id": "5e25bcc7-e9f7-49ac-837e-e08474d1e93c",
   "metadata": {},
   "outputs": [
    {
     "name": "stdout",
     "output_type": "stream",
     "text": [
      "\u001b[1mDownloading and preparing dataset Unknown size (download: Unknown size, generated: Unknown size, total: Unknown size) to C:\\Users\\pk764\\tensorflow_datasets\\oxford_iiit_pet\\3.2.0...\u001b[0m\n"
     ]
    },
    {
     "name": "stderr",
     "output_type": "stream",
     "text": [
      "Dl Completed...: 0 url [00:00, ? url/s]\n",
      "Dl Size...: 0 MiB [00:00, ? MiB/s]\u001b[A\n",
      "\n",
      "Dl Completed...:   0%|                                                                         | 0/1 [00:00<?, ? url/s]\n",
      "Dl Size...: 0 MiB [00:00, ? MiB/s]\u001b[A\n",
      "\n",
      "Dl Completed...: 100%|█████████████████████████████████████████████████████████████████| 1/1 [00:00<00:00, 37.08 url/s]\n",
      "Dl Size...: 0 MiB [00:00, ? MiB/s]\u001b[A\n",
      "\n",
      "Dl Completed...: 100%|█████████████████████████████████████████████████████████████████| 1/1 [00:00<00:00, 26.67 url/s]\n",
      "Dl Size...:   0%|                                                                       | 0/19173078 [00:00<?, ? MiB/s]\u001b[A\n",
      "\n",
      "Dl Completed...: 100%|█████████████████████████████████████████████████████████████████| 1/1 [00:00<00:00, 21.97 url/s]\n",
      "Dl Size...: 100%|█████████████████████████████████████████████████| 19173078/19173078 [00:00<00:00, 473254187.13 MiB/s]\u001b[A\n",
      "\n",
      "Dl Completed...:  50%|████████████████████████████████▌                                | 1/2 [00:00<00:00, 13.79 url/s]\n",
      "Dl Size...: 100%|█████████████████████████████████████████████████| 19173078/19173078 [00:00<00:00, 283999977.92 MiB/s]\u001b[A\n",
      "\n",
      "Dl Completed...: 100%|█████████████████████████████████████████████████████████████████| 2/2 [00:00<00:00, 24.37 url/s]\n",
      "Dl Size...: 100%|█████████████████████████████████████████████████| 19173078/19173078 [00:00<00:00, 236469841.29 MiB/s]\u001b[A\n",
      "\n",
      "Dl Completed...: 100%|█████████████████████████████████████████████████████████████████| 2/2 [00:00<00:00, 23.23 url/s]\n",
      "Dl Size...:   2%|█▏                                              | 19173078/811092049 [00:00<00:03, 220253722.80 MiB/s]\u001b[A\n",
      "\n",
      "Dl Completed...: 100%|█████████████████████████████████████████████████████████████████| 2/2 [00:00<00:00, 20.57 url/s]\n",
      "Dl Size...: 100%|██████████████████████████████████████████████| 811092049/811092049 [00:00<00:00, 8620255583.43 MiB/s]\u001b[A\n",
      "\n",
      "Extraction completed...: 0 file [00:00, ? file/s]\u001b[A\u001b[A\n",
      "Dl Size...: 100%|██████████████████████████████████████████████| 811092049/811092049 [00:00<00:00, 7097485240.53 MiB/s]\n",
      "Dl Completed...: 100%|█████████████████████████████████████████████████████████████████| 2/2 [00:00<00:00, 16.77 url/s]\n",
      "Generating splits...:   0%|                                                                 | 0/2 [00:00<?, ? splits/s]\n",
      "Generating train examples...: 0 examples [00:00, ? examples/s]\u001b[A\n",
      "Generating train examples...: 293 examples [00:01, 292.82 examples/s]\u001b[A\n",
      "Generating train examples...: 597 examples [00:02, 298.32 examples/s]\u001b[A\n",
      "Generating train examples...: 896 examples [00:03, 286.79 examples/s]\u001b[A\n",
      "Generating train examples...: 1184 examples [00:04, 284.94 examples/s]\u001b[A\n",
      "Generating train examples...: 1470 examples [00:05, 280.90 examples/s]\u001b[A\n",
      "Generating train examples...: 1752 examples [00:06, 279.67 examples/s]\u001b[A\n",
      "Generating train examples...: 2032 examples [00:07, 278.83 examples/s]\u001b[A\n",
      "Generating train examples...: 2315 examples [00:08, 280.03 examples/s]\u001b[A\n",
      "Generating train examples...: 2596 examples [00:09, 278.17 examples/s]\u001b[A\n",
      "Generating train examples...: 2882 examples [00:10, 280.38 examples/s]\u001b[A\n",
      "Generating train examples...: 3238 examples [00:11, 303.10 examples/s]\u001b[A\n",
      "Generating train examples...: 3578 examples [00:12, 313.87 examples/s]\u001b[A\n",
      "                                                                      \u001b[A\n",
      "Shuffling C:\\Users\\pk764\\tensorflow_datasets\\oxford_iiit_pet\\3.2.0.incompleteYX9VJI\\oxford_iiit_pet-train.tfrecord*...:\u001b[A\n",
      "Shuffling C:\\Users\\pk764\\tensorflow_datasets\\oxford_iiit_pet\\3.2.0.incompleteYX9VJI\\oxford_iiit_pet-train.tfrecord*...:\u001b[A\n",
      "Shuffling C:\\Users\\pk764\\tensorflow_datasets\\oxford_iiit_pet\\3.2.0.incompleteYX9VJI\\oxford_iiit_pet-train.tfrecord*...:\u001b[A\n",
      "Shuffling C:\\Users\\pk764\\tensorflow_datasets\\oxford_iiit_pet\\3.2.0.incompleteYX9VJI\\oxford_iiit_pet-train.tfrecord*...:\u001b[A\n",
      "Shuffling C:\\Users\\pk764\\tensorflow_datasets\\oxford_iiit_pet\\3.2.0.incompleteYX9VJI\\oxford_iiit_pet-train.tfrecord*...:\u001b[A\n",
      "Shuffling C:\\Users\\pk764\\tensorflow_datasets\\oxford_iiit_pet\\3.2.0.incompleteYX9VJI\\oxford_iiit_pet-train.tfrecord*...:\u001b[A\n",
      "Shuffling C:\\Users\\pk764\\tensorflow_datasets\\oxford_iiit_pet\\3.2.0.incompleteYX9VJI\\oxford_iiit_pet-train.tfrecord*...:\u001b[A\n",
      "Shuffling C:\\Users\\pk764\\tensorflow_datasets\\oxford_iiit_pet\\3.2.0.incompleteYX9VJI\\oxford_iiit_pet-train.tfrecord*...:\u001b[A\n",
      "Shuffling C:\\Users\\pk764\\tensorflow_datasets\\oxford_iiit_pet\\3.2.0.incompleteYX9VJI\\oxford_iiit_pet-train.tfrecord*...:\u001b[A\n",
      "Shuffling C:\\Users\\pk764\\tensorflow_datasets\\oxford_iiit_pet\\3.2.0.incompleteYX9VJI\\oxford_iiit_pet-train.tfrecord*...:\u001b[A\n",
      "Shuffling C:\\Users\\pk764\\tensorflow_datasets\\oxford_iiit_pet\\3.2.0.incompleteYX9VJI\\oxford_iiit_pet-train.tfrecord*...:\u001b[A\n",
      "Shuffling C:\\Users\\pk764\\tensorflow_datasets\\oxford_iiit_pet\\3.2.0.incompleteYX9VJI\\oxford_iiit_pet-train.tfrecord*...:\u001b[A\n",
      "Shuffling C:\\Users\\pk764\\tensorflow_datasets\\oxford_iiit_pet\\3.2.0.incompleteYX9VJI\\oxford_iiit_pet-train.tfrecord*...:\u001b[A\n",
      "Generating splits...:  50%|████████████████████████████▌                            | 1/2 [00:14<00:14, 14.45s/ splits]\u001b[A\n",
      "Generating test examples...: 0 examples [00:00, ? examples/s]\u001b[A\n",
      "Generating test examples...: 260 examples [00:01, 258.20 examples/s]\u001b[A\n",
      "Generating test examples...: 522 examples [00:02, 260.38 examples/s]\u001b[A\n",
      "Generating test examples...: 794 examples [00:03, 265.08 examples/s]\u001b[A\n",
      "Generating test examples...: 1073 examples [00:04, 270.24 examples/s]\u001b[A\n",
      "Generating test examples...: 1344 examples [00:05, 263.42 examples/s]\u001b[A\n",
      "Generating test examples...: 1608 examples [00:06, 257.48 examples/s]\u001b[A\n",
      "Generating test examples...: 1868 examples [00:07, 257.97 examples/s]\u001b[A\n",
      "Generating test examples...: 2155 examples [00:08, 266.69 examples/s]\u001b[A\n",
      "Generating test examples...: 2423 examples [00:09, 259.76 examples/s]\u001b[A\n",
      "Generating test examples...: 2714 examples [00:10, 268.96 examples/s]\u001b[A\n",
      "Generating test examples...: 2984 examples [00:13, 153.48 examples/s]\u001b[A\n",
      "Generating test examples...: 3195 examples [00:20, 77.58 examples/s] \u001b[A\n",
      "Generating test examples...: 3352 examples [00:25, 59.36 examples/s]\u001b[A\n",
      "Generating test examples...: 3471 examples [00:29, 51.02 examples/s]\u001b[A\n",
      "Generating test examples...: 3564 examples [00:32, 46.14 examples/s]\u001b[A\n",
      "Generating test examples...: 3638 examples [00:34, 43.13 examples/s]\u001b[A\n",
      "                                                                    \u001b[A\n",
      "Shuffling C:\\Users\\pk764\\tensorflow_datasets\\oxford_iiit_pet\\3.2.0.incompleteYX9VJI\\oxford_iiit_pet-test.tfrecord*...: \u001b[A\n",
      "Shuffling C:\\Users\\pk764\\tensorflow_datasets\\oxford_iiit_pet\\3.2.0.incompleteYX9VJI\\oxford_iiit_pet-test.tfrecord*...: \u001b[A\n",
      "Shuffling C:\\Users\\pk764\\tensorflow_datasets\\oxford_iiit_pet\\3.2.0.incompleteYX9VJI\\oxford_iiit_pet-test.tfrecord*...: \u001b[A\n",
      "Shuffling C:\\Users\\pk764\\tensorflow_datasets\\oxford_iiit_pet\\3.2.0.incompleteYX9VJI\\oxford_iiit_pet-test.tfrecord*...: \u001b[A\n",
      "Shuffling C:\\Users\\pk764\\tensorflow_datasets\\oxford_iiit_pet\\3.2.0.incompleteYX9VJI\\oxford_iiit_pet-test.tfrecord*...: \u001b[A\n",
      "Shuffling C:\\Users\\pk764\\tensorflow_datasets\\oxford_iiit_pet\\3.2.0.incompleteYX9VJI\\oxford_iiit_pet-test.tfrecord*...: \u001b[A\n",
      "Shuffling C:\\Users\\pk764\\tensorflow_datasets\\oxford_iiit_pet\\3.2.0.incompleteYX9VJI\\oxford_iiit_pet-test.tfrecord*...: \u001b[A\n",
      "Shuffling C:\\Users\\pk764\\tensorflow_datasets\\oxford_iiit_pet\\3.2.0.incompleteYX9VJI\\oxford_iiit_pet-test.tfrecord*...: \u001b[A\n",
      "Shuffling C:\\Users\\pk764\\tensorflow_datasets\\oxford_iiit_pet\\3.2.0.incompleteYX9VJI\\oxford_iiit_pet-test.tfrecord*...: \u001b[A\n",
      "Shuffling C:\\Users\\pk764\\tensorflow_datasets\\oxford_iiit_pet\\3.2.0.incompleteYX9VJI\\oxford_iiit_pet-test.tfrecord*...: \u001b[A\n",
      "Shuffling C:\\Users\\pk764\\tensorflow_datasets\\oxford_iiit_pet\\3.2.0.incompleteYX9VJI\\oxford_iiit_pet-test.tfrecord*...: \u001b[A\n",
      "Shuffling C:\\Users\\pk764\\tensorflow_datasets\\oxford_iiit_pet\\3.2.0.incompleteYX9VJI\\oxford_iiit_pet-test.tfrecord*...: \u001b[A\n",
      "Shuffling C:\\Users\\pk764\\tensorflow_datasets\\oxford_iiit_pet\\3.2.0.incompleteYX9VJI\\oxford_iiit_pet-test.tfrecord*...: \u001b[A\n",
      "Shuffling C:\\Users\\pk764\\tensorflow_datasets\\oxford_iiit_pet\\3.2.0.incompleteYX9VJI\\oxford_iiit_pet-test.tfrecord*...: \u001b[A\n",
      "Shuffling C:\\Users\\pk764\\tensorflow_datasets\\oxford_iiit_pet\\3.2.0.incompleteYX9VJI\\oxford_iiit_pet-test.tfrecord*...: \u001b[A\n",
      "                                                                                                                       \u001b[A\r"
     ]
    },
    {
     "name": "stdout",
     "output_type": "stream",
     "text": [
      "\u001b[1mDataset oxford_iiit_pet downloaded and prepared to C:\\Users\\pk764\\tensorflow_datasets\\oxford_iiit_pet\\3.2.0. Subsequent calls will reuse this data.\u001b[0m\n"
     ]
    }
   ],
   "source": [
    "dataset, info = tfds.load('oxford_iiit_pet:3.*.*', with_info=True)"
   ]
  },
  {
   "cell_type": "code",
   "execution_count": 11,
   "id": "f03ae09c-b291-435a-8b7a-ae19881372aa",
   "metadata": {},
   "outputs": [
    {
     "name": "stdout",
     "output_type": "stream",
     "text": [
      "dict_keys(['train', 'test'])\n"
     ]
    }
   ],
   "source": [
    "print(dataset.keys())"
   ]
  },
  {
   "cell_type": "code",
   "execution_count": 12,
   "id": "3e2913f0-06ed-426a-87e5-7becdd448db2",
   "metadata": {},
   "outputs": [],
   "source": [
    "def random_flip(input_image, input_mask):\n",
    "  if tf.random.uniform(()) > 0.5:\n",
    "    input_image = tf.image.flip_left_right(input_image)\n",
    "    input_mask = tf.image.flip_left_right(input_mask)\n",
    "  return input_image, input_mask\n",
    "\n",
    "def normalize(input_image, input_mask):\n",
    "  input_image = tf.cast(input_image, tf.float32) / 255.0\n",
    "  input_mask -= 1\n",
    "  return input_image, input_mask\n",
    "\n",
    "@tf.function\n",
    "def load_image_train(datapoint):\n",
    "  input_image = tf.image.resize(datapoint['image'], (128, 128), method='nearest')\n",
    "  input_mask = tf.image.resize(datapoint['segmentation_mask'], (128, 128), method='nearest')\n",
    "  input_image, input_mask = random_flip(input_image, input_mask)\n",
    "  input_image, input_mask = normalize(input_image, input_mask)\n",
    "  return input_image, input_mask\n",
    "\n",
    "def load_image_test(datapoint):\n",
    "  input_image = tf.image.resize(datapoint['image'], (128, 128), method='nearest')\n",
    "  input_mask = tf.image.resize(datapoint['segmentation_mask'], (128, 128), method='nearest')\n",
    "  input_image, input_mask = normalize(input_image, input_mask)\n",
    "  return input_image, input_mask"
   ]
  },
  {
   "cell_type": "code",
   "execution_count": 13,
   "id": "8ffa2e11-d735-44f6-9238-34182f8ce4d8",
   "metadata": {},
   "outputs": [],
   "source": [
    "train = dataset['train'].map(load_image_train, num_parallel_calls=tf.data.experimental.AUTOTUNE)\n",
    "test = dataset['test'].map(load_image_test)"
   ]
  },
  {
   "cell_type": "code",
   "execution_count": 14,
   "id": "92bbbb69-b06f-40e2-9f08-8ad54b7dd125",
   "metadata": {},
   "outputs": [],
   "source": [
    "BATCH_SIZE = 64\n",
    "BUFFER_SIZE = 1000\n",
    "\n",
    "train_dataset = train.cache().shuffle(BUFFER_SIZE).batch(BATCH_SIZE).repeat()\n",
    "train_dataset = train_dataset.prefetch(buffer_size=tf.data.experimental.AUTOTUNE)\n",
    "test_dataset = test.batch(BATCH_SIZE)"
   ]
  },
  {
   "cell_type": "code",
   "execution_count": 30,
   "id": "2fa592b3-473a-41c7-a0cb-c184ce19ec15",
   "metadata": {},
   "outputs": [],
   "source": [
    "for image, mask in train.take(1):\n",
    "    sample_image, sample_mask = image, mask"
   ]
  },
  {
   "cell_type": "code",
   "execution_count": 81,
   "id": "f334e837-dedf-4f0f-be8c-9e6e94de4d2b",
   "metadata": {},
   "outputs": [
    {
     "data": {
      "text/plain": [
       "<matplotlib.image.AxesImage at 0x17f065b55e0>"
      ]
     },
     "execution_count": 81,
     "metadata": {},
     "output_type": "execute_result"
    },
    {
     "data": {
      "image/png": "[encoded data removed]",
      "text/plain": [
       "<Figure size 300x300 with 1 Axes>"
      ]
     },
     "metadata": {},
     "output_type": "display_data"
    },
    {
     "data": {
      "image/png": "[encoded data removed]",
      "text/plain": [
       "<Figure size 300x300 with 1 Axes>"
      ]
     },
     "metadata": {},
     "output_type": "display_data"
    }
   ],
   "source": [
    "plt.figure(figsize=(3, 3))\n",
    "plt.imshow(image)\n",
    "plt.figure(figsize=(3, 3))\n",
    "plt.imshow(np.array(mask).squeeze(-1))"
   ]
  },
  {
   "cell_type": "code",
   "execution_count": 83,
   "id": "ea574ce6-c962-4563-babc-70e30fcf968d",
   "metadata": {},
   "outputs": [],
   "source": [
    "TRAIN_LENGTH = info.splits['train'].num_examples\n",
    "EPOCHS = 5\n",
    "VAL_SUBSPLITS = 5\n",
    "STEPS_PER_EPOCH = TRAIN_LENGTH // BATCH_SIZE\n",
    "VALIDATION_STEPS = info.splits['test'].num_examples//BATCH_SIZE//VAL_SUBSPLITS\n",
    "\n",
    "model_history = model.fit(train_dataset, epochs=EPOCHS,steps_per_epoch=STEPS_PER_EPOCH,validation_steps=VALIDATION_STEPS,validation_data=test_dataset)"
   ]
  },
  {
   "cell_type": "code",
   "execution_count": null,
   "id": "75f434c7-56c4-4a8f-9d78-532ed0baee6a",
   "metadata": {},
   "outputs": [],
   "source": [
    "results = model.predict(test_dataset, steps=info.splits['test'].num_examples//BATCH_SIZE)"
   ]
  },
  {
   "cell_type": "markdown",
   "id": "9a55be36-3ed8-45c7-a910-6ac68f23d8cd",
   "metadata": {},
   "source": [
    "---"
   ]
  },
  {
   "cell_type": "code",
   "execution_count": null,
   "id": "cb2b1866-88f9-4f0f-9299-b560c87c26de",
   "metadata": {},
   "outputs": [],
   "source": []
  },
  {
   "cell_type": "code",
   "execution_count": null,
   "id": "fa278628-1e3e-4b5e-8a20-2bfcf7dc6ca5",
   "metadata": {},
   "outputs": [],
   "source": []
  }
 ],
 "metadata": {
  "kernelspec": {
   "display_name": "Python 3 (ipykernel)",
   "language": "python",
   "name": "python3"
  },
  "language_info": {
   "codemirror_mode": {
    "name": "ipython",
    "version": 3
   },
   "file_extension": ".py",
   "mimetype": "text/x-python",
   "name": "python",
   "nbconvert_exporter": "python",
   "pygments_lexer": "ipython3",
   "version": "3.9.18"
  }
 },
 "nbformat": 4,
 "nbformat_minor": 5
}
