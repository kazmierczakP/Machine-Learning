{
 "cells": [
  {
   "cell_type": "markdown",
   "id": "0010a69a-9ab3-4227-89a6-778e8167bd50",
   "metadata": {},
   "source": [
    "# Classification"
   ]
  },
  {
   "cell_type": "markdown",
   "id": "eb24c54b-4af1-49fe-9d42-2a9cef1d0db6",
   "metadata": {},
   "source": [
    "- multi-class classification (detects single object in a picture)\n",
    "- multi-label classification (detects multiple different objects in hte picture)"
   ]
  },
  {
   "cell_type": "markdown",
   "id": "51981921-83d9-47cb-a342-45b4f326594c",
   "metadata": {},
   "source": [
    "#### Image segmentation"
   ]
  },
  {
   "cell_type": "markdown",
   "id": "de808e67-744a-4100-aae0-67176852d4d2",
   "metadata": {},
   "source": [
    "Selecting all pixels that belong to a segment (object)\n",
    "- semantic segmentation (all objects form single segment, each pixel associated to one segemnt) \n",
    "- instance segmentation (objects of the same type are treated as different object)"
   ]
  },
  {
   "cell_type": "markdown",
   "id": "cbe203ea-9730-4ed1-9a5f-340b7d20734d",
   "metadata": {},
   "source": [
    "---"
   ]
  },
  {
   "cell_type": "markdown",
   "id": "c218268a-5444-41e7-bb8b-84ae483fa78f",
   "metadata": {},
   "source": [
    "## Transfer learning"
   ]
  },
  {
   "cell_type": "markdown",
   "id": "1d30b26c-f276-493e-988a-17be82f99a22",
   "metadata": {},
   "source": [
    "Applying `weights` of one model to another model `instead of initializing weights randomly`. Can be made with different but similar datasets (like cat vs dog and cow vs horse)\n",
    "- saves time & cost\n",
    "- improved performance on small datasets\n",
    "\n",
    "In order to use data of a different size (images) we have to rezise it to the dimentions that pretrained model expects.\n",
    "\n",
    "`resize = tf.keras.layers.UpSampling2D(size=(7,7))(inputs)`\n",
    "\n",
    "where size=(7,7) means multipylng th size of image by 7."
   ]
  },
  {
   "cell_type": "code",
   "execution_count": 2,
   "id": "a0e1efe9-4186-42ce-bad4-34e4363c6525",
   "metadata": {},
   "outputs": [],
   "source": [
    "import tensorflow as tf\n",
    "from tensorflow.keras.preprocessing.image import ImageDataGenerator\n",
    "from tensorflow.keras.applications.inception_v3 import InceptionV3\n",
    "import os\n",
    "import zipfile\n",
    "import urllib.request"
   ]
  },
  {
   "cell_type": "markdown",
   "id": "1bc8cba1-bbd1-47b9-8ff3-65f9982a73b7",
   "metadata": {},
   "source": [
    "#### data"
   ]
  },
  {
   "cell_type": "code",
   "execution_count": 3,
   "id": "0e7e2122-ddea-41cf-86e2-5b2a8f5d2db1",
   "metadata": {},
   "outputs": [],
   "source": [
    "data_url = \"https://download.microsoft.com/download/3/E/1/3E1C3F21-ECDB-4869-8368-6DEBA77B919F/kagglecatsanddogs_5340.zip\"\n",
    "data_file_name = \"catsdogs.zip\"\n",
    "download_dir = './tmp/'\n",
    "urllib.request.urlretrieve(data_url, data_file_name)\n",
    "zip_ref = zipfile.ZipFile(data_file_name, 'r')\n",
    "zip_ref.extractall(download_dir)\n",
    "zip_ref.close()"
   ]
  },
  {
   "cell_type": "code",
   "execution_count": 4,
   "id": "bd91c005-3df5-443b-863b-bf9bf04a542b",
   "metadata": {},
   "outputs": [
    {
     "name": "stdout",
     "output_type": "stream",
     "text": [
      "Number of cat images: 12501\n",
      "Number of dog images: 12501\n"
     ]
    }
   ],
   "source": [
    "print(\"Number of cat images:\",len(os.listdir('/tmp/PetImages/Cat/')))\n",
    "print(\"Number of dog images:\", len(os.listdir('/tmp/PetImages/Dog/')))"
   ]
  },
  {
   "cell_type": "code",
   "execution_count": 10,
   "id": "3e4fe8c3-a013-4856-92e8-e67763a7a22c",
   "metadata": {},
   "outputs": [],
   "source": [
    "os.mkdir('/tmp/cats-v-dogs')\n",
    "os.mkdir('/tmp/cats-v-dogs/training')\n",
    "os.mkdir('/tmp/cats-v-dogs/testing')\n",
    "os.mkdir('/tmp/cats-v-dogs/training/cats')\n",
    "os.mkdir('/tmp/cats-v-dogs/training/dogs')\n",
    "os.mkdir('/tmp/cats-v-dogs/testing/cats')\n",
    "os.mkdir('/tmp/cats-v-dogs/testing/dogs')"
   ]
  },
  {
   "cell_type": "code",
   "execution_count": 7,
   "id": "3540de82-baae-4309-bcee-733749d7e3ee",
   "metadata": {},
   "outputs": [
    {
     "name": "stdout",
     "output_type": "stream",
     "text": [
      "666.jpg is zero length, so ignoring.\n",
      "11702.jpg is zero length, so ignoring.\n"
     ]
    }
   ],
   "source": [
    "import random\n",
    "from shutil import copyfile\n",
    "def split_data(SOURCE, TRAINING, TESTING, SPLIT_SIZE):\n",
    "    files = []\n",
    "    for filename in os.listdir(SOURCE):\n",
    "        file = SOURCE + filename\n",
    "        if os.path.getsize(file) > 0:\n",
    "            files.append(filename)\n",
    "        else:\n",
    "            print(filename + \" is zero length, so ignoring.\")\n",
    "    training_length = int(len(files) * SPLIT_SIZE)\n",
    "    testing_length = int(len(files) - training_length)\n",
    "    shuffled_set = random.sample(files, len(files))\n",
    "    training_set = shuffled_set[0:training_length]\n",
    "    testing_set = shuffled_set[training_length:]\n",
    "    for filename in training_set:\n",
    "        this_file = SOURCE + filename\n",
    "        destination = TRAINING + filename\n",
    "        copyfile(this_file, destination)\n",
    "    for filename in testing_set:\n",
    "        this_file = SOURCE + filename\n",
    "        destination = TESTING + filename\n",
    "        copyfile(this_file, destination)\n",
    "\n",
    "CAT_SOURCE_DIR = \"/tmp/PetImages/Cat/\"\n",
    "DOG_SOURCE_DIR = \"/tmp/PetImages/Dog/\"\n",
    "TRAINING_CATS_DIR = \"/tmp/cats-v-dogs/training/cats/\"\n",
    "TRAINING_DOGS_DIR = \"/tmp/cats-v-dogs/training/dogs/\"\n",
    "TESTING_CATS_DIR = \"/tmp/cats-v-dogs/testing/cats/\"\n",
    "TESTING_DOGS_DIR = \"/tmp/cats-v-dogs/testing/dogs/\"\n",
    "\n",
    "split_size = .9\n",
    "split_data(CAT_SOURCE_DIR, TRAINING_CATS_DIR, TESTING_CATS_DIR, split_size)\n",
    "split_data(DOG_SOURCE_DIR, TRAINING_DOGS_DIR, TESTING_DOGS_DIR, split_size)"
   ]
  },
  {
   "cell_type": "code",
   "execution_count": 11,
   "id": "8dd54117-1afa-4106-bccc-3250ca93d07f",
   "metadata": {},
   "outputs": [
    {
     "name": "stdout",
     "output_type": "stream",
     "text": [
      "Found 22498 images belonging to 2 classes.\n",
      "Found 2500 images belonging to 2 classes.\n"
     ]
    }
   ],
   "source": [
    "TRAINING_DIR = \"/tmp/cats-v-dogs/training/\"\n",
    "train_datagen = ImageDataGenerator(rescale=1./255,rotation_range=40,width_shift_range=0.2,height_shift_range=0.2,shear_range=0.2,zoom_range=0.2, horizontal_flip=True,fill_mode='nearest')\n",
    "train_generator = train_datagen.flow_from_directory(TRAINING_DIR, batch_size=100, class_mode='binary', target_size=(150, 150))\n",
    "\n",
    "VALIDATION_DIR = \"/tmp/cats-v-dogs/testing/\"\n",
    "validation_datagen = ImageDataGenerator(rescale=1./255)\n",
    "validation_generator = validation_datagen.flow_from_directory(VALIDATION_DIR,batch_size=100,class_mode='binary',target_size=(150, 150))"
   ]
  },
  {
   "cell_type": "markdown",
   "id": "0a802872-a384-4230-ac79-9f13b8a5b344",
   "metadata": {},
   "source": [
    "#### model"
   ]
  },
  {
   "cell_type": "code",
   "execution_count": 12,
   "id": "7dcf082f-049e-4248-ab3b-d203928a1f08",
   "metadata": {},
   "outputs": [
    {
     "data": {
      "text/plain": [
       "('inception_v3.h5', <http.client.HTTPMessage at 0x1ced8492eb0>)"
      ]
     },
     "execution_count": 12,
     "metadata": {},
     "output_type": "execute_result"
    }
   ],
   "source": [
    "weights_url = \"https://storage.googleapis.com/mledu-datasets/inception_v3_weights_tf_dim_ordering_tf_kernels_notop.h5\"\n",
    "weights_file = \"inception_v3.h5\"\n",
    "urllib.request.urlretrieve(weights_url, weights_file)"
   ]
  },
  {
   "cell_type": "code",
   "execution_count": 13,
   "id": "972c7cdc-d016-4a68-8229-f2596fc94ba7",
   "metadata": {},
   "outputs": [
    {
     "name": "stdout",
     "output_type": "stream",
     "text": [
      "last layer output shape:  (None, 7, 7, 768)\n"
     ]
    }
   ],
   "source": [
    "pre_trained_model = InceptionV3(input_shape=(150, 150, 3),include_top=False,weights=None)\n",
    "pre_trained_model.load_weights(weights_file)\n",
    "\n",
    "for layer in pre_trained_model.layers:\n",
    "    layer.trainable = False\n",
    "# pre_trained_model.summary()\n",
    "\n",
    "last_layer = pre_trained_model.get_layer('mixed7')\n",
    "print('last layer output shape: ', last_layer.output_shape)\n",
    "last_output = last_layer.output"
   ]
  },
  {
   "cell_type": "markdown",
   "id": "65c0df10-f27d-40d4-a6d6-6a9b4da6df03",
   "metadata": {},
   "source": [
    "`Create model`"
   ]
  },
  {
   "cell_type": "code",
   "execution_count": 16,
   "id": "c1983a12-8c77-4006-9da3-80470c6bd5cb",
   "metadata": {},
   "outputs": [],
   "source": [
    "x = tf.keras.layers.Flatten()(last_output)\n",
    "x = tf.keras.layers.Dense(1024, activation='relu')(x)\n",
    "x = tf.keras.layers.Dense(1, activation='sigmoid')(x)\n",
    "\n",
    "model = tf.keras.models.Model(pre_trained_model.input, x)"
   ]
  },
  {
   "cell_type": "markdown",
   "id": "fbc2a892-4f51-4129-ba11-2008c603acb4",
   "metadata": {},
   "source": [
    "#### training"
   ]
  },
  {
   "cell_type": "code",
   "execution_count": 18,
   "id": "bae2730b-9e66-423b-8e5b-f0197ff56374",
   "metadata": {},
   "outputs": [
    {
     "name": "stderr",
     "output_type": "stream",
     "text": [
      "C:\\Users\\pk764\\miniconda3\\envs\\tensorflow\\lib\\site-packages\\keras\\optimizer_v2\\rmsprop.py:130: UserWarning: The `lr` argument is deprecated, use `learning_rate` instead.\n",
      "  super(RMSprop, self).__init__(name, **kwargs)\n"
     ]
    },
    {
     "name": "stdout",
     "output_type": "stream",
     "text": [
      "Epoch 1/2\n",
      "225/225 [==============================] - ETA: 0s - loss: 0.2389 - acc: 0.9094"
     ]
    },
    {
     "name": "stderr",
     "output_type": "stream",
     "text": [
      "C:\\Users\\pk764\\miniconda3\\envs\\tensorflow\\lib\\site-packages\\PIL\\TiffImagePlugin.py:870: UserWarning: Truncated File Read\n",
      "  warnings.warn(str(msg))\n"
     ]
    },
    {
     "name": "stdout",
     "output_type": "stream",
     "text": [
      "225/225 [==============================] - 808s 4s/step - loss: 0.2389 - acc: 0.9094 - val_loss: 0.0799 - val_acc: 0.9676\n",
      "Epoch 2/2\n",
      "225/225 [==============================] - 587s 3s/step - loss: 0.1522 - acc: 0.9371 - val_loss: 0.0846 - val_acc: 0.9696\n"
     ]
    }
   ],
   "source": [
    "model.compile(optimizer=tf.keras.optimizers.RMSprop(lr=0.0001),loss='binary_crossentropy',metrics=['acc'])\n",
    "history = model.fit(train_generator,validation_data=validation_generator,epochs=2,verbose=1)"
   ]
  },
  {
   "cell_type": "markdown",
   "id": "3a8b4678-0d6b-430d-9520-4da9de5cda35",
   "metadata": {},
   "source": [
    "#### inference"
   ]
  },
  {
   "cell_type": "code",
   "execution_count": 34,
   "id": "00abd732-5936-4354-b003-dfa1f39faf1f",
   "metadata": {},
   "outputs": [
    {
     "name": "stdout",
     "output_type": "stream",
     "text": [
      "[4.198254e-09]\n",
      " is a cat\n"
     ]
    }
   ],
   "source": [
    "import numpy as np\n",
    "from tensorflow.keras.utils import load_img, img_to_array\n",
    "\n",
    "path='/tmp/cats-v-dogs/testing/cats/13.jpg'\n",
    "#path='/tmp/cats-v-dogs/testing/dogs/11.jpg'\n",
    "img = load_img(path, target_size=(150, 150))\n",
    "x = img_to_array(img)\n",
    "x /= 255\n",
    "x = np.expand_dims(x, axis=0)\n",
    "image_tensor = np.vstack([x])\n",
    "classes = model.predict(image_tensor)\n",
    "print(classes[0])\n",
    "if classes[0]>0.5:\n",
    "    print(\" is a dog\")\n",
    "else:\n",
    "    print(\" is a cat\")"
   ]
  },
  {
   "cell_type": "markdown",
   "id": "d0ad83b7-1f0e-451b-8fe4-74cd3fc2af43",
   "metadata": {},
   "source": [
    "---"
   ]
  },
  {
   "cell_type": "markdown",
   "id": "56f1f348-1a0e-4d97-9625-278fa4fbb2c2",
   "metadata": {},
   "source": [
    "# Object localization"
   ]
  },
  {
   "cell_type": "code",
   "execution_count": 1,
   "id": "e56c9271-3ec8-43d4-99a9-1855c8a8adf8",
   "metadata": {},
   "outputs": [
    {
     "name": "stderr",
     "output_type": "stream",
     "text": [
      "C:\\Users\\pk764\\miniconda3\\envs\\tensorflow\\lib\\site-packages\\tqdm\\auto.py:21: TqdmWarning: IProgress not found. Please update jupyter and ipywidgets. See https://ipywidgets.readthedocs.io/en/stable/user_install.html\n",
      "  from .autonotebook import tqdm as notebook_tqdm\n"
     ]
    }
   ],
   "source": [
    "import tensorflow as tf\n",
    "import tensorflow_datasets as tfds\n",
    "import numpy as np\n",
    "import PIL.Image, PIL.ImageFont, PIL.ImageDraw"
   ]
  },
  {
   "cell_type": "markdown",
   "id": "fe404906-c539-4a6f-8474-49cdf36a5041",
   "metadata": {},
   "source": [
    "#### data"
   ]
  },
  {
   "cell_type": "code",
   "execution_count": 188,
   "id": "0803fdab-fc0e-405b-90de-4b6c5ff0bbb4",
   "metadata": {},
   "outputs": [],
   "source": [
    "def read_image_tfds(image, label):\n",
    "    xmin = tf.random.uniform((), 0 , 48, dtype=tf.int32)\n",
    "    ymin = tf.random.uniform((), 0 , 48, dtype=tf.int32)\n",
    "    image = tf.reshape(image, (28,28,1,))\n",
    "    image = tf.image.pad_to_bounding_box(image, ymin, xmin, 75, 75)\n",
    "    image = tf.cast(image, tf.float32)/255.0\n",
    "    xmin = tf.cast(xmin, tf.float32)\n",
    "    ymin = tf.cast(ymin, tf.float32)\n",
    "    xmax = (xmin + 28) / 75\n",
    "    ymax = (ymin + 28) / 75\n",
    "    xmin = xmin / 75\n",
    "    ymin = ymin / 75\n",
    "    return image, (tf.one_hot(label, 10), [xmin, ymin, xmax, ymax])\n",
    "  \n",
    "def get_training_dataset():\n",
    "      with  strategy.scope():\n",
    "        dataset = tfds.load(\"mnist\", split=\"train\", as_supervised=True, try_gcs=True)\n",
    "        dataset = dataset.map(read_image_tfds, num_parallel_calls=16)\n",
    "        dataset = dataset.shuffle(5000, reshuffle_each_iteration=True)\n",
    "        dataset = dataset.repeat() # Mandatory for Keras for now\n",
    "        dataset = dataset.batch(BATCH_SIZE, drop_remainder=True) # drop_remainder is important on TPU, batch size must be fixed\n",
    "        dataset = dataset.prefetch(-1)  # fetch next batches while training on the current one (-1: autotune prefetch buffer size)\n",
    "      return dataset\n",
    "\n",
    "def get_validation_dataset():\n",
    "    dataset = tfds.load(\"mnist\", split=\"test\", as_supervised=True, try_gcs=True)\n",
    "    dataset = dataset.map(read_image_tfds, num_parallel_calls=16)\n",
    "\n",
    "    #dataset = dataset.cache() # this small dataset can be entirely cached in RAM\n",
    "    dataset = dataset.batch(10000, drop_remainder=True) # 10000 items in eval dataset, all in one batch\n",
    "    dataset = dataset.repeat() # Mandatory for Keras for now\n",
    "    return dataset\n",
    "\n",
    "with strategy.scope():\n",
    "  training_dataset = get_training_dataset()\n",
    "  validation_dataset = get_validation_dataset()"
   ]
  },
  {
   "cell_type": "markdown",
   "id": "592dbb49-eedf-45f5-8e78-cc58e4570728",
   "metadata": {},
   "source": [
    "#### model"
   ]
  },
  {
   "cell_type": "code",
   "execution_count": 42,
   "id": "4a5ca557-ecda-40b1-ac69-4923e32c4dce",
   "metadata": {},
   "outputs": [],
   "source": [
    "def feature_extractor(inputs):\n",
    "    x = tf.keras.layers.Conv2D(16, activation='relu', kernel_size=3, input_shape=(75, 75, 1))(inputs)\n",
    "    x = tf.keras.layers.AveragePooling2D((2, 2))(x)\n",
    "    x = tf.keras.layers.Conv2D(32,kernel_size=3,activation='relu')(x)\n",
    "    x = tf.keras.layers.AveragePooling2D((2, 2))(x)\n",
    "    x = tf.keras.layers.Conv2D(64,kernel_size=3,activation='relu')(x)\n",
    "    x = tf.keras.layers.AveragePooling2D((2, 2))(x)\n",
    "    return x"
   ]
  },
  {
   "cell_type": "code",
   "execution_count": 43,
   "id": "a1e688cb-9d7e-4c4d-b29c-3e3c03e19626",
   "metadata": {},
   "outputs": [],
   "source": [
    "def dense_layers(inputs):\n",
    "  x = tf.keras.layers.Flatten()(inputs)\n",
    "  x = tf.keras.layers.Dense(128, activation='relu')(x)\n",
    "  return x"
   ]
  },
  {
   "cell_type": "code",
   "execution_count": 44,
   "id": "e27b2c52-7402-44df-8b13-8013b8b8b26e",
   "metadata": {},
   "outputs": [],
   "source": [
    "def classifier(inputs):\n",
    "  classification_output = tf.keras.layers.Dense(10, activation='softmax', name = 'classification')(inputs)\n",
    "  return classification_output"
   ]
  },
  {
   "cell_type": "code",
   "execution_count": 45,
   "id": "fb68e57b-0a85-4ecf-9887-71966dbdbb46",
   "metadata": {},
   "outputs": [],
   "source": [
    "def bounding_box_regression(inputs):\n",
    "    bounding_box_regression_output = tf.keras.layers.Dense(units = '4', name = 'bounding_box')(inputs)\n",
    "    return bounding_box_regression_output"
   ]
  },
  {
   "cell_type": "code",
   "execution_count": 46,
   "id": "badfe3e0-51e1-4893-b679-51efc6a4c611",
   "metadata": {},
   "outputs": [],
   "source": [
    "def final_model(inputs):\n",
    "    feature_cnn = feature_extractor(inputs)\n",
    "    dense_output = dense_layers(feature_cnn)\n",
    "    classification_output = classifier(dense_output)\n",
    "    bounding_box_output = bounding_box_regression(dense_output)\n",
    "    model = tf.keras.Model(inputs = inputs, outputs = [classification_output, bounding_box_output])\n",
    "    return model"
   ]
  },
  {
   "cell_type": "code",
   "execution_count": 47,
   "id": "bf2cdaa7-63ec-4732-8217-93310df30138",
   "metadata": {},
   "outputs": [
    {
     "name": "stdout",
     "output_type": "stream",
     "text": [
      "Model: \"model_1\"\n",
      "__________________________________________________________________________________________________\n",
      " Layer (type)                   Output Shape         Param #     Connected to                     \n",
      "==================================================================================================\n",
      " input_2 (InputLayer)           [(None, 75, 75, 1)]  0           []                               \n",
      "                                                                                                  \n",
      " conv2d_94 (Conv2D)             (None, 73, 73, 16)   160         ['input_2[0][0]']                \n",
      "                                                                                                  \n",
      " average_pooling2d_9 (AveragePo  (None, 36, 36, 16)  0           ['conv2d_94[0][0]']              \n",
      " oling2D)                                                                                         \n",
      "                                                                                                  \n",
      " conv2d_95 (Conv2D)             (None, 34, 34, 32)   4640        ['average_pooling2d_9[0][0]']    \n",
      "                                                                                                  \n",
      " average_pooling2d_10 (AverageP  (None, 17, 17, 32)  0           ['conv2d_95[0][0]']              \n",
      " ooling2D)                                                                                        \n",
      "                                                                                                  \n",
      " conv2d_96 (Conv2D)             (None, 15, 15, 64)   18496       ['average_pooling2d_10[0][0]']   \n",
      "                                                                                                  \n",
      " average_pooling2d_11 (AverageP  (None, 7, 7, 64)    0           ['conv2d_96[0][0]']              \n",
      " ooling2D)                                                                                        \n",
      "                                                                                                  \n",
      " flatten_2 (Flatten)            (None, 3136)         0           ['average_pooling2d_11[0][0]']   \n",
      "                                                                                                  \n",
      " dense_4 (Dense)                (None, 128)          401536      ['flatten_2[0][0]']              \n",
      "                                                                                                  \n",
      " classification (Dense)         (None, 10)           1290        ['dense_4[0][0]']                \n",
      "                                                                                                  \n",
      " bounding_box (Dense)           (None, 4)            516         ['dense_4[0][0]']                \n",
      "                                                                                                  \n",
      "==================================================================================================\n",
      "Total params: 426,638\n",
      "Trainable params: 426,638\n",
      "Non-trainable params: 0\n",
      "__________________________________________________________________________________________________\n"
     ]
    }
   ],
   "source": [
    "def define_and_compile_model(inputs):\n",
    "  model = final_model(inputs)\n",
    "  model.compile(optimizer='adam', \n",
    "              loss = {'classification' : 'categorical_crossentropy','bounding_box' : 'mse'},\n",
    "              metrics = {'classification' : 'accuracy','bounding_box' : 'mse'})\n",
    "  return model\n",
    "\n",
    "with strategy.scope():\n",
    "  inputs = tf.keras.layers.Input(shape=(75, 75, 1,))\n",
    "  model = define_and_compile_model(inputs)\n",
    "\n",
    "model.summary()"
   ]
  },
  {
   "cell_type": "markdown",
   "id": "bedbcc7c-090d-4b95-aa21-9758335b490b",
   "metadata": {},
   "source": [
    "#### training"
   ]
  },
  {
   "cell_type": "code",
   "execution_count": 40,
   "id": "a7adc41b-167b-4a64-b0d1-acebb939da6a",
   "metadata": {},
   "outputs": [],
   "source": [
    "strategy = tf.distribute.get_strategy()\n",
    "BATCH_SIZE = 64 * strategy.num_replicas_in_sync"
   ]
  },
  {
   "cell_type": "code",
   "execution_count": 56,
   "id": "eb85a2ac-fec4-44cb-9ccb-7bc864790b2e",
   "metadata": {},
   "outputs": [
    {
     "name": "stdout",
     "output_type": "stream",
     "text": [
      "Epoch 1/10\n",
      "937/937 [==============================] - 125s 132ms/step - loss: 1.0195 - classification_loss: 1.0040 - bounding_box_loss: 0.0155 - classification_accuracy: 0.6455 - bounding_box_mse: 0.0155 - val_loss: 0.3207 - val_classification_loss: 0.3109 - val_bounding_box_loss: 0.0099 - val_classification_accuracy: 0.9053 - val_bounding_box_mse: 0.0099\n",
      "Epoch 2/10\n",
      "937/937 [==============================] - 123s 131ms/step - loss: 0.2683 - classification_loss: 0.2618 - bounding_box_loss: 0.0065 - classification_accuracy: 0.9201 - bounding_box_mse: 0.0065 - val_loss: 0.2099 - val_classification_loss: 0.2059 - val_bounding_box_loss: 0.0041 - val_classification_accuracy: 0.9399 - val_bounding_box_mse: 0.0041\n",
      "Epoch 3/10\n",
      "937/937 [==============================] - 125s 133ms/step - loss: 0.1968 - classification_loss: 0.1934 - bounding_box_loss: 0.0034 - classification_accuracy: 0.9422 - bounding_box_mse: 0.0034 - val_loss: 0.1291 - val_classification_loss: 0.1267 - val_bounding_box_loss: 0.0024 - val_classification_accuracy: 0.9621 - val_bounding_box_mse: 0.0024\n",
      "Epoch 4/10\n",
      "937/937 [==============================] - 124s 133ms/step - loss: 0.1573 - classification_loss: 0.1550 - bounding_box_loss: 0.0023 - classification_accuracy: 0.9523 - bounding_box_mse: 0.0023 - val_loss: 0.1151 - val_classification_loss: 0.1133 - val_bounding_box_loss: 0.0018 - val_classification_accuracy: 0.9644 - val_bounding_box_mse: 0.0018\n",
      "Epoch 5/10\n",
      "937/937 [==============================] - 123s 131ms/step - loss: 0.1326 - classification_loss: 0.1308 - bounding_box_loss: 0.0018 - classification_accuracy: 0.9591 - bounding_box_mse: 0.0018 - val_loss: 0.0913 - val_classification_loss: 0.0898 - val_bounding_box_loss: 0.0014 - val_classification_accuracy: 0.9735 - val_bounding_box_mse: 0.0014\n",
      "Epoch 6/10\n",
      "937/937 [==============================] - 123s 131ms/step - loss: 0.1151 - classification_loss: 0.1135 - bounding_box_loss: 0.0015 - classification_accuracy: 0.9649 - bounding_box_mse: 0.0015 - val_loss: 0.0979 - val_classification_loss: 0.0966 - val_bounding_box_loss: 0.0013 - val_classification_accuracy: 0.9701 - val_bounding_box_mse: 0.0013\n",
      "Epoch 7/10\n",
      "937/937 [==============================] - 123s 131ms/step - loss: 0.1038 - classification_loss: 0.1025 - bounding_box_loss: 0.0013 - classification_accuracy: 0.9676 - bounding_box_mse: 0.0013 - val_loss: 0.0982 - val_classification_loss: 0.0970 - val_bounding_box_loss: 0.0012 - val_classification_accuracy: 0.9685 - val_bounding_box_mse: 0.0012\n",
      "Epoch 8/10\n",
      "937/937 [==============================] - 125s 134ms/step - loss: 0.0906 - classification_loss: 0.0895 - bounding_box_loss: 0.0011 - classification_accuracy: 0.9721 - bounding_box_mse: 0.0011 - val_loss: 0.0803 - val_classification_loss: 0.0790 - val_bounding_box_loss: 0.0013 - val_classification_accuracy: 0.9738 - val_bounding_box_mse: 0.0013\n",
      "Epoch 9/10\n",
      "937/937 [==============================] - 123s 132ms/step - loss: 0.0837 - classification_loss: 0.0827 - bounding_box_loss: 0.0011 - classification_accuracy: 0.9740 - bounding_box_mse: 0.0011 - val_loss: 0.0713 - val_classification_loss: 0.0703 - val_bounding_box_loss: 9.7884e-04 - val_classification_accuracy: 0.9769 - val_bounding_box_mse: 9.7884e-04\n",
      "Epoch 10/10\n",
      "937/937 [==============================] - 123s 132ms/step - loss: 0.0781 - classification_loss: 0.0771 - bounding_box_loss: 0.0010 - classification_accuracy: 0.9765 - bounding_box_mse: 0.0010 - val_loss: 0.0607 - val_classification_loss: 0.0598 - val_bounding_box_loss: 9.5280e-04 - val_classification_accuracy: 0.9802 - val_bounding_box_mse: 9.5280e-04\n",
      "1/1 [==============================] - 5s 5s/step - loss: 0.0666 - classification_loss: 0.0657 - bounding_box_loss: 9.4836e-04 - classification_accuracy: 0.9790 - bounding_box_mse: 9.4836e-04\n",
      "Validation accuracy:  0.9789999723434448\n"
     ]
    }
   ],
   "source": [
    "EPOCHS = 10 # 45\n",
    "steps_per_epoch = 60000//BATCH_SIZE  # 60,000 items in this dataset\n",
    "validation_steps = 1\n",
    "\n",
    "history = model.fit(training_dataset,steps_per_epoch=steps_per_epoch, validation_data=validation_dataset, validation_steps=validation_steps, epochs=EPOCHS)\n",
    "loss, classification_loss, bounding_box_loss, classification_accuracy, bounding_box_mse = model.evaluate(validation_dataset, steps=1)\n",
    "print(\"Validation accuracy: \", classification_accuracy)"
   ]
  },
  {
   "cell_type": "markdown",
   "id": "cd9a211a-8a55-4569-be0d-4d1b80a777a8",
   "metadata": {},
   "source": [
    "#### results"
   ]
  },
  {
   "cell_type": "code",
   "execution_count": 195,
   "id": "800a2f47-815d-4550-8148-9529fa72848e",
   "metadata": {},
   "outputs": [],
   "source": [
    "im_width = 75\n",
    "im_height = 75\n",
    "use_normalized_coordinates = True\n",
    "\n",
    "def draw_bounding_box_on_image(image,ymin,xmin,ymax,xmax,color='red',thickness=1,display_str=None,use_normalized_coordinates=True):\n",
    "  draw = PIL.ImageDraw.Draw(image)\n",
    "  im_width, im_height = image.size\n",
    "  if use_normalized_coordinates:\n",
    "    (left, right, top, bottom) = (xmin * im_width, xmax * im_width, ymin * im_height, ymax * im_height)\n",
    "  else:\n",
    "    (left, right, top, bottom) = (xmin, xmax, ymin, ymax)\n",
    "  draw.line([(left, top), (left, bottom), (right, bottom),(right, top), (left, top)], width=thickness, fill=color)\n",
    "\n",
    "def draw_bounding_boxes_on_image(image,boxes,thickness=1,display_str_list=()):\n",
    "  boxes_shape = boxes.shape\n",
    "  if not boxes_shape:\n",
    "    return\n",
    "  if len(boxes_shape) != 2 or boxes_shape[1] != 4:\n",
    "    raise ValueError('Input must be of size [N, 4]')\n",
    "  for i in range(boxes_shape[0]):\n",
    "    draw_bounding_box_on_image(image, boxes[i, 1], boxes[i, 0], boxes[i, 3],boxes[i, 2],)\n",
    "        \n",
    "def draw_bounding_boxes_on_image_array(image,boxes,thickness=1,display_str_list=()):\n",
    "  image_pil = PIL.Image.fromarray(image)\n",
    "  rgbimg = PIL.Image.new(\"RGBA\", image_pil.size)\n",
    "  rgbimg.paste(image_pil)\n",
    "  draw_bounding_boxes_on_image(rgbimg, boxes)\n",
    "  return np.array(rgbimg)"
   ]
  },
  {
   "cell_type": "code",
   "execution_count": 146,
   "id": "482977b4-b4d3-4bc8-b80c-6d13089eb1b7",
   "metadata": {},
   "outputs": [],
   "source": [
    "def intersection_over_union(pred_box, true_box):\n",
    "    xmin_pred, ymin_pred, xmax_pred, ymax_pred =  np.split(pred_box, 4, axis = 1)\n",
    "    xmin_true, ymin_true, xmax_true, ymax_true = np.split(true_box, 4, axis = 1)\n",
    "    smoothing_factor = 1e-10\n",
    "    xmin_overlap = np.maximum(xmin_pred, xmin_true)\n",
    "    xmax_overlap = np.minimum(xmax_pred, xmax_true)\n",
    "    ymin_overlap = np.maximum(ymin_pred, ymin_true)\n",
    "    ymax_overlap = np.minimum(ymax_pred, ymax_true)\n",
    "    pred_box_area = (xmax_pred - xmin_pred) * (ymax_pred - ymin_pred)\n",
    "    true_box_area = (xmax_true - xmin_true) * (ymax_true - ymin_true)\n",
    "    overlap_area = np.maximum((xmax_overlap - xmin_overlap), 0)  * np.maximum((ymax_overlap - ymin_overlap), 0)\n",
    "    union_area = (pred_box_area + true_box_area) - overlap_area\n",
    "    iou = (overlap_area + smoothing_factor) / (union_area + smoothing_factor)\n",
    "\n",
    "    return iou"
   ]
  },
  {
   "cell_type": "code",
   "execution_count": 166,
   "id": "8c89260b-90c8-4fea-9abf-71186ebb3b6b",
   "metadata": {},
   "outputs": [],
   "source": [
    "def dataset_to_numpy_util(training_dataset, validation_dataset, N):\n",
    "  \n",
    "  # get one batch from each: 10000 validation digits, N training digits\n",
    "  batch_train_ds = training_dataset.unbatch().batch(N)\n",
    "  \n",
    "  # eager execution: loop through datasets normally\n",
    "  if tf.executing_eagerly():\n",
    "    for validation_digits, (validation_labels, validation_bboxes) in validation_dataset:\n",
    "      validation_digits = validation_digits.numpy()\n",
    "      validation_labels = validation_labels.numpy()\n",
    "      validation_bboxes = validation_bboxes.numpy()\n",
    "      break\n",
    "    for training_digits, (training_labels, training_bboxes) in batch_train_ds:\n",
    "      training_digits = training_digits.numpy()\n",
    "      training_labels = training_labels.numpy()\n",
    "      training_bboxes = training_bboxes.numpy()\n",
    "      break\n",
    "  \n",
    "  # these were one-hot encoded in the dataset\n",
    "  validation_labels = np.argmax(validation_labels, axis=1)\n",
    "  training_labels = np.argmax(training_labels, axis=1)\n",
    "  \n",
    "  return (training_digits, training_labels, training_bboxes,\n",
    "          validation_digits, validation_labels, validation_bboxes)"
   ]
  },
  {
   "cell_type": "code",
   "execution_count": 189,
   "id": "de497466-187b-4235-bea9-0c9af601b6d2",
   "metadata": {},
   "outputs": [],
   "source": [
    "(training_digits, training_labels, training_bboxes,validation_digits, validation_labels, validation_bboxes) = dataset_to_numpy_util(training_dataset, validation_dataset, 10)"
   ]
  },
  {
   "cell_type": "code",
   "execution_count": 190,
   "id": "2875dbc4-c287-4f95-bcc7-cdddc7462bbe",
   "metadata": {},
   "outputs": [
    {
     "name": "stdout",
     "output_type": "stream",
     "text": [
      "Number of predictions where iou > threshold(0.6): 9349\n",
      "Number of predictions where iou < threshold(0.6): 651\n"
     ]
    }
   ],
   "source": [
    "predictions = model.predict(validation_digits, batch_size=64)\n",
    "predicted_labels = np.argmax(predictions[0], axis=1)\n",
    "predicted_bboxes = predictions[1]\n",
    "iou = intersection_over_union(predicted_bboxes, validation_bboxes)\n",
    "iou_threshold = 0.6\n",
    "\n",
    "print(\"Number of predictions where iou > threshold(%s): %s\" % (iou_threshold, (iou >= iou_threshold).sum()))\n",
    "print(\"Number of predictions where iou < threshold(%s): %s\" % (iou_threshold, (iou < iou_threshold).sum()))"
   ]
  },
  {
   "cell_type": "code",
   "execution_count": 218,
   "id": "60ef388a-343b-4901-a22b-b9d2a6f5d9ad",
   "metadata": {},
   "outputs": [
    {
     "name": "stdout",
     "output_type": "stream",
     "text": [
      "True label: 2\n",
      "Prediction: 2\n"
     ]
    },
    {
     "data": {
      "text/plain": [
       "<matplotlib.image.AxesImage at 0x1ce9bd59970>"
      ]
     },
     "execution_count": 218,
     "metadata": {},
     "output_type": "execute_result"
    },
    {
     "data": {
      "image/png": "[encoded data removed]",
      "text/plain": [
       "<Figure size 640x480 with 1 Axes>"
      ]
     },
     "metadata": {},
     "output_type": "display_data"
    }
   ],
   "source": [
    "validation_digits[0]\n",
    "img=validation_digits[0].reshape(75,75)\n",
    "print(f'True label: {predicted_labels[0]}')\n",
    "print(f'Prediction: {validation_labels[0]}')\n",
    "\n",
    "predictions[1][0]\n",
    "pred=predictions[1][0].reshape(1,4)\n",
    "box=draw_bounding_boxes_on_image_array(img,pred)\n",
    "new_box=[]\n",
    "for i in box:\n",
    "    k=[]\n",
    "    for j in i:\n",
    "        k.append(j[0])\n",
    "    new_box.append(k)\n",
    "new_box=np.array(new_box,dtype=\"float32\")\n",
    "image=new_box/255+img\n",
    "plt.imshow(image)"
   ]
  },
  {
   "cell_type": "markdown",
   "id": "fa3f1742-b9ca-43b8-af44-7f7898d44509",
   "metadata": {},
   "source": [
    "---"
   ]
  },
  {
   "cell_type": "markdown",
   "id": "2bd74734-e82a-44db-bb94-b6dfc76e6998",
   "metadata": {},
   "source": [
    "#### displaying training images and boxes"
   ]
  },
  {
   "cell_type": "code",
   "execution_count": 219,
   "id": "2f2277a0-e96d-4063-8802-a4dd9c5f938d",
   "metadata": {},
   "outputs": [
    {
     "data": {
      "text/plain": [
       "<PrefetchDataset shapes: ((64, 75, 75, 1), ((64, 10), (64, 4))), types: (tf.float32, (tf.float32, tf.float32))>"
      ]
     },
     "execution_count": 219,
     "metadata": {},
     "output_type": "execute_result"
    }
   ],
   "source": [
    "training_dataset"
   ]
  },
  {
   "cell_type": "code",
   "execution_count": 230,
   "id": "dcc28830-4988-4654-b169-dfbb4c7d9053",
   "metadata": {},
   "outputs": [
    {
     "name": "stdout",
     "output_type": "stream",
     "text": [
      "<class 'numpy.ndarray'> <class 'tuple'>\n"
     ]
    }
   ],
   "source": [
    "for image, label in tfds.as_numpy(training_dataset.take(1)):\n",
    "  print(type(image), type(label))"
   ]
  },
  {
   "cell_type": "code",
   "execution_count": 231,
   "id": "1cb79935-e773-4f2f-b07c-12f9d62e242c",
   "metadata": {},
   "outputs": [],
   "source": [
    "import matplotlib.pyplot as plt"
   ]
  },
  {
   "cell_type": "code",
   "execution_count": 232,
   "id": "251bf143-4da1-4587-9b7b-c187b478f927",
   "metadata": {},
   "outputs": [
    {
     "data": {
      "text/plain": [
       "<matplotlib.image.AxesImage at 0x1ce9bf667c0>"
      ]
     },
     "execution_count": 232,
     "metadata": {},
     "output_type": "execute_result"
    },
    {
     "data": {
      "image/png": "[encoded data removed]",
      "text/plain": [
       "<Figure size 640x480 with 1 Axes>"
      ]
     },
     "metadata": {},
     "output_type": "display_data"
    }
   ],
   "source": [
    "img=image[0].reshape(75,75)\n",
    "lab=label[1][0]\n",
    "lab=lab.reshape(1,4)\n",
    "box=draw_bounding_boxes_on_image_array(img,lab)\n",
    "new_box=[]\n",
    "for i in box:\n",
    "    k=[]\n",
    "    for j in i:\n",
    "        k.append(j[0])\n",
    "    new_box.append(k)\n",
    "new_box=np.array(new_box,dtype=\"float32\")\n",
    "image=new_box/255+img\n",
    "plt.imshow(image)"
   ]
  },
  {
   "cell_type": "code",
   "execution_count": null,
   "id": "d4f53d5d-0235-4086-8cdf-6cd8f842ecfe",
   "metadata": {},
   "outputs": [],
   "source": []
  }
 ],
 "metadata": {
  "kernelspec": {
   "display_name": "Python 3 (ipykernel)",
   "language": "python",
   "name": "python3"
  },
  "language_info": {
   "codemirror_mode": {
    "name": "ipython",
    "version": 3
   },
   "file_extension": ".py",
   "mimetype": "text/x-python",
   "name": "python",
   "nbconvert_exporter": "python",
   "pygments_lexer": "ipython3",
   "version": "3.9.18"
  }
 },
 "nbformat": 4,
 "nbformat_minor": 5
}
