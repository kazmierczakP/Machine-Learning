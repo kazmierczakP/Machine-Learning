{
 "cells": [
  {
   "cell_type": "markdown",
   "id": "0a3e566f-c037-4596-bb08-f6aeae4470ff",
   "metadata": {},
   "source": [
    "# Interpretation"
   ]
  },
  {
   "cell_type": "markdown",
   "id": "4283bc0e-eb31-4b1b-a2e9-6b9db62507dd",
   "metadata": {},
   "source": [
    "### Class activation map\n",
    "\n",
    "`Class activation map` shows which pixels were used by the model to make prediction"
   ]
  },
  {
   "cell_type": "code",
   "execution_count": null,
   "id": "67bdf15d-b730-42df-a61c-13ab28a0ee3a",
   "metadata": {},
   "outputs": [],
   "source": []
  }
 ],
 "metadata": {
  "kernelspec": {
   "display_name": "Python 3 (ipykernel)",
   "language": "python",
   "name": "python3"
  },
  "language_info": {
   "codemirror_mode": {
    "name": "ipython",
    "version": 3
   },
   "file_extension": ".py",
   "mimetype": "text/x-python",
   "name": "python",
   "nbconvert_exporter": "python",
   "pygments_lexer": "ipython3",
   "version": "3.9.18"
  }
 },
 "nbformat": 4,
 "nbformat_minor": 5
}
