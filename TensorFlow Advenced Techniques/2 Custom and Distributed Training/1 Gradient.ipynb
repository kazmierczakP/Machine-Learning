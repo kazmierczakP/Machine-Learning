{
 "cells": [
  {
   "cell_type": "markdown",
   "id": "99c5aec2-a16f-44c2-b5bd-6aa6253b1dc1",
   "metadata": {},
   "source": [
    "# Tensor basics"
   ]
  },
  {
   "cell_type": "code",
   "execution_count": 19,
   "id": "f8ee315b-05ce-42b5-b4bb-6d9a731284f0",
   "metadata": {},
   "outputs": [],
   "source": [
    "import tensorflow as tf\n",
    "import numpy as np"
   ]
  },
  {
   "cell_type": "code",
   "execution_count": 2,
   "id": "2aaaf30d-9659-41c7-b19a-1140fee356f1",
   "metadata": {},
   "outputs": [
    {
     "data": {
      "text/plain": [
       "<tf.Variable 'Variable:0' shape=() dtype=string, numpy=b'test'>"
      ]
     },
     "execution_count": 2,
     "metadata": {},
     "output_type": "execute_result"
    }
   ],
   "source": [
    "tf.Variable('test',tf.string)"
   ]
  },
  {
   "cell_type": "code",
   "execution_count": 3,
   "id": "6ee4f54b-c40e-469a-ad72-6288f8e50046",
   "metadata": {},
   "outputs": [
    {
     "data": {
      "text/plain": [
       "<tf.Tensor: shape=(3,), dtype=int32, numpy=array([1, 2, 3])>"
      ]
     },
     "execution_count": 3,
     "metadata": {},
     "output_type": "execute_result"
    }
   ],
   "source": [
    "tf.constant([1,2,3])"
   ]
  },
  {
   "cell_type": "code",
   "execution_count": 4,
   "id": "5b9fec06-aa12-4e86-8cb2-61cf5746a88d",
   "metadata": {},
   "outputs": [
    {
     "data": {
      "text/plain": [
       "<tf.Tensor: shape=(2, 3), dtype=int32, numpy=\n",
       "array([[1, 2, 3],\n",
       "       [4, 5, 6]])>"
      ]
     },
     "execution_count": 4,
     "metadata": {},
     "output_type": "execute_result"
    }
   ],
   "source": [
    "tf.constant([[1,2,3],[4,5,6]])"
   ]
  },
  {
   "cell_type": "markdown",
   "id": "477e23b0-97d9-4ac0-ac30-9fad7a2fd2d6",
   "metadata": {},
   "source": [
    "---"
   ]
  },
  {
   "cell_type": "code",
   "execution_count": 5,
   "id": "2c77ab53-006e-4b2b-9d08-1105ab4ef9f5",
   "metadata": {},
   "outputs": [],
   "source": [
    "model=tf.keras.models.Sequential([\n",
    "    tf.keras.layers.Dense(1,input_shape=(1,))\n",
    "])"
   ]
  },
  {
   "cell_type": "code",
   "execution_count": 6,
   "id": "4dade026-8bbe-490a-8bdb-c0266cfdfea5",
   "metadata": {},
   "outputs": [
    {
     "data": {
      "text/plain": [
       "[<tf.Variable 'dense/kernel:0' shape=(1, 1) dtype=float32, numpy=array([[-0.1752721]], dtype=float32)>,\n",
       " <tf.Variable 'dense/bias:0' shape=(1,) dtype=float32, numpy=array([0.], dtype=float32)>]"
      ]
     },
     "execution_count": 6,
     "metadata": {},
     "output_type": "execute_result"
    }
   ],
   "source": [
    "model.variables"
   ]
  },
  {
   "cell_type": "markdown",
   "id": "8daf1b6a-009c-48fc-96ba-166ade2af8b9",
   "metadata": {},
   "source": [
    "---"
   ]
  },
  {
   "cell_type": "markdown",
   "id": "1b5b0559-3aaf-438a-b1be-cd4ee227881c",
   "metadata": {},
   "source": [
    "#### dtype"
   ]
  },
  {
   "cell_type": "code",
   "execution_count": 15,
   "id": "0cd6f37a-d4de-4890-8e46-6bcd63c30aed",
   "metadata": {},
   "outputs": [
    {
     "data": {
      "text/plain": [
       "<tf.Variable 'Variable:0' shape=(2,) dtype=int32, numpy=array([1, 2])>"
      ]
     },
     "execution_count": 15,
     "metadata": {},
     "output_type": "execute_result"
    }
   ],
   "source": [
    "vector=tf.Variable([1,2])\n",
    "vector"
   ]
  },
  {
   "cell_type": "code",
   "execution_count": 7,
   "id": "8719da70-b970-42c9-813e-f1f2f8cb493e",
   "metadata": {},
   "outputs": [
    {
     "data": {
      "text/plain": [
       "<tf.Variable 'Variable:0' shape=(2,) dtype=int32, numpy=array([1, 2])>"
      ]
     },
     "execution_count": 7,
     "metadata": {},
     "output_type": "execute_result"
    }
   ],
   "source": [
    "vector=tf.Variable(initial_value=[1,2])\n",
    "vector"
   ]
  },
  {
   "cell_type": "code",
   "execution_count": 8,
   "id": "38978c3b-3a6c-42a1-a9db-7f2fd5863038",
   "metadata": {},
   "outputs": [
    {
     "data": {
      "text/plain": [
       "<tf.Variable 'Variable:0' shape=(2,) dtype=float32, numpy=array([1., 2.], dtype=float32)>"
      ]
     },
     "execution_count": 8,
     "metadata": {},
     "output_type": "execute_result"
    }
   ],
   "source": [
    "vector=tf.Variable(initial_value=[1,2],dtype=tf.float32)\n",
    "vector"
   ]
  },
  {
   "cell_type": "code",
   "execution_count": 17,
   "id": "6261819c-a615-4e20-b2e9-428f94f8609f",
   "metadata": {},
   "outputs": [
    {
     "data": {
      "text/plain": [
       "<tf.Variable 'Variable:0' shape=(3, 2) dtype=int32, numpy=\n",
       "array([[1, 2],\n",
       "       [3, 4],\n",
       "       [5, 6]])>"
      ]
     },
     "execution_count": 17,
     "metadata": {},
     "output_type": "execute_result"
    }
   ],
   "source": [
    "vector=tf.Variable([[1,2],[3,4],[5,6]])\n",
    "vector"
   ]
  },
  {
   "cell_type": "code",
   "execution_count": 11,
   "id": "6a985071-b275-4bca-aae3-769802cbdc2d",
   "metadata": {},
   "outputs": [
    {
     "data": {
      "text/plain": [
       "<tf.Variable 'Variable:0' shape=() dtype=string, numpy=b'text'>"
      ]
     },
     "execution_count": 11,
     "metadata": {},
     "output_type": "execute_result"
    }
   ],
   "source": [
    "word=tf.Variable('text',dtype=tf.string)\n",
    "word"
   ]
  },
  {
   "cell_type": "code",
   "execution_count": 13,
   "id": "4ee6c363-e077-4ad8-8f27-85af5b862340",
   "metadata": {},
   "outputs": [
    {
     "data": {
      "text/plain": [
       "<tf.Variable 'Variable:0' shape=() dtype=complex64, numpy=(4+3j)>"
      ]
     },
     "execution_count": 13,
     "metadata": {},
     "output_type": "execute_result"
    }
   ],
   "source": [
    "complex=tf.Variable(4+3j, dtype=tf.complex64)\n",
    "complex"
   ]
  },
  {
   "cell_type": "markdown",
   "id": "31c3868d-3b5c-4d1a-a229-dafffd28e1eb",
   "metadata": {},
   "source": [
    "#### constant"
   ]
  },
  {
   "cell_type": "markdown",
   "id": "a7815b86-66c9-4799-87e6-de261e7cedb8",
   "metadata": {},
   "source": [
    "For `tf.constant` ypu can use shape to reshape the vector into multi dimensional matrix. This operation cannot be done with `tf.Variable`."
   ]
  },
  {
   "cell_type": "code",
   "execution_count": 14,
   "id": "996da11f-8a47-477f-9b20-363009078c4d",
   "metadata": {},
   "outputs": [
    {
     "data": {
      "text/plain": [
       "<tf.Tensor: shape=(3,), dtype=int32, numpy=array([1, 2, 3])>"
      ]
     },
     "execution_count": 14,
     "metadata": {},
     "output_type": "execute_result"
    }
   ],
   "source": [
    "tensor=tf.constant([1,2,3])\n",
    "tensor"
   ]
  },
  {
   "cell_type": "code",
   "execution_count": 15,
   "id": "9ccf3b94-21f9-4f24-af08-3e8e56d65c6c",
   "metadata": {},
   "outputs": [
    {
     "data": {
      "text/plain": [
       "<tf.Tensor: shape=(2, 3), dtype=int32, numpy=\n",
       "array([[1, 2, 3],\n",
       "       [4, 5, 6]])>"
      ]
     },
     "execution_count": 15,
     "metadata": {},
     "output_type": "execute_result"
    }
   ],
   "source": [
    "tensor=tf.constant([1,2,3,4,5,6],shape=(2,3))\n",
    "tensor"
   ]
  },
  {
   "cell_type": "code",
   "execution_count": 16,
   "id": "e635867f-c260-4e2a-80fa-878a6c6a15fc",
   "metadata": {},
   "outputs": [
    {
     "data": {
      "text/plain": [
       "<tf.Tensor: shape=(2, 3), dtype=int32, numpy=\n",
       "array([[1, 1, 1],\n",
       "       [1, 1, 1]])>"
      ]
     },
     "execution_count": 16,
     "metadata": {},
     "output_type": "execute_result"
    }
   ],
   "source": [
    "tensor=tf.constant(1,shape=(2,3))\n",
    "tensor"
   ]
  },
  {
   "cell_type": "markdown",
   "id": "7e2faad6-0e5b-4042-b615-d5712cd50dc9",
   "metadata": {},
   "source": [
    "#### math operations"
   ]
  },
  {
   "cell_type": "code",
   "execution_count": 17,
   "id": "d64cbd77-46d8-4df7-8a2f-232e541ff6f7",
   "metadata": {},
   "outputs": [
    {
     "data": {
      "text/plain": [
       "<tf.Tensor: shape=(2,), dtype=int32, numpy=array([4, 6])>"
      ]
     },
     "execution_count": 17,
     "metadata": {},
     "output_type": "execute_result"
    }
   ],
   "source": [
    "tf.add([1,2],[3,4])"
   ]
  },
  {
   "cell_type": "code",
   "execution_count": 19,
   "id": "05db2a96-811d-43b1-a1d2-28e5127c2827",
   "metadata": {},
   "outputs": [
    {
     "data": {
      "text/plain": [
       "<tf.Tensor: shape=(), dtype=int32, numpy=25>"
      ]
     },
     "execution_count": 19,
     "metadata": {},
     "output_type": "execute_result"
    }
   ],
   "source": [
    "tf.square(5)"
   ]
  },
  {
   "cell_type": "code",
   "execution_count": 20,
   "id": "3062fd65-1c8c-43b6-b3fa-4ba7c66c9c97",
   "metadata": {},
   "outputs": [
    {
     "data": {
      "text/plain": [
       "<tf.Tensor: shape=(), dtype=int32, numpy=6>"
      ]
     },
     "execution_count": 20,
     "metadata": {},
     "output_type": "execute_result"
    }
   ],
   "source": [
    "tf.reduce_sum([1,2,3])"
   ]
  },
  {
   "cell_type": "code",
   "execution_count": 21,
   "id": "8d3798e1-d0a2-4f6a-8bf0-8b43911f41a8",
   "metadata": {},
   "outputs": [
    {
     "data": {
      "text/plain": [
       "<tf.Tensor: shape=(), dtype=int32, numpy=29>"
      ]
     },
     "execution_count": 21,
     "metadata": {},
     "output_type": "execute_result"
    }
   ],
   "source": [
    "tf.square(5)+tf.square(2)"
   ]
  },
  {
   "cell_type": "markdown",
   "id": "79370e1a-339f-48a8-8dd4-1fda2714aa7f",
   "metadata": {},
   "source": [
    "---"
   ]
  },
  {
   "cell_type": "markdown",
   "id": "5ac4d559-d162-4233-ad15-c9f117cff8a7",
   "metadata": {},
   "source": [
    "### exercise"
   ]
  },
  {
   "cell_type": "code",
   "execution_count": 21,
   "id": "b8785a0f-9654-4e37-aead-75edb64734a9",
   "metadata": {},
   "outputs": [
    {
     "data": {
      "text/plain": [
       "array([ 0,  1,  2,  3,  4,  5,  6,  7,  8,  9, 10, 11, 12, 13, 14, 15, 16,\n",
       "       17, 18, 19, 20, 21, 22, 23, 24])"
      ]
     },
     "execution_count": 21,
     "metadata": {},
     "output_type": "execute_result"
    }
   ],
   "source": [
    "x=np.arange(0,25)\n",
    "x"
   ]
  },
  {
   "cell_type": "code",
   "execution_count": 22,
   "id": "6cf85207-66ca-40c2-af89-52d3fb601668",
   "metadata": {},
   "outputs": [
    {
     "data": {
      "text/plain": [
       "<tf.Tensor: shape=(25,), dtype=int32, numpy=\n",
       "array([ 0,  1,  2,  3,  4,  5,  6,  7,  8,  9, 10, 11, 12, 13, 14, 15, 16,\n",
       "       17, 18, 19, 20, 21, 22, 23, 24])>"
      ]
     },
     "execution_count": 22,
     "metadata": {},
     "output_type": "execute_result"
    }
   ],
   "source": [
    "x=tf.constant(x)\n",
    "x"
   ]
  },
  {
   "cell_type": "code",
   "execution_count": 23,
   "id": "d6606afb-ff42-4fea-8699-34a6f48c1d67",
   "metadata": {},
   "outputs": [
    {
     "data": {
      "text/plain": [
       "<tf.Tensor: shape=(25,), dtype=int32, numpy=\n",
       "array([  0,   1,   4,   9,  16,  25,  36,  49,  64,  81, 100, 121, 144,\n",
       "       169, 196, 225, 256, 289, 324, 361, 400, 441, 484, 529, 576])>"
      ]
     },
     "execution_count": 23,
     "metadata": {},
     "output_type": "execute_result"
    }
   ],
   "source": [
    "x=tf.square(x)\n",
    "x"
   ]
  },
  {
   "cell_type": "code",
   "execution_count": 26,
   "id": "797b5b36-87b6-4d9b-ad4f-21b1a420eff9",
   "metadata": {},
   "outputs": [
    {
     "data": {
      "text/plain": [
       "<tf.Tensor: shape=(5, 5), dtype=int32, numpy=\n",
       "array([[  0,   1,   4,   9,  16],\n",
       "       [ 25,  36,  49,  64,  81],\n",
       "       [100, 121, 144, 169, 196],\n",
       "       [225, 256, 289, 324, 361],\n",
       "       [400, 441, 484, 529, 576]])>"
      ]
     },
     "execution_count": 26,
     "metadata": {},
     "output_type": "execute_result"
    }
   ],
   "source": [
    "x=tf.reshape(x,(5,5))\n",
    "x"
   ]
  },
  {
   "cell_type": "code",
   "execution_count": 28,
   "id": "f06b4c54-7d4c-427a-8c10-3adf559951e2",
   "metadata": {},
   "outputs": [
    {
     "data": {
      "text/plain": [
       "<tf.Tensor: shape=(5, 5), dtype=float32, numpy=\n",
       "array([[  0.,   1.,   4.,   9.,  16.],\n",
       "       [ 25.,  36.,  49.,  64.,  81.],\n",
       "       [100., 121., 144., 169., 196.],\n",
       "       [225., 256., 289., 324., 361.],\n",
       "       [400., 441., 484., 529., 576.]], dtype=float32)>"
      ]
     },
     "execution_count": 28,
     "metadata": {},
     "output_type": "execute_result"
    }
   ],
   "source": [
    "x=tf.cast(x,tf.float32)\n",
    "x"
   ]
  },
  {
   "cell_type": "code",
   "execution_count": 35,
   "id": "303928b9-5c43-4b88-92c4-c238c9c7e0d0",
   "metadata": {},
   "outputs": [
    {
     "data": {
      "text/plain": [
       "<tf.Tensor: shape=(), dtype=float32, numpy=2.0>"
      ]
     },
     "execution_count": 35,
     "metadata": {},
     "output_type": "execute_result"
    }
   ],
   "source": [
    "y=tf.constant(2,dtype=tf.float32)\n",
    "y"
   ]
  },
  {
   "cell_type": "code",
   "execution_count": 36,
   "id": "b738480b-c645-47fc-8e88-ffc6a91f071e",
   "metadata": {},
   "outputs": [
    {
     "data": {
      "text/plain": [
       "<tf.Tensor: shape=(5, 5), dtype=float32, numpy=\n",
       "array([[   0.,    2.,    8.,   18.,   32.],\n",
       "       [  50.,   72.,   98.,  128.,  162.],\n",
       "       [ 200.,  242.,  288.,  338.,  392.],\n",
       "       [ 450.,  512.,  578.,  648.,  722.],\n",
       "       [ 800.,  882.,  968., 1058., 1152.]], dtype=float32)>"
      ]
     },
     "execution_count": 36,
     "metadata": {},
     "output_type": "execute_result"
    }
   ],
   "source": [
    "result=tf.math.multiply(x,y)\n",
    "result"
   ]
  },
  {
   "cell_type": "code",
   "execution_count": 37,
   "id": "b7588922-c02d-412d-b159-385839ed0751",
   "metadata": {},
   "outputs": [
    {
     "data": {
      "text/plain": [
       "<tf.Tensor: shape=(5,), dtype=float32, numpy=array([1., 2., 3., 4., 5.], dtype=float32)>"
      ]
     },
     "execution_count": 37,
     "metadata": {},
     "output_type": "execute_result"
    }
   ],
   "source": [
    "y=tf.constant([1,2,3,4,5],dtype=tf.float32)\n",
    "y"
   ]
  },
  {
   "cell_type": "code",
   "execution_count": 38,
   "id": "546b2289-0ffb-4d1f-85dd-424b57a237fd",
   "metadata": {},
   "outputs": [
    {
     "data": {
      "text/plain": [
       "<tf.Tensor: shape=(5, 5), dtype=float32, numpy=\n",
       "array([[  1.,   3.,   7.,  13.,  21.],\n",
       "       [ 26.,  38.,  52.,  68.,  86.],\n",
       "       [101., 123., 147., 173., 201.],\n",
       "       [226., 258., 292., 328., 366.],\n",
       "       [401., 443., 487., 533., 581.]], dtype=float32)>"
      ]
     },
     "execution_count": 38,
     "metadata": {},
     "output_type": "execute_result"
    }
   ],
   "source": [
    "result=x+y\n",
    "result"
   ]
  },
  {
   "cell_type": "markdown",
   "id": "28f80066-ef7b-4083-88d9-d4467fcb71f7",
   "metadata": {},
   "source": [
    "---"
   ]
  },
  {
   "cell_type": "markdown",
   "id": "773ce21b-ce42-4e70-8b12-84fc3d155ef2",
   "metadata": {},
   "source": [
    "# Graph vs Eager execution"
   ]
  },
  {
   "cell_type": "code",
   "execution_count": 39,
   "id": "82c0807d-2e51-4175-9ddb-5f407e87fc72",
   "metadata": {},
   "outputs": [
    {
     "name": "stdout",
     "output_type": "stream",
     "text": [
      "hello 4\n"
     ]
    }
   ],
   "source": [
    "x=2\n",
    "x_squared=tf.square(x)\n",
    "print(f'hello {x_squared}')"
   ]
  },
  {
   "cell_type": "markdown",
   "id": "4a7dc361-94cf-4e2e-bcfb-acc6d8880813",
   "metadata": {},
   "source": [
    "#### broadcasting"
   ]
  },
  {
   "cell_type": "code",
   "execution_count": 40,
   "id": "57f7845a-bdab-4037-a731-1d185bbca8dc",
   "metadata": {},
   "outputs": [],
   "source": [
    "a=tf.constant([[1,2],[3,4]])"
   ]
  },
  {
   "cell_type": "code",
   "execution_count": 42,
   "id": "29bb6af9-7134-47d4-b552-df88471717fe",
   "metadata": {},
   "outputs": [
    {
     "data": {
      "text/plain": [
       "<tf.Tensor: shape=(2, 2), dtype=int32, numpy=\n",
       "array([[2, 3],\n",
       "       [4, 5]])>"
      ]
     },
     "execution_count": 42,
     "metadata": {},
     "output_type": "execute_result"
    }
   ],
   "source": [
    "tf.add(a,1)"
   ]
  },
  {
   "cell_type": "markdown",
   "id": "0fb60bde-c803-4140-8248-9e1c1f93b258",
   "metadata": {},
   "source": [
    "#### operator overloading"
   ]
  },
  {
   "cell_type": "code",
   "execution_count": 43,
   "id": "79bf9afa-c6c9-496c-b722-91986e3a6f21",
   "metadata": {},
   "outputs": [],
   "source": [
    "a=tf.constant([[1,2],[3,4]])"
   ]
  },
  {
   "cell_type": "code",
   "execution_count": 44,
   "id": "6c5ed828-5635-4654-93e9-348ab1d9dabc",
   "metadata": {},
   "outputs": [
    {
     "data": {
      "text/plain": [
       "<tf.Tensor: shape=(2, 2), dtype=int32, numpy=\n",
       "array([[ 1,  4],\n",
       "       [ 9, 16]])>"
      ]
     },
     "execution_count": 44,
     "metadata": {},
     "output_type": "execute_result"
    }
   ],
   "source": [
    "a**2"
   ]
  },
  {
   "cell_type": "markdown",
   "id": "651b2074-85ad-4fa7-8fd7-229630dde9a9",
   "metadata": {},
   "source": [
    "#### numpy interoperability"
   ]
  },
  {
   "cell_type": "code",
   "execution_count": 45,
   "id": "4822edfc-90fa-4b80-ba9e-0c8d954209c7",
   "metadata": {},
   "outputs": [],
   "source": [
    "import numpy as np"
   ]
  },
  {
   "cell_type": "code",
   "execution_count": 48,
   "id": "85d73357-d043-405b-9c83-357c02003aa5",
   "metadata": {},
   "outputs": [
    {
     "data": {
      "text/plain": [
       "15"
      ]
     },
     "execution_count": 48,
     "metadata": {},
     "output_type": "execute_result"
    }
   ],
   "source": [
    "a=tf.constant(5)\n",
    "b=tf.constant(3)\n",
    "np.multiply(a,b)"
   ]
  },
  {
   "cell_type": "markdown",
   "id": "7e0a650c-7e6d-4dc6-9578-0cb98a6b5382",
   "metadata": {},
   "source": [
    "---"
   ]
  },
  {
   "cell_type": "code",
   "execution_count": 49,
   "id": "739d4d2c-8b19-41b5-9baa-f3e3c15e2502",
   "metadata": {},
   "outputs": [
    {
     "data": {
      "text/plain": [
       "array([[1., 1., 1.],\n",
       "       [1., 1., 1.],\n",
       "       [1., 1., 1.]])"
      ]
     },
     "execution_count": 49,
     "metadata": {},
     "output_type": "execute_result"
    }
   ],
   "source": [
    "ndarray=np.ones([3,3])\n",
    "ndarray"
   ]
  },
  {
   "cell_type": "code",
   "execution_count": 50,
   "id": "a7b9f66c-a41d-4ff5-9a03-73236b9c17cb",
   "metadata": {},
   "outputs": [
    {
     "data": {
      "text/plain": [
       "<tf.Tensor: shape=(3, 3), dtype=float64, numpy=\n",
       "array([[3., 3., 3.],\n",
       "       [3., 3., 3.],\n",
       "       [3., 3., 3.]])>"
      ]
     },
     "execution_count": 50,
     "metadata": {},
     "output_type": "execute_result"
    }
   ],
   "source": [
    "tensor=tf.multiply(ndarray,3)\n",
    "tensor"
   ]
  },
  {
   "cell_type": "markdown",
   "id": "1313b4ed-4b78-440b-8148-7043bd942c6c",
   "metadata": {},
   "source": [
    "`Converting from tf to numpy`"
   ]
  },
  {
   "cell_type": "code",
   "execution_count": 51,
   "id": "5bc2bb4f-de46-437e-b180-b36f7f777af7",
   "metadata": {},
   "outputs": [
    {
     "data": {
      "text/plain": [
       "array([[3., 3., 3.],\n",
       "       [3., 3., 3.],\n",
       "       [3., 3., 3.]])"
      ]
     },
     "execution_count": 51,
     "metadata": {},
     "output_type": "execute_result"
    }
   ],
   "source": [
    "tensor.numpy()"
   ]
  },
  {
   "cell_type": "markdown",
   "id": "14e532bd-8e62-4a46-93d5-20dcbba46a9a",
   "metadata": {},
   "source": [
    "#### evaluating variables"
   ]
  },
  {
   "cell_type": "code",
   "execution_count": 54,
   "id": "d8c066d8-ad70-4e41-9fb7-07cfce0e0863",
   "metadata": {},
   "outputs": [
    {
     "data": {
      "text/plain": [
       "<tf.Tensor: shape=(), dtype=float32, numpy=1.0>"
      ]
     },
     "execution_count": 54,
     "metadata": {},
     "output_type": "execute_result"
    }
   ],
   "source": [
    "v=tf.Variable(0.0)\n",
    "v+1"
   ]
  },
  {
   "cell_type": "code",
   "execution_count": 55,
   "id": "dd2c0ee8-8d42-4619-9aa6-b3c786029b27",
   "metadata": {},
   "outputs": [
    {
     "data": {
      "text/plain": [
       "<tf.Variable 'UnreadVariable' shape=() dtype=float32, numpy=1.0>"
      ]
     },
     "execution_count": 55,
     "metadata": {},
     "output_type": "execute_result"
    }
   ],
   "source": [
    "v=tf.Variable(0.0)\n",
    "v.assign_add(1)"
   ]
  },
  {
   "cell_type": "code",
   "execution_count": 57,
   "id": "7886b12e-16b2-4dde-8c3c-1e10b54f5da3",
   "metadata": {},
   "outputs": [
    {
     "data": {
      "text/plain": [
       "<tf.Tensor: shape=(), dtype=float32, numpy=1.0>"
      ]
     },
     "execution_count": 57,
     "metadata": {},
     "output_type": "execute_result"
    }
   ],
   "source": [
    "v.read_value()"
   ]
  },
  {
   "cell_type": "code",
   "execution_count": 56,
   "id": "d8ec1bee-ce6f-4126-aad4-47c66e908b33",
   "metadata": {},
   "outputs": [
    {
     "data": {
      "text/plain": [
       "1.0"
      ]
     },
     "execution_count": 56,
     "metadata": {},
     "output_type": "execute_result"
    }
   ],
   "source": [
    "v.read_value().numpy()"
   ]
  },
  {
   "cell_type": "markdown",
   "id": "4eac7b75-d86d-40aa-807b-9c090e59e79e",
   "metadata": {},
   "source": [
    "---"
   ]
  },
  {
   "cell_type": "code",
   "execution_count": 59,
   "id": "636e4629-f580-4e8b-8f1d-efc14f2299df",
   "metadata": {},
   "outputs": [
    {
     "data": {
      "text/plain": [
       "<tf.Tensor: shape=(3,), dtype=int32, numpy=array([1, 2, 3])>"
      ]
     },
     "execution_count": 59,
     "metadata": {},
     "output_type": "execute_result"
    }
   ],
   "source": [
    "tensor=tf.constant([1,2,3])\n",
    "tensor"
   ]
  },
  {
   "cell_type": "code",
   "execution_count": 61,
   "id": "12d86557-1f76-48e3-954f-1341a7e4579e",
   "metadata": {},
   "outputs": [
    {
     "data": {
      "text/plain": [
       "<tf.Tensor: shape=(3,), dtype=float32, numpy=array([1., 2., 3.], dtype=float32)>"
      ]
     },
     "execution_count": 61,
     "metadata": {},
     "output_type": "execute_result"
    }
   ],
   "source": [
    "tensor=tf.cast(tensor,dtype=tf.float32)\n",
    "tensor"
   ]
  },
  {
   "cell_type": "markdown",
   "id": "949147ad-9c61-41b8-b932-7f54389285c9",
   "metadata": {},
   "source": [
    "---"
   ]
  },
  {
   "cell_type": "markdown",
   "id": "6fac2a34-5f81-4a7f-a003-12aee0b2410e",
   "metadata": {},
   "source": [
    "# Gradient tape"
   ]
  },
  {
   "cell_type": "code",
   "execution_count": 3,
   "id": "fa206fb6-489a-41c4-bde5-d3bdebc5b329",
   "metadata": {},
   "outputs": [],
   "source": [
    "import tensorflow as tf\n",
    "import numpy as np\n",
    "import random"
   ]
  },
  {
   "cell_type": "code",
   "execution_count": 4,
   "id": "7894a98b-ec18-428d-8d1c-9eb0892b5675",
   "metadata": {},
   "outputs": [],
   "source": [
    "x_train=np.array([-1,0,1,2,3,4],dtype=float)\n",
    "y_train=np.array([-3,-1,1,3,5,7],dtype=float)"
   ]
  },
  {
   "cell_type": "code",
   "execution_count": 5,
   "id": "b80e337e-2e61-4ded-bd9c-5784b4c3a8ff",
   "metadata": {},
   "outputs": [],
   "source": [
    "w=tf.Variable(random.random(), trainable=True)\n",
    "b=tf.Variable(random.random(), trainable=True)"
   ]
  },
  {
   "cell_type": "code",
   "execution_count": 6,
   "id": "b200620b-1554-4e14-9f24-812970ce8734",
   "metadata": {},
   "outputs": [
    {
     "data": {
      "text/plain": [
       "<tf.Variable 'Variable:0' shape=() dtype=float32, numpy=0.35227615>"
      ]
     },
     "execution_count": 6,
     "metadata": {},
     "output_type": "execute_result"
    }
   ],
   "source": [
    "w"
   ]
  },
  {
   "cell_type": "code",
   "execution_count": 7,
   "id": "ff5bbbb2-b8f4-4d9d-bc97-6989d0ec9cee",
   "metadata": {},
   "outputs": [
    {
     "data": {
      "text/plain": [
       "<tf.Variable 'Variable:0' shape=() dtype=float32, numpy=0.4977181>"
      ]
     },
     "execution_count": 7,
     "metadata": {},
     "output_type": "execute_result"
    }
   ],
   "source": [
    "b"
   ]
  },
  {
   "cell_type": "code",
   "execution_count": 19,
   "id": "e4c85b8b-74a7-4f88-b33d-8c9e180f4376",
   "metadata": {},
   "outputs": [],
   "source": [
    "def calculate_loss(y_true,y_pred):\n",
    "    return tf.abs(y_true-y_pred)"
   ]
  },
  {
   "cell_type": "code",
   "execution_count": 20,
   "id": "ee9bc353-be2b-456c-bc29-503689ba2b1b",
   "metadata": {},
   "outputs": [],
   "source": [
    "LEARNING_RATE=0.001"
   ]
  },
  {
   "cell_type": "code",
   "execution_count": 21,
   "id": "5885c13a-1fd5-456d-9416-cd4e925933cc",
   "metadata": {},
   "outputs": [],
   "source": [
    "def fit_data(w,b,x,y,lr):\n",
    "    with tf.GradientTape(persistent=True) as tape:\n",
    "        y_pred=w*x_train+b\n",
    "        loss=calculate_loss(y,y_pred)\n",
    "        \n",
    "    grad_w=tape.gradient(loss,w)\n",
    "    grad_b=tape.gradient(loss,b)\n",
    "    \n",
    "    # w-=w*grad_w*learning_rate\n",
    "    # b-=b*grad_b*learning_rate\n",
    "    w.assign_sub(grad_w*lr)\n",
    "    b.assign_sub(grad_b*lr)"
   ]
  },
  {
   "cell_type": "code",
   "execution_count": 22,
   "id": "7923c46c-0bab-4588-9548-cbf1d29a4a75",
   "metadata": {},
   "outputs": [],
   "source": [
    "def calculate(w,b,x_train,y_train,lr):\n",
    "    for _ in range(500):\n",
    "        fit_data(w,b,x_train,y_train,lr)\n",
    "    return w, b"
   ]
  },
  {
   "cell_type": "code",
   "execution_count": 23,
   "id": "466b0e92-0a56-440e-8623-5b432f39a8e6",
   "metadata": {},
   "outputs": [
    {
     "name": "stdout",
     "output_type": "stream",
     "text": [
      "y ~ 1.9102635383605957x+-0.7362824082374573\n"
     ]
    }
   ],
   "source": [
    "w,b=calculate(w,b,x_train,y_train,LEARNING_RATE)\n",
    "print(f'y ~ {w.numpy()}x+{b.numpy()}')"
   ]
  },
  {
   "cell_type": "code",
   "execution_count": 24,
   "id": "15610fdb-2292-424b-b66d-6b6abcc3b2f9",
   "metadata": {},
   "outputs": [
    {
     "data": {
      "text/plain": [
       "<tf.Tensor: shape=(6,), dtype=float32, numpy=\n",
       "array([-2.646546 , -0.7362824,  1.1739812,  3.0842447,  4.9945083,\n",
       "        6.904772 ], dtype=float32)>"
      ]
     },
     "execution_count": 24,
     "metadata": {},
     "output_type": "execute_result"
    }
   ],
   "source": [
    "x_train*w+b"
   ]
  },
  {
   "cell_type": "code",
   "execution_count": 25,
   "id": "4775b180-3188-41e4-969c-94e5ce5ed912",
   "metadata": {},
   "outputs": [
    {
     "data": {
      "text/plain": [
       "array([-3., -1.,  1.,  3.,  5.,  7.])"
      ]
     },
     "execution_count": 25,
     "metadata": {},
     "output_type": "execute_result"
    }
   ],
   "source": [
    "y_train"
   ]
  },
  {
   "cell_type": "markdown",
   "id": "17ad59e0-0aa3-4f3f-9a8a-f50d6fd4032a",
   "metadata": {},
   "source": [
    "---"
   ]
  },
  {
   "cell_type": "markdown",
   "id": "14bd7211-8eab-40a5-a37f-b1135a4400f7",
   "metadata": {},
   "source": [
    "#### Gradient descent with gradient tape"
   ]
  },
  {
   "cell_type": "code",
   "execution_count": 26,
   "id": "de772a0b-e95d-4ab6-bc0f-e52bbc117c49",
   "metadata": {},
   "outputs": [],
   "source": [
    "def train_step(images,labels):\n",
    "    with tf.GradientTape() as tape:\n",
    "        logits=model(images, training=True)\n",
    "        loss_value=loss_object(labels,logits)\n",
    "    loss_history.append(loss_value.numpy().mean())\n",
    "    grads=tape.gradient(loss_value,model.trainable_variables)\n",
    "    optimizer.apply_gradients(zip(grads,model.trainable_variables))"
   ]
  },
  {
   "cell_type": "markdown",
   "id": "a9e616a3-fa47-44c6-be17-cfcb83d07d73",
   "metadata": {},
   "source": [
    "Gradient computing"
   ]
  },
  {
   "cell_type": "code",
   "execution_count": 30,
   "id": "268ed879-7f78-44bd-8cde-5ac1235bd450",
   "metadata": {},
   "outputs": [],
   "source": [
    "w=tf.Variable([[1.0]])\n",
    "with tf.GradientTape() as tape:\n",
    "    loss=w*w*w"
   ]
  },
  {
   "cell_type": "markdown",
   "id": "ef65f149-94cd-4ad2-b0bd-7ef39654e366",
   "metadata": {},
   "source": [
    "Derrivative of loss is now 3*w^{2}"
   ]
  },
  {
   "cell_type": "code",
   "execution_count": 31,
   "id": "a6b595e1-0afe-4a17-ba4b-23f74dd2da18",
   "metadata": {},
   "outputs": [
    {
     "data": {
      "text/plain": [
       "<tf.Tensor: shape=(1, 1), dtype=float32, numpy=array([[3.]], dtype=float32)>"
      ]
     },
     "execution_count": 31,
     "metadata": {},
     "output_type": "execute_result"
    }
   ],
   "source": [
    "tape.gradient(loss,w)"
   ]
  },
  {
   "cell_type": "markdown",
   "id": "583500d1-0ebb-478e-b299-f4e8d6605d8e",
   "metadata": {},
   "source": [
    "---"
   ]
  },
  {
   "cell_type": "markdown",
   "id": "6d90445b-7652-43f3-9eca-97f4e5aa80be",
   "metadata": {},
   "source": [
    "### Derrivatives"
   ]
  },
  {
   "cell_type": "code",
   "execution_count": 110,
   "id": "ccbf7800-a00c-4046-b4e6-83be009b518c",
   "metadata": {},
   "outputs": [
    {
     "data": {
      "text/plain": [
       "<tf.Variable 'Variable:0' shape=() dtype=float32, numpy=4.0>"
      ]
     },
     "execution_count": 110,
     "metadata": {},
     "output_type": "execute_result"
    }
   ],
   "source": [
    "x=tf.Variable(4.0)\n",
    "x"
   ]
  },
  {
   "cell_type": "code",
   "execution_count": 111,
   "id": "ad7dd7e9-6880-4b9f-92bf-a5442bd96375",
   "metadata": {},
   "outputs": [],
   "source": [
    "with tf.GradientTape() as tape:\n",
    "    y=x*x\n",
    "dy_dx=tape.gradient(y,x)"
   ]
  },
  {
   "cell_type": "code",
   "execution_count": 112,
   "id": "5c171b34-5da7-49a4-8517-9439c4e7ae4d",
   "metadata": {},
   "outputs": [
    {
     "data": {
      "text/plain": [
       "<tf.Tensor: shape=(), dtype=float32, numpy=8.0>"
      ]
     },
     "execution_count": 112,
     "metadata": {},
     "output_type": "execute_result"
    }
   ],
   "source": [
    "dy_dx"
   ]
  },
  {
   "cell_type": "markdown",
   "id": "ab46c1b0-77ed-4937-adb0-b49dbeac8665",
   "metadata": {},
   "source": [
    "---"
   ]
  },
  {
   "cell_type": "code",
   "execution_count": 68,
   "id": "09d8f207-28ed-40b5-a41c-007272b55b14",
   "metadata": {},
   "outputs": [
    {
     "data": {
      "text/plain": [
       "<tf.Tensor: shape=(2, 2), dtype=float32, numpy=\n",
       "array([[1., 1.],\n",
       "       [1., 1.]], dtype=float32)>"
      ]
     },
     "execution_count": 68,
     "metadata": {},
     "output_type": "execute_result"
    }
   ],
   "source": [
    "x=tf.ones((2,2))\n",
    "x"
   ]
  },
  {
   "cell_type": "code",
   "execution_count": 70,
   "id": "15925c3c-fbc5-4b4a-80ab-86d966e8914b",
   "metadata": {},
   "outputs": [],
   "source": [
    "with tf.GradientTape() as tape:\n",
    "    tape.watch(x)\n",
    "    y=tf.reduce_sum(x)\n",
    "    z=tf.square(y)"
   ]
  },
  {
   "cell_type": "code",
   "execution_count": 71,
   "id": "28434959-a483-4359-a947-34faec016466",
   "metadata": {},
   "outputs": [
    {
     "data": {
      "text/plain": [
       "<tf.Tensor: shape=(), dtype=float32, numpy=4.0>"
      ]
     },
     "execution_count": 71,
     "metadata": {},
     "output_type": "execute_result"
    }
   ],
   "source": [
    "y"
   ]
  },
  {
   "cell_type": "code",
   "execution_count": 72,
   "id": "6e82421a-d624-4e38-9cb9-5cee4b9905a7",
   "metadata": {},
   "outputs": [
    {
     "data": {
      "text/plain": [
       "<tf.Tensor: shape=(), dtype=float32, numpy=16.0>"
      ]
     },
     "execution_count": 72,
     "metadata": {},
     "output_type": "execute_result"
    }
   ],
   "source": [
    "z"
   ]
  },
  {
   "cell_type": "markdown",
   "id": "566de509-af9c-479e-a502-a18c048a2b14",
   "metadata": {},
   "source": [
    "Derrivative of z wrt the original input tensor x"
   ]
  },
  {
   "cell_type": "code",
   "execution_count": 73,
   "id": "9c03ea1e-5b82-402d-953a-0059900dfecf",
   "metadata": {},
   "outputs": [
    {
     "data": {
      "text/plain": [
       "<tf.Tensor: shape=(2, 2), dtype=float32, numpy=\n",
       "array([[8., 8.],\n",
       "       [8., 8.]], dtype=float32)>"
      ]
     },
     "execution_count": 73,
     "metadata": {},
     "output_type": "execute_result"
    }
   ],
   "source": [
    "dz_dx=tape.gradient(z,x)\n",
    "dz_dx"
   ]
  },
  {
   "cell_type": "markdown",
   "id": "5bb1301f-9c3b-4e8a-8298-afaeb4f2a6be",
   "metadata": {},
   "source": [
    "Equations:\n",
    "$$ x = \\begin{bmatrix} \n",
    "   x_{1,1} & x_{1,2}\\\\\n",
    "   x_{2,1} & x_{2,2}\\\\\n",
    "   \\end{bmatrix} $$\n",
    "$$ y = x_{1,1} + x_{1,2} + x_{2,1} + x_{2,2} $$\n",
    "$$ z = y^2 $$\n",
    "Derrivatives\n",
    "$$ \\dfrac {\\partial z}{\\partial x} =  \\dfrac {\\partial z}{\\partial y} \\times \\dfrac {\\partial y}{\\partial x} $$\n",
    "$$ \\dfrac {\\partial z}{\\partial y} =  2 \\times y $$\n",
    "$$ \\dfrac {\\partial y}{\\partial x} = \\begin{bmatrix} \n",
    "   \\dfrac {\\partial y}{\\partial x_{1,1}} & \\dfrac {\\partial y}{\\partial x_{1,2}}\\\\\n",
    "   \\dfrac {\\partial y}{\\partial x_{2,1}} & \\dfrac {\\partial y}{\\partial x_{2,2}}\\\\\n",
    "   \\end{bmatrix} $$\n",
    "Therefore:\n",
    "$$ \\dfrac {\\partial z}{\\partial x} = \\begin{bmatrix} \n",
    "   \\dfrac {\\partial z}{\\partial x_{1,1}} & \\dfrac {\\partial z}{\\partial x_{1,2}}\\\\\n",
    "   \\dfrac {\\partial z}{\\partial x_{2,1}} & \\dfrac {\\partial z}{\\partial x_{2,2}}\\\\\n",
    "   \\end{bmatrix} $$\n",
    "Where:\n",
    "$$ \\dfrac {\\partial z}{\\partial x_{1,1}} = \\dfrac {\\partial z}{\\partial y} \\times \\dfrac {\\partial y}{\\partial x_{1,1}}$$\n",
    "$$ \\dfrac {\\partial z}{\\partial x_{1,2}} = \\dfrac {\\partial z}{\\partial y} \\times \\dfrac {\\partial y}{\\partial x_{1,2}}$$\n",
    "$$ \\dfrac {\\partial z}{\\partial x_{2,1}} = \\dfrac {\\partial z}{\\partial y} \\times \\dfrac {\\partial y}{\\partial x_{2,1}}$$\n",
    "$$ \\dfrac {\\partial z}{\\partial x_{2,2}} = \\dfrac {\\partial z}{\\partial y} \\times \\dfrac {\\partial y}{\\partial x_{2,2}}$$\n"
   ]
  },
  {
   "cell_type": "markdown",
   "id": "2f9ad81e-f594-45db-8c35-892edbe83339",
   "metadata": {},
   "source": [
    "For:\n",
    "$$ x = \\begin{bmatrix} \n",
    "   1 & 1\\\\\n",
    "   1 & 1\\\\\n",
    "   \\end{bmatrix} $$\n",
    "$$ y = 1 + 1 + 1 + 1 = 4$$\n",
    "$$ z = y^2 = 16 $$\n",
    "\n",
    "Partial derrivatives:\n",
    "$$ \\dfrac {\\partial z}{\\partial y} =  2 \\times y = 2 \\times 4 = 8 $$\n",
    "\n",
    "$$ \\dfrac {\\partial y}{\\partial x_{1,1}} = 1$$\n",
    "$$ \\dfrac {\\partial y}{\\partial x_{1,2}} = 1$$\n",
    "$$ \\dfrac {\\partial y}{\\partial x_{2,1}} = 1$$\n",
    "$$ \\dfrac {\\partial y}{\\partial x_{2,2}} = 1$$\n",
    "\n",
    "Final derrivative:\n",
    "$$ \\dfrac {\\partial z}{\\partial x_{1,1}} = \\dfrac {\\partial z}{\\partial y} \\times \\dfrac {\\partial y}{\\partial x_{1,1}} = 8 \\times 1 = 8$$\n",
    "$$ \\dfrac {\\partial z}{\\partial x_{1,2}} = \\dfrac {\\partial z}{\\partial y} \\times \\dfrac {\\partial y}{\\partial x_{1,2}} = 8 \\times 1 = 8$$\n",
    "$$ \\dfrac {\\partial z}{\\partial x_{2,1}} = \\dfrac {\\partial z}{\\partial y} \\times \\dfrac {\\partial y}{\\partial x_{2,1}} = 8 \\times 1 = 8$$\n",
    "$$ \\dfrac {\\partial z}{\\partial x_{2,2}} = \\dfrac {\\partial z}{\\partial y} \\times \\dfrac {\\partial y}{\\partial x_{2,2}} = 8 \\times 1 = 8$$\n",
    "\n",
    "$$ \\dfrac {\\partial z}{\\partial x} = \\begin{bmatrix} \n",
    "   \\dfrac {\\partial z}{\\partial x_{1,1}} & \\dfrac {\\partial z}{\\partial x_{1,2}}\\\\\n",
    "   \\dfrac {\\partial z}{\\partial x_{2,1}} & \\dfrac {\\partial z}{\\partial x_{2,2}}\\\\\n",
    "   \\end{bmatrix} \n",
    "   =\n",
    "   \\begin{bmatrix} \n",
    "   8 & 8\\\\\n",
    "   8 & 8\\\\\n",
    "   \\end{bmatrix} $$"
   ]
  },
  {
   "cell_type": "markdown",
   "id": "c2bba273-a591-46c3-b675-4d82f86611c2",
   "metadata": {},
   "source": [
    "---"
   ]
  },
  {
   "cell_type": "markdown",
   "id": "a961e071-7ac1-47a2-9e6a-52006d9b3cb7",
   "metadata": {},
   "source": [
    "#### persistent = True"
   ]
  },
  {
   "cell_type": "markdown",
   "id": "01e9ec69-ee1a-4195-bc2e-8a90ecf8c5df",
   "metadata": {},
   "source": [
    "Now tape can be used multiple times (not olny in `with():`)"
   ]
  },
  {
   "cell_type": "code",
   "execution_count": 77,
   "id": "9036b1b2-ecf3-4c65-a907-bbd8547085d5",
   "metadata": {},
   "outputs": [],
   "source": [
    "x=tf.constant(3.0)"
   ]
  },
  {
   "cell_type": "code",
   "execution_count": 78,
   "id": "d56f253d-6cb1-4157-9a90-4a5c71b78e10",
   "metadata": {},
   "outputs": [],
   "source": [
    "with tf.GradientTape(persistent=True) as tape:\n",
    "    tape.watch(x)\n",
    "    y=x*x\n",
    "    z=2*y"
   ]
  },
  {
   "cell_type": "code",
   "execution_count": 79,
   "id": "6adf6325-c3d1-4398-8f39-3616ddf68c95",
   "metadata": {},
   "outputs": [
    {
     "data": {
      "text/plain": [
       "<tf.Tensor: shape=(), dtype=float32, numpy=12.0>"
      ]
     },
     "execution_count": 79,
     "metadata": {},
     "output_type": "execute_result"
    }
   ],
   "source": [
    "dz_dx=tape.gradient(z,x)\n",
    "dz_dx"
   ]
  },
  {
   "cell_type": "code",
   "execution_count": 80,
   "id": "6891261f-cef0-47f9-84a6-8229f20f43c8",
   "metadata": {},
   "outputs": [
    {
     "data": {
      "text/plain": [
       "<tf.Tensor: shape=(), dtype=float32, numpy=6.0>"
      ]
     },
     "execution_count": 80,
     "metadata": {},
     "output_type": "execute_result"
    }
   ],
   "source": [
    "dy_dx=tape.gradient(y,x)\n",
    "dy_dx"
   ]
  },
  {
   "cell_type": "code",
   "execution_count": 81,
   "id": "6a37c12a-4ff1-4278-b024-13742770f4f2",
   "metadata": {},
   "outputs": [],
   "source": [
    "del tape"
   ]
  },
  {
   "cell_type": "markdown",
   "id": "6321c1e4-093b-4e33-bfe4-c95a1cf15059",
   "metadata": {},
   "source": [
    "---"
   ]
  },
  {
   "cell_type": "markdown",
   "id": "955b2b60-20f1-4692-9762-1d3f698a7972",
   "metadata": {},
   "source": [
    "#### high order derrivatives"
   ]
  },
  {
   "cell_type": "code",
   "execution_count": 99,
   "id": "e75688e9-4ed8-4fed-9529-11d7ab680c4d",
   "metadata": {},
   "outputs": [],
   "source": [
    "x=tf.Variable(3.0)"
   ]
  },
  {
   "cell_type": "markdown",
   "id": "0cab8584-8b51-4a81-b75f-039abc281f58",
   "metadata": {},
   "source": [
    "The first gradient calculation of dy_dx should occur at least `inside` the outer with block.\n",
    "\n",
    "Also note that this still won't work even if you set persistent=True for both gradient tapes."
   ]
  },
  {
   "cell_type": "code",
   "execution_count": 100,
   "id": "3eeabe48-d4b8-42b5-9432-b5f4ab61d1e9",
   "metadata": {},
   "outputs": [],
   "source": [
    "with tf.GradientTape() as tape2:\n",
    "    with tf.GradientTape() as tape1:\n",
    "        y=x*x*x\n",
    "    dy_dx=tape1.gradient(y,x)\n",
    "d2y_dx2=tape2.gradient(dy_dx,x)"
   ]
  },
  {
   "cell_type": "code",
   "execution_count": 101,
   "id": "4380ccba-e29e-404c-ad9f-f43c87440082",
   "metadata": {},
   "outputs": [
    {
     "data": {
      "text/plain": [
       "<tf.Tensor: shape=(), dtype=float32, numpy=27.0>"
      ]
     },
     "execution_count": 101,
     "metadata": {},
     "output_type": "execute_result"
    }
   ],
   "source": [
    "dy_dx"
   ]
  },
  {
   "cell_type": "code",
   "execution_count": 102,
   "id": "585b3ec3-15f7-44c6-aafa-3c15d462d890",
   "metadata": {},
   "outputs": [
    {
     "data": {
      "text/plain": [
       "<tf.Tensor: shape=(), dtype=float32, numpy=18.0>"
      ]
     },
     "execution_count": 102,
     "metadata": {},
     "output_type": "execute_result"
    }
   ],
   "source": [
    "d2y_dx2"
   ]
  },
  {
   "cell_type": "code",
   "execution_count": null,
   "id": "f6a6088e-f786-426f-a0a4-cc14f95832e2",
   "metadata": {},
   "outputs": [],
   "source": []
  }
 ],
 "metadata": {
  "kernelspec": {
   "display_name": "Python 3 (ipykernel)",
   "language": "python",
   "name": "python3"
  },
  "language_info": {
   "codemirror_mode": {
    "name": "ipython",
    "version": 3
   },
   "file_extension": ".py",
   "mimetype": "text/x-python",
   "name": "python",
   "nbconvert_exporter": "python",
   "pygments_lexer": "ipython3",
   "version": "3.9.18"
  }
 },
 "nbformat": 4,
 "nbformat_minor": 5
}
