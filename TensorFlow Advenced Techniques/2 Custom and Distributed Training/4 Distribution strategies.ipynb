{
 "cells": [
  {
   "cell_type": "markdown",
   "id": "9c880c30-7c27-4779-8f44-8e948cfb651a",
   "metadata": {},
   "source": [
    "# Distribution strategies"
   ]
  },
  {
   "cell_type": "markdown",
   "id": "563f2590-172b-4701-a316-e47ed138a63f",
   "metadata": {},
   "source": [
    "---"
   ]
  },
  {
   "cell_type": "markdown",
   "id": "8be0c554-6b59-4a01-b1cb-7340c0f7f397",
   "metadata": {},
   "source": [
    "## Mirrored strategy"
   ]
  },
  {
   "cell_type": "code",
   "execution_count": 1,
   "id": "b83c4299-2b46-4f94-8bb1-e168ec90296a",
   "metadata": {},
   "outputs": [
    {
     "name": "stderr",
     "output_type": "stream",
     "text": [
      "C:\\Users\\pk764\\miniconda3\\envs\\tensorflow\\lib\\site-packages\\tqdm\\auto.py:21: TqdmWarning: IProgress not found. Please update jupyter and ipywidgets. See https://ipywidgets.readthedocs.io/en/stable/user_install.html\n",
      "  from .autonotebook import tqdm as notebook_tqdm\n"
     ]
    }
   ],
   "source": [
    "import tensorflow as tf\n",
    "import tensorflow_datasets as tfds\n",
    "import os"
   ]
  },
  {
   "cell_type": "code",
   "execution_count": 3,
   "id": "e10b51d8-6ced-43f5-b1f7-2477ba6ff001",
   "metadata": {},
   "outputs": [
    {
     "name": "stdout",
     "output_type": "stream",
     "text": [
      "WARNING:tensorflow:There are non-GPU devices in `tf.distribute.Strategy`, not using nccl allreduce.\n",
      "INFO:tensorflow:Using MirroredStrategy with devices ('/job:localhost/replica:0/task:0/device:CPU:0',)\n"
     ]
    }
   ],
   "source": [
    "strategy=tf.distribute.MirroredStrategy()"
   ]
  },
  {
   "cell_type": "code",
   "execution_count": 8,
   "id": "407ef7c5-39a1-4940-b41b-dc906c839073",
   "metadata": {},
   "outputs": [
    {
     "data": {
      "text/plain": [
       "1"
      ]
     },
     "execution_count": 8,
     "metadata": {},
     "output_type": "execute_result"
    }
   ],
   "source": [
    "strategy.num_replicas_in_sync"
   ]
  },
  {
   "cell_type": "markdown",
   "id": "501f6f1e-2939-48e1-94fd-677ea683547c",
   "metadata": {},
   "source": [
    "#### data"
   ]
  },
  {
   "cell_type": "code",
   "execution_count": 12,
   "id": "61035611-3da9-4e0c-80b4-54cd305e2b86",
   "metadata": {},
   "outputs": [],
   "source": [
    "datasets,info=tfds.load(name='mnist',with_info=True, as_supervised=True)\n",
    "train, test = datasets['train'],datasets['test']"
   ]
  },
  {
   "cell_type": "code",
   "execution_count": 14,
   "id": "a6619a68-b2fa-40f6-b56b-05e5d7d1a957",
   "metadata": {},
   "outputs": [],
   "source": [
    "num_train=info.splits['train'].num_examples\n",
    "num_test=info.splits['test'].num_examples\n",
    "BUFFER_SIZE=10000\n",
    "BATCH_PER_REPLICA=64\n",
    "BATCH_SIZE=BATCH_PER_REPLICA*strategy.num_replicas_in_sync"
   ]
  },
  {
   "cell_type": "code",
   "execution_count": 17,
   "id": "1b6f8f39-366a-4158-8f32-006b6261ab5a",
   "metadata": {},
   "outputs": [],
   "source": [
    "def scale(image,label):\n",
    "    image=tf.cast(image,tf.float32)\n",
    "    image=image/255\n",
    "    return image, label"
   ]
  },
  {
   "cell_type": "code",
   "execution_count": 18,
   "id": "8dac5eb1-ce27-4d72-a3eb-76aedb563c52",
   "metadata": {},
   "outputs": [],
   "source": [
    "train=train.map(scale).cache().shuffle(BUFFER_SIZE).batch(BATCH_SIZE)\n",
    "test=test.map(scale).cache().shuffle(BUFFER_SIZE).batch(BATCH_SIZE)"
   ]
  },
  {
   "cell_type": "markdown",
   "id": "d2c42df2-7e13-47fb-8e8b-83391aa83823",
   "metadata": {},
   "source": [
    "#### model"
   ]
  },
  {
   "cell_type": "code",
   "execution_count": 9,
   "id": "699dcc35-8942-41cf-b127-74625465a899",
   "metadata": {},
   "outputs": [],
   "source": [
    "with strategy.scope():\n",
    "    model=tf.keras.Sequential([\n",
    "        tf.keras.layers.Conv2D(32,3,activation='relu',input_shape=(28,28,1)),\n",
    "        tf.keras.layers.MaxPooling2D(),\n",
    "        tf.keras.layers.Flatten(),\n",
    "        tf.keras.layers.Dense(64,activation='relu'),\n",
    "        tf.keras.layers.Dense(10,activation='softmax')\n",
    "    ])"
   ]
  },
  {
   "cell_type": "code",
   "execution_count": 10,
   "id": "d9c0e83c-5c98-4e0d-bba5-dfd189773584",
   "metadata": {},
   "outputs": [],
   "source": [
    "model.compile(loss=tf.keras.losses.SparseCategoricalCrossentropy(from_logits=True), optimizer=tf.keras.optimizers.Adam(), metrics=['accuracy'])"
   ]
  },
  {
   "cell_type": "code",
   "execution_count": 20,
   "id": "fb1f2e14-c30d-417e-8f54-41be1ed33373",
   "metadata": {},
   "outputs": [
    {
     "name": "stdout",
     "output_type": "stream",
     "text": [
      "Epoch 1/5\n",
      "938/938 [==============================] - 18s 19ms/step - loss: 0.0512 - accuracy: 0.9848\n",
      "Epoch 2/5\n",
      "938/938 [==============================] - 18s 19ms/step - loss: 0.0385 - accuracy: 0.9882\n",
      "Epoch 3/5\n",
      "938/938 [==============================] - 18s 19ms/step - loss: 0.0285 - accuracy: 0.9911\n",
      "Epoch 4/5\n",
      "938/938 [==============================] - 18s 19ms/step - loss: 0.0214 - accuracy: 0.9935\n",
      "Epoch 5/5\n",
      "938/938 [==============================] - 18s 19ms/step - loss: 0.0160 - accuracy: 0.9952\n"
     ]
    },
    {
     "data": {
      "text/plain": [
       "<keras.callbacks.History at 0x250c67d16d0>"
      ]
     },
     "execution_count": 20,
     "metadata": {},
     "output_type": "execute_result"
    }
   ],
   "source": [
    "model.fit(train,epochs=5)"
   ]
  },
  {
   "cell_type": "markdown",
   "id": "459d4331-10c7-43a1-8d11-191e31341a9c",
   "metadata": {},
   "source": [
    "#### with no strategy:"
   ]
  },
  {
   "cell_type": "code",
   "execution_count": 21,
   "id": "be568051-df53-47ad-a087-30ec403f9217",
   "metadata": {},
   "outputs": [],
   "source": [
    "model=tf.keras.Sequential([\n",
    "    tf.keras.layers.Conv2D(32,3,activation='relu',input_shape=(28,28,1)),\n",
    "    tf.keras.layers.MaxPooling2D(),\n",
    "    tf.keras.layers.Flatten(),\n",
    "    tf.keras.layers.Dense(64,activation='relu'),\n",
    "    tf.keras.layers.Dense(10,activation='softmax')\n",
    "])\n",
    "model.compile(loss=tf.keras.losses.SparseCategoricalCrossentropy(from_logits=True), optimizer=tf.keras.optimizers.Adam(), metrics=['accuracy'])"
   ]
  },
  {
   "cell_type": "code",
   "execution_count": 22,
   "id": "1b0fb18f-4e1a-4f13-890d-0068e7e2b751",
   "metadata": {},
   "outputs": [
    {
     "name": "stdout",
     "output_type": "stream",
     "text": [
      "Epoch 1/5\n",
      "938/938 [==============================] - 17s 18ms/step - loss: 0.2030 - accuracy: 0.9414\n",
      "Epoch 2/5\n",
      "938/938 [==============================] - 17s 19ms/step - loss: 0.0677 - accuracy: 0.9799\n",
      "Epoch 3/5\n",
      "938/938 [==============================] - 19s 20ms/step - loss: 0.0463 - accuracy: 0.9866\n",
      "Epoch 4/5\n",
      "938/938 [==============================] - 23s 24ms/step - loss: 0.0347 - accuracy: 0.9895\n",
      "Epoch 5/5\n",
      "938/938 [==============================] - 20s 21ms/step - loss: 0.0273 - accuracy: 0.9918\n"
     ]
    },
    {
     "data": {
      "text/plain": [
       "<keras.callbacks.History at 0x250c68540d0>"
      ]
     },
     "execution_count": 22,
     "metadata": {},
     "output_type": "execute_result"
    }
   ],
   "source": [
    "model.fit(train,epochs=5)"
   ]
  },
  {
   "cell_type": "markdown",
   "id": "161de3d0-99cf-4627-8a10-b0a4b97a4d84",
   "metadata": {},
   "source": [
    "---"
   ]
  },
  {
   "cell_type": "markdown",
   "id": "635778b2-2c65-440a-a972-afef0691cadf",
   "metadata": {},
   "source": [
    "## Multiple GPU mirrored strategy"
   ]
  },
  {
   "cell_type": "code",
   "execution_count": 38,
   "id": "0f190d3c-b5c7-449b-a47d-6523b1f1945b",
   "metadata": {},
   "outputs": [],
   "source": [
    "os.environ['TF_MIN_GPU_MULTIPROCESSOR_COUNT']='4'"
   ]
  },
  {
   "cell_type": "code",
   "execution_count": 40,
   "id": "308eb6dc-17f9-487d-8ae7-fb2a53f7df1d",
   "metadata": {},
   "outputs": [
    {
     "name": "stdout",
     "output_type": "stream",
     "text": [
      "INFO:tensorflow:Using MirroredStrategy with devices ('/job:localhost/replica:0/task:0/device:CPU:0',)\n"
     ]
    },
    {
     "name": "stderr",
     "output_type": "stream",
     "text": [
      "INFO:tensorflow:Using MirroredStrategy with devices ('/job:localhost/replica:0/task:0/device:CPU:0',)\n"
     ]
    }
   ],
   "source": [
    "strategy=tf.distribute.MirroredStrategy(cross_device_ops=tf.distribute.HierarchicalCopyAllReduce())"
   ]
  },
  {
   "cell_type": "code",
   "execution_count": 41,
   "id": "4fea5abf-1c13-4b6f-9dc9-2835ff6b75a0",
   "metadata": {},
   "outputs": [
    {
     "data": {
      "text/plain": [
       "1"
      ]
     },
     "execution_count": 41,
     "metadata": {},
     "output_type": "execute_result"
    }
   ],
   "source": [
    "strategy.num_replicas_in_sync"
   ]
  },
  {
   "cell_type": "markdown",
   "id": "19e23c1f-b515-4324-a3f2-a2dcca0e4310",
   "metadata": {},
   "source": [
    "#### data"
   ]
  },
  {
   "cell_type": "code",
   "execution_count": 29,
   "id": "e38554bd-fbae-4e1f-b8e7-7b401c531440",
   "metadata": {},
   "outputs": [],
   "source": [
    "datasets,info=tfds.load(name='mnist',with_info=True, as_supervised=True)\n",
    "train, test = datasets['train'],datasets['test']"
   ]
  },
  {
   "cell_type": "code",
   "execution_count": 30,
   "id": "04ab0c60-8cb7-4400-bc7a-7b77df480d8c",
   "metadata": {},
   "outputs": [],
   "source": [
    "num_train=info.splits['train'].num_examples\n",
    "num_test=info.splits['test'].num_examples\n",
    "BUFFER_SIZE=10000\n",
    "BATCH_PER_REPLICA=64\n",
    "BATCH_SIZE=BATCH_PER_REPLICA*strategy.num_replicas_in_sync"
   ]
  },
  {
   "cell_type": "code",
   "execution_count": 31,
   "id": "222cc0af-79c7-4769-880d-7bb7cada1edc",
   "metadata": {},
   "outputs": [],
   "source": [
    "def scale(image,label):\n",
    "    image=tf.cast(image,tf.float32)\n",
    "    image=image/255\n",
    "    return image, label"
   ]
  },
  {
   "cell_type": "code",
   "execution_count": 32,
   "id": "f43d25b3-be57-48e3-bc49-ab39add6096e",
   "metadata": {},
   "outputs": [],
   "source": [
    "train=train.map(scale).cache().shuffle(BUFFER_SIZE).batch(BATCH_SIZE)\n",
    "test=test.map(scale).cache().shuffle(BUFFER_SIZE).batch(BATCH_SIZE)"
   ]
  },
  {
   "cell_type": "code",
   "execution_count": 33,
   "id": "70c205ee-bde8-4345-903d-771951940117",
   "metadata": {},
   "outputs": [],
   "source": [
    "train_dist=strategy.experimental_distribute_dataset(train)\n",
    "test_dist=strategy.experimental_distribute_dataset(test)"
   ]
  },
  {
   "cell_type": "markdown",
   "id": "32cfc995-1903-441a-878e-f269ac34e4ee",
   "metadata": {},
   "source": [
    "#### model"
   ]
  },
  {
   "cell_type": "code",
   "execution_count": 42,
   "id": "a109069d-d721-4bee-a9e6-2521597d3058",
   "metadata": {},
   "outputs": [],
   "source": [
    "def create_model():\n",
    "    model=tf.keras.Sequential([\n",
    "        tf.keras.layers.Conv2D(32,3,activation='relu',input_shape=(28,28,1)),\n",
    "        tf.keras.layers.MaxPooling2D(),\n",
    "        tf.keras.layers.Flatten(),\n",
    "        tf.keras.layers.Dense(64,activation='relu'),\n",
    "        tf.keras.layers.Dense(10,activation='softmax')\n",
    "    ])\n",
    "    return model"
   ]
  },
  {
   "cell_type": "code",
   "execution_count": 45,
   "id": "ccd16e27-587e-4ec5-9e88-2a36c291096f",
   "metadata": {},
   "outputs": [],
   "source": [
    "with strategy.scope():\n",
    "    loss_object=tf.keras.losses.SparseCategoricalCrossentropy(from_logits=True, reduction=tf.keras.losses.Reduction.NONE)\n",
    "    \n",
    "    def compute_loss(y,y_pred):\n",
    "        example_loss=loss_object(y,y_pred)\n",
    "        return tf.nn.compute_average_loss(example_loss,global_batch_size=BATCH_SIZE)\n",
    "        \n",
    "    test_loss=tf.keras.metrics.Mean(name='test_loss')\n",
    "    train_acc=tf.keras.metrics.SparseCategoricalAccuracy(name='train_acc')\n",
    "    test_acc=tf.keras.metrics.SparseCategoricalAccuracy(name='test_acc')\n",
    "\n",
    "    optimizer=tf.keras.optimizers.Adam()\n",
    "    model=create_model()"
   ]
  },
  {
   "cell_type": "code",
   "execution_count": 35,
   "id": "bb6fc15e-2037-410d-ad4c-bb3c4b40487a",
   "metadata": {},
   "outputs": [],
   "source": [
    "def train_step(inputs):\n",
    "    images,labels=inputs\n",
    "    with tf.GradientTape() as tape:\n",
    "        preds=model(images,training=True)\n",
    "        loss=compute_loss(labels,preds)\n",
    "    gradients=tape.gradient(loss,model.trainable_variables)\n",
    "    optimizer.apply_gradients(zip(gradients,model.trainable_variables))\n",
    "    train_acc.update_state(labels,preds)\n",
    "    return loss"
   ]
  },
  {
   "cell_type": "code",
   "execution_count": 34,
   "id": "2b306f32-0637-4117-9a39-cc6655e4c4cc",
   "metadata": {},
   "outputs": [],
   "source": [
    "@tf.function\n",
    "def ditributed_train_step(data):\n",
    "    per_replica_loss=strategy.run(train_step,args=(data,))\n",
    "    tf.print(per_replica_loss)\n",
    "    foo=strategy.reduce(tf.distribute.ReduceOp.SUM,per_replica_loss,axis=None)\n",
    "    tf.print(foo)\n",
    "    return foo"
   ]
  },
  {
   "cell_type": "code",
   "execution_count": 46,
   "id": "e48d6509-764d-42ac-9342-0319fcc15047",
   "metadata": {},
   "outputs": [],
   "source": [
    "def test_step(inputs):\n",
    "    images,labels=inputs\n",
    "    with tf.GradientTape() as tape:\n",
    "        preds=model(images,training=True)\n",
    "        loss=compute_loss(labels,preds)\n",
    "    test_loss.update_state(loss)\n",
    "    test_acc.update_state(labels,preds)\n",
    "    return loss"
   ]
  },
  {
   "cell_type": "code",
   "execution_count": 47,
   "id": "8fbcd1a4-f4a9-4239-aa37-1199f7e3f589",
   "metadata": {},
   "outputs": [],
   "source": [
    "@tf.function\n",
    "def ditributed_test_step(data):\n",
    "    per_replica_loss=strategy.run(train_step,args=(data,))\n",
    "    return per_replica_loss"
   ]
  },
  {
   "cell_type": "code",
   "execution_count": null,
   "id": "c52d5585-32ed-4ab9-b2ea-71ce96658de4",
   "metadata": {},
   "outputs": [],
   "source": [
    "epochs=5\n",
    "for _ in range(epochs):\n",
    "    loss=0.0\n",
    "    num_batches=0\n",
    "    for batch in train_dist:\n",
    "        loss+=ditributed_train_step(batch)\n",
    "        num_batches+=1\n",
    "    train_loss=loss/num_batches\n",
    "    for batch in test_dist:\n",
    "        ditributed_test_step(batch)"
   ]
  },
  {
   "cell_type": "markdown",
   "id": "d6b6ab3e-315d-4d3a-80d0-a43045a5ac2a",
   "metadata": {},
   "source": [
    "---"
   ]
  },
  {
   "cell_type": "code",
   "execution_count": null,
   "id": "f0a6e63e-9e78-458c-952d-1cc25cec5351",
   "metadata": {},
   "outputs": [],
   "source": []
  }
 ],
 "metadata": {
  "kernelspec": {
   "display_name": "Python 3 (ipykernel)",
   "language": "python",
   "name": "python3"
  },
  "language_info": {
   "codemirror_mode": {
    "name": "ipython",
    "version": 3
   },
   "file_extension": ".py",
   "mimetype": "text/x-python",
   "name": "python",
   "nbconvert_exporter": "python",
   "pygments_lexer": "ipython3",
   "version": "3.9.18"
  }
 },
 "nbformat": 4,
 "nbformat_minor": 5
}
