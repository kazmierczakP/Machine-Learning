{
 "cells": [
  {
   "cell_type": "markdown",
   "id": "9410372a-72cf-490e-99ff-316b43ac8919",
   "metadata": {},
   "source": [
    "# Auto graph"
   ]
  },
  {
   "cell_type": "code",
   "execution_count": 1,
   "id": "003fbce3-dc75-4c90-a0dd-f70a20401df9",
   "metadata": {},
   "outputs": [],
   "source": [
    "import tensorflow as tf"
   ]
  },
  {
   "cell_type": "markdown",
   "id": "598e7b52-7a5c-4c08-9e33-4239a5ade8ec",
   "metadata": {},
   "source": [
    "---"
   ]
  },
  {
   "cell_type": "markdown",
   "id": "c1d6f6b0-aab0-41ee-ae85-8e47c1484405",
   "metadata": {},
   "source": [
    "#### Graph vs Eager "
   ]
  },
  {
   "cell_type": "markdown",
   "id": "7f24f0a6-0443-4cf2-88d8-d904b6b448ea",
   "metadata": {},
   "source": [
    "Graph\n",
    "- easy debugging\n",
    "- intuitive\n",
    "- narural flow"
   ]
  },
  {
   "cell_type": "code",
   "execution_count": 2,
   "id": "96e55394-10fb-4206-aabe-b6144d47dae9",
   "metadata": {},
   "outputs": [],
   "source": [
    "def f(x):\n",
    "    if x>0:\n",
    "        x=x*x\n",
    "    return x"
   ]
  },
  {
   "cell_type": "markdown",
   "id": "4b4cf810-fccc-4694-850e-54b8d7b255bf",
   "metadata": {},
   "source": [
    "Eager\n",
    "- parallelizm\n",
    "- distributed execution\n",
    "- compilation\n",
    "- portability\n",
    "\n",
    "  `graphs don't support if conditions`"
   ]
  },
  {
   "cell_type": "code",
   "execution_count": 4,
   "id": "5b149dc6-944d-402b-ae40-e8a23e69ca59",
   "metadata": {},
   "outputs": [],
   "source": [
    "@tf.function\n",
    "def f(x):\n",
    "    def if_true():\n",
    "        return x*x\n",
    "    def if_false():\n",
    "        return x\n",
    "    x=tf.cond(tf.greater(x,0), if_true, if_false)\n",
    "    return x"
   ]
  },
  {
   "cell_type": "markdown",
   "id": "14041084-2cad-4a22-9718-70c393b9a8ae",
   "metadata": {},
   "source": [
    "---"
   ]
  },
  {
   "cell_type": "markdown",
   "id": "7eb20b49-f923-423d-ad26-3937979037e2",
   "metadata": {},
   "source": [
    "#### Generating graph"
   ]
  },
  {
   "cell_type": "code",
   "execution_count": 5,
   "id": "713000fc-1083-4ff9-ad98-b565d8a92736",
   "metadata": {},
   "outputs": [],
   "source": [
    "def add(a,b):\n",
    "    return a+b"
   ]
  },
  {
   "cell_type": "code",
   "execution_count": 7,
   "id": "19d5d272-fbdd-4d6d-8ee0-f7a5019cf2b1",
   "metadata": {},
   "outputs": [],
   "source": [
    "@tf.function\n",
    "def add(a,b):\n",
    "    return a+b"
   ]
  },
  {
   "cell_type": "code",
   "execution_count": 9,
   "id": "2f090a54-59cf-4f9d-9405-712b5457db4f",
   "metadata": {},
   "outputs": [
    {
     "name": "stdout",
     "output_type": "stream",
     "text": [
      "def tf__add(a, b):\n",
      "    with ag__.FunctionScope('add', 'fscope', ag__.ConversionOptions(recursive=True, user_requested=True, optional_features=(), internal_convert_user_code=True)) as fscope:\n",
      "        do_return = False\n",
      "        retval_ = ag__.UndefinedReturnValue()\n",
      "        try:\n",
      "            do_return = True\n",
      "            retval_ = ag__.ld(a) + ag__.ld(b)\n",
      "        except:\n",
      "            do_return = False\n",
      "            raise\n",
      "        return fscope.ret(retval_, do_return)\n",
      "\n"
     ]
    }
   ],
   "source": [
    "print(tf.autograph.to_code(add.python_function))"
   ]
  },
  {
   "cell_type": "markdown",
   "id": "8920b80f-abd2-44ee-843d-0c426060eea8",
   "metadata": {},
   "source": [
    "---"
   ]
  },
  {
   "cell_type": "code",
   "execution_count": 10,
   "id": "f257354c-6788-4a04-8faa-56302c38437c",
   "metadata": {},
   "outputs": [
    {
     "name": "stdout",
     "output_type": "stream",
     "text": [
      "def tf__f(x):\n",
      "    with ag__.FunctionScope('f', 'fscope', ag__.ConversionOptions(recursive=True, user_requested=True, optional_features=(), internal_convert_user_code=True)) as fscope:\n",
      "        do_return = False\n",
      "        retval_ = ag__.UndefinedReturnValue()\n",
      "\n",
      "        def get_state():\n",
      "            return (x,)\n",
      "\n",
      "        def set_state(vars_):\n",
      "            nonlocal x\n",
      "            (x,) = vars_\n",
      "\n",
      "        def if_body():\n",
      "            nonlocal x\n",
      "            x = ag__.ld(x) * ag__.ld(x)\n",
      "\n",
      "        def else_body():\n",
      "            nonlocal x\n",
      "            pass\n",
      "        ag__.if_stmt(ag__.ld(x) > 0, if_body, else_body, get_state, set_state, ('x',), 1)\n",
      "        try:\n",
      "            do_return = True\n",
      "            retval_ = ag__.ld(x)\n",
      "        except:\n",
      "            do_return = False\n",
      "            raise\n",
      "        return fscope.ret(retval_, do_return)\n",
      "\n"
     ]
    }
   ],
   "source": [
    "@tf.function\n",
    "def f(x):\n",
    "    if x>0:\n",
    "        x=x*x\n",
    "    return x\n",
    "print(tf.autograph.to_code(f.python_function))"
   ]
  },
  {
   "cell_type": "markdown",
   "id": "8a88744a-d5e7-4550-a17c-8f774e47bd9d",
   "metadata": {},
   "source": [
    "---"
   ]
  },
  {
   "cell_type": "code",
   "execution_count": 13,
   "id": "5c7a5ce0-283e-41c0-811c-8d1a8330f9ca",
   "metadata": {},
   "outputs": [],
   "source": [
    "@tf.function\n",
    "def xd(x):\n",
    "    print(x)\n",
    "    tf.print(x)"
   ]
  },
  {
   "cell_type": "code",
   "execution_count": 14,
   "id": "9c1fd4f7-5882-4a24-9d12-f4d0eb502316",
   "metadata": {},
   "outputs": [
    {
     "name": "stdout",
     "output_type": "stream",
     "text": [
      "0\n",
      "0\n",
      "1\n",
      "1\n",
      "2\n",
      "2\n"
     ]
    }
   ],
   "source": [
    "for i in range(3):\n",
    "    xd(i)"
   ]
  },
  {
   "cell_type": "code",
   "execution_count": null,
   "id": "d8c74976-2186-4b53-91db-9c48bd202041",
   "metadata": {},
   "outputs": [],
   "source": []
  }
 ],
 "metadata": {
  "kernelspec": {
   "display_name": "Python 3 (ipykernel)",
   "language": "python",
   "name": "python3"
  },
  "language_info": {
   "codemirror_mode": {
    "name": "ipython",
    "version": 3
   },
   "file_extension": ".py",
   "mimetype": "text/x-python",
   "name": "python",
   "nbconvert_exporter": "python",
   "pygments_lexer": "ipython3",
   "version": "3.9.18"
  }
 },
 "nbformat": 4,
 "nbformat_minor": 5
}
