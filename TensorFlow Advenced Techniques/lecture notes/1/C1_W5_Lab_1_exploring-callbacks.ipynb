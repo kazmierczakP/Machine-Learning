{
 "cells": [
  {
   "cell_type": "markdown",
   "metadata": {
    "colab_type": "text",
    "id": "view-in-github"
   },
   "source": [
    "<a href=\"https://colab.research.google.com/github/https-deeplearning-ai/tensorflow-3-public/blob/main/Course%201%20-%20Custom%20Models%2C%20Layers%20and%20Loss%20Functions/Week%205%20-%20Callbacks/C1_W5_Lab_1_exploring-callbacks.ipynb\" target=\"_parent\"><img src=\"https://colab.research.google.com/assets/colab-badge.svg\" alt=\"Open In Colab\"/></a>"
   ]
  },
  {
   "cell_type": "markdown",
   "metadata": {
    "colab_type": "text",
    "id": "0c_TYhQOUe1j"
   },
   "source": [
    "# Ungraded Lab: Introduction to Keras callbacks\n",
    "\n",
    "In Keras, `Callback` is a Python class meant to be subclassed to provide specific functionality, with a set of methods called at various stages of training (including batch/epoch start and ends), testing, and predicting. Callbacks are useful to get a view on internal states and statistics of the model during training. The methods of the callbacks can  be called at different stages of training/evaluating/inference. Keras has available [callbacks](https://keras.io/api/callbacks/) and we'll show how you can use it in the following sections. Please click the **Open in Colab** badge above to complete this exercise in Colab. This will allow you to take advantage of the free GPU runtime (for faster training) and compatibility with all the packages needed in this notebook."
   ]
  },
  {
   "cell_type": "markdown",
   "metadata": {
    "colab_type": "text",
    "id": "Uyl69EyRQx-f"
   },
   "source": [
    "## Model methods that take callbacks\n",
    "Users can supply a list of callbacks to the following `tf.keras.Model` methods:\n",
    "* [`fit()`](https://www.tensorflow.org/versions/r2.0/api_docs/python/tf/keras/Model#fit), [`fit_generator()`](https://www.tensorflow.org/versions/r2.0/api_docs/python/tf/keras/Model#fit_generator)\n",
    "Trains the model for a fixed number of epochs (iterations over a dataset, or data yielded batch-by-batch by a Python generator).\n",
    "* [`evaluate()`](https://www.tensorflow.org/versions/r2.0/api_docs/python/tf/keras/Model#evaluate), [`evaluate_generator()`](https://www.tensorflow.org/versions/r2.0/api_docs/python/tf/keras/Model#evaluate_generator)\n",
    "Evaluates the model for given data or data generator. Outputs the loss and metric values from the evaluation.\n",
    "* [`predict()`](https://www.tensorflow.org/versions/r2.0/api_docs/python/tf/keras/Model#predict), [`predict_generator()`](https://www.tensorflow.org/versions/r2.0/api_docs/python/tf/keras/Model#predict_generator)\n",
    "Generates output predictions for the input data or data generator."
   ]
  },
  {
   "cell_type": "markdown",
   "metadata": {},
   "source": [
    "## Imports"
   ]
  },
  {
   "cell_type": "code",
   "execution_count": 1,
   "metadata": {
    "colab": {},
    "colab_type": "code",
    "id": "AlT1Kh3uA9lZ"
   },
   "outputs": [
    {
     "name": "stdout",
     "output_type": "stream",
     "text": [
      "Version:  2.1.0\n"
     ]
    }
   ],
   "source": [
    "from __future__ import absolute_import, division, print_function, unicode_literals\n",
    "\n",
    "try:\n",
    "    # %tensorflow_version only exists in Colab.\n",
    "    %tensorflow_version 2.x\n",
    "except Exception:\n",
    "    pass\n",
    "\n",
    "import tensorflow as tf\n",
    "import tensorflow_datasets as tfds\n",
    "import matplotlib.pyplot as plt\n",
    "import io\n",
    "from PIL import Image\n",
    "\n",
    "from tensorflow.keras.callbacks import TensorBoard, EarlyStopping, LearningRateScheduler, ModelCheckpoint, CSVLogger, ReduceLROnPlateau\n",
    "%load_ext tensorboard\n",
    "\n",
    "import os\n",
    "import matplotlib.pylab as plt\n",
    "import numpy as np\n",
    "import math\n",
    "import datetime\n",
    "import pandas as pd\n",
    "\n",
    "print(\"Version: \", tf.__version__)\n",
    "tf.get_logger().setLevel('INFO')"
   ]
  },
  {
   "cell_type": "markdown",
   "metadata": {
    "colab_type": "text",
    "id": "HnSljqtsXKfb"
   },
   "source": [
    "# Examples of Keras callback applications\n",
    "The following section will guide you through creating simple [Callback](https://keras.io/api/callbacks/) applications."
   ]
  },
  {
   "cell_type": "code",
   "execution_count": 2,
   "metadata": {
    "colab": {},
    "colab_type": "code",
    "id": "spskRuxvCYQE"
   },
   "outputs": [],
   "source": [
    "# Download and prepare the horses or humans dataset\n",
    "\n",
    "# horses_or_humans 3.0.0 has already been downloaded for you\n",
    "path = \"./tensorflow_datasets\"\n",
    "splits, info = tfds.load('horses_or_humans', data_dir=path, as_supervised=True, with_info=True, split=['train[:80%]', 'train[80%:]', 'test'])\n",
    "\n",
    "(train_examples, validation_examples, test_examples) = splits\n",
    "\n",
    "num_examples = info.splits['train'].num_examples\n",
    "num_classes = info.features['label'].num_classes"
   ]
  },
  {
   "cell_type": "code",
   "execution_count": 3,
   "metadata": {
    "colab": {},
    "colab_type": "code",
    "id": "veIsubKTCZsN"
   },
   "outputs": [],
   "source": [
    "SIZE = 150 #@param {type:\"slider\", min:64, max:300, step:1}\n",
    "IMAGE_SIZE = (SIZE, SIZE)"
   ]
  },
  {
   "cell_type": "code",
   "execution_count": 4,
   "metadata": {
    "colab": {},
    "colab_type": "code",
    "id": "faajLlErCb1S"
   },
   "outputs": [],
   "source": [
    "def format_image(image, label):\n",
    "  image = tf.image.resize(image, IMAGE_SIZE) / 255.0\n",
    "  return  image, label"
   ]
  },
  {
   "cell_type": "code",
   "execution_count": 5,
   "metadata": {
    "colab": {},
    "colab_type": "code",
    "id": "AVXPuU12Cdka"
   },
   "outputs": [],
   "source": [
    "BATCH_SIZE = 32 #@param {type:\"integer\"}"
   ]
  },
  {
   "cell_type": "code",
   "execution_count": 6,
   "metadata": {
    "colab": {},
    "colab_type": "code",
    "id": "0lHDkFVaCe48"
   },
   "outputs": [],
   "source": [
    "train_batches = train_examples.shuffle(num_examples // 4).map(format_image).batch(BATCH_SIZE).prefetch(1)\n",
    "validation_batches = validation_examples.map(format_image).batch(BATCH_SIZE).prefetch(1)\n",
    "test_batches = test_examples.map(format_image).batch(1)"
   ]
  },
  {
   "cell_type": "code",
   "execution_count": 7,
   "metadata": {
    "colab": {},
    "colab_type": "code",
    "id": "DxsCqEIkCgUt"
   },
   "outputs": [
    {
     "data": {
      "text/plain": [
       "TensorShape([32, 150, 150, 3])"
      ]
     },
     "execution_count": 7,
     "metadata": {},
     "output_type": "execute_result"
    }
   ],
   "source": [
    "for image_batch, label_batch in train_batches.take(1):\n",
    "  pass\n",
    "\n",
    "image_batch.shape"
   ]
  },
  {
   "cell_type": "code",
   "execution_count": 8,
   "metadata": {
    "colab": {},
    "colab_type": "code",
    "id": "iDBpWvHXCh2A"
   },
   "outputs": [],
   "source": [
    "def build_model(dense_units, input_shape=IMAGE_SIZE + (3,)):\n",
    "  model = tf.keras.models.Sequential([\n",
    "      tf.keras.layers.Conv2D(16, (3, 3), activation='relu', input_shape=input_shape),\n",
    "      tf.keras.layers.MaxPooling2D(2, 2),\n",
    "      tf.keras.layers.Conv2D(32, (3, 3), activation='relu'),\n",
    "      tf.keras.layers.MaxPooling2D(2, 2),\n",
    "      tf.keras.layers.Conv2D(64, (3, 3), activation='relu'),\n",
    "      tf.keras.layers.MaxPooling2D(2, 2),\n",
    "      tf.keras.layers.Flatten(),\n",
    "      tf.keras.layers.Dense(dense_units, activation='relu'),\n",
    "      tf.keras.layers.Dense(2, activation='softmax')\n",
    "  ])\n",
    "  return model"
   ]
  },
  {
   "cell_type": "markdown",
   "metadata": {
    "colab_type": "text",
    "id": "0ZKGkjagENSw"
   },
   "source": [
    "## [TensorBoard](https://keras.io/api/callbacks/tensorboard/)\n",
    "\n",
    "Enable visualizations for TensorBoard."
   ]
  },
  {
   "cell_type": "code",
   "execution_count": 9,
   "metadata": {
    "colab": {},
    "colab_type": "code",
    "id": "CeiD2WVEHbex"
   },
   "outputs": [],
   "source": [
    "!rm -rf logs"
   ]
  },
  {
   "cell_type": "code",
   "execution_count": 11,
   "metadata": {
    "colab": {},
    "colab_type": "code",
    "id": "PpLwPLnAEOzv"
   },
   "outputs": [
    {
     "name": "stdout",
     "output_type": "stream",
     "text": [
      "Epoch 1/10\n",
      "26/26 [==============================] - 22s 828ms/step - loss: 0.6722 - accuracy: 0.5949 - val_loss: 0.6987 - val_accuracy: 0.4732\n",
      "Epoch 2/10\n",
      "26/26 [==============================] - 20s 784ms/step - loss: 0.6324 - accuracy: 0.6630 - val_loss: 0.6314 - val_accuracy: 0.6000\n",
      "Epoch 3/10\n",
      "26/26 [==============================] - 20s 765ms/step - loss: 0.6073 - accuracy: 0.6338 - val_loss: 0.5569 - val_accuracy: 0.7512\n",
      "Epoch 4/10\n",
      "26/26 [==============================] - 20s 773ms/step - loss: 0.5569 - accuracy: 0.7202 - val_loss: 0.5094 - val_accuracy: 0.8537\n",
      "Epoch 5/10\n",
      "26/26 [==============================] - 20s 761ms/step - loss: 0.4985 - accuracy: 0.7640 - val_loss: 0.4605 - val_accuracy: 0.7756\n",
      "Epoch 6/10\n",
      "26/26 [==============================] - 20s 762ms/step - loss: 0.4166 - accuracy: 0.8601 - val_loss: 0.3554 - val_accuracy: 0.9171\n",
      "Epoch 7/10\n",
      "26/26 [==============================] - 20s 762ms/step - loss: 0.3909 - accuracy: 0.8394 - val_loss: 0.3021 - val_accuracy: 0.9317\n",
      "Epoch 8/10\n",
      "26/26 [==============================] - 20s 769ms/step - loss: 0.3302 - accuracy: 0.8759 - val_loss: 0.2436 - val_accuracy: 0.9561\n",
      "Epoch 9/10\n",
      "26/26 [==============================] - 20s 759ms/step - loss: 0.2449 - accuracy: 0.9161 - val_loss: 0.1860 - val_accuracy: 0.9659\n",
      "Epoch 10/10\n",
      "26/26 [==============================] - 20s 769ms/step - loss: 0.2237 - accuracy: 0.9258 - val_loss: 0.1617 - val_accuracy: 0.9659\n"
     ]
    },
    {
     "data": {
      "text/plain": [
       "<tensorflow.python.keras.callbacks.History at 0x78da5a270810>"
      ]
     },
     "execution_count": 11,
     "metadata": {},
     "output_type": "execute_result"
    }
   ],
   "source": [
    "model = build_model(dense_units=256)\n",
    "model.compile(\n",
    "    optimizer='sgd',\n",
    "    loss='sparse_categorical_crossentropy', \n",
    "    metrics=['accuracy'])\n",
    "  \n",
    "logdir = os.path.join(\"logs\", datetime.datetime.now().strftime(\"%Y%m%d-%H%M%S\"))\n",
    "tensorboard_callback = tf.keras.callbacks.TensorBoard(logdir)\n",
    "\n",
    "model.fit(train_batches, \n",
    "          epochs=10, \n",
    "          validation_data=validation_batches, \n",
    "          callbacks=[tensorboard_callback])"
   ]
  },
  {
   "cell_type": "code",
   "execution_count": 13,
   "metadata": {
    "colab": {},
    "colab_type": "code",
    "id": "iJunWOjZE0ir"
   },
   "outputs": [
    {
     "data": {
      "text/plain": [
       "Reusing TensorBoard on port 6006 (pid 1271), started 0:00:28 ago. (Use '!kill 1271' to kill it.)"
      ]
     },
     "metadata": {},
     "output_type": "display_data"
    },
    {
     "data": {
      "text/html": [
       "\n",
       "      <iframe id=\"tensorboard-frame-40021544839067ef\" width=\"100%\" height=\"800\" frameborder=\"0\">\n",
       "      </iframe>\n",
       "      <script>\n",
       "        (function() {\n",
       "          const frame = document.getElementById(\"tensorboard-frame-40021544839067ef\");\n",
       "          const url = new URL(\"/\", window.location);\n",
       "          url.port = 6006;\n",
       "          frame.src = url;\n",
       "        })();\n",
       "      </script>\n",
       "  "
      ],
      "text/plain": [
       "<IPython.core.display.HTML object>"
      ]
     },
     "metadata": {},
     "output_type": "display_data"
    }
   ],
   "source": [
    "%tensorboard --logdir logs"
   ]
  },
  {
   "cell_type": "markdown",
   "metadata": {
    "colab_type": "text",
    "id": "wv9H4Pc2Mfl7"
   },
   "source": [
    "## [Model Checkpoint](https://keras.io/api/callbacks/model_checkpoint/)\n",
    "\n",
    "Callback to save the Keras model or model weights at some frequency."
   ]
  },
  {
   "cell_type": "code",
   "execution_count": 10,
   "metadata": {
    "colab": {},
    "colab_type": "code",
    "id": "PYV4FJ8iMmDq",
    "scrolled": true
   },
   "outputs": [
    {
     "name": "stdout",
     "output_type": "stream",
     "text": [
      "Epoch 1/5\n",
      "\n",
      "Epoch 00001: saving model to weights.01-0.68.h5\n",
      "26/26 - 20s - loss: 0.6663 - accuracy: 0.5888 - val_loss: 0.6790 - val_accuracy: 0.5073\n",
      "Epoch 2/5\n",
      "\n",
      "Epoch 00002: saving model to weights.02-0.58.h5\n",
      "26/26 - 20s - loss: 0.6125 - accuracy: 0.6910 - val_loss: 0.5812 - val_accuracy: 0.7854\n",
      "Epoch 3/5\n",
      "\n",
      "Epoch 00003: saving model to weights.03-0.57.h5\n",
      "26/26 - 19s - loss: 0.5759 - accuracy: 0.7226 - val_loss: 0.5720 - val_accuracy: 0.6927\n",
      "Epoch 4/5\n",
      "\n",
      "Epoch 00004: saving model to weights.04-0.53.h5\n",
      "26/26 - 19s - loss: 0.5366 - accuracy: 0.7579 - val_loss: 0.5341 - val_accuracy: 0.7463\n",
      "Epoch 5/5\n",
      "\n",
      "Epoch 00005: saving model to weights.05-0.42.h5\n",
      "26/26 - 19s - loss: 0.4623 - accuracy: 0.8139 - val_loss: 0.4162 - val_accuracy: 0.8585\n"
     ]
    },
    {
     "data": {
      "text/plain": [
       "<tensorflow.python.keras.callbacks.History at 0x743bc060f790>"
      ]
     },
     "execution_count": 10,
     "metadata": {},
     "output_type": "execute_result"
    }
   ],
   "source": [
    "model = build_model(dense_units=256)\n",
    "model.compile(\n",
    "    optimizer='sgd',\n",
    "    loss='sparse_categorical_crossentropy', \n",
    "    metrics=['accuracy'])\n",
    "  \n",
    "model.fit(train_batches, \n",
    "          epochs=5, \n",
    "          validation_data=validation_batches, \n",
    "          verbose=2,\n",
    "          callbacks=[ModelCheckpoint('weights.{epoch:02d}-{val_loss:.2f}.h5', verbose=1),\n",
    "          ])"
   ]
  },
  {
   "cell_type": "code",
   "execution_count": 11,
   "metadata": {
    "colab": {},
    "colab_type": "code",
    "id": "oGvjQ8IlMmK6"
   },
   "outputs": [
    {
     "name": "stdout",
     "output_type": "stream",
     "text": [
      "\n",
      "Epoch 00001: saving model to saved_model\n",
      "WARNING:tensorflow:From /opt/conda/lib/python3.7/site-packages/tensorflow_core/python/ops/resource_variable_ops.py:1786: calling BaseResourceVariable.__init__ (from tensorflow.python.ops.resource_variable_ops) with constraint is deprecated and will be removed in a future version.\n",
      "Instructions for updating:\n",
      "If using Keras pass *_constraint arguments to layers.\n"
     ]
    },
    {
     "name": "stderr",
     "output_type": "stream",
     "text": [
      "WARNING:tensorflow:From /opt/conda/lib/python3.7/site-packages/tensorflow_core/python/ops/resource_variable_ops.py:1786: calling BaseResourceVariable.__init__ (from tensorflow.python.ops.resource_variable_ops) with constraint is deprecated and will be removed in a future version.\n",
      "Instructions for updating:\n",
      "If using Keras pass *_constraint arguments to layers.\n"
     ]
    },
    {
     "name": "stdout",
     "output_type": "stream",
     "text": [
      "INFO:tensorflow:Assets written to: saved_model/assets\n"
     ]
    },
    {
     "name": "stderr",
     "output_type": "stream",
     "text": [
      "INFO:tensorflow:Assets written to: saved_model/assets\n"
     ]
    },
    {
     "name": "stdout",
     "output_type": "stream",
     "text": [
      "26/26 - 20s - loss: 0.6722 - accuracy: 0.6217 - val_loss: 0.6664 - val_accuracy: 0.5171\n"
     ]
    },
    {
     "data": {
      "text/plain": [
       "<tensorflow.python.keras.callbacks.History at 0x743c5fe6fd50>"
      ]
     },
     "execution_count": 11,
     "metadata": {},
     "output_type": "execute_result"
    }
   ],
   "source": [
    "model = build_model(dense_units=256)\n",
    "model.compile(\n",
    "    optimizer='sgd',\n",
    "    loss='sparse_categorical_crossentropy', \n",
    "    metrics=['accuracy'])\n",
    "  \n",
    "model.fit(train_batches, \n",
    "          epochs=1, \n",
    "          validation_data=validation_batches, \n",
    "          verbose=2,\n",
    "          callbacks=[ModelCheckpoint('saved_model', verbose=1)\n",
    "          ])"
   ]
  },
  {
   "cell_type": "code",
   "execution_count": 12,
   "metadata": {
    "colab": {},
    "colab_type": "code",
    "id": "Y1ConwoB0EjD"
   },
   "outputs": [
    {
     "name": "stdout",
     "output_type": "stream",
     "text": [
      "Epoch 1/2\n",
      "\n",
      "Epoch 00001: saving model to model.h5\n",
      "26/26 - 20s - loss: 0.6752 - accuracy: 0.5730 - val_loss: 0.6641 - val_accuracy: 0.7220\n",
      "Epoch 2/2\n",
      "\n",
      "Epoch 00002: saving model to model.h5\n",
      "26/26 - 19s - loss: 0.6488 - accuracy: 0.6679 - val_loss: 0.6745 - val_accuracy: 0.5024\n"
     ]
    },
    {
     "data": {
      "text/plain": [
       "<tensorflow.python.keras.callbacks.History at 0x743c5fa12290>"
      ]
     },
     "execution_count": 12,
     "metadata": {},
     "output_type": "execute_result"
    }
   ],
   "source": [
    "model = build_model(dense_units=256)\n",
    "model.compile(\n",
    "    optimizer='sgd',\n",
    "    loss='sparse_categorical_crossentropy', \n",
    "    metrics=['accuracy'])\n",
    "  \n",
    "model.fit(train_batches, \n",
    "          epochs=2, \n",
    "          validation_data=validation_batches, \n",
    "          verbose=2,\n",
    "          callbacks=[ModelCheckpoint('model.h5', verbose=1)\n",
    "          ])"
   ]
  },
  {
   "cell_type": "markdown",
   "metadata": {
    "colab_type": "text",
    "id": "kptNF0--Lznv"
   },
   "source": [
    "## [Early stopping](https://keras.io/api/callbacks/early_stopping/)\n",
    "\n",
    "Stop training when a monitored metric has stopped improving."
   ]
  },
  {
   "cell_type": "code",
   "execution_count": 13,
   "metadata": {
    "colab": {},
    "colab_type": "code",
    "id": "KJOJTJYdCkdY"
   },
   "outputs": [
    {
     "name": "stdout",
     "output_type": "stream",
     "text": [
      "Epoch 1/50\n",
      "26/26 - 20s - loss: 0.6683 - accuracy: 0.6217 - val_loss: 0.7178 - val_accuracy: 0.4341\n",
      "Epoch 2/50\n",
      "26/26 - 19s - loss: 0.6204 - accuracy: 0.6825 - val_loss: 0.5915 - val_accuracy: 0.7366\n",
      "Epoch 3/50\n",
      "26/26 - 19s - loss: 0.5650 - accuracy: 0.7275 - val_loss: 0.6146 - val_accuracy: 0.6049\n",
      "Epoch 4/50\n",
      "26/26 - 19s - loss: 0.5138 - accuracy: 0.7555 - val_loss: 0.4698 - val_accuracy: 0.7707\n",
      "Epoch 5/50\n",
      "26/26 - 19s - loss: 0.4568 - accuracy: 0.8005 - val_loss: 0.4239 - val_accuracy: 0.8244\n",
      "Epoch 6/50\n",
      "26/26 - 19s - loss: 0.4128 - accuracy: 0.8248 - val_loss: 0.4679 - val_accuracy: 0.7805\n",
      "Epoch 7/50\n",
      "26/26 - 19s - loss: 0.3532 - accuracy: 0.8528 - val_loss: 0.3544 - val_accuracy: 0.8780\n",
      "Epoch 8/50\n",
      "26/26 - 19s - loss: 0.3281 - accuracy: 0.8796 - val_loss: 0.2791 - val_accuracy: 0.8878\n",
      "Epoch 9/50\n",
      "26/26 - 20s - loss: 0.2531 - accuracy: 0.9282 - val_loss: 0.2234 - val_accuracy: 0.9122\n",
      "Epoch 10/50\n",
      "26/26 - 19s - loss: 0.2380 - accuracy: 0.9161 - val_loss: 0.2661 - val_accuracy: 0.8732\n",
      "Epoch 11/50\n",
      "26/26 - 19s - loss: 0.1666 - accuracy: 0.9599 - val_loss: 0.1330 - val_accuracy: 0.9659\n",
      "Epoch 12/50\n",
      "26/26 - 19s - loss: 0.1421 - accuracy: 0.9623 - val_loss: 0.8166 - val_accuracy: 0.6049\n",
      "Epoch 13/50\n",
      "26/26 - 19s - loss: 0.1696 - accuracy: 0.9562 - val_loss: 0.0979 - val_accuracy: 0.9805\n",
      "Epoch 14/50\n",
      "Restoring model weights from the end of the best epoch.\n",
      "26/26 - 19s - loss: 0.0912 - accuracy: 0.9854 - val_loss: 0.0864 - val_accuracy: 0.9756\n",
      "Epoch 00014: early stopping\n"
     ]
    },
    {
     "data": {
      "text/plain": [
       "<tensorflow.python.keras.callbacks.History at 0x743c5fab3910>"
      ]
     },
     "execution_count": 13,
     "metadata": {},
     "output_type": "execute_result"
    }
   ],
   "source": [
    "model = build_model(dense_units=256)\n",
    "model.compile(\n",
    "    optimizer='sgd',\n",
    "    loss='sparse_categorical_crossentropy', \n",
    "    metrics=['accuracy'])\n",
    "  \n",
    "model.fit(train_batches, \n",
    "          epochs=50, \n",
    "          validation_data=validation_batches, \n",
    "          verbose=2,\n",
    "          callbacks=[EarlyStopping(\n",
    "              patience=3,\n",
    "              min_delta=0.05,\n",
    "              baseline=0.8,\n",
    "              mode='min',\n",
    "              monitor='val_loss',\n",
    "              restore_best_weights=True,\n",
    "              verbose=1)\n",
    "          ])"
   ]
  },
  {
   "cell_type": "markdown",
   "metadata": {
    "colab_type": "text",
    "id": "8mDzWUD4Pqq5"
   },
   "source": [
    "## [CSV Logger](https://keras.io/api/callbacks/csv_logger/)\n",
    "\n",
    "Callback that streams epoch results to a CSV file."
   ]
  },
  {
   "cell_type": "code",
   "execution_count": 14,
   "metadata": {
    "colab": {},
    "colab_type": "code",
    "id": "cffnMpmGPtMh"
   },
   "outputs": [
    {
     "name": "stdout",
     "output_type": "stream",
     "text": [
      "Epoch 1/5\n",
      "26/26 [==============================] - 21s 806ms/step - loss: 0.6704 - accuracy: 0.5815 - val_loss: 0.6535 - val_accuracy: 0.6049\n",
      "Epoch 2/5\n",
      "26/26 [==============================] - 20s 759ms/step - loss: 0.6266 - accuracy: 0.6484 - val_loss: 0.7343 - val_accuracy: 0.5024\n",
      "Epoch 3/5\n",
      "26/26 [==============================] - 20s 765ms/step - loss: 0.5732 - accuracy: 0.7275 - val_loss: 0.6817 - val_accuracy: 0.5415\n",
      "Epoch 4/5\n",
      "26/26 [==============================] - 20s 751ms/step - loss: 0.5273 - accuracy: 0.7482 - val_loss: 0.5444 - val_accuracy: 0.7317\n",
      "Epoch 5/5\n",
      "26/26 [==============================] - 19s 749ms/step - loss: 0.5077 - accuracy: 0.7518 - val_loss: 0.5644 - val_accuracy: 0.6780\n"
     ]
    },
    {
     "data": {
      "text/plain": [
       "<tensorflow.python.keras.callbacks.History at 0x743c5f9afd10>"
      ]
     },
     "execution_count": 14,
     "metadata": {},
     "output_type": "execute_result"
    }
   ],
   "source": [
    "model = build_model(dense_units=256)\n",
    "model.compile(\n",
    "    optimizer='sgd',\n",
    "    loss='sparse_categorical_crossentropy', \n",
    "    metrics=['accuracy'])\n",
    "  \n",
    "csv_file = 'training.csv'\n",
    "\n",
    "model.fit(train_batches, \n",
    "          epochs=5, \n",
    "          validation_data=validation_batches, \n",
    "          callbacks=[CSVLogger(csv_file)\n",
    "          ])"
   ]
  },
  {
   "cell_type": "code",
   "execution_count": 15,
   "metadata": {
    "colab": {},
    "colab_type": "code",
    "id": "B9tkYi03QV7R"
   },
   "outputs": [
    {
     "data": {
      "text/html": [
       "<div>\n",
       "<style scoped>\n",
       "    .dataframe tbody tr th:only-of-type {\n",
       "        vertical-align: middle;\n",
       "    }\n",
       "\n",
       "    .dataframe tbody tr th {\n",
       "        vertical-align: top;\n",
       "    }\n",
       "\n",
       "    .dataframe thead th {\n",
       "        text-align: right;\n",
       "    }\n",
       "</style>\n",
       "<table border=\"1\" class=\"dataframe\">\n",
       "  <thead>\n",
       "    <tr style=\"text-align: right;\">\n",
       "      <th></th>\n",
       "      <th>epoch</th>\n",
       "      <th>accuracy</th>\n",
       "      <th>loss</th>\n",
       "      <th>val_accuracy</th>\n",
       "      <th>val_loss</th>\n",
       "    </tr>\n",
       "  </thead>\n",
       "  <tbody>\n",
       "    <tr>\n",
       "      <th>0</th>\n",
       "      <td>0</td>\n",
       "      <td>0.581508</td>\n",
       "      <td>0.669951</td>\n",
       "      <td>0.604878</td>\n",
       "      <td>0.653483</td>\n",
       "    </tr>\n",
       "    <tr>\n",
       "      <th>1</th>\n",
       "      <td>1</td>\n",
       "      <td>0.648419</td>\n",
       "      <td>0.627254</td>\n",
       "      <td>0.502439</td>\n",
       "      <td>0.734311</td>\n",
       "    </tr>\n",
       "    <tr>\n",
       "      <th>2</th>\n",
       "      <td>2</td>\n",
       "      <td>0.727494</td>\n",
       "      <td>0.574621</td>\n",
       "      <td>0.541463</td>\n",
       "      <td>0.681730</td>\n",
       "    </tr>\n",
       "    <tr>\n",
       "      <th>3</th>\n",
       "      <td>3</td>\n",
       "      <td>0.748175</td>\n",
       "      <td>0.526024</td>\n",
       "      <td>0.731707</td>\n",
       "      <td>0.544382</td>\n",
       "    </tr>\n",
       "    <tr>\n",
       "      <th>4</th>\n",
       "      <td>4</td>\n",
       "      <td>0.751825</td>\n",
       "      <td>0.507140</td>\n",
       "      <td>0.678049</td>\n",
       "      <td>0.564403</td>\n",
       "    </tr>\n",
       "  </tbody>\n",
       "</table>\n",
       "</div>"
      ],
      "text/plain": [
       "   epoch  accuracy      loss  val_accuracy  val_loss\n",
       "0      0  0.581508  0.669951      0.604878  0.653483\n",
       "1      1  0.648419  0.627254      0.502439  0.734311\n",
       "2      2  0.727494  0.574621      0.541463  0.681730\n",
       "3      3  0.748175  0.526024      0.731707  0.544382\n",
       "4      4  0.751825  0.507140      0.678049  0.564403"
      ]
     },
     "execution_count": 15,
     "metadata": {},
     "output_type": "execute_result"
    }
   ],
   "source": [
    "pd.read_csv(csv_file).head()"
   ]
  },
  {
   "cell_type": "markdown",
   "metadata": {
    "colab_type": "text",
    "id": "Dt9C2Y9fRBKN"
   },
   "source": [
    "## [Learning Rate Scheduler](https://keras.io/api/callbacks/learning_rate_scheduler/)\n",
    "\n",
    "Updates the learning rate during training."
   ]
  },
  {
   "cell_type": "code",
   "execution_count": 16,
   "metadata": {
    "colab": {},
    "colab_type": "code",
    "id": "aJi-xY2VRC03"
   },
   "outputs": [
    {
     "name": "stdout",
     "output_type": "stream",
     "text": [
      "\n",
      "Epoch 00001: LearningRateScheduler reducing learning rate to 0.005.\n",
      "Epoch 1/5\n",
      "26/26 [==============================] - 21s 803ms/step - loss: 0.6756 - accuracy: 0.5912 - val_loss: 0.6865 - val_accuracy: 0.4537\n",
      "\n",
      "Epoch 00002: LearningRateScheduler reducing learning rate to 0.0025.\n",
      "Epoch 2/5\n",
      "26/26 [==============================] - 20s 761ms/step - loss: 0.6502 - accuracy: 0.6253 - val_loss: 0.6599 - val_accuracy: 0.5707\n",
      "\n",
      "Epoch 00003: LearningRateScheduler reducing learning rate to 0.00125.\n",
      "Epoch 3/5\n",
      "26/26 [==============================] - 20s 776ms/step - loss: 0.6367 - accuracy: 0.6703 - val_loss: 0.6474 - val_accuracy: 0.7122\n",
      "\n",
      "Epoch 00004: LearningRateScheduler reducing learning rate to 0.000625.\n",
      "Epoch 4/5\n",
      "26/26 [==============================] - 20s 754ms/step - loss: 0.6293 - accuracy: 0.7543 - val_loss: 0.6439 - val_accuracy: 0.7073\n",
      "\n",
      "Epoch 00005: LearningRateScheduler reducing learning rate to 0.0003125.\n",
      "Epoch 5/5\n",
      "26/26 [==============================] - 20s 768ms/step - loss: 0.6254 - accuracy: 0.7628 - val_loss: 0.6418 - val_accuracy: 0.7220\n"
     ]
    },
    {
     "data": {
      "text/plain": [
       "<tensorflow.python.keras.callbacks.History at 0x743c5f7dcf90>"
      ]
     },
     "execution_count": 16,
     "metadata": {},
     "output_type": "execute_result"
    }
   ],
   "source": [
    "model = build_model(dense_units=256)\n",
    "model.compile(\n",
    "    optimizer='sgd',\n",
    "    loss='sparse_categorical_crossentropy', \n",
    "    metrics=['accuracy'])\n",
    "  \n",
    "def step_decay(epoch):\n",
    "\tinitial_lr = 0.01\n",
    "\tdrop = 0.5\n",
    "\tepochs_drop = 1\n",
    "\tlr = initial_lr * math.pow(drop, math.floor((1+epoch)/epochs_drop))\n",
    "\treturn lr\n",
    "\n",
    "model.fit(train_batches, \n",
    "          epochs=5, \n",
    "          validation_data=validation_batches, \n",
    "          callbacks=[LearningRateScheduler(step_decay, verbose=1),\n",
    "                    TensorBoard(log_dir='./log_dir')])"
   ]
  },
  {
   "cell_type": "code",
   "execution_count": 17,
   "metadata": {
    "colab": {},
    "colab_type": "code",
    "id": "M2S4n8nrbV91"
   },
   "outputs": [
    {
     "data": {
      "text/html": [
       "\n",
       "      <iframe id=\"tensorboard-frame-4dae408dee3adf5f\" width=\"100%\" height=\"800\" frameborder=\"0\">\n",
       "      </iframe>\n",
       "      <script>\n",
       "        (function() {\n",
       "          const frame = document.getElementById(\"tensorboard-frame-4dae408dee3adf5f\");\n",
       "          const url = new URL(\"/\", window.location);\n",
       "          url.port = 6006;\n",
       "          frame.src = url;\n",
       "        })();\n",
       "      </script>\n",
       "  "
      ],
      "text/plain": [
       "<IPython.core.display.HTML object>"
      ]
     },
     "metadata": {},
     "output_type": "display_data"
    }
   ],
   "source": [
    "%tensorboard --logdir log_dir"
   ]
  },
  {
   "cell_type": "markdown",
   "metadata": {
    "colab_type": "text",
    "id": "y0wcuQyJE_UK"
   },
   "source": [
    "## [ReduceLROnPlateau](https://keras.io/api/callbacks/reduce_lr_on_plateau/)\n",
    "\n",
    "Reduce learning rate when a metric has stopped improving."
   ]
  },
  {
   "cell_type": "code",
   "execution_count": null,
   "metadata": {
    "colab": {},
    "colab_type": "code",
    "id": "4naxZ-eCFB27"
   },
   "outputs": [
    {
     "name": "stdout",
     "output_type": "stream",
     "text": [
      "Epoch 1/50\n",
      "26/26 [==============================] - 22s 833ms/step - loss: 0.6844 - accuracy: 0.5474 - val_loss: 0.6993 - val_accuracy: 0.4634\n",
      "Epoch 2/50\n",
      "26/26 [==============================] - 20s 781ms/step - loss: 0.6488 - accuracy: 0.6265 - val_loss: 0.6195 - val_accuracy: 0.8098\n",
      "Epoch 3/50\n",
      "26/26 [==============================] - 20s 773ms/step - loss: 0.5873 - accuracy: 0.7372 - val_loss: 0.5685 - val_accuracy: 0.6683\n",
      "Epoch 4/50\n",
      "25/26 [===========================>..] - ETA: 0s - loss: 0.5611 - accuracy: 0.7188\n",
      "Epoch 00004: ReduceLROnPlateau reducing learning rate to 0.0019999999552965165.\n",
      "26/26 [==============================] - 20s 769ms/step - loss: 0.5595 - accuracy: 0.7202 - val_loss: 0.5898 - val_accuracy: 0.6098\n",
      "Epoch 5/50\n",
      "26/26 [==============================] - 20s 773ms/step - loss: 0.4929 - accuracy: 0.8175 - val_loss: 0.4841 - val_accuracy: 0.8488\n",
      "Epoch 6/50\n",
      "26/26 [==============================] - 20s 770ms/step - loss: 0.4725 - accuracy: 0.8309 - val_loss: 0.4751 - val_accuracy: 0.8049\n",
      "Epoch 7/50\n",
      "25/26 [===========================>..] - ETA: 0s - loss: 0.4562 - accuracy: 0.8313\n",
      "Epoch 00007: ReduceLROnPlateau reducing learning rate to 0.001.\n",
      "26/26 [==============================] - 20s 780ms/step - loss: 0.4530 - accuracy: 0.8333 - val_loss: 0.5356 - val_accuracy: 0.6829\n",
      "Epoch 8/50\n",
      "26/26 [==============================] - 20s 781ms/step - loss: 0.4441 - accuracy: 0.8321 - val_loss: 0.4392 - val_accuracy: 0.8634\n",
      "Epoch 9/50\n",
      "26/26 [==============================] - 20s 777ms/step - loss: 0.4311 - accuracy: 0.8443 - val_loss: 0.4267 - val_accuracy: 0.8537\n",
      "Epoch 10/50\n",
      "26/26 [==============================] - 20s 763ms/step - loss: 0.4222 - accuracy: 0.8309 - val_loss: 0.4255 - val_accuracy: 0.8537\n",
      "Epoch 11/50\n",
      "26/26 [==============================] - 29s 1s/step - loss: 0.4148 - accuracy: 0.8467 - val_loss: 0.4084 - val_accuracy: 0.8732\n",
      "Epoch 12/50\n",
      "26/26 [==============================] - 20s 777ms/step - loss: 0.4044 - accuracy: 0.8479 - val_loss: 0.3943 - val_accuracy: 0.8976\n",
      "Epoch 13/50\n",
      "26/26 [==============================] - 20s 781ms/step - loss: 0.3979 - accuracy: 0.8528 - val_loss: 0.3877 - val_accuracy: 0.8927\n",
      "Epoch 14/50\n",
      "25/26 [===========================>..] - ETA: 0s - loss: 0.3909 - accuracy: 0.8550\n",
      "Epoch 00014: ReduceLROnPlateau reducing learning rate to 0.001.\n",
      "26/26 [==============================] - 20s 769ms/step - loss: 0.3890 - accuracy: 0.8564 - val_loss: 0.3884 - val_accuracy: 0.8829\n",
      "Epoch 15/50\n",
      "26/26 [==============================] - 20s 773ms/step - loss: 0.3798 - accuracy: 0.8625 - val_loss: 0.3585 - val_accuracy: 0.8976\n",
      "Epoch 16/50\n",
      "26/26 [==============================] - 20s 769ms/step - loss: 0.3700 - accuracy: 0.8674 - val_loss: 0.3515 - val_accuracy: 0.9220\n",
      "Epoch 17/50\n",
      "25/26 [===========================>..] - ETA: 0s - loss: 0.3587 - accuracy: 0.8800\n",
      "Epoch 00017: ReduceLROnPlateau reducing learning rate to 0.001.\n",
      "26/26 [==============================] - 20s 773ms/step - loss: 0.3632 - accuracy: 0.8771 - val_loss: 0.3757 - val_accuracy: 0.8683\n",
      "Epoch 18/50\n",
      "26/26 [==============================] - 20s 773ms/step - loss: 0.3590 - accuracy: 0.8735 - val_loss: 0.3480 - val_accuracy: 0.9024\n",
      "Epoch 19/50\n",
      "26/26 [==============================] - 20s 769ms/step - loss: 0.3491 - accuracy: 0.8796 - val_loss: 0.3364 - val_accuracy: 0.8976\n",
      "Epoch 20/50\n",
      "26/26 [==============================] - 20s 773ms/step - loss: 0.3394 - accuracy: 0.8747 - val_loss: 0.3146 - val_accuracy: 0.9171\n",
      "Epoch 21/50\n",
      "25/26 [===========================>..] - ETA: 0s - loss: 0.3277 - accuracy: 0.8913\n",
      "Epoch 00021: ReduceLROnPlateau reducing learning rate to 0.001.\n",
      "26/26 [==============================] - 20s 765ms/step - loss: 0.3301 - accuracy: 0.8905 - val_loss: 0.3174 - val_accuracy: 0.9171\n",
      "Epoch 22/50\n",
      "25/26 [===========================>..] - ETA: 0s - loss: 0.3233 - accuracy: 0.8863\n",
      "Epoch 00022: ReduceLROnPlateau reducing learning rate to 0.001.\n",
      "26/26 [==============================] - 20s 777ms/step - loss: 0.3231 - accuracy: 0.8869 - val_loss: 0.3344 - val_accuracy: 0.8976\n",
      "Epoch 23/50\n",
      "26/26 [==============================] - 20s 770ms/step - loss: 0.3193 - accuracy: 0.8869 - val_loss: 0.2877 - val_accuracy: 0.9366\n",
      "Epoch 24/50\n",
      "25/26 [===========================>..] - ETA: 0s - loss: 0.3092 - accuracy: 0.9038\n",
      "Epoch 00024: ReduceLROnPlateau reducing learning rate to 0.001.\n",
      "26/26 [==============================] - 20s 769ms/step - loss: 0.3077 - accuracy: 0.9051 - val_loss: 0.3130 - val_accuracy: 0.9024\n",
      "Epoch 25/50\n",
      "26/26 [==============================] - 20s 769ms/step - loss: 0.3009 - accuracy: 0.8966 - val_loss: 0.2736 - val_accuracy: 0.9366\n",
      "Epoch 26/50\n",
      "25/26 [===========================>..] - ETA: 0s - loss: 0.2951 - accuracy: 0.9100\n",
      "Epoch 00026: ReduceLROnPlateau reducing learning rate to 0.001.\n",
      "26/26 [==============================] - 20s 766ms/step - loss: 0.2922 - accuracy: 0.9112 - val_loss: 0.2841 - val_accuracy: 0.9171\n",
      "Epoch 27/50\n",
      "26/26 [==============================] - 20s 765ms/step - loss: 0.2853 - accuracy: 0.9112 - val_loss: 0.2618 - val_accuracy: 0.9268\n",
      "Epoch 28/50\n",
      "25/26 [===========================>..] - ETA: 0s - loss: 0.2769 - accuracy: 0.9200\n",
      "Epoch 00028: ReduceLROnPlateau reducing learning rate to 0.001.\n",
      "26/26 [==============================] - 20s 766ms/step - loss: 0.2773 - accuracy: 0.9197 - val_loss: 0.2912 - val_accuracy: 0.9122\n",
      "Epoch 29/50\n",
      "25/26 [===========================>..] - ETA: 0s - loss: 0.2680 - accuracy: 0.9275\n",
      "Epoch 00029: ReduceLROnPlateau reducing learning rate to 0.001.\n",
      "26/26 [==============================] - 20s 781ms/step - loss: 0.2698 - accuracy: 0.9270 - val_loss: 0.2767 - val_accuracy: 0.9171\n",
      "Epoch 30/50\n",
      "26/26 [==============================] - 20s 769ms/step - loss: 0.2667 - accuracy: 0.9124 - val_loss: 0.2383 - val_accuracy: 0.9512\n",
      "Epoch 31/50\n",
      "25/26 [===========================>..] - ETA: 0s - loss: 0.2551 - accuracy: 0.9350\n",
      "Epoch 00031: ReduceLROnPlateau reducing learning rate to 0.001.\n",
      "26/26 [==============================] - 20s 773ms/step - loss: 0.2553 - accuracy: 0.9331 - val_loss: 0.2404 - val_accuracy: 0.9366\n",
      "Epoch 32/50\n",
      "26/26 [==============================] - 20s 781ms/step - loss: 0.2509 - accuracy: 0.9258 - val_loss: 0.2232 - val_accuracy: 0.9463\n",
      "Epoch 33/50\n",
      "26/26 [==============================] - 20s 770ms/step - loss: 0.2460 - accuracy: 0.9319 - val_loss: 0.2181 - val_accuracy: 0.9415\n",
      "Epoch 34/50\n",
      " 1/26 [>.............................] - ETA: 49s - loss: 0.2512 - accuracy: 0.9062"
     ]
    }
   ],
   "source": [
    "model = build_model(dense_units=256)\n",
    "model.compile(\n",
    "    optimizer='sgd',\n",
    "    loss='sparse_categorical_crossentropy', \n",
    "    metrics=['accuracy'])\n",
    "  \n",
    "model.fit(train_batches, \n",
    "          epochs=50, \n",
    "          validation_data=validation_batches, \n",
    "          callbacks=[ReduceLROnPlateau(monitor='val_loss', \n",
    "                                       factor=0.2, verbose=1,\n",
    "                                       patience=1, min_lr=0.001),\n",
    "                     TensorBoard(log_dir='./log_dir')])"
   ]
  },
  {
   "cell_type": "code",
   "execution_count": null,
   "metadata": {
    "colab": {},
    "colab_type": "code",
    "id": "isfTWP4NYudk"
   },
   "outputs": [],
   "source": [
    "%tensorboard --logdir log_dir"
   ]
  }
 ],
 "metadata": {
  "colab": {
   "collapsed_sections": [],
   "include_colab_link": true,
   "name": "ExploringCallbacks.ipynb",
   "provenance": []
  },
  "kernelspec": {
   "display_name": "Python 3",
   "language": "python",
   "name": "python3"
  },
  "language_info": {
   "codemirror_mode": {
    "name": "ipython",
    "version": 3
   },
   "file_extension": ".py",
   "mimetype": "text/x-python",
   "name": "python",
   "nbconvert_exporter": "python",
   "pygments_lexer": "ipython3",
   "version": "3.7.6"
  }
 },
 "nbformat": 4,
 "nbformat_minor": 4
}
