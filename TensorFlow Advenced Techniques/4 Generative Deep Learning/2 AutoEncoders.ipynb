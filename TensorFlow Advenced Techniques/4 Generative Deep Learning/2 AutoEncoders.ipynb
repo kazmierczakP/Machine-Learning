{
 "cells": [
  {
   "cell_type": "markdown",
   "id": "166fb64e",
   "metadata": {},
   "source": [
    "# AutoEncoders"
   ]
  },
  {
   "cell_type": "markdown",
   "id": "b021e5c4",
   "metadata": {},
   "source": [
    "`AutoEncoders` - models that decrease the dimetionality of the data and learn pattern how to recreate teh data. They have the same number of outputs as inputs.\n",
    "\n",
    "![alt text](AutoEncoder.png \"Title\")"
   ]
  },
  {
   "cell_type": "markdown",
   "id": "2ae03569",
   "metadata": {},
   "source": [
    "## AutoEncoder"
   ]
  },
  {
   "cell_type": "code",
   "execution_count": 7,
   "id": "c65a2197",
   "metadata": {},
   "outputs": [],
   "source": [
    "import tensorflow as tf\n",
    "import numpy as np\n",
    "import matplotlib.pyplot as plt"
   ]
  },
  {
   "cell_type": "markdown",
   "id": "b868b12d",
   "metadata": {},
   "source": [
    "#### Data"
   ]
  },
  {
   "cell_type": "code",
   "execution_count": 6,
   "id": "9e980678",
   "metadata": {},
   "outputs": [
    {
     "data": {
      "text/plain": [
       "array([[-1.11537801, -0.42221322, -0.21952618],\n",
       "       [ 1.10015371,  0.38893965,  0.26391266],\n",
       "       [ 1.15454146,  0.53675217,  0.15152919],\n",
       "       [ 0.83149122, -0.08137369,  0.19249408],\n",
       "       [ 1.11441895,  0.39125941,  0.17936339],\n",
       "       [ 0.93637378,  0.61426744,  0.21332299],\n",
       "       [-0.24670082,  0.54430299,  0.15274172],\n",
       "       [-1.07157449, -0.32464719, -0.28201567],\n",
       "       [-1.01432146, -0.49671006, -0.30501456],\n",
       "       [ 0.51141706,  0.72513406,  0.15861807]])"
      ]
     },
     "execution_count": 6,
     "metadata": {},
     "output_type": "execute_result"
    }
   ],
   "source": [
    "points=100\n",
    "angles = np.random.rand(points) * 3 * np.pi / 2 - 0.5\n",
    "data = np.empty((points, 3))\n",
    "data[:,0] = np.cos(angles) + np.sin(angles)/2 + 0.1 * np.random.randn(points)/2\n",
    "data[:,1] = np.sin(angles) * 0.7 + 0.1 * np.random.randn(points) / 2\n",
    "data[:,2] = data[:, 0] * 0.1 + data[:, 1] * 0.3 + 0.1 * np.random.randn(points)\n",
    "data[:10,:]"
   ]
  },
  {
   "cell_type": "code",
   "execution_count": 18,
   "id": "228681f9",
   "metadata": {},
   "outputs": [
    {
     "data": {
      "text/plain": [
       "<mpl_toolkits.mplot3d.art3d.Path3DCollection at 0x19e29661460>"
      ]
     },
     "execution_count": 18,
     "metadata": {},
     "output_type": "execute_result"
    },
    {
     "data": {
      "image/png": "[encoded data removed]",
      "text/plain": [
       "<Figure size 432x288 with 1 Axes>"
      ]
     },
     "metadata": {
      "needs_background": "light"
     },
     "output_type": "display_data"
    }
   ],
   "source": [
    "X_train = data - data.mean(axis=0, keepdims=0)\n",
    "plt.figure().add_subplot(projection='3d')\n",
    "plt.scatter(X_train[:,0],X_train[:,1],X_train[:,2])"
   ]
  },
  {
   "cell_type": "markdown",
   "id": "0dfd2a81",
   "metadata": {},
   "source": [
    "#### Model"
   ]
  },
  {
   "cell_type": "code",
   "execution_count": 25,
   "id": "2732f139",
   "metadata": {},
   "outputs": [],
   "source": [
    "encoder=tf.keras.models.Sequential([tf.keras.layers.Dense(2,input_shape=[3])])\n",
    "decoder=tf.keras.models.Sequential([tf.keras.layers.Dense(3,input_shape=[2])])\n",
    "autoencoder=tf.keras.models.Sequential([encoder,decoder])\n",
    "autoencoder.compile(loss='mse',optimizer=tf.keras.optimizers.SGD(learning_rate=1.5))"
   ]
  },
  {
   "cell_type": "code",
   "execution_count": 26,
   "id": "eb41d57d",
   "metadata": {},
   "outputs": [
    {
     "name": "stdout",
     "output_type": "stream",
     "text": [
      "Epoch 1/100\n",
      "4/4 [==============================] - 1s 5ms/step - loss: 0.9829\n",
      "Epoch 2/100\n",
      "4/4 [==============================] - 0s 3ms/step - loss: 0.0735\n",
      "Epoch 3/100\n",
      "4/4 [==============================] - 0s 3ms/step - loss: 0.0334\n",
      "Epoch 4/100\n",
      "4/4 [==============================] - 0s 3ms/step - loss: 0.0325\n",
      "Epoch 5/100\n",
      "4/4 [==============================] - 0s 3ms/step - loss: 0.0372\n",
      "Epoch 6/100\n",
      "4/4 [==============================] - 0s 5ms/step - loss: 0.0282\n",
      "Epoch 7/100\n",
      "4/4 [==============================] - 0s 2ms/step - loss: 0.0786\n",
      "Epoch 8/100\n",
      "4/4 [==============================] - 0s 6ms/step - loss: 0.0139\n",
      "Epoch 9/100\n",
      "4/4 [==============================] - 0s 4ms/step - loss: 0.0119\n",
      "Epoch 10/100\n",
      "4/4 [==============================] - 0s 4ms/step - loss: 0.0068\n",
      "Epoch 11/100\n",
      "4/4 [==============================] - 0s 5ms/step - loss: 0.0113\n",
      "Epoch 12/100\n",
      "4/4 [==============================] - 0s 4ms/step - loss: 0.0077\n",
      "Epoch 13/100\n",
      "4/4 [==============================] - 0s 5ms/step - loss: 0.0079\n",
      "Epoch 14/100\n",
      "4/4 [==============================] - 0s 2ms/step - loss: 0.0074\n",
      "Epoch 15/100\n",
      "4/4 [==============================] - 0s 5ms/step - loss: 0.0063\n",
      "Epoch 16/100\n",
      "4/4 [==============================] - 0s 3ms/step - loss: 0.0070\n",
      "Epoch 17/100\n",
      "4/4 [==============================] - 0s 4ms/step - loss: 0.0037\n",
      "Epoch 18/100\n",
      "4/4 [==============================] - 0s 4ms/step - loss: 0.0042\n",
      "Epoch 19/100\n",
      "4/4 [==============================] - 0s 6ms/step - loss: 0.0044\n",
      "Epoch 20/100\n",
      "4/4 [==============================] - 0s 3ms/step - loss: 0.0037\n",
      "Epoch 21/100\n",
      "4/4 [==============================] - 0s 4ms/step - loss: 0.0066\n",
      "Epoch 22/100\n",
      "4/4 [==============================] - 0s 5ms/step - loss: 0.0043\n",
      "Epoch 23/100\n",
      "4/4 [==============================] - 0s 5ms/step - loss: 0.0043\n",
      "Epoch 24/100\n",
      "4/4 [==============================] - 0s 6ms/step - loss: 0.0042\n",
      "Epoch 25/100\n",
      "4/4 [==============================] - 0s 3ms/step - loss: 0.0042\n",
      "Epoch 26/100\n",
      "4/4 [==============================] - 0s 2ms/step - loss: 0.0070\n",
      "Epoch 27/100\n",
      "4/4 [==============================] - 0s 6ms/step - loss: 0.0039\n",
      "Epoch 28/100\n",
      "4/4 [==============================] - 0s 3ms/step - loss: 0.0034\n",
      "Epoch 29/100\n",
      "4/4 [==============================] - 0s 6ms/step - loss: 0.0044\n",
      "Epoch 30/100\n",
      "4/4 [==============================] - 0s 5ms/step - loss: 0.0036\n",
      "Epoch 31/100\n",
      "4/4 [==============================] - 0s 6ms/step - loss: 0.0041\n",
      "Epoch 32/100\n",
      "4/4 [==============================] - 0s 5ms/step - loss: 0.0034\n",
      "Epoch 33/100\n",
      "4/4 [==============================] - 0s 3ms/step - loss: 0.0039\n",
      "Epoch 34/100\n",
      "4/4 [==============================] - 0s 3ms/step - loss: 0.0035\n",
      "Epoch 35/100\n",
      "4/4 [==============================] - 0s 2ms/step - loss: 0.0113\n",
      "Epoch 36/100\n",
      "4/4 [==============================] - 0s 5ms/step - loss: 0.0043\n",
      "Epoch 37/100\n",
      "4/4 [==============================] - 0s 3ms/step - loss: 0.0040\n",
      "Epoch 38/100\n",
      "4/4 [==============================] - 0s 2ms/step - loss: 0.0038\n",
      "Epoch 39/100\n",
      "4/4 [==============================] - 0s 3ms/step - loss: 0.0038\n",
      "Epoch 40/100\n",
      "4/4 [==============================] - 0s 3ms/step - loss: 0.0052\n",
      "Epoch 41/100\n",
      "4/4 [==============================] - 0s 2ms/step - loss: 0.0043\n",
      "Epoch 42/100\n",
      "4/4 [==============================] - 0s 2ms/step - loss: 0.0051\n",
      "Epoch 43/100\n",
      "4/4 [==============================] - 0s 3ms/step - loss: 0.0048\n",
      "Epoch 44/100\n",
      "4/4 [==============================] - 0s 1ms/step - loss: 0.0043\n",
      "Epoch 45/100\n",
      "4/4 [==============================] - 0s 2ms/step - loss: 0.0040\n",
      "Epoch 46/100\n",
      "4/4 [==============================] - 0s 2ms/step - loss: 0.0040\n",
      "Epoch 47/100\n",
      "4/4 [==============================] - 0s 3ms/step - loss: 0.0049\n",
      "Epoch 48/100\n",
      "4/4 [==============================] - 0s 3ms/step - loss: 0.0049\n",
      "Epoch 49/100\n",
      "4/4 [==============================] - 0s 4ms/step - loss: 0.0038\n",
      "Epoch 50/100\n",
      "4/4 [==============================] - 0s 3ms/step - loss: 0.0043\n",
      "Epoch 51/100\n",
      "4/4 [==============================] - 0s 3ms/step - loss: 0.0033\n",
      "Epoch 52/100\n",
      "4/4 [==============================] - 0s 5ms/step - loss: 0.0038\n",
      "Epoch 53/100\n",
      "4/4 [==============================] - 0s 2ms/step - loss: 0.0037\n",
      "Epoch 54/100\n",
      "4/4 [==============================] - 0s 4ms/step - loss: 0.0043\n",
      "Epoch 55/100\n",
      "4/4 [==============================] - 0s 4ms/step - loss: 0.0031\n",
      "Epoch 56/100\n",
      "4/4 [==============================] - 0s 4ms/step - loss: 0.0035\n",
      "Epoch 57/100\n",
      "4/4 [==============================] - 0s 3ms/step - loss: 0.0035\n",
      "Epoch 58/100\n",
      "4/4 [==============================] - 0s 4ms/step - loss: 0.0042\n",
      "Epoch 59/100\n",
      "4/4 [==============================] - 0s 5ms/step - loss: 0.0032\n",
      "Epoch 60/100\n",
      "4/4 [==============================] - 0s 4ms/step - loss: 0.0032\n",
      "Epoch 61/100\n",
      "4/4 [==============================] - 0s 2ms/step - loss: 0.0029\n",
      "Epoch 62/100\n",
      "4/4 [==============================] - 0s 3ms/step - loss: 0.0032\n",
      "Epoch 63/100\n",
      "4/4 [==============================] - 0s 3ms/step - loss: 0.0029\n",
      "Epoch 64/100\n",
      "4/4 [==============================] - 0s 3ms/step - loss: 0.0030\n",
      "Epoch 65/100\n",
      "4/4 [==============================] - 0s 1ms/step - loss: 0.0030\n",
      "Epoch 66/100\n",
      "4/4 [==============================] - 0s 5ms/step - loss: 0.0030\n",
      "Epoch 67/100\n",
      "4/4 [==============================] - 0s 5ms/step - loss: 0.0030\n",
      "Epoch 68/100\n",
      "4/4 [==============================] - 0s 3ms/step - loss: 0.0028\n",
      "Epoch 69/100\n",
      "4/4 [==============================] - 0s 7ms/step - loss: 0.0035\n",
      "Epoch 70/100\n",
      "4/4 [==============================] - 0s 5ms/step - loss: 0.0029\n",
      "Epoch 71/100\n",
      "4/4 [==============================] - 0s 4ms/step - loss: 0.0030\n",
      "Epoch 72/100\n",
      "4/4 [==============================] - 0s 3ms/step - loss: 0.0029\n",
      "Epoch 73/100\n",
      "4/4 [==============================] - 0s 2ms/step - loss: 0.0030\n",
      "Epoch 74/100\n",
      "4/4 [==============================] - 0s 3ms/step - loss: 0.0028\n",
      "Epoch 75/100\n",
      "4/4 [==============================] - 0s 3ms/step - loss: 0.0030\n",
      "Epoch 76/100\n",
      "4/4 [==============================] - 0s 5ms/step - loss: 0.0033\n",
      "Epoch 77/100\n",
      "4/4 [==============================] - 0s 6ms/step - loss: 0.0039\n",
      "Epoch 78/100\n",
      "4/4 [==============================] - 0s 2ms/step - loss: 0.0029\n",
      "Epoch 79/100\n",
      "4/4 [==============================] - 0s 3ms/step - loss: 0.0031\n",
      "Epoch 80/100\n",
      "4/4 [==============================] - 0s 5ms/step - loss: 0.0043\n",
      "Epoch 81/100\n",
      "4/4 [==============================] - 0s 4ms/step - loss: 0.0034\n",
      "Epoch 82/100\n",
      "4/4 [==============================] - 0s 3ms/step - loss: 0.0032\n",
      "Epoch 83/100\n",
      "4/4 [==============================] - 0s 6ms/step - loss: 0.0030\n",
      "Epoch 84/100\n",
      "4/4 [==============================] - 0s 5ms/step - loss: 0.0029\n",
      "Epoch 85/100\n",
      "4/4 [==============================] - 0s 3ms/step - loss: 0.0029\n",
      "Epoch 86/100\n",
      "4/4 [==============================] - 0s 3ms/step - loss: 0.0046\n",
      "Epoch 87/100\n",
      "4/4 [==============================] - 0s 5ms/step - loss: 0.0030\n",
      "Epoch 88/100\n",
      "4/4 [==============================] - 0s 4ms/step - loss: 0.0036\n",
      "Epoch 89/100\n",
      "4/4 [==============================] - 0s 5ms/step - loss: 0.0032\n",
      "Epoch 90/100\n",
      "4/4 [==============================] - 0s 3ms/step - loss: 0.0027\n",
      "Epoch 91/100\n",
      "4/4 [==============================] - 0s 5ms/step - loss: 0.0035\n",
      "Epoch 92/100\n",
      "4/4 [==============================] - 0s 7ms/step - loss: 0.0031\n",
      "Epoch 93/100\n",
      "4/4 [==============================] - 0s 4ms/step - loss: 0.0032\n",
      "Epoch 94/100\n",
      "4/4 [==============================] - 0s 4ms/step - loss: 0.0034\n",
      "Epoch 95/100\n",
      "4/4 [==============================] - 0s 3ms/step - loss: 0.0030\n",
      "Epoch 96/100\n",
      "4/4 [==============================] - 0s 7ms/step - loss: 0.0029\n",
      "Epoch 97/100\n",
      "4/4 [==============================] - 0s 4ms/step - loss: 0.0035\n",
      "Epoch 98/100\n",
      "4/4 [==============================] - 0s 2ms/step - loss: 0.0032\n",
      "Epoch 99/100\n",
      "4/4 [==============================] - 0s 2ms/step - loss: 0.0029\n",
      "Epoch 100/100\n",
      "4/4 [==============================] - 0s 2ms/step - loss: 0.0027\n"
     ]
    }
   ],
   "source": [
    "history=autoencoder.fit(X_train,X_train,epochs=100)"
   ]
  },
  {
   "cell_type": "markdown",
   "id": "32972f3e",
   "metadata": {},
   "source": [
    "#### Encoder"
   ]
  },
  {
   "cell_type": "code",
   "execution_count": 31,
   "id": "f1512606",
   "metadata": {},
   "outputs": [
    {
     "name": "stdout",
     "output_type": "stream",
     "text": [
      "4/4 [==============================] - 0s 3ms/step\n"
     ]
    }
   ],
   "source": [
    "encodings=encoder.predict(X_train)"
   ]
  },
  {
   "cell_type": "code",
   "execution_count": 32,
   "id": "51046f10",
   "metadata": {},
   "outputs": [
    {
     "data": {
      "text/plain": [
       "<matplotlib.collections.PathCollection at 0x19e2b67ca90>"
      ]
     },
     "execution_count": 32,
     "metadata": {},
     "output_type": "execute_result"
    },
    {
     "data": {
      "image/png": "[encoded data removed]",
      "text/plain": [
       "<Figure size 432x288 with 1 Axes>"
      ]
     },
     "metadata": {
      "needs_background": "light"
     },
     "output_type": "display_data"
    }
   ],
   "source": [
    "plt.scatter(encodings[:,0],encodings[:,1])"
   ]
  },
  {
   "cell_type": "markdown",
   "id": "7bab5244",
   "metadata": {},
   "source": [
    "#### Decoder"
   ]
  },
  {
   "cell_type": "code",
   "execution_count": 33,
   "id": "0a0b8c6a",
   "metadata": {},
   "outputs": [
    {
     "name": "stdout",
     "output_type": "stream",
     "text": [
      "4/4 [==============================] - 0s 3ms/step\n"
     ]
    }
   ],
   "source": [
    "decodings=decoder.predict(encodings)"
   ]
  },
  {
   "cell_type": "code",
   "execution_count": 34,
   "id": "cb8ac4fc",
   "metadata": {},
   "outputs": [
    {
     "name": "stderr",
     "output_type": "stream",
     "text": [
      "C:\\Users\\pk764\\miniconda3\\envs\\data\\lib\\site-packages\\matplotlib\\collections.py:963: RuntimeWarning: invalid value encountered in sqrt\n",
      "  scale = np.sqrt(self._sizes) * dpi / 72.0 * self._factor\n"
     ]
    },
    {
     "data": {
      "text/plain": [
       "<mpl_toolkits.mplot3d.art3d.Path3DCollection at 0x19e2b6f2040>"
      ]
     },
     "execution_count": 34,
     "metadata": {},
     "output_type": "execute_result"
    },
    {
     "data": {
      "image/png": "[encoded data removed]",
      "text/plain": [
       "<Figure size 432x288 with 1 Axes>"
      ]
     },
     "metadata": {
      "needs_background": "light"
     },
     "output_type": "display_data"
    }
   ],
   "source": [
    "plt.figure().add_subplot(projection='3d')\n",
    "plt.scatter(decodings[:,0],decodings[:,1],decodings[:,2])"
   ]
  },
  {
   "cell_type": "markdown",
   "id": "2e6410e4",
   "metadata": {},
   "source": [
    "---"
   ]
  },
  {
   "cell_type": "markdown",
   "id": "80e8885e",
   "metadata": {},
   "source": [
    "## Visual AutoEncoder"
   ]
  },
  {
   "cell_type": "code",
   "execution_count": 49,
   "id": "40aae123",
   "metadata": {},
   "outputs": [
    {
     "name": "stderr",
     "output_type": "stream",
     "text": [
      "C:\\Users\\pk764\\miniconda3\\envs\\data\\lib\\site-packages\\tqdm\\auto.py:21: TqdmWarning: IProgress not found. Please update jupyter and ipywidgets. See https://ipywidgets.readthedocs.io/en/stable/user_install.html\n",
      "  from .autonotebook import tqdm as notebook_tqdm\n"
     ]
    }
   ],
   "source": [
    "import tensorflow as tf\n",
    "import tensorflow_datasets as tfds\n",
    "import numpy as np\n",
    "import matplotlib.pyplot as plt"
   ]
  },
  {
   "cell_type": "markdown",
   "id": "576d513d",
   "metadata": {},
   "source": [
    "#### Data"
   ]
  },
  {
   "cell_type": "code",
   "execution_count": 50,
   "id": "78e5e391",
   "metadata": {},
   "outputs": [],
   "source": [
    "def map_image(image, label):\n",
    "    image = tf.cast(image, dtype=tf.float32)\n",
    "    image = image / 255.0\n",
    "    image = tf.reshape(image, shape=(784,))\n",
    "    return image, image"
   ]
  },
  {
   "cell_type": "code",
   "execution_count": 51,
   "id": "9dcc829b",
   "metadata": {},
   "outputs": [],
   "source": [
    "BATCH_SIZE = 128\n",
    "SHUFFLE_BUFFER_SIZE = 1024\n",
    "\n",
    "train_dataset = tfds.load('mnist', as_supervised=True, split=\"train\")\n",
    "train_dataset = train_dataset.map(map_image)\n",
    "train_dataset = train_dataset.shuffle(SHUFFLE_BUFFER_SIZE).batch(BATCH_SIZE)\n",
    "\n",
    "test_dataset = tfds.load('mnist', as_supervised=True, split=\"test\")\n",
    "test_dataset = test_dataset.map(map_image)\n",
    "test_dataset = test_dataset.batch(BATCH_SIZE).repeat()"
   ]
  },
  {
   "cell_type": "markdown",
   "id": "dcf4df3f",
   "metadata": {},
   "source": [
    "#### Model"
   ]
  },
  {
   "cell_type": "code",
   "execution_count": 43,
   "id": "61880801",
   "metadata": {},
   "outputs": [],
   "source": [
    "inputs=tf.keras.layers.Input(shape=(784,))\n",
    "encoder=tf.keras.layers.Dense(32,activation='relu')(inputs)\n",
    "decoder=tf.keras.layers.Dense(784,activation='sigmoid')(encoder)\n",
    "\n",
    "#inputs_decoder=tf.keras.layers.Input(shape=(32,))\n",
    "#decoder_model=tf.keras.models.Model(inputs=inputs_decoder,outputs=decoder)\n",
    "\n",
    "encoder_model=tf.keras.models.Model(inputs=inputs,outputs=encoder)\n",
    "autoencoder=tf.keras.models.Model(inputs=inputs,outputs=decoder)"
   ]
  },
  {
   "cell_type": "code",
   "execution_count": 45,
   "id": "d25b6a31",
   "metadata": {},
   "outputs": [],
   "source": [
    "autoencoder.compile(loss='binary_crossentropy',optimizer=tf.keras.optimizers.Adam())"
   ]
  },
  {
   "cell_type": "code",
   "execution_count": 53,
   "id": "eee82825",
   "metadata": {},
   "outputs": [
    {
     "name": "stdout",
     "output_type": "stream",
     "text": [
      "Epoch 1/20\n",
      "468/468 [==============================] - 4s 8ms/step - loss: 0.0961\n",
      "Epoch 2/20\n",
      "468/468 [==============================] - 4s 8ms/step - loss: 0.0952\n",
      "Epoch 3/20\n",
      "468/468 [==============================] - 4s 8ms/step - loss: 0.0947\n",
      "Epoch 4/20\n",
      "468/468 [==============================] - 4s 9ms/step - loss: 0.0943\n",
      "Epoch 5/20\n",
      "468/468 [==============================] - 4s 8ms/step - loss: 0.0941\n",
      "Epoch 6/20\n",
      "468/468 [==============================] - 4s 8ms/step - loss: 0.0939\n",
      "Epoch 7/20\n",
      "468/468 [==============================] - 4s 9ms/step - loss: 0.0938\n",
      "Epoch 8/20\n",
      "468/468 [==============================] - 4s 9ms/step - loss: 0.0937\n",
      "Epoch 9/20\n",
      "468/468 [==============================] - 4s 9ms/step - loss: 0.0936\n",
      "Epoch 10/20\n",
      "468/468 [==============================] - 4s 9ms/step - loss: 0.0935\n",
      "Epoch 11/20\n",
      "468/468 [==============================] - 4s 9ms/step - loss: 0.0934\n",
      "Epoch 12/20\n",
      "468/468 [==============================] - 4s 9ms/step - loss: 0.0934\n",
      "Epoch 13/20\n",
      "468/468 [==============================] - 4s 9ms/step - loss: 0.0933\n",
      "Epoch 14/20\n",
      "468/468 [==============================] - 4s 9ms/step - loss: 0.0933\n",
      "Epoch 15/20\n",
      "468/468 [==============================] - 4s 9ms/step - loss: 0.0933\n",
      "Epoch 16/20\n",
      "468/468 [==============================] - 4s 9ms/step - loss: 0.0932\n",
      "Epoch 17/20\n",
      "468/468 [==============================] - 4s 9ms/step - loss: 0.0932\n",
      "Epoch 18/20\n",
      "468/468 [==============================] - 4s 9ms/step - loss: 0.0932\n",
      "Epoch 19/20\n",
      "468/468 [==============================] - 4s 9ms/step - loss: 0.0931\n",
      "Epoch 20/20\n",
      "468/468 [==============================] - 4s 9ms/step - loss: 0.0931\n"
     ]
    }
   ],
   "source": [
    "train_steps=60000 // BATCH_SIZE\n",
    "history=autoencoder.fit(train_dataset,steps_per_epoch=train_steps,epochs=20)"
   ]
  },
  {
   "cell_type": "markdown",
   "id": "25db3f73",
   "metadata": {},
   "source": [
    "#### Prediction"
   ]
  },
  {
   "cell_type": "code",
   "execution_count": 69,
   "id": "afb948d0",
   "metadata": {},
   "outputs": [],
   "source": [
    "images=test_dataset.take(1)\n",
    "for input_image, image in tfds.as_numpy(images):\n",
    "      output_samples = input_image"
   ]
  },
  {
   "cell_type": "code",
   "execution_count": 72,
   "id": "ccaf3039",
   "metadata": {},
   "outputs": [
    {
     "name": "stdout",
     "output_type": "stream",
     "text": [
      "1/1 [==============================] - 0s 70ms/step\n",
      "1/1 [==============================] - 0s 124ms/step\n"
     ]
    }
   ],
   "source": [
    "encoded=encoder_model.predict(images)\n",
    "predicted=autoencoder.predict(images)"
   ]
  },
  {
   "cell_type": "code",
   "execution_count": 82,
   "id": "6b02b3ff",
   "metadata": {},
   "outputs": [
    {
     "data": {
      "image/png": "[encoded data removed]",
      "text/plain": [
       "<Figure size 432x288 with 1 Axes>"
      ]
     },
     "metadata": {
      "needs_background": "light"
     },
     "output_type": "display_data"
    },
    {
     "data": {
      "image/png": "[encoded data removed]",
      "text/plain": [
       "<Figure size 432x288 with 1 Axes>"
      ]
     },
     "metadata": {
      "needs_background": "light"
     },
     "output_type": "display_data"
    },
    {
     "data": {
      "image/png": "[encoded data removed]",
      "text/plain": [
       "<Figure size 432x288 with 1 Axes>"
      ]
     },
     "metadata": {
      "needs_background": "light"
     },
     "output_type": "display_data"
    }
   ],
   "source": [
    "plt.imshow(np.reshape(output_samples[0], (28,28)))\n",
    "plt.axis('off')\n",
    "plt.show()\n",
    "plt.imshow(np.reshape(encoded[0], (8,4)))\n",
    "plt.axis('off')\n",
    "plt.show()\n",
    "plt.imshow(np.reshape(predicted[0], (28,28)))\n",
    "plt.axis('off')\n",
    "plt.show()"
   ]
  },
  {
   "cell_type": "markdown",
   "id": "f51efa36",
   "metadata": {},
   "source": [
    "---"
   ]
  },
  {
   "cell_type": "markdown",
   "id": "be8e2353",
   "metadata": {},
   "source": [
    "## Deep AutoEncoder"
   ]
  },
  {
   "cell_type": "markdown",
   "id": "fbca357f",
   "metadata": {},
   "source": [
    "`Stacked AutoEncoder` - both `encoder` and `decoder` have more complex structure, and the model has a `bottleneck`. \n",
    "\n",
    "![alt text](AutoEncoder.png \"Title\")"
   ]
  },
  {
   "cell_type": "markdown",
   "id": "f8f1923d",
   "metadata": {},
   "source": [
    "#### Data"
   ]
  },
  {
   "cell_type": "code",
   "execution_count": 8,
   "id": "30e666ae",
   "metadata": {},
   "outputs": [
    {
     "name": "stderr",
     "output_type": "stream",
     "text": [
      "C:\\Users\\pk764\\miniconda3\\envs\\data\\lib\\site-packages\\tqdm\\auto.py:21: TqdmWarning: IProgress not found. Please update jupyter and ipywidgets. See https://ipywidgets.readthedocs.io/en/stable/user_install.html\n",
      "  from .autonotebook import tqdm as notebook_tqdm\n"
     ]
    }
   ],
   "source": [
    "import tensorflow as tf\n",
    "import tensorflow_datasets as tfds\n",
    "import numpy as np\n",
    "import matplotlib.pyplot as plt"
   ]
  },
  {
   "cell_type": "code",
   "execution_count": 6,
   "id": "a56424d9",
   "metadata": {},
   "outputs": [],
   "source": [
    "def map_image(image, label):\n",
    "    image = tf.cast(image, dtype=tf.float32)\n",
    "    image = image / 255.0\n",
    "    image = tf.reshape(image, shape=(784,))\n",
    "    return image, image"
   ]
  },
  {
   "cell_type": "code",
   "execution_count": 9,
   "id": "1b9f9ef8",
   "metadata": {},
   "outputs": [],
   "source": [
    "BATCH_SIZE = 128\n",
    "SHUFFLE_BUFFER_SIZE = 1024\n",
    "\n",
    "train_dataset = tfds.load('mnist', as_supervised=True, split=\"train\")\n",
    "train_dataset = train_dataset.map(map_image)\n",
    "train_dataset = train_dataset.shuffle(SHUFFLE_BUFFER_SIZE).batch(BATCH_SIZE)\n",
    "\n",
    "test_dataset = tfds.load('mnist', as_supervised=True, split=\"test\")\n",
    "test_dataset = test_dataset.map(map_image)\n",
    "test_dataset = test_dataset.batch(BATCH_SIZE).repeat()"
   ]
  },
  {
   "cell_type": "markdown",
   "id": "9853d6a0",
   "metadata": {},
   "source": [
    "#### Model"
   ]
  },
  {
   "cell_type": "code",
   "execution_count": 5,
   "id": "e7d90122",
   "metadata": {},
   "outputs": [],
   "source": [
    "inputs=tf.keras.layers.Input(shape=(784,))\n",
    "encoder=tf.keras.layers.Dense(128,activation='relu')(inputs)\n",
    "encoder=tf.keras.layers.Dense(64,activation='relu')(encoder)\n",
    "encoder=tf.keras.layers.Dense(32,activation='relu')(encoder)\n",
    "decoder=tf.keras.layers.Dense(64,activation='relu')(encoder)\n",
    "decoder=tf.keras.layers.Dense(128,activation='relu')(decoder)\n",
    "decoder=tf.keras.layers.Dense(784,activation='sigmoid')(decoder)\n",
    "\n",
    "#inputs_decoder=tf.keras.layers.Input(shape=(32,))\n",
    "#decoder_model=tf.keras.models.Model(inputs=inputs_decoder,outputs=decoder)\n",
    "\n",
    "encoder_model=tf.keras.models.Model(inputs=inputs,outputs=encoder)\n",
    "autoencoder=tf.keras.models.Model(inputs=inputs,outputs=decoder)"
   ]
  },
  {
   "cell_type": "code",
   "execution_count": 10,
   "id": "44fc1bdf",
   "metadata": {},
   "outputs": [],
   "source": [
    "autoencoder.compile(loss='binary_crossentropy',optimizer=tf.keras.optimizers.Adam())"
   ]
  },
  {
   "cell_type": "code",
   "execution_count": 11,
   "id": "b2d739bf",
   "metadata": {},
   "outputs": [
    {
     "name": "stdout",
     "output_type": "stream",
     "text": [
      "Epoch 1/20\n",
      "468/468 [==============================] - 5s 8ms/step - loss: 0.1999\n",
      "Epoch 2/20\n",
      "468/468 [==============================] - 3s 7ms/step - loss: 0.1319\n",
      "Epoch 3/20\n",
      "468/468 [==============================] - 3s 7ms/step - loss: 0.1191\n",
      "Epoch 4/20\n",
      "468/468 [==============================] - 3s 7ms/step - loss: 0.1115\n",
      "Epoch 5/20\n",
      "468/468 [==============================] - 3s 7ms/step - loss: 0.1063\n",
      "Epoch 6/20\n",
      "468/468 [==============================] - 3s 7ms/step - loss: 0.1030\n",
      "Epoch 7/20\n",
      "468/468 [==============================] - 4s 7ms/step - loss: 0.1004\n",
      "Epoch 8/20\n",
      "468/468 [==============================] - 3s 7ms/step - loss: 0.0983\n",
      "Epoch 9/20\n",
      "468/468 [==============================] - 3s 7ms/step - loss: 0.0967\n",
      "Epoch 10/20\n",
      "468/468 [==============================] - 3s 7ms/step - loss: 0.0952\n",
      "Epoch 11/20\n",
      "468/468 [==============================] - 3s 7ms/step - loss: 0.0940\n",
      "Epoch 12/20\n",
      "468/468 [==============================] - 3s 7ms/step - loss: 0.0931\n",
      "Epoch 13/20\n",
      "468/468 [==============================] - 4s 8ms/step - loss: 0.0923\n",
      "Epoch 14/20\n",
      "468/468 [==============================] - 4s 9ms/step - loss: 0.0916\n",
      "Epoch 15/20\n",
      "468/468 [==============================] - 4s 9ms/step - loss: 0.0911\n",
      "Epoch 16/20\n",
      "468/468 [==============================] - 4s 8ms/step - loss: 0.0906\n",
      "Epoch 17/20\n",
      "468/468 [==============================] - 4s 8ms/step - loss: 0.0900\n",
      "Epoch 18/20\n",
      "468/468 [==============================] - 4s 8ms/step - loss: 0.0895\n",
      "Epoch 19/20\n",
      "468/468 [==============================] - 4s 9ms/step - loss: 0.0890\n",
      "Epoch 20/20\n",
      "468/468 [==============================] - 4s 8ms/step - loss: 0.0885\n"
     ]
    }
   ],
   "source": [
    "train_steps=60000 // BATCH_SIZE\n",
    "history=autoencoder.fit(train_dataset,steps_per_epoch=train_steps,epochs=20)"
   ]
  },
  {
   "cell_type": "markdown",
   "id": "04e15a1a",
   "metadata": {},
   "source": [
    "#### Prediction"
   ]
  },
  {
   "cell_type": "code",
   "execution_count": 12,
   "id": "c268b94b",
   "metadata": {},
   "outputs": [],
   "source": [
    "images=test_dataset.take(1)\n",
    "for input_image, image in tfds.as_numpy(images):\n",
    "      output_samples = input_image"
   ]
  },
  {
   "cell_type": "code",
   "execution_count": 13,
   "id": "b65ae361",
   "metadata": {},
   "outputs": [
    {
     "name": "stdout",
     "output_type": "stream",
     "text": [
      "1/1 [==============================] - 0s 188ms/step\n",
      "1/1 [==============================] - 0s 151ms/step\n"
     ]
    }
   ],
   "source": [
    "encoded=encoder_model.predict(images)\n",
    "predicted=autoencoder.predict(images)"
   ]
  },
  {
   "cell_type": "code",
   "execution_count": 14,
   "id": "3815ceed",
   "metadata": {},
   "outputs": [
    {
     "data": {
      "image/png": "[encoded data removed]",
      "text/plain": [
       "<Figure size 432x288 with 1 Axes>"
      ]
     },
     "metadata": {
      "needs_background": "light"
     },
     "output_type": "display_data"
    },
    {
     "data": {
      "image/png": "[encoded data removed]",
      "text/plain": [
       "<Figure size 432x288 with 1 Axes>"
      ]
     },
     "metadata": {
      "needs_background": "light"
     },
     "output_type": "display_data"
    },
    {
     "data": {
      "image/png": "[encoded data removed]",
      "text/plain": [
       "<Figure size 432x288 with 1 Axes>"
      ]
     },
     "metadata": {
      "needs_background": "light"
     },
     "output_type": "display_data"
    }
   ],
   "source": [
    "plt.imshow(np.reshape(output_samples[0], (28,28)))\n",
    "plt.axis('off')\n",
    "plt.show()\n",
    "plt.imshow(np.reshape(encoded[0], (8,4)))\n",
    "plt.axis('off')\n",
    "plt.show()\n",
    "plt.imshow(np.reshape(predicted[0], (28,28)))\n",
    "plt.axis('off')\n",
    "plt.show()"
   ]
  },
  {
   "cell_type": "markdown",
   "id": "d01d85c9",
   "metadata": {},
   "source": [
    "---"
   ]
  },
  {
   "cell_type": "markdown",
   "id": "ee1b699e",
   "metadata": {},
   "source": [
    "## Convolutional AutoEncoder"
   ]
  },
  {
   "cell_type": "markdown",
   "id": "32169d07",
   "metadata": {},
   "source": [
    "![alt text](ConvolutionalAutoEncoder.png \"Title\")"
   ]
  },
  {
   "cell_type": "markdown",
   "id": "ae737748",
   "metadata": {},
   "source": [
    "#### Data"
   ]
  },
  {
   "cell_type": "code",
   "execution_count": 15,
   "id": "65215a2f",
   "metadata": {},
   "outputs": [],
   "source": [
    "import tensorflow as tf\n",
    "import tensorflow_datasets as tfds\n",
    "import numpy as np\n",
    "import matplotlib.pyplot as plt"
   ]
  },
  {
   "cell_type": "code",
   "execution_count": 40,
   "id": "ca410a76",
   "metadata": {},
   "outputs": [],
   "source": [
    "def map_image(image, label):\n",
    "    image = tf.cast(image, dtype=tf.float32)\n",
    "    image = image / 255.0\n",
    "    return image, image"
   ]
  },
  {
   "cell_type": "code",
   "execution_count": 41,
   "id": "8ef3c238",
   "metadata": {},
   "outputs": [],
   "source": [
    "BATCH_SIZE = 128\n",
    "SHUFFLE_BUFFER_SIZE = 1024\n",
    "\n",
    "train_dataset = tfds.load('fashion_mnist', as_supervised=True, split=\"train\")\n",
    "train_dataset = train_dataset.map(map_image)\n",
    "train_dataset = train_dataset.shuffle(SHUFFLE_BUFFER_SIZE).batch(BATCH_SIZE).repeat()\n",
    "\n",
    "test_dataset = tfds.load('fashion_mnist', as_supervised=True, split=\"test\")\n",
    "test_dataset = test_dataset.map(map_image)\n",
    "test_dataset = test_dataset.batch(BATCH_SIZE).repeat()"
   ]
  },
  {
   "cell_type": "markdown",
   "id": "8d841479",
   "metadata": {},
   "source": [
    "#### Model"
   ]
  },
  {
   "cell_type": "code",
   "execution_count": 34,
   "id": "1c59b8ef",
   "metadata": {},
   "outputs": [],
   "source": [
    "def encoder(inputs):\n",
    "    conv_1=tf.keras.layers.Conv2D(64,(3,3),activation='relu',padding='same')(inputs)\n",
    "    pool_1=tf.keras.layers.MaxPool2D((2,2))(conv_1)\n",
    "    conv_2=tf.keras.layers.Conv2D(128,(3,3),activation='relu',padding='same')(pool_1)\n",
    "    pool_2=tf.keras.layers.MaxPool2D((2,2))(conv_2)\n",
    "    return pool_2"
   ]
  },
  {
   "cell_type": "code",
   "execution_count": 35,
   "id": "8874f1df",
   "metadata": {},
   "outputs": [],
   "source": [
    "def bottleneck(inputs):\n",
    "    bottle_neck=tf.keras.layers.Conv2D(256,(3,3),activation='relu',padding='same')(inputs)\n",
    "    encoder_vizualization=tf.keras.layers.Conv2D(1,(3,3),activation='sigmoid',padding='same')(bottle_neck)\n",
    "    return bottle_neck,encoder_vizualization"
   ]
  },
  {
   "cell_type": "code",
   "execution_count": 36,
   "id": "b6a40d50",
   "metadata": {},
   "outputs": [],
   "source": [
    "def decoder(inputs):\n",
    "    conv_1=tf.keras.layers.Conv2D(128,(3,3),activation='relu',padding='same')(inputs)\n",
    "    upsampling_1=tf.keras.layers.UpSampling2D((2,2))(conv_1)\n",
    "    conv_2=tf.keras.layers.Conv2D(64,(3,3),activation='relu',padding='same')(upsampling_1)\n",
    "    upsampling_2=tf.keras.layers.UpSampling2D((2,2))(conv_2)\n",
    "    conv_3=tf.keras.layers.Conv2D(1,(3,3),activation='sigmoid',padding='same')(upsampling_2)\n",
    "    return conv_3"
   ]
  },
  {
   "cell_type": "code",
   "execution_count": 37,
   "id": "4a9704ff",
   "metadata": {},
   "outputs": [],
   "source": [
    "inputs=tf.keras.layers.Input(shape=(28,28,1))\n",
    "encoder=encoder(inputs)\n",
    "bottleneck,encoder_vizualization=bottleneck(encoder)\n",
    "decoder=decoder(bottleneck)\n",
    "\n",
    "encoder_model=tf.keras.models.Model(inputs=inputs,outputs=encoder_vizualization)\n",
    "autoencoder=tf.keras.models.Model(inputs=inputs,outputs=decoder)"
   ]
  },
  {
   "cell_type": "code",
   "execution_count": 43,
   "id": "2af0ab59",
   "metadata": {},
   "outputs": [
    {
     "name": "stdout",
     "output_type": "stream",
     "text": [
      "Epoch 1/5\n",
      "468/468 [==============================] - 437s 933ms/step - loss: 0.2981 - val_loss: 0.2700\n",
      "Epoch 2/5\n",
      "468/468 [==============================] - 371s 793ms/step - loss: 0.2635 - val_loss: 0.2624\n",
      "Epoch 3/5\n",
      "468/468 [==============================] - 379s 810ms/step - loss: 0.2582 - val_loss: 0.2582\n",
      "Epoch 4/5\n",
      "468/468 [==============================] - 366s 782ms/step - loss: 0.2550 - val_loss: 0.2558\n",
      "Epoch 5/5\n",
      "468/468 [==============================] - 372s 795ms/step - loss: 0.2530 - val_loss: 0.2551\n"
     ]
    }
   ],
   "source": [
    "train_steps = 60000 // BATCH_SIZE\n",
    "valid_steps = 60000 // BATCH_SIZE\n",
    "\n",
    "autoencoder.compile(optimizer=tf.keras.optimizers.Adam(), loss='binary_crossentropy')\n",
    "history = autoencoder.fit(train_dataset, steps_per_epoch=train_steps, validation_data=test_dataset, validation_steps=valid_steps, epochs=5)"
   ]
  },
  {
   "cell_type": "markdown",
   "id": "2c3bfead",
   "metadata": {},
   "source": [
    "#### Prediction"
   ]
  },
  {
   "cell_type": "code",
   "execution_count": 45,
   "id": "4b954d3b",
   "metadata": {},
   "outputs": [],
   "source": [
    "images=test_dataset.take(1)\n",
    "for input_image, image in tfds.as_numpy(images):\n",
    "      output_samples = input_image"
   ]
  },
  {
   "cell_type": "code",
   "execution_count": 46,
   "id": "a38c4b49",
   "metadata": {},
   "outputs": [
    {
     "name": "stdout",
     "output_type": "stream",
     "text": [
      "1/1 [==============================] - 0s 144ms/step\n",
      "1/1 [==============================] - 0s 234ms/step\n"
     ]
    }
   ],
   "source": [
    "encoded=encoder_model.predict(images)\n",
    "predicted=autoencoder.predict(images)"
   ]
  },
  {
   "cell_type": "code",
   "execution_count": 47,
   "id": "7aa0939d",
   "metadata": {},
   "outputs": [
    {
     "data": {
      "image/png": "[encoded data removed]",
      "text/plain": [
       "<Figure size 432x288 with 1 Axes>"
      ]
     },
     "metadata": {
      "needs_background": "light"
     },
     "output_type": "display_data"
    },
    {
     "data": {
      "image/png": "[encoded data removed]",
      "text/plain": [
       "<Figure size 432x288 with 1 Axes>"
      ]
     },
     "metadata": {
      "needs_background": "light"
     },
     "output_type": "display_data"
    },
    {
     "data": {
      "image/png": "[encoded data removed]",
      "text/plain": [
       "<Figure size 432x288 with 1 Axes>"
      ]
     },
     "metadata": {
      "needs_background": "light"
     },
     "output_type": "display_data"
    }
   ],
   "source": [
    "plt.imshow(output_samples[0])\n",
    "plt.axis('off')\n",
    "plt.show()\n",
    "plt.imshow(encoded[0])\n",
    "plt.axis('off')\n",
    "plt.show()\n",
    "plt.imshow(predicted[0])\n",
    "plt.axis('off')\n",
    "plt.show()"
   ]
  },
  {
   "cell_type": "markdown",
   "id": "6ef7bdf4",
   "metadata": {},
   "source": [
    "---"
   ]
  },
  {
   "cell_type": "markdown",
   "id": "d3e5f1bf",
   "metadata": {},
   "source": [
    "## Denoising AutoEncoder"
   ]
  },
  {
   "cell_type": "markdown",
   "id": "b882dfa2",
   "metadata": {},
   "source": [
    "#### Data"
   ]
  },
  {
   "cell_type": "code",
   "execution_count": 44,
   "id": "70c54678",
   "metadata": {},
   "outputs": [],
   "source": [
    "import tensorflow as tf\n",
    "import tensorflow_datasets as tfds\n",
    "import numpy as np\n",
    "import matplotlib.pyplot as plt"
   ]
  },
  {
   "cell_type": "code",
   "execution_count": null,
   "id": "ec787dee",
   "metadata": {},
   "outputs": [],
   "source": [
    "def map_image_noise(image, label):\n",
    "    noise_factor=0.5\n",
    "    image = tf.cast(image, dtype=tf.float32)\n",
    "    image = image / 255.0\n",
    "    factor=noise_factor*tf.random.normal(shape=image.shape)\n",
    "    noisy_image=image+factor\n",
    "    noisy_image=tf.clip_by_value(noisy_image,0,1)\n",
    "    return noisy_image, image"
   ]
  },
  {
   "cell_type": "code",
   "execution_count": null,
   "id": "7759968c",
   "metadata": {},
   "outputs": [],
   "source": [
    "BATCH_SIZE = 128\n",
    "SHUFFLE_BUFFER_SIZE = 1024\n",
    "\n",
    "train_dataset = tfds.load('fashion_mnist', as_supervised=True, split=\"train\")\n",
    "train_dataset = train_dataset.map(map_image_noise)\n",
    "train_dataset = train_dataset.shuffle(SHUFFLE_BUFFER_SIZE).batch(BATCH_SIZE).repeat()\n",
    "\n",
    "test_dataset = tfds.load('fashion_mnist', as_supervised=True, split=\"test\")\n",
    "test_dataset = test_dataset.map(map_image_noise)\n",
    "test_dataset = test_dataset.batch(BATCH_SIZE).repeat()"
   ]
  },
  {
   "cell_type": "markdown",
   "id": "a285869a",
   "metadata": {},
   "source": [
    "#### Model"
   ]
  },
  {
   "cell_type": "code",
   "execution_count": null,
   "id": "39d66836",
   "metadata": {},
   "outputs": [],
   "source": [
    "inputs=tf.keras.layers.Input(shape=(28,28,1))\n",
    "encoder=encoder(inputs)\n",
    "bottleneck,encoder_vizualization=bottleneck(encoder)\n",
    "decoder=decoder(bottleneck)\n",
    "\n",
    "encoder_model=tf.keras.models.Model(inputs=inputs,outputs=encoder_vizualization)\n",
    "autoencoder=tf.keras.models.Model(inputs=inputs,outputs=decoder)"
   ]
  },
  {
   "cell_type": "code",
   "execution_count": null,
   "id": "0774207e",
   "metadata": {},
   "outputs": [],
   "source": [
    "train_steps = 60000 // BATCH_SIZE\n",
    "valid_steps = 60000 // BATCH_SIZE\n",
    "\n",
    "autoencoder.compile(optimizer=tf.keras.optimizers.Adam(), loss='binary_crossentropy')\n",
    "history = autoencoder.fit(train_dataset, steps_per_epoch=train_steps, validation_data=test_dataset, validation_steps=valid_steps, epochs=5)"
   ]
  },
  {
   "cell_type": "markdown",
   "id": "2ab9c2ba",
   "metadata": {},
   "source": [
    "#### Prediction"
   ]
  },
  {
   "cell_type": "code",
   "execution_count": null,
   "id": "42e5a981",
   "metadata": {},
   "outputs": [],
   "source": []
  },
  {
   "cell_type": "code",
   "execution_count": null,
   "id": "64fffec6",
   "metadata": {},
   "outputs": [],
   "source": []
  }
 ],
 "metadata": {
  "kernelspec": {
   "display_name": "Python 3 (ipykernel)",
   "language": "python",
   "name": "python3"
  },
  "language_info": {
   "codemirror_mode": {
    "name": "ipython",
    "version": 3
   },
   "file_extension": ".py",
   "mimetype": "text/x-python",
   "name": "python",
   "nbconvert_exporter": "python",
   "pygments_lexer": "ipython3",
   "version": "3.8.12"
  }
 },
 "nbformat": 4,
 "nbformat_minor": 5
}
