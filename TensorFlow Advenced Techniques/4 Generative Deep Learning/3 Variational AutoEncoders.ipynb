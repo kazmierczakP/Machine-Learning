{
 "cells": [
  {
   "cell_type": "markdown",
   "id": "edcffc8d",
   "metadata": {},
   "source": [
    "# Variational AutoEncoders"
   ]
  },
  {
   "cell_type": "markdown",
   "id": "6aa7206a",
   "metadata": {},
   "source": [
    "With `Variational AutoEncoders` we change the bottleneck of the DeepAutoEncoder in a way that it takes two outputs from the encoder (take two values from encoder and calculates mean and standard deviation from them):\n",
    "   - mean\n",
    "   - standar deviation\n",
    "\n",
    "Then the bottleneck calculates z of these values and passes it to the decoder.\n",
    "$$z = \\mu + e^{0.5\\sigma} * \\epsilon  $$\n",
    "$\\mu$ = mean, $\\sigma$ = standard deviation, $\\epsilon$ = random sample\n",
    "\n",
    "Decoder then decodes the modified compressed version of image so the output is an image that the model did not see in the training datatset.\n",
    "![alt text](VariationalAutoEncoder.png \"Title\")"
   ]
  },
  {
   "cell_type": "markdown",
   "id": "102787fe",
   "metadata": {},
   "source": [
    "#### Data"
   ]
  },
  {
   "cell_type": "code",
   "execution_count": 1,
   "id": "16792b51",
   "metadata": {},
   "outputs": [
    {
     "name": "stderr",
     "output_type": "stream",
     "text": [
      "C:\\Users\\pk764\\miniconda3\\envs\\data\\lib\\site-packages\\tqdm\\auto.py:21: TqdmWarning: IProgress not found. Please update jupyter and ipywidgets. See https://ipywidgets.readthedocs.io/en/stable/user_install.html\n",
      "  from .autonotebook import tqdm as notebook_tqdm\n"
     ]
    }
   ],
   "source": [
    "import tensorflow as tf\n",
    "import tensorflow_datasets as tfds"
   ]
  },
  {
   "cell_type": "code",
   "execution_count": 2,
   "id": "e70ff04b",
   "metadata": {},
   "outputs": [],
   "source": [
    "def map_image(image, label):\n",
    "    image = tf.cast(image, dtype=tf.float32)\n",
    "    image = image / 255.0\n",
    "    image = tf.reshape(image, shape=(28, 28, 1,))\n",
    "    return image"
   ]
  },
  {
   "cell_type": "code",
   "execution_count": 4,
   "id": "aee8c34b",
   "metadata": {},
   "outputs": [],
   "source": [
    "BATCH_SIZE=128\n",
    "LATENT_DIM=2"
   ]
  },
  {
   "cell_type": "code",
   "execution_count": 5,
   "id": "f1d2d952",
   "metadata": {},
   "outputs": [],
   "source": [
    "train_dataset=tfds.load('mnist', as_supervised=True, split=\"train\")\n",
    "train_dataset=train_dataset.map(map_image)\n",
    "train_dataset=train_dataset.shuffle(1024).batch(BATCH_SIZE)\n",
    "\n",
    "val_dataset=tfds.load('mnist', as_supervised=True, split=\"test\")\n",
    "val_dataset=val_dataset.map(map_image)\n",
    "val_dataset=val_dataset.batch(BATCH_SIZE)"
   ]
  },
  {
   "cell_type": "markdown",
   "id": "b8c75dab",
   "metadata": {},
   "source": [
    "#### Model"
   ]
  },
  {
   "cell_type": "markdown",
   "id": "177027fc",
   "metadata": {},
   "source": [
    "`Sampling class`\n",
    "$$z = \\mu + e^{0.5\\sigma} * \\epsilon  $$\n",
    "\n",
    "$\\mu$ = mean, $\\sigma$ = standard deviation, $\\epsilon$ = random sample"
   ]
  },
  {
   "cell_type": "code",
   "execution_count": 42,
   "id": "8ec27235",
   "metadata": {},
   "outputs": [],
   "source": [
    "class Sampling(tf.keras.layers.Layer):\n",
    "    def call(self,inputs):\n",
    "        mu,sigma=inputs\n",
    "        \n",
    "        batch=tf.shape(mu)[0]\n",
    "        dim=tf.shape(mu)[1]\n",
    "        epsilon=tf.keras.backend.random_normal(shape=(batch,dim))\n",
    "        \n",
    "        return mu+epsilon*tf.exp(0.5*sigma)"
   ]
  },
  {
   "cell_type": "markdown",
   "id": "250c8e83",
   "metadata": {},
   "source": [
    "`encoder`"
   ]
  },
  {
   "cell_type": "code",
   "execution_count": 43,
   "id": "ee6dd9e1",
   "metadata": {},
   "outputs": [],
   "source": [
    "def encoder(inputs,latent_dim):\n",
    "    conv_1=tf.keras.layers.Conv2D(32,(3,3),activation='relu',padding='same')(inputs)\n",
    "    bnorm_1=tf.keras.layers.BatchNormalization()(conv_1)\n",
    "    conv_2=tf.keras.layers.Conv2D(64,(3,3),activation='relu',padding='same')(bnorm_1)\n",
    "    bnorm_2=tf.keras.layers.BatchNormalization()(conv_2)\n",
    "    \n",
    "    flat=tf.keras.layers.Flatten()(bnorm_2)\n",
    "    \n",
    "    dense=tf.keras.layers.Dense(20,activation='relu')(flat)\n",
    "    bnorm_3=tf.keras.layers.BatchNormalization()(dense)\n",
    "    \n",
    "    mu=tf.keras.layers.Dense(latent_dim)(bnorm_3)\n",
    "    sigma=tf.keras.layers.Dense(latent_dim)(bnorm_3)\n",
    "    \n",
    "    return mu,sigma,bnorm_2.shape"
   ]
  },
  {
   "cell_type": "code",
   "execution_count": 44,
   "id": "abb302c3",
   "metadata": {},
   "outputs": [],
   "source": [
    "def encoder_model(latent_dim,input_shape):\n",
    "    inputs=tf.keras.layers.Input(shape=(input_shape))\n",
    "    mu,sigma,conv_shape=encoder(inputs,latent_dim)\n",
    "    z=Sampling()((mu,sigma))\n",
    "    model=tf.keras.models.Model(inputs,outputs=[mu,sigma,z])\n",
    "    return model,conv_shape"
   ]
  },
  {
   "cell_type": "markdown",
   "id": "9a7f7a3e",
   "metadata": {},
   "source": [
    "encoder model ouputs z for decoder, but also mmu and sigma. They are needed for the `kl_loss function` and back propagation."
   ]
  },
  {
   "cell_type": "markdown",
   "id": "a0ea5ff0",
   "metadata": {},
   "source": [
    "`decoder`"
   ]
  },
  {
   "cell_type": "code",
   "execution_count": 45,
   "id": "7bf979f1",
   "metadata": {},
   "outputs": [],
   "source": [
    "def decoder(inputs,conv_shape):\n",
    "    units=conv_shape[1]*conv_shape[2]*conv_shape[3]\n",
    "    x=tf.keras.layers.Dense(units,activation='relu')(inputs)\n",
    "    x=tf.keras.layers.BatchNormalization()(x)\n",
    "    x=tf.keras.layers.Reshape((conv_shape[1],conv_shape[2],conv_shape[3]))(x)\n",
    "    x=tf.keras.layers.Conv2DTranspose(64,(3,3),padding='same',activation='relu')(x)\n",
    "    x=tf.keras.layers.BatchNormalization()(x)\n",
    "    x=tf.keras.layers.Conv2DTranspose(32,(3,3),padding='same',activation='relu')(x)\n",
    "    x=tf.keras.layers.BatchNormalization()(x)\n",
    "    x=tf.keras.layers.Conv2DTranspose(1,(3,3),strides=1,padding='same',activation='sigmoid')(x)\n",
    "    \n",
    "    return x"
   ]
  },
  {
   "cell_type": "code",
   "execution_count": 46,
   "id": "1d557c6b",
   "metadata": {},
   "outputs": [],
   "source": [
    "def decoder_model(latent_dim,conv_shape):\n",
    "    inputs=tf.keras.layers.Input(shape=(latent_dim,))\n",
    "    outputs=decoder(inputs,conv_shape)\n",
    "    model=tf.keras.models.Model(inputs,outputs)\n",
    "    return model"
   ]
  },
  {
   "cell_type": "markdown",
   "id": "77d26b17",
   "metadata": {},
   "source": [
    "`loss`"
   ]
  },
  {
   "cell_type": "code",
   "execution_count": 47,
   "id": "eb40308e",
   "metadata": {},
   "outputs": [],
   "source": [
    "def kl_reconstruction_loss(mu,sigma):\n",
    "    kl_loss=1+sigma-tf.square(mu)-tf.math.exp(sigma)\n",
    "    return -0.5*tf.reduce_mean(kl_loss)"
   ]
  },
  {
   "cell_type": "markdown",
   "id": "74d64267",
   "metadata": {},
   "source": [
    "`model`"
   ]
  },
  {
   "cell_type": "code",
   "execution_count": 48,
   "id": "4f1bc360",
   "metadata": {},
   "outputs": [],
   "source": [
    "def model(encoder,decoder,input_shape):\n",
    "    inputs=tf.keras.layers.Input(shape=(input_shape))\n",
    "    z, mu, sigma = encoder(inputs)\n",
    "    outputs=decoder(z)\n",
    "    model=tf.keras.models.Model(inputs=inputs,outputs=outputs)\n",
    "    loss=kl_reconstruction_loss(mu,sigma)\n",
    "    model.add_loss(loss)\n",
    "    return model"
   ]
  },
  {
   "cell_type": "markdown",
   "id": "d963b41a",
   "metadata": {},
   "source": [
    "#### Training"
   ]
  },
  {
   "cell_type": "code",
   "execution_count": 49,
   "id": "cf2a4ebf",
   "metadata": {},
   "outputs": [],
   "source": [
    "encoder, conv_shape = encoder_model(latent_dim=LATENT_DIM, input_shape=(28,28,1,))\n",
    "decoder = decoder_model(latent_dim=LATENT_DIM, conv_shape=conv_shape)\n",
    "vae = model(encoder, decoder, input_shape=(28,28,1,))"
   ]
  },
  {
   "cell_type": "code",
   "execution_count": 50,
   "id": "9e9c1224",
   "metadata": {},
   "outputs": [],
   "source": [
    "optimizer=tf.keras.optimizers.Adam()\n",
    "loss_metric=tf.keras.metrics.Mean()\n",
    "bce_loss=tf.keras.losses.BinaryCrossentropy()"
   ]
  },
  {
   "cell_type": "code",
   "execution_count": 51,
   "id": "4825186a",
   "metadata": {},
   "outputs": [],
   "source": [
    "random_vector_for_generation=tf.random.normal(shape=[16, LATENT_DIM])\n",
    "epochs=100"
   ]
  },
  {
   "cell_type": "code",
   "execution_count": null,
   "id": "b83f18d8",
   "metadata": {},
   "outputs": [],
   "source": [
    "for epoch in range(epochs):\n",
    "    for step, x_batch_train in enmumerate(train_dataset):\n",
    "        with tf.GradientTape() as tape:\n",
    "            reconstructed=vae(x_batch_train)\n",
    "            flatted_inputs=tf.reshape(x_batch_train,shape=[-1])\n",
    "            flatted_outputs=tf.reshape(reconstructed,shape=[-1])\n",
    "            loss=bce_loss(flatted_inputs,flatted_outputs)*784\n",
    "            loss+=sum(vae.losses)\n",
    "        grads=tape.gradient(loss,vae.trainable_weights)\n",
    "        optimizer.apply_gradients(zip(grads,vae.trainable_weights))\n",
    "        loss_metric(loss)"
   ]
  }
 ],
 "metadata": {
  "kernelspec": {
   "display_name": "Python 3 (ipykernel)",
   "language": "python",
   "name": "python3"
  },
  "language_info": {
   "codemirror_mode": {
    "name": "ipython",
    "version": 3
   },
   "file_extension": ".py",
   "mimetype": "text/x-python",
   "name": "python",
   "nbconvert_exporter": "python",
   "pygments_lexer": "ipython3",
   "version": "3.8.12"
  }
 },
 "nbformat": 4,
 "nbformat_minor": 5
}
