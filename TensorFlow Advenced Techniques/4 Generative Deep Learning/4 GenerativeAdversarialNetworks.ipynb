{
 "cells": [
  {
   "cell_type": "markdown",
   "id": "a1f64c02",
   "metadata": {},
   "source": [
    "\n",
    "# Generative Adversarial Networks"
   ]
  },
  {
   "cell_type": "markdown",
   "id": "a39eba21",
   "metadata": {},
   "source": [
    "`Generative Adversarial Networks` consist od 2 neural networks. `Generator` creates images from noise and gets feedback from `Discriminator` which aim is to determine whether given picture is generated or real. Then the feeback goes to the Generator and it gets retrained in a loop so that both Generator and Discriminator get better and better. \n",
    "\n",
    "When updating the Generator, the `Discriminator weights are frozen` as while updating we `label all imagages as real`. In this way those classified by discriminator as false will have impact on generator while retraining it. We will update weights of generator in a way that its output fits the discriminator in such way that it classifies it as real and then we get min loss in the end (all images labeled as real in this step)\n",
    "![alt text](GAN.png \"Title\")"
   ]
  },
  {
   "cell_type": "code",
   "execution_count": 3,
   "id": "fc3b65a3",
   "metadata": {},
   "outputs": [],
   "source": [
    "import tensorflow as tf\n",
    "import tensorflow_datasets as tfds\n",
    "import matplotlib.pyplot as plt\n",
    "import numpy as np"
   ]
  },
  {
   "cell_type": "markdown",
   "id": "2d8d4995",
   "metadata": {},
   "source": [
    "#### Data"
   ]
  },
  {
   "cell_type": "code",
   "execution_count": 4,
   "id": "d8671f0f",
   "metadata": {},
   "outputs": [],
   "source": [
    "(X_train, _), _ = tf.keras.datasets.mnist.load_data()\n",
    "X_train = X_train.astype(np.float32) / 255"
   ]
  },
  {
   "cell_type": "code",
   "execution_count": 5,
   "id": "b7e0bbb2",
   "metadata": {},
   "outputs": [],
   "source": [
    "BATCH_SIZE = 128\n",
    "dataset = tf.data.Dataset.from_tensor_slices(X_train).shuffle(1000)\n",
    "dataset = dataset.batch(BATCH_SIZE, drop_remainder=True).prefetch(1)"
   ]
  },
  {
   "cell_type": "markdown",
   "id": "8dcbd30f",
   "metadata": {},
   "source": [
    "#### Model"
   ]
  },
  {
   "cell_type": "code",
   "execution_count": 6,
   "id": "66d0f201",
   "metadata": {},
   "outputs": [],
   "source": [
    "random_normal_dimensions=32"
   ]
  },
  {
   "cell_type": "markdown",
   "id": "d4183a9d",
   "metadata": {},
   "source": [
    "`generator`"
   ]
  },
  {
   "cell_type": "code",
   "execution_count": 7,
   "id": "db980635",
   "metadata": {},
   "outputs": [],
   "source": [
    "generator=tf.keras.models.Sequential([\n",
    "    tf.keras.layers.Dense(64,activation='selu',input_shape=[random_normal_dimensions]),\n",
    "    tf.keras.layers.Dense(128,activation='selu'),\n",
    "    tf.keras.layers.Dense(28*28,activation='sigmoid'),\n",
    "    tf.keras.layers.Reshape([28,28])\n",
    "])"
   ]
  },
  {
   "cell_type": "code",
   "execution_count": 8,
   "id": "bfe01f4f",
   "metadata": {},
   "outputs": [],
   "source": [
    "test_noise = tf.random.normal([16, random_normal_dimensions])\n",
    "test_image = generator(test_noise)"
   ]
  },
  {
   "cell_type": "code",
   "execution_count": 9,
   "id": "0b95a48e",
   "metadata": {},
   "outputs": [
    {
     "data": {
      "text/plain": [
       "<matplotlib.image.AxesImage at 0x2b61b01b550>"
      ]
     },
     "execution_count": 9,
     "metadata": {},
     "output_type": "execute_result"
    },
    {
     "data": {
      "image/png": "[encoded data removed]",
      "text/plain": [
       "<Figure size 432x288 with 1 Axes>"
      ]
     },
     "metadata": {
      "needs_background": "light"
     },
     "output_type": "display_data"
    }
   ],
   "source": [
    "plt.imshow(test_image[0])"
   ]
  },
  {
   "cell_type": "markdown",
   "id": "70b95fd1",
   "metadata": {},
   "source": [
    "`discriminator`"
   ]
  },
  {
   "cell_type": "code",
   "execution_count": 10,
   "id": "9628b866",
   "metadata": {},
   "outputs": [],
   "source": [
    "discriminator=tf.keras.models.Sequential([\n",
    "    tf.keras.layers.Flatten(input_shape=[28,28]),\n",
    "    tf.keras.layers.Dense(128,activation='selu'),\n",
    "    tf.keras.layers.Dense(64,activation='selu'),\n",
    "    tf.keras.layers.Dense(1,activation='sigmoid')\n",
    "])"
   ]
  },
  {
   "cell_type": "markdown",
   "id": "4019a247",
   "metadata": {},
   "source": [
    "`GAN`"
   ]
  },
  {
   "cell_type": "code",
   "execution_count": 11,
   "id": "664c0b2e",
   "metadata": {},
   "outputs": [],
   "source": [
    "discriminator.compile(optimizer=tf.keras.optimizers.RMSprop(),loss=tf.keras.losses.binary_crossentropy)\n",
    "discriminator.trainable=False\n",
    "gan=tf.keras.models.Sequential([generator,discriminator])\n",
    "gan.compile(optimizer=tf.keras.optimizers.RMSprop(),loss=tf.keras.losses.binary_crossentropy)"
   ]
  },
  {
   "cell_type": "markdown",
   "id": "b3227662",
   "metadata": {},
   "source": [
    "#### Training"
   ]
  },
  {
   "cell_type": "markdown",
   "id": "abdec379",
   "metadata": {},
   "source": [
    "Standard Neural Networks with GAN's have the tendency to skew to the more `simple digits` to trick the discriminator. After more trining epochs generator focuses on producing 1's and 7's more simple digits."
   ]
  },
  {
   "cell_type": "code",
   "execution_count": null,
   "id": "ac14be22",
   "metadata": {},
   "outputs": [],
   "source": [
    "def train_gan(gan, dataset, random_normal_dimensions, n_epochs=50):\n",
    "    generator, discriminator = gan.layers\n",
    "    for epoch in range(n_epochs):\n",
    "        print(\"Epoch {}/{}\".format(epoch + 1, n_epochs))       \n",
    "        for real_images in dataset:\n",
    "            batch_size = real_images.shape[0]\n",
    "            \n",
    "            noise = tf.random.normal(shape=[batch_size, random_normal_dimensions])\n",
    "            fake_images = generator(noise)\n",
    "            mixed_images = tf.concat([fake_images, real_images], axis=0)\n",
    "            discriminator_labels = tf.constant([[0.]] * batch_size + [[1.]] * batch_size)\n",
    "            discriminator.trainable = True\n",
    "            discriminator.train_on_batch(mixed_images, discriminator_labels)\n",
    "            \n",
    "            noise = tf.random.normal(shape=[batch_size, random_normal_dimensions])\n",
    "            generator_labels = tf.constant([[1.]] * batch_size)\n",
    "            discriminator.trainable = False\n",
    "            gan.train_on_batch(noise, generator_labels)"
   ]
  },
  {
   "cell_type": "code",
   "execution_count": null,
   "id": "25c04f30",
   "metadata": {},
   "outputs": [],
   "source": [
    "train_gan(gan, dataset, random_normal_dimensions, n_epochs=20)"
   ]
  },
  {
   "cell_type": "markdown",
   "id": "71b9adc4",
   "metadata": {},
   "source": [
    "---"
   ]
  },
  {
   "cell_type": "markdown",
   "id": "ddc8043e",
   "metadata": {},
   "source": [
    "## DCGAN"
   ]
  },
  {
   "cell_type": "code",
   "execution_count": 1,
   "id": "d3dfe5c4",
   "metadata": {},
   "outputs": [
    {
     "name": "stderr",
     "output_type": "stream",
     "text": [
      "C:\\Users\\pk764\\miniconda3\\envs\\data\\lib\\site-packages\\tqdm\\auto.py:21: TqdmWarning: IProgress not found. Please update jupyter and ipywidgets. See https://ipywidgets.readthedocs.io/en/stable/user_install.html\n",
      "  from .autonotebook import tqdm as notebook_tqdm\n"
     ]
    }
   ],
   "source": [
    "import tensorflow as tf\n",
    "import tensorflow_datasets as tfds\n",
    "import matplotlib.pyplot as plt\n",
    "import numpy as np"
   ]
  },
  {
   "cell_type": "markdown",
   "id": "d5194e38",
   "metadata": {},
   "source": [
    "#### Data"
   ]
  },
  {
   "cell_type": "code",
   "execution_count": 3,
   "id": "75aa7a1a",
   "metadata": {},
   "outputs": [],
   "source": [
    "(X_train, _), _ = tf.keras.datasets.fashion_mnist.load_data()\n",
    "X_train = X_train.astype(np.float32) / 255\n",
    "X_train = X_train.reshape(-1, 28, 28, 1) * 2. - 1.\n",
    "\n",
    "BATCH_SIZE = 128\n",
    "dataset = tf.data.Dataset.from_tensor_slices(X_train)\n",
    "dataset = dataset.shuffle(1000)\n",
    "dataset = dataset.batch(BATCH_SIZE, drop_remainder=True).prefetch(1)"
   ]
  },
  {
   "cell_type": "markdown",
   "id": "5c6b478f",
   "metadata": {},
   "source": [
    "#### Model"
   ]
  },
  {
   "cell_type": "code",
   "execution_count": 4,
   "id": "66a0308e",
   "metadata": {},
   "outputs": [],
   "source": [
    "random_normal_dimensions=32"
   ]
  },
  {
   "cell_type": "markdown",
   "id": "84357efa",
   "metadata": {},
   "source": [
    "`generator`"
   ]
  },
  {
   "cell_type": "code",
   "execution_count": 10,
   "id": "55be773b",
   "metadata": {},
   "outputs": [
    {
     "name": "stdout",
     "output_type": "stream",
     "text": [
      "Model: \"sequential_3\"\n",
      "_________________________________________________________________\n",
      " Layer (type)                Output Shape              Param #   \n",
      "=================================================================\n",
      " dense_3 (Dense)             (None, 6272)              206976    \n",
      "                                                                 \n",
      " reshape_1 (Reshape)         (None, 7, 7, 128)         0         \n",
      "                                                                 \n",
      " batch_normalization_2 (Batc  (None, 7, 7, 128)        512       \n",
      " hNormalization)                                                 \n",
      "                                                                 \n",
      " conv2d_transpose_2 (Conv2DT  (None, 14, 14, 64)       204864    \n",
      " ranspose)                                                       \n",
      "                                                                 \n",
      " batch_normalization_3 (Batc  (None, 14, 14, 64)       256       \n",
      " hNormalization)                                                 \n",
      "                                                                 \n",
      " conv2d_transpose_3 (Conv2DT  (None, 28, 28, 1)        1601      \n",
      " ranspose)                                                       \n",
      "                                                                 \n",
      "=================================================================\n",
      "Total params: 414,209\n",
      "Trainable params: 413,825\n",
      "Non-trainable params: 384\n",
      "_________________________________________________________________\n"
     ]
    }
   ],
   "source": [
    "generator=tf.keras.models.Sequential([\n",
    "    tf.keras.layers.Dense(7*7*128,input_shape=[random_normal_dimensions]),\n",
    "    tf.keras.layers.Reshape([7,7,128]),\n",
    "    tf.keras.layers.BatchNormalization(),\n",
    "    tf.keras.layers.Conv2DTranspose(64,(5,5),strides=2,padding='same',activation='selu'),\n",
    "    tf.keras.layers.BatchNormalization(),\n",
    "    tf.keras.layers.Conv2DTranspose(1,(5,5),strides=2,padding='same',activation='tanh'),\n",
    "])\n",
    "generator.summary()"
   ]
  },
  {
   "cell_type": "code",
   "execution_count": 6,
   "id": "f88a168b",
   "metadata": {},
   "outputs": [],
   "source": [
    "test_noise = tf.random.normal([16, random_normal_dimensions])\n",
    "test_image = generator(test_noise)"
   ]
  },
  {
   "cell_type": "code",
   "execution_count": 7,
   "id": "77dd10fe",
   "metadata": {},
   "outputs": [
    {
     "data": {
      "text/plain": [
       "<matplotlib.image.AxesImage at 0x1600044b520>"
      ]
     },
     "execution_count": 7,
     "metadata": {},
     "output_type": "execute_result"
    },
    {
     "data": {
      "image/png": "[encoded data removed]",
      "text/plain": [
       "<Figure size 432x288 with 1 Axes>"
      ]
     },
     "metadata": {
      "needs_background": "light"
     },
     "output_type": "display_data"
    }
   ],
   "source": [
    "plt.imshow(test_image[0])"
   ]
  },
  {
   "cell_type": "markdown",
   "id": "1442738c",
   "metadata": {},
   "source": [
    "`discriminator`"
   ]
  },
  {
   "cell_type": "code",
   "execution_count": 9,
   "id": "3d991cd6",
   "metadata": {},
   "outputs": [
    {
     "name": "stdout",
     "output_type": "stream",
     "text": [
      "Model: \"sequential_2\"\n",
      "_________________________________________________________________\n",
      " Layer (type)                Output Shape              Param #   \n",
      "=================================================================\n",
      " conv2d_2 (Conv2D)           (None, 14, 14, 64)        1664      \n",
      "                                                                 \n",
      " dropout_2 (Dropout)         (None, 14, 14, 64)        0         \n",
      "                                                                 \n",
      " conv2d_3 (Conv2D)           (None, 7, 7, 128)         204928    \n",
      "                                                                 \n",
      " dropout_3 (Dropout)         (None, 7, 7, 128)         0         \n",
      "                                                                 \n",
      " flatten_1 (Flatten)         (None, 6272)              0         \n",
      "                                                                 \n",
      " dense_2 (Dense)             (None, 1)                 6273      \n",
      "                                                                 \n",
      "=================================================================\n",
      "Total params: 212,865\n",
      "Trainable params: 212,865\n",
      "Non-trainable params: 0\n",
      "_________________________________________________________________\n"
     ]
    }
   ],
   "source": [
    "discriminator=tf.keras.models.Sequential([\n",
    "    tf.keras.layers.Conv2D(64,(5,5),strides=2,activation=tf.keras.layers.LeakyReLU(0.2),padding='same',input_shape=[28, 28, 1]),\n",
    "    tf.keras.layers.Dropout(0,4),\n",
    "    tf.keras.layers.Conv2D(128,(5,5),strides=2,activation=tf.keras.layers.LeakyReLU(0.2),padding='same'),\n",
    "    tf.keras.layers.Dropout(0,4),\n",
    "    tf.keras.layers.Flatten(),\n",
    "    tf.keras.layers.Dense(1,activation='sigmoid')\n",
    "])\n",
    "discriminator.summary()"
   ]
  },
  {
   "cell_type": "markdown",
   "id": "e4bfad3d",
   "metadata": {},
   "source": [
    "`CNN GAN`"
   ]
  },
  {
   "cell_type": "code",
   "execution_count": 11,
   "id": "3981a640",
   "metadata": {},
   "outputs": [],
   "source": [
    "discriminator.compile(optimizer=tf.keras.optimizers.RMSprop(),loss=tf.keras.losses.binary_crossentropy)\n",
    "discriminator.trainable=False\n",
    "\n",
    "gan=tf.keras.models.Sequential([generator,discriminator])\n",
    "gan.compile(optimizer=tf.keras.optimizers.RMSprop(),loss=tf.keras.losses.binary_crossentropy)"
   ]
  },
  {
   "cell_type": "markdown",
   "id": "f24e05e3",
   "metadata": {},
   "source": [
    "#### Training"
   ]
  },
  {
   "cell_type": "code",
   "execution_count": 12,
   "id": "47cef606",
   "metadata": {},
   "outputs": [],
   "source": [
    "def train_gan(gan, dataset, random_normal_dimensions, n_epochs=50):\n",
    "    generator, discriminator = gan.layers\n",
    "    for epoch in range(n_epochs):\n",
    "        print(\"Epoch {}/{}\".format(epoch + 1, n_epochs))       \n",
    "        for real_images in dataset:\n",
    "            batch_size = real_images.shape[0]\n",
    "            \n",
    "            noise = tf.random.normal(shape=[batch_size, random_normal_dimensions])\n",
    "            fake_images = generator(noise)\n",
    "            mixed_images = tf.concat([fake_images, real_images], axis=0)\n",
    "            discriminator_labels = tf.constant([[0.]] * batch_size + [[1.]] * batch_size)\n",
    "            discriminator.trainable = True\n",
    "            discriminator.train_on_batch(mixed_images, discriminator_labels)\n",
    "            \n",
    "            noise = tf.random.normal(shape=[batch_size, random_normal_dimensions])\n",
    "            generator_labels = tf.constant([[1.]] * batch_size)\n",
    "            discriminator.trainable = False\n",
    "            gan.train_on_batch(noise, generator_labels)"
   ]
  },
  {
   "cell_type": "code",
   "execution_count": null,
   "id": "ae49e2d7",
   "metadata": {},
   "outputs": [],
   "source": [
    "train_gan(gan, dataset, random_normal_dimensions, n_epochs=20)"
   ]
  },
  {
   "cell_type": "markdown",
   "id": "14340314",
   "metadata": {},
   "source": [
    "---"
   ]
  },
  {
   "cell_type": "markdown",
   "id": "60750044",
   "metadata": {},
   "source": [
    "## Face GAN"
   ]
  },
  {
   "cell_type": "markdown",
   "id": "b0febb1c",
   "metadata": {},
   "source": [
    "#### Model"
   ]
  },
  {
   "cell_type": "markdown",
   "id": "ff09b336",
   "metadata": {},
   "source": [
    "`generator`"
   ]
  },
  {
   "cell_type": "code",
   "execution_count": 21,
   "id": "1c0d20a3",
   "metadata": {},
   "outputs": [],
   "source": [
    "input_shape=(1,1,128)"
   ]
  },
  {
   "cell_type": "code",
   "execution_count": 19,
   "id": "24797405",
   "metadata": {},
   "outputs": [],
   "source": [
    "inputs=x=tf.keras.layers.Input(shape=input_shape)\n",
    "x=tf.keras.layers.Conv2DTranspose(512,(4,4),strides=1,padding='valid',use_bias=False)(x)\n",
    "x=tf.keras.layers.BatchNormalization()(x)\n",
    "x=tf.keras.layers.ReLU()(x)\n",
    "\n",
    "x=tf.keras.layers.Conv2DTranspose(256,(4,4),strides=1,padding='same',use_bias=False)(x)\n",
    "x=tf.keras.layers.BatchNormalization()(x)\n",
    "x=tf.keras.layers.ReLU()(x)\n",
    "\n",
    "x=tf.keras.layers.Conv2DTranspose(128,(4,4),strides=1,padding='same',use_bias=False)(x)\n",
    "x=tf.keras.layers.BatchNormalization()(x)\n",
    "x=tf.keras.layers.ReLU()(x)\n",
    "\n",
    "x=tf.keras.layers.Conv2DTranspose(64,(4,4),strides=1,padding='same',use_bias=False)(x)\n",
    "x=tf.keras.layers.BatchNormalization()(x)\n",
    "x=tf.keras.layers.ReLU()(x)\n",
    "\n",
    "x=tf.keras.layers.Conv2DTranspose(3,(4,4),strides=1,padding='same')(x)\n",
    "outputs=tf.keras.layers.Activation('tanh')(x)"
   ]
  },
  {
   "cell_type": "markdown",
   "id": "d5ae411b",
   "metadata": {},
   "source": [
    "`discriminator`"
   ]
  },
  {
   "cell_type": "code",
   "execution_count": 20,
   "id": "1e72b8bc",
   "metadata": {},
   "outputs": [],
   "source": [
    "inputs=x=tf.keras.layers.Input(shape=input_shape)\n",
    "x=tf.keras.layers.Conv2D(64,(4,4),strides=2,padding='same')(x)\n",
    "x=tf.keras.layers.LeakyReLU(0.2)(x)\n",
    "\n",
    "x=tf.keras.layers.Conv2D(128,(4,4),strides=2,padding='same',use_bias=False)(x)\n",
    "x=tf.keras.layers.BatchNormalization()(x)\n",
    "x=tf.keras.layers.LeakyReLU(0.2)(x)\n",
    "\n",
    "x=tf.keras.layers.Conv2D(256,(4,4),strides=2,padding='same',use_bias=False)(x)\n",
    "x=tf.keras.layers.BatchNormalization()(x)\n",
    "x=tf.keras.layers.LeakyReLU(0.2)(x)\n",
    "\n",
    "x=tf.keras.layers.Conv2D(512,(4,4),strides=2,padding='same',use_bias=False)(x)\n",
    "x=tf.keras.layers.BatchNormalization()(x)\n",
    "x=tf.keras.layers.LeakyReLU(0.2)(x)\n",
    "\n",
    "outputs=tf.keras.layers.Conv2D(1,(4,4),padding='valid')(x)"
   ]
  },
  {
   "cell_type": "code",
   "execution_count": null,
   "id": "f75058fc",
   "metadata": {},
   "outputs": [],
   "source": []
  }
 ],
 "metadata": {
  "kernelspec": {
   "display_name": "Python 3 (ipykernel)",
   "language": "python",
   "name": "python3"
  },
  "language_info": {
   "codemirror_mode": {
    "name": "ipython",
    "version": 3
   },
   "file_extension": ".py",
   "mimetype": "text/x-python",
   "name": "python",
   "nbconvert_exporter": "python",
   "pygments_lexer": "ipython3",
   "version": "3.8.12"
  }
 },
 "nbformat": 4,
 "nbformat_minor": 5
}
