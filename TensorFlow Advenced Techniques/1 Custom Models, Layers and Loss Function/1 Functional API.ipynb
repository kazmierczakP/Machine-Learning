{
 "cells": [
  {
   "cell_type": "markdown",
   "id": "7c75fcaa-04c7-4125-96d2-989c75d33f61",
   "metadata": {},
   "source": [
    "# Functional API"
   ]
  },
  {
   "cell_type": "code",
   "execution_count": 1,
   "id": "aacbb0f4-5667-489e-90da-81f93e8d62d9",
   "metadata": {},
   "outputs": [],
   "source": [
    "import tensorflow as tf"
   ]
  },
  {
   "cell_type": "markdown",
   "id": "fac04e4a-01e9-44fc-9ea0-2ad102a8cf96",
   "metadata": {},
   "source": [
    "### Sequential"
   ]
  },
  {
   "cell_type": "code",
   "execution_count": 2,
   "id": "32814eb3-43a8-477e-a4f0-28bb67c44897",
   "metadata": {},
   "outputs": [],
   "source": [
    "model=tf.keras.models.Sequential([\n",
    "    tf.keras.layers.Flatten(input_shape=(28,28,1)),\n",
    "    tf.keras.layers.Dense(64,activation='relu'),\n",
    "    tf.keras.layers.Dense(10,activation='softmax')\n",
    "])"
   ]
  },
  {
   "cell_type": "markdown",
   "id": "d4515457-a5fe-4883-8ae6-4293ed5bb210",
   "metadata": {},
   "source": [
    "### Functional"
   ]
  },
  {
   "cell_type": "code",
   "execution_count": 3,
   "id": "3a2bef0c-c53d-4d44-a5e3-e271baa3e834",
   "metadata": {},
   "outputs": [],
   "source": [
    "input=tf.keras.layers.Input(shape=(28,28,1))\n",
    "x=tf.keras.layers.Flatten()(input)\n",
    "x=tf.keras.layers.Dense(64,activation='relu')(x)\n",
    "output=tf.keras.layers.Dense(10,activation='softmax')(x)"
   ]
  },
  {
   "cell_type": "code",
   "execution_count": 4,
   "id": "5dd2996f-85bd-4ea6-bd64-1fc7d0504846",
   "metadata": {},
   "outputs": [],
   "source": [
    "model=tf.keras.models.Model(inputs=input,outputs=output)"
   ]
  },
  {
   "cell_type": "markdown",
   "id": "5b441f8e-8010-4a17-900d-b5d76049ae34",
   "metadata": {},
   "source": [
    "#### train & test"
   ]
  },
  {
   "cell_type": "code",
   "execution_count": 6,
   "id": "794c945a-0b1b-467f-a903-3441528b17cb",
   "metadata": {},
   "outputs": [
    {
     "name": "stdout",
     "output_type": "stream",
     "text": [
      "Downloading data from https://storage.googleapis.com/tensorflow/tf-keras-datasets/train-labels-idx1-ubyte.gz\n",
      "32768/29515 [=================================] - 0s 2us/step\n",
      "40960/29515 [=========================================] - 0s 2us/step\n",
      "Downloading data from https://storage.googleapis.com/tensorflow/tf-keras-datasets/train-images-idx3-ubyte.gz\n",
      "26427392/26421880 [==============================] - 7s 0us/step\n",
      "26435584/26421880 [==============================] - 7s 0us/step\n",
      "Downloading data from https://storage.googleapis.com/tensorflow/tf-keras-datasets/t10k-labels-idx1-ubyte.gz\n",
      "16384/5148 [===============================================================================================] - 0s 0s/step\n",
      "Downloading data from https://storage.googleapis.com/tensorflow/tf-keras-datasets/t10k-images-idx3-ubyte.gz\n",
      "4423680/4422102 [==============================] - 1s 0us/step\n",
      "4431872/4422102 [==============================] - 1s 0us/step\n"
     ]
    }
   ],
   "source": [
    "mnist = tf.keras.datasets.fashion_mnist\n",
    "(training_images, training_labels), (test_images, test_labels) = mnist.load_data()\n",
    "training_images = training_images / 255.0\n",
    "test_images = test_images / 255.0"
   ]
  },
  {
   "cell_type": "code",
   "execution_count": 8,
   "id": "6f40338f-36eb-4d27-a064-01472558dfe1",
   "metadata": {},
   "outputs": [
    {
     "name": "stdout",
     "output_type": "stream",
     "text": [
      "Epoch 1/5\n",
      "1875/1875 [==============================] - 6s 3ms/step - loss: 0.5165 - accuracy: 0.8196\n",
      "Epoch 2/5\n",
      "1875/1875 [==============================] - 4s 2ms/step - loss: 0.3934 - accuracy: 0.8605\n",
      "Epoch 3/5\n",
      "1875/1875 [==============================] - 4s 2ms/step - loss: 0.3589 - accuracy: 0.8716\n",
      "Epoch 4/5\n",
      "1875/1875 [==============================] - 4s 2ms/step - loss: 0.3322 - accuracy: 0.8790\n",
      "Epoch 5/5\n",
      "1875/1875 [==============================] - 4s 2ms/step - loss: 0.3164 - accuracy: 0.8836\n",
      "313/313 [==============================] - 1s 2ms/step - loss: 0.3744 - accuracy: 0.8692\n"
     ]
    },
    {
     "data": {
      "text/plain": [
       "[0.37444353103637695, 0.8691999912261963]"
      ]
     },
     "execution_count": 8,
     "metadata": {},
     "output_type": "execute_result"
    }
   ],
   "source": [
    "model.compile(optimizer=tf.keras.optimizers.Adam(),loss='sparse_categorical_crossentropy',metrics=['accuracy'])\n",
    "model.fit(training_images, training_labels, epochs=5)\n",
    "model.evaluate(test_images, test_labels)"
   ]
  },
  {
   "cell_type": "markdown",
   "id": "9307ef9e-024e-4813-9b52-7f399f13324c",
   "metadata": {},
   "source": [
    "---"
   ]
  },
  {
   "cell_type": "markdown",
   "id": "fab2ee96-58ee-44bc-92a8-39307039cb85",
   "metadata": {},
   "source": [
    "### Multi-output Model"
   ]
  },
  {
   "cell_type": "code",
   "execution_count": 12,
   "id": "ddf17eca-2b8e-4604-b682-2c69412e91a9",
   "metadata": {},
   "outputs": [],
   "source": [
    "from ucimlrepo import fetch_ucirepo \n",
    "from sklearn.model_selection import train_test_split\n",
    "from tensorflow.python.keras.utils.vis_utils import plot_model\n",
    "import tensorflow as tf\n",
    "import pandas as pd\n",
    "import numpy as np\n",
    "import matplotlib.pyplot as plt"
   ]
  },
  {
   "cell_type": "code",
   "execution_count": 13,
   "id": "cede563e-5b1b-4073-a16e-41f14ee7be46",
   "metadata": {},
   "outputs": [],
   "source": [
    "energy_efficiency = fetch_ucirepo(id=242)\n",
    "data=energy_efficiency.data.original"
   ]
  },
  {
   "cell_type": "code",
   "execution_count": 14,
   "id": "6b99ab39-7a8a-4720-8d9e-245a35587f2a",
   "metadata": {},
   "outputs": [],
   "source": [
    "def norm(x,train_stats):\n",
    "    return (x-train_stats['mean'])/train_stats['std']"
   ]
  },
  {
   "cell_type": "code",
   "execution_count": 15,
   "id": "a79cd07c-0903-4c7c-b00a-2cb46cef732b",
   "metadata": {},
   "outputs": [],
   "source": [
    "train, test = train_test_split(data, test_size=0.2)\n",
    "train_stats = train.describe()"
   ]
  },
  {
   "cell_type": "code",
   "execution_count": 16,
   "id": "fba0f5f0-cca6-4d2b-93d6-e05a3b53551e",
   "metadata": {},
   "outputs": [],
   "source": [
    "train_stats.pop('Y1')\n",
    "train_stats.pop('Y2')\n",
    "train_stats = train_stats.transpose()\n",
    "train_Y = np.array(train.pop('Y1')),np.array(train.pop('Y2'))\n",
    "test_Y = np.array(test.pop('Y1')),np.array(test.pop('Y2'))\n",
    "\n",
    "norm_train_X = norm(train,train_stats)\n",
    "norm_test_X = norm(test,train_stats)"
   ]
  },
  {
   "cell_type": "markdown",
   "id": "9bbc5664-4ced-4431-9726-7c0e9aac4f51",
   "metadata": {},
   "source": [
    "#### model"
   ]
  },
  {
   "cell_type": "code",
   "execution_count": 17,
   "id": "3f7f618c-97b3-4747-8360-f48561333f45",
   "metadata": {},
   "outputs": [
    {
     "name": "stdout",
     "output_type": "stream",
     "text": [
      "Model: \"model_1\"\n",
      "__________________________________________________________________________________________________\n",
      " Layer (type)                   Output Shape         Param #     Connected to                     \n",
      "==================================================================================================\n",
      " input_2 (InputLayer)           [(None, 8)]          0           []                               \n",
      "                                                                                                  \n",
      " dense_3 (Dense)                (None, 128)          1152        ['input_2[0][0]']                \n",
      "                                                                                                  \n",
      " dense_4 (Dense)                (None, 128)          16512       ['dense_3[0][0]']                \n",
      "                                                                                                  \n",
      " dense_5 (Dense)                (None, 64)           8256        ['dense_4[0][0]']                \n",
      "                                                                                                  \n",
      " y1_output (Dense)              (None, 1)            129         ['dense_4[0][0]']                \n",
      "                                                                                                  \n",
      " y2_output (Dense)              (None, 1)            65          ['dense_5[0][0]']                \n",
      "                                                                                                  \n",
      "==================================================================================================\n",
      "Total params: 26,114\n",
      "Trainable params: 26,114\n",
      "Non-trainable params: 0\n",
      "__________________________________________________________________________________________________\n"
     ]
    }
   ],
   "source": [
    "input_layer=tf.keras.layers.Input(shape=(len(train.columns,)))\n",
    "first_dense=tf.keras.layers.Dense(128,activation='relu')(input_layer)\n",
    "second_dense=tf.keras.layers.Dense(128,activation='relu')(first_dense)\n",
    "third_dense=tf.keras.layers.Dense(64,activation='relu')(second_dense)\n",
    "\n",
    "output_y1=tf.keras.layers.Dense(1,activation='linear', name='y1_output')(second_dense)\n",
    "output_y2=tf.keras.layers.Dense(1,activation='linear', name='y2_output')(third_dense)\n",
    "\n",
    "model=tf.keras.models.Model(inputs=input_layer,outputs=[output_y1,output_y2])\n",
    "model.summary()"
   ]
  },
  {
   "cell_type": "code",
   "execution_count": 24,
   "id": "12eabbc8-0f98-48ca-bb07-28aa7e31cb91",
   "metadata": {},
   "outputs": [],
   "source": [
    "#plot_model(model, show_shapes=True)"
   ]
  },
  {
   "cell_type": "code",
   "execution_count": 25,
   "id": "5e7ab11f-2af8-42d5-afbc-7329440f3d6a",
   "metadata": {},
   "outputs": [],
   "source": [
    "optimizer = tf.keras.optimizers.SGD(learning_rate=0.001)\n",
    "model.compile(optimizer=optimizer,loss={'y1_output': 'mse', 'y2_output': 'mse'},metrics={'y1_output': tf.keras.metrics.RootMeanSquaredError(),'y2_output': tf.keras.metrics.RootMeanSquaredError()})"
   ]
  },
  {
   "cell_type": "markdown",
   "id": "dc140ce1-b6b7-4b95-8c15-51542d84b012",
   "metadata": {},
   "source": [
    "#### training"
   ]
  },
  {
   "cell_type": "code",
   "execution_count": null,
   "id": "f5b82a59-bce2-4565-934a-9fb8d9503c91",
   "metadata": {
    "scrolled": true
   },
   "outputs": [
    {
     "name": "stdout",
     "output_type": "stream",
     "text": [
      "Epoch 1/500\n",
      "62/62 [==============================] - 1s 4ms/step - loss: 237.1273 - y1_output_loss: 113.9081 - y2_output_loss: 123.2192 - y1_output_root_mean_squared_error: 10.6728 - y2_output_root_mean_squared_error: 11.1004 - val_loss: 81.6048 - val_y1_output_loss: 32.6734 - val_y2_output_loss: 48.9314 - val_y1_output_root_mean_squared_error: 5.7161 - val_y2_output_root_mean_squared_error: 6.9951\n",
      "Epoch 2/500\n",
      "62/62 [==============================] - 0s 1ms/step - loss: 33.6157 - y1_output_loss: 13.6682 - y2_output_loss: 19.9475 - y1_output_root_mean_squared_error: 3.6970 - y2_output_root_mean_squared_error: 4.4663 - val_loss: 25.6465 - val_y1_output_loss: 10.7474 - val_y2_output_loss: 14.8992 - val_y1_output_root_mean_squared_error: 3.2783 - val_y2_output_root_mean_squared_error: 3.8599\n",
      "Epoch 3/500\n",
      "62/62 [==============================] - 0s 1ms/step - loss: 24.9956 - y1_output_loss: 10.3268 - y2_output_loss: 14.6688 - y1_output_root_mean_squared_error: 3.2135 - y2_output_root_mean_squared_error: 3.8300 - val_loss: 30.6354 - val_y1_output_loss: 10.5453 - val_y2_output_loss: 20.0901 - val_y1_output_root_mean_squared_error: 3.2474 - val_y2_output_root_mean_squared_error: 4.4822\n",
      "Epoch 4/500\n",
      "62/62 [==============================] - 0s 2ms/step - loss: 21.4899 - y1_output_loss: 8.8682 - y2_output_loss: 12.6217 - y1_output_root_mean_squared_error: 2.9779 - y2_output_root_mean_squared_error: 3.5527 - val_loss: 23.8514 - val_y1_output_loss: 9.5173 - val_y2_output_loss: 14.3341 - val_y1_output_root_mean_squared_error: 3.0850 - val_y2_output_root_mean_squared_error: 3.7860\n",
      "Epoch 5/500\n",
      "62/62 [==============================] - 0s 2ms/step - loss: 22.2287 - y1_output_loss: 8.8880 - y2_output_loss: 13.3407 - y1_output_root_mean_squared_error: 2.9813 - y2_output_root_mean_squared_error: 3.6525 - val_loss: 40.3342 - val_y1_output_loss: 11.3748 - val_y2_output_loss: 28.9594 - val_y1_output_root_mean_squared_error: 3.3727 - val_y2_output_root_mean_squared_error: 5.3814\n",
      "Epoch 6/500\n",
      "62/62 [==============================] - 0s 1ms/step - loss: 22.6739 - y1_output_loss: 8.8218 - y2_output_loss: 13.8522 - y1_output_root_mean_squared_error: 2.9701 - y2_output_root_mean_squared_error: 3.7218 - val_loss: 21.1964 - val_y1_output_loss: 9.3205 - val_y2_output_loss: 11.8759 - val_y1_output_root_mean_squared_error: 3.0529 - val_y2_output_root_mean_squared_error: 3.4461\n",
      "Epoch 7/500\n",
      "62/62 [==============================] - 0s 1ms/step - loss: 20.2236 - y1_output_loss: 8.0082 - y2_output_loss: 12.2153 - y1_output_root_mean_squared_error: 2.8299 - y2_output_root_mean_squared_error: 3.4950 - val_loss: 25.7535 - val_y1_output_loss: 9.0016 - val_y2_output_loss: 16.7518 - val_y1_output_root_mean_squared_error: 3.0003 - val_y2_output_root_mean_squared_error: 4.0929\n",
      "Epoch 8/500\n",
      "62/62 [==============================] - 0s 1ms/step - loss: 21.1643 - y1_output_loss: 8.3865 - y2_output_loss: 12.7778 - y1_output_root_mean_squared_error: 2.8959 - y2_output_root_mean_squared_error: 3.5746 - val_loss: 23.0828 - val_y1_output_loss: 10.6941 - val_y2_output_loss: 12.3887 - val_y1_output_root_mean_squared_error: 3.2702 - val_y2_output_root_mean_squared_error: 3.5198\n",
      "Epoch 9/500\n",
      "62/62 [==============================] - 0s 1ms/step - loss: 19.9046 - y1_output_loss: 8.0354 - y2_output_loss: 11.8691 - y1_output_root_mean_squared_error: 2.8347 - y2_output_root_mean_squared_error: 3.4452 - val_loss: 20.8159 - val_y1_output_loss: 9.0194 - val_y2_output_loss: 11.7965 - val_y1_output_root_mean_squared_error: 3.0032 - val_y2_output_root_mean_squared_error: 3.4346\n",
      "Epoch 10/500\n",
      "62/62 [==============================] - 0s 1ms/step - loss: 20.8215 - y1_output_loss: 7.5000 - y2_output_loss: 13.3215 - y1_output_root_mean_squared_error: 2.7386 - y2_output_root_mean_squared_error: 3.6499 - val_loss: 35.8579 - val_y1_output_loss: 11.0201 - val_y2_output_loss: 24.8378 - val_y1_output_root_mean_squared_error: 3.3197 - val_y2_output_root_mean_squared_error: 4.9838\n",
      "Epoch 11/500\n",
      "62/62 [==============================] - 0s 2ms/step - loss: 18.6940 - y1_output_loss: 7.4608 - y2_output_loss: 11.2332 - y1_output_root_mean_squared_error: 2.7314 - y2_output_root_mean_squared_error: 3.3516 - val_loss: 35.9766 - val_y1_output_loss: 12.7386 - val_y2_output_loss: 23.2380 - val_y1_output_root_mean_squared_error: 3.5691 - val_y2_output_root_mean_squared_error: 4.8206\n",
      "Epoch 12/500\n",
      "62/62 [==============================] - 0s 1ms/step - loss: 16.6748 - y1_output_loss: 6.7726 - y2_output_loss: 9.9022 - y1_output_root_mean_squared_error: 2.6024 - y2_output_root_mean_squared_error: 3.1468 - val_loss: 21.5857 - val_y1_output_loss: 9.7759 - val_y2_output_loss: 11.8098 - val_y1_output_root_mean_squared_error: 3.1266 - val_y2_output_root_mean_squared_error: 3.4365\n",
      "Epoch 13/500\n",
      "62/62 [==============================] - 0s 1ms/step - loss: 15.2306 - y1_output_loss: 6.2605 - y2_output_loss: 8.9701 - y1_output_root_mean_squared_error: 2.5021 - y2_output_root_mean_squared_error: 2.9950 - val_loss: 17.7673 - val_y1_output_loss: 7.0524 - val_y2_output_loss: 10.7149 - val_y1_output_root_mean_squared_error: 2.6556 - val_y2_output_root_mean_squared_error: 3.2734\n",
      "Epoch 14/500\n",
      "62/62 [==============================] - 0s 1ms/step - loss: 15.0034 - y1_output_loss: 6.4323 - y2_output_loss: 8.5710 - y1_output_root_mean_squared_error: 2.5362 - y2_output_root_mean_squared_error: 2.9276 - val_loss: 18.1924 - val_y1_output_loss: 7.1994 - val_y2_output_loss: 10.9930 - val_y1_output_root_mean_squared_error: 2.6832 - val_y2_output_root_mean_squared_error: 3.3156\n",
      "Epoch 15/500\n",
      "62/62 [==============================] - 0s 1ms/step - loss: 18.5974 - y1_output_loss: 6.6413 - y2_output_loss: 11.9561 - y1_output_root_mean_squared_error: 2.5771 - y2_output_root_mean_squared_error: 3.4578 - val_loss: 63.3880 - val_y1_output_loss: 13.8150 - val_y2_output_loss: 49.5730 - val_y1_output_root_mean_squared_error: 3.7168 - val_y2_output_root_mean_squared_error: 7.0408\n",
      "Epoch 16/500\n",
      "62/62 [==============================] - 0s 1ms/step - loss: 15.0821 - y1_output_loss: 5.8026 - y2_output_loss: 9.2796 - y1_output_root_mean_squared_error: 2.4089 - y2_output_root_mean_squared_error: 3.0462 - val_loss: 18.8292 - val_y1_output_loss: 6.9221 - val_y2_output_loss: 11.9071 - val_y1_output_root_mean_squared_error: 2.6310 - val_y2_output_root_mean_squared_error: 3.4507\n",
      "Epoch 17/500\n",
      "62/62 [==============================] - 0s 1ms/step - loss: 13.7149 - y1_output_loss: 5.5564 - y2_output_loss: 8.1586 - y1_output_root_mean_squared_error: 2.3572 - y2_output_root_mean_squared_error: 2.8563 - val_loss: 16.0471 - val_y1_output_loss: 6.1874 - val_y2_output_loss: 9.8597 - val_y1_output_root_mean_squared_error: 2.4874 - val_y2_output_root_mean_squared_error: 3.1400\n",
      "Epoch 18/500\n",
      "62/62 [==============================] - 0s 1ms/step - loss: 14.1346 - y1_output_loss: 5.5050 - y2_output_loss: 8.6295 - y1_output_root_mean_squared_error: 2.3463 - y2_output_root_mean_squared_error: 2.9376 - val_loss: 51.8721 - val_y1_output_loss: 13.5505 - val_y2_output_loss: 38.3217 - val_y1_output_root_mean_squared_error: 3.6811 - val_y2_output_root_mean_squared_error: 6.1905\n",
      "Epoch 19/500\n",
      "62/62 [==============================] - 0s 1ms/step - loss: 15.2549 - y1_output_loss: 5.6648 - y2_output_loss: 9.5901 - y1_output_root_mean_squared_error: 2.3801 - y2_output_root_mean_squared_error: 3.0968 - val_loss: 58.7172 - val_y1_output_loss: 17.4559 - val_y2_output_loss: 41.2613 - val_y1_output_root_mean_squared_error: 4.1780 - val_y2_output_root_mean_squared_error: 6.4235\n",
      "Epoch 20/500\n",
      "62/62 [==============================] - 0s 1ms/step - loss: 13.3483 - y1_output_loss: 5.2483 - y2_output_loss: 8.1000 - y1_output_root_mean_squared_error: 2.2909 - y2_output_root_mean_squared_error: 2.8461 - val_loss: 36.0979 - val_y1_output_loss: 10.5785 - val_y2_output_loss: 25.5194 - val_y1_output_root_mean_squared_error: 3.2525 - val_y2_output_root_mean_squared_error: 5.0517\n",
      "Epoch 21/500\n",
      "62/62 [==============================] - 0s 1ms/step - loss: 13.9585 - y1_output_loss: 5.1214 - y2_output_loss: 8.8370 - y1_output_root_mean_squared_error: 2.2631 - y2_output_root_mean_squared_error: 2.9727 - val_loss: 24.1686 - val_y1_output_loss: 7.5082 - val_y2_output_loss: 16.6604 - val_y1_output_root_mean_squared_error: 2.7401 - val_y2_output_root_mean_squared_error: 4.0817\n",
      "Epoch 22/500\n",
      "62/62 [==============================] - 0s 1ms/step - loss: 12.5759 - y1_output_loss: 4.9912 - y2_output_loss: 7.5847 - y1_output_root_mean_squared_error: 2.2341 - y2_output_root_mean_squared_error: 2.7540 - val_loss: 14.4398 - val_y1_output_loss: 6.4296 - val_y2_output_loss: 8.0102 - val_y1_output_root_mean_squared_error: 2.5357 - val_y2_output_root_mean_squared_error: 2.8302\n",
      "Epoch 23/500\n",
      "62/62 [==============================] - 0s 1ms/step - loss: 11.2200 - y1_output_loss: 4.4645 - y2_output_loss: 6.7554 - y1_output_root_mean_squared_error: 2.1129 - y2_output_root_mean_squared_error: 2.5991 - val_loss: 25.3323 - val_y1_output_loss: 7.6612 - val_y2_output_loss: 17.6711 - val_y1_output_root_mean_squared_error: 2.7679 - val_y2_output_root_mean_squared_error: 4.2037\n",
      "Epoch 24/500\n",
      "62/62 [==============================] - 0s 1ms/step - loss: 12.6580 - y1_output_loss: 4.8059 - y2_output_loss: 7.8522 - y1_output_root_mean_squared_error: 2.1922 - y2_output_root_mean_squared_error: 2.8022 - val_loss: 13.3175 - val_y1_output_loss: 5.0439 - val_y2_output_loss: 8.2736 - val_y1_output_root_mean_squared_error: 2.2459 - val_y2_output_root_mean_squared_error: 2.8764\n",
      "Epoch 25/500\n",
      "62/62 [==============================] - 0s 1ms/step - loss: 11.7401 - y1_output_loss: 4.5108 - y2_output_loss: 7.2293 - y1_output_root_mean_squared_error: 2.1239 - y2_output_root_mean_squared_error: 2.6887 - val_loss: 15.6280 - val_y1_output_loss: 5.9951 - val_y2_output_loss: 9.6329 - val_y1_output_root_mean_squared_error: 2.4485 - val_y2_output_root_mean_squared_error: 3.1037\n",
      "Epoch 26/500\n",
      "62/62 [==============================] - 0s 1ms/step - loss: 12.3095 - y1_output_loss: 4.3334 - y2_output_loss: 7.9761 - y1_output_root_mean_squared_error: 2.0817 - y2_output_root_mean_squared_error: 2.8242 - val_loss: 25.5224 - val_y1_output_loss: 7.0726 - val_y2_output_loss: 18.4498 - val_y1_output_root_mean_squared_error: 2.6594 - val_y2_output_root_mean_squared_error: 4.2953\n",
      "Epoch 27/500\n",
      "62/62 [==============================] - 0s 1ms/step - loss: 10.3634 - y1_output_loss: 4.0294 - y2_output_loss: 6.3340 - y1_output_root_mean_squared_error: 2.0073 - y2_output_root_mean_squared_error: 2.5167 - val_loss: 15.6387 - val_y1_output_loss: 4.7683 - val_y2_output_loss: 10.8705 - val_y1_output_root_mean_squared_error: 2.1836 - val_y2_output_root_mean_squared_error: 3.2970\n",
      "Epoch 28/500\n",
      "62/62 [==============================] - 0s 1ms/step - loss: 12.8310 - y1_output_loss: 4.3552 - y2_output_loss: 8.4758 - y1_output_root_mean_squared_error: 2.0869 - y2_output_root_mean_squared_error: 2.9113 - val_loss: 17.0240 - val_y1_output_loss: 5.9660 - val_y2_output_loss: 11.0580 - val_y1_output_root_mean_squared_error: 2.4425 - val_y2_output_root_mean_squared_error: 3.3254\n",
      "Epoch 29/500\n",
      "62/62 [==============================] - 0s 1ms/step - loss: 10.5997 - y1_output_loss: 3.7250 - y2_output_loss: 6.8747 - y1_output_root_mean_squared_error: 1.9300 - y2_output_root_mean_squared_error: 2.6220 - val_loss: 12.4371 - val_y1_output_loss: 5.6509 - val_y2_output_loss: 6.7862 - val_y1_output_root_mean_squared_error: 2.3772 - val_y2_output_root_mean_squared_error: 2.6050\n",
      "Epoch 30/500\n",
      "62/62 [==============================] - 0s 2ms/step - loss: 12.3122 - y1_output_loss: 4.4056 - y2_output_loss: 7.9066 - y1_output_root_mean_squared_error: 2.0989 - y2_output_root_mean_squared_error: 2.8119 - val_loss: 12.0992 - val_y1_output_loss: 5.1130 - val_y2_output_loss: 6.9862 - val_y1_output_root_mean_squared_error: 2.2612 - val_y2_output_root_mean_squared_error: 2.6431\n",
      "Epoch 31/500\n",
      "62/62 [==============================] - 0s 1ms/step - loss: 11.0077 - y1_output_loss: 3.7579 - y2_output_loss: 7.2497 - y1_output_root_mean_squared_error: 1.9385 - y2_output_root_mean_squared_error: 2.6925 - val_loss: 20.8367 - val_y1_output_loss: 6.5043 - val_y2_output_loss: 14.3324 - val_y1_output_root_mean_squared_error: 2.5504 - val_y2_output_root_mean_squared_error: 3.7858\n",
      "Epoch 32/500\n",
      "62/62 [==============================] - 0s 1ms/step - loss: 11.4122 - y1_output_loss: 3.7654 - y2_output_loss: 7.6469 - y1_output_root_mean_squared_error: 1.9405 - y2_output_root_mean_squared_error: 2.7653 - val_loss: 10.9854 - val_y1_output_loss: 4.1840 - val_y2_output_loss: 6.8014 - val_y1_output_root_mean_squared_error: 2.0455 - val_y2_output_root_mean_squared_error: 2.6080\n",
      "Epoch 33/500\n",
      "62/62 [==============================] - 0s 2ms/step - loss: 10.0359 - y1_output_loss: 3.6970 - y2_output_loss: 6.3389 - y1_output_root_mean_squared_error: 1.9228 - y2_output_root_mean_squared_error: 2.5177 - val_loss: 13.7632 - val_y1_output_loss: 4.4874 - val_y2_output_loss: 9.2758 - val_y1_output_root_mean_squared_error: 2.1183 - val_y2_output_root_mean_squared_error: 3.0456\n",
      "Epoch 34/500\n",
      "62/62 [==============================] - 0s 2ms/step - loss: 9.4914 - y1_output_loss: 3.2352 - y2_output_loss: 6.2562 - y1_output_root_mean_squared_error: 1.7987 - y2_output_root_mean_squared_error: 2.5012 - val_loss: 9.8916 - val_y1_output_loss: 3.3329 - val_y2_output_loss: 6.5587 - val_y1_output_root_mean_squared_error: 1.8256 - val_y2_output_root_mean_squared_error: 2.5610\n",
      "Epoch 35/500\n",
      "62/62 [==============================] - 0s 1ms/step - loss: 9.3240 - y1_output_loss: 3.3668 - y2_output_loss: 5.9572 - y1_output_root_mean_squared_error: 1.8349 - y2_output_root_mean_squared_error: 2.4407 - val_loss: 14.1406 - val_y1_output_loss: 4.2596 - val_y2_output_loss: 9.8810 - val_y1_output_root_mean_squared_error: 2.0639 - val_y2_output_root_mean_squared_error: 3.1434\n",
      "Epoch 36/500\n",
      "62/62 [==============================] - 0s 1ms/step - loss: 8.4651 - y1_output_loss: 3.0432 - y2_output_loss: 5.4219 - y1_output_root_mean_squared_error: 1.7445 - y2_output_root_mean_squared_error: 2.3285 - val_loss: 14.1920 - val_y1_output_loss: 3.4824 - val_y2_output_loss: 10.7096 - val_y1_output_root_mean_squared_error: 1.8661 - val_y2_output_root_mean_squared_error: 3.2725\n",
      "Epoch 37/500\n",
      "62/62 [==============================] - 0s 2ms/step - loss: 9.2601 - y1_output_loss: 3.1151 - y2_output_loss: 6.1450 - y1_output_root_mean_squared_error: 1.7650 - y2_output_root_mean_squared_error: 2.4789 - val_loss: 9.4337 - val_y1_output_loss: 3.1271 - val_y2_output_loss: 6.3066 - val_y1_output_root_mean_squared_error: 1.7684 - val_y2_output_root_mean_squared_error: 2.5113\n",
      "Epoch 38/500\n",
      "62/62 [==============================] - 0s 1ms/step - loss: 8.0522 - y1_output_loss: 2.8100 - y2_output_loss: 5.2422 - y1_output_root_mean_squared_error: 1.6763 - y2_output_root_mean_squared_error: 2.2896 - val_loss: 8.9597 - val_y1_output_loss: 2.9316 - val_y2_output_loss: 6.0281 - val_y1_output_root_mean_squared_error: 1.7122 - val_y2_output_root_mean_squared_error: 2.4552\n",
      "Epoch 39/500\n",
      "62/62 [==============================] - 0s 2ms/step - loss: 7.6970 - y1_output_loss: 2.6421 - y2_output_loss: 5.0549 - y1_output_root_mean_squared_error: 1.6255 - y2_output_root_mean_squared_error: 2.2483 - val_loss: 9.6907 - val_y1_output_loss: 4.0091 - val_y2_output_loss: 5.6816 - val_y1_output_root_mean_squared_error: 2.0023 - val_y2_output_root_mean_squared_error: 2.3836\n",
      "Epoch 40/500\n",
      "62/62 [==============================] - 0s 2ms/step - loss: 7.0402 - y1_output_loss: 2.5179 - y2_output_loss: 4.5223 - y1_output_root_mean_squared_error: 1.5868 - y2_output_root_mean_squared_error: 2.1266 - val_loss: 13.4471 - val_y1_output_loss: 5.4577 - val_y2_output_loss: 7.9894 - val_y1_output_root_mean_squared_error: 2.3362 - val_y2_output_root_mean_squared_error: 2.8266\n",
      "Epoch 41/500\n",
      "62/62 [==============================] - 0s 2ms/step - loss: 9.1652 - y1_output_loss: 2.8693 - y2_output_loss: 6.2959 - y1_output_root_mean_squared_error: 1.6939 - y2_output_root_mean_squared_error: 2.5092 - val_loss: 15.8848 - val_y1_output_loss: 3.1123 - val_y2_output_loss: 12.7725 - val_y1_output_root_mean_squared_error: 1.7642 - val_y2_output_root_mean_squared_error: 3.5739\n",
      "Epoch 42/500\n",
      "62/62 [==============================] - 0s 1ms/step - loss: 7.3121 - y1_output_loss: 2.5089 - y2_output_loss: 4.8032 - y1_output_root_mean_squared_error: 1.5840 - y2_output_root_mean_squared_error: 2.1916 - val_loss: 8.5890 - val_y1_output_loss: 2.6904 - val_y2_output_loss: 5.8986 - val_y1_output_root_mean_squared_error: 1.6402 - val_y2_output_root_mean_squared_error: 2.4287\n",
      "Epoch 43/500\n",
      "62/62 [==============================] - 0s 1ms/step - loss: 6.8152 - y1_output_loss: 2.2724 - y2_output_loss: 4.5428 - y1_output_root_mean_squared_error: 1.5074 - y2_output_root_mean_squared_error: 2.1314 - val_loss: 11.8796 - val_y1_output_loss: 3.8484 - val_y2_output_loss: 8.0311 - val_y1_output_root_mean_squared_error: 1.9617 - val_y2_output_root_mean_squared_error: 2.8339\n",
      "Epoch 44/500\n",
      "62/62 [==============================] - 0s 1ms/step - loss: 9.0054 - y1_output_loss: 2.8246 - y2_output_loss: 6.1808 - y1_output_root_mean_squared_error: 1.6806 - y2_output_root_mean_squared_error: 2.4861 - val_loss: 14.1604 - val_y1_output_loss: 2.3982 - val_y2_output_loss: 11.7622 - val_y1_output_root_mean_squared_error: 1.5486 - val_y2_output_root_mean_squared_error: 3.4296\n",
      "Epoch 45/500\n",
      "62/62 [==============================] - 0s 2ms/step - loss: 7.2852 - y1_output_loss: 2.3475 - y2_output_loss: 4.9378 - y1_output_root_mean_squared_error: 1.5321 - y2_output_root_mean_squared_error: 2.2221 - val_loss: 12.7796 - val_y1_output_loss: 3.2645 - val_y2_output_loss: 9.5151 - val_y1_output_root_mean_squared_error: 1.8068 - val_y2_output_root_mean_squared_error: 3.0847\n",
      "Epoch 46/500\n",
      "62/62 [==============================] - 0s 1ms/step - loss: 6.6413 - y1_output_loss: 2.2828 - y2_output_loss: 4.3585 - y1_output_root_mean_squared_error: 1.5109 - y2_output_root_mean_squared_error: 2.0877 - val_loss: 11.4518 - val_y1_output_loss: 3.9586 - val_y2_output_loss: 7.4932 - val_y1_output_root_mean_squared_error: 1.9896 - val_y2_output_root_mean_squared_error: 2.7374\n",
      "Epoch 47/500\n",
      "62/62 [==============================] - 0s 2ms/step - loss: 7.2499 - y1_output_loss: 2.3975 - y2_output_loss: 4.8524 - y1_output_root_mean_squared_error: 1.5484 - y2_output_root_mean_squared_error: 2.2028 - val_loss: 8.2742 - val_y1_output_loss: 2.5362 - val_y2_output_loss: 5.7381 - val_y1_output_root_mean_squared_error: 1.5925 - val_y2_output_root_mean_squared_error: 2.3954\n",
      "Epoch 48/500\n",
      "62/62 [==============================] - 0s 2ms/step - loss: 6.8294 - y1_output_loss: 2.2424 - y2_output_loss: 4.5870 - y1_output_root_mean_squared_error: 1.4975 - y2_output_root_mean_squared_error: 2.1417 - val_loss: 22.6138 - val_y1_output_loss: 6.7612 - val_y2_output_loss: 15.8526 - val_y1_output_root_mean_squared_error: 2.6002 - val_y2_output_root_mean_squared_error: 3.9815\n",
      "Epoch 49/500\n",
      "62/62 [==============================] - 0s 2ms/step - loss: 7.0471 - y1_output_loss: 2.3213 - y2_output_loss: 4.7258 - y1_output_root_mean_squared_error: 1.5236 - y2_output_root_mean_squared_error: 2.1739 - val_loss: 11.8457 - val_y1_output_loss: 3.0609 - val_y2_output_loss: 8.7849 - val_y1_output_root_mean_squared_error: 1.7495 - val_y2_output_root_mean_squared_error: 2.9639\n",
      "Epoch 50/500\n",
      "62/62 [==============================] - 0s 1ms/step - loss: 8.5628 - y1_output_loss: 2.6655 - y2_output_loss: 5.8973 - y1_output_root_mean_squared_error: 1.6326 - y2_output_root_mean_squared_error: 2.4284 - val_loss: 6.7399 - val_y1_output_loss: 2.0709 - val_y2_output_loss: 4.6690 - val_y1_output_root_mean_squared_error: 1.4391 - val_y2_output_root_mean_squared_error: 2.1608\n",
      "Epoch 51/500\n",
      "62/62 [==============================] - 0s 1ms/step - loss: 6.5329 - y1_output_loss: 1.8993 - y2_output_loss: 4.6336 - y1_output_root_mean_squared_error: 1.3781 - y2_output_root_mean_squared_error: 2.1526 - val_loss: 6.3928 - val_y1_output_loss: 2.0292 - val_y2_output_loss: 4.3636 - val_y1_output_root_mean_squared_error: 1.4245 - val_y2_output_root_mean_squared_error: 2.0889\n",
      "Epoch 52/500\n",
      "62/62 [==============================] - 0s 1ms/step - loss: 6.0001 - y1_output_loss: 1.9840 - y2_output_loss: 4.0161 - y1_output_root_mean_squared_error: 1.4086 - y2_output_root_mean_squared_error: 2.0040 - val_loss: 7.1915 - val_y1_output_loss: 2.1225 - val_y2_output_loss: 5.0690 - val_y1_output_root_mean_squared_error: 1.4569 - val_y2_output_root_mean_squared_error: 2.2514\n",
      "Epoch 53/500\n",
      "62/62 [==============================] - 0s 1ms/step - loss: 6.7232 - y1_output_loss: 2.0584 - y2_output_loss: 4.6648 - y1_output_root_mean_squared_error: 1.4347 - y2_output_root_mean_squared_error: 2.1598 - val_loss: 9.1034 - val_y1_output_loss: 2.7306 - val_y2_output_loss: 6.3728 - val_y1_output_root_mean_squared_error: 1.6524 - val_y2_output_root_mean_squared_error: 2.5244\n",
      "Epoch 54/500\n",
      "62/62 [==============================] - 0s 1ms/step - loss: 5.8994 - y1_output_loss: 1.7996 - y2_output_loss: 4.0998 - y1_output_root_mean_squared_error: 1.3415 - y2_output_root_mean_squared_error: 2.0248 - val_loss: 14.8584 - val_y1_output_loss: 4.2887 - val_y2_output_loss: 10.5698 - val_y1_output_root_mean_squared_error: 2.0709 - val_y2_output_root_mean_squared_error: 3.2511\n",
      "Epoch 55/500\n",
      "62/62 [==============================] - 0s 1ms/step - loss: 6.6250 - y1_output_loss: 1.9240 - y2_output_loss: 4.7010 - y1_output_root_mean_squared_error: 1.3871 - y2_output_root_mean_squared_error: 2.1682 - val_loss: 7.2229 - val_y1_output_loss: 1.9697 - val_y2_output_loss: 5.2531 - val_y1_output_root_mean_squared_error: 1.4035 - val_y2_output_root_mean_squared_error: 2.2920\n",
      "Epoch 56/500\n",
      "62/62 [==============================] - 0s 1ms/step - loss: 5.5412 - y1_output_loss: 1.5705 - y2_output_loss: 3.9707 - y1_output_root_mean_squared_error: 1.2532 - y2_output_root_mean_squared_error: 1.9927 - val_loss: 22.4556 - val_y1_output_loss: 6.0680 - val_y2_output_loss: 16.3876 - val_y1_output_root_mean_squared_error: 2.4633 - val_y2_output_root_mean_squared_error: 4.0482\n",
      "Epoch 57/500\n",
      "62/62 [==============================] - 0s 1ms/step - loss: 5.7595 - y1_output_loss: 1.7868 - y2_output_loss: 3.9727 - y1_output_root_mean_squared_error: 1.3367 - y2_output_root_mean_squared_error: 1.9932 - val_loss: 5.5945 - val_y1_output_loss: 1.6028 - val_y2_output_loss: 3.9917 - val_y1_output_root_mean_squared_error: 1.2660 - val_y2_output_root_mean_squared_error: 1.9979\n",
      "Epoch 58/500\n",
      "62/62 [==============================] - 0s 1ms/step - loss: 8.0307 - y1_output_loss: 2.3118 - y2_output_loss: 5.7188 - y1_output_root_mean_squared_error: 1.5205 - y2_output_root_mean_squared_error: 2.3914 - val_loss: 5.6895 - val_y1_output_loss: 1.4923 - val_y2_output_loss: 4.1972 - val_y1_output_root_mean_squared_error: 1.2216 - val_y2_output_root_mean_squared_error: 2.0487\n",
      "Epoch 59/500\n",
      "62/62 [==============================] - 0s 2ms/step - loss: 5.1583 - y1_output_loss: 1.4448 - y2_output_loss: 3.7135 - y1_output_root_mean_squared_error: 1.2020 - y2_output_root_mean_squared_error: 1.9270 - val_loss: 7.2761 - val_y1_output_loss: 2.2835 - val_y2_output_loss: 4.9927 - val_y1_output_root_mean_squared_error: 1.5111 - val_y2_output_root_mean_squared_error: 2.2344\n",
      "Epoch 60/500\n",
      "62/62 [==============================] - 0s 1ms/step - loss: 4.8398 - y1_output_loss: 1.2881 - y2_output_loss: 3.5517 - y1_output_root_mean_squared_error: 1.1349 - y2_output_root_mean_squared_error: 1.8846 - val_loss: 4.9730 - val_y1_output_loss: 1.3845 - val_y2_output_loss: 3.5886 - val_y1_output_root_mean_squared_error: 1.1766 - val_y2_output_root_mean_squared_error: 1.8944\n",
      "Epoch 61/500\n",
      "62/62 [==============================] - 0s 1ms/step - loss: 5.4946 - y1_output_loss: 1.4748 - y2_output_loss: 4.0198 - y1_output_root_mean_squared_error: 1.2144 - y2_output_root_mean_squared_error: 2.0049 - val_loss: 5.7595 - val_y1_output_loss: 1.5154 - val_y2_output_loss: 4.2441 - val_y1_output_root_mean_squared_error: 1.2310 - val_y2_output_root_mean_squared_error: 2.0601\n",
      "Epoch 62/500\n",
      "62/62 [==============================] - 0s 2ms/step - loss: 4.4013 - y1_output_loss: 1.2305 - y2_output_loss: 3.1708 - y1_output_root_mean_squared_error: 1.1093 - y2_output_root_mean_squared_error: 1.7807 - val_loss: 10.0961 - val_y1_output_loss: 2.3966 - val_y2_output_loss: 7.6995 - val_y1_output_root_mean_squared_error: 1.5481 - val_y2_output_root_mean_squared_error: 2.7748\n",
      "Epoch 63/500\n",
      "62/62 [==============================] - 0s 1ms/step - loss: 6.1919 - y1_output_loss: 1.6802 - y2_output_loss: 4.5116 - y1_output_root_mean_squared_error: 1.2962 - y2_output_root_mean_squared_error: 2.1241 - val_loss: 9.9525 - val_y1_output_loss: 2.9275 - val_y2_output_loss: 7.0250 - val_y1_output_root_mean_squared_error: 1.7110 - val_y2_output_root_mean_squared_error: 2.6505\n",
      "Epoch 64/500\n",
      "62/62 [==============================] - 0s 1ms/step - loss: 5.3509 - y1_output_loss: 1.4362 - y2_output_loss: 3.9147 - y1_output_root_mean_squared_error: 1.1984 - y2_output_root_mean_squared_error: 1.9786 - val_loss: 4.8882 - val_y1_output_loss: 1.3653 - val_y2_output_loss: 3.5229 - val_y1_output_root_mean_squared_error: 1.1684 - val_y2_output_root_mean_squared_error: 1.8770\n",
      "Epoch 65/500\n",
      "62/62 [==============================] - 0s 2ms/step - loss: 4.6861 - y1_output_loss: 1.2538 - y2_output_loss: 3.4323 - y1_output_root_mean_squared_error: 1.1197 - y2_output_root_mean_squared_error: 1.8526 - val_loss: 5.4307 - val_y1_output_loss: 1.8529 - val_y2_output_loss: 3.5779 - val_y1_output_root_mean_squared_error: 1.3612 - val_y2_output_root_mean_squared_error: 1.8915\n",
      "Epoch 66/500\n",
      "62/62 [==============================] - 0s 2ms/step - loss: 4.4211 - y1_output_loss: 1.2548 - y2_output_loss: 3.1663 - y1_output_root_mean_squared_error: 1.1202 - y2_output_root_mean_squared_error: 1.7794 - val_loss: 4.7387 - val_y1_output_loss: 1.1899 - val_y2_output_loss: 3.5488 - val_y1_output_root_mean_squared_error: 1.0908 - val_y2_output_root_mean_squared_error: 1.8838\n",
      "Epoch 67/500\n",
      "62/62 [==============================] - 0s 2ms/step - loss: 4.1681 - y1_output_loss: 1.1529 - y2_output_loss: 3.0152 - y1_output_root_mean_squared_error: 1.0737 - y2_output_root_mean_squared_error: 1.7364 - val_loss: 4.5460 - val_y1_output_loss: 1.2754 - val_y2_output_loss: 3.2706 - val_y1_output_root_mean_squared_error: 1.1294 - val_y2_output_root_mean_squared_error: 1.8085\n",
      "Epoch 68/500\n",
      "62/62 [==============================] - 0s 2ms/step - loss: 4.7106 - y1_output_loss: 1.3112 - y2_output_loss: 3.3995 - y1_output_root_mean_squared_error: 1.1451 - y2_output_root_mean_squared_error: 1.8438 - val_loss: 35.6413 - val_y1_output_loss: 13.7415 - val_y2_output_loss: 21.8998 - val_y1_output_root_mean_squared_error: 3.7070 - val_y2_output_root_mean_squared_error: 4.6797\n",
      "Epoch 69/500\n",
      "62/62 [==============================] - 0s 2ms/step - loss: 5.0394 - y1_output_loss: 1.6203 - y2_output_loss: 3.4191 - y1_output_root_mean_squared_error: 1.2729 - y2_output_root_mean_squared_error: 1.8491 - val_loss: 4.6609 - val_y1_output_loss: 1.6272 - val_y2_output_loss: 3.0336 - val_y1_output_root_mean_squared_error: 1.2756 - val_y2_output_root_mean_squared_error: 1.7417\n",
      "Epoch 70/500\n",
      "62/62 [==============================] - 0s 1ms/step - loss: 3.5471 - y1_output_loss: 0.9739 - y2_output_loss: 2.5732 - y1_output_root_mean_squared_error: 0.9869 - y2_output_root_mean_squared_error: 1.6041 - val_loss: 4.6596 - val_y1_output_loss: 1.2150 - val_y2_output_loss: 3.4446 - val_y1_output_root_mean_squared_error: 1.1023 - val_y2_output_root_mean_squared_error: 1.8560\n",
      "Epoch 71/500\n",
      "62/62 [==============================] - 0s 1ms/step - loss: 5.4213 - y1_output_loss: 1.4649 - y2_output_loss: 3.9563 - y1_output_root_mean_squared_error: 1.2103 - y2_output_root_mean_squared_error: 1.9890 - val_loss: 4.9024 - val_y1_output_loss: 1.0482 - val_y2_output_loss: 3.8542 - val_y1_output_root_mean_squared_error: 1.0238 - val_y2_output_root_mean_squared_error: 1.9632\n",
      "Epoch 72/500\n",
      "62/62 [==============================] - 0s 1ms/step - loss: 3.1342 - y1_output_loss: 0.7749 - y2_output_loss: 2.3593 - y1_output_root_mean_squared_error: 0.8803 - y2_output_root_mean_squared_error: 1.5360 - val_loss: 4.6747 - val_y1_output_loss: 1.0026 - val_y2_output_loss: 3.6720 - val_y1_output_root_mean_squared_error: 1.0013 - val_y2_output_root_mean_squared_error: 1.9162\n",
      "Epoch 73/500\n",
      "62/62 [==============================] - 0s 1ms/step - loss: 5.4640 - y1_output_loss: 1.4800 - y2_output_loss: 3.9840 - y1_output_root_mean_squared_error: 1.2166 - y2_output_root_mean_squared_error: 1.9960 - val_loss: 51.5899 - val_y1_output_loss: 12.8806 - val_y2_output_loss: 38.7093 - val_y1_output_root_mean_squared_error: 3.5890 - val_y2_output_root_mean_squared_error: 6.2217\n",
      "Epoch 74/500\n",
      "62/62 [==============================] - 0s 1ms/step - loss: 5.2485 - y1_output_loss: 1.4572 - y2_output_loss: 3.7913 - y1_output_root_mean_squared_error: 1.2071 - y2_output_root_mean_squared_error: 1.9471 - val_loss: 3.6956 - val_y1_output_loss: 0.7848 - val_y2_output_loss: 2.9108 - val_y1_output_root_mean_squared_error: 0.8859 - val_y2_output_root_mean_squared_error: 1.7061\n",
      "Epoch 75/500\n",
      "62/62 [==============================] - 0s 1ms/step - loss: 3.5588 - y1_output_loss: 0.8921 - y2_output_loss: 2.6666 - y1_output_root_mean_squared_error: 0.9445 - y2_output_root_mean_squared_error: 1.6330 - val_loss: 4.1455 - val_y1_output_loss: 0.8675 - val_y2_output_loss: 3.2780 - val_y1_output_root_mean_squared_error: 0.9314 - val_y2_output_root_mean_squared_error: 1.8105\n",
      "Epoch 76/500\n",
      "62/62 [==============================] - 0s 1ms/step - loss: 3.7505 - y1_output_loss: 0.7817 - y2_output_loss: 2.9688 - y1_output_root_mean_squared_error: 0.8842 - y2_output_root_mean_squared_error: 1.7230 - val_loss: 3.5004 - val_y1_output_loss: 0.8137 - val_y2_output_loss: 2.6867 - val_y1_output_root_mean_squared_error: 0.9021 - val_y2_output_root_mean_squared_error: 1.6391\n",
      "Epoch 77/500\n",
      "62/62 [==============================] - 0s 1ms/step - loss: 3.1592 - y1_output_loss: 0.7198 - y2_output_loss: 2.4393 - y1_output_root_mean_squared_error: 0.8484 - y2_output_root_mean_squared_error: 1.5618 - val_loss: 17.8408 - val_y1_output_loss: 5.7312 - val_y2_output_loss: 12.1096 - val_y1_output_root_mean_squared_error: 2.3940 - val_y2_output_root_mean_squared_error: 3.4799\n",
      "Epoch 78/500\n",
      "62/62 [==============================] - 0s 2ms/step - loss: 5.2823 - y1_output_loss: 1.3274 - y2_output_loss: 3.9549 - y1_output_root_mean_squared_error: 1.1521 - y2_output_root_mean_squared_error: 1.9887 - val_loss: 13.9075 - val_y1_output_loss: 3.2200 - val_y2_output_loss: 10.6876 - val_y1_output_root_mean_squared_error: 1.7944 - val_y2_output_root_mean_squared_error: 3.2692\n",
      "Epoch 79/500\n",
      "62/62 [==============================] - 0s 2ms/step - loss: 5.1294 - y1_output_loss: 1.4191 - y2_output_loss: 3.7103 - y1_output_root_mean_squared_error: 1.1913 - y2_output_root_mean_squared_error: 1.9262 - val_loss: 15.3190 - val_y1_output_loss: 4.1601 - val_y2_output_loss: 11.1589 - val_y1_output_root_mean_squared_error: 2.0396 - val_y2_output_root_mean_squared_error: 3.3405\n",
      "Epoch 80/500\n",
      "62/62 [==============================] - 0s 2ms/step - loss: 3.7879 - y1_output_loss: 1.0042 - y2_output_loss: 2.7837 - y1_output_root_mean_squared_error: 1.0021 - y2_output_root_mean_squared_error: 1.6684 - val_loss: 3.4237 - val_y1_output_loss: 0.6976 - val_y2_output_loss: 2.7261 - val_y1_output_root_mean_squared_error: 0.8352 - val_y2_output_root_mean_squared_error: 1.6511\n",
      "Epoch 81/500\n",
      "62/62 [==============================] - 0s 1ms/step - loss: 4.6151 - y1_output_loss: 1.0764 - y2_output_loss: 3.5387 - y1_output_root_mean_squared_error: 1.0375 - y2_output_root_mean_squared_error: 1.8812 - val_loss: 3.2313 - val_y1_output_loss: 0.6879 - val_y2_output_loss: 2.5434 - val_y1_output_root_mean_squared_error: 0.8294 - val_y2_output_root_mean_squared_error: 1.5948\n",
      "Epoch 82/500\n",
      "62/62 [==============================] - 0s 2ms/step - loss: 3.7228 - y1_output_loss: 0.9613 - y2_output_loss: 2.7615 - y1_output_root_mean_squared_error: 0.9805 - y2_output_root_mean_squared_error: 1.6618 - val_loss: 3.9094 - val_y1_output_loss: 0.7482 - val_y2_output_loss: 3.1612 - val_y1_output_root_mean_squared_error: 0.8650 - val_y2_output_root_mean_squared_error: 1.7780\n",
      "Epoch 83/500\n",
      "62/62 [==============================] - 0s 2ms/step - loss: 3.3904 - y1_output_loss: 0.7564 - y2_output_loss: 2.6339 - y1_output_root_mean_squared_error: 0.8697 - y2_output_root_mean_squared_error: 1.6229 - val_loss: 3.5648 - val_y1_output_loss: 0.6992 - val_y2_output_loss: 2.8656 - val_y1_output_root_mean_squared_error: 0.8362 - val_y2_output_root_mean_squared_error: 1.6928\n",
      "Epoch 84/500\n",
      "62/62 [==============================] - 0s 2ms/step - loss: 4.2979 - y1_output_loss: 1.1196 - y2_output_loss: 3.1783 - y1_output_root_mean_squared_error: 1.0581 - y2_output_root_mean_squared_error: 1.7828 - val_loss: 5.3917 - val_y1_output_loss: 0.6311 - val_y2_output_loss: 4.7607 - val_y1_output_root_mean_squared_error: 0.7944 - val_y2_output_root_mean_squared_error: 2.1819\n",
      "Epoch 85/500\n",
      "62/62 [==============================] - 0s 2ms/step - loss: 4.8205 - y1_output_loss: 1.4303 - y2_output_loss: 3.3903 - y1_output_root_mean_squared_error: 1.1959 - y2_output_root_mean_squared_error: 1.8413 - val_loss: 3.3474 - val_y1_output_loss: 0.6792 - val_y2_output_loss: 2.6682 - val_y1_output_root_mean_squared_error: 0.8241 - val_y2_output_root_mean_squared_error: 1.6335\n",
      "Epoch 86/500\n",
      "62/62 [==============================] - 0s 1ms/step - loss: 3.4815 - y1_output_loss: 0.7723 - y2_output_loss: 2.7092 - y1_output_root_mean_squared_error: 0.8788 - y2_output_root_mean_squared_error: 1.6460 - val_loss: 5.0457 - val_y1_output_loss: 1.6980 - val_y2_output_loss: 3.3477 - val_y1_output_root_mean_squared_error: 1.3031 - val_y2_output_root_mean_squared_error: 1.8297\n",
      "Epoch 87/500\n",
      "62/62 [==============================] - 0s 1ms/step - loss: 3.3459 - y1_output_loss: 0.7322 - y2_output_loss: 2.6137 - y1_output_root_mean_squared_error: 0.8557 - y2_output_root_mean_squared_error: 1.6167 - val_loss: 4.3986 - val_y1_output_loss: 0.7699 - val_y2_output_loss: 3.6287 - val_y1_output_root_mean_squared_error: 0.8774 - val_y2_output_root_mean_squared_error: 1.9049\n",
      "Epoch 88/500\n",
      "62/62 [==============================] - 0s 2ms/step - loss: 3.2573 - y1_output_loss: 0.7043 - y2_output_loss: 2.5530 - y1_output_root_mean_squared_error: 0.8392 - y2_output_root_mean_squared_error: 1.5978 - val_loss: 2.8261 - val_y1_output_loss: 0.5511 - val_y2_output_loss: 2.2750 - val_y1_output_root_mean_squared_error: 0.7424 - val_y2_output_root_mean_squared_error: 1.5083\n",
      "Epoch 89/500\n",
      "62/62 [==============================] - 0s 2ms/step - loss: 3.2001 - y1_output_loss: 0.6616 - y2_output_loss: 2.5385 - y1_output_root_mean_squared_error: 0.8134 - y2_output_root_mean_squared_error: 1.5933 - val_loss: 9.1841 - val_y1_output_loss: 1.4065 - val_y2_output_loss: 7.7776 - val_y1_output_root_mean_squared_error: 1.1860 - val_y2_output_root_mean_squared_error: 2.7888\n",
      "Epoch 90/500\n",
      "62/62 [==============================] - 0s 2ms/step - loss: 5.9761 - y1_output_loss: 1.1913 - y2_output_loss: 4.7848 - y1_output_root_mean_squared_error: 1.0914 - y2_output_root_mean_squared_error: 2.1874 - val_loss: 2.8158 - val_y1_output_loss: 0.5605 - val_y2_output_loss: 2.2553 - val_y1_output_root_mean_squared_error: 0.7487 - val_y2_output_root_mean_squared_error: 1.5018\n",
      "Epoch 91/500\n",
      "62/62 [==============================] - 0s 2ms/step - loss: 3.2216 - y1_output_loss: 0.6528 - y2_output_loss: 2.5687 - y1_output_root_mean_squared_error: 0.8080 - y2_output_root_mean_squared_error: 1.6027 - val_loss: 2.9635 - val_y1_output_loss: 0.6428 - val_y2_output_loss: 2.3206 - val_y1_output_root_mean_squared_error: 0.8018 - val_y2_output_root_mean_squared_error: 1.5234\n",
      "Epoch 92/500\n",
      "62/62 [==============================] - 0s 2ms/step - loss: 2.5995 - y1_output_loss: 0.5245 - y2_output_loss: 2.0750 - y1_output_root_mean_squared_error: 0.7242 - y2_output_root_mean_squared_error: 1.4405 - val_loss: 2.6242 - val_y1_output_loss: 0.4704 - val_y2_output_loss: 2.1539 - val_y1_output_root_mean_squared_error: 0.6858 - val_y2_output_root_mean_squared_error: 1.4676\n",
      "Epoch 93/500\n",
      "62/62 [==============================] - 0s 2ms/step - loss: 3.4180 - y1_output_loss: 0.7980 - y2_output_loss: 2.6200 - y1_output_root_mean_squared_error: 0.8933 - y2_output_root_mean_squared_error: 1.6186 - val_loss: 4.5076 - val_y1_output_loss: 0.5961 - val_y2_output_loss: 3.9115 - val_y1_output_root_mean_squared_error: 0.7721 - val_y2_output_root_mean_squared_error: 1.9778\n",
      "Epoch 94/500\n",
      "62/62 [==============================] - 0s 1ms/step - loss: 3.3194 - y1_output_loss: 0.6621 - y2_output_loss: 2.6572 - y1_output_root_mean_squared_error: 0.8137 - y2_output_root_mean_squared_error: 1.6301 - val_loss: 3.7951 - val_y1_output_loss: 0.7863 - val_y2_output_loss: 3.0088 - val_y1_output_root_mean_squared_error: 0.8867 - val_y2_output_root_mean_squared_error: 1.7346\n",
      "Epoch 95/500\n",
      "62/62 [==============================] - 0s 2ms/step - loss: 5.5875 - y1_output_loss: 1.4411 - y2_output_loss: 4.1464 - y1_output_root_mean_squared_error: 1.2004 - y2_output_root_mean_squared_error: 2.0363 - val_loss: 15.4396 - val_y1_output_loss: 2.4614 - val_y2_output_loss: 12.9783 - val_y1_output_root_mean_squared_error: 1.5689 - val_y2_output_root_mean_squared_error: 3.6025\n",
      "Epoch 96/500\n",
      "62/62 [==============================] - 0s 2ms/step - loss: 2.7177 - y1_output_loss: 0.6112 - y2_output_loss: 2.1065 - y1_output_root_mean_squared_error: 0.7818 - y2_output_root_mean_squared_error: 1.4514 - val_loss: 7.1518 - val_y1_output_loss: 1.7185 - val_y2_output_loss: 5.4333 - val_y1_output_root_mean_squared_error: 1.3109 - val_y2_output_root_mean_squared_error: 2.3309\n",
      "Epoch 97/500\n",
      "62/62 [==============================] - 0s 1ms/step - loss: 4.0295 - y1_output_loss: 1.1807 - y2_output_loss: 2.8488 - y1_output_root_mean_squared_error: 1.0866 - y2_output_root_mean_squared_error: 1.6879 - val_loss: 36.6160 - val_y1_output_loss: 13.0591 - val_y2_output_loss: 23.5570 - val_y1_output_root_mean_squared_error: 3.6137 - val_y2_output_root_mean_squared_error: 4.8536\n",
      "Epoch 98/500\n",
      "62/62 [==============================] - 0s 1ms/step - loss: 3.2956 - y1_output_loss: 0.8551 - y2_output_loss: 2.4405 - y1_output_root_mean_squared_error: 0.9247 - y2_output_root_mean_squared_error: 1.5622 - val_loss: 2.6504 - val_y1_output_loss: 0.4422 - val_y2_output_loss: 2.2082 - val_y1_output_root_mean_squared_error: 0.6650 - val_y2_output_root_mean_squared_error: 1.4860\n",
      "Epoch 99/500\n",
      "62/62 [==============================] - 0s 2ms/step - loss: 3.6587 - y1_output_loss: 0.9906 - y2_output_loss: 2.6682 - y1_output_root_mean_squared_error: 0.9953 - y2_output_root_mean_squared_error: 1.6335 - val_loss: 5.5111 - val_y1_output_loss: 1.2861 - val_y2_output_loss: 4.2251 - val_y1_output_root_mean_squared_error: 1.1340 - val_y2_output_root_mean_squared_error: 2.0555\n",
      "Epoch 100/500\n",
      "62/62 [==============================] - 0s 1ms/step - loss: 2.8417 - y1_output_loss: 0.6073 - y2_output_loss: 2.2344 - y1_output_root_mean_squared_error: 0.7793 - y2_output_root_mean_squared_error: 1.4948 - val_loss: 4.0664 - val_y1_output_loss: 1.2772 - val_y2_output_loss: 2.7892 - val_y1_output_root_mean_squared_error: 1.1301 - val_y2_output_root_mean_squared_error: 1.6701\n",
      "Epoch 101/500\n",
      "62/62 [==============================] - 0s 2ms/step - loss: 2.8083 - y1_output_loss: 0.5922 - y2_output_loss: 2.2161 - y1_output_root_mean_squared_error: 0.7695 - y2_output_root_mean_squared_error: 1.4886 - val_loss: 4.3656 - val_y1_output_loss: 0.3700 - val_y2_output_loss: 3.9957 - val_y1_output_root_mean_squared_error: 0.6083 - val_y2_output_root_mean_squared_error: 1.9989\n",
      "Epoch 102/500\n",
      "62/62 [==============================] - 0s 2ms/step - loss: 2.4091 - y1_output_loss: 0.5727 - y2_output_loss: 1.8364 - y1_output_root_mean_squared_error: 0.7568 - y2_output_root_mean_squared_error: 1.3551 - val_loss: 2.3081 - val_y1_output_loss: 0.3901 - val_y2_output_loss: 1.9180 - val_y1_output_root_mean_squared_error: 0.6246 - val_y2_output_root_mean_squared_error: 1.3849\n",
      "Epoch 103/500\n",
      "62/62 [==============================] - 0s 1ms/step - loss: 2.7685 - y1_output_loss: 0.6123 - y2_output_loss: 2.1562 - y1_output_root_mean_squared_error: 0.7825 - y2_output_root_mean_squared_error: 1.4684 - val_loss: 2.8401 - val_y1_output_loss: 0.6797 - val_y2_output_loss: 2.1604 - val_y1_output_root_mean_squared_error: 0.8244 - val_y2_output_root_mean_squared_error: 1.4698\n",
      "Epoch 104/500\n",
      "62/62 [==============================] - 0s 2ms/step - loss: 2.6221 - y1_output_loss: 0.6068 - y2_output_loss: 2.0153 - y1_output_root_mean_squared_error: 0.7790 - y2_output_root_mean_squared_error: 1.4196 - val_loss: 3.8796 - val_y1_output_loss: 0.5843 - val_y2_output_loss: 3.2953 - val_y1_output_root_mean_squared_error: 0.7644 - val_y2_output_root_mean_squared_error: 1.8153\n",
      "Epoch 105/500\n",
      "62/62 [==============================] - 0s 2ms/step - loss: 2.6955 - y1_output_loss: 0.6133 - y2_output_loss: 2.0822 - y1_output_root_mean_squared_error: 0.7831 - y2_output_root_mean_squared_error: 1.4430 - val_loss: 4.3255 - val_y1_output_loss: 0.6031 - val_y2_output_loss: 3.7224 - val_y1_output_root_mean_squared_error: 0.7766 - val_y2_output_root_mean_squared_error: 1.9294\n",
      "Epoch 106/500\n",
      "62/62 [==============================] - 0s 1ms/step - loss: 2.3829 - y1_output_loss: 0.4990 - y2_output_loss: 1.8838 - y1_output_root_mean_squared_error: 0.7064 - y2_output_root_mean_squared_error: 1.3725 - val_loss: 3.1336 - val_y1_output_loss: 0.7018 - val_y2_output_loss: 2.4319 - val_y1_output_root_mean_squared_error: 0.8377 - val_y2_output_root_mean_squared_error: 1.5594\n",
      "Epoch 107/500\n",
      "62/62 [==============================] - 0s 2ms/step - loss: 2.3939 - y1_output_loss: 0.4318 - y2_output_loss: 1.9621 - y1_output_root_mean_squared_error: 0.6571 - y2_output_root_mean_squared_error: 1.4008 - val_loss: 2.4407 - val_y1_output_loss: 0.3481 - val_y2_output_loss: 2.0926 - val_y1_output_root_mean_squared_error: 0.5900 - val_y2_output_root_mean_squared_error: 1.4466\n",
      "Epoch 108/500\n",
      "62/62 [==============================] - 0s 2ms/step - loss: 2.9770 - y1_output_loss: 0.6504 - y2_output_loss: 2.3266 - y1_output_root_mean_squared_error: 0.8065 - y2_output_root_mean_squared_error: 1.5253 - val_loss: 2.5427 - val_y1_output_loss: 0.4755 - val_y2_output_loss: 2.0672 - val_y1_output_root_mean_squared_error: 0.6895 - val_y2_output_root_mean_squared_error: 1.4378\n",
      "Epoch 109/500\n",
      "62/62 [==============================] - 0s 2ms/step - loss: 2.6565 - y1_output_loss: 0.6170 - y2_output_loss: 2.0396 - y1_output_root_mean_squared_error: 0.7855 - y2_output_root_mean_squared_error: 1.4281 - val_loss: 2.3415 - val_y1_output_loss: 0.3917 - val_y2_output_loss: 1.9498 - val_y1_output_root_mean_squared_error: 0.6259 - val_y2_output_root_mean_squared_error: 1.3964\n",
      "Epoch 110/500\n",
      "62/62 [==============================] - 0s 1ms/step - loss: 3.0327 - y1_output_loss: 0.7012 - y2_output_loss: 2.3315 - y1_output_root_mean_squared_error: 0.8374 - y2_output_root_mean_squared_error: 1.5269 - val_loss: 2.7177 - val_y1_output_loss: 0.5534 - val_y2_output_loss: 2.1642 - val_y1_output_root_mean_squared_error: 0.7439 - val_y2_output_root_mean_squared_error: 1.4711\n",
      "Epoch 111/500\n",
      "62/62 [==============================] - 0s 2ms/step - loss: 2.5134 - y1_output_loss: 0.5434 - y2_output_loss: 1.9700 - y1_output_root_mean_squared_error: 0.7372 - y2_output_root_mean_squared_error: 1.4036 - val_loss: 2.3197 - val_y1_output_loss: 0.3840 - val_y2_output_loss: 1.9357 - val_y1_output_root_mean_squared_error: 0.6196 - val_y2_output_root_mean_squared_error: 1.3913\n",
      "Epoch 112/500\n",
      "62/62 [==============================] - 0s 1ms/step - loss: 2.2286 - y1_output_loss: 0.4732 - y2_output_loss: 1.7554 - y1_output_root_mean_squared_error: 0.6879 - y2_output_root_mean_squared_error: 1.3249 - val_loss: 2.9270 - val_y1_output_loss: 0.7404 - val_y2_output_loss: 2.1866 - val_y1_output_root_mean_squared_error: 0.8605 - val_y2_output_root_mean_squared_error: 1.4787\n",
      "Epoch 113/500\n",
      "62/62 [==============================] - 0s 2ms/step - loss: 2.0375 - y1_output_loss: 0.4842 - y2_output_loss: 1.5534 - y1_output_root_mean_squared_error: 0.6958 - y2_output_root_mean_squared_error: 1.2463 - val_loss: 4.8698 - val_y1_output_loss: 0.4017 - val_y2_output_loss: 4.4681 - val_y1_output_root_mean_squared_error: 0.6338 - val_y2_output_root_mean_squared_error: 2.1138\n",
      "Epoch 114/500\n",
      "62/62 [==============================] - 0s 2ms/step - loss: 2.1384 - y1_output_loss: 0.4289 - y2_output_loss: 1.7096 - y1_output_root_mean_squared_error: 0.6549 - y2_output_root_mean_squared_error: 1.3075 - val_loss: 2.2990 - val_y1_output_loss: 0.5022 - val_y2_output_loss: 1.7968 - val_y1_output_root_mean_squared_error: 0.7087 - val_y2_output_root_mean_squared_error: 1.3404\n",
      "Epoch 115/500\n",
      "62/62 [==============================] - 0s 2ms/step - loss: 2.4701 - y1_output_loss: 0.6116 - y2_output_loss: 1.8585 - y1_output_root_mean_squared_error: 0.7821 - y2_output_root_mean_squared_error: 1.3633 - val_loss: 3.0500 - val_y1_output_loss: 0.5789 - val_y2_output_loss: 2.4712 - val_y1_output_root_mean_squared_error: 0.7608 - val_y2_output_root_mean_squared_error: 1.5720\n",
      "Epoch 116/500\n",
      "62/62 [==============================] - 0s 2ms/step - loss: 2.5766 - y1_output_loss: 0.5434 - y2_output_loss: 2.0332 - y1_output_root_mean_squared_error: 0.7371 - y2_output_root_mean_squared_error: 1.4259 - val_loss: 3.0885 - val_y1_output_loss: 0.7120 - val_y2_output_loss: 2.3766 - val_y1_output_root_mean_squared_error: 0.8438 - val_y2_output_root_mean_squared_error: 1.5416\n",
      "Epoch 117/500\n",
      "62/62 [==============================] - 0s 2ms/step - loss: 2.6162 - y1_output_loss: 0.5203 - y2_output_loss: 2.0959 - y1_output_root_mean_squared_error: 0.7213 - y2_output_root_mean_squared_error: 1.4477 - val_loss: 2.4466 - val_y1_output_loss: 0.4599 - val_y2_output_loss: 1.9867 - val_y1_output_root_mean_squared_error: 0.6782 - val_y2_output_root_mean_squared_error: 1.4095\n",
      "Epoch 118/500\n",
      "62/62 [==============================] - 0s 2ms/step - loss: 2.3538 - y1_output_loss: 0.5044 - y2_output_loss: 1.8494 - y1_output_root_mean_squared_error: 0.7102 - y2_output_root_mean_squared_error: 1.3599 - val_loss: 2.3244 - val_y1_output_loss: 0.3652 - val_y2_output_loss: 1.9592 - val_y1_output_root_mean_squared_error: 0.6043 - val_y2_output_root_mean_squared_error: 1.3997\n",
      "Epoch 119/500\n",
      "62/62 [==============================] - 0s 2ms/step - loss: 2.4859 - y1_output_loss: 0.5647 - y2_output_loss: 1.9212 - y1_output_root_mean_squared_error: 0.7515 - y2_output_root_mean_squared_error: 1.3861 - val_loss: 2.5092 - val_y1_output_loss: 0.5962 - val_y2_output_loss: 1.9130 - val_y1_output_root_mean_squared_error: 0.7721 - val_y2_output_root_mean_squared_error: 1.3831\n",
      "Epoch 120/500\n",
      "62/62 [==============================] - 0s 1ms/step - loss: 2.0395 - y1_output_loss: 0.4823 - y2_output_loss: 1.5572 - y1_output_root_mean_squared_error: 0.6945 - y2_output_root_mean_squared_error: 1.2479 - val_loss: 2.0916 - val_y1_output_loss: 0.3069 - val_y2_output_loss: 1.7847 - val_y1_output_root_mean_squared_error: 0.5540 - val_y2_output_root_mean_squared_error: 1.3359\n",
      "Epoch 121/500\n",
      "62/62 [==============================] - 0s 1ms/step - loss: 2.6084 - y1_output_loss: 0.5778 - y2_output_loss: 2.0307 - y1_output_root_mean_squared_error: 0.7601 - y2_output_root_mean_squared_error: 1.4250 - val_loss: 3.7986 - val_y1_output_loss: 1.1300 - val_y2_output_loss: 2.6686 - val_y1_output_root_mean_squared_error: 1.0630 - val_y2_output_root_mean_squared_error: 1.6336\n",
      "Epoch 122/500\n",
      "62/62 [==============================] - 0s 1ms/step - loss: 1.9846 - y1_output_loss: 0.4730 - y2_output_loss: 1.5117 - y1_output_root_mean_squared_error: 0.6877 - y2_output_root_mean_squared_error: 1.2295 - val_loss: 3.0278 - val_y1_output_loss: 0.9676 - val_y2_output_loss: 2.0603 - val_y1_output_root_mean_squared_error: 0.9836 - val_y2_output_root_mean_squared_error: 1.4354\n",
      "Epoch 123/500\n",
      "62/62 [==============================] - 0s 2ms/step - loss: 2.2240 - y1_output_loss: 0.4769 - y2_output_loss: 1.7470 - y1_output_root_mean_squared_error: 0.6906 - y2_output_root_mean_squared_error: 1.3217 - val_loss: 1.8191 - val_y1_output_loss: 0.3026 - val_y2_output_loss: 1.5165 - val_y1_output_root_mean_squared_error: 0.5501 - val_y2_output_root_mean_squared_error: 1.2315\n",
      "Epoch 124/500\n",
      "62/62 [==============================] - 0s 2ms/step - loss: 2.4808 - y1_output_loss: 0.5401 - y2_output_loss: 1.9407 - y1_output_root_mean_squared_error: 0.7349 - y2_output_root_mean_squared_error: 1.3931 - val_loss: 2.4416 - val_y1_output_loss: 0.3604 - val_y2_output_loss: 2.0812 - val_y1_output_root_mean_squared_error: 0.6003 - val_y2_output_root_mean_squared_error: 1.4426\n",
      "Epoch 125/500\n",
      "62/62 [==============================] - 0s 2ms/step - loss: 2.3440 - y1_output_loss: 0.4720 - y2_output_loss: 1.8720 - y1_output_root_mean_squared_error: 0.6870 - y2_output_root_mean_squared_error: 1.3682 - val_loss: 1.9515 - val_y1_output_loss: 0.3624 - val_y2_output_loss: 1.5891 - val_y1_output_root_mean_squared_error: 0.6020 - val_y2_output_root_mean_squared_error: 1.2606\n",
      "Epoch 126/500\n",
      "62/62 [==============================] - 0s 2ms/step - loss: 2.2411 - y1_output_loss: 0.4927 - y2_output_loss: 1.7484 - y1_output_root_mean_squared_error: 0.7019 - y2_output_root_mean_squared_error: 1.3223 - val_loss: 2.3902 - val_y1_output_loss: 0.3461 - val_y2_output_loss: 2.0440 - val_y1_output_root_mean_squared_error: 0.5883 - val_y2_output_root_mean_squared_error: 1.4297\n",
      "Epoch 127/500\n",
      "62/62 [==============================] - 0s 2ms/step - loss: 2.4411 - y1_output_loss: 0.5890 - y2_output_loss: 1.8521 - y1_output_root_mean_squared_error: 0.7675 - y2_output_root_mean_squared_error: 1.3609 - val_loss: 2.5225 - val_y1_output_loss: 0.6706 - val_y2_output_loss: 1.8519 - val_y1_output_root_mean_squared_error: 0.8189 - val_y2_output_root_mean_squared_error: 1.3609\n",
      "Epoch 128/500\n",
      "62/62 [==============================] - 0s 2ms/step - loss: 13.4133 - y1_output_loss: 4.8088 - y2_output_loss: 8.6045 - y1_output_root_mean_squared_error: 2.1929 - y2_output_root_mean_squared_error: 2.9333 - val_loss: 3.3557 - val_y1_output_loss: 0.7272 - val_y2_output_loss: 2.6285 - val_y1_output_root_mean_squared_error: 0.8528 - val_y2_output_root_mean_squared_error: 1.6213\n",
      "Epoch 129/500\n",
      "62/62 [==============================] - 0s 2ms/step - loss: 2.5469 - y1_output_loss: 0.5456 - y2_output_loss: 2.0013 - y1_output_root_mean_squared_error: 0.7387 - y2_output_root_mean_squared_error: 1.4147 - val_loss: 2.2936 - val_y1_output_loss: 0.3457 - val_y2_output_loss: 1.9479 - val_y1_output_root_mean_squared_error: 0.5880 - val_y2_output_root_mean_squared_error: 1.3957\n",
      "Epoch 130/500\n",
      "62/62 [==============================] - 0s 2ms/step - loss: 2.1493 - y1_output_loss: 0.4447 - y2_output_loss: 1.7046 - y1_output_root_mean_squared_error: 0.6668 - y2_output_root_mean_squared_error: 1.3056 - val_loss: 5.0397 - val_y1_output_loss: 1.2374 - val_y2_output_loss: 3.8024 - val_y1_output_root_mean_squared_error: 1.1124 - val_y2_output_root_mean_squared_error: 1.9500\n",
      "Epoch 131/500\n",
      "62/62 [==============================] - 0s 1ms/step - loss: 2.1510 - y1_output_loss: 0.5026 - y2_output_loss: 1.6484 - y1_output_root_mean_squared_error: 0.7089 - y2_output_root_mean_squared_error: 1.2839 - val_loss: 2.2592 - val_y1_output_loss: 0.5640 - val_y2_output_loss: 1.6952 - val_y1_output_root_mean_squared_error: 0.7510 - val_y2_output_root_mean_squared_error: 1.3020\n",
      "Epoch 132/500\n",
      "62/62 [==============================] - 0s 1ms/step - loss: 2.5477 - y1_output_loss: 0.5541 - y2_output_loss: 1.9936 - y1_output_root_mean_squared_error: 0.7444 - y2_output_root_mean_squared_error: 1.4120 - val_loss: 4.4820 - val_y1_output_loss: 0.6078 - val_y2_output_loss: 3.8743 - val_y1_output_root_mean_squared_error: 0.7796 - val_y2_output_root_mean_squared_error: 1.9683\n",
      "Epoch 133/500\n",
      "62/62 [==============================] - 0s 2ms/step - loss: 1.9846 - y1_output_loss: 0.4652 - y2_output_loss: 1.5194 - y1_output_root_mean_squared_error: 0.6821 - y2_output_root_mean_squared_error: 1.2327 - val_loss: 2.2400 - val_y1_output_loss: 0.4566 - val_y2_output_loss: 1.7834 - val_y1_output_root_mean_squared_error: 0.6757 - val_y2_output_root_mean_squared_error: 1.3354\n",
      "Epoch 134/500\n",
      "62/62 [==============================] - 0s 2ms/step - loss: 1.8682 - y1_output_loss: 0.4029 - y2_output_loss: 1.4653 - y1_output_root_mean_squared_error: 0.6348 - y2_output_root_mean_squared_error: 1.2105 - val_loss: 2.0262 - val_y1_output_loss: 0.4275 - val_y2_output_loss: 1.5987 - val_y1_output_root_mean_squared_error: 0.6538 - val_y2_output_root_mean_squared_error: 1.2644\n",
      "Epoch 135/500\n",
      "62/62 [==============================] - 0s 2ms/step - loss: 1.9361 - y1_output_loss: 0.4166 - y2_output_loss: 1.5195 - y1_output_root_mean_squared_error: 0.6454 - y2_output_root_mean_squared_error: 1.2327 - val_loss: 4.2118 - val_y1_output_loss: 0.6165 - val_y2_output_loss: 3.5952 - val_y1_output_root_mean_squared_error: 0.7852 - val_y2_output_root_mean_squared_error: 1.8961\n",
      "Epoch 136/500\n",
      "62/62 [==============================] - 0s 2ms/step - loss: 2.2224 - y1_output_loss: 0.3945 - y2_output_loss: 1.8279 - y1_output_root_mean_squared_error: 0.6281 - y2_output_root_mean_squared_error: 1.3520 - val_loss: 2.0679 - val_y1_output_loss: 0.2926 - val_y2_output_loss: 1.7753 - val_y1_output_root_mean_squared_error: 0.5410 - val_y2_output_root_mean_squared_error: 1.3324\n",
      "Epoch 137/500\n",
      "62/62 [==============================] - 0s 2ms/step - loss: 1.8944 - y1_output_loss: 0.3895 - y2_output_loss: 1.5048 - y1_output_root_mean_squared_error: 0.6241 - y2_output_root_mean_squared_error: 1.2267 - val_loss: 1.8554 - val_y1_output_loss: 0.3099 - val_y2_output_loss: 1.5455 - val_y1_output_root_mean_squared_error: 0.5567 - val_y2_output_root_mean_squared_error: 1.2432\n",
      "Epoch 138/500\n",
      "62/62 [==============================] - 0s 2ms/step - loss: 1.6928 - y1_output_loss: 0.3566 - y2_output_loss: 1.3362 - y1_output_root_mean_squared_error: 0.5972 - y2_output_root_mean_squared_error: 1.1559 - val_loss: 5.0050 - val_y1_output_loss: 0.3921 - val_y2_output_loss: 4.6129 - val_y1_output_root_mean_squared_error: 0.6262 - val_y2_output_root_mean_squared_error: 2.1478\n",
      "Epoch 139/500\n",
      "62/62 [==============================] - 0s 2ms/step - loss: 1.6521 - y1_output_loss: 0.3264 - y2_output_loss: 1.3257 - y1_output_root_mean_squared_error: 0.5713 - y2_output_root_mean_squared_error: 1.1514 - val_loss: 1.9081 - val_y1_output_loss: 0.3125 - val_y2_output_loss: 1.5955 - val_y1_output_root_mean_squared_error: 0.5590 - val_y2_output_root_mean_squared_error: 1.2631\n",
      "Epoch 140/500\n",
      "62/62 [==============================] - 0s 2ms/step - loss: 3.5467 - y1_output_loss: 0.9160 - y2_output_loss: 2.6307 - y1_output_root_mean_squared_error: 0.9571 - y2_output_root_mean_squared_error: 1.6219 - val_loss: 1.8794 - val_y1_output_loss: 0.2753 - val_y2_output_loss: 1.6041 - val_y1_output_root_mean_squared_error: 0.5247 - val_y2_output_root_mean_squared_error: 1.2665\n",
      "Epoch 141/500\n",
      "62/62 [==============================] - 0s 1ms/step - loss: 1.7065 - y1_output_loss: 0.3241 - y2_output_loss: 1.3824 - y1_output_root_mean_squared_error: 0.5693 - y2_output_root_mean_squared_error: 1.1758 - val_loss: 2.0257 - val_y1_output_loss: 0.3435 - val_y2_output_loss: 1.6822 - val_y1_output_root_mean_squared_error: 0.5861 - val_y2_output_root_mean_squared_error: 1.2970\n",
      "Epoch 142/500\n",
      "62/62 [==============================] - 0s 1ms/step - loss: 2.3057 - y1_output_loss: 0.4217 - y2_output_loss: 1.8840 - y1_output_root_mean_squared_error: 0.6494 - y2_output_root_mean_squared_error: 1.3726 - val_loss: 2.4444 - val_y1_output_loss: 0.3041 - val_y2_output_loss: 2.1404 - val_y1_output_root_mean_squared_error: 0.5514 - val_y2_output_root_mean_squared_error: 1.4630\n",
      "Epoch 143/500\n",
      "62/62 [==============================] - 0s 2ms/step - loss: 1.9634 - y1_output_loss: 0.3652 - y2_output_loss: 1.5982 - y1_output_root_mean_squared_error: 0.6043 - y2_output_root_mean_squared_error: 1.2642 - val_loss: 11.8535 - val_y1_output_loss: 1.3723 - val_y2_output_loss: 10.4811 - val_y1_output_root_mean_squared_error: 1.1715 - val_y2_output_root_mean_squared_error: 3.2375\n",
      "Epoch 144/500\n",
      "62/62 [==============================] - 0s 2ms/step - loss: 1.7434 - y1_output_loss: 0.3795 - y2_output_loss: 1.3640 - y1_output_root_mean_squared_error: 0.6160 - y2_output_root_mean_squared_error: 1.1679 - val_loss: 2.3141 - val_y1_output_loss: 0.5681 - val_y2_output_loss: 1.7460 - val_y1_output_root_mean_squared_error: 0.7537 - val_y2_output_root_mean_squared_error: 1.3214\n",
      "Epoch 145/500\n",
      "62/62 [==============================] - 0s 2ms/step - loss: 2.0923 - y1_output_loss: 0.4634 - y2_output_loss: 1.6289 - y1_output_root_mean_squared_error: 0.6808 - y2_output_root_mean_squared_error: 1.2763 - val_loss: 1.7283 - val_y1_output_loss: 0.2710 - val_y2_output_loss: 1.4572 - val_y1_output_root_mean_squared_error: 0.5206 - val_y2_output_root_mean_squared_error: 1.2072\n",
      "Epoch 146/500\n",
      "62/62 [==============================] - 0s 2ms/step - loss: 1.5229 - y1_output_loss: 0.3284 - y2_output_loss: 1.1944 - y1_output_root_mean_squared_error: 0.5731 - y2_output_root_mean_squared_error: 1.0929 - val_loss: 3.1957 - val_y1_output_loss: 0.3243 - val_y2_output_loss: 2.8714 - val_y1_output_root_mean_squared_error: 0.5695 - val_y2_output_root_mean_squared_error: 1.6945\n",
      "Epoch 147/500\n",
      "62/62 [==============================] - 0s 2ms/step - loss: 1.5328 - y1_output_loss: 0.3401 - y2_output_loss: 1.1927 - y1_output_root_mean_squared_error: 0.5832 - y2_output_root_mean_squared_error: 1.0921 - val_loss: 1.6734 - val_y1_output_loss: 0.2817 - val_y2_output_loss: 1.3917 - val_y1_output_root_mean_squared_error: 0.5308 - val_y2_output_root_mean_squared_error: 1.1797\n",
      "Epoch 148/500\n",
      "62/62 [==============================] - 0s 1ms/step - loss: 2.0716 - y1_output_loss: 0.4274 - y2_output_loss: 1.6441 - y1_output_root_mean_squared_error: 0.6538 - y2_output_root_mean_squared_error: 1.2822 - val_loss: 1.6932 - val_y1_output_loss: 0.3111 - val_y2_output_loss: 1.3821 - val_y1_output_root_mean_squared_error: 0.5577 - val_y2_output_root_mean_squared_error: 1.1756\n",
      "Epoch 149/500\n",
      "62/62 [==============================] - 0s 2ms/step - loss: 1.8538 - y1_output_loss: 0.3739 - y2_output_loss: 1.4799 - y1_output_root_mean_squared_error: 0.6115 - y2_output_root_mean_squared_error: 1.2165 - val_loss: 2.4863 - val_y1_output_loss: 0.3564 - val_y2_output_loss: 2.1299 - val_y1_output_root_mean_squared_error: 0.5970 - val_y2_output_root_mean_squared_error: 1.4594\n",
      "Epoch 150/500\n",
      "62/62 [==============================] - 0s 1ms/step - loss: 1.6187 - y1_output_loss: 0.3321 - y2_output_loss: 1.2866 - y1_output_root_mean_squared_error: 0.5763 - y2_output_root_mean_squared_error: 1.1343 - val_loss: 1.9653 - val_y1_output_loss: 0.4452 - val_y2_output_loss: 1.5201 - val_y1_output_root_mean_squared_error: 0.6672 - val_y2_output_root_mean_squared_error: 1.2329\n",
      "Epoch 151/500\n",
      "62/62 [==============================] - 0s 2ms/step - loss: 1.6536 - y1_output_loss: 0.3512 - y2_output_loss: 1.3023 - y1_output_root_mean_squared_error: 0.5926 - y2_output_root_mean_squared_error: 1.1412 - val_loss: 2.2068 - val_y1_output_loss: 0.4389 - val_y2_output_loss: 1.7679 - val_y1_output_root_mean_squared_error: 0.6625 - val_y2_output_root_mean_squared_error: 1.3296\n",
      "Epoch 152/500\n",
      "62/62 [==============================] - 0s 2ms/step - loss: 1.9351 - y1_output_loss: 0.3978 - y2_output_loss: 1.5372 - y1_output_root_mean_squared_error: 0.6307 - y2_output_root_mean_squared_error: 1.2399 - val_loss: 4.3462 - val_y1_output_loss: 0.3542 - val_y2_output_loss: 3.9920 - val_y1_output_root_mean_squared_error: 0.5951 - val_y2_output_root_mean_squared_error: 1.9980\n",
      "Epoch 153/500\n",
      "62/62 [==============================] - 0s 2ms/step - loss: 2.6818 - y1_output_loss: 0.5537 - y2_output_loss: 2.1280 - y1_output_root_mean_squared_error: 0.7441 - y2_output_root_mean_squared_error: 1.4588 - val_loss: 3.7945 - val_y1_output_loss: 0.3860 - val_y2_output_loss: 3.4084 - val_y1_output_root_mean_squared_error: 0.6213 - val_y2_output_root_mean_squared_error: 1.8462\n",
      "Epoch 154/500\n",
      "62/62 [==============================] - 0s 2ms/step - loss: 1.7077 - y1_output_loss: 0.3498 - y2_output_loss: 1.3579 - y1_output_root_mean_squared_error: 0.5915 - y2_output_root_mean_squared_error: 1.1653 - val_loss: 1.7595 - val_y1_output_loss: 0.3029 - val_y2_output_loss: 1.4566 - val_y1_output_root_mean_squared_error: 0.5504 - val_y2_output_root_mean_squared_error: 1.2069\n",
      "Epoch 155/500\n",
      "62/62 [==============================] - 0s 2ms/step - loss: 1.5449 - y1_output_loss: 0.3367 - y2_output_loss: 1.2083 - y1_output_root_mean_squared_error: 0.5802 - y2_output_root_mean_squared_error: 1.0992 - val_loss: 1.6850 - val_y1_output_loss: 0.2847 - val_y2_output_loss: 1.4003 - val_y1_output_root_mean_squared_error: 0.5336 - val_y2_output_root_mean_squared_error: 1.1833\n",
      "Epoch 156/500\n",
      "62/62 [==============================] - 0s 1ms/step - loss: 1.4078 - y1_output_loss: 0.3199 - y2_output_loss: 1.0879 - y1_output_root_mean_squared_error: 0.5656 - y2_output_root_mean_squared_error: 1.0430 - val_loss: 18.4744 - val_y1_output_loss: 1.3872 - val_y2_output_loss: 17.0873 - val_y1_output_root_mean_squared_error: 1.1778 - val_y2_output_root_mean_squared_error: 4.1337\n",
      "Epoch 157/500\n",
      "62/62 [==============================] - 0s 2ms/step - loss: 1.9070 - y1_output_loss: 0.3618 - y2_output_loss: 1.5452 - y1_output_root_mean_squared_error: 0.6015 - y2_output_root_mean_squared_error: 1.2431 - val_loss: 2.2013 - val_y1_output_loss: 0.3440 - val_y2_output_loss: 1.8573 - val_y1_output_root_mean_squared_error: 0.5865 - val_y2_output_root_mean_squared_error: 1.3628\n",
      "Epoch 158/500\n",
      "62/62 [==============================] - 0s 2ms/step - loss: 2.0200 - y1_output_loss: 0.4160 - y2_output_loss: 1.6039 - y1_output_root_mean_squared_error: 0.6450 - y2_output_root_mean_squared_error: 1.2665 - val_loss: 1.9773 - val_y1_output_loss: 0.2896 - val_y2_output_loss: 1.6878 - val_y1_output_root_mean_squared_error: 0.5381 - val_y2_output_root_mean_squared_error: 1.2991\n",
      "Epoch 159/500\n",
      "62/62 [==============================] - 0s 2ms/step - loss: 2.0354 - y1_output_loss: 0.4224 - y2_output_loss: 1.6130 - y1_output_root_mean_squared_error: 0.6499 - y2_output_root_mean_squared_error: 1.2700 - val_loss: 1.5424 - val_y1_output_loss: 0.2667 - val_y2_output_loss: 1.2757 - val_y1_output_root_mean_squared_error: 0.5165 - val_y2_output_root_mean_squared_error: 1.1294\n",
      "Epoch 160/500\n",
      "62/62 [==============================] - 0s 1ms/step - loss: 1.3760 - y1_output_loss: 0.2982 - y2_output_loss: 1.0778 - y1_output_root_mean_squared_error: 0.5461 - y2_output_root_mean_squared_error: 1.0382 - val_loss: 2.0910 - val_y1_output_loss: 0.5481 - val_y2_output_loss: 1.5428 - val_y1_output_root_mean_squared_error: 0.7403 - val_y2_output_root_mean_squared_error: 1.2421\n",
      "Epoch 161/500\n",
      "62/62 [==============================] - 0s 2ms/step - loss: 1.4843 - y1_output_loss: 0.2749 - y2_output_loss: 1.2094 - y1_output_root_mean_squared_error: 0.5243 - y2_output_root_mean_squared_error: 1.0997 - val_loss: 1.7690 - val_y1_output_loss: 0.4087 - val_y2_output_loss: 1.3603 - val_y1_output_root_mean_squared_error: 0.6393 - val_y2_output_root_mean_squared_error: 1.1663\n",
      "Epoch 162/500\n",
      "62/62 [==============================] - 0s 1ms/step - loss: 1.7185 - y1_output_loss: 0.3861 - y2_output_loss: 1.3324 - y1_output_root_mean_squared_error: 0.6214 - y2_output_root_mean_squared_error: 1.1543 - val_loss: 1.9131 - val_y1_output_loss: 0.3782 - val_y2_output_loss: 1.5350 - val_y1_output_root_mean_squared_error: 0.6150 - val_y2_output_root_mean_squared_error: 1.2389\n",
      "Epoch 163/500\n",
      "62/62 [==============================] - 0s 2ms/step - loss: 1.5347 - y1_output_loss: 0.2917 - y2_output_loss: 1.2431 - y1_output_root_mean_squared_error: 0.5400 - y2_output_root_mean_squared_error: 1.1149 - val_loss: 2.7028 - val_y1_output_loss: 0.4230 - val_y2_output_loss: 2.2798 - val_y1_output_root_mean_squared_error: 0.6504 - val_y2_output_root_mean_squared_error: 1.5099\n",
      "Epoch 164/500\n",
      "62/62 [==============================] - 0s 2ms/step - loss: 1.4889 - y1_output_loss: 0.3082 - y2_output_loss: 1.1808 - y1_output_root_mean_squared_error: 0.5551 - y2_output_root_mean_squared_error: 1.0866 - val_loss: 2.1110 - val_y1_output_loss: 0.6048 - val_y2_output_loss: 1.5062 - val_y1_output_root_mean_squared_error: 0.7777 - val_y2_output_root_mean_squared_error: 1.2273\n",
      "Epoch 165/500\n",
      "62/62 [==============================] - 0s 2ms/step - loss: 2.0796 - y1_output_loss: 0.4783 - y2_output_loss: 1.6013 - y1_output_root_mean_squared_error: 0.6916 - y2_output_root_mean_squared_error: 1.2654 - val_loss: 1.9784 - val_y1_output_loss: 0.5853 - val_y2_output_loss: 1.3931 - val_y1_output_root_mean_squared_error: 0.7650 - val_y2_output_root_mean_squared_error: 1.1803\n",
      "Epoch 166/500\n",
      "62/62 [==============================] - 0s 2ms/step - loss: 1.3453 - y1_output_loss: 0.2643 - y2_output_loss: 1.0811 - y1_output_root_mean_squared_error: 0.5141 - y2_output_root_mean_squared_error: 1.0397 - val_loss: 2.9356 - val_y1_output_loss: 0.4390 - val_y2_output_loss: 2.4967 - val_y1_output_root_mean_squared_error: 0.6626 - val_y2_output_root_mean_squared_error: 1.5801\n",
      "Epoch 167/500\n",
      "62/62 [==============================] - 0s 2ms/step - loss: 1.8003 - y1_output_loss: 0.3582 - y2_output_loss: 1.4421 - y1_output_root_mean_squared_error: 0.5985 - y2_output_root_mean_squared_error: 1.2009 - val_loss: 1.6821 - val_y1_output_loss: 0.2674 - val_y2_output_loss: 1.4147 - val_y1_output_root_mean_squared_error: 0.5171 - val_y2_output_root_mean_squared_error: 1.1894\n",
      "Epoch 168/500\n",
      "62/62 [==============================] - 0s 2ms/step - loss: 1.5079 - y1_output_loss: 0.3240 - y2_output_loss: 1.1839 - y1_output_root_mean_squared_error: 0.5692 - y2_output_root_mean_squared_error: 1.0881 - val_loss: 3.0862 - val_y1_output_loss: 0.2233 - val_y2_output_loss: 2.8629 - val_y1_output_root_mean_squared_error: 0.4725 - val_y2_output_root_mean_squared_error: 1.6920\n",
      "Epoch 169/500\n",
      "62/62 [==============================] - 0s 2ms/step - loss: 1.4119 - y1_output_loss: 0.2818 - y2_output_loss: 1.1301 - y1_output_root_mean_squared_error: 0.5309 - y2_output_root_mean_squared_error: 1.0630 - val_loss: 3.2720 - val_y1_output_loss: 0.9693 - val_y2_output_loss: 2.3027 - val_y1_output_root_mean_squared_error: 0.9845 - val_y2_output_root_mean_squared_error: 1.5175\n",
      "Epoch 170/500\n",
      "62/62 [==============================] - 0s 2ms/step - loss: 1.7154 - y1_output_loss: 0.4210 - y2_output_loss: 1.2944 - y1_output_root_mean_squared_error: 0.6488 - y2_output_root_mean_squared_error: 1.1377 - val_loss: 1.8422 - val_y1_output_loss: 0.3560 - val_y2_output_loss: 1.4862 - val_y1_output_root_mean_squared_error: 0.5967 - val_y2_output_root_mean_squared_error: 1.2191\n",
      "Epoch 171/500\n",
      "62/62 [==============================] - 0s 2ms/step - loss: 1.6662 - y1_output_loss: 0.3874 - y2_output_loss: 1.2788 - y1_output_root_mean_squared_error: 0.6224 - y2_output_root_mean_squared_error: 1.1308 - val_loss: 1.7799 - val_y1_output_loss: 0.4862 - val_y2_output_loss: 1.2937 - val_y1_output_root_mean_squared_error: 0.6973 - val_y2_output_root_mean_squared_error: 1.1374\n",
      "Epoch 172/500\n",
      "62/62 [==============================] - 0s 3ms/step - loss: 1.5106 - y1_output_loss: 0.3264 - y2_output_loss: 1.1842 - y1_output_root_mean_squared_error: 0.5713 - y2_output_root_mean_squared_error: 1.0882 - val_loss: 1.5742 - val_y1_output_loss: 0.2825 - val_y2_output_loss: 1.2917 - val_y1_output_root_mean_squared_error: 0.5315 - val_y2_output_root_mean_squared_error: 1.1365\n",
      "Epoch 173/500\n",
      "62/62 [==============================] - 0s 2ms/step - loss: 1.5006 - y1_output_loss: 0.3018 - y2_output_loss: 1.1987 - y1_output_root_mean_squared_error: 0.5494 - y2_output_root_mean_squared_error: 1.0949 - val_loss: 2.0524 - val_y1_output_loss: 0.4918 - val_y2_output_loss: 1.5606 - val_y1_output_root_mean_squared_error: 0.7013 - val_y2_output_root_mean_squared_error: 1.2493\n",
      "Epoch 174/500\n",
      "62/62 [==============================] - 0s 2ms/step - loss: 1.8144 - y1_output_loss: 0.3234 - y2_output_loss: 1.4910 - y1_output_root_mean_squared_error: 0.5687 - y2_output_root_mean_squared_error: 1.2211 - val_loss: 1.9251 - val_y1_output_loss: 0.2830 - val_y2_output_loss: 1.6421 - val_y1_output_root_mean_squared_error: 0.5320 - val_y2_output_root_mean_squared_error: 1.2814\n",
      "Epoch 175/500\n",
      "62/62 [==============================] - 0s 4ms/step - loss: 1.9826 - y1_output_loss: 0.3353 - y2_output_loss: 1.6474 - y1_output_root_mean_squared_error: 0.5790 - y2_output_root_mean_squared_error: 1.2835 - val_loss: 1.7742 - val_y1_output_loss: 0.3787 - val_y2_output_loss: 1.3955 - val_y1_output_root_mean_squared_error: 0.6154 - val_y2_output_root_mean_squared_error: 1.1813\n",
      "Epoch 176/500\n",
      "62/62 [==============================] - 0s 2ms/step - loss: 1.8063 - y1_output_loss: 0.3365 - y2_output_loss: 1.4697 - y1_output_root_mean_squared_error: 0.5801 - y2_output_root_mean_squared_error: 1.2123 - val_loss: 1.7154 - val_y1_output_loss: 0.2820 - val_y2_output_loss: 1.4334 - val_y1_output_root_mean_squared_error: 0.5311 - val_y2_output_root_mean_squared_error: 1.1973\n",
      "Epoch 177/500\n",
      "62/62 [==============================] - 0s 2ms/step - loss: 1.3009 - y1_output_loss: 0.2387 - y2_output_loss: 1.0622 - y1_output_root_mean_squared_error: 0.4886 - y2_output_root_mean_squared_error: 1.0306 - val_loss: 1.4336 - val_y1_output_loss: 0.2244 - val_y2_output_loss: 1.2092 - val_y1_output_root_mean_squared_error: 0.4737 - val_y2_output_root_mean_squared_error: 1.0996\n",
      "Epoch 178/500\n",
      "62/62 [==============================] - 0s 3ms/step - loss: 1.8867 - y1_output_loss: 0.3492 - y2_output_loss: 1.5375 - y1_output_root_mean_squared_error: 0.5909 - y2_output_root_mean_squared_error: 1.2400 - val_loss: 1.4462 - val_y1_output_loss: 0.2521 - val_y2_output_loss: 1.1941 - val_y1_output_root_mean_squared_error: 0.5021 - val_y2_output_root_mean_squared_error: 1.0927\n",
      "Epoch 179/500\n",
      "62/62 [==============================] - 0s 2ms/step - loss: 1.2863 - y1_output_loss: 0.2704 - y2_output_loss: 1.0160 - y1_output_root_mean_squared_error: 0.5200 - y2_output_root_mean_squared_error: 1.0080 - val_loss: 3.0079 - val_y1_output_loss: 0.7307 - val_y2_output_loss: 2.2772 - val_y1_output_root_mean_squared_error: 0.8548 - val_y2_output_root_mean_squared_error: 1.5090\n",
      "Epoch 180/500\n",
      "62/62 [==============================] - 0s 2ms/step - loss: 1.6415 - y1_output_loss: 0.3420 - y2_output_loss: 1.2995 - y1_output_root_mean_squared_error: 0.5848 - y2_output_root_mean_squared_error: 1.1400 - val_loss: 1.7869 - val_y1_output_loss: 0.3538 - val_y2_output_loss: 1.4331 - val_y1_output_root_mean_squared_error: 0.5948 - val_y2_output_root_mean_squared_error: 1.1971\n",
      "Epoch 181/500\n",
      "62/62 [==============================] - 0s 2ms/step - loss: 1.3760 - y1_output_loss: 0.2827 - y2_output_loss: 1.0933 - y1_output_root_mean_squared_error: 0.5317 - y2_output_root_mean_squared_error: 1.0456 - val_loss: 1.6308 - val_y1_output_loss: 0.2644 - val_y2_output_loss: 1.3665 - val_y1_output_root_mean_squared_error: 0.5142 - val_y2_output_root_mean_squared_error: 1.1690\n",
      "Epoch 182/500\n",
      "62/62 [==============================] - 0s 2ms/step - loss: 1.6416 - y1_output_loss: 0.3697 - y2_output_loss: 1.2719 - y1_output_root_mean_squared_error: 0.6080 - y2_output_root_mean_squared_error: 1.1278 - val_loss: 2.2909 - val_y1_output_loss: 0.4168 - val_y2_output_loss: 1.8742 - val_y1_output_root_mean_squared_error: 0.6456 - val_y2_output_root_mean_squared_error: 1.3690\n",
      "Epoch 183/500\n",
      "62/62 [==============================] - 0s 2ms/step - loss: 1.8339 - y1_output_loss: 0.4168 - y2_output_loss: 1.4171 - y1_output_root_mean_squared_error: 0.6456 - y2_output_root_mean_squared_error: 1.1904 - val_loss: 1.4055 - val_y1_output_loss: 0.2474 - val_y2_output_loss: 1.1581 - val_y1_output_root_mean_squared_error: 0.4974 - val_y2_output_root_mean_squared_error: 1.0761\n",
      "Epoch 184/500\n",
      "62/62 [==============================] - 0s 2ms/step - loss: 1.2066 - y1_output_loss: 0.2219 - y2_output_loss: 0.9847 - y1_output_root_mean_squared_error: 0.4711 - y2_output_root_mean_squared_error: 0.9923 - val_loss: 1.5667 - val_y1_output_loss: 0.2277 - val_y2_output_loss: 1.3389 - val_y1_output_root_mean_squared_error: 0.4772 - val_y2_output_root_mean_squared_error: 1.1571\n",
      "Epoch 185/500\n",
      "62/62 [==============================] - 0s 2ms/step - loss: 1.2739 - y1_output_loss: 0.2655 - y2_output_loss: 1.0084 - y1_output_root_mean_squared_error: 0.5153 - y2_output_root_mean_squared_error: 1.0042 - val_loss: 2.1884 - val_y1_output_loss: 0.5660 - val_y2_output_loss: 1.6223 - val_y1_output_root_mean_squared_error: 0.7524 - val_y2_output_root_mean_squared_error: 1.2737\n",
      "Epoch 186/500\n",
      "62/62 [==============================] - 0s 2ms/step - loss: 1.5538 - y1_output_loss: 0.3194 - y2_output_loss: 1.2344 - y1_output_root_mean_squared_error: 0.5652 - y2_output_root_mean_squared_error: 1.1110 - val_loss: 2.2092 - val_y1_output_loss: 0.6620 - val_y2_output_loss: 1.5472 - val_y1_output_root_mean_squared_error: 0.8136 - val_y2_output_root_mean_squared_error: 1.2439\n",
      "Epoch 187/500\n",
      "62/62 [==============================] - 0s 2ms/step - loss: 1.3456 - y1_output_loss: 0.3187 - y2_output_loss: 1.0269 - y1_output_root_mean_squared_error: 0.5645 - y2_output_root_mean_squared_error: 1.0133 - val_loss: 1.6820 - val_y1_output_loss: 0.3805 - val_y2_output_loss: 1.3014 - val_y1_output_root_mean_squared_error: 0.6169 - val_y2_output_root_mean_squared_error: 1.1408\n",
      "Epoch 188/500\n",
      "62/62 [==============================] - 0s 2ms/step - loss: 1.1122 - y1_output_loss: 0.2356 - y2_output_loss: 0.8767 - y1_output_root_mean_squared_error: 0.4854 - y2_output_root_mean_squared_error: 0.9363 - val_loss: 1.5219 - val_y1_output_loss: 0.3008 - val_y2_output_loss: 1.2211 - val_y1_output_root_mean_squared_error: 0.5484 - val_y2_output_root_mean_squared_error: 1.1050\n",
      "Epoch 189/500\n",
      "62/62 [==============================] - 0s 4ms/step - loss: 1.0806 - y1_output_loss: 0.2232 - y2_output_loss: 0.8575 - y1_output_root_mean_squared_error: 0.4724 - y2_output_root_mean_squared_error: 0.9260 - val_loss: 2.5121 - val_y1_output_loss: 0.3484 - val_y2_output_loss: 2.1637 - val_y1_output_root_mean_squared_error: 0.5902 - val_y2_output_root_mean_squared_error: 1.4710\n",
      "Epoch 190/500\n",
      "62/62 [==============================] - 0s 4ms/step - loss: 1.6902 - y1_output_loss: 0.3827 - y2_output_loss: 1.3075 - y1_output_root_mean_squared_error: 0.6186 - y2_output_root_mean_squared_error: 1.1435 - val_loss: 1.7391 - val_y1_output_loss: 0.2666 - val_y2_output_loss: 1.4725 - val_y1_output_root_mean_squared_error: 0.5163 - val_y2_output_root_mean_squared_error: 1.2135\n",
      "Epoch 191/500\n",
      "62/62 [==============================] - 0s 3ms/step - loss: 1.1841 - y1_output_loss: 0.2440 - y2_output_loss: 0.9401 - y1_output_root_mean_squared_error: 0.4940 - y2_output_root_mean_squared_error: 0.9696 - val_loss: 1.3706 - val_y1_output_loss: 0.2538 - val_y2_output_loss: 1.1168 - val_y1_output_root_mean_squared_error: 0.5038 - val_y2_output_root_mean_squared_error: 1.0568\n",
      "Epoch 192/500\n",
      "62/62 [==============================] - 0s 3ms/step - loss: 1.1639 - y1_output_loss: 0.2084 - y2_output_loss: 0.9555 - y1_output_root_mean_squared_error: 0.4565 - y2_output_root_mean_squared_error: 0.9775 - val_loss: 1.9172 - val_y1_output_loss: 0.2600 - val_y2_output_loss: 1.6572 - val_y1_output_root_mean_squared_error: 0.5099 - val_y2_output_root_mean_squared_error: 1.2873\n",
      "Epoch 193/500\n",
      "62/62 [==============================] - 0s 4ms/step - loss: 1.3479 - y1_output_loss: 0.2474 - y2_output_loss: 1.1005 - y1_output_root_mean_squared_error: 0.4974 - y2_output_root_mean_squared_error: 1.0491 - val_loss: 1.2840 - val_y1_output_loss: 0.2303 - val_y2_output_loss: 1.0537 - val_y1_output_root_mean_squared_error: 0.4799 - val_y2_output_root_mean_squared_error: 1.0265\n",
      "Epoch 194/500\n",
      "62/62 [==============================] - 0s 3ms/step - loss: 1.0522 - y1_output_loss: 0.2165 - y2_output_loss: 0.8357 - y1_output_root_mean_squared_error: 0.4653 - y2_output_root_mean_squared_error: 0.9141 - val_loss: 2.1026 - val_y1_output_loss: 0.3020 - val_y2_output_loss: 1.8006 - val_y1_output_root_mean_squared_error: 0.5495 - val_y2_output_root_mean_squared_error: 1.3419\n",
      "Epoch 195/500\n",
      "62/62 [==============================] - 0s 3ms/step - loss: 2.1047 - y1_output_loss: 0.4265 - y2_output_loss: 1.6782 - y1_output_root_mean_squared_error: 0.6531 - y2_output_root_mean_squared_error: 1.2954 - val_loss: 1.4210 - val_y1_output_loss: 0.2571 - val_y2_output_loss: 1.1639 - val_y1_output_root_mean_squared_error: 0.5071 - val_y2_output_root_mean_squared_error: 1.0789\n",
      "Epoch 196/500\n",
      "62/62 [==============================] - 0s 4ms/step - loss: 1.2718 - y1_output_loss: 0.2813 - y2_output_loss: 0.9905 - y1_output_root_mean_squared_error: 0.5304 - y2_output_root_mean_squared_error: 0.9953 - val_loss: 1.5226 - val_y1_output_loss: 0.2968 - val_y2_output_loss: 1.2258 - val_y1_output_root_mean_squared_error: 0.5448 - val_y2_output_root_mean_squared_error: 1.1072\n",
      "Epoch 197/500\n",
      "62/62 [==============================] - 0s 4ms/step - loss: 1.0618 - y1_output_loss: 0.2287 - y2_output_loss: 0.8331 - y1_output_root_mean_squared_error: 0.4782 - y2_output_root_mean_squared_error: 0.9127 - val_loss: 2.2386 - val_y1_output_loss: 0.4975 - val_y2_output_loss: 1.7412 - val_y1_output_root_mean_squared_error: 0.7053 - val_y2_output_root_mean_squared_error: 1.3195\n",
      "Epoch 198/500\n",
      "62/62 [==============================] - 0s 4ms/step - loss: 1.1245 - y1_output_loss: 0.2408 - y2_output_loss: 0.8836 - y1_output_root_mean_squared_error: 0.4907 - y2_output_root_mean_squared_error: 0.9400 - val_loss: 1.5066 - val_y1_output_loss: 0.4211 - val_y2_output_loss: 1.0855 - val_y1_output_root_mean_squared_error: 0.6489 - val_y2_output_root_mean_squared_error: 1.0419\n",
      "Epoch 199/500\n",
      "62/62 [==============================] - 0s 3ms/step - loss: 2.6238 - y1_output_loss: 0.6024 - y2_output_loss: 2.0215 - y1_output_root_mean_squared_error: 0.7761 - y2_output_root_mean_squared_error: 1.4218 - val_loss: 1.4006 - val_y1_output_loss: 0.2626 - val_y2_output_loss: 1.1380 - val_y1_output_root_mean_squared_error: 0.5124 - val_y2_output_root_mean_squared_error: 1.0668\n",
      "Epoch 200/500\n",
      "62/62 [==============================] - 0s 3ms/step - loss: 1.0996 - y1_output_loss: 0.2406 - y2_output_loss: 0.8590 - y1_output_root_mean_squared_error: 0.4906 - y2_output_root_mean_squared_error: 0.9268 - val_loss: 1.5388 - val_y1_output_loss: 0.2449 - val_y2_output_loss: 1.2939 - val_y1_output_root_mean_squared_error: 0.4949 - val_y2_output_root_mean_squared_error: 1.1375\n",
      "Epoch 201/500\n",
      "62/62 [==============================] - 0s 3ms/step - loss: 1.1233 - y1_output_loss: 0.2273 - y2_output_loss: 0.8960 - y1_output_root_mean_squared_error: 0.4767 - y2_output_root_mean_squared_error: 0.9466 - val_loss: 1.5588 - val_y1_output_loss: 0.3502 - val_y2_output_loss: 1.2087 - val_y1_output_root_mean_squared_error: 0.5917 - val_y2_output_root_mean_squared_error: 1.0994\n",
      "Epoch 202/500\n",
      "62/62 [==============================] - 0s 4ms/step - loss: 1.4391 - y1_output_loss: 0.3167 - y2_output_loss: 1.1224 - y1_output_root_mean_squared_error: 0.5628 - y2_output_root_mean_squared_error: 1.0594 - val_loss: 3.8057 - val_y1_output_loss: 0.9385 - val_y2_output_loss: 2.8672 - val_y1_output_root_mean_squared_error: 0.9687 - val_y2_output_root_mean_squared_error: 1.6933\n",
      "Epoch 203/500\n",
      "62/62 [==============================] - 0s 4ms/step - loss: 1.4637 - y1_output_loss: 0.2878 - y2_output_loss: 1.1759 - y1_output_root_mean_squared_error: 0.5365 - y2_output_root_mean_squared_error: 1.0844 - val_loss: 1.6197 - val_y1_output_loss: 0.4017 - val_y2_output_loss: 1.2180 - val_y1_output_root_mean_squared_error: 0.6338 - val_y2_output_root_mean_squared_error: 1.1036\n",
      "Epoch 204/500\n",
      "62/62 [==============================] - 1s 9ms/step - loss: 1.3538 - y1_output_loss: 0.2892 - y2_output_loss: 1.0647 - y1_output_root_mean_squared_error: 0.5377 - y2_output_root_mean_squared_error: 1.0318 - val_loss: 1.4224 - val_y1_output_loss: 0.2607 - val_y2_output_loss: 1.1617 - val_y1_output_root_mean_squared_error: 0.5106 - val_y2_output_root_mean_squared_error: 1.0778\n",
      "Epoch 205/500\n",
      "62/62 [==============================] - 0s 5ms/step - loss: 1.0974 - y1_output_loss: 0.2327 - y2_output_loss: 0.8647 - y1_output_root_mean_squared_error: 0.4824 - y2_output_root_mean_squared_error: 0.9299 - val_loss: 1.1828 - val_y1_output_loss: 0.1990 - val_y2_output_loss: 0.9837 - val_y1_output_root_mean_squared_error: 0.4461 - val_y2_output_root_mean_squared_error: 0.9918\n",
      "Epoch 206/500\n",
      "62/62 [==============================] - 0s 4ms/step - loss: 1.4964 - y1_output_loss: 0.2871 - y2_output_loss: 1.2094 - y1_output_root_mean_squared_error: 0.5358 - y2_output_root_mean_squared_error: 1.0997 - val_loss: 1.1966 - val_y1_output_loss: 0.2411 - val_y2_output_loss: 0.9555 - val_y1_output_root_mean_squared_error: 0.4910 - val_y2_output_root_mean_squared_error: 0.9775\n",
      "Epoch 207/500\n",
      "62/62 [==============================] - 0s 4ms/step - loss: 1.9307 - y1_output_loss: 0.4233 - y2_output_loss: 1.5074 - y1_output_root_mean_squared_error: 0.6506 - y2_output_root_mean_squared_error: 1.2278 - val_loss: 2.1163 - val_y1_output_loss: 0.5689 - val_y2_output_loss: 1.5474 - val_y1_output_root_mean_squared_error: 0.7543 - val_y2_output_root_mean_squared_error: 1.2439\n",
      "Epoch 208/500\n",
      "62/62 [==============================] - 0s 4ms/step - loss: 1.2085 - y1_output_loss: 0.2559 - y2_output_loss: 0.9526 - y1_output_root_mean_squared_error: 0.5058 - y2_output_root_mean_squared_error: 0.9760 - val_loss: 1.2141 - val_y1_output_loss: 0.2111 - val_y2_output_loss: 1.0030 - val_y1_output_root_mean_squared_error: 0.4595 - val_y2_output_root_mean_squared_error: 1.0015\n",
      "Epoch 209/500\n",
      "62/62 [==============================] - 0s 5ms/step - loss: 1.5112 - y1_output_loss: 0.3628 - y2_output_loss: 1.1485 - y1_output_root_mean_squared_error: 0.6023 - y2_output_root_mean_squared_error: 1.0717 - val_loss: 1.6289 - val_y1_output_loss: 0.3137 - val_y2_output_loss: 1.3152 - val_y1_output_root_mean_squared_error: 0.5601 - val_y2_output_root_mean_squared_error: 1.1468\n",
      "Epoch 210/500\n",
      "62/62 [==============================] - 0s 4ms/step - loss: 1.4855 - y1_output_loss: 0.2888 - y2_output_loss: 1.1967 - y1_output_root_mean_squared_error: 0.5374 - y2_output_root_mean_squared_error: 1.0939 - val_loss: 10.3363 - val_y1_output_loss: 0.9702 - val_y2_output_loss: 9.3662 - val_y1_output_root_mean_squared_error: 0.9850 - val_y2_output_root_mean_squared_error: 3.0604\n",
      "Epoch 211/500\n",
      "62/62 [==============================] - 0s 4ms/step - loss: 1.5871 - y1_output_loss: 0.3093 - y2_output_loss: 1.2779 - y1_output_root_mean_squared_error: 0.5561 - y2_output_root_mean_squared_error: 1.1304 - val_loss: 1.3516 - val_y1_output_loss: 0.2443 - val_y2_output_loss: 1.1073 - val_y1_output_root_mean_squared_error: 0.4943 - val_y2_output_root_mean_squared_error: 1.0523\n",
      "Epoch 212/500\n",
      "62/62 [==============================] - 2s 28ms/step - loss: 1.2487 - y1_output_loss: 0.2593 - y2_output_loss: 0.9894 - y1_output_root_mean_squared_error: 0.5092 - y2_output_root_mean_squared_error: 0.9947 - val_loss: 2.3851 - val_y1_output_loss: 0.6069 - val_y2_output_loss: 1.7782 - val_y1_output_root_mean_squared_error: 0.7790 - val_y2_output_root_mean_squared_error: 1.3335\n",
      "Epoch 213/500\n",
      "62/62 [==============================] - 0s 7ms/step - loss: 0.9656 - y1_output_loss: 0.1891 - y2_output_loss: 0.7764 - y1_output_root_mean_squared_error: 0.4349 - y2_output_root_mean_squared_error: 0.8812 - val_loss: 2.2939 - val_y1_output_loss: 0.2108 - val_y2_output_loss: 2.0832 - val_y1_output_root_mean_squared_error: 0.4591 - val_y2_output_root_mean_squared_error: 1.4433\n",
      "Epoch 214/500\n",
      "62/62 [==============================] - 0s 8ms/step - loss: 1.3048 - y1_output_loss: 0.2307 - y2_output_loss: 1.0741 - y1_output_root_mean_squared_error: 0.4803 - y2_output_root_mean_squared_error: 1.0364 - val_loss: 2.0872 - val_y1_output_loss: 0.6476 - val_y2_output_loss: 1.4396 - val_y1_output_root_mean_squared_error: 0.8047 - val_y2_output_root_mean_squared_error: 1.1998\n",
      "Epoch 215/500\n",
      "62/62 [==============================] - 0s 8ms/step - loss: 1.0393 - y1_output_loss: 0.2065 - y2_output_loss: 0.8329 - y1_output_root_mean_squared_error: 0.4544 - y2_output_root_mean_squared_error: 0.9126 - val_loss: 1.7592 - val_y1_output_loss: 0.3038 - val_y2_output_loss: 1.4554 - val_y1_output_root_mean_squared_error: 0.5512 - val_y2_output_root_mean_squared_error: 1.2064\n",
      "Epoch 216/500\n",
      "62/62 [==============================] - 0s 5ms/step - loss: 1.1050 - y1_output_loss: 0.2097 - y2_output_loss: 0.8953 - y1_output_root_mean_squared_error: 0.4579 - y2_output_root_mean_squared_error: 0.9462 - val_loss: 1.4019 - val_y1_output_loss: 0.3012 - val_y2_output_loss: 1.1007 - val_y1_output_root_mean_squared_error: 0.5488 - val_y2_output_root_mean_squared_error: 1.0491\n",
      "Epoch 217/500\n",
      "62/62 [==============================] - 0s 4ms/step - loss: 0.9434 - y1_output_loss: 0.2140 - y2_output_loss: 0.7294 - y1_output_root_mean_squared_error: 0.4626 - y2_output_root_mean_squared_error: 0.8540 - val_loss: 1.8202 - val_y1_output_loss: 0.3739 - val_y2_output_loss: 1.4463 - val_y1_output_root_mean_squared_error: 0.6115 - val_y2_output_root_mean_squared_error: 1.2026\n",
      "Epoch 218/500\n",
      "62/62 [==============================] - 0s 3ms/step - loss: 1.2633 - y1_output_loss: 0.2696 - y2_output_loss: 0.9937 - y1_output_root_mean_squared_error: 0.5192 - y2_output_root_mean_squared_error: 0.9968 - val_loss: 1.1424 - val_y1_output_loss: 0.2288 - val_y2_output_loss: 0.9135 - val_y1_output_root_mean_squared_error: 0.4784 - val_y2_output_root_mean_squared_error: 0.9558\n",
      "Epoch 219/500\n",
      "62/62 [==============================] - 0s 3ms/step - loss: 1.1127 - y1_output_loss: 0.2079 - y2_output_loss: 0.9048 - y1_output_root_mean_squared_error: 0.4560 - y2_output_root_mean_squared_error: 0.9512 - val_loss: 1.9097 - val_y1_output_loss: 0.5994 - val_y2_output_loss: 1.3104 - val_y1_output_root_mean_squared_error: 0.7742 - val_y2_output_root_mean_squared_error: 1.1447\n",
      "Epoch 220/500\n",
      "62/62 [==============================] - 0s 3ms/step - loss: 1.2285 - y1_output_loss: 0.2169 - y2_output_loss: 1.0116 - y1_output_root_mean_squared_error: 0.4657 - y2_output_root_mean_squared_error: 1.0058 - val_loss: 1.5618 - val_y1_output_loss: 0.2774 - val_y2_output_loss: 1.2844 - val_y1_output_root_mean_squared_error: 0.5267 - val_y2_output_root_mean_squared_error: 1.1333\n",
      "Epoch 221/500\n",
      "62/62 [==============================] - 0s 3ms/step - loss: 1.5328 - y1_output_loss: 0.3003 - y2_output_loss: 1.2324 - y1_output_root_mean_squared_error: 0.5480 - y2_output_root_mean_squared_error: 1.1101 - val_loss: 1.2530 - val_y1_output_loss: 0.1900 - val_y2_output_loss: 1.0630 - val_y1_output_root_mean_squared_error: 0.4358 - val_y2_output_root_mean_squared_error: 1.0310\n",
      "Epoch 222/500\n",
      "62/62 [==============================] - 0s 2ms/step - loss: 1.0864 - y1_output_loss: 0.2262 - y2_output_loss: 0.8603 - y1_output_root_mean_squared_error: 0.4756 - y2_output_root_mean_squared_error: 0.9275 - val_loss: 1.4717 - val_y1_output_loss: 0.2853 - val_y2_output_loss: 1.1865 - val_y1_output_root_mean_squared_error: 0.5341 - val_y2_output_root_mean_squared_error: 1.0892\n",
      "Epoch 223/500\n",
      "62/62 [==============================] - 0s 3ms/step - loss: 1.2031 - y1_output_loss: 0.2375 - y2_output_loss: 0.9656 - y1_output_root_mean_squared_error: 0.4874 - y2_output_root_mean_squared_error: 0.9826 - val_loss: 3.8175 - val_y1_output_loss: 0.5028 - val_y2_output_loss: 3.3148 - val_y1_output_root_mean_squared_error: 0.7091 - val_y2_output_root_mean_squared_error: 1.8206\n",
      "Epoch 224/500\n",
      " 1/62 [..............................] - ETA: 0s - loss: 2.8938 - y1_output_loss: 0.4243 - y2_output_loss: 2.4695 - y1_output_root_mean_squared_error: 0.6514 - y2_output_root_mean_squared_error: 1.5715"
     ]
    }
   ],
   "source": [
    "history = model.fit(norm_train_X, train_Y,epochs=500, batch_size=10, validation_data=(norm_test_X, test_Y))"
   ]
  },
  {
   "cell_type": "code",
   "execution_count": 37,
   "id": "044aec22-cd4a-42b2-a8c2-e6286311eef0",
   "metadata": {
    "scrolled": true
   },
   "outputs": [
    {
     "name": "stdout",
     "output_type": "stream",
     "text": [
      "5/5 [==============================] - 0s 0s/step - loss: 0.5798 - y1_output_loss: 0.1280 - y2_output_loss: 0.4518 - y1_output_root_mean_squared_error: 0.3577 - y2_output_root_mean_squared_error: 0.6722\n",
      "Loss = 0.5797784924507141, Y1_loss = 0.12795747816562653, Y1_mse = 0.35771143436431885, Y2_loss = 0.4518210291862488, Y2_mse = 0.6721763610839844\n"
     ]
    }
   ],
   "source": [
    "loss, Y1_loss, Y2_loss, Y1_rmse, Y2_rmse = model.evaluate(x=norm_test_X, y=test_Y)\n",
    "print(\"Loss = {}, Y1_loss = {}, Y1_mse = {}, Y2_loss = {}, Y2_mse = {}\".format(loss, Y1_loss, Y1_rmse, Y2_loss, Y2_rmse))"
   ]
  },
  {
   "cell_type": "code",
   "execution_count": 33,
   "id": "04f9481e-1997-423f-879c-22a609e1e899",
   "metadata": {},
   "outputs": [
    {
     "data": {
      "text/plain": [
       "[]"
      ]
     },
     "execution_count": 33,
     "metadata": {},
     "output_type": "execute_result"
    },
    {
     "data": {
      "image/png": "[encoded data removed]",
      "text/plain": [
       "<Figure size 640x480 with 1 Axes>"
      ]
     },
     "metadata": {},
     "output_type": "display_data"
    }
   ],
   "source": [
    "Y_pred = model.predict(norm_test_X)\n",
    "plt.scatter(test_Y[0], Y_pred[0])\n",
    "plt.title('Y1')\n",
    "plt.xlabel('true')\n",
    "plt.ylabel('pred')\n",
    "plt.plot()"
   ]
  },
  {
   "cell_type": "code",
   "execution_count": 35,
   "id": "2e9935f7-7967-416d-8efc-59323798b099",
   "metadata": {},
   "outputs": [
    {
     "data": {
      "text/plain": [
       "[]"
      ]
     },
     "execution_count": 35,
     "metadata": {},
     "output_type": "execute_result"
    },
    {
     "data": {
      "image/png": "[encoded data removed]",
      "text/plain": [
       "<Figure size 640x480 with 1 Axes>"
      ]
     },
     "metadata": {},
     "output_type": "display_data"
    }
   ],
   "source": [
    "plt.scatter(test_Y[1], Y_pred[1])\n",
    "plt.title('Y2')\n",
    "plt.xlabel('true')\n",
    "plt.ylabel('pred')\n",
    "plt.plot()"
   ]
  },
  {
   "cell_type": "markdown",
   "id": "0561e878-7eed-405c-a0ee-bf72a708e3e5",
   "metadata": {},
   "source": [
    "---"
   ]
  },
  {
   "cell_type": "markdown",
   "id": "b2145b0d-b846-44ca-8f89-115853ea5ba4",
   "metadata": {},
   "source": [
    "### Siamese Network"
   ]
  },
  {
   "cell_type": "code",
   "execution_count": 1,
   "id": "3b662162-b560-4d77-8f55-38f2b8d17bc9",
   "metadata": {},
   "outputs": [],
   "source": [
    "import tensorflow as tf\n",
    "import pandas as pd\n",
    "import numpy as np\n",
    "import random\n",
    "import matplotlib.pyplot as plt\n",
    "from tensorflow.keras import backend as K"
   ]
  },
  {
   "cell_type": "code",
   "execution_count": 5,
   "id": "c800b189-ddef-4762-b25e-e9c30f33b45f",
   "metadata": {},
   "outputs": [],
   "source": [
    "def create_pairs(x, digit_indices):\n",
    "    pairs = []\n",
    "    labels = []\n",
    "    n = min([len(digit_indices[d]) for d in range(10)]) - 1\n",
    "    for d in range(10):\n",
    "        for i in range(n):\n",
    "            z1, z2 = digit_indices[d][i], digit_indices[d][i + 1]\n",
    "            pairs += [[x[z1], x[z2]]]\n",
    "            inc = random.randrange(1, 10)\n",
    "            dn = (d + inc) % 10\n",
    "            z1, z2 = digit_indices[d][i], digit_indices[dn][i]\n",
    "            pairs += [[x[z1], x[z2]]]\n",
    "            labels += [1, 0]\n",
    "    return np.array(pairs), np.array(labels)\n",
    "\n",
    "\n",
    "def create_pairs_on_set(images, labels):\n",
    "    digit_indices = [np.where(labels == i)[0] for i in range(10)]\n",
    "    pairs, y = create_pairs(images, digit_indices)\n",
    "    y = y.astype('float32')\n",
    "    return pairs, y"
   ]
  },
  {
   "cell_type": "code",
   "execution_count": 6,
   "id": "f8745b93-481e-4e25-873a-23705942a033",
   "metadata": {},
   "outputs": [],
   "source": [
    "(train_images, train_labels), (test_images, test_labels) = tf.keras.datasets.fashion_mnist.load_data()\n",
    "\n",
    "train_images = train_images.astype('float32')\n",
    "test_images = test_images.astype('float32')\n",
    "\n",
    "train_images = train_images / 255.0\n",
    "test_images = test_images / 255.0\n",
    "\n",
    "tr_pairs, tr_y = create_pairs_on_set(train_images, train_labels)\n",
    "ts_pairs, ts_y = create_pairs_on_set(test_images, test_labels)"
   ]
  },
  {
   "cell_type": "code",
   "execution_count": 7,
   "id": "36888978-2af7-4583-91f7-ae074c9b25c3",
   "metadata": {},
   "outputs": [
    {
     "data": {
      "image/png": "[encoded data removed]",
      "text/plain": [
       "<Figure size 640x480 with 1 Axes>"
      ]
     },
     "metadata": {},
     "output_type": "display_data"
    },
    {
     "data": {
      "image/png": "[encoded data removed]",
      "text/plain": [
       "<Figure size 640x480 with 1 Axes>"
      ]
     },
     "metadata": {},
     "output_type": "display_data"
    },
    {
     "name": "stdout",
     "output_type": "stream",
     "text": [
      "1.0\n"
     ]
    }
   ],
   "source": [
    "this_pair = 8\n",
    "#plt.subplots(1,2)\n",
    "plt.imshow(ts_pairs[this_pair][0])\n",
    "plt.show()\n",
    "plt.imshow(ts_pairs[this_pair][1])\n",
    "plt.show()\n",
    "\n",
    "print(ts_y[this_pair])"
   ]
  },
  {
   "cell_type": "markdown",
   "id": "f324ffa9-5417-41b4-94c7-7f1889084e1b",
   "metadata": {},
   "source": [
    "#### model"
   ]
  },
  {
   "cell_type": "code",
   "execution_count": 8,
   "id": "59263267-6a2e-4631-bb08-88e7616d8896",
   "metadata": {},
   "outputs": [],
   "source": [
    "def euclidean_distance(vects):\n",
    "    x, y = vects\n",
    "    sum_square = K.sum(K.square(x - y), axis=1, keepdims=True)\n",
    "    return K.sqrt(K.maximum(sum_square, K.epsilon()))\n",
    "\n",
    "def eucl_dist_output_shape(shapes):\n",
    "    shape1, shape2 = shapes\n",
    "    return (shape1[0], 1)\n",
    "\n",
    "def contrastive_loss_with_margin(margin):\n",
    "    def contrastive_loss(y_true, y_pred):\n",
    "        square_pred = K.square(y_pred)\n",
    "        margin_square = K.square(K.maximum(margin - y_pred, 0))\n",
    "        return (y_true * square_pred + (1 - y_true) * margin_square)\n",
    "    return contrastive_loss"
   ]
  },
  {
   "cell_type": "code",
   "execution_count": 9,
   "id": "cafa9776-5255-4110-8c00-bae76947bcdd",
   "metadata": {},
   "outputs": [],
   "source": [
    "input=tf.keras.layers.Input(shape=(28,28,),name='input_layer')\n",
    "x=tf.keras.layers.Flatten()(input)\n",
    "x=tf.keras.layers.Dense(128,activation='relu')(x)\n",
    "x=tf.keras.layers.Dropout(0.1)(x)\n",
    "x=tf.keras.layers.Dense(128,activation='relu')(x)\n",
    "x=tf.keras.layers.Dropout(0.1)(x)\n",
    "x=tf.keras.layers.Dense(128,activation='relu')(x)\n",
    "base_network=tf.keras.models.Model(inputs=input,outputs=x)"
   ]
  },
  {
   "cell_type": "code",
   "execution_count": 10,
   "id": "71b80657-3e67-4a3b-8e8e-50b18be87c8f",
   "metadata": {},
   "outputs": [
    {
     "name": "stdout",
     "output_type": "stream",
     "text": [
      "Model: \"model_3\"\n",
      "__________________________________________________________________________________________________\n",
      " Layer (type)                   Output Shape         Param #     Connected to                     \n",
      "==================================================================================================\n",
      " left_input (InputLayer)        [(None, 28, 28)]     0           []                               \n",
      "                                                                                                  \n",
      " right_input (InputLayer)       [(None, 28, 28)]     0           []                               \n",
      "                                                                                                  \n",
      " model_2 (Functional)           (None, 128)          133504      ['left_input[0][0]',             \n",
      "                                                                  'right_input[0][0]']            \n",
      "                                                                                                  \n",
      " output_layer (Lambda)          (None, 1)            0           ['model_2[0][0]',                \n",
      "                                                                  'model_2[1][0]']                \n",
      "                                                                                                  \n",
      "==================================================================================================\n",
      "Total params: 133,504\n",
      "Trainable params: 133,504\n",
      "Non-trainable params: 0\n",
      "__________________________________________________________________________________________________\n"
     ]
    }
   ],
   "source": [
    "input_a=tf.keras.layers.Input(shape=(28,28,),name='left_input')\n",
    "vect_output_a=base_network(input_a)\n",
    "\n",
    "input_b=tf.keras.layers.Input(shape=(28,28,),name='right_input')\n",
    "vect_output_b=base_network(input_b)\n",
    "\n",
    "output=tf.keras.layers.Lambda(euclidean_distance, name=\"output_layer\", output_shape=eucl_dist_output_shape)([vect_output_a, vect_output_b])\n",
    "\n",
    "model=tf.keras.models.Model(inputs=[input_a,input_b],outputs=output)\n",
    "model.summary()"
   ]
  },
  {
   "cell_type": "markdown",
   "id": "cbbb12ca-4ac5-4f33-be2a-3b1be7697151",
   "metadata": {},
   "source": [
    "#### training"
   ]
  },
  {
   "cell_type": "code",
   "execution_count": 11,
   "id": "7c571e48-b37b-43ae-90d2-5150ccb3fa76",
   "metadata": {},
   "outputs": [
    {
     "name": "stdout",
     "output_type": "stream",
     "text": [
      "Epoch 1/20\n",
      "938/938 [==============================] - 9s 8ms/step - loss: 0.1114 - val_loss: 0.0843\n",
      "Epoch 2/20\n",
      "938/938 [==============================] - 7s 7ms/step - loss: 0.0792 - val_loss: 0.0813\n",
      "Epoch 3/20\n",
      "938/938 [==============================] - 6s 7ms/step - loss: 0.0702 - val_loss: 0.0710\n",
      "Epoch 4/20\n",
      "938/938 [==============================] - 7s 7ms/step - loss: 0.0654 - val_loss: 0.0721\n",
      "Epoch 5/20\n",
      "938/938 [==============================] - 7s 8ms/step - loss: 0.0624 - val_loss: 0.0653\n",
      "Epoch 6/20\n",
      "938/938 [==============================] - 7s 7ms/step - loss: 0.0609 - val_loss: 0.0666\n",
      "Epoch 7/20\n",
      "938/938 [==============================] - 7s 7ms/step - loss: 0.0591 - val_loss: 0.0657\n",
      "Epoch 8/20\n",
      "938/938 [==============================] - 7s 7ms/step - loss: 0.0581 - val_loss: 0.0666\n",
      "Epoch 9/20\n",
      "938/938 [==============================] - 6s 7ms/step - loss: 0.0568 - val_loss: 0.0680\n",
      "Epoch 10/20\n",
      "938/938 [==============================] - 7s 7ms/step - loss: 0.0559 - val_loss: 0.0663\n",
      "Epoch 11/20\n",
      "938/938 [==============================] - 7s 7ms/step - loss: 0.0551 - val_loss: 0.0679\n",
      "Epoch 12/20\n",
      "938/938 [==============================] - 7s 8ms/step - loss: 0.0544 - val_loss: 0.0649\n",
      "Epoch 13/20\n",
      "938/938 [==============================] - 7s 7ms/step - loss: 0.0533 - val_loss: 0.0648\n",
      "Epoch 14/20\n",
      "938/938 [==============================] - 7s 7ms/step - loss: 0.0527 - val_loss: 0.0626\n",
      "Epoch 15/20\n",
      "938/938 [==============================] - 7s 8ms/step - loss: 0.0521 - val_loss: 0.0644\n",
      "Epoch 16/20\n",
      "938/938 [==============================] - 7s 7ms/step - loss: 0.0518 - val_loss: 0.0649\n",
      "Epoch 17/20\n",
      "938/938 [==============================] - 7s 7ms/step - loss: 0.0510 - val_loss: 0.0650\n",
      "Epoch 18/20\n",
      "938/938 [==============================] - 6s 7ms/step - loss: 0.0508 - val_loss: 0.0652\n",
      "Epoch 19/20\n",
      "938/938 [==============================] - 7s 7ms/step - loss: 0.0501 - val_loss: 0.0633\n",
      "Epoch 20/20\n",
      "938/938 [==============================] - 7s 7ms/step - loss: 0.0496 - val_loss: 0.0638\n"
     ]
    }
   ],
   "source": [
    "model.compile(loss=contrastive_loss_with_margin(margin=1),optimizer=tf.keras.optimizers.RMSprop())\n",
    "history = model.fit([tr_pairs[:,0], tr_pairs[:,1]], tr_y, epochs=20, batch_size=128, validation_data=([ts_pairs[:,0], ts_pairs[:,1]], ts_y))"
   ]
  },
  {
   "cell_type": "code",
   "execution_count": 13,
   "id": "baf412a1-6b80-4074-a89a-900744344ec2",
   "metadata": {},
   "outputs": [
    {
     "name": "stdout",
     "output_type": "stream",
     "text": [
      "625/625 [==============================] - 1s 2ms/step - loss: 0.0638\n"
     ]
    }
   ],
   "source": [
    "loss = model.evaluate(x=[ts_pairs[:,0],ts_pairs[:,1]], y=ts_y)"
   ]
  },
  {
   "cell_type": "code",
   "execution_count": 14,
   "id": "ac1306d6-baff-49fb-b895-135f17276980",
   "metadata": {},
   "outputs": [],
   "source": [
    "def compute_accuracy(y_true, y_pred):\n",
    "    pred = y_pred.ravel() < 0.5\n",
    "    return np.mean(pred == y_true)"
   ]
  },
  {
   "cell_type": "code",
   "execution_count": 15,
   "id": "35341e8f-34b5-4cf1-b065-4077c7bebf5e",
   "metadata": {},
   "outputs": [
    {
     "name": "stdout",
     "output_type": "stream",
     "text": [
      "accuracy: train 0.9403067177862977, test 0.9129129129129129\n"
     ]
    }
   ],
   "source": [
    "y_pred_train = model.predict([tr_pairs[:,0], tr_pairs[:,1]])\n",
    "train_accuracy = compute_accuracy(tr_y, y_pred_train)\n",
    "\n",
    "y_pred_test = model.predict([ts_pairs[:,0], ts_pairs[:,1]])\n",
    "test_accuracy = compute_accuracy(ts_y, y_pred_test)\n",
    "\n",
    "print(f'accuracy: train {train_accuracy}, test {test_accuracy}')"
   ]
  },
  {
   "cell_type": "markdown",
   "id": "09eed194-bd36-4672-ac12-18de18aefb6c",
   "metadata": {},
   "source": [
    "#### distance between two wectors is prediction"
   ]
  },
  {
   "cell_type": "code",
   "execution_count": 59,
   "id": "db105e40-89e7-480f-a830-4068a69e0655",
   "metadata": {},
   "outputs": [
    {
     "name": "stdout",
     "output_type": "stream",
     "text": [
      "pred: 0.08457189053297043            pred: 0.8989872932434082\n",
      "label: 1.0                           label: 0.0\n"
     ]
    },
    {
     "data": {
      "image/png": "[encoded data removed]",
      "text/plain": [
       "<Figure size 640x480 with 4 Axes>"
      ]
     },
     "metadata": {},
     "output_type": "display_data"
    }
   ],
   "source": [
    "\n",
    "f,axarr=plt.subplots(2,2)\n",
    "axarr[0,0].imshow(tr_pairs[8,0])\n",
    "axarr[1,0].imshow(tr_pairs[8,1])\n",
    "axarr[0,1].imshow(tr_pairs[3,0])\n",
    "axarr[1,1].imshow(tr_pairs[3,1])\n",
    "print(f'pred: {y_pred_train[8]}            pred: {y_pred_train[3]}')\n",
    "print(f'label: {tr_y[8]}                           label: {tr_y[3]}')"
   ]
  },
  {
   "cell_type": "code",
   "execution_count": null,
   "id": "efd7631c-a6ae-4f8a-8937-901745482983",
   "metadata": {},
   "outputs": [],
   "source": []
  }
 ],
 "metadata": {
  "kernelspec": {
   "display_name": "Python 3 (ipykernel)",
   "language": "python",
   "name": "python3"
  },
  "language_info": {
   "codemirror_mode": {
    "name": "ipython",
    "version": 3
   },
   "file_extension": ".py",
   "mimetype": "text/x-python",
   "name": "python",
   "nbconvert_exporter": "python",
   "pygments_lexer": "ipython3",
   "version": "3.9.18"
  }
 },
 "nbformat": 4,
 "nbformat_minor": 5
}
