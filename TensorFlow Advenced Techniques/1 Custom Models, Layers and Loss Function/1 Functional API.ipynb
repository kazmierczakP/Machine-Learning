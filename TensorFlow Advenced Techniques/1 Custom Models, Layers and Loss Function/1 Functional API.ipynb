{
 "cells": [
  {
   "cell_type": "markdown",
   "id": "7c75fcaa-04c7-4125-96d2-989c75d33f61",
   "metadata": {},
   "source": [
    "# Functional API"
   ]
  },
  {
   "cell_type": "code",
   "execution_count": 1,
   "id": "aacbb0f4-5667-489e-90da-81f93e8d62d9",
   "metadata": {},
   "outputs": [],
   "source": [
    "import tensorflow as tf"
   ]
  },
  {
   "cell_type": "markdown",
   "id": "fac04e4a-01e9-44fc-9ea0-2ad102a8cf96",
   "metadata": {},
   "source": [
    "### Sequential"
   ]
  },
  {
   "cell_type": "code",
   "execution_count": 2,
   "id": "32814eb3-43a8-477e-a4f0-28bb67c44897",
   "metadata": {},
   "outputs": [],
   "source": [
    "model=tf.keras.models.Sequential([\n",
    "    tf.keras.layers.Flatten(input_shape=(28,28,1)),\n",
    "    tf.keras.layers.Dense(64,activation='relu'),\n",
    "    tf.keras.layers.Dense(10,activation='softmax')\n",
    "])"
   ]
  },
  {
   "cell_type": "markdown",
   "id": "d4515457-a5fe-4883-8ae6-4293ed5bb210",
   "metadata": {},
   "source": [
    "### Functional"
   ]
  },
  {
   "cell_type": "code",
   "execution_count": 3,
   "id": "3a2bef0c-c53d-4d44-a5e3-e271baa3e834",
   "metadata": {},
   "outputs": [],
   "source": [
    "input=tf.keras.layers.Input(shape=(28,28,1))\n",
    "x=tf.keras.layers.Flatten()(input)\n",
    "x=tf.keras.layers.Dense(64,activation='relu')(x)\n",
    "output=tf.keras.layers.Dense(10,activation='softmax')(x)"
   ]
  },
  {
   "cell_type": "code",
   "execution_count": 4,
   "id": "5dd2996f-85bd-4ea6-bd64-1fc7d0504846",
   "metadata": {},
   "outputs": [],
   "source": [
    "model=tf.keras.models.Model(inputs=input,outputs=output)"
   ]
  },
  {
   "cell_type": "markdown",
   "id": "5b441f8e-8010-4a17-900d-b5d76049ae34",
   "metadata": {},
   "source": [
    "#### train & test"
   ]
  },
  {
   "cell_type": "code",
   "execution_count": 6,
   "id": "794c945a-0b1b-467f-a903-3441528b17cb",
   "metadata": {},
   "outputs": [
    {
     "name": "stdout",
     "output_type": "stream",
     "text": [
      "Downloading data from https://storage.googleapis.com/tensorflow/tf-keras-datasets/train-labels-idx1-ubyte.gz\n",
      "32768/29515 [=================================] - 0s 2us/step\n",
      "40960/29515 [=========================================] - 0s 2us/step\n",
      "Downloading data from https://storage.googleapis.com/tensorflow/tf-keras-datasets/train-images-idx3-ubyte.gz\n",
      "26427392/26421880 [==============================] - 7s 0us/step\n",
      "26435584/26421880 [==============================] - 7s 0us/step\n",
      "Downloading data from https://storage.googleapis.com/tensorflow/tf-keras-datasets/t10k-labels-idx1-ubyte.gz\n",
      "16384/5148 [===============================================================================================] - 0s 0s/step\n",
      "Downloading data from https://storage.googleapis.com/tensorflow/tf-keras-datasets/t10k-images-idx3-ubyte.gz\n",
      "4423680/4422102 [==============================] - 1s 0us/step\n",
      "4431872/4422102 [==============================] - 1s 0us/step\n"
     ]
    }
   ],
   "source": [
    "mnist = tf.keras.datasets.fashion_mnist\n",
    "(training_images, training_labels), (test_images, test_labels) = mnist.load_data()\n",
    "training_images = training_images / 255.0\n",
    "test_images = test_images / 255.0"
   ]
  },
  {
   "cell_type": "code",
   "execution_count": 8,
   "id": "6f40338f-36eb-4d27-a064-01472558dfe1",
   "metadata": {},
   "outputs": [
    {
     "name": "stdout",
     "output_type": "stream",
     "text": [
      "Epoch 1/5\n",
      "1875/1875 [==============================] - 6s 3ms/step - loss: 0.5165 - accuracy: 0.8196\n",
      "Epoch 2/5\n",
      "1875/1875 [==============================] - 4s 2ms/step - loss: 0.3934 - accuracy: 0.8605\n",
      "Epoch 3/5\n",
      "1875/1875 [==============================] - 4s 2ms/step - loss: 0.3589 - accuracy: 0.8716\n",
      "Epoch 4/5\n",
      "1875/1875 [==============================] - 4s 2ms/step - loss: 0.3322 - accuracy: 0.8790\n",
      "Epoch 5/5\n",
      "1875/1875 [==============================] - 4s 2ms/step - loss: 0.3164 - accuracy: 0.8836\n",
      "313/313 [==============================] - 1s 2ms/step - loss: 0.3744 - accuracy: 0.8692\n"
     ]
    },
    {
     "data": {
      "text/plain": [
       "[0.37444353103637695, 0.8691999912261963]"
      ]
     },
     "execution_count": 8,
     "metadata": {},
     "output_type": "execute_result"
    }
   ],
   "source": [
    "model.compile(optimizer=tf.keras.optimizers.Adam(),loss='sparse_categorical_crossentropy',metrics=['accuracy'])\n",
    "model.fit(training_images, training_labels, epochs=5)\n",
    "model.evaluate(test_images, test_labels)"
   ]
  },
  {
   "cell_type": "markdown",
   "id": "9307ef9e-024e-4813-9b52-7f399f13324c",
   "metadata": {},
   "source": [
    "---"
   ]
  },
  {
   "cell_type": "markdown",
   "id": "fab2ee96-58ee-44bc-92a8-39307039cb85",
   "metadata": {},
   "source": [
    "### Multi-output Model"
   ]
  },
  {
   "cell_type": "code",
   "execution_count": 38,
   "id": "ddf17eca-2b8e-4604-b682-2c69412e91a9",
   "metadata": {},
   "outputs": [],
   "source": [
    "from ucimlrepo import fetch_ucirepo \n",
    "from sklearn.model_selection import train_test_split\n",
    "import tensorflow as tf\n",
    "import pandas as pd\n",
    "import numpy as np\n",
    "import matplotlib.pyplot as plt"
   ]
  },
  {
   "cell_type": "code",
   "execution_count": 8,
   "id": "cede563e-5b1b-4073-a16e-41f14ee7be46",
   "metadata": {},
   "outputs": [],
   "source": [
    "energy_efficiency = fetch_ucirepo(id=242)\n",
    "data=energy_efficiency.data.original"
   ]
  },
  {
   "cell_type": "code",
   "execution_count": 27,
   "id": "6b99ab39-7a8a-4720-8d9e-245a35587f2a",
   "metadata": {},
   "outputs": [],
   "source": [
    "def norm(x,train_stats):\n",
    "    return (x-train_stats['mean'])/train_stats['std']"
   ]
  },
  {
   "cell_type": "code",
   "execution_count": 23,
   "id": "a79cd07c-0903-4c7c-b00a-2cb46cef732b",
   "metadata": {},
   "outputs": [],
   "source": [
    "train, test = train_test_split(data, test_size=0.2)\n",
    "train_stats = train.describe()"
   ]
  },
  {
   "cell_type": "code",
   "execution_count": 24,
   "id": "fba0f5f0-cca6-4d2b-93d6-e05a3b53551e",
   "metadata": {},
   "outputs": [],
   "source": [
    "train_stats.pop('Y1')\n",
    "train_stats.pop('Y2')\n",
    "train_stats = train_stats.transpose()\n",
    "train_Y = np.array(train.pop('Y1')),np.array(train.pop('Y2'))\n",
    "test_Y = np.array(test.pop('Y1')),np.array(test.pop('Y2'))\n",
    "\n",
    "norm_train_X = norm(train,train_stats)\n",
    "norm_test_X = norm(test,train_stats)"
   ]
  },
  {
   "cell_type": "markdown",
   "id": "9bbc5664-4ced-4431-9726-7c0e9aac4f51",
   "metadata": {},
   "source": [
    "#### model"
   ]
  },
  {
   "cell_type": "code",
   "execution_count": 33,
   "id": "3f7f618c-97b3-4747-8360-f48561333f45",
   "metadata": {},
   "outputs": [
    {
     "name": "stdout",
     "output_type": "stream",
     "text": [
      "Model: \"model_3\"\n",
      "__________________________________________________________________________________________________\n",
      " Layer (type)                   Output Shape         Param #     Connected to                     \n",
      "==================================================================================================\n",
      " input_5 (InputLayer)           [(None, 8)]          0           []                               \n",
      "                                                                                                  \n",
      " dense_15 (Dense)               (None, 128)          1152        ['input_5[0][0]']                \n",
      "                                                                                                  \n",
      " dense_16 (Dense)               (None, 128)          16512       ['dense_15[0][0]']               \n",
      "                                                                                                  \n",
      " dense_17 (Dense)               (None, 64)           8256        ['dense_16[0][0]']               \n",
      "                                                                                                  \n",
      " y1_output (Dense)              (None, 1)            129         ['dense_16[0][0]']               \n",
      "                                                                                                  \n",
      " y2_output (Dense)              (None, 1)            65          ['dense_17[0][0]']               \n",
      "                                                                                                  \n",
      "==================================================================================================\n",
      "Total params: 26,114\n",
      "Trainable params: 26,114\n",
      "Non-trainable params: 0\n",
      "__________________________________________________________________________________________________\n"
     ]
    }
   ],
   "source": [
    "input_layer=tf.keras.layers.Input(shape=(len(train.columns,)))\n",
    "first_dense=tf.keras.layers.Dense(128,activation='relu')(input_layer)\n",
    "second_dense=tf.keras.layers.Dense(128,activation='relu')(first_dense)\n",
    "third_dense=tf.keras.layers.Dense(64,activation='relu')(second_dense)\n",
    "\n",
    "output_y1=tf.keras.layers.Dense(1,activation='linear', name='y1_output')(second_dense)\n",
    "output_y2=tf.keras.layers.Dense(1,activation='linear', name='y2_output')(third_dense)\n",
    "\n",
    "model=tf.keras.models.Model(inputs=input_layer,outputs=[output_y1,output_y2])\n",
    "model.summary()"
   ]
  },
  {
   "cell_type": "code",
   "execution_count": 35,
   "id": "5e7ab11f-2af8-42d5-afbc-7329440f3d6a",
   "metadata": {},
   "outputs": [],
   "source": [
    "optimizer = tf.keras.optimizers.SGD(learning_rate=0.001)\n",
    "model.compile(optimizer=optimizer,loss={'y1_output': 'mse', 'y2_output': 'mse'},metrics={'y1_output': tf.keras.metrics.RootMeanSquaredError(),'y2_output': tf.keras.metrics.RootMeanSquaredError()})"
   ]
  },
  {
   "cell_type": "markdown",
   "id": "dc140ce1-b6b7-4b95-8c15-51542d84b012",
   "metadata": {},
   "source": [
    "#### training"
   ]
  },
  {
   "cell_type": "code",
   "execution_count": 1,
   "id": "f5b82a59-bce2-4565-934a-9fb8d9503c91",
   "metadata": {
    "scrolled": true
   },
   "outputs": [],
   "source": [
    "history = model.fit(norm_train_X, train_Y,epochs=500, batch_size=10, validation_data=(norm_test_X, test_Y))"
   ]
  },
  {
   "cell_type": "code",
   "execution_count": 37,
   "id": "044aec22-cd4a-42b2-a8c2-e6286311eef0",
   "metadata": {
    "scrolled": true
   },
   "outputs": [
    {
     "name": "stdout",
     "output_type": "stream",
     "text": [
      "5/5 [==============================] - 0s 0s/step - loss: 0.5798 - y1_output_loss: 0.1280 - y2_output_loss: 0.4518 - y1_output_root_mean_squared_error: 0.3577 - y2_output_root_mean_squared_error: 0.6722\n",
      "Loss = 0.5797784924507141, Y1_loss = 0.12795747816562653, Y1_mse = 0.35771143436431885, Y2_loss = 0.4518210291862488, Y2_mse = 0.6721763610839844\n"
     ]
    }
   ],
   "source": [
    "loss, Y1_loss, Y2_loss, Y1_rmse, Y2_rmse = model.evaluate(x=norm_test_X, y=test_Y)\n",
    "print(\"Loss = {}, Y1_loss = {}, Y1_mse = {}, Y2_loss = {}, Y2_mse = {}\".format(loss, Y1_loss, Y1_rmse, Y2_loss, Y2_rmse))"
   ]
  },
  {
   "cell_type": "code",
   "execution_count": 49,
   "id": "04f9481e-1997-423f-879c-22a609e1e899",
   "metadata": {},
   "outputs": [
    {
     "data": {
      "text/plain": [
       "Text(0.5, 1.0, 'Y2')"
      ]
     },
     "execution_count": 49,
     "metadata": {},
     "output_type": "execute_result"
    },
    {
     "data": {
      "image/png": "[encoded data removed]",
      "text/plain": [
       "<Figure size 640x480 with 1 Axes>"
      ]
     },
     "metadata": {},
     "output_type": "display_data"
    }
   ],
   "source": [
    "Y_pred = model.predict(norm_test_X)\n",
    "plt.scatter(test_Y[0], Y_pred[0])\n",
    "plt.title('Y1')\n",
    "plt.xlabel('true')\n",
    "plt.ylabel('pred')\n",
    "plt.scatter(test_Y[1], Y_pred[1])\n",
    "plt.title('Y2')"
   ]
  },
  {
   "cell_type": "markdown",
   "id": "0561e878-7eed-405c-a0ee-bf72a708e3e5",
   "metadata": {},
   "source": [
    "---"
   ]
  },
  {
   "cell_type": "markdown",
   "id": "b2145b0d-b846-44ca-8f89-115853ea5ba4",
   "metadata": {},
   "source": [
    "### Siamese Network"
   ]
  },
  {
   "cell_type": "code",
   "execution_count": 1,
   "id": "3b662162-b560-4d77-8f55-38f2b8d17bc9",
   "metadata": {},
   "outputs": [],
   "source": [
    "import tensorflow as tf\n",
    "import pandas as pd\n",
    "import numpy as np\n",
    "import random\n",
    "import matplotlib.pyplot as plt\n",
    "from tensorflow.keras import backend as K"
   ]
  },
  {
   "cell_type": "code",
   "execution_count": 5,
   "id": "c800b189-ddef-4762-b25e-e9c30f33b45f",
   "metadata": {},
   "outputs": [],
   "source": [
    "def create_pairs(x, digit_indices):\n",
    "    pairs = []\n",
    "    labels = []\n",
    "    n = min([len(digit_indices[d]) for d in range(10)]) - 1\n",
    "    for d in range(10):\n",
    "        for i in range(n):\n",
    "            z1, z2 = digit_indices[d][i], digit_indices[d][i + 1]\n",
    "            pairs += [[x[z1], x[z2]]]\n",
    "            inc = random.randrange(1, 10)\n",
    "            dn = (d + inc) % 10\n",
    "            z1, z2 = digit_indices[d][i], digit_indices[dn][i]\n",
    "            pairs += [[x[z1], x[z2]]]\n",
    "            labels += [1, 0]\n",
    "    return np.array(pairs), np.array(labels)\n",
    "\n",
    "\n",
    "def create_pairs_on_set(images, labels):\n",
    "    digit_indices = [np.where(labels == i)[0] for i in range(10)]\n",
    "    pairs, y = create_pairs(images, digit_indices)\n",
    "    y = y.astype('float32')\n",
    "    return pairs, y"
   ]
  },
  {
   "cell_type": "code",
   "execution_count": 6,
   "id": "f8745b93-481e-4e25-873a-23705942a033",
   "metadata": {},
   "outputs": [],
   "source": [
    "(train_images, train_labels), (test_images, test_labels) = tf.keras.datasets.fashion_mnist.load_data()\n",
    "\n",
    "train_images = train_images.astype('float32')\n",
    "test_images = test_images.astype('float32')\n",
    "\n",
    "train_images = train_images / 255.0\n",
    "test_images = test_images / 255.0\n",
    "\n",
    "tr_pairs, tr_y = create_pairs_on_set(train_images, train_labels)\n",
    "ts_pairs, ts_y = create_pairs_on_set(test_images, test_labels)"
   ]
  },
  {
   "cell_type": "code",
   "execution_count": 7,
   "id": "36888978-2af7-4583-91f7-ae074c9b25c3",
   "metadata": {},
   "outputs": [
    {
     "data": {
      "image/png": "[encoded data removed]",
      "text/plain": [
       "<Figure size 640x480 with 1 Axes>"
      ]
     },
     "metadata": {},
     "output_type": "display_data"
    },
    {
     "data": {
      "image/png": "[encoded data removed]",
      "text/plain": [
       "<Figure size 640x480 with 1 Axes>"
      ]
     },
     "metadata": {},
     "output_type": "display_data"
    },
    {
     "name": "stdout",
     "output_type": "stream",
     "text": [
      "1.0\n"
     ]
    }
   ],
   "source": [
    "this_pair = 8\n",
    "#plt.subplots(1,2)\n",
    "plt.imshow(ts_pairs[this_pair][0])\n",
    "plt.show()\n",
    "plt.imshow(ts_pairs[this_pair][1])\n",
    "plt.show()\n",
    "\n",
    "print(ts_y[this_pair])"
   ]
  },
  {
   "cell_type": "markdown",
   "id": "f324ffa9-5417-41b4-94c7-7f1889084e1b",
   "metadata": {},
   "source": [
    "#### model"
   ]
  },
  {
   "cell_type": "code",
   "execution_count": 8,
   "id": "59263267-6a2e-4631-bb08-88e7616d8896",
   "metadata": {},
   "outputs": [],
   "source": [
    "def euclidean_distance(vects):\n",
    "    x, y = vects\n",
    "    sum_square = K.sum(K.square(x - y), axis=1, keepdims=True)\n",
    "    return K.sqrt(K.maximum(sum_square, K.epsilon()))\n",
    "\n",
    "def eucl_dist_output_shape(shapes):\n",
    "    shape1, shape2 = shapes\n",
    "    return (shape1[0], 1)\n",
    "\n",
    "def contrastive_loss_with_margin(margin):\n",
    "    def contrastive_loss(y_true, y_pred):\n",
    "        square_pred = K.square(y_pred)\n",
    "        margin_square = K.square(K.maximum(margin - y_pred, 0))\n",
    "        return (y_true * square_pred + (1 - y_true) * margin_square)\n",
    "    return contrastive_loss"
   ]
  },
  {
   "cell_type": "code",
   "execution_count": 9,
   "id": "cafa9776-5255-4110-8c00-bae76947bcdd",
   "metadata": {},
   "outputs": [],
   "source": [
    "input=tf.keras.layers.Input(shape=(28,28,),name='input_layer')\n",
    "x=tf.keras.layers.Flatten()(input)\n",
    "x=tf.keras.layers.Dense(128,activation='relu')(x)\n",
    "x=tf.keras.layers.Dropout(0.1)(x)\n",
    "x=tf.keras.layers.Dense(128,activation='relu')(x)\n",
    "x=tf.keras.layers.Dropout(0.1)(x)\n",
    "x=tf.keras.layers.Dense(128,activation='relu')(x)\n",
    "base_network=tf.keras.models.Model(inputs=input,outputs=x)"
   ]
  },
  {
   "cell_type": "code",
   "execution_count": 10,
   "id": "71b80657-3e67-4a3b-8e8e-50b18be87c8f",
   "metadata": {},
   "outputs": [
    {
     "name": "stdout",
     "output_type": "stream",
     "text": [
      "Model: \"model_3\"\n",
      "__________________________________________________________________________________________________\n",
      " Layer (type)                   Output Shape         Param #     Connected to                     \n",
      "==================================================================================================\n",
      " left_input (InputLayer)        [(None, 28, 28)]     0           []                               \n",
      "                                                                                                  \n",
      " right_input (InputLayer)       [(None, 28, 28)]     0           []                               \n",
      "                                                                                                  \n",
      " model_2 (Functional)           (None, 128)          133504      ['left_input[0][0]',             \n",
      "                                                                  'right_input[0][0]']            \n",
      "                                                                                                  \n",
      " output_layer (Lambda)          (None, 1)            0           ['model_2[0][0]',                \n",
      "                                                                  'model_2[1][0]']                \n",
      "                                                                                                  \n",
      "==================================================================================================\n",
      "Total params: 133,504\n",
      "Trainable params: 133,504\n",
      "Non-trainable params: 0\n",
      "__________________________________________________________________________________________________\n"
     ]
    }
   ],
   "source": [
    "input_a=tf.keras.layers.Input(shape=(28,28,),name='left_input')\n",
    "vect_output_a=base_network(input_a)\n",
    "\n",
    "input_b=tf.keras.layers.Input(shape=(28,28,),name='right_input')\n",
    "vect_output_b=base_network(input_b)\n",
    "\n",
    "output=tf.keras.layers.Lambda(euclidean_distance, name=\"output_layer\", output_shape=eucl_dist_output_shape)([vect_output_a, vect_output_b])\n",
    "\n",
    "model=tf.keras.models.Model(inputs=[input_a,input_b],outputs=output)\n",
    "model.summary()"
   ]
  },
  {
   "cell_type": "markdown",
   "id": "cbbb12ca-4ac5-4f33-be2a-3b1be7697151",
   "metadata": {},
   "source": [
    "#### training"
   ]
  },
  {
   "cell_type": "code",
   "execution_count": 11,
   "id": "7c571e48-b37b-43ae-90d2-5150ccb3fa76",
   "metadata": {},
   "outputs": [
    {
     "name": "stdout",
     "output_type": "stream",
     "text": [
      "Epoch 1/20\n",
      "938/938 [==============================] - 9s 8ms/step - loss: 0.1114 - val_loss: 0.0843\n",
      "Epoch 2/20\n",
      "938/938 [==============================] - 7s 7ms/step - loss: 0.0792 - val_loss: 0.0813\n",
      "Epoch 3/20\n",
      "938/938 [==============================] - 6s 7ms/step - loss: 0.0702 - val_loss: 0.0710\n",
      "Epoch 4/20\n",
      "938/938 [==============================] - 7s 7ms/step - loss: 0.0654 - val_loss: 0.0721\n",
      "Epoch 5/20\n",
      "938/938 [==============================] - 7s 8ms/step - loss: 0.0624 - val_loss: 0.0653\n",
      "Epoch 6/20\n",
      "938/938 [==============================] - 7s 7ms/step - loss: 0.0609 - val_loss: 0.0666\n",
      "Epoch 7/20\n",
      "938/938 [==============================] - 7s 7ms/step - loss: 0.0591 - val_loss: 0.0657\n",
      "Epoch 8/20\n",
      "938/938 [==============================] - 7s 7ms/step - loss: 0.0581 - val_loss: 0.0666\n",
      "Epoch 9/20\n",
      "938/938 [==============================] - 6s 7ms/step - loss: 0.0568 - val_loss: 0.0680\n",
      "Epoch 10/20\n",
      "938/938 [==============================] - 7s 7ms/step - loss: 0.0559 - val_loss: 0.0663\n",
      "Epoch 11/20\n",
      "938/938 [==============================] - 7s 7ms/step - loss: 0.0551 - val_loss: 0.0679\n",
      "Epoch 12/20\n",
      "938/938 [==============================] - 7s 8ms/step - loss: 0.0544 - val_loss: 0.0649\n",
      "Epoch 13/20\n",
      "938/938 [==============================] - 7s 7ms/step - loss: 0.0533 - val_loss: 0.0648\n",
      "Epoch 14/20\n",
      "938/938 [==============================] - 7s 7ms/step - loss: 0.0527 - val_loss: 0.0626\n",
      "Epoch 15/20\n",
      "938/938 [==============================] - 7s 8ms/step - loss: 0.0521 - val_loss: 0.0644\n",
      "Epoch 16/20\n",
      "938/938 [==============================] - 7s 7ms/step - loss: 0.0518 - val_loss: 0.0649\n",
      "Epoch 17/20\n",
      "938/938 [==============================] - 7s 7ms/step - loss: 0.0510 - val_loss: 0.0650\n",
      "Epoch 18/20\n",
      "938/938 [==============================] - 6s 7ms/step - loss: 0.0508 - val_loss: 0.0652\n",
      "Epoch 19/20\n",
      "938/938 [==============================] - 7s 7ms/step - loss: 0.0501 - val_loss: 0.0633\n",
      "Epoch 20/20\n",
      "938/938 [==============================] - 7s 7ms/step - loss: 0.0496 - val_loss: 0.0638\n"
     ]
    }
   ],
   "source": [
    "model.compile(loss=contrastive_loss_with_margin(margin=1),optimizer=tf.keras.optimizers.RMSprop())\n",
    "history = model.fit([tr_pairs[:,0], tr_pairs[:,1]], tr_y, epochs=20, batch_size=128, validation_data=([ts_pairs[:,0], ts_pairs[:,1]], ts_y))"
   ]
  },
  {
   "cell_type": "code",
   "execution_count": 13,
   "id": "baf412a1-6b80-4074-a89a-900744344ec2",
   "metadata": {},
   "outputs": [
    {
     "name": "stdout",
     "output_type": "stream",
     "text": [
      "625/625 [==============================] - 1s 2ms/step - loss: 0.0638\n"
     ]
    }
   ],
   "source": [
    "loss = model.evaluate(x=[ts_pairs[:,0],ts_pairs[:,1]], y=ts_y)"
   ]
  },
  {
   "cell_type": "code",
   "execution_count": 14,
   "id": "ac1306d6-baff-49fb-b895-135f17276980",
   "metadata": {},
   "outputs": [],
   "source": [
    "def compute_accuracy(y_true, y_pred):\n",
    "    pred = y_pred.ravel() < 0.5\n",
    "    return np.mean(pred == y_true)"
   ]
  },
  {
   "cell_type": "code",
   "execution_count": 15,
   "id": "35341e8f-34b5-4cf1-b065-4077c7bebf5e",
   "metadata": {},
   "outputs": [
    {
     "name": "stdout",
     "output_type": "stream",
     "text": [
      "accuracy: train 0.9403067177862977, test 0.9129129129129129\n"
     ]
    }
   ],
   "source": [
    "y_pred_train = model.predict([tr_pairs[:,0], tr_pairs[:,1]])\n",
    "train_accuracy = compute_accuracy(tr_y, y_pred_train)\n",
    "\n",
    "y_pred_test = model.predict([ts_pairs[:,0], ts_pairs[:,1]])\n",
    "test_accuracy = compute_accuracy(ts_y, y_pred_test)\n",
    "\n",
    "print(f'accuracy: train {train_accuracy}, test {test_accuracy}')"
   ]
  },
  {
   "cell_type": "markdown",
   "id": "09eed194-bd36-4672-ac12-18de18aefb6c",
   "metadata": {},
   "source": [
    "#### distance between two wectors is prediction"
   ]
  },
  {
   "cell_type": "code",
   "execution_count": 59,
   "id": "db105e40-89e7-480f-a830-4068a69e0655",
   "metadata": {},
   "outputs": [
    {
     "name": "stdout",
     "output_type": "stream",
     "text": [
      "pred: 0.08457189053297043            pred: 0.8989872932434082\n",
      "label: 1.0                           label: 0.0\n"
     ]
    },
    {
     "data": {
      "image/png": "[encoded data removed]",
      "text/plain": [
       "<Figure size 640x480 with 4 Axes>"
      ]
     },
     "metadata": {},
     "output_type": "display_data"
    }
   ],
   "source": [
    "\n",
    "f,axarr=plt.subplots(2,2)\n",
    "axarr[0,0].imshow(tr_pairs[8,0])\n",
    "axarr[1,0].imshow(tr_pairs[8,1])\n",
    "axarr[0,1].imshow(tr_pairs[3,0])\n",
    "axarr[1,1].imshow(tr_pairs[3,1])\n",
    "print(f'pred: {y_pred_train[8]}            pred: {y_pred_train[3]}')\n",
    "print(f'label: {tr_y[8]}                           label: {tr_y[3]}')"
   ]
  },
  {
   "cell_type": "code",
   "execution_count": null,
   "id": "efd7631c-a6ae-4f8a-8937-901745482983",
   "metadata": {},
   "outputs": [],
   "source": []
  }
 ],
 "metadata": {
  "kernelspec": {
   "display_name": "Python 3 (ipykernel)",
   "language": "python",
   "name": "python3"
  },
  "language_info": {
   "codemirror_mode": {
    "name": "ipython",
    "version": 3
   },
   "file_extension": ".py",
   "mimetype": "text/x-python",
   "name": "python",
   "nbconvert_exporter": "python",
   "pygments_lexer": "ipython3",
   "version": "3.9.18"
  }
 },
 "nbformat": 4,
 "nbformat_minor": 5
}
