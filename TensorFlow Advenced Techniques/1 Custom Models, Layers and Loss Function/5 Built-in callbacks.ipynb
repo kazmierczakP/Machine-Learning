{
 "cells": [
  {
   "cell_type": "markdown",
   "id": "7ff5de10-ce6f-4917-8d04-7004bf7b806d",
   "metadata": {},
   "source": [
    "# Callbacks"
   ]
  },
  {
   "cell_type": "markdown",
   "id": "c5229673-3781-4acf-b496-e14f89188a32",
   "metadata": {},
   "source": [
    "## Built-in callbacks"
   ]
  },
  {
   "cell_type": "markdown",
   "id": "f9ca3d9d-07ce-4b37-b92d-95b1689b6db3",
   "metadata": {},
   "source": [
    "`Callback` specifies a functionality (action) that model should take after each epoch (like chscking the loss and early stopping)."
   ]
  },
  {
   "cell_type": "markdown",
   "id": "b690d72d-3949-4ef7-ad31-8519c903ca86",
   "metadata": {},
   "source": [
    "#### TensorBoard"
   ]
  },
  {
   "cell_type": "code",
   "execution_count": 1,
   "id": "6dad509b-42f5-48bb-a6ea-d4ffe8b9d53b",
   "metadata": {},
   "outputs": [],
   "source": [
    "import tensorflow as tf\n",
    "import pandas as pd\n",
    "import datetime"
   ]
  },
  {
   "cell_type": "code",
   "execution_count": 2,
   "id": "05d5f663-52a1-42c4-a96c-885134a054d4",
   "metadata": {},
   "outputs": [],
   "source": [
    "mnist = tf.keras.datasets.mnist\n",
    "\n",
    "(x_train, y_train),(x_test, y_test) = mnist.load_data()\n",
    "x_train, x_test = x_train / 255.0, x_test / 255.0\n",
    "\n",
    "def create_model():\n",
    "  return tf.keras.models.Sequential([\n",
    "    tf.keras.layers.Flatten(input_shape=(28, 28), name='layers_flatten'),\n",
    "    tf.keras.layers.Dense(512, activation='relu', name='layers_dense'),\n",
    "    tf.keras.layers.Dropout(0.2, name='layers_dropout'),\n",
    "    tf.keras.layers.Dense(10, activation='softmax', name='layers_dense_2')\n",
    "  ])"
   ]
  },
  {
   "cell_type": "code",
   "execution_count": 14,
   "id": "2b2451c9-ac89-45c3-96b1-59c59cf96923",
   "metadata": {},
   "outputs": [],
   "source": [
    "model = create_model()\n",
    "model.compile(optimizer='adam',loss='sparse_categorical_crossentropy',metrics=['accuracy'])\n",
    "\n",
    "tensorboard_callback = tf.keras.callbacks.TensorBoard(log_dir=\"logs\")\n",
    "\n",
    "model.fit(x=x_train, y=y_train, epochs=5, validation_data=(x_test, y_test), callbacks=[tensorboard_callback])"
   ]
  },
  {
   "cell_type": "code",
   "execution_count": 2,
   "id": "c153473d-d45c-4f80-b0a5-a7071a0e1ac9",
   "metadata": {},
   "outputs": [],
   "source": [
    "#%load_ext tensorboard"
   ]
  },
  {
   "cell_type": "code",
   "execution_count": 6,
   "id": "4e06183d-cef3-4629-89af-71599d868db1",
   "metadata": {},
   "outputs": [],
   "source": [
    "# rm -rf ./logs/"
   ]
  },
  {
   "cell_type": "code",
   "execution_count": 5,
   "id": "c3807af3-b9e7-49d2-a5fd-5f17a7f9ecb9",
   "metadata": {},
   "outputs": [],
   "source": [
    "#%tensorboard --logdir logs/fit"
   ]
  },
  {
   "cell_type": "markdown",
   "id": "6cf863d7-7e4a-4cc6-a65e-b5cd932e94b5",
   "metadata": {},
   "source": [
    "#### ModelCheckpoint"
   ]
  },
  {
   "cell_type": "code",
   "execution_count": 11,
   "id": "3172b5be-e866-4738-82e5-f1769b8a6182",
   "metadata": {},
   "outputs": [
    {
     "name": "stdout",
     "output_type": "stream",
     "text": [
      "Epoch 1/5\n",
      "1866/1875 [============================>.] - ETA: 0s - loss: 0.6247 - accuracy: 0.8389\n",
      "Epoch 00001: saving model to model_checkpoint\\weights.01-0.34.h5\n",
      "1875/1875 [==============================] - 8s 4ms/step - loss: 0.6237 - accuracy: 0.8390 - val_loss: 0.3391 - val_accuracy: 0.9084\n",
      "Epoch 2/5\n",
      "1866/1875 [============================>.] - ETA: 0s - loss: 0.3426 - accuracy: 0.9030\n",
      "Epoch 00002: saving model to model_checkpoint\\weights.02-0.28.h5\n",
      "1875/1875 [==============================] - 8s 4ms/step - loss: 0.3427 - accuracy: 0.9031 - val_loss: 0.2765 - val_accuracy: 0.9229\n",
      "Epoch 3/5\n",
      "1866/1875 [============================>.] - ETA: 0s - loss: 0.2890 - accuracy: 0.9190\n",
      "Epoch 00003: saving model to model_checkpoint\\weights.03-0.24.h5\n",
      "1875/1875 [==============================] - 8s 4ms/step - loss: 0.2889 - accuracy: 0.9190 - val_loss: 0.2437 - val_accuracy: 0.9316\n",
      "Epoch 4/5\n",
      "1864/1875 [============================>.] - ETA: 0s - loss: 0.2554 - accuracy: 0.9280\n",
      "Epoch 00004: saving model to model_checkpoint\\weights.04-0.22.h5\n",
      "1875/1875 [==============================] - 8s 4ms/step - loss: 0.2551 - accuracy: 0.9281 - val_loss: 0.2171 - val_accuracy: 0.9372\n",
      "Epoch 5/5\n",
      "1871/1875 [============================>.] - ETA: 0s - loss: 0.2315 - accuracy: 0.9341\n",
      "Epoch 00005: saving model to model_checkpoint\\weights.05-0.20.h5\n",
      "1875/1875 [==============================] - 8s 4ms/step - loss: 0.2316 - accuracy: 0.9340 - val_loss: 0.1976 - val_accuracy: 0.9438\n"
     ]
    },
    {
     "data": {
      "text/plain": [
       "<keras.callbacks.History at 0x1c398a00df0>"
      ]
     },
     "execution_count": 11,
     "metadata": {},
     "output_type": "execute_result"
    }
   ],
   "source": [
    "model = create_model()\n",
    "model.compile(optimizer='sgd',loss='sparse_categorical_crossentropy',metrics=['accuracy'])\n",
    "\n",
    "log_dir = \"model_checkpoint/weights.{epoch:02d}-{val_loss:.2f}.h5\"\n",
    "model_checkpoint = tf.keras.callbacks.ModelCheckpoint(log_dir, verbose=1)\n",
    "\n",
    "model.fit(x=x_train, y=y_train, epochs=5, validation_data=(x_test, y_test), callbacks=[model_checkpoint])"
   ]
  },
  {
   "cell_type": "markdown",
   "id": "6af06507-c066-4a1d-8bf0-7f862bfc5259",
   "metadata": {},
   "source": [
    "#### saved_model"
   ]
  },
  {
   "cell_type": "code",
   "execution_count": 3,
   "id": "33cfe7c4-7d10-4ff4-a1aa-8a31555e5a7f",
   "metadata": {},
   "outputs": [
    {
     "name": "stdout",
     "output_type": "stream",
     "text": [
      "1865/1875 [============================>.] - ETA: 0s - loss: 0.6357 - accuracy: 0.8364\n",
      "Epoch 00001: saving model to saved_model\n",
      "INFO:tensorflow:Assets written to: saved_model\\assets\n",
      "1875/1875 [==============================] - 14s 7ms/step - loss: 0.6345 - accuracy: 0.8367 - val_loss: 0.3393 - val_accuracy: 0.9101\n"
     ]
    },
    {
     "data": {
      "text/plain": [
       "<keras.callbacks.History at 0x244e175a4f0>"
      ]
     },
     "execution_count": 3,
     "metadata": {},
     "output_type": "execute_result"
    }
   ],
   "source": [
    "model = create_model()\n",
    "model.compile(optimizer='sgd',loss='sparse_categorical_crossentropy',metrics=['accuracy'])\n",
    "\n",
    "model_checkpoint = tf.keras.callbacks.ModelCheckpoint('saved_model', verbose=1)\n",
    "\n",
    "model.fit(x=x_train, y=y_train, epochs=1, validation_data=(x_test, y_test), callbacks=[model_checkpoint])"
   ]
  },
  {
   "cell_type": "markdown",
   "id": "36b3a8f5-5fb7-423f-854c-62a1b7e53fef",
   "metadata": {},
   "source": [
    "#### model.h5"
   ]
  },
  {
   "cell_type": "code",
   "execution_count": 4,
   "id": "26839f00-cbc8-4eb1-b5fb-83f598799390",
   "metadata": {},
   "outputs": [
    {
     "name": "stdout",
     "output_type": "stream",
     "text": [
      "Epoch 1/2\n",
      "1870/1875 [============================>.] - ETA: 0s - loss: 0.6321 - accuracy: 0.8364\n",
      "Epoch 00001: saving model to model.h5\n",
      "1875/1875 [==============================] - 12s 6ms/step - loss: 0.6315 - accuracy: 0.8366 - val_loss: 0.3398 - val_accuracy: 0.9090\n",
      "Epoch 2/2\n",
      "1875/1875 [==============================] - ETA: 0s - loss: 0.3421 - accuracy: 0.9038\n",
      "Epoch 00002: saving model to model.h5\n",
      "1875/1875 [==============================] - 10s 5ms/step - loss: 0.3421 - accuracy: 0.9038 - val_loss: 0.2763 - val_accuracy: 0.9238\n"
     ]
    },
    {
     "data": {
      "text/plain": [
       "<keras.callbacks.History at 0x244e1932c10>"
      ]
     },
     "execution_count": 4,
     "metadata": {},
     "output_type": "execute_result"
    }
   ],
   "source": [
    "model = create_model()\n",
    "model.compile(optimizer='sgd',loss='sparse_categorical_crossentropy',metrics=['accuracy'])\n",
    "\n",
    "model_checkpoint = tf.keras.callbacks.ModelCheckpoint('model.h5', verbose=1)\n",
    "\n",
    "model.fit(x=x_train, y=y_train, epochs=2, validation_data=(x_test, y_test), callbacks=[model_checkpoint])"
   ]
  },
  {
   "cell_type": "markdown",
   "id": "7ad4d928-f434-4407-b21c-e2e970b13cc5",
   "metadata": {},
   "source": [
    "---"
   ]
  },
  {
   "cell_type": "markdown",
   "id": "c8574189-9d3f-48ff-8ed1-c1ec0f84666a",
   "metadata": {},
   "source": [
    "## Early Stopping"
   ]
  },
  {
   "cell_type": "markdown",
   "id": "a5df13f4-b01f-4458-8366-5cb6a5232c31",
   "metadata": {},
   "source": [
    "Stop training when a monitored metric stopped improving."
   ]
  },
  {
   "cell_type": "code",
   "execution_count": 7,
   "id": "31cdfa17-f138-4751-8603-5f49868b316a",
   "metadata": {},
   "outputs": [
    {
     "name": "stdout",
     "output_type": "stream",
     "text": [
      "Epoch 1/50\n",
      "1875/1875 [==============================] - 12s 6ms/step - loss: 0.6391 - accuracy: 0.8363 - val_loss: 0.3388 - val_accuracy: 0.9082\n",
      "Epoch 2/50\n",
      "1875/1875 [==============================] - 10s 6ms/step - loss: 0.3406 - accuracy: 0.9044 - val_loss: 0.2745 - val_accuracy: 0.9247\n",
      "Epoch 3/50\n",
      "1875/1875 [==============================] - 11s 6ms/step - loss: 0.2867 - accuracy: 0.9191 - val_loss: 0.2411 - val_accuracy: 0.9329\n",
      "Epoch 4/50\n",
      "1875/1875 [==============================] - 11s 6ms/step - loss: 0.2545 - accuracy: 0.9290 - val_loss: 0.2177 - val_accuracy: 0.9394\n",
      "Epoch 5/50\n",
      "1875/1875 [==============================] - 11s 6ms/step - loss: 0.2287 - accuracy: 0.9363 - val_loss: 0.1981 - val_accuracy: 0.9451\n",
      "Epoch 6/50\n",
      "1875/1875 [==============================] - 11s 6ms/step - loss: 0.2082 - accuracy: 0.9413 - val_loss: 0.1826 - val_accuracy: 0.9483\n",
      "Epoch 7/50\n",
      "1866/1875 [============================>.] - ETA: 0s - loss: 0.1900 - accuracy: 0.9467Restoring model weights from the end of the best epoch: 4.\n",
      "1875/1875 [==============================] - 11s 6ms/step - loss: 0.1904 - accuracy: 0.9466 - val_loss: 0.1693 - val_accuracy: 0.9518\n",
      "Epoch 00007: early stopping\n"
     ]
    },
    {
     "data": {
      "text/plain": [
       "<keras.callbacks.History at 0x244e46c6640>"
      ]
     },
     "execution_count": 7,
     "metadata": {},
     "output_type": "execute_result"
    }
   ],
   "source": [
    "model = create_model()\n",
    "model.compile(optimizer='sgd',loss='sparse_categorical_crossentropy',metrics=['accuracy'])\n",
    "\n",
    "early_stopping = tf.keras.callbacks.EarlyStopping(patience=3,min_delta=0.05,baseline=0.8,mode='min',monitor='val_loss',restore_best_weights=True,verbose=1)\n",
    "\n",
    "model.fit(x=x_train, y=y_train, epochs=50, validation_data=(x_test, y_test), callbacks=[early_stopping])"
   ]
  },
  {
   "cell_type": "markdown",
   "id": "cb1cbfc5-cda5-4437-922b-6c0b050026fd",
   "metadata": {},
   "source": [
    "#### cvs logger"
   ]
  },
  {
   "cell_type": "markdown",
   "id": "6af8c0ce-ad4c-4228-b310-944d61ee73f7",
   "metadata": {},
   "source": [
    "Streams epoch resulta to csv"
   ]
  },
  {
   "cell_type": "code",
   "execution_count": 9,
   "id": "a297d905-38e4-4cd8-a730-73c998050f23",
   "metadata": {},
   "outputs": [
    {
     "name": "stdout",
     "output_type": "stream",
     "text": [
      "Epoch 1/5\n",
      "1875/1875 [==============================] - 11s 6ms/step - loss: 0.6290 - accuracy: 0.8396 - val_loss: 0.3427 - val_accuracy: 0.9072\n",
      "Epoch 2/5\n",
      "1875/1875 [==============================] - 11s 6ms/step - loss: 0.3429 - accuracy: 0.9038 - val_loss: 0.2771 - val_accuracy: 0.9246\n",
      "Epoch 3/5\n",
      "1875/1875 [==============================] - 11s 6ms/step - loss: 0.2877 - accuracy: 0.9194 - val_loss: 0.2459 - val_accuracy: 0.9321\n",
      "Epoch 4/5\n",
      "1875/1875 [==============================] - 11s 6ms/step - loss: 0.2525 - accuracy: 0.9293 - val_loss: 0.2198 - val_accuracy: 0.9392\n",
      "Epoch 5/5\n",
      "1875/1875 [==============================] - 11s 6ms/step - loss: 0.2282 - accuracy: 0.9349 - val_loss: 0.1991 - val_accuracy: 0.9428\n"
     ]
    },
    {
     "data": {
      "text/plain": [
       "<keras.callbacks.History at 0x244e1924bb0>"
      ]
     },
     "execution_count": 9,
     "metadata": {},
     "output_type": "execute_result"
    }
   ],
   "source": [
    "model = create_model()\n",
    "model.compile(optimizer='sgd',loss='sparse_categorical_crossentropy',metrics=['accuracy'])\n",
    "\n",
    "model.fit(x=x_train, y=y_train, epochs=5, validation_data=(x_test, y_test), callbacks=[tf.keras.callbacks.CSVLogger('training.csv')])"
   ]
  },
  {
   "cell_type": "code",
   "execution_count": 10,
   "id": "a3ecf816-abb1-4e4d-94f4-3af5fa984289",
   "metadata": {},
   "outputs": [
    {
     "data": {
      "text/html": [
       "<div>\n",
       "<style scoped>\n",
       "    .dataframe tbody tr th:only-of-type {\n",
       "        vertical-align: middle;\n",
       "    }\n",
       "\n",
       "    .dataframe tbody tr th {\n",
       "        vertical-align: top;\n",
       "    }\n",
       "\n",
       "    .dataframe thead th {\n",
       "        text-align: right;\n",
       "    }\n",
       "</style>\n",
       "<table border=\"1\" class=\"dataframe\">\n",
       "  <thead>\n",
       "    <tr style=\"text-align: right;\">\n",
       "      <th></th>\n",
       "      <th>epoch</th>\n",
       "      <th>accuracy</th>\n",
       "      <th>loss</th>\n",
       "      <th>val_accuracy</th>\n",
       "      <th>val_loss</th>\n",
       "    </tr>\n",
       "  </thead>\n",
       "  <tbody>\n",
       "    <tr>\n",
       "      <th>0</th>\n",
       "      <td>0</td>\n",
       "      <td>0.839633</td>\n",
       "      <td>0.628976</td>\n",
       "      <td>0.9072</td>\n",
       "      <td>0.342655</td>\n",
       "    </tr>\n",
       "    <tr>\n",
       "      <th>1</th>\n",
       "      <td>1</td>\n",
       "      <td>0.903767</td>\n",
       "      <td>0.342891</td>\n",
       "      <td>0.9246</td>\n",
       "      <td>0.277073</td>\n",
       "    </tr>\n",
       "    <tr>\n",
       "      <th>2</th>\n",
       "      <td>2</td>\n",
       "      <td>0.919400</td>\n",
       "      <td>0.287678</td>\n",
       "      <td>0.9321</td>\n",
       "      <td>0.245860</td>\n",
       "    </tr>\n",
       "    <tr>\n",
       "      <th>3</th>\n",
       "      <td>3</td>\n",
       "      <td>0.929283</td>\n",
       "      <td>0.252475</td>\n",
       "      <td>0.9392</td>\n",
       "      <td>0.219790</td>\n",
       "    </tr>\n",
       "    <tr>\n",
       "      <th>4</th>\n",
       "      <td>4</td>\n",
       "      <td>0.934950</td>\n",
       "      <td>0.228233</td>\n",
       "      <td>0.9428</td>\n",
       "      <td>0.199099</td>\n",
       "    </tr>\n",
       "  </tbody>\n",
       "</table>\n",
       "</div>"
      ],
      "text/plain": [
       "   epoch  accuracy      loss  val_accuracy  val_loss\n",
       "0      0  0.839633  0.628976        0.9072  0.342655\n",
       "1      1  0.903767  0.342891        0.9246  0.277073\n",
       "2      2  0.919400  0.287678        0.9321  0.245860\n",
       "3      3  0.929283  0.252475        0.9392  0.219790\n",
       "4      4  0.934950  0.228233        0.9428  0.199099"
      ]
     },
     "execution_count": 10,
     "metadata": {},
     "output_type": "execute_result"
    }
   ],
   "source": [
    "pd.read_csv('training.csv')"
   ]
  },
  {
   "cell_type": "markdown",
   "id": "9221d7db-e928-4df5-835e-21b263c2ac35",
   "metadata": {},
   "source": [
    "#### Learning rate scheduler"
   ]
  },
  {
   "cell_type": "markdown",
   "id": "8e2eb753-403d-4548-8442-234a059551b2",
   "metadata": {},
   "source": [
    "Updates learning rate during training."
   ]
  },
  {
   "cell_type": "code",
   "execution_count": null,
   "id": "85b558a9-1c13-4998-8f1f-f34a54a8529e",
   "metadata": {},
   "outputs": [],
   "source": [
    "import math"
   ]
  },
  {
   "cell_type": "code",
   "execution_count": 11,
   "id": "bcbeed22-8c48-494e-a210-cffa465dc5ca",
   "metadata": {},
   "outputs": [],
   "source": [
    "def step_decay(epoch):\n",
    "    initial_lr=0.01\n",
    "    drop=0.5\n",
    "    epoch_drop=1\n",
    "    lr=initial_lr*drop**(int((1+epoch)/epoch_drop))\n",
    "    return lr"
   ]
  },
  {
   "cell_type": "code",
   "execution_count": 12,
   "id": "b6fc4867-c391-4d04-acdd-2a15adca1a53",
   "metadata": {},
   "outputs": [
    {
     "name": "stdout",
     "output_type": "stream",
     "text": [
      "\n",
      "Epoch 00001: LearningRateScheduler setting learning rate to 0.005.\n",
      "Epoch 1/5\n",
      "1875/1875 [==============================] - 12s 6ms/step - loss: 0.8299 - accuracy: 0.7994 - val_loss: 0.4259 - val_accuracy: 0.8932 - lr: 0.0050\n",
      "\n",
      "Epoch 00002: LearningRateScheduler setting learning rate to 0.0025.\n",
      "Epoch 2/5\n",
      "1875/1875 [==============================] - 11s 6ms/step - loss: 0.4434 - accuracy: 0.8805 - val_loss: 0.3676 - val_accuracy: 0.9034 - lr: 0.0025\n",
      "\n",
      "Epoch 00003: LearningRateScheduler setting learning rate to 0.00125.\n",
      "Epoch 3/5\n",
      "1875/1875 [==============================] - 11s 6ms/step - loss: 0.4017 - accuracy: 0.8897 - val_loss: 0.3493 - val_accuracy: 0.9063 - lr: 0.0012\n",
      "\n",
      "Epoch 00004: LearningRateScheduler setting learning rate to 0.000625.\n",
      "Epoch 4/5\n",
      "1875/1875 [==============================] - 10s 6ms/step - loss: 0.3883 - accuracy: 0.8922 - val_loss: 0.3417 - val_accuracy: 0.9075 - lr: 6.2500e-04\n",
      "\n",
      "Epoch 00005: LearningRateScheduler setting learning rate to 0.0003125.\n",
      "Epoch 5/5\n",
      "1875/1875 [==============================] - 10s 6ms/step - loss: 0.3816 - accuracy: 0.8939 - val_loss: 0.3380 - val_accuracy: 0.9085 - lr: 3.1250e-04\n"
     ]
    },
    {
     "data": {
      "text/plain": [
       "<keras.callbacks.History at 0x2448e4d17c0>"
      ]
     },
     "execution_count": 12,
     "metadata": {},
     "output_type": "execute_result"
    }
   ],
   "source": [
    "model = create_model()\n",
    "model.compile(optimizer='sgd',loss='sparse_categorical_crossentropy',metrics=['accuracy'])\n",
    "\n",
    "model.fit(x=x_train, y=y_train, epochs=5, validation_data=(x_test, y_test), callbacks=[tf.keras.callbacks.LearningRateScheduler(step_decay,verbose=1)])"
   ]
  },
  {
   "cell_type": "markdown",
   "id": "032c932e-99ca-49c4-a15b-35d94bfd018f",
   "metadata": {},
   "source": [
    "#### Reduce lr on Plateau"
   ]
  },
  {
   "cell_type": "markdown",
   "id": "98f21b8b-bf96-4927-84a6-aa8bb6ca50c2",
   "metadata": {},
   "source": [
    "Reduce learning rate when a metric has stopped improving"
   ]
  },
  {
   "cell_type": "code",
   "execution_count": 18,
   "id": "710133c5-67fe-4162-8028-5fd3d83237a8",
   "metadata": {},
   "outputs": [],
   "source": [
    "model = create_model()\n",
    "model.compile(optimizer='sgd',loss='sparse_categorical_crossentropy',metrics=['accuracy'])\n",
    "\n",
    "model.fit(x=x_train, y=y_train, epochs=50, validation_data=(x_test, y_test), callbacks=[tf.keras.callbacks.ReduceLROnPlateau(monitor='val_loss',min_lr=0.001,patience=1)])"
   ]
  },
  {
   "cell_type": "markdown",
   "id": "bc6c8620-e6a4-468c-8065-c8131ed798c3",
   "metadata": {},
   "source": [
    "---"
   ]
  },
  {
   "cell_type": "markdown",
   "id": "470e0e60-a5ae-4ec9-ba39-0c4c18a0ef51",
   "metadata": {},
   "source": [
    "## Custom Callbacks"
   ]
  },
  {
   "cell_type": "code",
   "execution_count": 2,
   "id": "4e60a884-65bd-4ee4-9bf7-ff099a00a269",
   "metadata": {},
   "outputs": [],
   "source": [
    "import tensorflow as tf\n",
    "import pandas as pd\n",
    "import datetime"
   ]
  },
  {
   "cell_type": "code",
   "execution_count": 21,
   "id": "1d3097ea-2009-4ff9-b117-eb17fe96e514",
   "metadata": {},
   "outputs": [],
   "source": [
    "mnist = tf.keras.datasets.mnist\n",
    "\n",
    "(x_train, y_train),(x_test, y_test) = mnist.load_data()\n",
    "x_train, x_test = x_train / 255.0, x_test / 255.0\n",
    "\n",
    "def create_model():\n",
    "    input=tf.keras.layers.Input(shape=(28, 28))\n",
    "    x=tf.keras.layers.Flatten()(input)\n",
    "    x=tf.keras.layers.Dense(512,activation='relu')(x)\n",
    "    x=tf.keras.layers.Dropout(0.2)(x)\n",
    "    output=tf.keras.layers.Dense(10,activation='softmax')(x)\n",
    "    model=tf.keras.models.Model(inputs=input,outputs=output)\n",
    "    return model"
   ]
  },
  {
   "cell_type": "code",
   "execution_count": 22,
   "id": "f73332bf-bb0c-42f2-9ac8-8b98df601de9",
   "metadata": {},
   "outputs": [
    {
     "name": "stderr",
     "output_type": "stream",
     "text": [
      "C:\\Users\\pk764\\miniconda3\\envs\\tensorflow\\lib\\site-packages\\keras\\optimizer_v2\\rmsprop.py:130: UserWarning: The `lr` argument is deprecated, use `learning_rate` instead.\n",
      "  super(RMSprop, self).__init__(name, **kwargs)\n"
     ]
    }
   ],
   "source": [
    "model = create_model()\n",
    "model.compile(optimizer=tf.keras.optimizers.RMSprop(lr=0.1),loss='mean_squared_error',metrics=['mae'])"
   ]
  },
  {
   "cell_type": "code",
   "execution_count": 28,
   "id": "8c669245-be2d-41bb-bb58-09626e5b30b0",
   "metadata": {},
   "outputs": [],
   "source": [
    "class CustomCallnback(tf.keras.callbacks.Callback):\n",
    "    def on_train_batch_begin(self, batch, logs=None):\n",
    "        print(f'Training batch {batch} begins at {datetime.datetime.now().time()}')\n",
    "    def on_train_batch_end(self, batch, logs=None):\n",
    "        print(f'Training batch {batch} ends at {datetime.datetime.now().time()}')"
   ]
  },
  {
   "cell_type": "code",
   "execution_count": 32,
   "id": "5997bebc-2eec-4c22-8158-b2135ad6e47c",
   "metadata": {},
   "outputs": [
    {
     "name": "stdout",
     "output_type": "stream",
     "text": [
      "Training batch 0 begins at 17:16:06.928644\n",
      "Training batch 0 ends at 17:16:06.942311\n",
      "1/5 [=====>........................] - ETA: 0s - loss: 25.6562 - mae: 4.1781Training batch 1 begins at 17:16:06.942311\n",
      "Training batch 1 ends at 17:16:06.958321\n",
      "Training batch 2 begins at 17:16:06.958321\n",
      "Training batch 2 ends at 17:16:06.966081\n",
      "Training batch 3 begins at 17:16:06.966081\n",
      "Training batch 3 ends at 17:16:06.977133\n",
      "Training batch 4 begins at 17:16:06.977133\n",
      "Training batch 4 ends at 17:16:06.990629\n",
      "5/5 [==============================] - 1s 167ms/step - loss: 28.1963 - mae: 4.4556 - val_loss: 27.3403 - val_mae: 4.3630\n"
     ]
    },
    {
     "data": {
      "text/plain": [
       "<keras.callbacks.History at 0x207169f6460>"
      ]
     },
     "execution_count": 32,
     "metadata": {},
     "output_type": "execute_result"
    }
   ],
   "source": [
    "model.fit(x=x_train, y=y_train, batch_size=64, epochs=1, steps_per_epoch=5, validation_data=(x_test, y_test), callbacks=[CustomCallnback()])"
   ]
  },
  {
   "cell_type": "markdown",
   "id": "f696d596-8c3b-41cb-bb51-6fd9a8fd5e37",
   "metadata": {},
   "source": [
    "### Callback methods:\n",
    "\n",
    "For trainning,testing and predicting:\n",
    "- `on_train/test/predict_begin`(self,logs=None)\n",
    "  \n",
    "  Called at the begining of `fit/evaluate/predict`\n",
    "- `on_train/test/predict_end`(self,logs=None)\n",
    "  \n",
    "  Called at the end of `fit/evaluate/predict`\n",
    "- `on_train/test/predict_batch_begin`(self, batch, logs=None)\n",
    "  \n",
    "  Called right before processing a batch during `training/testing/predicting`. Within its method `logs` is a dict with `batch` and `size` available keys representing current batch number and size of the batch.\n",
    "  \n",
    "- `on_train/test/predict_batch_begin`(self, batch, logs=None)\n",
    "  \n",
    "  Called at the end  of `training/testing/predicting` a batch.\n",
    "\n",
    "### Training Specific methods:\n",
    "- `on_epoch_begin`(self, epoch, logs=None)\n",
    "  \n",
    "  Called at the begining of `epoch` during training.\n",
    "- `on_epoch_end`(self, epoch, logs=None)\n",
    "  \n",
    "  Called at the end of `epoch` during training."
   ]
  },
  {
   "cell_type": "markdown",
   "id": "b184dd19-7b69-4cad-aa70-f413cc4b4d47",
   "metadata": {},
   "source": [
    "### Usage of logs dict\n",
    "\n",
    "Logs dict contains loss and all the metrics at the end of the batch/epoch."
   ]
  },
  {
   "cell_type": "markdown",
   "id": "0a16a7c1-f2c9-4ca8-b34b-d93e7101c462",
   "metadata": {},
   "source": [
    "`print parameter values`"
   ]
  },
  {
   "cell_type": "code",
   "execution_count": 34,
   "id": "73361f2d-4504-444b-a22f-e4066b1c818d",
   "metadata": {},
   "outputs": [],
   "source": [
    "callback=tf.keras.callbacks.LambdaCallback(on_epoch_end=lambda epoch,logs: print(f\"Epoch {'epoch'}, Val/Train loss ratio: {logs['val_loss']/logs['loss']}\"))"
   ]
  },
  {
   "cell_type": "code",
   "execution_count": 36,
   "id": "a6ffe021-fa8d-4409-b50f-a95a7a67cd44",
   "metadata": {},
   "outputs": [
    {
     "name": "stdout",
     "output_type": "stream",
     "text": [
      "Epoch 1/3\n",
      "935/938 [============================>.] - ETA: 0s - loss: 27.3917 - mae: 4.3734Epoch epoch, Val/Train loss ratio: 0.9980231981787689\n",
      "938/938 [==============================] - 11s 11ms/step - loss: 27.3945 - mae: 4.3737 - val_loss: 27.3403 - val_mae: 4.3630\n",
      "Epoch 2/3\n",
      "935/938 [============================>.] - ETA: 0s - loss: 27.3948 - mae: 4.3738Epoch epoch, Val/Train loss ratio: 0.9980229202281453\n",
      "938/938 [==============================] - 11s 12ms/step - loss: 27.3945 - mae: 4.3737 - val_loss: 27.3403 - val_mae: 4.3630\n",
      "Epoch 3/3\n",
      "934/938 [============================>.] - ETA: 0s - loss: 27.3887 - mae: 4.3731Epoch epoch, Val/Train loss ratio: 0.9980226422776766\n",
      "938/938 [==============================] - 11s 12ms/step - loss: 27.3945 - mae: 4.3737 - val_loss: 27.3403 - val_mae: 4.3630\n"
     ]
    }
   ],
   "source": [
    "model.fit(x=x_train, y=y_train, batch_size=64, epochs=3, validation_data=(x_test, y_test), callbacks=[callback])"
   ]
  },
  {
   "cell_type": "markdown",
   "id": "8aa8e781-eb3b-4c55-bf19-a4122efa1b81",
   "metadata": {},
   "source": [
    "`detect overfitting`"
   ]
  },
  {
   "cell_type": "code",
   "execution_count": 37,
   "id": "a7444251-59b6-4bff-a076-09d2a1ee1234",
   "metadata": {},
   "outputs": [],
   "source": [
    "class DetectOverfittingCallback(tf.keras.callbacks.Callback):\n",
    "    def __init__(self, threshold=0.7):\n",
    "        super(DetectOverfittingCallback,self).__init__()\n",
    "        self.threshold=threshold\n",
    "    def on_epoch_end(self,epoch,logs=None):\n",
    "        ratio=logs['val_loss']/logs['loss']\n",
    "        print(f\"Epoch {'epoch'}, Val/Train loss ratio: {ratio}\")\n",
    "        if ratio > self.threshold:\n",
    "            print('Stopping training')\n",
    "            self.model.stop_training=True"
   ]
  },
  {
   "cell_type": "code",
   "execution_count": 39,
   "id": "469ac551-112b-429c-85a2-88e2e8a99d9e",
   "metadata": {},
   "outputs": [
    {
     "name": "stdout",
     "output_type": "stream",
     "text": [
      "Epoch 1/3\n",
      "937/938 [============================>.] - ETA: 0s - loss: 27.3994 - mae: 4.3742Epoch epoch, Val/Train loss ratio: 0.9980227812528917\n",
      "Stopping training\n",
      "938/938 [==============================] - 11s 12ms/step - loss: 27.3945 - mae: 4.3737 - val_loss: 27.3403 - val_mae: 4.3630\n"
     ]
    },
    {
     "data": {
      "text/plain": [
       "<keras.callbacks.History at 0x20717fd25e0>"
      ]
     },
     "execution_count": 39,
     "metadata": {},
     "output_type": "execute_result"
    }
   ],
   "source": [
    "model.fit(x=x_train, y=y_train, batch_size=64, epochs=3, validation_data=(x_test, y_test), callbacks=[DetectOverfittingCallback()])"
   ]
  },
  {
   "cell_type": "code",
   "execution_count": null,
   "id": "720d6ed6-0b8d-4de1-8226-8ee7fd253ff7",
   "metadata": {},
   "outputs": [],
   "source": []
  }
 ],
 "metadata": {
  "kernelspec": {
   "display_name": "Python 3 (ipykernel)",
   "language": "python",
   "name": "python3"
  },
  "language_info": {
   "codemirror_mode": {
    "name": "ipython",
    "version": 3
   },
   "file_extension": ".py",
   "mimetype": "text/x-python",
   "name": "python",
   "nbconvert_exporter": "python",
   "pygments_lexer": "ipython3",
   "version": "3.9.18"
  }
 },
 "nbformat": 4,
 "nbformat_minor": 5
}
