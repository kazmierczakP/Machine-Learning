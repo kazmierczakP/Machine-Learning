{
 "cells": [
  {
   "cell_type": "markdown",
   "id": "5df505b2-6253-416d-83cd-71187a4e7f6f",
   "metadata": {},
   "source": [
    "# Custom Layers"
   ]
  },
  {
   "cell_type": "code",
   "execution_count": 3,
   "id": "e3cba9ef-e36b-46a2-906f-143e707b120d",
   "metadata": {},
   "outputs": [],
   "source": [
    "import tensorflow as tf\n",
    "import pandas as pd\n",
    "import numpy as np"
   ]
  },
  {
   "cell_type": "code",
   "execution_count": 2,
   "id": "c438560a-5820-4a2c-9752-9c90fa965ec4",
   "metadata": {},
   "outputs": [],
   "source": [
    "mnist = tf.keras.datasets.fashion_mnist\n",
    "(training_images, training_labels), (test_images, test_labels) = mnist.load_data()\n",
    "training_images = training_images / 255.0\n",
    "test_images = test_images / 255.0"
   ]
  },
  {
   "cell_type": "markdown",
   "id": "2436ac0f-9e13-4e3b-952b-60053f132394",
   "metadata": {},
   "source": [
    "#### Classic model"
   ]
  },
  {
   "cell_type": "code",
   "execution_count": 34,
   "id": "1ecd71b8-0f03-4350-97b2-b7527c8f8aab",
   "metadata": {},
   "outputs": [
    {
     "name": "stdout",
     "output_type": "stream",
     "text": [
      "Epoch 1/5\n",
      "1875/1875 [==============================] - 5s 2ms/step - loss: 0.4997 - accuracy: 0.8250 - val_loss: 0.4413 - val_accuracy: 0.8431\n",
      "Epoch 2/5\n",
      "1875/1875 [==============================] - 5s 3ms/step - loss: 0.3761 - accuracy: 0.8633 - val_loss: 0.3931 - val_accuracy: 0.8612\n",
      "Epoch 3/5\n",
      "1875/1875 [==============================] - 4s 2ms/step - loss: 0.3366 - accuracy: 0.8769 - val_loss: 0.3702 - val_accuracy: 0.8674\n",
      "Epoch 4/5\n",
      "1875/1875 [==============================] - 4s 2ms/step - loss: 0.3109 - accuracy: 0.8867 - val_loss: 0.3631 - val_accuracy: 0.8684\n",
      "Epoch 5/5\n",
      "1875/1875 [==============================] - 5s 3ms/step - loss: 0.2953 - accuracy: 0.8912 - val_loss: 0.3568 - val_accuracy: 0.8708\n",
      "313/313 [==============================] - 0s 1ms/step - loss: 0.3568 - accuracy: 0.8708\n"
     ]
    },
    {
     "data": {
      "text/plain": [
       "[0.35676950216293335, 0.8708000183105469]"
      ]
     },
     "execution_count": 34,
     "metadata": {},
     "output_type": "execute_result"
    }
   ],
   "source": [
    "model=tf.keras.models.Sequential([\n",
    "    tf.keras.layers.Flatten(input_shape=(28,28,)),\n",
    "    tf.keras.layers.Dense(128,activation='relu'),\n",
    "    tf.keras.layers.Dense(10,activation='softmax')\n",
    "])\n",
    "model.compile(loss='sparse_categorical_crossentropy',optimizer=tf.keras.optimizers.Adam(),metrics=['accuracy'])\n",
    "model.fit(training_images,training_labels,epochs=5,validation_data=(test_images,test_labels))\n",
    "model.evaluate(test_images, test_labels)"
   ]
  },
  {
   "cell_type": "markdown",
   "id": "2e4c0c15-3a00-4c18-981f-340494b8b324",
   "metadata": {},
   "source": [
    "#### Lambda layer"
   ]
  },
  {
   "cell_type": "markdown",
   "id": "1d415f0c-13d9-4239-85ea-297d7bfbfcb6",
   "metadata": {},
   "source": [
    "With custom layer we still don't have the controll to set up the `activation` function, therefore we use `Lambda` function to workaround."
   ]
  },
  {
   "cell_type": "code",
   "execution_count": 8,
   "id": "0beb1dd2-d9ef-484d-820b-f96060bc73b4",
   "metadata": {},
   "outputs": [
    {
     "name": "stdout",
     "output_type": "stream",
     "text": [
      "Epoch 1/5\n",
      "1875/1875 [==============================] - 5s 2ms/step - loss: 0.5148 - accuracy: 0.8227 - val_loss: 0.4602 - val_accuracy: 0.8368\n",
      "Epoch 2/5\n",
      "1875/1875 [==============================] - 4s 2ms/step - loss: 0.3932 - accuracy: 0.8606 - val_loss: 0.4253 - val_accuracy: 0.8534\n",
      "Epoch 3/5\n",
      "1875/1875 [==============================] - 4s 2ms/step - loss: 0.3572 - accuracy: 0.8725 - val_loss: 0.4141 - val_accuracy: 0.8607\n",
      "Epoch 4/5\n",
      "1875/1875 [==============================] - 5s 3ms/step - loss: 0.3330 - accuracy: 0.8818 - val_loss: 0.3867 - val_accuracy: 0.8647\n",
      "Epoch 5/5\n",
      "1875/1875 [==============================] - 4s 2ms/step - loss: 0.3157 - accuracy: 0.8857 - val_loss: 0.4004 - val_accuracy: 0.8612\n",
      "313/313 [==============================] - 0s 1ms/step - loss: 0.4004 - accuracy: 0.8612\n"
     ]
    },
    {
     "data": {
      "text/plain": [
       "[0.4003850221633911, 0.8611999750137329]"
      ]
     },
     "execution_count": 8,
     "metadata": {},
     "output_type": "execute_result"
    }
   ],
   "source": [
    "model=tf.keras.models.Sequential([\n",
    "    tf.keras.layers.Flatten(input_shape=(28,28,)),\n",
    "    tf.keras.layers.Dense(128),\n",
    "    tf.keras.layers.Lambda(lambda x: tf.abs(x)),\n",
    "    tf.keras.layers.Dense(10,activation='softmax')\n",
    "])\n",
    "model.compile(loss='sparse_categorical_crossentropy',optimizer=tf.keras.optimizers.Adam(),metrics=['accuracy'])\n",
    "model.fit(training_images,training_labels,epochs=5,validation_data=(test_images,test_labels))\n",
    "model.evaluate(test_images, test_labels)"
   ]
  },
  {
   "cell_type": "markdown",
   "id": "05bfdee5-58cf-4df1-b24d-0e6de33b2d36",
   "metadata": {},
   "source": [
    "---"
   ]
  },
  {
   "cell_type": "code",
   "execution_count": 14,
   "id": "13f62c0f-c1cf-4bde-8b56-d40a12631589",
   "metadata": {},
   "outputs": [],
   "source": [
    "def my_relu(x):\n",
    "    return tf.keras.backend.maximum(-0.1, x)"
   ]
  },
  {
   "cell_type": "code",
   "execution_count": 15,
   "id": "d88bd233-8448-4ee4-b90e-5704adc0cd53",
   "metadata": {},
   "outputs": [
    {
     "name": "stdout",
     "output_type": "stream",
     "text": [
      "Epoch 1/5\n",
      "1875/1875 [==============================] - 6s 3ms/step - loss: 0.4895 - accuracy: 0.8270 - val_loss: 0.4318 - val_accuracy: 0.8488\n",
      "Epoch 2/5\n",
      "1875/1875 [==============================] - 5s 2ms/step - loss: 0.3716 - accuracy: 0.8659 - val_loss: 0.3923 - val_accuracy: 0.8557\n",
      "Epoch 3/5\n",
      "1875/1875 [==============================] - 5s 3ms/step - loss: 0.3327 - accuracy: 0.8781 - val_loss: 0.3793 - val_accuracy: 0.8620\n",
      "Epoch 4/5\n",
      "1875/1875 [==============================] - 5s 3ms/step - loss: 0.3105 - accuracy: 0.8855 - val_loss: 0.3491 - val_accuracy: 0.8746\n",
      "Epoch 5/5\n",
      "1875/1875 [==============================] - 6s 3ms/step - loss: 0.2923 - accuracy: 0.8923 - val_loss: 0.3595 - val_accuracy: 0.8688\n",
      "313/313 [==============================] - 1s 2ms/step - loss: 0.3595 - accuracy: 0.8688\n"
     ]
    },
    {
     "data": {
      "text/plain": [
       "[0.3594619929790497, 0.8687999844551086]"
      ]
     },
     "execution_count": 15,
     "metadata": {},
     "output_type": "execute_result"
    }
   ],
   "source": [
    "model=tf.keras.models.Sequential([\n",
    "    tf.keras.layers.Flatten(input_shape=(28,28,)),\n",
    "    tf.keras.layers.Dense(128),\n",
    "    tf.keras.layers.Lambda(my_relu),\n",
    "    tf.keras.layers.Dense(10,activation='softmax')\n",
    "])\n",
    "model.compile(loss='sparse_categorical_crossentropy',optimizer=tf.keras.optimizers.Adam(),metrics=['accuracy'])\n",
    "model.fit(training_images,training_labels,epochs=5,validation_data=(test_images,test_labels))\n",
    "model.evaluate(test_images, test_labels)"
   ]
  },
  {
   "cell_type": "markdown",
   "id": "e7e7b95f-5594-4192-8810-56e1abcda724",
   "metadata": {},
   "source": [
    "#### Custom layer"
   ]
  },
  {
   "cell_type": "markdown",
   "id": "7ae2a6d0-3c59-47a1-9801-2cf8712b6f14",
   "metadata": {},
   "source": [
    "With custom layer we still don't have the controll to set up the `activation` function, therefore we use `Lambda` function to workaround."
   ]
  },
  {
   "cell_type": "code",
   "execution_count": 11,
   "id": "8026cb62-8a7d-4915-9bb7-a7237b96db24",
   "metadata": {},
   "outputs": [],
   "source": [
    "class CustomLayer(tf.keras.layers.Layer):\n",
    "    def __init__(self,units=32):\n",
    "        super(CustomLayer,self).__init__()\n",
    "        self.units=units\n",
    "    def build(self,input_shape):\n",
    "        w_init=tf.random_normal_initializer()\n",
    "        self.w=tf.Variable(name='kernel',initial_value=w_init(shape=(input_shape[-1],self.units),dtype='float32'),trainable=True)\n",
    "        b_init=tf.zeros_initializer()\n",
    "        self.b=tf.Variable(name='bias',initial_value=b_init(shape=(self.units,),dtype='float32'),trainable=True)\n",
    "    def call(self,inputs):\n",
    "        return tf.matmul(inputs,self.w)+ self.b"
   ]
  },
  {
   "cell_type": "code",
   "execution_count": 12,
   "id": "d1a4678a-b113-4627-a47e-bcd16e51d030",
   "metadata": {},
   "outputs": [],
   "source": [
    "def my_relu(x):\n",
    "    return tf.keras.backend.maximum(-0.1, x)"
   ]
  },
  {
   "cell_type": "code",
   "execution_count": 13,
   "id": "85f3c1a1-a9ba-4c12-8804-a7ba3bab1e62",
   "metadata": {},
   "outputs": [
    {
     "name": "stdout",
     "output_type": "stream",
     "text": [
      "Epoch 1/5\n",
      "1875/1875 [==============================] - 6s 3ms/step - loss: 0.4979 - accuracy: 0.8243 - val_loss: 0.4185 - val_accuracy: 0.8542\n",
      "Epoch 2/5\n",
      "1875/1875 [==============================] - 5s 2ms/step - loss: 0.3705 - accuracy: 0.8662 - val_loss: 0.3796 - val_accuracy: 0.8665\n",
      "Epoch 3/5\n",
      "1875/1875 [==============================] - 5s 3ms/step - loss: 0.3358 - accuracy: 0.8778 - val_loss: 0.3632 - val_accuracy: 0.8684\n",
      "Epoch 4/5\n",
      "1875/1875 [==============================] - 5s 3ms/step - loss: 0.3111 - accuracy: 0.8862 - val_loss: 0.3858 - val_accuracy: 0.8633\n",
      "Epoch 5/5\n",
      "1875/1875 [==============================] - 5s 3ms/step - loss: 0.2935 - accuracy: 0.8917 - val_loss: 0.3988 - val_accuracy: 0.8595\n",
      "313/313 [==============================] - 0s 1ms/step - loss: 0.3988 - accuracy: 0.8595\n"
     ]
    },
    {
     "data": {
      "text/plain": [
       "[0.3988169729709625, 0.859499990940094]"
      ]
     },
     "execution_count": 13,
     "metadata": {},
     "output_type": "execute_result"
    }
   ],
   "source": [
    "model=tf.keras.models.Sequential([\n",
    "    tf.keras.layers.Flatten(input_shape=(28,28,)),\n",
    "    CustomLayer(128),\n",
    "    tf.keras.layers.Lambda(my_relu),\n",
    "    tf.keras.layers.Dense(10,activation='softmax')\n",
    "])\n",
    "model.compile(loss='sparse_categorical_crossentropy',optimizer=tf.keras.optimizers.Adam(),metrics=['accuracy'])\n",
    "model.fit(training_images,training_labels,epochs=5,validation_data=(test_images,test_labels))\n",
    "model.evaluate(test_images, test_labels)"
   ]
  },
  {
   "cell_type": "code",
   "execution_count": 14,
   "id": "c63db9eb-a51e-4f83-ba88-83831878b701",
   "metadata": {},
   "outputs": [
    {
     "data": {
      "text/plain": [
       "[<tf.Variable 'custom_layer_5/kernel:0' shape=(1, 1) dtype=float32, numpy=array([[0.00631469]], dtype=float32)>,\n",
       " <tf.Variable 'custom_layer_5/bias:0' shape=(1,) dtype=float32, numpy=array([0.], dtype=float32)>]"
      ]
     },
     "execution_count": 14,
     "metadata": {},
     "output_type": "execute_result"
    }
   ],
   "source": [
    "layer=CustomLayer(1)\n",
    "\n",
    "x=tf.ones((1,1))\n",
    "y=layer(x)\n",
    "\n",
    "layer.variables"
   ]
  },
  {
   "cell_type": "markdown",
   "id": "b2c193af-72d1-4127-a590-619f816df1bc",
   "metadata": {},
   "source": [
    "---"
   ]
  },
  {
   "cell_type": "code",
   "execution_count": 16,
   "id": "cfaa61b3-d671-4413-93e6-646ad66a1e8f",
   "metadata": {},
   "outputs": [],
   "source": [
    "# xs = np.array([-1.0,  0.0, 1.0, 2.0, 3.0, 4.0])\n",
    "# ys = np.array([-3.0, -1.0, 1.0, 3.0, 5.0, 7.0])\n",
    "\n",
    "# layer=CustomLayer(1)\n",
    "# model = tf.keras.models.Sequential([\n",
    "#     layer\n",
    "# ])\n",
    "\n",
    "# model.compile(optimizer='sgd', loss='mean_squared_error')\n",
    "# model.fit(xs, ys, epochs=500,verbose=0)\n",
    "\n",
    "# print(model.predict([10.0]))\n",
    "# print(layer.variables)"
   ]
  },
  {
   "cell_type": "markdown",
   "id": "5e42fb4f-530e-45a7-bdde-168a4757f3ac",
   "metadata": {},
   "source": [
    "#### Custom Layer with activation"
   ]
  },
  {
   "cell_type": "code",
   "execution_count": 4,
   "id": "debfc10c-27e5-4678-a99d-438193a17350",
   "metadata": {},
   "outputs": [],
   "source": [
    "class CustomLayer(tf.keras.layers.Layer):\n",
    "    def __init__(self,units=32,activation='linear'):\n",
    "        super(CustomLayer,self).__init__()\n",
    "        self.units=units\n",
    "        self.activation=tf.keras.activations.get(activation)\n",
    "    def build(self,input_shape):\n",
    "        w_init=tf.random_normal_initializer()\n",
    "        self.w=tf.Variable(name='kernel',initial_value=w_init(shape=(input_shape[-1],self.units),dtype='float32'),trainable=True)\n",
    "        b_init=tf.zeros_initializer()\n",
    "        self.b=tf.Variable(name='bias',initial_value=b_init(shape=(self.units,),dtype='float32'),trainable=True)\n",
    "    def call(self,inputs):\n",
    "        return self.activation(tf.matmul(inputs,self.w)+ self.b)"
   ]
  },
  {
   "cell_type": "code",
   "execution_count": 48,
   "id": "ce234ffe-8053-458d-a0bb-0ed2f6075daf",
   "metadata": {},
   "outputs": [
    {
     "name": "stdout",
     "output_type": "stream",
     "text": [
      "Epoch 1/5\n",
      "1875/1875 [==============================] - 5s 2ms/step - loss: 1.4812 - accuracy: 0.5637 - val_loss: 0.9672 - val_accuracy: 0.7287\n",
      "Epoch 2/5\n",
      "1875/1875 [==============================] - 5s 3ms/step - loss: 1.0156 - accuracy: 0.6215 - val_loss: 0.7266 - val_accuracy: 0.7452\n",
      "Epoch 3/5\n",
      "1875/1875 [==============================] - 5s 3ms/step - loss: 0.9364 - accuracy: 0.6334 - val_loss: 0.6523 - val_accuracy: 0.7480\n",
      "Epoch 4/5\n",
      "1875/1875 [==============================] - 5s 3ms/step - loss: 0.9068 - accuracy: 0.6339 - val_loss: 0.6162 - val_accuracy: 0.7573\n",
      "Epoch 5/5\n",
      "1875/1875 [==============================] - 5s 3ms/step - loss: 0.8914 - accuracy: 0.6409 - val_loss: 0.5993 - val_accuracy: 0.7728\n",
      "313/313 [==============================] - 0s 1ms/step - loss: 0.5993 - accuracy: 0.7728\n"
     ]
    },
    {
     "data": {
      "text/plain": [
       "[0.5993068814277649, 0.7728000283241272]"
      ]
     },
     "execution_count": 48,
     "metadata": {},
     "output_type": "execute_result"
    }
   ],
   "source": [
    "model=tf.keras.models.Sequential([\n",
    "    tf.keras.layers.Flatten(input_shape=(28,28,)),\n",
    "    CustomLayer(128,activation='softmax'),\n",
    "    tf.keras.layers.Dropout(0.2),\n",
    "    tf.keras.layers.Dense(10,activation='softmax')\n",
    "])\n",
    "model.compile(loss='sparse_categorical_crossentropy',optimizer=tf.keras.optimizers.Adam(),metrics=['accuracy'])\n",
    "model.fit(training_images,training_labels,epochs=5,validation_data=(test_images,test_labels))\n",
    "model.evaluate(test_images, test_labels)"
   ]
  },
  {
   "cell_type": "code",
   "execution_count": null,
   "id": "417d7c3e-531e-4778-9871-7eada257401b",
   "metadata": {},
   "outputs": [],
   "source": []
  }
 ],
 "metadata": {
  "kernelspec": {
   "display_name": "Python 3 (ipykernel)",
   "language": "python",
   "name": "python3"
  },
  "language_info": {
   "codemirror_mode": {
    "name": "ipython",
    "version": 3
   },
   "file_extension": ".py",
   "mimetype": "text/x-python",
   "name": "python",
   "nbconvert_exporter": "python",
   "pygments_lexer": "ipython3",
   "version": "3.9.18"
  }
 },
 "nbformat": 4,
 "nbformat_minor": 5
}
