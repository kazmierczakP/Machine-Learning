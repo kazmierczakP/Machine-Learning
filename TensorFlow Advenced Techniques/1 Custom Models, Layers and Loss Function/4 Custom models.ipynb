{
 "cells": [
  {
   "cell_type": "code",
   "execution_count": null,
   "id": "c2236284-7f32-4cfa-aa83-0e955faaa6e6",
   "metadata": {},
   "outputs": [],
   "source": []
  }
 ],
 "metadata": {
  "kernelspec": {
   "display_name": "",
   "name": ""
  },
  "language_info": {
   "name": ""
  }
 },
 "nbformat": 4,
 "nbformat_minor": 5
}
