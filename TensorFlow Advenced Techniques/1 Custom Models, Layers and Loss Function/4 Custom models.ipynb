{
 "cells": [
  {
   "cell_type": "markdown",
   "id": "f08a46e3-2d1d-4f43-83c4-51a23fa9f555",
   "metadata": {},
   "source": [
    "# Custom models"
   ]
  },
  {
   "cell_type": "markdown",
   "id": "6a2b64c2-2ad6-42be-b853-f92006310946",
   "metadata": {},
   "source": [
    "#### Custom model"
   ]
  },
  {
   "cell_type": "code",
   "execution_count": 1,
   "id": "eeb3954e-acb8-46e5-9002-478cafe40e59",
   "metadata": {},
   "outputs": [],
   "source": [
    "import tensorflow as tf"
   ]
  },
  {
   "cell_type": "code",
   "execution_count": 2,
   "id": "fb8da2bc-afc6-48e4-9f1e-3a37b59b7410",
   "metadata": {},
   "outputs": [],
   "source": [
    "input_a=tf.keras.layers.Input(shape=[1])\n",
    "input_b=tf.keras.layers.Input(shape=[1])\n",
    "\n",
    "hidden_1=tf.keras.layers.Dense(32,activation='relu')(input_a)\n",
    "hidden_2=tf.keras.layers.Dense(32,activation='relu')(hidden_1)\n",
    "\n",
    "output=tf.keras.layers.Dense(1)(hidden_2)\n",
    "\n",
    "concat=tf.keras.layers.concatenate([hidden_2,input_b])\n",
    "output2=tf.keras.layers.Dense(1)(concat)\n",
    "\n",
    "model=tf.keras.Model(inputs=[input_a,input_b],outputs=[output,output2])"
   ]
  },
  {
   "cell_type": "markdown",
   "id": "2ceca4dd-e481-44e9-889d-5c500f3eb82d",
   "metadata": {},
   "source": [
    "#### Model as a class"
   ]
  },
  {
   "cell_type": "code",
   "execution_count": 9,
   "id": "0173cb6c-71ef-416e-abc5-41636263d5c9",
   "metadata": {},
   "outputs": [],
   "source": [
    "class MyModel(tf.keras.models.Model):\n",
    "    def __init__(self,units=32,activation='relu',**kwargs):\n",
    "        super().__init__(**kwargs)\n",
    "        self.hidden1=tf.keras.layers.Dense(units,activation=activation)\n",
    "        self.hidden2=tf.keras.layers.Dense(units,activation=activation)\n",
    "        self.output1=tf.keras.layers.Dense(1)\n",
    "        self.output2=tf.keras.layers.Dense(1)\n",
    "    def call(self,inputs):\n",
    "        input_a,input_b=inputs\n",
    "        hidden_1=self.hidden_1(input_a)\n",
    "        hidden_2=self.hidden_1(input_b)\n",
    "        concat=tf.keras.layers.concatenate([hidden_2,input_b])\n",
    "        output=self.output1(hidden_2)\n",
    "        output2=self.output2(concat)\n",
    "        return output1, output2"
   ]
  },
  {
   "cell_type": "code",
   "execution_count": 7,
   "id": "460aae71-d3be-4e2a-b721-7aa0eae5203c",
   "metadata": {},
   "outputs": [],
   "source": [
    "model=MyModel()"
   ]
  },
  {
   "cell_type": "markdown",
   "id": "7cc97485",
   "metadata": {},
   "source": [
    "### Subclassing models"
   ]
  },
  {
   "cell_type": "markdown",
   "id": "95450bdb",
   "metadata": {},
   "source": [
    "- extends functionality of models class\n",
    "- functional & sequential code\n",
    "- modular architecture"
   ]
  },
  {
   "cell_type": "markdown",
   "id": "feb695da-2501-4bfa-b47a-c9c7efc84dbb",
   "metadata": {},
   "source": [
    "## Simplify complex architectures"
   ]
  },
  {
   "cell_type": "markdown",
   "id": "c0dab443-67ad-4ba7-aeb9-742454b0503b",
   "metadata": {},
   "source": [
    "`ResNet` - residual network - network with \"scrouts\" over some layers so that the network doesn't loose the info about the data too quickly. They are less prune to having the increasing error together with the bigger depth of the network."
   ]
  },
  {
   "cell_type": "code",
   "execution_count": 2,
   "id": "0a9f3065-20e4-4538-83db-98b8bc7bc809",
   "metadata": {},
   "outputs": [
    {
     "name": "stderr",
     "output_type": "stream",
     "text": [
      "C:\\Users\\pk764\\miniconda3\\envs\\tensorflow\\lib\\site-packages\\tqdm\\auto.py:21: TqdmWarning: IProgress not found. Please update jupyter and ipywidgets. See https://ipywidgets.readthedocs.io/en/stable/user_install.html\n",
      "  from .autonotebook import tqdm as notebook_tqdm\n"
     ]
    }
   ],
   "source": [
    "import tensorflow as tf\n",
    "import pandas as pd\n",
    "import numpy as np\n",
    "import tensorflow_datasets as tfds"
   ]
  },
  {
   "cell_type": "markdown",
   "id": "845cd0ed",
   "metadata": {},
   "source": [
    "#### Conv NN Res"
   ]
  },
  {
   "cell_type": "code",
   "execution_count": 3,
   "id": "e4f04f13",
   "metadata": {},
   "outputs": [],
   "source": [
    "class CNNResidual(tf.keras.layers.Layer):\n",
    "    def __init__(self, layers, filters, **kwargs):\n",
    "        super().__init__(**kwargs)\n",
    "        self.hidden=[tf.keras.layers.Conv2D(filters,(3,3),activation='relu') for _ in range(layers)]\n",
    "    \n",
    "    def call(self, inputs):\n",
    "        x = inputs\n",
    "        for layer in self.hidden:\n",
    "            x = layer(x)\n",
    "        return inputs + x"
   ]
  },
  {
   "cell_type": "markdown",
   "id": "c4246caa",
   "metadata": {},
   "source": [
    "#### Deep NN Res"
   ]
  },
  {
   "cell_type": "code",
   "execution_count": 4,
   "id": "23d1700f",
   "metadata": {},
   "outputs": [],
   "source": [
    "class DNNResidual(tf.keras.layers.Layer):\n",
    "    def __init__(self, layers, neurons, **kwargs):\n",
    "        super().__init__(**kwargs)\n",
    "        self.hidden=[tf.keras.layers.Dense(neurons,(3,3),activation='relu') for _ in range(layers)]\n",
    "    \n",
    "    def call(self, inputs):\n",
    "        x = inputs\n",
    "        for layer in self.hidden:\n",
    "            x = layer(x)\n",
    "        return inputs + x"
   ]
  },
  {
   "cell_type": "markdown",
   "id": "8b6e3871",
   "metadata": {},
   "source": [
    "### Final network with bloks of CNNRes and DNNRes"
   ]
  },
  {
   "cell_type": "code",
   "execution_count": 6,
   "id": "2acf8dfd",
   "metadata": {},
   "outputs": [],
   "source": [
    "class MyRes(tf.keras.models.Model):\n",
    "    def __init__(self, **kwargs):\n",
    "        self.hidden1 = tf.keras.layers.Dense(30,activation='relu')\n",
    "        self.block1 = CNNResidual(2,32)\n",
    "        self.block2 = DNNResidual(2,64)\n",
    "        self.out = tf.keras.layers.Dense(1)\n",
    "    def call(self, inputs):\n",
    "        x = self.hidden1(inpiuts)\n",
    "        x = self.block1(x)\n",
    "        for _ in range(1,4):\n",
    "            x = self.block2(x)\n",
    "        return self.out(x)"
   ]
  },
  {
   "cell_type": "markdown",
   "id": "162665ac",
   "metadata": {},
   "source": [
    "---"
   ]
  },
  {
   "cell_type": "markdown",
   "id": "1a338eb6",
   "metadata": {},
   "source": [
    "### ResNet"
   ]
  },
  {
   "cell_type": "markdown",
   "id": "d61648fd",
   "metadata": {},
   "source": [
    "ResNet consists of several IdentityBlock elements"
   ]
  },
  {
   "cell_type": "code",
   "execution_count": 3,
   "id": "4d2fdd00-7fef-45d7-b730-6ea301d56163",
   "metadata": {},
   "outputs": [],
   "source": [
    "class IdentityBlock(tf.keras.models.Model):\n",
    "    def __init__(self,filters,kernel_size):\n",
    "        super(IdentityBlock,self).__init__(name='')\n",
    "        \n",
    "        self.conv1=tf.keras.layers.Conv2D(filters,kernel_size,padding='same')\n",
    "        self.bn1=tf.keras.layers.BatchNormalization()\n",
    "        self.conv2=tf.keras.layers.Conv2D(filters,kernel_size,padding='same')\n",
    "        self.bn2=tf.keras.layers.BatchNormalization()\n",
    "        self.act=tf.keras.layers.Activation('relu')\n",
    "        self.add=tf.keras.layers.Add()\n",
    "\n",
    "    def call(self,inputs):\n",
    "        x=self.conv1(inputs)\n",
    "        x=self.bn1(x)\n",
    "        x=self.act(x)\n",
    "        \n",
    "        x=self.conv2(inputs)\n",
    "        x=self.bn2(x)\n",
    "        x=self.act(x)\n",
    "\n",
    "        x=self.add([x,inputs])\n",
    "        x=self.act(x)\n",
    "        \n",
    "        return x"
   ]
  },
  {
   "cell_type": "code",
   "execution_count": 4,
   "id": "2f9ec703-1b5c-451b-8671-2dce49fe914d",
   "metadata": {},
   "outputs": [],
   "source": [
    "class ResNet(tf.keras.models.Model):\n",
    "    def __init__(self,num_classes):\n",
    "        super(ResNet,self).__init__()\n",
    "        \n",
    "        self.conv=tf.keras.layers.Conv2D(64,7,padding='same')\n",
    "        self.bn=tf.keras.layers.BatchNormalization()\n",
    "        self.act=tf.keras.layers.Activation('relu')\n",
    "        self.max_pool=tf.keras.layers.MaxPool2D((3,3))\n",
    "\n",
    "        self.idla=IdentityBlock(64,3)\n",
    "        self.idlb=IdentityBlock(64,3)\n",
    "\n",
    "        self.global_pool=tf.keras.layers.GlobalAveragePooling2D()\n",
    "        self.classifier=tf.keras.layers.Dense(num_classes,activation='softmax')\n",
    "        \n",
    "    def call(self,inputs):\n",
    "        x=self.conv(inputs)\n",
    "        x=self.bn(x)\n",
    "        x=self.act(x)\n",
    "        x=self.max_pool(x)\n",
    "\n",
    "        x=self.idla(x)\n",
    "        x=self.idlb(x)\n",
    "\n",
    "        x=self.global_pool(x)\n",
    "        x=self.classifier(x)\n",
    "\n",
    "        return x"
   ]
  },
  {
   "cell_type": "code",
   "execution_count": 5,
   "id": "cac273b6-1b60-4ce7-aaa6-577f6e4093a7",
   "metadata": {},
   "outputs": [],
   "source": [
    "def preprocess(data):\n",
    "    return tf.cast(data,['image'],tf.float32/255,data['label'])"
   ]
  },
  {
   "cell_type": "code",
   "execution_count": 7,
   "id": "5a067d77-e5d0-492c-bf24-ddc73bb382b7",
   "metadata": {},
   "outputs": [],
   "source": [
    "# dataset = tfds.load('mnist', split=tfds.Split.TRAIN, data_dir='./data')\n",
    "# dataset = dataset.map(preprocess).batch(32)"
   ]
  },
  {
   "cell_type": "code",
   "execution_count": 8,
   "id": "3ac5f8c5-4760-47dd-91ad-d77c7f2b9e8d",
   "metadata": {},
   "outputs": [],
   "source": [
    "mnist = tf.keras.datasets.fashion_mnist\n",
    "(training_images, training_labels), (test_images, test_labels) = mnist.load_data()\n",
    "training_images = training_images / 255.0\n",
    "test_images = test_images / 255.0"
   ]
  },
  {
   "cell_type": "code",
   "execution_count": 10,
   "id": "636fd06f-afab-4e2b-a232-250fa780a0ce",
   "metadata": {},
   "outputs": [],
   "source": [
    "model=ResNet(10)\n",
    "model.compile(loss='sparce_categorical_crossentropy',optimizer=tf.keras.optimizers.Adam(),metrics=['accuracy'])\n",
    "model.fit(training_images,training_labels,epochs=1)"
   ]
  },
  {
   "cell_type": "markdown",
   "id": "c549b2d0-d15b-444d-9ede-bb6c106ad5e2",
   "metadata": {},
   "source": [
    "### Dynamic variables:"
   ]
  },
  {
   "cell_type": "code",
   "execution_count": 1,
   "id": "33266113-1daf-475c-b6f9-9836f25161e4",
   "metadata": {},
   "outputs": [],
   "source": [
    "class MyClass():\n",
    "    def __init__(self):\n",
    "        self.var1=0"
   ]
  },
  {
   "cell_type": "code",
   "execution_count": 2,
   "id": "d7d38ac5-7977-445a-9831-5e068d20c986",
   "metadata": {},
   "outputs": [],
   "source": [
    "my_obj=MyClass()"
   ]
  },
  {
   "cell_type": "code",
   "execution_count": 3,
   "id": "e21ec05a-7953-449d-bbad-1f8e6c96aea1",
   "metadata": {},
   "outputs": [
    {
     "data": {
      "text/plain": [
       "{'var1': 0}"
      ]
     },
     "execution_count": 3,
     "metadata": {},
     "output_type": "execute_result"
    }
   ],
   "source": [
    "my_obj.__dict__"
   ]
  },
  {
   "cell_type": "code",
   "execution_count": 4,
   "id": "388b3de1-b289-4736-a474-387e42723f35",
   "metadata": {},
   "outputs": [
    {
     "data": {
      "text/plain": [
       "{'var1': 0}"
      ]
     },
     "execution_count": 4,
     "metadata": {},
     "output_type": "execute_result"
    }
   ],
   "source": [
    "vars(my_obj)"
   ]
  },
  {
   "cell_type": "code",
   "execution_count": 5,
   "id": "a47dc593-6427-4553-b2a2-3448502cbeb6",
   "metadata": {},
   "outputs": [
    {
     "data": {
      "text/plain": [
       "{'var1': 0, 'var2': 2}"
      ]
     },
     "execution_count": 5,
     "metadata": {},
     "output_type": "execute_result"
    }
   ],
   "source": [
    "my_obj.var2=2\n",
    "vars(my_obj)"
   ]
  },
  {
   "cell_type": "code",
   "execution_count": 6,
   "id": "e2ee6efa-96bb-46ef-a1d0-6f9ab575c351",
   "metadata": {},
   "outputs": [
    {
     "data": {
      "text/plain": [
       "{'var1': 0, 'var2': 2, 'var3': 3}"
      ]
     },
     "execution_count": 6,
     "metadata": {},
     "output_type": "execute_result"
    }
   ],
   "source": [
    "vars(my_obj)['var3']=3\n",
    "vars(my_obj)"
   ]
  },
  {
   "cell_type": "code",
   "execution_count": 7,
   "id": "f8a5cc12-8c79-4e79-b46b-b8b02fdd1ddd",
   "metadata": {},
   "outputs": [
    {
     "data": {
      "text/plain": [
       "{'var1': 0, 'var2': 2, 'var3': 3, 'var4': 4, 'var5': 5, 'var6': 6}"
      ]
     },
     "execution_count": 7,
     "metadata": {},
     "output_type": "execute_result"
    }
   ],
   "source": [
    "for i in range(3,7):\n",
    "    vars(my_obj)[f'var{i}']=i\n",
    "vars(my_obj)"
   ]
  },
  {
   "cell_type": "code",
   "execution_count": null,
   "id": "f0d7676c-6232-4363-a28d-b74b209e4429",
   "metadata": {},
   "outputs": [],
   "source": []
  }
 ],
 "metadata": {
  "kernelspec": {
   "display_name": "Python 3 (ipykernel)",
   "language": "python",
   "name": "python3"
  },
  "language_info": {
   "codemirror_mode": {
    "name": "ipython",
    "version": 3
   },
   "file_extension": ".py",
   "mimetype": "text/x-python",
   "name": "python",
   "nbconvert_exporter": "python",
   "pygments_lexer": "ipython3",
   "version": "3.9.18"
  }
 },
 "nbformat": 4,
 "nbformat_minor": 5
}
