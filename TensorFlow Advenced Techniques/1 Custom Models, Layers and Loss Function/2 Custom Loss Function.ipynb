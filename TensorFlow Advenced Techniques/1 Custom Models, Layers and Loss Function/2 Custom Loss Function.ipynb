{
 "cells": [
  {
   "cell_type": "markdown",
   "id": "ad2a603a-7298-47be-81d6-81b6f25c6bf7",
   "metadata": {},
   "source": [
    "# Custom Loss"
   ]
  },
  {
   "cell_type": "code",
   "execution_count": 6,
   "id": "9085f71a-8fa3-4761-94d6-57c4c9dd0912",
   "metadata": {},
   "outputs": [],
   "source": [
    "import tensorflow as tf\n",
    "import numpy as np\n",
    "import pandas as pd"
   ]
  },
  {
   "cell_type": "markdown",
   "id": "f19dfc51-3ceb-4d03-8a61-2df8053bf862",
   "metadata": {},
   "source": [
    "### Huber Loss"
   ]
  },
  {
   "cell_type": "code",
   "execution_count": 7,
   "id": "8ed914c9-de4d-4ebf-8426-cf2d57e42545",
   "metadata": {},
   "outputs": [],
   "source": [
    "x=np.array([-1.0,  0.0, 1.0, 2.0, 3.0, 4.0])\n",
    "y=np.array([-3.0, -1.0, 1.0, 3.0, 5.0, 7.0])"
   ]
  },
  {
   "cell_type": "code",
   "execution_count": 2,
   "id": "9d9c8e7f-5b46-42b8-9d58-9c187dbd9f09",
   "metadata": {},
   "outputs": [],
   "source": [
    "model=tf.keras.models.Sequential([tf.keras.layers.Dense(1,input_shape=[1])])\n",
    "model.compile(optimizer=tf.keras.optimizers.SGD(),loss='mse')\n",
    "model.fit(x,y,epochs=100)"
   ]
  },
  {
   "cell_type": "code",
   "execution_count": 11,
   "id": "314b65f6-0c9b-4e91-a5df-7146ec8193af",
   "metadata": {},
   "outputs": [
    {
     "data": {
      "text/plain": [
       "array([[17.823782]], dtype=float32)"
      ]
     },
     "execution_count": 11,
     "metadata": {},
     "output_type": "execute_result"
    }
   ],
   "source": [
    "model.predict([10])"
   ]
  },
  {
   "cell_type": "code",
   "execution_count": 17,
   "id": "422cdf5a-b5ad-4680-b833-9e80b8cb631f",
   "metadata": {},
   "outputs": [],
   "source": [
    "def huber_loss(y,y_pred):\n",
    "    threshold=1\n",
    "    error=y-y_pred\n",
    "    is_small_error = tf.abs(error) <= threshold\n",
    "    small_error_loss=tf.square(error)/2\n",
    "    big_error_loss=threshold*(tf.abs(error)-0.8*threshold)\n",
    "    return tf.where(is_small_error, small_error_loss, big_error_loss)"
   ]
  },
  {
   "cell_type": "code",
   "execution_count": 1,
   "id": "b05340d4-0a3c-4b4e-b0fb-e1f61172ac61",
   "metadata": {},
   "outputs": [],
   "source": [
    "model=tf.keras.models.Sequential([tf.keras.layers.Dense(1,input_shape=[1])])\n",
    "model.compile(optimizer=tf.keras.optimizers.SGD(),loss=huber_loss)\n",
    "model.fit(x,y,epochs=100)"
   ]
  },
  {
   "cell_type": "code",
   "execution_count": 19,
   "id": "d790aa84-621f-4aea-8883-37cea0d74af0",
   "metadata": {},
   "outputs": [
    {
     "data": {
      "text/plain": [
       "array([[11.411013]], dtype=float32)"
      ]
     },
     "execution_count": 19,
     "metadata": {},
     "output_type": "execute_result"
    }
   ],
   "source": [
    "model.predict([10])"
   ]
  },
  {
   "cell_type": "markdown",
   "id": "abd05dc3-121c-409f-b50d-4e38e7dc8b24",
   "metadata": {},
   "source": [
    "### Hyperparameter"
   ]
  },
  {
   "cell_type": "markdown",
   "id": "d56b2eb8-9c35-44ba-8779-d0984d3c1d0f",
   "metadata": {},
   "source": [
    "#### function"
   ]
  },
  {
   "cell_type": "code",
   "execution_count": 31,
   "id": "f2f1f2e8-cc04-4f0a-bc82-1f643e1f441a",
   "metadata": {},
   "outputs": [],
   "source": [
    "def huber_loss_thr(threshold=1):\n",
    "    def huber_loss(y,y_pred):\n",
    "        error=y-y_pred\n",
    "        is_small_error = tf.abs(error) <= threshold\n",
    "        small_error_loss=tf.square(error)/2\n",
    "        big_error_loss=threshold*(tf.abs(error)-0.8*threshold)\n",
    "        return tf.where(is_small_error, small_error_loss, big_error_loss)\n",
    "    return huber_loss"
   ]
  },
  {
   "cell_type": "code",
   "execution_count": 3,
   "id": "ff3a5c16-f0ee-4212-a786-bda91586f61c",
   "metadata": {},
   "outputs": [],
   "source": [
    "model=tf.keras.models.Sequential([tf.keras.layers.Dense(1,input_shape=[1])])\n",
    "model.compile(optimizer=tf.keras.optimizers.SGD(),loss=huber_loss_thr(threshold=0.2))\n",
    "model.fit(x,y,epochs=100)"
   ]
  },
  {
   "cell_type": "code",
   "execution_count": 35,
   "id": "e6700e50-b75f-41b8-a770-bb296cd2d648",
   "metadata": {},
   "outputs": [
    {
     "data": {
      "text/plain": [
       "array([[16.039885]], dtype=float32)"
      ]
     },
     "execution_count": 35,
     "metadata": {},
     "output_type": "execute_result"
    }
   ],
   "source": [
    "model.predict([10])"
   ]
  },
  {
   "cell_type": "markdown",
   "id": "b2e3492d-4a83-4b91-9c46-5d60a0700c7d",
   "metadata": {},
   "source": [
    "#### class"
   ]
  },
  {
   "cell_type": "code",
   "execution_count": 40,
   "id": "052d7cc0-55e3-4b1a-b5f3-96db9eaff6b3",
   "metadata": {},
   "outputs": [],
   "source": [
    "from tensorflow.keras.losses import Loss\n",
    "class MyHuberLoss(Loss):\n",
    "    threshold=1\n",
    "    def __init__(self,threshold):\n",
    "        super().__init__()\n",
    "        self.threshold=threshold\n",
    "\n",
    "    def call(self,y,y_pred):\n",
    "        error=y-y_pred\n",
    "        is_small_error = tf.abs(error) <= self.threshold\n",
    "        small_error_loss=tf.square(error)/2\n",
    "        big_error_loss=self.threshold*(tf.abs(error)-0.8*self.threshold)\n",
    "        return tf.where(is_small_error, small_error_loss, big_error_loss)"
   ]
  },
  {
   "cell_type": "code",
   "execution_count": 4,
   "id": "865a7dd3-4135-424a-9afa-b233bf09adf0",
   "metadata": {},
   "outputs": [],
   "source": [
    "model=tf.keras.models.Sequential([tf.keras.layers.Dense(1,input_shape=[1])])\n",
    "model.compile(optimizer=tf.keras.optimizers.SGD(),loss=MyHuberLoss(threshold=0.7))\n",
    "model.fit(x,y,epochs=100)"
   ]
  },
  {
   "cell_type": "code",
   "execution_count": 43,
   "id": "226e2d84-7b12-4c9c-848e-79fdcaec2871",
   "metadata": {},
   "outputs": [
    {
     "data": {
      "text/plain": [
       "array([[0.34618336]], dtype=float32)"
      ]
     },
     "execution_count": 43,
     "metadata": {},
     "output_type": "execute_result"
    }
   ],
   "source": [
    "model.predict([10])"
   ]
  },
  {
   "cell_type": "markdown",
   "id": "ab841d92-3224-4f11-b9ce-01d1801f1170",
   "metadata": {},
   "source": [
    "### Contrastive Loss"
   ]
  },
  {
   "cell_type": "code",
   "execution_count": 5,
   "id": "ed5e30ae-4499-4ab0-bf16-94b4e08b43b8",
   "metadata": {},
   "outputs": [],
   "source": [
    "def contrastive_loss_with_margin(margin):\n",
    "    def contrastive_loss(y_true, y_pred):\n",
    "        square_pred = K.square(y_pred)\n",
    "        margin_square = K.square(K.maximum(margin - y_pred, 0))\n",
    "        return (y_true * square_pred + (1 - y_true) * margin_square)\n",
    "    return contrastive_loss"
   ]
  },
  {
   "cell_type": "code",
   "execution_count": null,
   "id": "a671623e-870a-45d0-af12-e7ceb7b3c0d6",
   "metadata": {},
   "outputs": [],
   "source": []
  }
 ],
 "metadata": {
  "kernelspec": {
   "display_name": "Python 3 (ipykernel)",
   "language": "python",
   "name": "python3"
  },
  "language_info": {
   "codemirror_mode": {
    "name": "ipython",
    "version": 3
   },
   "file_extension": ".py",
   "mimetype": "text/x-python",
   "name": "python",
   "nbconvert_exporter": "python",
   "pygments_lexer": "ipython3",
   "version": "3.9.18"
  }
 },
 "nbformat": 4,
 "nbformat_minor": 5
}
