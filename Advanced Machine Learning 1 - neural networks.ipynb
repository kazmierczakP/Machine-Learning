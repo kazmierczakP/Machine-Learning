{
 "cells": [
  {
   "cell_type": "markdown",
   "id": "2fb0baf7",
   "metadata": {},
   "source": [
    "# Neural network"
   ]
  },
  {
   "cell_type": "markdown",
   "id": "33c32bb7",
   "metadata": {},
   "source": [
    "layer 0 - input layer\n",
    "\n",
    "layer 1:(n-1) - hidden layers\n",
    "\n",
    "layer n - output layer"
   ]
  },
  {
   "cell_type": "markdown",
   "id": "a4e9a2c1",
   "metadata": {},
   "source": [
    "neurons in the layer are called hidden units"
   ]
  },
  {
   "cell_type": "markdown",
   "id": "a86287c9",
   "metadata": {},
   "source": [
    "## Neurons"
   ]
  },
  {
   "cell_type": "code",
   "execution_count": 31,
   "id": "441c7b2b",
   "metadata": {},
   "outputs": [],
   "source": [
    "import numpy as np\n",
    "import matplotlib.pyplot as plt\n",
    "import tensorflow as tf\n",
    "from tensorflow.keras import Sequential\n",
    "from tensorflow.keras.layers import Dense, Input\n",
    "from tensorflow.keras.losses import MeanSquaredError, BinaryCrossentropy\n",
    "from tensorflow.keras.activations import sigmoid"
   ]
  },
  {
   "cell_type": "markdown",
   "id": "b65dbb87",
   "metadata": {},
   "source": [
    "#### data"
   ]
  },
  {
   "cell_type": "code",
   "execution_count": 41,
   "id": "8101e3b0",
   "metadata": {},
   "outputs": [
    {
     "data": {
      "text/plain": [
       "<matplotlib.legend.Legend at 0x1bd3486c700>"
      ]
     },
     "execution_count": 41,
     "metadata": {},
     "output_type": "execute_result"
    },
    {
     "data": {
      "image/png": "[encoded data removed]",
      "text/plain": [
       "<Figure size 432x288 with 1 Axes>"
      ]
     },
     "metadata": {
      "needs_background": "light"
     },
     "output_type": "display_data"
    }
   ],
   "source": [
    "x=np.array([[1],[2]])\n",
    "y=np.array([[300],[500]])\n",
    "plt.scatter(x,y,label='data points')\n",
    "plt.xlabel('Size')\n",
    "plt.ylabel('Price')\n",
    "plt.legend()"
   ]
  },
  {
   "cell_type": "markdown",
   "id": "10130052",
   "metadata": {},
   "source": [
    "### Neuron without activation - Linear regression"
   ]
  },
  {
   "cell_type": "markdown",
   "id": "53e2bb82",
   "metadata": {},
   "source": [
    "$$ f_{w,b}(x^{(i)}) = w \\cdot x^{(i)} + b $$"
   ]
  },
  {
   "cell_type": "code",
   "execution_count": 21,
   "id": "5f31f086",
   "metadata": {},
   "outputs": [
    {
     "data": {
      "text/plain": [
       "[]"
      ]
     },
     "execution_count": 21,
     "metadata": {},
     "output_type": "execute_result"
    }
   ],
   "source": [
    "linear_layer=tf.keras.layers.Dense(units=1,activation='linear')\n",
    "linear_layer.get_weights()"
   ]
  },
  {
   "cell_type": "markdown",
   "id": "07a6d318",
   "metadata": {},
   "source": [
    "Prediction with randomly generated weights:"
   ]
  },
  {
   "cell_type": "code",
   "execution_count": 23,
   "id": "1a8e3716",
   "metadata": {},
   "outputs": [
    {
     "data": {
      "text/plain": [
       "<tf.Tensor: shape=(1, 1), dtype=float32, numpy=array([[-0.5861629]], dtype=float32)>"
      ]
     },
     "execution_count": 23,
     "metadata": {},
     "output_type": "execute_result"
    }
   ],
   "source": [
    "a1=linear_layer(x[0].reshape(1,1))\n",
    "a1"
   ]
  },
  {
   "cell_type": "markdown",
   "id": "eca8d5e8",
   "metadata": {},
   "source": [
    "Randomly initialized weights:"
   ]
  },
  {
   "cell_type": "code",
   "execution_count": 24,
   "id": "96aace1b",
   "metadata": {},
   "outputs": [
    {
     "name": "stdout",
     "output_type": "stream",
     "text": [
      "w: [[-0.5861629]], b: [0.]\n"
     ]
    }
   ],
   "source": [
    "w,b=linear_layer.get_weights()\n",
    "print(f'w: {w}, b: {b}')"
   ]
  },
  {
   "cell_type": "markdown",
   "id": "a03d90d2",
   "metadata": {},
   "source": [
    "Seting own weights:"
   ]
  },
  {
   "cell_type": "code",
   "execution_count": 49,
   "id": "8a235fdc",
   "metadata": {},
   "outputs": [
    {
     "data": {
      "text/plain": [
       "[array([[180.]], dtype=float32), array([110.], dtype=float32)]"
      ]
     },
     "execution_count": 49,
     "metadata": {},
     "output_type": "execute_result"
    }
   ],
   "source": [
    "set_w=np.array([[180]])\n",
    "set_b=np.array([110])\n",
    "linear_layer.set_weights([set_w,set_b])\n",
    "linear_layer.get_weights()"
   ]
  },
  {
   "cell_type": "markdown",
   "id": "9d0e394d",
   "metadata": {},
   "source": [
    "Now that the layer has its weights set, we can compute the prediction with given input:"
   ]
  },
  {
   "cell_type": "code",
   "execution_count": 50,
   "id": "2aa2e5a3",
   "metadata": {},
   "outputs": [
    {
     "name": "stdout",
     "output_type": "stream",
     "text": [
      "linear layer: [[290.]]\n",
      "traditional calculation: [[290]]\n"
     ]
    }
   ],
   "source": [
    "a1=linear_layer(x[0].reshape(1,1))\n",
    "print(f'linear layer: {a1}')\n",
    "equation=np.dot(set_w,x[0].reshape(1,1))+set_b\n",
    "print(f'traditional calculation: {equation}')"
   ]
  },
  {
   "cell_type": "code",
   "execution_count": 58,
   "id": "ff296a35",
   "metadata": {},
   "outputs": [
    {
     "data": {
      "text/plain": [
       "<matplotlib.legend.Legend at 0x1bd3990f910>"
      ]
     },
     "execution_count": 58,
     "metadata": {},
     "output_type": "execute_result"
    },
    {
     "data": {
      "image/png": "[encoded data removed]",
      "text/plain": [
       "<Figure size 432x288 with 1 Axes>"
      ]
     },
     "metadata": {
      "needs_background": "light"
     },
     "output_type": "display_data"
    }
   ],
   "source": [
    "prediction_tf=linear_layer(x)\n",
    "plt.scatter(x,y,label='treue values')\n",
    "plt.plot(x,prediction_tf,label='prediction with chosen weights',c='r')\n",
    "plt.legend()"
   ]
  },
  {
   "cell_type": "markdown",
   "id": "67b33c4a",
   "metadata": {},
   "source": [
    "### Neuron with sigmoid activation - Logistic regression"
   ]
  },
  {
   "cell_type": "markdown",
   "id": "8e7aa7dd",
   "metadata": {},
   "source": [
    "$$ f_{w,b}(x^{(i)}) = \\dfrac {1}{1+e^{-( w \\cdot x^{(i)} + b)}} $$"
   ]
  },
  {
   "cell_type": "markdown",
   "id": "688c5dcc",
   "metadata": {},
   "source": [
    "#### data"
   ]
  },
  {
   "cell_type": "code",
   "execution_count": 61,
   "id": "767ab6f5",
   "metadata": {},
   "outputs": [
    {
     "data": {
      "text/plain": [
       "array([3, 4, 5])"
      ]
     },
     "execution_count": 61,
     "metadata": {},
     "output_type": "execute_result"
    }
   ],
   "source": [
    "x=np.arange(6).reshape(-1,1)\n",
    "y=np.array([0,0,0,1,1,1]).reshape(-1,1)\n",
    "pos=y==1\n",
    "neg=y==0\n",
    "x[pos]"
   ]
  },
  {
   "cell_type": "code",
   "execution_count": 66,
   "id": "37ca1668",
   "metadata": {},
   "outputs": [
    {
     "data": {
      "text/plain": [
       "<matplotlib.legend.Legend at 0x1bd3af7d2e0>"
      ]
     },
     "execution_count": 66,
     "metadata": {},
     "output_type": "execute_result"
    },
    {
     "data": {
      "image/png": "[encoded data removed]",
      "text/plain": [
       "<Figure size 432x288 with 1 Axes>"
      ]
     },
     "metadata": {
      "needs_background": "light"
     },
     "output_type": "display_data"
    }
   ],
   "source": [
    "plt.scatter(x[pos],y[pos],label='positive')\n",
    "plt.scatter(x[neg],y[neg],label='negative')\n",
    "plt.xlabel('x')\n",
    "plt.ylabel('y')\n",
    "plt.legend()"
   ]
  },
  {
   "cell_type": "markdown",
   "id": "f0ba0ff1",
   "metadata": {},
   "source": [
    "#### Sequential model approach:"
   ]
  },
  {
   "cell_type": "code",
   "execution_count": 87,
   "id": "c47a8c24",
   "metadata": {},
   "outputs": [
    {
     "name": "stdout",
     "output_type": "stream",
     "text": [
      "Model: \"sequential_3\"\n",
      "_________________________________________________________________\n",
      "Layer (type)                 Output Shape              Param #   \n",
      "=================================================================\n",
      "L1 (Dense)                   (None, 1)                 2         \n",
      "=================================================================\n",
      "Total params: 2\n",
      "Trainable params: 2\n",
      "Non-trainable params: 0\n",
      "_________________________________________________________________\n"
     ]
    }
   ],
   "source": [
    "model=Sequential(\n",
    "[\n",
    "    tf.keras.layers.Dense(1,input_dim=1,activation='sigmoid',name='L1')\n",
    "])\n",
    "\n",
    "model.summary()"
   ]
  },
  {
   "cell_type": "code",
   "execution_count": 88,
   "id": "ac0ccee1",
   "metadata": {},
   "outputs": [
    {
     "name": "stdout",
     "output_type": "stream",
     "text": [
      "[[-1.7300153]] [0.]\n"
     ]
    }
   ],
   "source": [
    "logistic_layer=model.get_layer('L1')\n",
    "w,b=logistic_layer.get_weights()\n",
    "print(w,b)"
   ]
  },
  {
   "cell_type": "code",
   "execution_count": 89,
   "id": "67e95ee9",
   "metadata": {},
   "outputs": [
    {
     "name": "stdout",
     "output_type": "stream",
     "text": [
      "[[-1.7300153]] [0.]\n"
     ]
    }
   ],
   "source": [
    "w,b=model.get_weights()\n",
    "print(w,b)"
   ]
  },
  {
   "cell_type": "markdown",
   "id": "38eb7619",
   "metadata": {},
   "source": [
    "#### Pure layer approach:"
   ]
  },
  {
   "cell_type": "code",
   "execution_count": 77,
   "id": "f68f547e",
   "metadata": {},
   "outputs": [
    {
     "data": {
      "text/plain": [
       "<tf.Tensor: shape=(1, 1), dtype=float32, numpy=array([[0.5]], dtype=float32)>"
      ]
     },
     "execution_count": 77,
     "metadata": {},
     "output_type": "execute_result"
    }
   ],
   "source": [
    "logistic_layer=tf.keras.layers.Dense(1,input_dim=1,activation='sigmoid',name='L1')\n",
    "logistic_layer(x[0].reshape(1,1))"
   ]
  },
  {
   "cell_type": "code",
   "execution_count": 78,
   "id": "21948beb",
   "metadata": {},
   "outputs": [
    {
     "name": "stdout",
     "output_type": "stream",
     "text": [
      "[[-0.56538105]] [0.]\n"
     ]
    }
   ],
   "source": [
    "w,b=logistic_layer.get_weights()\n",
    "print(w,b)"
   ]
  },
  {
   "cell_type": "markdown",
   "id": "f8a52d09",
   "metadata": {},
   "source": [
    "^^ values of weights are randomly generated"
   ]
  },
  {
   "cell_type": "markdown",
   "id": "52550e89",
   "metadata": {},
   "source": [
    "Seting own weights:"
   ]
  },
  {
   "cell_type": "code",
   "execution_count": 85,
   "id": "d8e9304c",
   "metadata": {},
   "outputs": [
    {
     "data": {
      "text/plain": [
       "[array([[2.]], dtype=float32), array([-4.5], dtype=float32)]"
      ]
     },
     "execution_count": 85,
     "metadata": {},
     "output_type": "execute_result"
    }
   ],
   "source": [
    "model.set_weights([set_w,set_b])\n",
    "model.get_weights()"
   ]
  },
  {
   "cell_type": "code",
   "execution_count": 81,
   "id": "10434373",
   "metadata": {},
   "outputs": [
    {
     "data": {
      "text/plain": [
       "[array([[2.]], dtype=float32), array([-4.5], dtype=float32)]"
      ]
     },
     "execution_count": 81,
     "metadata": {},
     "output_type": "execute_result"
    }
   ],
   "source": [
    "set_w=np.array([[2]])\n",
    "set_b=np.array([-4.5])\n",
    "logistic_layer.set_weights([set_w,set_b])\n",
    "logistic_layer.get_weights()"
   ]
  },
  {
   "cell_type": "markdown",
   "id": "a5452e40",
   "metadata": {},
   "source": [
    "Now that the layer has its weights set, we can compute the prediction with given input:"
   ]
  },
  {
   "cell_type": "code",
   "execution_count": 86,
   "id": "2c551619",
   "metadata": {},
   "outputs": [
    {
     "name": "stdout",
     "output_type": "stream",
     "text": [
      "sequential model: [[0.01098692]]\n",
      "logistic layer: [[0.01098692]]\n",
      "traditional calculation: [[0.01098694]]\n"
     ]
    }
   ],
   "source": [
    "sequential=model.predict(x[0].reshape(1,1))\n",
    "print(f'sequential model: {sequential}')\n",
    "a1=logistic_layer(x[0].reshape(1,1))\n",
    "print(f'logistic layer: {a1}')\n",
    "equation=1/(1+np.exp(-(np.dot(set_w,x[0].reshape(1,1))+set_b)))\n",
    "print(f'traditional calculation: {equation}')"
   ]
  },
  {
   "cell_type": "code",
   "execution_count": 99,
   "id": "e281cf92",
   "metadata": {},
   "outputs": [
    {
     "data": {
      "text/plain": [
       "<matplotlib.legend.Legend at 0x1bd3c2d8f10>"
      ]
     },
     "execution_count": 99,
     "metadata": {},
     "output_type": "execute_result"
    },
    {
     "data": {
      "image/png": "[encoded data removed]",
      "text/plain": [
       "<Figure size 432x288 with 1 Axes>"
      ]
     },
     "metadata": {
      "needs_background": "light"
     },
     "output_type": "display_data"
    }
   ],
   "source": [
    "prediction=logistic_layer(x)\n",
    "plt.scatter(x,y,label='data',marker='x')\n",
    "plt.scatter(x,y,label='prediction',marker='+')\n",
    "plt.xlabel('x')\n",
    "plt.ylabel('y')\n",
    "plt.legend()"
   ]
  },
  {
   "cell_type": "markdown",
   "id": "7267abc1",
   "metadata": {},
   "source": [
    "## TensorFlow"
   ]
  },
  {
   "cell_type": "markdown",
   "id": "d45dd5d0",
   "metadata": {},
   "source": [
    "numpy vs TensorFlow"
   ]
  },
  {
   "cell_type": "code",
   "execution_count": 8,
   "id": "513977c1",
   "metadata": {},
   "outputs": [],
   "source": [
    "import numpy as np\n",
    "import tensorflow as tf\n",
    "from tensorflow.keras import Sequential\n",
    "from tensorflow.keras.layers import Dense, Input\n",
    "from tensorflow.keras.losses import MeanSquaredError, BinaryCrossentropy\n",
    "from tensorflow.keras.activations import sigmoid\n",
    "import matplotlib.pyplot as plt"
   ]
  },
  {
   "cell_type": "markdown",
   "id": "229ece2a",
   "metadata": {},
   "source": [
    "numpy sotres data as rows:"
   ]
  },
  {
   "cell_type": "code",
   "execution_count": 6,
   "id": "5bd7e06c",
   "metadata": {},
   "outputs": [
    {
     "data": {
      "text/plain": [
       "array([[1, 3, 2],\n",
       "       [2, 3, 4]])"
      ]
     },
     "execution_count": 6,
     "metadata": {},
     "output_type": "execute_result"
    }
   ],
   "source": [
    "# 3 columns with 2 rows\n",
    "x=np.array([[1,3,2],[2,3,4]])\n",
    "x"
   ]
  },
  {
   "cell_type": "code",
   "execution_count": 14,
   "id": "d0da708d",
   "metadata": {},
   "outputs": [
    {
     "data": {
      "text/plain": [
       "array([[200,  17]])"
      ]
     },
     "execution_count": 14,
     "metadata": {},
     "output_type": "execute_result"
    }
   ],
   "source": [
    "# 1x2  one row, two columns\n",
    "np.array([[200,17]])"
   ]
  },
  {
   "cell_type": "code",
   "execution_count": 15,
   "id": "a9c5d748",
   "metadata": {},
   "outputs": [
    {
     "data": {
      "text/plain": [
       "array([[200],\n",
       "       [ 17]])"
      ]
     },
     "execution_count": 15,
     "metadata": {},
     "output_type": "execute_result"
    }
   ],
   "source": [
    "# 2x1  one column two rows\n",
    "np.array([[200],[17]])"
   ]
  },
  {
   "cell_type": "code",
   "execution_count": 16,
   "id": "e90812fa",
   "metadata": {},
   "outputs": [
    {
     "data": {
      "text/plain": [
       "array([200,  17])"
      ]
     },
     "execution_count": 16,
     "metadata": {},
     "output_type": "execute_result"
    }
   ],
   "source": [
    "# 1D vector, no rows and no columns\n",
    "np.array([200,17])"
   ]
  },
  {
   "cell_type": "markdown",
   "id": "7739dbd2",
   "metadata": {},
   "source": [
    "#### MODEL"
   ]
  },
  {
   "cell_type": "code",
   "execution_count": 20,
   "id": "3f0ccdb8",
   "metadata": {},
   "outputs": [],
   "source": [
    "x=np.load('data/coffe_x.npy')\n",
    "y=np.load('data/coffe_y.npy')"
   ]
  },
  {
   "cell_type": "markdown",
   "id": "0b818975",
   "metadata": {},
   "source": [
    "normalization"
   ]
  },
  {
   "cell_type": "code",
   "execution_count": 4,
   "id": "718db571",
   "metadata": {},
   "outputs": [
    {
     "name": "stdout",
     "output_type": "stream",
     "text": [
      "Temp before morm: min: 151.32 max: 284.99\n",
      "Duration before morm: 11.51 max: 15.45\n",
      "*********\n",
      "Temp after morm: min: -1.69 max: 1.66\n",
      "Duration after morm: -1.70 max: 1.79\n"
     ]
    }
   ],
   "source": [
    "norm_l=tf.keras.layers.Normalization(axis=-1)\n",
    "norm_l.adapt(x)\n",
    "x_norm=norm_l(x)\n",
    "print(f'Temp before morm: min: {np.min(x[:,0]):0.2f} max: {np.max(x[:,0]):0.2f}')\n",
    "print(f'Duration before morm: {np.min(x[:,1]):0.2f} max: {np.max(x[:,1]):0.2f}')\n",
    "print('*********')\n",
    "print(f'Temp after morm: min: {np.min(x_norm[:,0]):0.2f} max: {np.max(x_norm[:,0]):0.2f}')\n",
    "print(f'Duration after morm: {np.min(x_norm[:,1]):0.2f} max: {np.max(x_norm[:,1]):0.2f}')"
   ]
  },
  {
   "cell_type": "markdown",
   "id": "a58ed99f",
   "metadata": {},
   "source": [
    "Tile/copy data to increase the training set size:"
   ]
  },
  {
   "cell_type": "code",
   "execution_count": 21,
   "id": "1853efa3",
   "metadata": {},
   "outputs": [],
   "source": [
    "X=np.tile(x_norm,(1000,1))\n",
    "Y=np.tile(y,(1000,1))"
   ]
  },
  {
   "cell_type": "code",
   "execution_count": 13,
   "id": "2eed9b6c",
   "metadata": {},
   "outputs": [],
   "source": [
    "tf.random.set_seed(1234)\n",
    "model=Sequential(\n",
    "    [\n",
    "        tf.keras.layers.Input(shape=(2,)),\n",
    "        tf.keras.layers.Dense(3,activation='sigmoid',name='layer1'),\n",
    "        tf.keras.layers.Dense(1,activation='sigmoid',name='layer2')\n",
    "    ]\n",
    ")"
   ]
  },
  {
   "cell_type": "markdown",
   "id": "56bf32bd",
   "metadata": {},
   "source": [
    "`tf.keras.layers.Input(shape=(2,))` specifies the expected shape of ht einput. This can be done automaticly by tf during model.fit operation."
   ]
  },
  {
   "cell_type": "code",
   "execution_count": 14,
   "id": "8e26b04e",
   "metadata": {},
   "outputs": [
    {
     "name": "stdout",
     "output_type": "stream",
     "text": [
      "Model: \"sequential\"\n",
      "_________________________________________________________________\n",
      " Layer (type)                Output Shape              Param #   \n",
      "=================================================================\n",
      " layer1 (Dense)              (None, 3)                 9         \n",
      "                                                                 \n",
      " layer2 (Dense)              (None, 1)                 4         \n",
      "                                                                 \n",
      "=================================================================\n",
      "Total params: 13\n",
      "Trainable params: 13\n",
      "Non-trainable params: 0\n",
      "_________________________________________________________________\n"
     ]
    }
   ],
   "source": [
    "model.summary()"
   ]
  },
  {
   "cell_type": "code",
   "execution_count": 17,
   "id": "0ce429ec",
   "metadata": {},
   "outputs": [
    {
     "name": "stdout",
     "output_type": "stream",
     "text": [
      "layer 1 parameters:  9 \n",
      "layer 2 parameters:  4\n"
     ]
    }
   ],
   "source": [
    "layer1_num_params=2*3+3 # w1 parameters + b1 parameters\n",
    "layer2_num_params=3*1+1 # w2 parameters + b2 parameter\n",
    "print('layer 1 parameters: ',layer1_num_params,'\\nlayer 2 parameters: ',layer2_num_params)"
   ]
  },
  {
   "cell_type": "code",
   "execution_count": 18,
   "id": "3e4e4d03",
   "metadata": {},
   "outputs": [
    {
     "name": "stdout",
     "output_type": "stream",
     "text": [
      "w1: [[ 0.08334005 -0.29660565  0.17884266]\n",
      " [-0.56124383 -0.15262699  0.8899205 ]] \n",
      "b1: [0. 0. 0.]\n",
      "w2: [[-0.4277674 ]\n",
      " [-0.88499916]\n",
      " [ 0.3626454 ]] \n",
      "b2: [0.]\n"
     ]
    }
   ],
   "source": [
    "w1,b1=model.get_layer('layer1').get_weights()\n",
    "w2,b2=model.get_layer('layer2').get_weights()\n",
    "print(f'w1: {w1} \\nb1: {b1}')\n",
    "print(f'w2: {w2} \\nb2: {b2}')"
   ]
  },
  {
   "cell_type": "code",
   "execution_count": 19,
   "id": "d515fecf",
   "metadata": {},
   "outputs": [],
   "source": [
    "model.compile(\n",
    "    loss=tf.keras.losses.BinaryCrossentropy(),\n",
    "    optimizer=tf.keras.optimizers.Adam(learning_rate=0.01)\n",
    ")"
   ]
  },
  {
   "cell_type": "code",
   "execution_count": 22,
   "id": "70bd63c0",
   "metadata": {},
   "outputs": [
    {
     "name": "stdout",
     "output_type": "stream",
     "text": [
      "Epoch 1/10\n",
      "6250/6250 [==============================] - 7s 1ms/step - loss: 0.1783\n",
      "Epoch 2/10\n",
      "6250/6250 [==============================] - 6s 1ms/step - loss: 0.1165\n",
      "Epoch 3/10\n",
      "6250/6250 [==============================] - 6s 1ms/step - loss: 0.0426\n",
      "Epoch 4/10\n",
      "6250/6250 [==============================] - 7s 1ms/step - loss: 0.0159\n",
      "Epoch 5/10\n",
      "6250/6250 [==============================] - 7s 1ms/step - loss: 0.0103\n",
      "Epoch 6/10\n",
      "6250/6250 [==============================] - 7s 1ms/step - loss: 0.0072\n",
      "Epoch 7/10\n",
      "6250/6250 [==============================] - 7s 1ms/step - loss: 0.0052\n",
      "Epoch 8/10\n",
      "6250/6250 [==============================] - 7s 1ms/step - loss: 0.0037\n",
      "Epoch 9/10\n",
      "6250/6250 [==============================] - 7s 1ms/step - loss: 0.0027\n",
      "Epoch 10/10\n",
      "6250/6250 [==============================] - 7s 1ms/step - loss: 0.0021\n"
     ]
    },
    {
     "data": {
      "text/plain": [
       "<keras.callbacks.History at 0x1957f4e2f10>"
      ]
     },
     "execution_count": 22,
     "metadata": {},
     "output_type": "execute_result"
    }
   ],
   "source": [
    "model.fit(X,Y,epochs=10)"
   ]
  },
  {
   "cell_type": "markdown",
   "id": "a6a4482a",
   "metadata": {},
   "source": [
    "For efficiency training data is broken into batches. Default size of batch in TensoeFlow is 32. There are 200000 rows in the dataset which means 6250 batches. Notation 6250/6250 describes which batch is being executed."
   ]
  },
  {
   "cell_type": "code",
   "execution_count": 23,
   "id": "4a16f2e7",
   "metadata": {},
   "outputs": [
    {
     "name": "stdout",
     "output_type": "stream",
     "text": [
      "Adjusted weights:\n",
      "w1: [[ -0.05711636  14.364858   -10.988158  ]\n",
      " [ -8.806647    11.94994     -0.27568746]] \n",
      "b1: [-11.009074    1.8008635 -11.985656 ]\n",
      "w2: [[-45.247414]\n",
      " [-42.536713]\n",
      " [-50.55347 ]] \n",
      "b2: [26.351244]\n"
     ]
    }
   ],
   "source": [
    "w1,b1=model.get_layer('layer1').get_weights()\n",
    "w2,b2=model.get_layer('layer2').get_weights()\n",
    "print('Adjusted weights:')\n",
    "print(f'w1: {w1} \\nb1: {b1}')\n",
    "print(f'w2: {w2} \\nb2: {b2}')"
   ]
  },
  {
   "cell_type": "markdown",
   "id": "5dc6b6c0",
   "metadata": {},
   "source": [
    "Weights could be set manually:"
   ]
  },
  {
   "cell_type": "code",
   "execution_count": 24,
   "id": "366c8a9d",
   "metadata": {},
   "outputs": [],
   "source": [
    "#model.get_layer('layer1').set_weights([w1,b1])\n",
    "#model.get_layer('layer2').set_weights([w2,b2])"
   ]
  },
  {
   "cell_type": "code",
   "execution_count": 27,
   "id": "300ba7af",
   "metadata": {},
   "outputs": [
    {
     "name": "stdout",
     "output_type": "stream",
     "text": [
      "1/1 [==============================] - 0s 25ms/step\n",
      "Predictions: \n",
      "[[9.8753923e-01]\n",
      " [9.1421185e-08]]\n"
     ]
    }
   ],
   "source": [
    "X_test=np.array([[200,13.9],[200,17]])\n",
    "X_test=norm_l(X_test)\n",
    "prediction=model.predict(X_test)\n",
    "print(f'Predictions: \\n{prediction}')"
   ]
  },
  {
   "cell_type": "markdown",
   "id": "cf87e317",
   "metadata": {},
   "source": [
    "We can apply a treshold to the outcome:"
   ]
  },
  {
   "cell_type": "code",
   "execution_count": 28,
   "id": "cf5f9e77",
   "metadata": {},
   "outputs": [
    {
     "name": "stdout",
     "output_type": "stream",
     "text": [
      "decisions: \n",
      "[[1.]\n",
      " [0.]]\n"
     ]
    }
   ],
   "source": [
    "y_hat=np.zeros_like(prediction)\n",
    "for i in range(len(prediction)):\n",
    "    if prediction[i]<0.5:\n",
    "        y_hat[i]=0\n",
    "    else:\n",
    "        y_hat[i]=1\n",
    "print(f'decisions: \\n{y_hat}')"
   ]
  },
  {
   "cell_type": "markdown",
   "id": "b1184b72",
   "metadata": {},
   "source": [
    "## NumPy"
   ]
  },
  {
   "cell_type": "markdown",
   "id": "fc71580a",
   "metadata": {},
   "source": [
    "Building Dense layer using NumPy"
   ]
  },
  {
   "cell_type": "code",
   "execution_count": 35,
   "id": "23cd3b03",
   "metadata": {},
   "outputs": [],
   "source": [
    "import numpy as np\n",
    "import matplotlib.pyplot as plt\n",
    "import tensorflow as tf"
   ]
  },
  {
   "cell_type": "code",
   "execution_count": 36,
   "id": "cbe82800",
   "metadata": {},
   "outputs": [],
   "source": [
    "x=np.load('data/coffe_x.npy')\n",
    "y=np.load('data/coffe_y.npy')"
   ]
  },
  {
   "cell_type": "markdown",
   "id": "fdaa14b5",
   "metadata": {},
   "source": [
    "normalization:"
   ]
  },
  {
   "cell_type": "code",
   "execution_count": 37,
   "id": "7dcc1044",
   "metadata": {},
   "outputs": [
    {
     "name": "stdout",
     "output_type": "stream",
     "text": [
      "Temp before morm: min: 151.32 max: 284.99\n",
      "Duration before morm: 11.51 max: 15.45\n",
      "*********\n",
      "Temp after morm: min: -1.69 max: 1.66\n",
      "Duration after morm: -1.70 max: 1.79\n"
     ]
    }
   ],
   "source": [
    "norm_l=tf.keras.layers.Normalization(axis=-1)\n",
    "norm_l.adapt(x)\n",
    "x_norm=norm_l(x)\n",
    "print(f'Temp before morm: min: {np.min(x[:,0]):0.2f} max: {np.max(x[:,0]):0.2f}')\n",
    "print(f'Duration before morm: {np.min(x[:,1]):0.2f} max: {np.max(x[:,1]):0.2f}')\n",
    "print('*********')\n",
    "print(f'Temp after morm: min: {np.min(x_norm[:,0]):0.2f} max: {np.max(x_norm[:,0]):0.2f}')\n",
    "print(f'Duration after morm: {np.min(x_norm[:,1]):0.2f} max: {np.max(x_norm[:,1]):0.2f}')"
   ]
  },
  {
   "cell_type": "code",
   "execution_count": 39,
   "id": "ca000e93",
   "metadata": {},
   "outputs": [],
   "source": [
    "def sigmoid(z):\n",
    "    y=1/(1+np.exp(-z))\n",
    "    return y"
   ]
  },
  {
   "cell_type": "code",
   "execution_count": 75,
   "id": "21f87269",
   "metadata": {},
   "outputs": [],
   "source": [
    "def my_dense(a_in,W,b):\n",
    "    \"\"\"\n",
    "    Computes dense layer.\n",
    "    \n",
    "    Parameters:\n",
    "    -----------\n",
    "    a_in (ndarray (n,)): Data, 1 example\n",
    "    W (ndarray (n,j)): Weight matrix, n features per unit, j units\n",
    "    b (ndarray (j,)): bias vector, j units\n",
    "    \n",
    "    Returns:\n",
    "    --------\n",
    "    a_out (ndarray (j,)): j units\n",
    "    \n",
    "    Examples:\n",
    "    ---------\n",
    "    >>> my_dense([1,2,3])\n",
    "    [0.67]\n",
    "    \"\"\"\n",
    "    weights,neurons=W.shape\n",
    "    a_out=np.zeros(neurons)\n",
    "    for j in range(neurons):\n",
    "        z=np.dot(W[:,j],a_in)+b[j]\n",
    "        a_out[j]=sigmoid(z)\n",
    "    return a_out"
   ]
  },
  {
   "cell_type": "markdown",
   "id": "37fe0bb5",
   "metadata": {},
   "source": [
    "Alternative version with vectorization:"
   ]
  },
  {
   "cell_type": "code",
   "execution_count": null,
   "id": "d854007b",
   "metadata": {},
   "outputs": [],
   "source": [
    "def my_dense(a_in,W,B,g):\n",
    "    z=np.matmul(a_in,W)+b\n",
    "    a_out=g(z)\n",
    "    return a_out"
   ]
  },
  {
   "cell_type": "code",
   "execution_count": 76,
   "id": "0b128a61",
   "metadata": {},
   "outputs": [],
   "source": [
    "def my_sequential(x,W1,b1,W2,b2):\n",
    "    a1=my_dense(x,W1,b1)\n",
    "    a2=my_dense(a1,W2,b2)\n",
    "    return a2"
   ]
  },
  {
   "cell_type": "code",
   "execution_count": 77,
   "id": "acf74fc5",
   "metadata": {},
   "outputs": [],
   "source": [
    "W1= np.array([[ -0.05711636,14.364858,-10.988158  ],[ -8.806647,11.94994,-0.27568746]])\n",
    "b1= np.array([-11.009074,1.8008635,-11.985656 ])\n",
    "W2= np.array([[-45.247414],[-42.536713],[-50.55347 ]])\n",
    "b2= np.array([26.351244])"
   ]
  },
  {
   "cell_type": "code",
   "execution_count": 78,
   "id": "1423dadd",
   "metadata": {},
   "outputs": [],
   "source": [
    "def my_predict(X,W1,b1,W2,b2):\n",
    "    m=X.shape[0]\n",
    "    p=np.zeros((m,1))\n",
    "    for i in range(m):\n",
    "        p[i]=my_sequential(X[i],W1,b1,W2,b2)\n",
    "    return p"
   ]
  },
  {
   "cell_type": "code",
   "execution_count": 79,
   "id": "59ec0390",
   "metadata": {},
   "outputs": [
    {
     "name": "stdout",
     "output_type": "stream",
     "text": [
      "Predictions: \n",
      "[[9.87539190e-01]\n",
      " [9.14210402e-08]]\n"
     ]
    }
   ],
   "source": [
    "X_test=np.array([[200,13.9],[200,17]])\n",
    "X_test=norm_l(X_test)\n",
    "prediction=my_predict(X_test,W1,b1,W2,b2)\n",
    "print(f'Predictions: \\n{prediction}')"
   ]
  },
  {
   "cell_type": "code",
   "execution_count": 80,
   "id": "b8ca91be",
   "metadata": {},
   "outputs": [
    {
     "name": "stdout",
     "output_type": "stream",
     "text": [
      "decisions: \n",
      "[[1.]\n",
      " [0.]]\n"
     ]
    }
   ],
   "source": [
    "y_hat=np.zeros_like(prediction)\n",
    "for i in range(len(prediction)):\n",
    "    if prediction[i]<0.5:\n",
    "        y_hat[i]=0\n",
    "    else:\n",
    "        y_hat[i]=1\n",
    "print(f'decisions: \\n{y_hat}')"
   ]
  },
  {
   "cell_type": "code",
   "execution_count": 81,
   "id": "c1c01a58",
   "metadata": {},
   "outputs": [
    {
     "data": {
      "text/plain": [
       "(2, 3)"
      ]
     },
     "execution_count": 81,
     "metadata": {},
     "output_type": "execute_result"
    }
   ],
   "source": [
    "W1.shape"
   ]
  },
  {
   "cell_type": "markdown",
   "id": "b1fa992f",
   "metadata": {},
   "source": [
    "### Practice Lab"
   ]
  },
  {
   "cell_type": "code",
   "execution_count": 1,
   "id": "86d6fc13",
   "metadata": {},
   "outputs": [],
   "source": [
    "import numpy as np\n",
    "import tensorflow as tf\n",
    "from keras.datasets import mnist\n",
    "import matplotlib.pyplot as plt"
   ]
  },
  {
   "cell_type": "code",
   "execution_count": 2,
   "id": "c4bb61a0",
   "metadata": {},
   "outputs": [],
   "source": [
    "(X,Y), (test_X, test_Y) = mnist.load_data()\n",
    "train_filter = np.where((Y == 0 ) | (Y == 1))\n",
    "test_filter = np.where((test_Y == 0) | (test_Y == 1))\n",
    "X, Y = X[train_filter], Y[train_filter]\n",
    "test_X, test_y = test_X[test_filter], test_Y[test_filter]"
   ]
  },
  {
   "cell_type": "code",
   "execution_count": 3,
   "id": "b22d057c",
   "metadata": {},
   "outputs": [],
   "source": [
    "X_reshaped=X.reshape(12665,784)"
   ]
  },
  {
   "cell_type": "code",
   "execution_count": 4,
   "id": "35b697f4",
   "metadata": {},
   "outputs": [
    {
     "data": {
      "text/plain": [
       "(12665, 784)"
      ]
     },
     "execution_count": 4,
     "metadata": {},
     "output_type": "execute_result"
    }
   ],
   "source": [
    "X_reshaped.shape"
   ]
  },
  {
   "cell_type": "code",
   "execution_count": 7,
   "id": "77a9c478",
   "metadata": {},
   "outputs": [
    {
     "data": {
      "text/plain": [
       "(12665, 28, 28)"
      ]
     },
     "execution_count": 7,
     "metadata": {},
     "output_type": "execute_result"
    }
   ],
   "source": [
    "X.shape"
   ]
  },
  {
   "cell_type": "code",
   "execution_count": 5,
   "id": "e3175894",
   "metadata": {},
   "outputs": [
    {
     "data": {
      "text/plain": [
       "(12665,)"
      ]
     },
     "execution_count": 5,
     "metadata": {},
     "output_type": "execute_result"
    }
   ],
   "source": [
    "Y.shape"
   ]
  },
  {
   "cell_type": "code",
   "execution_count": 6,
   "id": "95d82e99",
   "metadata": {},
   "outputs": [
    {
     "name": "stdout",
     "output_type": "stream",
     "text": [
      "0\n"
     ]
    },
    {
     "data": {
      "text/plain": [
       "<matplotlib.image.AxesImage at 0x18c3c8bdeb0>"
      ]
     },
     "execution_count": 6,
     "metadata": {},
     "output_type": "execute_result"
    },
    {
     "data": {
      "image/png": "[encoded data removed]",
      "text/plain": [
       "<Figure size 432x288 with 1 Axes>"
      ]
     },
     "metadata": {
      "needs_background": "light"
     },
     "output_type": "display_data"
    }
   ],
   "source": [
    "print(Y[0])\n",
    "plt.imshow(X[0])"
   ]
  },
  {
   "cell_type": "markdown",
   "id": "a2a3370f",
   "metadata": {},
   "source": [
    "Images are of the size 28x28 therefore the input is 784"
   ]
  },
  {
   "cell_type": "code",
   "execution_count": 8,
   "id": "b53367ae",
   "metadata": {},
   "outputs": [],
   "source": [
    "model=tf.keras.models.Sequential(\n",
    "    [\n",
    "        tf.keras.layers.Input(shape=(784,)),\n",
    "        tf.keras.layers.Dense(25,activation='sigmoid'),\n",
    "        tf.keras.layers.Dense(15,activation='sigmoid'),\n",
    "        tf.keras.layers.Dense(1,activation='sigmoid')\n",
    "    \n",
    "    ]\n",
    ")"
   ]
  },
  {
   "cell_type": "code",
   "execution_count": 9,
   "id": "4ae388a3",
   "metadata": {},
   "outputs": [
    {
     "name": "stdout",
     "output_type": "stream",
     "text": [
      "Model: \"sequential\"\n",
      "_________________________________________________________________\n",
      " Layer (type)                Output Shape              Param #   \n",
      "=================================================================\n",
      " dense (Dense)               (None, 25)                19625     \n",
      "                                                                 \n",
      " dense_1 (Dense)             (None, 15)                390       \n",
      "                                                                 \n",
      " dense_2 (Dense)             (None, 1)                 16        \n",
      "                                                                 \n",
      "=================================================================\n",
      "Total params: 20,031\n",
      "Trainable params: 20,031\n",
      "Non-trainable params: 0\n",
      "_________________________________________________________________\n"
     ]
    }
   ],
   "source": [
    "model.summary()"
   ]
  },
  {
   "cell_type": "code",
   "execution_count": 10,
   "id": "ed0a4623",
   "metadata": {},
   "outputs": [
    {
     "name": "stdout",
     "output_type": "stream",
     "text": [
      "W1: (784, 25) b1: (25,)\n",
      "W2: (25, 15) b2: (15,)\n",
      "W3: (15, 1) b3: (1,)\n"
     ]
    }
   ],
   "source": [
    "[layer1,layer2,layer3]=model.layers\n",
    "W1,b1=layer1.get_weights()\n",
    "W2,b2=layer2.get_weights()\n",
    "W3,b3=layer3.get_weights()\n",
    "print(f'W1: {W1.shape} b1: {b1.shape}')\n",
    "print(f'W2: {W2.shape} b2: {b2.shape}')\n",
    "print(f'W3: {W3.shape} b3: {b3.shape}')"
   ]
  },
  {
   "cell_type": "code",
   "execution_count": 11,
   "id": "a20c7ce8",
   "metadata": {},
   "outputs": [],
   "source": [
    "model.compile(\n",
    "    loss=tf.keras.losses.BinaryCrossentropy(),\n",
    "    optimizer=tf.keras.optimizers.Adam(0.001)\n",
    ")"
   ]
  },
  {
   "cell_type": "code",
   "execution_count": 78,
   "id": "4ab6da17",
   "metadata": {},
   "outputs": [
    {
     "name": "stdout",
     "output_type": "stream",
     "text": [
      "Epoch 1/20\n",
      "396/396 [==============================] - 1s 2ms/step - loss: 0.1823\n",
      "Epoch 2/20\n",
      "396/396 [==============================] - 1s 2ms/step - loss: 0.0317\n",
      "Epoch 3/20\n",
      "396/396 [==============================] - 1s 2ms/step - loss: 0.0156\n",
      "Epoch 4/20\n",
      "396/396 [==============================] - 1s 2ms/step - loss: 0.0101\n",
      "Epoch 5/20\n",
      "396/396 [==============================] - 1s 2ms/step - loss: 0.0082\n",
      "Epoch 6/20\n",
      "396/396 [==============================] - 1s 2ms/step - loss: 0.0064\n",
      "Epoch 7/20\n",
      "396/396 [==============================] - 1s 2ms/step - loss: 0.0059\n",
      "Epoch 8/20\n",
      "396/396 [==============================] - 1s 2ms/step - loss: 0.0053\n",
      "Epoch 9/20\n",
      "396/396 [==============================] - 1s 2ms/step - loss: 0.0054\n",
      "Epoch 10/20\n",
      "396/396 [==============================] - 1s 2ms/step - loss: 0.0050\n",
      "Epoch 11/20\n",
      "396/396 [==============================] - 1s 2ms/step - loss: 0.0041\n",
      "Epoch 12/20\n",
      "396/396 [==============================] - 1s 2ms/step - loss: 0.0047\n",
      "Epoch 13/20\n",
      "396/396 [==============================] - 1s 2ms/step - loss: 0.0044\n",
      "Epoch 14/20\n",
      "396/396 [==============================] - 1s 2ms/step - loss: 0.0036\n",
      "Epoch 15/20\n",
      "396/396 [==============================] - 1s 2ms/step - loss: 0.0032\n",
      "Epoch 16/20\n",
      "396/396 [==============================] - 1s 2ms/step - loss: 0.0031\n",
      "Epoch 17/20\n",
      "396/396 [==============================] - 1s 2ms/step - loss: 0.0031\n",
      "Epoch 18/20\n",
      "396/396 [==============================] - 1s 2ms/step - loss: 0.0036\n",
      "Epoch 19/20\n",
      "396/396 [==============================] - 1s 2ms/step - loss: 0.0042\n",
      "Epoch 20/20\n",
      "396/396 [==============================] - 1s 2ms/step - loss: 0.0034\n"
     ]
    },
    {
     "data": {
      "text/plain": [
       "<keras.callbacks.History at 0x225c0679160>"
      ]
     },
     "execution_count": 78,
     "metadata": {},
     "output_type": "execute_result"
    }
   ],
   "source": [
    "model.fit(X_reshaped,Y,epochs=20)"
   ]
  },
  {
   "cell_type": "code",
   "execution_count": 84,
   "id": "62db5432",
   "metadata": {},
   "outputs": [
    {
     "name": "stdout",
     "output_type": "stream",
     "text": [
      "1/1 [==============================] - 0s 23ms/step\n",
      "1/1 [==============================] - 0s 17ms/step\n",
      "true: 0, predicted: [[0.00067704]]\n",
      "true: 1, predicted: [[0.99989885]]\n"
     ]
    }
   ],
   "source": [
    "p0=model.predict(X_reshaped[0].reshape(1,784))\n",
    "p1=model.predict(X_reshaped[1].reshape(1,784))\n",
    "print(f'true: {Y[0]}, predicted: {p0}')\n",
    "print(f'true: {Y[1]}, predicted: {p1}')"
   ]
  },
  {
   "cell_type": "code",
   "execution_count": null,
   "id": "f69a57f2",
   "metadata": {},
   "outputs": [],
   "source": []
  },
  {
   "cell_type": "code",
   "execution_count": null,
   "id": "16e7afc5",
   "metadata": {},
   "outputs": [],
   "source": []
  }
 ],
 "metadata": {
  "kernelspec": {
   "display_name": "Python 3 (ipykernel)",
   "language": "python",
   "name": "python3"
  },
  "language_info": {
   "codemirror_mode": {
    "name": "ipython",
    "version": 3
   },
   "file_extension": ".py",
   "mimetype": "text/x-python",
   "name": "python",
   "nbconvert_exporter": "python",
   "pygments_lexer": "ipython3",
   "version": "3.8.12"
  }
 },
 "nbformat": 4,
 "nbformat_minor": 5
}
