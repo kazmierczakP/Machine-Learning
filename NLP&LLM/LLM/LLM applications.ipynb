{
 "cells": [
  {
   "cell_type": "markdown",
   "id": "d8af2018",
   "metadata": {},
   "source": [
    "#### LLM optimization techniques"
   ]
  },
  {
   "cell_type": "markdown",
   "id": "5028c66c",
   "metadata": {},
   "source": [
    "`Distillation` - Teacher-Student models (student learns from teacher) good for `encoder models`\n",
    "\n",
    "`Quantization` - Post Training Quantization transforms model weights to lower precision representation\n",
    "\n",
    "`Pruning` - Reduces model size by eliminating weights that are not cotrubuting much to overall model performance `LoRA/PEFT`"
   ]
  },
  {
   "cell_type": "markdown",
   "id": "87527cdc",
   "metadata": {},
   "source": [
    "#### Model improvement techniques"
   ]
  },
  {
   "cell_type": "markdown",
   "id": "49129568",
   "metadata": {},
   "source": [
    "`Pre-Training` - difficult\n",
    "\n",
    "`Prompt engineering` - easy\n",
    "\n",
    "`Prompt tuning & Fine-tuning` - medium\n",
    "\n",
    "`Reinforcement learning/Human feedback` - medium-difficult"
   ]
  },
  {
   "cell_type": "markdown",
   "id": "ca6eeff0",
   "metadata": {},
   "source": [
    "#### LLM workflows"
   ]
  },
  {
   "cell_type": "markdown",
   "id": "d2ccb87f",
   "metadata": {},
   "source": [
    "`RAG` - Retrieval Augumented Generation means giving model prompt with up to date information pulled from database. External sources: \n",
    "- Documents\n",
    "- Databases\n",
    "- Web pages\n",
    "- Vector Store (embeding vectors)"
   ]
  },
  {
   "cell_type": "markdown",
   "id": "0c7de3b2",
   "metadata": {},
   "source": [
    "`Chain-of-thought` prompting - showing model how to deal with the problem"
   ]
  },
  {
   "cell_type": "markdown",
   "id": "075e539c",
   "metadata": {},
   "source": [
    "`PAL` - Program Aided Language model LLM's can't do any calculation. A way to ommit this is to make the model create `Python function` that would do the calculations."
   ]
  },
  {
   "cell_type": "markdown",
   "id": "a8cc8092",
   "metadata": {},
   "source": [
    "`ReAct` - uses structured examples to show LLM how to reason through the problem and decide on actions to take that move it closer to solution. Requires to have set of defiend actions like:\n",
    "- Search\n",
    "- Lookup\n",
    "- Finish"
   ]
  },
  {
   "cell_type": "code",
   "execution_count": null,
   "id": "390a96ec",
   "metadata": {},
   "outputs": [],
   "source": []
  }
 ],
 "metadata": {
  "kernelspec": {
   "display_name": "Python 3 (ipykernel)",
   "language": "python",
   "name": "python3"
  },
  "language_info": {
   "codemirror_mode": {
    "name": "ipython",
    "version": 3
   },
   "file_extension": ".py",
   "mimetype": "text/x-python",
   "name": "python",
   "nbconvert_exporter": "python",
   "pygments_lexer": "ipython3",
   "version": "3.8.12"
  }
 },
 "nbformat": 4,
 "nbformat_minor": 5
}
