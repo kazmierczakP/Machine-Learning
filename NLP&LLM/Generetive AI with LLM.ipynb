{
 "cells": [
  {
   "cell_type": "markdown",
   "id": "4b005b80",
   "metadata": {},
   "source": [
    "`LLM` - Large Language Models"
   ]
  },
  {
   "cell_type": "markdown",
   "id": "89c4e576",
   "metadata": {},
   "source": [
    "`RNN` - primary approach to generate text"
   ]
  },
  {
   "cell_type": "markdown",
   "id": "a505562a",
   "metadata": {},
   "source": [
    "`Transformers` - new approach based on `encoding` and `decoding` the text"
   ]
  },
  {
   "cell_type": "markdown",
   "id": "ca9bdc14",
   "metadata": {},
   "source": [
    "Each word in text is assigned `TOKEN` (tokenized). Each `TOKEN` is ampped into `vector`.\n",
    "Model analysis relations between tokens. \n",
    "The output of model i a vector with probabilites of each word in the vocabulary.\n",
    "\n",
    "`Encoder` - encodes input sequences into deep representation of structure and meaning of input\n",
    "\n",
    "`Decoder` - uses encoder's contextual understanding to generate new tokens (does it in a loop till a `stop condition` is reached)."
   ]
  },
  {
   "cell_type": "markdown",
   "id": "12ecf443",
   "metadata": {},
   "source": [
    "`Prompt` - text that we feed to the model. Improving the promt might be necassary to get better results. This is called Prompt engineering. Prompt can contain `example prompt-complection pair` to help the model generate response for another similar prompt (one-shot). For smaller models a couple of examples might be more helpful (few-shot).\n",
    "\n",
    "`Inference` - act of generating text\n",
    "\n",
    "`Comlection` - output text\n",
    "\n",
    "`Context window` - limit of words that the model can take as input."
   ]
  },
  {
   "cell_type": "markdown",
   "id": "a52a88a8",
   "metadata": {},
   "source": [
    "`Inference parameters` - controls that adjust the models behave:\n",
    "- max new tokens - `limits number of tokens` that model will generate\n",
    "- top-k - tells model to choose top k words with `highest probability` (lets the model have some randomness in responses nad avoid repetition)\n",
    "- top-p - limits the random sampling to predictions which `combined probability` does not exceed the p\n",
    "- temperature - describes shape of the probability model that the LLM will use to generate random responses. `The higher the temperature, the higher the randomness.`"
   ]
  },
  {
   "cell_type": "code",
   "execution_count": null,
   "id": "50a5b799",
   "metadata": {},
   "outputs": [],
   "source": []
  }
 ],
 "metadata": {
  "kernelspec": {
   "display_name": "Python 3 (ipykernel)",
   "language": "python",
   "name": "python3"
  },
  "language_info": {
   "codemirror_mode": {
    "name": "ipython",
    "version": 3
   },
   "file_extension": ".py",
   "mimetype": "text/x-python",
   "name": "python",
   "nbconvert_exporter": "python",
   "pygments_lexer": "ipython3",
   "version": "3.8.12"
  }
 },
 "nbformat": 4,
 "nbformat_minor": 5
}
