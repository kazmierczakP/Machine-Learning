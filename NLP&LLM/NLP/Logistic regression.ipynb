{
 "cells": [
  {
   "cell_type": "code",
   "execution_count": 8,
   "id": "3e4420ef",
   "metadata": {},
   "outputs": [],
   "source": [
    "import nltk\n",
    "from nltk.corpus import stopwords\n",
    "from nltk.stem import PorterStemmer\n",
    "from nltk.tokenize import TweetTokenizer\n",
    "from nltk.corpus import twitter_samples\n",
    "import matplotlib.pyplot as plt\n",
    "import numpy as np\n",
    "import pandas as pd\n",
    "import os as getcwd\n",
    "import string\n",
    "import re"
   ]
  },
  {
   "cell_type": "code",
   "execution_count": 9,
   "id": "39257753",
   "metadata": {},
   "outputs": [],
   "source": [
    "def process_tweet(tweet):\n",
    "    \"\"\"\n",
    "    Parameters:\n",
    "    -----------\n",
    "        tweet: string\n",
    "        \n",
    "    Returns:\n",
    "    --------\n",
    "        tweet_stem: list of stemmed words in tweet\n",
    "    \"\"\"\n",
    "    tokenizer=TweetTokenizer(preserve_case=False,strip_handles=True,reduce_len=True)\n",
    "    stopwords_english=stopwords.words('english')\n",
    "    stemmer=PorterStemmer()\n",
    "    \n",
    "    tweet=re.sub(r'https://[^\\s\\n\\r]+','',tweet)\n",
    "    tweet=re.sub(r'#','',tweet)\n",
    "    tweet_tokenized=tokenizer.tokenize(tweet)\n",
    "    \n",
    "    tweet_clean=[]\n",
    "    for word in tweet_tokenized:\n",
    "        if word not in stopwords_english and word not in string.punctuation:\n",
    "            tweet_clean.append(word)\n",
    "    \n",
    "    tweet_stem=[]\n",
    "    for word in tweet_clean:\n",
    "        stem_word=stemmer.stem(word)\n",
    "        tweet_stem.append(stem_word)\n",
    "    \n",
    "    return tweet_stem"
   ]
  },
  {
   "cell_type": "code",
   "execution_count": 10,
   "id": "baa2e464",
   "metadata": {},
   "outputs": [],
   "source": [
    "def build_freqs(tweets,ys):\n",
    "    \"\"\"\n",
    "    Parameters:\n",
    "    -----------\n",
    "        tweets: list of tweets\n",
    "    \n",
    "        ys: m x 1 array with the sentiment label (1 or 0)\n",
    "    \n",
    "    Returns:\n",
    "    --------\n",
    "        freqs: dict mapping each (word,sentiment) pair to its frequency\n",
    "    \"\"\"\n",
    "    yslist=np.squeeze(ys).tolist()\n",
    "    freqs={}\n",
    "    for y,tweet in zip(yslist,tweets):\n",
    "        for word in process_tweet(tweet):\n",
    "            pair=(word,y)\n",
    "            if pair in freqs:\n",
    "                freqs[pair]+=1\n",
    "            else:\n",
    "                freqs[pair]=1\n",
    "    return freqs"
   ]
  },
  {
   "cell_type": "code",
   "execution_count": 11,
   "id": "a10927fe",
   "metadata": {},
   "outputs": [
    {
     "name": "stderr",
     "output_type": "stream",
     "text": [
      "[nltk_data] Downloading package twitter_samples to\n",
      "[nltk_data]     C:\\Users\\pk764\\AppData\\Roaming\\nltk_data...\n",
      "[nltk_data]   Package twitter_samples is already up-to-date!\n",
      "[nltk_data] Downloading package stopwords to\n",
      "[nltk_data]     C:\\Users\\pk764\\AppData\\Roaming\\nltk_data...\n",
      "[nltk_data]   Package stopwords is already up-to-date!\n"
     ]
    },
    {
     "data": {
      "text/plain": [
       "True"
      ]
     },
     "execution_count": 11,
     "metadata": {},
     "output_type": "execute_result"
    }
   ],
   "source": [
    "nltk.download('twitter_samples')\n",
    "nltk.download('stopwords')"
   ]
  },
  {
   "cell_type": "code",
   "execution_count": 12,
   "id": "be1fd96b",
   "metadata": {},
   "outputs": [
    {
     "name": "stdout",
     "output_type": "stream",
     "text": [
      "positive:  5000\n",
      "negative:  5000\n"
     ]
    }
   ],
   "source": [
    "positive_tweets=twitter_samples.strings('positive_tweets.json')\n",
    "negative_tweets=twitter_samples.strings('negative_tweets.json')\n",
    "print('positive: ',len(positive_tweets))\n",
    "print('negative: ',len(negative_tweets))\n",
    "tweets=positive_tweets+negative_tweets\n",
    "train_pos=positive_tweets[:4000]\n",
    "train_neg=negative_tweets[:4000]\n",
    "train_x=train_pos+train_neg"
   ]
  },
  {
   "cell_type": "code",
   "execution_count": 13,
   "id": "4c777ebb",
   "metadata": {},
   "outputs": [],
   "source": [
    "labels=np.append(np.ones(len(positive_tweets)),np.zeros(len(negative_tweets)))"
   ]
  },
  {
   "cell_type": "markdown",
   "id": "3f29cae2",
   "metadata": {},
   "source": [
    "#### loading dataset "
   ]
  },
  {
   "cell_type": "code",
   "execution_count": 15,
   "id": "b1f1976f",
   "metadata": {},
   "outputs": [
    {
     "data": {
      "text/html": [
       "<div>\n",
       "<style scoped>\n",
       "    .dataframe tbody tr th:only-of-type {\n",
       "        vertical-align: middle;\n",
       "    }\n",
       "\n",
       "    .dataframe tbody tr th {\n",
       "        vertical-align: top;\n",
       "    }\n",
       "\n",
       "    .dataframe thead th {\n",
       "        text-align: right;\n",
       "    }\n",
       "</style>\n",
       "<table border=\"1\" class=\"dataframe\">\n",
       "  <thead>\n",
       "    <tr style=\"text-align: right;\">\n",
       "      <th></th>\n",
       "      <th>bias</th>\n",
       "      <th>positive</th>\n",
       "      <th>negative</th>\n",
       "      <th>sentiment</th>\n",
       "    </tr>\n",
       "  </thead>\n",
       "  <tbody>\n",
       "    <tr>\n",
       "      <th>0</th>\n",
       "      <td>1.0</td>\n",
       "      <td>3020.0</td>\n",
       "      <td>61.0</td>\n",
       "      <td>1.0</td>\n",
       "    </tr>\n",
       "    <tr>\n",
       "      <th>1</th>\n",
       "      <td>1.0</td>\n",
       "      <td>3573.0</td>\n",
       "      <td>444.0</td>\n",
       "      <td>1.0</td>\n",
       "    </tr>\n",
       "    <tr>\n",
       "      <th>2</th>\n",
       "      <td>1.0</td>\n",
       "      <td>3005.0</td>\n",
       "      <td>115.0</td>\n",
       "      <td>1.0</td>\n",
       "    </tr>\n",
       "    <tr>\n",
       "      <th>3</th>\n",
       "      <td>1.0</td>\n",
       "      <td>2862.0</td>\n",
       "      <td>4.0</td>\n",
       "      <td>1.0</td>\n",
       "    </tr>\n",
       "    <tr>\n",
       "      <th>4</th>\n",
       "      <td>1.0</td>\n",
       "      <td>3119.0</td>\n",
       "      <td>225.0</td>\n",
       "      <td>1.0</td>\n",
       "    </tr>\n",
       "  </tbody>\n",
       "</table>\n",
       "</div>"
      ],
      "text/plain": [
       "   bias  positive  negative  sentiment\n",
       "0   1.0    3020.0      61.0        1.0\n",
       "1   1.0    3573.0     444.0        1.0\n",
       "2   1.0    3005.0     115.0        1.0\n",
       "3   1.0    2862.0       4.0        1.0\n",
       "4   1.0    3119.0     225.0        1.0"
      ]
     },
     "execution_count": 15,
     "metadata": {},
     "output_type": "execute_result"
    }
   ],
   "source": [
    "data=pd.read_csv('data/logistic_features.csv')\n",
    "data.head()"
   ]
  },
  {
   "cell_type": "code",
   "execution_count": 26,
   "id": "f3b7ad44",
   "metadata": {},
   "outputs": [],
   "source": [
    "X=data[['bias','positive','negative']].values\n",
    "Y=data[['sentiment']].values"
   ]
  },
  {
   "cell_type": "markdown",
   "id": "ef24bfad",
   "metadata": {},
   "source": [
    "#### loading pretrained Logistic Regressoin model"
   ]
  },
  {
   "cell_type": "code",
   "execution_count": 22,
   "id": "8b72bf84",
   "metadata": {},
   "outputs": [],
   "source": [
    "theta=[6.0351887e-08,5.38184972e-04,-5.58300168e-04]"
   ]
  },
  {
   "cell_type": "markdown",
   "id": "9f5b5b75",
   "metadata": {},
   "source": [
    "#### plot samples"
   ]
  },
  {
   "cell_type": "code",
   "execution_count": 28,
   "id": "0dfe8228",
   "metadata": {},
   "outputs": [
    {
     "data": {
      "text/plain": [
       "Text(0, 0.5, 'negative')"
      ]
     },
     "execution_count": 28,
     "metadata": {},
     "output_type": "execute_result"
    },
    {
     "data": {
      "image/png": "[encoded data removed]",
      "text/plain": [
       "<Figure size 576x576 with 1 Axes>"
      ]
     },
     "metadata": {
      "needs_background": "light"
     },
     "output_type": "display_data"
    }
   ],
   "source": [
    "plt.figure(figsize=(8,8))\n",
    "colors=['red','blue']\n",
    "plt.scatter(X[:,1],X[:,2],color=[colors[int(k)] for k in Y],s=0.1)\n",
    "plt.xlabel('positive')\n",
    "plt.ylabel('negative')"
   ]
  },
  {
   "cell_type": "markdown",
   "id": "78e57f49",
   "metadata": {},
   "source": [
    "#### plotting model"
   ]
  },
  {
   "cell_type": "markdown",
   "id": "377a3630",
   "metadata": {},
   "source": [
    "$$ z=\\theta*x=0 $$\n",
    "\n",
    "$$ x=[1,pos,neg] $$\n",
    "\n",
    "$$ z(\\theta)=\\theta_0+\\theta_1*pos+\\theta_2*neg = 0 $$\n",
    "\n",
    "$$ neg=-\\frac{\\theta_0+\\theta_1*pos}{\\theta_2} $$\n",
    "\n",
    "$$ direction=\\frac{pos*\\theta_2}{\\theta_1} $$"
   ]
  },
  {
   "cell_type": "code",
   "execution_count": 29,
   "id": "4389e0d0",
   "metadata": {},
   "outputs": [],
   "source": [
    "def neg(theta,pos):\n",
    "    return -(theta[0]+theta[1]*pos)/theta[2]\n",
    "\n",
    "def direction(theta,pos):\n",
    "    return pos*theta[2]/theta[1]"
   ]
  },
  {
   "cell_type": "code",
   "execution_count": 30,
   "id": "bf6c23cc",
   "metadata": {},
   "outputs": [
    {
     "data": {
      "text/plain": [
       "Text(0, 0.5, 'negative')"
      ]
     },
     "execution_count": 30,
     "metadata": {},
     "output_type": "execute_result"
    },
    {
     "data": {
      "image/png": "[encoded data removed]",
      "text/plain": [
       "<Figure size 576x576 with 1 Axes>"
      ]
     },
     "metadata": {
      "needs_background": "light"
     },
     "output_type": "display_data"
    }
   ],
   "source": [
    "plt.figure(figsize=(8,8))\n",
    "colors=['red','blue']\n",
    "plt.scatter(X[:,1],X[:,2],color=[colors[int(k)] for k in Y],s=0.1)\n",
    "\n",
    "maxpos=np.max(X[:,1])\n",
    "plt.plot([0,maxpos],[neg(theta,0),neg(theta,maxpos)],color='gray')\n",
    "\n",
    "plt.xlabel('positive')\n",
    "plt.ylabel('negative')"
   ]
  },
  {
   "cell_type": "code",
   "execution_count": null,
   "id": "0ded83cf",
   "metadata": {},
   "outputs": [],
   "source": []
  }
 ],
 "metadata": {
  "kernelspec": {
   "display_name": "Python 3 (ipykernel)",
   "language": "python",
   "name": "python3"
  },
  "language_info": {
   "codemirror_mode": {
    "name": "ipython",
    "version": 3
   },
   "file_extension": ".py",
   "mimetype": "text/x-python",
   "name": "python",
   "nbconvert_exporter": "python",
   "pygments_lexer": "ipython3",
   "version": "3.8.12"
  }
 },
 "nbformat": 4,
 "nbformat_minor": 5
}
