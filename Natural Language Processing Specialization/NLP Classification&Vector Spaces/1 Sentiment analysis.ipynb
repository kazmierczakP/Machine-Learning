{
 "cells": [
  {
   "cell_type": "markdown",
   "id": "0a3f7049",
   "metadata": {},
   "source": [
    "## Logistic Regression"
   ]
  },
  {
   "cell_type": "markdown",
   "id": "710c8465",
   "metadata": {},
   "source": [
    "#### sparse representation"
   ]
  },
  {
   "cell_type": "markdown",
   "id": "2bce0a89",
   "metadata": {},
   "source": [
    "We create a vocabulary with all words and then represent as sentence as a vector with ones for words that appear in the sentence and 0 for the rest [1,1,1,1,1,1,0,0,...,0,0]. Each word is repersented one time."
   ]
  },
  {
   "cell_type": "markdown",
   "id": "995c873c",
   "metadata": {},
   "source": [
    "#### feature extraction"
   ]
  },
  {
   "cell_type": "markdown",
   "id": "8ee6485e",
   "metadata": {},
   "source": [
    "Positive and negative counts."
   ]
  },
  {
   "cell_type": "markdown",
   "id": "74be7f5a",
   "metadata": {},
   "source": [
    "Take positive/negative sentences and sreate vocabulary from them. Then for each word in vocabulary assign the number of times it appears in the sentences. \n",
    "\n",
    "`I am happy because I am learning NLP. I am happy`\n",
    "\n",
    "`I am sad, I am not learning NLP. I am sad`\n",
    "\n",
    "V=[I,am,happy,because,learning,NLP,sad,not]\n",
    "\n",
    "positive_ferq=[3,3,2,1,1,1,0,0]\n",
    "\n",
    "negative_ferq=[3,3,0,0,1,1,2,1]"
   ]
  },
  {
   "cell_type": "markdown",
   "id": "cf3cf972",
   "metadata": {},
   "source": [
    "Another approach wpuld be to represent a sentence `I am sad, I am not learning NLP` in a 3D space:\n",
    "\n",
    "$$ X_{m} = [1,\\sum_{w}freqs(w,1),\\sum_{w}freqs(w,0)] $$\n",
    "\n",
    "positive_ferq=[3,3,`2`,`1`,1,1,0,0] $$ \\sum_{w}freqs(w,1)=8 $$\n",
    "\n",
    "negative_ferq=[3,3,`0`,`0`,1,1,2,1] $$ \\sum_{w}freqs(w,0)=11 $$\n",
    "\n",
    "$$ X_{m} = [1,8,11] $$"
   ]
  },
  {
   "cell_type": "markdown",
   "id": "1f57ed9d",
   "metadata": {},
   "source": [
    "#### preprocessing"
   ]
  },
  {
   "cell_type": "markdown",
   "id": "a4f7f3b8",
   "metadata": {},
   "source": [
    "The process of eliminating `stop words` asnd `punctuation`:\n",
    "[and,is,a,at,has,for,of]\n",
    "[,.:!\"']"
   ]
  },
  {
   "cell_type": "markdown",
   "id": "8d637f36",
   "metadata": {},
   "source": [
    "#### stemming & lowercasing"
   ]
  },
  {
   "cell_type": "markdown",
   "id": "237f5d74",
   "metadata": {},
   "source": [
    "Changing word to its original version eg. tunung -> tun. This helps to reduce vocabulary."
   ]
  },
  {
   "cell_type": "code",
   "execution_count": 2,
   "id": "da58f339",
   "metadata": {},
   "outputs": [],
   "source": [
    "import nltk\n",
    "from nltk.corpus import twitter_samples\n",
    "import matplotlib.pyplot as plt\n",
    "import random"
   ]
  },
  {
   "cell_type": "code",
   "execution_count": 3,
   "id": "efce49a4",
   "metadata": {},
   "outputs": [
    {
     "name": "stderr",
     "output_type": "stream",
     "text": [
      "[nltk_data] Downloading package twitter_samples to\n",
      "[nltk_data]     C:\\Users\\pk764\\AppData\\Roaming\\nltk_data...\n",
      "[nltk_data]   Package twitter_samples is already up-to-date!\n"
     ]
    },
    {
     "data": {
      "text/plain": [
       "True"
      ]
     },
     "execution_count": 3,
     "metadata": {},
     "output_type": "execute_result"
    }
   ],
   "source": [
    "nltk.download('twitter_samples')"
   ]
  },
  {
   "cell_type": "code",
   "execution_count": 4,
   "id": "7b9340f0",
   "metadata": {},
   "outputs": [],
   "source": [
    "positive_tweets=twitter_samples.strings('positive_tweets.json')\n",
    "negative_tweets=twitter_samples.strings('negative_tweets.json')"
   ]
  },
  {
   "cell_type": "code",
   "execution_count": 5,
   "id": "cd1daa63",
   "metadata": {},
   "outputs": [
    {
     "name": "stdout",
     "output_type": "stream",
     "text": [
      "positive:  5000\n",
      "negative:  5000\n"
     ]
    }
   ],
   "source": [
    "print('positive: ',len(positive_tweets))\n",
    "print('negative: ',len(negative_tweets))"
   ]
  },
  {
   "cell_type": "code",
   "execution_count": 6,
   "id": "85f3ca06",
   "metadata": {},
   "outputs": [
    {
     "data": {
      "text/plain": [
       "([<matplotlib.patches.Wedge at 0x29918c090a0>,\n",
       "  <matplotlib.patches.Wedge at 0x29918be63a0>],\n",
       " [Text(6.735557395310444e-17, 1.1, 'positive'),\n",
       "  Text(-2.0206672185931328e-16, -1.1, 'negative')],\n",
       " [Text(3.6739403974420595e-17, 0.6, '50.0%'),\n",
       "  Text(-1.1021821192326178e-16, -0.6, '50.0%')])"
      ]
     },
     "execution_count": 6,
     "metadata": {},
     "output_type": "execute_result"
    },
    {
     "data": {
      "image/png": "[encoded data removed]",
      "text/plain": [
       "<Figure size 432x288 with 1 Axes>"
      ]
     },
     "metadata": {},
     "output_type": "display_data"
    }
   ],
   "source": [
    "labels=['positive','negative']\n",
    "tweets=[len(positive_tweets),len(negative_tweets)]\n",
    "plt.pie(tweets,labels=labels,autopct='%1.1f%%')"
   ]
  },
  {
   "cell_type": "code",
   "execution_count": 7,
   "id": "a6ef20a2",
   "metadata": {},
   "outputs": [
    {
     "name": "stdout",
     "output_type": "stream",
     "text": [
      "@metalgear_jp @Kojima_Hideo I want you're T-shirts ! They are so cool ! :D\n",
      "@AxeRade haw phela if am not looking like Mom obviously am looking like him :)\n"
     ]
    }
   ],
   "source": [
    "print(positive_tweets[100])\n",
    "print(positive_tweets[101])"
   ]
  },
  {
   "cell_type": "markdown",
   "id": "a84431e1",
   "metadata": {},
   "source": [
    "#### preprocessing"
   ]
  },
  {
   "cell_type": "code",
   "execution_count": 8,
   "id": "88e2048f",
   "metadata": {},
   "outputs": [
    {
     "data": {
      "text/plain": [
       "'My beautiful sunflowers on a sunny Friday morning off :) #sunflowers #favourites #happy #Friday off… https://t.co/3tfYom0N1i'"
      ]
     },
     "execution_count": 8,
     "metadata": {},
     "output_type": "execute_result"
    }
   ],
   "source": [
    "tweet=positive_tweets[2277]\n",
    "tweet"
   ]
  },
  {
   "cell_type": "code",
   "execution_count": 35,
   "id": "20164fa9",
   "metadata": {},
   "outputs": [
    {
     "name": "stderr",
     "output_type": "stream",
     "text": [
      "[nltk_data] Downloading package stopwords to\n",
      "[nltk_data]     C:\\Users\\pk764\\AppData\\Roaming\\nltk_data...\n",
      "[nltk_data]   Unzipping corpora\\stopwords.zip.\n"
     ]
    },
    {
     "data": {
      "text/plain": [
       "True"
      ]
     },
     "execution_count": 35,
     "metadata": {},
     "output_type": "execute_result"
    }
   ],
   "source": [
    "nltk.download('stopwords')"
   ]
  },
  {
   "cell_type": "code",
   "execution_count": 37,
   "id": "84c0c1c1",
   "metadata": {},
   "outputs": [],
   "source": [
    "import re\n",
    "import string\n",
    "from nltk.corpus import stopwords\n",
    "from nltk.stem import PorterStemmer\n",
    "from nltk.tokenize import TweetTokenizer"
   ]
  },
  {
   "cell_type": "code",
   "execution_count": 40,
   "id": "e7f4a169",
   "metadata": {},
   "outputs": [
    {
     "name": "stdout",
     "output_type": "stream",
     "text": [
      "My beautiful sunflowers on a sunny Friday morning off :) #sunflowers #favourites #happy #Friday off… https://t.co/3tfYom0N1i\n",
      "My beautiful sunflowers on a sunny Friday morning off :) sunflowers favourites happy Friday off… \n",
      "My beautiful sunflowers on a sunny Friday morning off :) sunflowers favourites happy Friday off… \n",
      "My beautiful sunflowers on a sunny Friday morning off :) sunflowers favourites happy Friday off… \n"
     ]
    }
   ],
   "source": [
    "print(tweet)\n",
    "print(tweet2)\n",
    "#remove hyperlinks\n",
    "tweet2=re.sub(r'https://[^\\s\\n\\r]+','',tweet2)\n",
    "print(tweet2)\n",
    "#remove hashes\n",
    "tweet2=re.sub(r'#','',tweet2)\n",
    "print(tweet2)"
   ]
  },
  {
   "cell_type": "markdown",
   "id": "565287f0",
   "metadata": {},
   "source": [
    "#### tokenizing"
   ]
  },
  {
   "cell_type": "markdown",
   "id": "5dc16418",
   "metadata": {},
   "source": [
    "Splitting strings into words without blank spaces."
   ]
  },
  {
   "cell_type": "code",
   "execution_count": 42,
   "id": "04b0c633",
   "metadata": {},
   "outputs": [
    {
     "name": "stdout",
     "output_type": "stream",
     "text": [
      "Tokenized tweet:  ['my', 'beautiful', 'sunflowers', 'on', 'a', 'sunny', 'friday', 'morning', 'off', ':)', 'sunflowers', 'favourites', 'happy', 'friday', 'off', '…']\n"
     ]
    }
   ],
   "source": [
    "tokenizer=TweetTokenizer(preserve_case=False,strip_handles=True,reduce_len=True)\n",
    "tweet_tokens=tokenizer.tokenize(tweet2)\n",
    "print('Tokenized tweet: ',tweet_tokens)"
   ]
  },
  {
   "cell_type": "markdown",
   "id": "93720a87",
   "metadata": {},
   "source": [
    "#### removing stop words and punctuations"
   ]
  },
  {
   "cell_type": "code",
   "execution_count": 45,
   "id": "cdae75f2",
   "metadata": {},
   "outputs": [
    {
     "name": "stdout",
     "output_type": "stream",
     "text": [
      "Stop words:  ['i', 'me', 'my', 'myself', 'we', 'our', 'ours', 'ourselves', 'you', \"you're\", \"you've\", \"you'll\", \"you'd\", 'your', 'yours', 'yourself', 'yourselves', 'he', 'him', 'his', 'himself', 'she', \"she's\", 'her', 'hers', 'herself', 'it', \"it's\", 'its', 'itself', 'they', 'them', 'their', 'theirs', 'themselves', 'what', 'which', 'who', 'whom', 'this', 'that', \"that'll\", 'these', 'those', 'am', 'is', 'are', 'was', 'were', 'be', 'been', 'being', 'have', 'has', 'had', 'having', 'do', 'does', 'did', 'doing', 'a', 'an', 'the', 'and', 'but', 'if', 'or', 'because', 'as', 'until', 'while', 'of', 'at', 'by', 'for', 'with', 'about', 'against', 'between', 'into', 'through', 'during', 'before', 'after', 'above', 'below', 'to', 'from', 'up', 'down', 'in', 'out', 'on', 'off', 'over', 'under', 'again', 'further', 'then', 'once', 'here', 'there', 'when', 'where', 'why', 'how', 'all', 'any', 'both', 'each', 'few', 'more', 'most', 'other', 'some', 'such', 'no', 'nor', 'not', 'only', 'own', 'same', 'so', 'than', 'too', 'very', 's', 't', 'can', 'will', 'just', 'don', \"don't\", 'should', \"should've\", 'now', 'd', 'll', 'm', 'o', 're', 've', 'y', 'ain', 'aren', \"aren't\", 'couldn', \"couldn't\", 'didn', \"didn't\", 'doesn', \"doesn't\", 'hadn', \"hadn't\", 'hasn', \"hasn't\", 'haven', \"haven't\", 'isn', \"isn't\", 'ma', 'mightn', \"mightn't\", 'mustn', \"mustn't\", 'needn', \"needn't\", 'shan', \"shan't\", 'shouldn', \"shouldn't\", 'wasn', \"wasn't\", 'weren', \"weren't\", 'won', \"won't\", 'wouldn', \"wouldn't\"]\n",
      "Punctuation:  !\"#$%&'()*+,-./:;<=>?@[\\]^_`{|}~\n"
     ]
    }
   ],
   "source": [
    "stopwords_english=stopwords.words('english')\n",
    "print('Stop words: ',stopwords_english)\n",
    "print('Punctuation: ',string.punctuation)"
   ]
  },
  {
   "cell_type": "code",
   "execution_count": 48,
   "id": "93b24aff",
   "metadata": {},
   "outputs": [
    {
     "name": "stdout",
     "output_type": "stream",
     "text": [
      "['my', 'beautiful', 'sunflowers', 'on', 'a', 'sunny', 'friday', 'morning', 'off', ':)', 'sunflowers', 'favourites', 'happy', 'friday', 'off', '…']\n",
      "['beautiful', 'sunflowers', 'sunny', 'friday', 'morning', ':)', 'sunflowers', 'favourites', 'happy', 'friday', '…']\n"
     ]
    }
   ],
   "source": [
    "tweet_clean=[]\n",
    "for word in tweet_tokens:\n",
    "    if word not in stopwords_english and word not in string.punctuation:\n",
    "        tweet_clean.append(word)\n",
    "    \n",
    "print(tweet_tokens)\n",
    "print(tweet_clean)"
   ]
  },
  {
   "cell_type": "markdown",
   "id": "70d43080",
   "metadata": {},
   "source": [
    "#### Stemming"
   ]
  },
  {
   "cell_type": "code",
   "execution_count": 49,
   "id": "78b25419",
   "metadata": {},
   "outputs": [
    {
     "name": "stdout",
     "output_type": "stream",
     "text": [
      "['beautiful', 'sunflowers', 'sunny', 'friday', 'morning', ':)', 'sunflowers', 'favourites', 'happy', 'friday', '…']\n",
      "['beauti', 'sunflow', 'sunni', 'friday', 'morn', ':)', 'sunflow', 'favourit', 'happi', 'friday', '…']\n"
     ]
    }
   ],
   "source": [
    "stemmer=PorterStemmer()\n",
    "tweet_stem=[]\n",
    "for word in tweet_clean:\n",
    "    stem_word=stemmer.stem(word)\n",
    "    tweet_stem.append(stem_word)\n",
    "print(tweet_clean)\n",
    "print(tweet_stem)"
   ]
  },
  {
   "cell_type": "markdown",
   "id": "7de1c887",
   "metadata": {},
   "source": [
    "#### task"
   ]
  },
  {
   "cell_type": "code",
   "execution_count": 1,
   "id": "ac6ece57",
   "metadata": {},
   "outputs": [],
   "source": [
    "from nltk.corpus import stopwords\n",
    "from nltk.stem import PorterStemmer\n",
    "from nltk.tokenize import TweetTokenizer\n",
    "import string\n",
    "from nltk.corpus import twitter_samples\n",
    "import re"
   ]
  },
  {
   "cell_type": "code",
   "execution_count": 2,
   "id": "2fba2fe3",
   "metadata": {},
   "outputs": [],
   "source": [
    "positive_tweets=twitter_samples.strings('positive_tweets.json')\n",
    "tweet=positive_tweets[2277]"
   ]
  },
  {
   "cell_type": "code",
   "execution_count": 3,
   "id": "137c3a59",
   "metadata": {},
   "outputs": [],
   "source": [
    "def process_tweet(tweet):\n",
    "    tokenizer=TweetTokenizer(preserve_case=False,strip_handles=True,reduce_len=True)\n",
    "    stopwords_english=stopwords.words('english')\n",
    "    stemmer=PorterStemmer()\n",
    "    \n",
    "    tweet=re.sub(r'https://[^\\s\\n\\r]+','',tweet)\n",
    "    tweet=re.sub(r'#','',tweet)\n",
    "    tweet_tokenized=tokenizer.tokenize(tweet)\n",
    "    \n",
    "    tweet_clean=[]\n",
    "    for word in tweet_tokenized:\n",
    "        if word not in stopwords_english and word not in string.punctuation:\n",
    "            tweet_clean.append(word)\n",
    "    \n",
    "    tweet_stem=[]\n",
    "    for word in tweet_clean:\n",
    "        stem_word=stemmer.stem(word)\n",
    "        tweet_stem.append(stem_word)\n",
    "    \n",
    "    return tweet_stem"
   ]
  },
  {
   "cell_type": "code",
   "execution_count": 4,
   "id": "0d19e850",
   "metadata": {},
   "outputs": [
    {
     "name": "stdout",
     "output_type": "stream",
     "text": [
      "['beauti', 'sunflow', 'sunni', 'friday', 'morn', ':)', 'sunflow', 'favourit', 'happi', 'friday', '…']\n"
     ]
    }
   ],
   "source": [
    "tweet_stem=process_tweet(tweet)\n",
    "print(tweet_stem)"
   ]
  },
  {
   "cell_type": "code",
   "execution_count": null,
   "id": "73dd8600",
   "metadata": {},
   "outputs": [],
   "source": []
  }
 ],
 "metadata": {
  "kernelspec": {
   "display_name": "Python 3 (ipykernel)",
   "language": "python",
   "name": "python3"
  },
  "language_info": {
   "codemirror_mode": {
    "name": "ipython",
    "version": 3
   },
   "file_extension": ".py",
   "mimetype": "text/x-python",
   "name": "python",
   "nbconvert_exporter": "python",
   "pygments_lexer": "ipython3",
   "version": "3.9.18"
  }
 },
 "nbformat": 4,
 "nbformat_minor": 5
}
