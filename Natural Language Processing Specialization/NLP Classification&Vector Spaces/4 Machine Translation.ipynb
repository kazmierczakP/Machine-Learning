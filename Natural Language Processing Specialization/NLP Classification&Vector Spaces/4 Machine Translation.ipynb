{
 "cells": [
  {
   "cell_type": "markdown",
   "id": "ea8719a0",
   "metadata": {},
   "source": [
    "## Machine Translation"
   ]
  },
  {
   "cell_type": "markdown",
   "id": "3387c73f",
   "metadata": {},
   "source": [
    "In order to be able to translate word from one language to another we need the `rotation matrix R` that would remap the `embeddings` of word in languade A to `embedings` of the same word in language B.\n",
    "$$ XR = Y $$\n",
    "\n",
    "$ Loss=||XR-Y||_F $\n",
    "\n",
    "$ g=\\frac{d}{dR}Loss $\n",
    "\n",
    "$ R=R-\\alpha g $\n",
    "\n",
    "$$ ||A||_F = \\sqrt{\\sum \\sum{|a_{ij}|^2}} $$\n",
    "\n",
    "To make things easier we minimaze $ ||XR-Y||^2_F $ instead of $ ||XR-Y||_F $"
   ]
  },
  {
   "cell_type": "markdown",
   "id": "e41b98cc",
   "metadata": {},
   "source": [
    "### Transforming vectors"
   ]
  },
  {
   "cell_type": "markdown",
   "id": "98004fee",
   "metadata": {},
   "source": [
    "Vector transformations:\n",
    "- Scaling\n",
    "-Translation\n",
    "- Rotation\n",
    "\n",
    "Rotation changes th edirection of a vector leaving dimensionality and norm unaffected."
   ]
  },
  {
   "cell_type": "markdown",
   "id": "f252444f",
   "metadata": {},
   "source": [
    "#### Rotation"
   ]
  },
  {
   "cell_type": "code",
   "execution_count": 1,
   "id": "b30608e5",
   "metadata": {},
   "outputs": [],
   "source": [
    "import numpy as np\n",
    "import matplotlib.pyplot as plt"
   ]
  },
  {
   "cell_type": "code",
   "execution_count": 2,
   "id": "53816fc8",
   "metadata": {},
   "outputs": [
    {
     "data": {
      "text/plain": [
       "array([[-2,  0],\n",
       "       [ 0,  2]])"
      ]
     },
     "execution_count": 2,
     "metadata": {},
     "output_type": "execute_result"
    }
   ],
   "source": [
    "R=np.array([[-2,0],[0,2]])\n",
    "R"
   ]
  },
  {
   "cell_type": "code",
   "execution_count": 3,
   "id": "2f425b21",
   "metadata": {},
   "outputs": [
    {
     "data": {
      "text/plain": [
       "array([[1, 1]])"
      ]
     },
     "execution_count": 3,
     "metadata": {},
     "output_type": "execute_result"
    }
   ],
   "source": [
    "X=np.array([[1,1]])\n",
    "X"
   ]
  },
  {
   "cell_type": "code",
   "execution_count": 4,
   "id": "015ff166",
   "metadata": {},
   "outputs": [
    {
     "data": {
      "text/plain": [
       "array([[-2,  2]])"
      ]
     },
     "execution_count": 4,
     "metadata": {},
     "output_type": "execute_result"
    }
   ],
   "source": [
    "Y=np.dot(X,R)\n",
    "Y"
   ]
  },
  {
   "cell_type": "code",
   "execution_count": 5,
   "id": "f6fb712d",
   "metadata": {},
   "outputs": [
    {
     "data": {
      "text/plain": [
       "(-4.0, 4.0)"
      ]
     },
     "execution_count": 5,
     "metadata": {},
     "output_type": "execute_result"
    },
    {
     "data": {
      "image/png": "[encoded data removed]",
      "text/plain": [
       "<Figure size 432x288 with 1 Axes>"
      ]
     },
     "metadata": {
      "needs_background": "light"
     },
     "output_type": "display_data"
    }
   ],
   "source": [
    "plt.arrow(0,0,X[0][0],X[0][1],head_width=0.1)\n",
    "plt.xlim(-4,4)\n",
    "plt.ylim(-4,4)"
   ]
  },
  {
   "cell_type": "code",
   "execution_count": 6,
   "id": "8ca091eb",
   "metadata": {},
   "outputs": [
    {
     "data": {
      "text/plain": [
       "<matplotlib.legend.Legend at 0x2c650d117c0>"
      ]
     },
     "execution_count": 6,
     "metadata": {},
     "output_type": "execute_result"
    },
    {
     "data": {
      "image/png": "[encoded data removed]",
      "text/plain": [
       "<Figure size 432x288 with 1 Axes>"
      ]
     },
     "metadata": {
      "needs_background": "light"
     },
     "output_type": "display_data"
    }
   ],
   "source": [
    "plt.arrow(0,0,X[0][0],X[0][1],head_width=0.1,color='black',label='x')\n",
    "plt.arrow(0,0,Y[0][0],Y[0][1],head_width=0.1,color='b',label='y')\n",
    "plt.xlim(-4,4)\n",
    "plt.ylim(-4,4)\n",
    "plt.legend()"
   ]
  },
  {
   "cell_type": "markdown",
   "id": "5ad0c992",
   "metadata": {},
   "source": [
    "Vector `X` is transformed into vector `Y`."
   ]
  },
  {
   "cell_type": "markdown",
   "id": "aff40c07",
   "metadata": {},
   "source": [
    "***"
   ]
  },
  {
   "cell_type": "markdown",
   "id": "ba89bc1a",
   "metadata": {},
   "source": [
    "#### Rotation 2"
   ]
  },
  {
   "cell_type": "markdown",
   "id": "f8dd30c5",
   "metadata": {},
   "source": [
    "Data that is composed of 2 real attributes belongs to a $ R \\times R $ or $ R^2 $ space. Rotation matrices in $ R^2 $ rotate a given vector $\\vec{x}$ by a counterclockwise angle $ \\theta $ in a fixed coordinate system. Rotation matrices are of the form:\n",
    "\n",
    "$$ Ro = \\begin{bmatrix} cos{\\theta} & -sin{\\theta} \\\\ sin{\\theta} & cos{\\theta} \\end{bmatrix}$$\n",
    "\n",
    "$$ y=Ro \\cdot x.T $$\n",
    "\n",
    "To get the clockwise rotation use:\n",
    "\n",
    "$$ y=x \\cdot Ro $$"
   ]
  },
  {
   "cell_type": "code",
   "execution_count": 7,
   "id": "6181a91a",
   "metadata": {},
   "outputs": [
    {
     "name": "stdout",
     "output_type": "stream",
     "text": [
      "Rotation matrix: \n",
      "[[-0.17364818 -0.98480775]\n",
      " [ 0.98480775 -0.17364818]]\n",
      "Rotated vector: \n",
      "[[-2.31691186]\n",
      " [ 1.62231915]]\n",
      "Y_clokcwise vector: \n",
      "[[ 1.62231915 -2.31691186]]\n",
      "\n",
      "\n",
      "X norm: 2.8284271247461903\n",
      "Y norm: 2.82842712474619\n",
      "Y_clokcwise norm: 2.82842712474619\n",
      "Ro norm: 1.414213562373095\n"
     ]
    }
   ],
   "source": [
    "angle=100*(np.pi/180)\n",
    "\n",
    "Ro=np.array([[np.cos(angle),-np.sin(angle)],[np.sin(angle),np.cos(angle)]])\n",
    "X=np.array([[2,2]])\n",
    "Y=np.dot(Ro,X.T)\n",
    "Y_clokcwise=np.dot(X,Ro)\n",
    "print(f'Rotation matrix: \\n{Ro}')\n",
    "print(f'Rotated vector: \\n{Y}')\n",
    "print(f'Y_clokcwise vector: \\n{Y_clokcwise}')\n",
    "print('\\n')\n",
    "print(f'X norm: {np.linalg.norm(X)}')\n",
    "print(f'Y norm: {np.linalg.norm(Y)}')\n",
    "print(f'Y_clokcwise norm: {np.linalg.norm(Y_clokcwise)}')\n",
    "print(f'Ro norm: {np.linalg.norm(Ro)}')"
   ]
  },
  {
   "cell_type": "code",
   "execution_count": 8,
   "id": "9c4a47c1",
   "metadata": {},
   "outputs": [
    {
     "data": {
      "text/plain": [
       "<matplotlib.legend.Legend at 0x2c650da7e50>"
      ]
     },
     "execution_count": 8,
     "metadata": {},
     "output_type": "execute_result"
    },
    {
     "data": {
      "image/png": "[encoded data removed]",
      "text/plain": [
       "<Figure size 432x288 with 1 Axes>"
      ]
     },
     "metadata": {
      "needs_background": "light"
     },
     "output_type": "display_data"
    }
   ],
   "source": [
    "plt.arrow(0,0,X[0][0],X[0][1],head_width=0.1,color='black',label='x')\n",
    "plt.arrow(0,0,Y[0][0],Y[1][0],head_width=0.1,color='b',label='y')\n",
    "plt.arrow(0,0,Y_clokcwise[0][0],Y_clokcwise[0][1],head_width=0.1,color='r',label='y_clockwise')\n",
    "plt.xlim(-4,4)\n",
    "plt.ylim(-4,4)\n",
    "plt.legend()"
   ]
  },
  {
   "cell_type": "markdown",
   "id": "15750ad9",
   "metadata": {},
   "source": [
    "Points to note:\n",
    "- `Norm` of the input `is the same` as the norm of the `output` vector. Rotation matrices `do not modify the norm` of the vector, only its direction.\n",
    "- Norm of any $R^2$ rotation matrix is always $ \\sqrt{2}=1,414 $"
   ]
  },
  {
   "cell_type": "markdown",
   "id": "fa7319ea",
   "metadata": {},
   "source": [
    "***"
   ]
  },
  {
   "cell_type": "markdown",
   "id": "10d8ca81",
   "metadata": {},
   "source": [
    "#### Forbenius Form"
   ]
  },
  {
   "cell_type": "markdown",
   "id": "a1c6af3a",
   "metadata": {},
   "source": [
    "The Forbenius norm in the generalization to $$ R^2 $$ of the already knows norm function for vectors.\n",
    "\n",
    "$$ ||\\vec{x}|| = \\sqrt{\\vec{a} \\cdot \\vec{a}} $$\n",
    "\n",
    "For a given $ R^2 $ matrix $A$, the forbenius norm is defined as:\n",
    "\n",
    "$$ ||A||_F = \\sqrt{\\sum \\sum{|a_{ij}|^2}} $$"
   ]
  },
  {
   "cell_type": "code",
   "execution_count": 18,
   "id": "b404ce2c",
   "metadata": {},
   "outputs": [
    {
     "data": {
      "text/plain": [
       "array([[2, 2],\n",
       "       [2, 2]])"
      ]
     },
     "execution_count": 18,
     "metadata": {},
     "output_type": "execute_result"
    }
   ],
   "source": [
    "A=np.array([[2,2],[2,2]])\n",
    "A"
   ]
  },
  {
   "cell_type": "code",
   "execution_count": 19,
   "id": "866dc85c",
   "metadata": {},
   "outputs": [
    {
     "data": {
      "text/plain": [
       "array([[4, 4],\n",
       "       [4, 4]])"
      ]
     },
     "execution_count": 19,
     "metadata": {},
     "output_type": "execute_result"
    }
   ],
   "source": [
    "A_squared=np.square(A)\n",
    "A_squared"
   ]
  },
  {
   "cell_type": "code",
   "execution_count": 20,
   "id": "7a6da366",
   "metadata": {},
   "outputs": [
    {
     "data": {
      "text/plain": [
       "array([[4, 4],\n",
       "       [4, 4]])"
      ]
     },
     "execution_count": 20,
     "metadata": {},
     "output_type": "execute_result"
    }
   ],
   "source": [
    "A_squared=A*A\n",
    "A_squared"
   ]
  },
  {
   "cell_type": "code",
   "execution_count": 21,
   "id": "3f6020df",
   "metadata": {},
   "outputs": [
    {
     "data": {
      "text/plain": [
       "4.0"
      ]
     },
     "execution_count": 21,
     "metadata": {},
     "output_type": "execute_result"
    }
   ],
   "source": [
    "A_forbenius=np.sqrt(np.sum(A_squared))\n",
    "A_forbenius"
   ]
  },
  {
   "cell_type": "code",
   "execution_count": 22,
   "id": "22f1ebda",
   "metadata": {},
   "outputs": [
    {
     "name": "stdout",
     "output_type": "stream",
     "text": [
      "Forbeniur norm of rotation matrix:\n",
      "1.414213562373095 == 1.414213562373095\n"
     ]
    }
   ],
   "source": [
    "print('Forbeniur norm of rotation matrix:')\n",
    "print(np.sqrt(np.sum(Ro*Ro)),'==',np.linalg.norm(Ro))"
   ]
  },
  {
   "cell_type": "markdown",
   "id": "61423021",
   "metadata": {},
   "source": [
    "***"
   ]
  },
  {
   "cell_type": "markdown",
   "id": "a6fdf27e",
   "metadata": {},
   "source": [
    "#### Hash Tables"
   ]
  },
  {
   "cell_type": "code",
   "execution_count": 1,
   "id": "a4883f43",
   "metadata": {},
   "outputs": [],
   "source": [
    "import numpy as np\n",
    "import pprint\n",
    "import matplotlib.pyplot as plt\n",
    "pp=pprint.PrettyPrinter(indent=4)"
   ]
  },
  {
   "cell_type": "code",
   "execution_count": 10,
   "id": "e688392e",
   "metadata": {},
   "outputs": [],
   "source": [
    "def hash_function(value,n_buckets):\n",
    "    '''\n",
    "    Parameters:\n",
    "    -----------\n",
    "        value: int (the value of element)\n",
    "        n_buckets: int (number of buckets)\n",
    "    \n",
    "    Returns:\n",
    "    --------\n",
    "        hash_value: int\n",
    "    '''\n",
    "    hash_value=int(value)%n_buckets\n",
    "    \n",
    "    return hash_value"
   ]
  },
  {
   "cell_type": "code",
   "execution_count": 11,
   "id": "24fb2326",
   "metadata": {},
   "outputs": [],
   "source": [
    "def hash_table(value_l,n_buckets):\n",
    "    '''\n",
    "    Parameters:\n",
    "    -----------\n",
    "        value_l: list (list of integer numbers)\n",
    "        n_buckets: int (number of buckets)\n",
    "    \n",
    "    Returns:\n",
    "    --------\n",
    "        hash_table: dict (dict of hash numbers as keys and elements as values)\n",
    "    '''\n",
    "    hash_table={i:[] for i in range(n_buckets)}\n",
    "    for value in value_l:\n",
    "        hash_value=hash_function(value,n_buckets)\n",
    "        hash_table[hash_value].append(value)\n",
    "    \n",
    "    return hash_table"
   ]
  },
  {
   "cell_type": "code",
   "execution_count": 12,
   "id": "723f11df",
   "metadata": {},
   "outputs": [
    {
     "data": {
      "text/plain": [
       "{0: [100, 10],\n",
       " 1: [],\n",
       " 2: [],\n",
       " 3: [],\n",
       " 4: [14],\n",
       " 5: [],\n",
       " 6: [],\n",
       " 7: [97, 17],\n",
       " 8: [],\n",
       " 9: []}"
      ]
     },
     "execution_count": 12,
     "metadata": {},
     "output_type": "execute_result"
    }
   ],
   "source": [
    "value_l=[100,10,97,14,17]\n",
    "hash_table_ex=hash_table(value_l,n_buckets=10)\n",
    "hash_table_ex"
   ]
  },
  {
   "cell_type": "markdown",
   "id": "0404c620",
   "metadata": {},
   "source": [
    "In this case the bucket key must be the risghstmost digit of each number."
   ]
  },
  {
   "cell_type": "markdown",
   "id": "660f4666",
   "metadata": {},
   "source": [
    "***"
   ]
  },
  {
   "cell_type": "markdown",
   "id": "76fda7ac",
   "metadata": {},
   "source": [
    "#### Planes"
   ]
  },
  {
   "cell_type": "markdown",
   "id": "89a0d0ab",
   "metadata": {},
   "source": [
    "`Multiplanes hash functions` are other type of hash functions. Multiplanes hash functions are based on the idea of numbering every single region that is formed by the `intersection of n planes`. "
   ]
  },
  {
   "cell_type": "code",
   "execution_count": 34,
   "id": "d50e6369",
   "metadata": {},
   "outputs": [],
   "source": [
    "P=np.array([[1,1]])\n",
    "v1_list=np.array([np.array(np.random.uniform(-2,2,2)) for i in range(0,10)])\n",
    "side_od_plane=np.array([np.sign(np.dot(P,v1.T)) for v1 in v1_list])\n",
    "colors=np.where(side_od_plane>0,'b','r')"
   ]
  },
  {
   "cell_type": "code",
   "execution_count": 53,
   "id": "8ea0684d",
   "metadata": {},
   "outputs": [
    {
     "data": {
      "text/plain": [
       "<matplotlib.patches.FancyArrow at 0x220fd72f9d0>"
      ]
     },
     "execution_count": 53,
     "metadata": {},
     "output_type": "execute_result"
    },
    {
     "data": {
      "image/png": "[encoded data removed]",
      "text/plain": [
       "<Figure size 432x288 with 1 Axes>"
      ]
     },
     "metadata": {
      "needs_background": "light"
     },
     "output_type": "display_data"
    }
   ],
   "source": [
    "plt.scatter(v1_list[:,0],v1_list[:,1],color=colors.flatten())\n",
    "plt.arrow(0,0,P[0][0],P[0][1],head_width=0.1,color='black',label='P')"
   ]
  },
  {
   "cell_type": "markdown",
   "id": "0f1b439d",
   "metadata": {},
   "source": [
    "Vector marks the 'positive' `direction` of the plane.\n",
    "\n",
    "In order to plot the plane itself we need to ple a line perpendicular to vector `P`. It can be done by using $90^o$ `rotation matrix`."
   ]
  },
  {
   "cell_type": "code",
   "execution_count": 63,
   "id": "95c06571",
   "metadata": {},
   "outputs": [],
   "source": [
    "P=np.array([[1,2]])\n",
    "Plane=np.dot([[0,1],[-1,0]],P.T).T\n",
    "v1_list=np.array([np.array(np.random.uniform(-2,2,2)) for i in range(0,20)])\n",
    "side_od_plane=np.array([np.sign(np.dot(P,v1.T)) for v1 in v1_list])\n",
    "colors=np.where(side_od_plane>0,'b','r')"
   ]
  },
  {
   "cell_type": "code",
   "execution_count": 77,
   "id": "76e126eb",
   "metadata": {},
   "outputs": [
    {
     "data": {
      "text/plain": [
       "<matplotlib.patches.FancyArrow at 0x220fd7bae50>"
      ]
     },
     "execution_count": 77,
     "metadata": {},
     "output_type": "execute_result"
    },
    {
     "data": {
      "image/png": "[encoded data removed]",
      "text/plain": [
       "<Figure size 576x576 with 1 Axes>"
      ]
     },
     "metadata": {
      "needs_background": "light"
     },
     "output_type": "display_data"
    }
   ],
   "source": [
    "plt.figure(figsize=(8,8))\n",
    "plt.scatter(v1_list[:,0],v1_list[:,1],color=colors.flatten())\n",
    "plt.arrow(0,0,P[0][0],P[0][1],head_width=0.1,color='black',label='P')\n",
    "plt.arrow(0,0,Plane[0][0],Plane[0][1],color='black',linestyle=':')\n",
    "plt.arrow(0,0,Plane[0][0]*-1,Plane[0][1]*-1,color='black',linestyle=':')"
   ]
  },
  {
   "cell_type": "markdown",
   "id": "52f43f41",
   "metadata": {},
   "source": [
    "***"
   ]
  },
  {
   "cell_type": "code",
   "execution_count": 78,
   "id": "4e006d35",
   "metadata": {},
   "outputs": [],
   "source": [
    "P=np.array([[1,1]]) # plane\n",
    "V1=np.array([[1,2]]) #point\n",
    "V2=np.array([[-1,1]]) #point\n",
    "V3=np.array([[-2,-1]]) #point"
   ]
  },
  {
   "cell_type": "code",
   "execution_count": 80,
   "id": "076b7920",
   "metadata": {},
   "outputs": [
    {
     "data": {
      "text/plain": [
       "array([[3]])"
      ]
     },
     "execution_count": 80,
     "metadata": {},
     "output_type": "execute_result"
    }
   ],
   "source": [
    "np.dot(P,V1.T)"
   ]
  },
  {
   "cell_type": "code",
   "execution_count": 83,
   "id": "4f34dc5d",
   "metadata": {},
   "outputs": [
    {
     "data": {
      "text/plain": [
       "array([[0]])"
      ]
     },
     "execution_count": 83,
     "metadata": {},
     "output_type": "execute_result"
    }
   ],
   "source": [
    "np.dot(P,V2.T)"
   ]
  },
  {
   "cell_type": "code",
   "execution_count": 84,
   "id": "a5aab703",
   "metadata": {},
   "outputs": [
    {
     "data": {
      "text/plain": [
       "array([[-3]])"
      ]
     },
     "execution_count": 84,
     "metadata": {},
     "output_type": "execute_result"
    }
   ],
   "source": [
    "np.dot(P,V3.T)"
   ]
  },
  {
   "cell_type": "code",
   "execution_count": 104,
   "id": "8a0dcfbf",
   "metadata": {},
   "outputs": [],
   "source": [
    "def side_of_plane(P,V):\n",
    "    '''\n",
    "    Parameters:\n",
    "    -----------\n",
    "        P: np.array (plane)\n",
    "        V: np.array (point)\n",
    "    Returns:\n",
    "    --------\n",
    "        sign_of_dot_scalar: int (side of the plane)\n",
    "    '''\n",
    "    dot=np.dot(P,V.T)\n",
    "    sign_of_dot=np.sign(dot)\n",
    "    sign_of_dot_scalar=sign_of_dot.item()\n",
    "    \n",
    "    return sign_of_dot_scalar"
   ]
  },
  {
   "cell_type": "code",
   "execution_count": 88,
   "id": "387d9003",
   "metadata": {},
   "outputs": [
    {
     "data": {
      "text/plain": [
       "1"
      ]
     },
     "execution_count": 88,
     "metadata": {},
     "output_type": "execute_result"
    }
   ],
   "source": [
    "side_of_plane(P,V1)"
   ]
  },
  {
   "cell_type": "code",
   "execution_count": 89,
   "id": "f3a23593",
   "metadata": {},
   "outputs": [
    {
     "data": {
      "text/plain": [
       "0"
      ]
     },
     "execution_count": 89,
     "metadata": {},
     "output_type": "execute_result"
    }
   ],
   "source": [
    "side_of_plane(P,V2)"
   ]
  },
  {
   "cell_type": "code",
   "execution_count": 90,
   "id": "84b317f0",
   "metadata": {},
   "outputs": [
    {
     "data": {
      "text/plain": [
       "-1"
      ]
     },
     "execution_count": 90,
     "metadata": {},
     "output_type": "execute_result"
    }
   ],
   "source": [
    "side_of_plane(P,V3)"
   ]
  },
  {
   "cell_type": "markdown",
   "id": "3a579041",
   "metadata": {},
   "source": [
    "***"
   ]
  },
  {
   "cell_type": "markdown",
   "id": "197b4ed9",
   "metadata": {},
   "source": [
    "#### Hash function with multiple planes"
   ]
  },
  {
   "cell_type": "code",
   "execution_count": 91,
   "id": "5520b3f3",
   "metadata": {},
   "outputs": [],
   "source": [
    "P1=np.array([[1,1]]) # plane\n",
    "P2=np.array([[-1,1]]) # plane\n",
    "P3=np.array([[-1,-1]]) # plane\n",
    "P_l=[P1,P2,P3]\n",
    "\n",
    "V=np.array([[2,2]]) # vector to search"
   ]
  },
  {
   "cell_type": "code",
   "execution_count": 94,
   "id": "67c5b34d",
   "metadata": {},
   "outputs": [],
   "source": [
    "def hash_multi_plane(P_l,V):\n",
    "    '''\n",
    "    Parameters:\n",
    "    -----------\n",
    "        P_l: list of np.array (list of planes)\n",
    "        V: np.array (vector)\n",
    "    Returns:\n",
    "    --------\n",
    "        hash_value: int (hash_value of the vestor with respect to planes)\n",
    "    '''\n",
    "    hash_value=0\n",
    "    for i,P in enumerate(P_l):\n",
    "        sign=side_of_plane(P,V)\n",
    "        hash_i=1 if sign>=0 else 0\n",
    "        hash_value+=hash_i*2**i\n",
    "    \n",
    "    return hash_value"
   ]
  },
  {
   "cell_type": "code",
   "execution_count": 95,
   "id": "32ab7ada",
   "metadata": {},
   "outputs": [
    {
     "data": {
      "text/plain": [
       "3"
      ]
     },
     "execution_count": 95,
     "metadata": {},
     "output_type": "execute_result"
    }
   ],
   "source": [
    "hash_multi_plane(P_l,V)"
   ]
  },
  {
   "cell_type": "markdown",
   "id": "b5b729d5",
   "metadata": {},
   "source": [
    "***"
   ]
  },
  {
   "cell_type": "code",
   "execution_count": 110,
   "id": "b05226d2",
   "metadata": {},
   "outputs": [
    {
     "data": {
      "text/plain": [
       "array([[ 1.76405235,  0.40015721],\n",
       "       [ 0.97873798,  2.2408932 ],\n",
       "       [ 1.86755799, -0.97727788]])"
      ]
     },
     "execution_count": 110,
     "metadata": {},
     "output_type": "execute_result"
    }
   ],
   "source": [
    "np.random.seed(0)\n",
    "num_dimensions=2\n",
    "num_planes=3\n",
    "random_planes_matrix=np.random.normal(size=(num_planes,num_dimensions))\n",
    "random_planes_matrix"
   ]
  },
  {
   "cell_type": "code",
   "execution_count": 111,
   "id": "ff2f9fa9",
   "metadata": {},
   "outputs": [],
   "source": [
    "V=np.array([[2,2]])"
   ]
  },
  {
   "cell_type": "code",
   "execution_count": 112,
   "id": "e86ce4e7",
   "metadata": {},
   "outputs": [],
   "source": [
    "def side_of_plane_matrix(P,V):\n",
    "    '''\n",
    "    Parameters:\n",
    "    -----------\n",
    "        P: np.array (plane)\n",
    "        V: np.array (point)\n",
    "    Returns:\n",
    "    --------\n",
    "        sign_of_dot_scalar: int (side of the plane)\n",
    "    '''\n",
    "    dot=np.dot(P,V.T)\n",
    "    sign_of_dot=np.sign(dot)\n",
    "    \n",
    "    return sign_of_dot"
   ]
  },
  {
   "cell_type": "code",
   "execution_count": 113,
   "id": "24259bc7",
   "metadata": {},
   "outputs": [
    {
     "data": {
      "text/plain": [
       "array([[1.],\n",
       "       [1.],\n",
       "       [1.]])"
      ]
     },
     "execution_count": 113,
     "metadata": {},
     "output_type": "execute_result"
    }
   ],
   "source": [
    "sides_l=side_of_plane_matrix(random_planes_matrix,V)\n",
    "sides_l"
   ]
  },
  {
   "cell_type": "code",
   "execution_count": 114,
   "id": "cb25487f",
   "metadata": {},
   "outputs": [],
   "source": [
    "def hash_multi_plane_matrix(P,V):\n",
    "    '''\n",
    "    Parameters:\n",
    "    -----------\n",
    "        P: list of np.array (list of planes)\n",
    "        V: np.array (vector)\n",
    "        num_planes: int (number of planes)\n",
    "    Returns:\n",
    "    --------\n",
    "        hash_value: int (hash_value of the vestor with respect to planes)\n",
    "    '''\n",
    "    sides_matrix=side_of_plane_matrix(P,V)\n",
    "    hash_value=0\n",
    "    for i in range(len(P)):\n",
    "        sign=sides_matrix[i].item()\n",
    "        hash_i=1 if sign>=0 else 0\n",
    "        hash_value+=hash_i*2**i\n",
    "    \n",
    "    return hash_value"
   ]
  },
  {
   "cell_type": "code",
   "execution_count": 116,
   "id": "51c1e1ff",
   "metadata": {},
   "outputs": [
    {
     "data": {
      "text/plain": [
       "7"
      ]
     },
     "execution_count": 116,
     "metadata": {},
     "output_type": "execute_result"
    }
   ],
   "source": [
    "hash_multi_plane_matrix(random_planes_matrix,V)"
   ]
  },
  {
   "cell_type": "markdown",
   "id": "d8bfe158",
   "metadata": {},
   "source": [
    "***"
   ]
  },
  {
   "cell_type": "markdown",
   "id": "122b7422",
   "metadata": {},
   "source": [
    "#### Document vectors"
   ]
  },
  {
   "cell_type": "markdown",
   "id": "be59c010",
   "metadata": {},
   "source": [
    "Document can be represented as a vector by adding up word vectors for the words inside the document."
   ]
  },
  {
   "cell_type": "code",
   "execution_count": 120,
   "id": "c2d5eb78",
   "metadata": {},
   "outputs": [
    {
     "name": "stdout",
     "output_type": "stream",
     "text": [
      "[1 0 3]\n"
     ]
    }
   ],
   "source": [
    "word_embedding={'I':np.array([1,0,1]),'love':np.array([-1,0,1]),'learning':np.array([1,0,1])}\n",
    "words=['I','love','learning','test']\n",
    "doc_embed=np.array([0,0,0])\n",
    "\n",
    "for word in words:\n",
    "    doc_embed+=word_embedding.get(word,0)\n",
    "\n",
    "print(doc_embed)"
   ]
  },
  {
   "cell_type": "markdown",
   "id": "99e83580",
   "metadata": {},
   "source": [
    "***"
   ]
  },
  {
   "cell_type": "markdown",
   "id": "075593c3",
   "metadata": {},
   "source": [
    "## Naive Machine Translation"
   ]
  },
  {
   "cell_type": "code",
   "execution_count": 1,
   "id": "bd7a7998",
   "metadata": {},
   "outputs": [],
   "source": [
    "import pdb\n",
    "import pickle\n",
    "import string\n",
    "import time\n",
    "import numpy as np\n",
    "import pandas as pd\n",
    "import nltk\n",
    "from nltk.corpus import stopwords,twitter_samples\n",
    "from os import getcwd"
   ]
  },
  {
   "cell_type": "code",
   "execution_count": 2,
   "id": "6351ab2d",
   "metadata": {},
   "outputs": [
    {
     "name": "stderr",
     "output_type": "stream",
     "text": [
      "[nltk_data] Downloading package stopwords to\n",
      "[nltk_data]     C:\\Users\\pk764\\AppData\\Roaming\\nltk_data...\n",
      "[nltk_data]   Package stopwords is already up-to-date!\n",
      "[nltk_data] Downloading package twitter_samples to\n",
      "[nltk_data]     C:\\Users\\pk764\\AppData\\Roaming\\nltk_data...\n",
      "[nltk_data]   Package twitter_samples is already up-to-date!\n"
     ]
    },
    {
     "data": {
      "text/plain": [
       "True"
      ]
     },
     "execution_count": 2,
     "metadata": {},
     "output_type": "execute_result"
    }
   ],
   "source": [
    "nltk.download('stopwords')\n",
    "nltk.download('twitter_samples')"
   ]
  },
  {
   "cell_type": "code",
   "execution_count": 3,
   "id": "44dffd58",
   "metadata": {},
   "outputs": [],
   "source": [
    "file_path=f'{getcwd()}/tmp/'\n",
    "nltk.data.path.append(file_path)"
   ]
  },
  {
   "cell_type": "markdown",
   "id": "c0cef776",
   "metadata": {},
   "source": [
    "#### Embeddings"
   ]
  },
  {
   "cell_type": "markdown",
   "id": "cd530ba2",
   "metadata": {},
   "source": [
    "Here embeddings are 300 dimensional arrays"
   ]
  },
  {
   "cell_type": "code",
   "execution_count": 4,
   "id": "9ec4add1",
   "metadata": {},
   "outputs": [
    {
     "name": "stdout",
     "output_type": "stream",
     "text": [
      "Dict train length: 6370\n",
      "Dict test length: 5766\n"
     ]
    }
   ],
   "source": [
    "en_embed=pickle.load(open('data/en_embeddings.p','rb'))\n",
    "fr_embed=pickle.load(open('data/fr_embeddings.p','rb'))\n",
    "print(f'Dict train length: {len(en_embed)}')\n",
    "print(f'Dict test length: {len(fr_embed)}')"
   ]
  },
  {
   "cell_type": "code",
   "execution_count": 24,
   "id": "36758e4a",
   "metadata": {},
   "outputs": [
    {
     "data": {
      "text/plain": [
       "array([ 0.13085938,  0.00842285,  0.03344727, -0.05883789,  0.04003906,\n",
       "       -0.14257812,  0.04931641, -0.16894531,  0.20898438,  0.11962891],\n",
       "      dtype=float32)"
      ]
     },
     "execution_count": 24,
     "metadata": {},
     "output_type": "execute_result"
    }
   ],
   "source": [
    "en_embed['car'][:10]"
   ]
  },
  {
   "cell_type": "code",
   "execution_count": 25,
   "id": "17d5beb2",
   "metadata": {},
   "outputs": [
    {
     "data": {
      "text/plain": [
       "array([ 0.0161958 , -0.0558894 , -0.0246878 , -0.00492127, -0.134575  ,\n",
       "       -0.0815104 , -0.0211033 , -0.159348  ,  0.00357712, -0.012855  ],\n",
       "      dtype=float32)"
      ]
     },
     "execution_count": 25,
     "metadata": {},
     "output_type": "execute_result"
    }
   ],
   "source": [
    "fr_embed['voiture'][:10]"
   ]
  },
  {
   "cell_type": "markdown",
   "id": "9b741116",
   "metadata": {},
   "source": [
    "#### Dictionaries eng-fr & fr-eng"
   ]
  },
  {
   "cell_type": "code",
   "execution_count": 5,
   "id": "f5883366",
   "metadata": {},
   "outputs": [],
   "source": [
    "def get_dict(file_name):\n",
    "    '''\n",
    "    Parameters:\n",
    "    -----------\n",
    "        file_name: string (name of the file to load data from)\n",
    "    Returns:\n",
    "    --------\n",
    "        dictionary: dict (eng to fr dictionary)\n",
    "    '''\n",
    "    file=pd.read_csv(file_name,delimiter=' ')\n",
    "    dictionary={}\n",
    "    for i in range(len(file)):\n",
    "        en=file.loc[i][0]\n",
    "        fr=file.loc[i][1]\n",
    "        dictionary[en]=fr\n",
    "        \n",
    "    return dictionary"
   ]
  },
  {
   "cell_type": "code",
   "execution_count": 6,
   "id": "4741beb7",
   "metadata": {},
   "outputs": [
    {
     "name": "stdout",
     "output_type": "stream",
     "text": [
      "Dict train length: 5000\n",
      "Dict test length: 1500\n"
     ]
    }
   ],
   "source": [
    "eng_fr_train=get_dict('data/en-fr.train.txt')\n",
    "eng_fr_test=get_dict('data/en-fr.test.txt')\n",
    "print(f'Dict train length: {len(eng_fr_train)}')\n",
    "print(f'Dict test length: {len(eng_fr_test)}')"
   ]
  },
  {
   "cell_type": "code",
   "execution_count": 28,
   "id": "692f3d6f",
   "metadata": {},
   "outputs": [
    {
     "data": {
      "text/plain": [
       "'voiture'"
      ]
     },
     "execution_count": 28,
     "metadata": {},
     "output_type": "execute_result"
    }
   ],
   "source": [
    "eng_fr_train['car']"
   ]
  },
  {
   "cell_type": "markdown",
   "id": "c100c896",
   "metadata": {},
   "source": [
    "#### Transform Matrices"
   ]
  },
  {
   "cell_type": "code",
   "execution_count": 7,
   "id": "99378f74",
   "metadata": {},
   "outputs": [],
   "source": [
    "def get_matrices(en_fr,en_embed,fr_embed):\n",
    "    '''\n",
    "    Parameters:\n",
    "    -----------\n",
    "        en_fr: dict (eng to fr dictionary)\n",
    "        en_embed: dict (dictionary with eng words and embeddings as values)\n",
    "        fr_embed: dict (dictionary with fr words and embeddings as values)\n",
    "    Returns:\n",
    "    --------\n",
    "        X: array (matrix where columns are eng embeddings)\n",
    "        Y: array (matrix where columns are fr embeddings, order corresponding to X)\n",
    "        R: array (projection matrix that minimizes F norm ||XR-Y||^2)\n",
    "    '''\n",
    "    x=[]\n",
    "    y=[]\n",
    "    words_en=set([word for word in en_embed.keys()])\n",
    "    words_fr=set([word for word in fr_embed.keys()])\n",
    "    \n",
    "    for word_en,word_fr in en_fr.items():\n",
    "        if word_en in words_en and word_fr in words_fr:\n",
    "            x.append(en_embed[word_en])\n",
    "            y.append(fr_embed[word_fr])\n",
    "    \n",
    "    X=np.array(x)\n",
    "    Y=np.array(y)\n",
    "    \n",
    "    return X,Y"
   ]
  },
  {
   "cell_type": "code",
   "execution_count": 8,
   "id": "f394ab35",
   "metadata": {},
   "outputs": [],
   "source": [
    "X_train,Y_train=get_matrices(eng_fr_train,en_embed,fr_embed)"
   ]
  },
  {
   "cell_type": "markdown",
   "id": "784ac31c",
   "metadata": {},
   "source": [
    "***"
   ]
  },
  {
   "cell_type": "markdown",
   "id": "0613695a",
   "metadata": {},
   "source": [
    "#### Translations"
   ]
  },
  {
   "cell_type": "markdown",
   "id": "5517e677",
   "metadata": {},
   "source": [
    "Given English and French word embeddings dictionaries one can create a transformation matrix R. \n",
    "- given english word embedding **e** can be multiplied **rR** to get a new word wmbedding **f**\n",
    "- we can compute nearest neighbours to **f** in the french embeddings and recommnd the word that is most similar to the transformed word embedding"
   ]
  },
  {
   "cell_type": "markdown",
   "id": "41f34843",
   "metadata": {},
   "source": [
    "Find matrix `R` that minimizes following equation:\n",
    "\n",
    "$$ \\arg \\min _{\\mathbf{R}}\\| \\mathbf{X R} - \\mathbf{Y}\\|_{F}\\tag{1} $$\n",
    "\n",
    "`Forbenius norm`:\n",
    "\n",
    "$$ \\|\\mathbf{A}\\|_{F} \\equiv \\sqrt{\\sum_{i=1}^{m} \\sum_{j=1}^{n} \\left|a_{i j} \\right|^{2}} \\tag{2} $$"
   ]
  },
  {
   "cell_type": "markdown",
   "id": "fd683c6d",
   "metadata": {},
   "source": [
    "`Actual loss function:`\n",
    "\n",
    "$$ ||XR - Y ||_F $$\n",
    "\n",
    "is often replaced by:\n",
    "\n",
    "$$ \\frac{1}{m} ||XR - Y ||_F^2 $$\n",
    "\n",
    "where m is number of examples.\n",
    "\n",
    "Taking square is easier to compute the gradient of squared Frobenius."
   ]
  },
  {
   "cell_type": "markdown",
   "id": "141c47ed",
   "metadata": {},
   "source": [
    "***"
   ]
  },
  {
   "cell_type": "markdown",
   "id": "affbe76e",
   "metadata": {},
   "source": [
    "#### compute_loss"
   ]
  },
  {
   "cell_type": "markdown",
   "id": "4b56b037",
   "metadata": {},
   "source": [
    "The loss will be squared Forbenius norm of difference between matrix and its approximation divided by the number of trainin examples **m**.\n",
    "\n",
    "$$ L(X,Y,R) = \\frac{1}{m} \\sum_{i=1}^{m} \\sum_{j=1}^{n} (a_{i j})^2$$\n",
    "\n",
    "where $a_{i j}$ is value in ith row and jth column of the matrix **XR-Y**"
   ]
  },
  {
   "cell_type": "code",
   "execution_count": 9,
   "id": "4537dcdb",
   "metadata": {},
   "outputs": [],
   "source": [
    "def compute_loss(X,Y,R):\n",
    "    '''\n",
    "    Parameters:\n",
    "    -----------\n",
    "        X: array(m,n) (matrix where columns are eng embeddings)\n",
    "        Y: array(m,n) (matrix where columns are fr embeddings, order corresponding to X)\n",
    "        R: array(n,n) (transformation matrix from eng to fr vector space embed)\n",
    "    Returns:\n",
    "    --------\n",
    "        loss: array(m,n) (value of the loss for Y,X and R)\n",
    "    '''\n",
    "    m=len(X)\n",
    "    diff=np.dot(X,R)-Y\n",
    "    loss=np.sum(diff**2)/m\n",
    "    \n",
    "    return loss"
   ]
  },
  {
   "cell_type": "code",
   "execution_count": 32,
   "id": "6f36c0f3",
   "metadata": {},
   "outputs": [
    {
     "name": "stdout",
     "output_type": "stream",
     "text": [
      "Loss: 8.186626624823763\n"
     ]
    }
   ],
   "source": [
    "np.random.seed(123)\n",
    "m=10\n",
    "n=5\n",
    "X=np.random.rand(m,n)\n",
    "Y=np.random.rand(m,n)*0.1\n",
    "R=np.random.rand(n,n)\n",
    "print(f'Loss: {compute_loss(X,Y,R)}')"
   ]
  },
  {
   "cell_type": "markdown",
   "id": "a92bf5b0",
   "metadata": {},
   "source": [
    "***"
   ]
  },
  {
   "cell_type": "markdown",
   "id": "215b4dc1",
   "metadata": {},
   "source": [
    "#### compute_gradient"
   ]
  },
  {
   "cell_type": "markdown",
   "id": "6077f911",
   "metadata": {},
   "source": [
    "$$ \\frac{d}{dR} L(X,Y,R) = \\frac{d}{dR}\\Big(\\frac{1}{m}||XR-Y||_F^2 \\Big) = \\frac{2}{m}X^T(XR-Y) $$"
   ]
  },
  {
   "cell_type": "code",
   "execution_count": 33,
   "id": "89897029",
   "metadata": {},
   "outputs": [],
   "source": [
    "def compute_gradient(X,Y,R):\n",
    "    '''\n",
    "    Parameters:\n",
    "    -----------\n",
    "        X: array(m,n) (matrix where columns are eng embeddings)\n",
    "        Y: array(m,n) (matrix where columns are fr embeddings, order corresponding to X)\n",
    "        R: array(n,n) (transformation matrix from eng to fr vector space embed)\n",
    "    Returns:\n",
    "    --------\n",
    "        g: float (gradient of the loss for Y,X and R)\n",
    "    '''\n",
    "    m=len(X)\n",
    "    diff=np.dot(X,R)-Y\n",
    "    g=np.dot(X.T,diff)*2/m\n",
    "    \n",
    "    return g"
   ]
  },
  {
   "cell_type": "code",
   "execution_count": 34,
   "id": "464bbb6b",
   "metadata": {},
   "outputs": [
    {
     "name": "stdout",
     "output_type": "stream",
     "text": [
      "Gradient matrix: \n",
      "[[1.3498175  1.11264981 0.69626762 0.98468499 1.33828969]\n",
      " [1.48402939 1.3134471  0.8269311  1.27307285 1.44181639]\n",
      " [1.57868759 1.3817686  0.89039471 1.35293657 1.60202282]\n",
      " [1.50368303 1.27421294 0.8258529  1.16996514 1.54811674]\n",
      " [1.72780859 1.41902443 0.90765656 1.31399276 1.73329241]]\n"
     ]
    }
   ],
   "source": [
    "np.random.seed(123)\n",
    "m=10\n",
    "n=5\n",
    "X=np.random.rand(m,n)\n",
    "Y=np.random.rand(m,n)*0.1\n",
    "R=np.random.rand(n,n)\n",
    "print(f'Gradient matrix: \\n{compute_gradient(X,Y,R)}')"
   ]
  },
  {
   "cell_type": "markdown",
   "id": "82cddd1e",
   "metadata": {},
   "source": [
    "***"
   ]
  },
  {
   "cell_type": "markdown",
   "id": "7b97b4dd",
   "metadata": {},
   "source": [
    "#### align_embeddings"
   ]
  },
  {
   "cell_type": "code",
   "execution_count": 35,
   "id": "168f8459",
   "metadata": {},
   "outputs": [],
   "source": [
    "def align_embeddings(X,Y,steps=100,alpha=0.0003):\n",
    "    '''\n",
    "    Parameters:\n",
    "    -----------\n",
    "        X: array(m,n) (matrix where columns are eng embeddings)\n",
    "        Y: array(m,n) (matrix where columns are fr embeddings, order corresponding to X)\n",
    "        steps: int (number of learning steps)\n",
    "        alpha: float (learning rate)\n",
    "    Returns:\n",
    "    --------\n",
    "        R: array (n,n) (projection matrix that minimizes F norm ||XR-Y||^2)\n",
    "    '''\n",
    "    np.random.seed(129)\n",
    "    n=X.shape[1]\n",
    "    R=np.random.rand(n,n)\n",
    "    for i in range(steps):\n",
    "        if i%25==0:\n",
    "            print(f'Loss: {compute_loss(X,Y,R):.4f}')\n",
    "        dR=compute_gradient(X,Y,R)\n",
    "        R-=alpha*dR\n",
    "    \n",
    "    return R"
   ]
  },
  {
   "cell_type": "code",
   "execution_count": 36,
   "id": "97bd8a00",
   "metadata": {},
   "outputs": [
    {
     "name": "stdout",
     "output_type": "stream",
     "text": [
      "Loss: 3.7242\n",
      "Loss: 3.6283\n",
      "Loss: 3.5350\n",
      "Loss: 3.4442\n"
     ]
    }
   ],
   "source": [
    "np.random.seed(129)\n",
    "m=10\n",
    "n=5\n",
    "X=np.random.rand(m,n)\n",
    "Y=np.random.rand(m,n)*0.1\n",
    "R=align_embeddings(X,Y)"
   ]
  },
  {
   "cell_type": "code",
   "execution_count": 37,
   "id": "4c2220ce",
   "metadata": {},
   "outputs": [
    {
     "name": "stdout",
     "output_type": "stream",
     "text": [
      "Loss: 963.0146\n",
      "Loss: 97.8292\n",
      "Loss: 26.8329\n",
      "Loss: 9.7893\n",
      "Loss: 4.3776\n",
      "Loss: 2.3281\n",
      "Loss: 1.4480\n",
      "Loss: 1.0338\n",
      "Loss: 0.8251\n",
      "Loss: 0.7145\n",
      "Loss: 0.6534\n",
      "Loss: 0.6185\n",
      "Loss: 0.5981\n",
      "Loss: 0.5858\n",
      "Loss: 0.5782\n",
      "Loss: 0.5735\n"
     ]
    }
   ],
   "source": [
    "R_train=align_embeddings(X_train,Y_train,steps=400,alpha=0.8)"
   ]
  },
  {
   "cell_type": "markdown",
   "id": "2f3906bf",
   "metadata": {},
   "source": [
    "***"
   ]
  },
  {
   "cell_type": "markdown",
   "id": "c16b1b0f",
   "metadata": {},
   "source": [
    "### Testing the translation"
   ]
  },
  {
   "cell_type": "markdown",
   "id": "fbb713a7",
   "metadata": {},
   "source": [
    "#### kNN"
   ]
  },
  {
   "cell_type": "markdown",
   "id": "49277c0f",
   "metadata": {},
   "source": [
    "`k-NN` is a method that takes as input a vector and finds other vectors in dataset that are `closest to it.` 'k' is the number of 'nearest neighbours' to find."
   ]
  },
  {
   "cell_type": "markdown",
   "id": "e1ec203f",
   "metadata": {},
   "source": [
    "#### Searching the transation embedding"
   ]
  },
  {
   "cell_type": "markdown",
   "id": "76f771e3",
   "metadata": {},
   "source": [
    "Since we approximate the transaltion function from English to French embeddings by a linear transformation matrix **R**, most of the time it won't bring the exact embedding of the French word when we transform embedding **e** of some particular English word into the French embadding space.\n",
    "- That is why k-NN is so usefull. By using 1-NN wirh **eR** as input we can search for an embedding f in matrix **Y** which is the closest to transformed vector **eR**."
   ]
  },
  {
   "cell_type": "markdown",
   "id": "bb450815",
   "metadata": {},
   "source": [
    "#### Cosine similarity"
   ]
  },
  {
   "cell_type": "markdown",
   "id": "ccc30aaa",
   "metadata": {},
   "source": [
    "Cosine similarity between vectors **u** and **v** calculated as the cosine of the angle between them:\n",
    "\n",
    "$$ cos(u,v) = \\frac{u \\cdot v}{||u|| ||v||} $$\n",
    "\n",
    "- $cos(u,v) = 1$ ih **u** and **v** lie in the same line and point to the same direction\n",
    "- $cos(u,v) = -1$ when they have exactly opposite directions\n",
    "- $cos(u,v) = 0$ when the vectors are orthogonal (perpendicular)"
   ]
  },
  {
   "cell_type": "markdown",
   "id": "c52441e4",
   "metadata": {},
   "source": [
    "`Cosine similarity and distance are pretty opposite things:`\n",
    "- cosine similaity can't be used as the distance metric\n",
    "- when cosine similarity increases towards 1, distance between two vectors decreases (towards 0)\n",
    "- we can define cosine distance between **u** and **v** as:\n",
    "$$ d_{cos}(u,v) = 1=cos(u,v) $$"
   ]
  },
  {
   "cell_type": "code",
   "execution_count": 19,
   "id": "763c4b98",
   "metadata": {},
   "outputs": [],
   "source": [
    "def cosine_similarity(A,B):\n",
    "    '''\n",
    "    Parameters:\n",
    "    -----------\n",
    "        A: np array (word vector)\n",
    "        B: np array (word vector)\n",
    "    Returns:\n",
    "    --------\n",
    "        cos: float (cosine similarity between A and B)\n",
    "    '''\n",
    "    dot = np.dot(A,B)\n",
    "    norm_a=np.linalg.norm(A)\n",
    "    norm_b=np.linalg.norm(B)\n",
    "    cos=dot/(norm_a*norm_b)\n",
    "    return cos"
   ]
  },
  {
   "cell_type": "code",
   "execution_count": 20,
   "id": "03985728",
   "metadata": {},
   "outputs": [],
   "source": [
    "def nearest_neighbor(v,candidates,k=1):\n",
    "    '''\n",
    "    Parameters:\n",
    "    -----------\n",
    "        v: array (vector to find the neighbour for)\n",
    "        candidates: array (set of neighbour vectors)\n",
    "        k: int (top k nearest neighbours)\n",
    "    Returns:\n",
    "    --------\n",
    "        k_idx: list (index of top k closes nbhd)\n",
    "    '''\n",
    "    similarity=[]\n",
    "    for vector in candidates:\n",
    "        sim=cosine_similarity(v,vector)\n",
    "        similarity.append(sim)\n",
    "    index_min=np.argsort(similarity)\n",
    "    k_idx=index_min[::-1]\n",
    "    return k_idx[:k]"
   ]
  },
  {
   "cell_type": "code",
   "execution_count": 40,
   "id": "ec4e5efe",
   "metadata": {},
   "outputs": [
    {
     "name": "stdout",
     "output_type": "stream",
     "text": [
      "[[2 0 1]\n",
      " [1 0 5]\n",
      " [9 9 9]]\n"
     ]
    }
   ],
   "source": [
    "v=np.array([1,0,1])\n",
    "candidates=np.array([[1,0,5],[-2,5,3],[2,0,1],[6,-9,5],[9,9,9]])\n",
    "print(candidates[nearest_neighbor(v,candidates,k=3)])"
   ]
  },
  {
   "cell_type": "markdown",
   "id": "51b0a42d",
   "metadata": {},
   "source": [
    "***"
   ]
  },
  {
   "cell_type": "markdown",
   "id": "3d851092",
   "metadata": {},
   "source": [
    "### Vocabulary"
   ]
  },
  {
   "cell_type": "code",
   "execution_count": 41,
   "id": "adf21005",
   "metadata": {},
   "outputs": [],
   "source": [
    "def test_vocabulary(X,Y,R):\n",
    "    '''\n",
    "    Parameters:\n",
    "    -----------\n",
    "        X: array(m,n) (matrix where columns are eng embeddings)\n",
    "        Y: array(m,n) (matrix where columns are fr embeddings, order corresponding to X)\n",
    "        R: array(n,n) (transformation matrix from eng to fr vector space embed)\n",
    "    Returns:\n",
    "    --------\n",
    "        accuracy: float (accuracy)\n",
    "    '''\n",
    "    pred=np.dot(X,R)\n",
    "    m=len(pred)\n",
    "    correct=0\n",
    "    for i in range(m):\n",
    "        pred_idx=nearest_neighbor(pred[i],Y,k=1)\n",
    "        if pred_idx==i:\n",
    "            correct+=1\n",
    "    accuracy=correct/m\n",
    "    \n",
    "    return accuracy"
   ]
  },
  {
   "cell_type": "code",
   "execution_count": 42,
   "id": "0d2f0930",
   "metadata": {},
   "outputs": [],
   "source": [
    "X_test,Y_test=get_matrices(eng_fr_test,en_embed,fr_embed)"
   ]
  },
  {
   "cell_type": "code",
   "execution_count": 43,
   "id": "817e0274",
   "metadata": {},
   "outputs": [
    {
     "name": "stdout",
     "output_type": "stream",
     "text": [
      "Accuracy: 0.5570236439499304\n"
     ]
    }
   ],
   "source": [
    "acc=test_vocabulary(X_test,Y_test,R_train)\n",
    "print(f'Accuracy: {acc}')"
   ]
  },
  {
   "cell_type": "markdown",
   "id": "fedb0ef0",
   "metadata": {},
   "source": [
    "***"
   ]
  },
  {
   "cell_type": "markdown",
   "id": "7383d224",
   "metadata": {},
   "source": [
    "## LSH and Document search"
   ]
  },
  {
   "cell_type": "markdown",
   "id": "16a7afd3",
   "metadata": {},
   "source": [
    "Locality sessitive hashing."
   ]
  },
  {
   "cell_type": "markdown",
   "id": "44679d6e",
   "metadata": {},
   "source": [
    "### Bag-of-words Document Models"
   ]
  },
  {
   "cell_type": "markdown",
   "id": "53e790d6",
   "metadata": {},
   "source": [
    "The documents are sqeuences of words:\n",
    "- `Ordering` of words matters.\n",
    "- Igroning order can be efficient for some models.\n",
    "- Document embeddings created by `summing embeddings of all words` in the document.\n",
    "- Words with unknown embeddings are `ignored.`"
   ]
  },
  {
   "cell_type": "code",
   "execution_count": 10,
   "id": "d8a520e8",
   "metadata": {},
   "outputs": [],
   "source": [
    "import nltk\n",
    "from nltk.corpus import stopwords\n",
    "from nltk.stem import PorterStemmer\n",
    "from nltk.tokenize import TweetTokenizer\n",
    "from nltk.corpus import twitter_samples\n",
    "import matplotlib.pyplot as plt\n",
    "import numpy as np\n",
    "import string\n",
    "import re"
   ]
  },
  {
   "cell_type": "code",
   "execution_count": 11,
   "id": "89f48b52",
   "metadata": {},
   "outputs": [],
   "source": [
    "positive_tweets=twitter_samples.strings('positive_tweets.json')\n",
    "negative_tweets=twitter_samples.strings('negative_tweets.json')\n",
    "tweets=positive_tweets+negative_tweets"
   ]
  },
  {
   "cell_type": "code",
   "execution_count": 12,
   "id": "5c4b6d3f",
   "metadata": {},
   "outputs": [],
   "source": [
    "def process_tweet(tweet):\n",
    "    \"\"\"\n",
    "    Parameters:\n",
    "    -----------\n",
    "        tweet: string\n",
    "        \n",
    "    Returns:\n",
    "    --------\n",
    "        tweet_stem: list of stemmed words in tweet\n",
    "    \"\"\"\n",
    "    tokenizer=TweetTokenizer(preserve_case=False,strip_handles=True,reduce_len=True)\n",
    "    stopwords_english=stopwords.words('english')\n",
    "    stemmer=PorterStemmer()\n",
    "    \n",
    "    tweet=re.sub(r'https://[^\\s\\n\\r]+','',tweet)\n",
    "    tweet=re.sub(r'#','',tweet)\n",
    "    tweet_tokenized=tokenizer.tokenize(tweet)\n",
    "    \n",
    "    tweet_clean=[]\n",
    "    for word in tweet_tokenized:\n",
    "        if word not in stopwords_english and word not in string.punctuation:\n",
    "            tweet_clean.append(word)\n",
    "    \n",
    "    tweet_stem=[]\n",
    "    for word in tweet_clean:\n",
    "        stem_word=stemmer.stem(word)\n",
    "        tweet_stem.append(stem_word)\n",
    "    \n",
    "    return tweet_stem"
   ]
  },
  {
   "cell_type": "code",
   "execution_count": 13,
   "id": "4fe57b2c",
   "metadata": {},
   "outputs": [],
   "source": [
    "def get_doc_embed(tweet,embeddings):\n",
    "    '''\n",
    "    Parameters:\n",
    "    -----------\n",
    "        tweet: str (tweet to be processed)\n",
    "        embeddings: dist (dict with pairs word: embedding)\n",
    "    Returns:\n",
    "    --------\n",
    "        doc_embed: array (embedding of all doc)\n",
    "    '''\n",
    "    doc_embed=np.zeros(300)\n",
    "    words=process_tweet(tweet)\n",
    "    for word in words:\n",
    "        doc_embed+=embeddings.get(word,np.zeros(300))\n",
    "    \n",
    "    return doc_embed"
   ]
  },
  {
   "cell_type": "code",
   "execution_count": 14,
   "id": "81850274",
   "metadata": {},
   "outputs": [
    {
     "data": {
      "text/plain": [
       "array([-0.00268555, -0.15378189, -0.55761719, -0.07216644, -0.32263184])"
      ]
     },
     "execution_count": 14,
     "metadata": {},
     "output_type": "execute_result"
    }
   ],
   "source": [
    "tweet='RT @Twitter @champagain Hello There! Have a great day. :) #good #morning http://chapagain.com.np'\n",
    "tweet_embed=get_doc_embed(tweet,en_embed)\n",
    "tweet_embed[-5:]"
   ]
  },
  {
   "cell_type": "code",
   "execution_count": 15,
   "id": "edccee1b",
   "metadata": {},
   "outputs": [],
   "source": [
    "def get_doc_vecs(all_docs,embeddings):\n",
    "    '''\n",
    "    Parameters:\n",
    "    -----------\n",
    "        all_docs: list (list of tweets)\n",
    "        embeddings: dist (dict with pairs word: embedding)\n",
    "    Returns:\n",
    "    --------\n",
    "        doc_vec_matrix: array (array of embeddings)\n",
    "        ind2doc_dict: dict (dict with indices of tweets in vec and their embeddings as the values)\n",
    "    '''\n",
    "    ind2doc_dict=dict()\n",
    "    doc_vec_matrix=[]\n",
    "    for i,tweet in enumerate(all_docs):\n",
    "        vec=get_doc_embed(tweet,embeddings)\n",
    "        doc_vec_matrix.append(vec)\n",
    "        ind2doc_dict[i]=vec\n",
    "    doc_vec_matrix=np.vstack(doc_vec_matrix)\n",
    "    \n",
    "    return doc_vec_matrix, ind2doc_dict"
   ]
  },
  {
   "cell_type": "code",
   "execution_count": 65,
   "id": "72916a35",
   "metadata": {},
   "outputs": [
    {
     "name": "stdout",
     "output_type": "stream",
     "text": [
      "Length of dict: 10000\n",
      "Shape of doc_vecs: (10000, 300)\n"
     ]
    }
   ],
   "source": [
    "doc_vecs,ind2tweet=get_doc_vecs(tweets,en_embed)\n",
    "print(f'Length of dict: {len(ind2tweet)}')\n",
    "print(f'Shape of doc_vecs: {doc_vecs.shape}')"
   ]
  },
  {
   "cell_type": "markdown",
   "id": "da4de247",
   "metadata": {},
   "source": [
    "#### Looking for similar tweets"
   ]
  },
  {
   "cell_type": "code",
   "execution_count": 17,
   "id": "f68badd3",
   "metadata": {},
   "outputs": [],
   "source": [
    "custom_tweet='I am sad and depressed'\n",
    "process_tweet(custom_tweet)\n",
    "tweet_embed=get_doc_embed(custom_tweet,en_embed)"
   ]
  },
  {
   "cell_type": "code",
   "execution_count": 21,
   "id": "072586f9",
   "metadata": {},
   "outputs": [
    {
     "name": "stdout",
     "output_type": "stream",
     "text": [
      "@zoeeylim sad sad sad kid :( it's ok I help you watch the match HAHAHAHAHA\n"
     ]
    }
   ],
   "source": [
    "idx=np.argmax(cosine_similarity(doc_vecs,tweet_embed))\n",
    "print(tweets[idx])"
   ]
  },
  {
   "cell_type": "markdown",
   "id": "db080a4b",
   "metadata": {},
   "source": [
    "### Finding most similar tweet with LSH"
   ]
  },
  {
   "cell_type": "markdown",
   "id": "4f70c4cf",
   "metadata": {},
   "source": [
    "Instead of lookin at all vectors, one can seach just a subset to find its nearest neighbors."
   ]
  },
  {
   "cell_type": "code",
   "execution_count": 22,
   "id": "2e477052",
   "metadata": {},
   "outputs": [
    {
     "name": "stdout",
     "output_type": "stream",
     "text": [
      "10000 vectors \n",
      "300 dimensions each\n"
     ]
    }
   ],
   "source": [
    "n_vecs=doc_vecs.shape[0]\n",
    "n_dims=doc_vecs.shape[1]\n",
    "print(f'{n_vecs} vectors \\n{n_dims} dimensions each')"
   ]
  },
  {
   "cell_type": "markdown",
   "id": "e2517b72",
   "metadata": {},
   "source": [
    "#### Choosing the number of planes"
   ]
  },
  {
   "cell_type": "markdown",
   "id": "d779acdd",
   "metadata": {},
   "source": [
    "- Each plane divides space to 2 parts.\n",
    "- **n** planes divide space into $2^n$ hash buckets.\n",
    "- We want to organize 10000 document vectors into buckets so that every bucket has about 16 vectors.\n",
    "- For that we need $\\frac{10000}{16}=625$ buckets\n",
    "- Therefore $2^n=625$, then $n=log_{2}625 \\approx 10$"
   ]
  },
  {
   "cell_type": "code",
   "execution_count": 77,
   "id": "14a0cbea",
   "metadata": {},
   "outputs": [],
   "source": [
    "n_planes=10\n",
    "n_universes=25 #number of times to repeat hashing to improve search"
   ]
  },
  {
   "cell_type": "markdown",
   "id": "380c4153",
   "metadata": {},
   "source": [
    "### Getting Hash Number for a Vector"
   ]
  },
  {
   "cell_type": "markdown",
   "id": "b5ac5438",
   "metadata": {},
   "source": [
    "Each vector has to have a unique number associated to it in order to assign it to as \"hash bucket\""
   ]
  },
  {
   "cell_type": "markdown",
   "id": "6a4fb8db",
   "metadata": {},
   "source": [
    "#### Hyperplanes in vector spaces\n",
    "- in 3D vector space, the hyperplane is a regular plane, in 2D vector space hyperplane is a line\n",
    "- hyperplane is a subspace with a `dimension 1 lower than original vector space`\n",
    "- hyperplane is uniquely defined by its `normal vector`\n",
    "- Normal vector **v** of the plane $\\pi$ is the vector to which all vectors in the plane $\\pi$ are orthogonal\n",
    "\n",
    "#### Hyperplane split Vector Spaces\n",
    "- all vectors whose `dot product` with plane's `normal vector` is positive are on the one side of the plane\n",
    "- all vectors whose `dot product` with plane's `normal vector` is negative are on the other side of the plane\n",
    "\n",
    "#### Encoding Hash Buckets\n",
    "- for a `vector` we can take its `dot product` with all the planes and encode this information to assign the vector to a single `hash bucket`\n",
    "- when the vector is pointing to the `opposite` side of the hyperplane then normal, encode it by `0`\n",
    "- when the vector is pointing to the `same` side of the hyperplane then normal, encode it by `1`\n",
    "- if you calculate the `dot product` with each plane in the same order for every vector, you've encoded each vector's unique hash ID as a binary number, like [0,1,0,0,1,1,...,0]\n",
    "\n",
    "$$ hash = \\sum_{i=0}^{N-1}(2^i \\times h_i) $$"
   ]
  },
  {
   "cell_type": "code",
   "execution_count": 24,
   "id": "30424da4",
   "metadata": {},
   "outputs": [],
   "source": [
    "np.random.seed(0)\n",
    "planes_l=[np.random.normal(size=(n_dims,n_planes)) for _ in range(n_universes)]"
   ]
  },
  {
   "cell_type": "code",
   "execution_count": 25,
   "id": "e83018dc",
   "metadata": {},
   "outputs": [],
   "source": [
    "def vector_hash_value(v,planes):\n",
    "    '''\n",
    "    Parameters:\n",
    "    -----------\n",
    "        v: array (1,n) (vector of tweet)\n",
    "        planes: array (n,m) (set of planes that divide the region)\n",
    "    Returns:\n",
    "    --------\n",
    "         res: float (hash number)\n",
    "    '''\n",
    "    dot_product=np.dot(v,planes)\n",
    "    h=[1 if i>=0 else 0 for i in dot_product]\n",
    "    hash_value=0\n",
    "    n_planes=planes.shape[1]\n",
    "    for i in range(n_planes):\n",
    "        hash_value+=2**i*h[i]\n",
    "    hash_value=int(hash_value)\n",
    "    \n",
    "    return hash_value"
   ]
  },
  {
   "cell_type": "code",
   "execution_count": 110,
   "id": "d9978c4d",
   "metadata": {},
   "outputs": [
    {
     "name": "stdout",
     "output_type": "stream",
     "text": [
      "Hash value to vector v and set of planes planes at index 0 is 768\n"
     ]
    }
   ],
   "source": [
    "np.random.seed(0)\n",
    "idx=0\n",
    "planes=planes_l[idx]\n",
    "v=np.random.rand(1,300)\n",
    "hash_value=vector_hash_value(v,planes)\n",
    "print(f'Hash value to vector v and set of planes planes at index {idx} is {hash_value}')"
   ]
  },
  {
   "cell_type": "markdown",
   "id": "406bacf8",
   "metadata": {},
   "source": [
    "#### Creating Hash Table"
   ]
  },
  {
   "cell_type": "code",
   "execution_count": 71,
   "id": "8be7422f",
   "metadata": {},
   "outputs": [],
   "source": [
    "def make_hash_table(vecs,planes):\n",
    "    '''\n",
    "    Parameters:\n",
    "    -----------\n",
    "        vecs: list (list of np .array vectors to be hashed)\n",
    "        planes: array (matrix of planes in a singe \"universe\" with shape (embedding_dimensions,number_of_planes))\n",
    "    Returns:\n",
    "    --------\n",
    "        hash_table: dict (kays are hashes and values are lists of vectors)\n",
    "        id_table: dict (keys are hashes and values are lists of vector id)\n",
    "    '''\n",
    "    num_planes=planes.shape[1]\n",
    "    num_buckets=2**num_planes\n",
    "    hash_table={i: [] for i in range(num_buckets)}\n",
    "    id_table={i: [] for i in range(num_buckets)}\n",
    "    \n",
    "    for i,v in enumerate(vecs):\n",
    "        h=vector_hash_value(v,planes)\n",
    "        \n",
    "        hash_table[h].append(v)\n",
    "        id_table[h].append(i)\n",
    "    \n",
    "    return hash_table, id_table"
   ]
  },
  {
   "cell_type": "code",
   "execution_count": 73,
   "id": "78c5e2e1",
   "metadata": {},
   "outputs": [
    {
     "name": "stdout",
     "output_type": "stream",
     "text": [
      "hash table at key 0 has 1 document vectors\n",
      "id table at key 0 has 1 document indices\n",
      "first 5 doc indices at key 0: [8701] document vectors\n"
     ]
    }
   ],
   "source": [
    "idx=0\n",
    "planes=planes_l[0]\n",
    "tmp_hash_table,tmp_id_table=make_hash_table(doc_vecs,planes)\n",
    "print(f'hash table at key 0 has {len(tmp_hash_table[1])} document vectors')\n",
    "print(f'id table at key 0 has {len(tmp_id_table[1])} document indices')\n",
    "print(f'first 5 doc indices at key 0: {id_table[1][0:5]} document vectors')"
   ]
  },
  {
   "cell_type": "markdown",
   "id": "341b19a2",
   "metadata": {},
   "source": [
    "#### All Hash Tables"
   ]
  },
  {
   "cell_type": "code",
   "execution_count": 79,
   "id": "b6f039f8",
   "metadata": {},
   "outputs": [],
   "source": [
    "def create_hash_id_tables(n_universes):\n",
    "    hash_tables=[]\n",
    "    id_tables=[]\n",
    "    for universe_id in range(n_universes):\n",
    "        print(f'hash universe #: {universe_id}')\n",
    "        planes=planes_l[universe_id]\n",
    "        hash_table,id_table=make_hash_table(doc_vecs,planes)\n",
    "        hash_tables.append(hash_table)\n",
    "        id_tables.append(id_tables)\n",
    "    \n",
    "    return hash_tables, id_tables"
   ]
  },
  {
   "cell_type": "code",
   "execution_count": 80,
   "id": "06ba57ed",
   "metadata": {},
   "outputs": [
    {
     "name": "stdout",
     "output_type": "stream",
     "text": [
      "hash universe #: 0\n",
      "hash universe #: 1\n",
      "hash universe #: 2\n",
      "hash universe #: 3\n",
      "hash universe #: 4\n",
      "hash universe #: 5\n",
      "hash universe #: 6\n",
      "hash universe #: 7\n",
      "hash universe #: 8\n",
      "hash universe #: 9\n",
      "hash universe #: 10\n",
      "hash universe #: 11\n",
      "hash universe #: 12\n",
      "hash universe #: 13\n",
      "hash universe #: 14\n",
      "hash universe #: 15\n",
      "hash universe #: 16\n",
      "hash universe #: 17\n",
      "hash universe #: 18\n",
      "hash universe #: 19\n",
      "hash universe #: 20\n",
      "hash universe #: 21\n",
      "hash universe #: 22\n",
      "hash universe #: 23\n",
      "hash universe #: 24\n"
     ]
    }
   ],
   "source": [
    "hash_tables, id_tables=create_hash_id_tables(n_universes)"
   ]
  },
  {
   "cell_type": "markdown",
   "id": "1d07b9a0",
   "metadata": {},
   "source": [
    "#### Approximate knn"
   ]
  },
  {
   "cell_type": "code",
   "execution_count": 86,
   "id": "be14cb70",
   "metadata": {},
   "outputs": [],
   "source": [
    "def approximate_knn(doc_id,v,planes,hash_tables,id_tables,k=1,n_universes=25):\n",
    "    vecs=[]\n",
    "    ids=[]\n",
    "    ids_set=set()\n",
    "    \n",
    "    for universe_id in range(n_universes):\n",
    "        planes=planes_l[universe_id]\n",
    "        hash_table=hash_tables[universe_id]\n",
    "        id_table=id_tables[universe_id]\n",
    "        \n",
    "        hash_value=vector_hash_value(v,planes)\n",
    "        doc_vecs_l=hash_table[hash_value]\n",
    "        new_ids=id_table[hash_value]\n",
    "        \n",
    "        for i,new_id in enumerate(new_ids):\n",
    "            if doc_id==new_id:\n",
    "                continue\n",
    "            \n",
    "            if new_id not in ids_set:\n",
    "                doc_vec_at_i=doc_vecs_l[i]\n",
    "                vecs.append(doc_vec_at_i)\n",
    "                ids.append(new_id)\n",
    "                ids_set.add(new_id)\n",
    "    print(f'Fast consideering {len(vecs)} vecs')\n",
    "    vecs_arr=np.array(vecs)\n",
    "    nearest_neighbor_idx=nearest_neighbor(v,vecs_arr,k=k)\n",
    "    nearest_neighbor_ids=[ids[idx] for idx in nearest_neighbor_idx]\n",
    "    \n",
    "    return nearest_neighbor_ids"
   ]
  },
  {
   "cell_type": "code",
   "execution_count": 87,
   "id": "9c2c85bb",
   "metadata": {},
   "outputs": [],
   "source": [
    "doc_id=0\n",
    "doc_to_search=tweets[doc_id]\n",
    "vec_to_search=doc_vecs[doc_id]"
   ]
  },
  {
   "cell_type": "code",
   "execution_count": 93,
   "id": "9108c410",
   "metadata": {},
   "outputs": [],
   "source": [
    "#naerest_neighbor_ids=approximate_knn(doc_id,vec_to_search,planes_l,hash_tables,id_tables,k=3,n_universes=5)"
   ]
  },
  {
   "cell_type": "code",
   "execution_count": 94,
   "id": "13712073",
   "metadata": {},
   "outputs": [],
   "source": [
    "#id_tables[5]"
   ]
  },
  {
   "cell_type": "code",
   "execution_count": null,
   "id": "02dea6ce",
   "metadata": {},
   "outputs": [],
   "source": []
  }
 ],
 "metadata": {
  "kernelspec": {
   "display_name": "Python 3 (ipykernel)",
   "language": "python",
   "name": "python3"
  },
  "language_info": {
   "codemirror_mode": {
    "name": "ipython",
    "version": 3
   },
   "file_extension": ".py",
   "mimetype": "text/x-python",
   "name": "python",
   "nbconvert_exporter": "python",
   "pygments_lexer": "ipython3",
   "version": "3.8.12"
  }
 },
 "nbformat": 4,
 "nbformat_minor": 5
}
