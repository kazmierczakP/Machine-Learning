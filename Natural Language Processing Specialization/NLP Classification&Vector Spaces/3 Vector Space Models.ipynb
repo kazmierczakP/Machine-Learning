{
 "cells": [
  {
   "cell_type": "markdown",
   "id": "a1cbab58",
   "metadata": {},
   "source": [
    "## Vector Space Models"
   ]
  },
  {
   "cell_type": "markdown",
   "id": "3ccb727a",
   "metadata": {},
   "source": [
    "#### Word by word"
   ]
  },
  {
   "cell_type": "markdown",
   "id": "09120a0f",
   "metadata": {},
   "source": [
    "Number of times that the twowords occur together within a distance k (number of words between them).\n",
    "\n",
    "\n",
    "I like `simple data`.\n",
    "\n",
    "I prefer `simple raw data`.\n",
    "\n",
    "I tend to store my `data` in standardized and `simple` way.\n",
    "\n",
    "\n",
    "For words `data` and `simple` and k=2 we have cooccurence 2 (2 times word simple appears next to word data within the range of 2)\n",
    "\n",
    "Word data can be then represented as vector with distances to each word:\n",
    "\n",
    "    simple raw like I\n",
    "data [2  1  1  0]"
   ]
  },
  {
   "cell_type": "markdown",
   "id": "174158d1",
   "metadata": {},
   "source": [
    "#### Word by document"
   ]
  },
  {
   "cell_type": "markdown",
   "id": "d6db7990",
   "metadata": {},
   "source": [
    "Count the number of times that word appears in documnets from each category."
   ]
  },
  {
   "cell_type": "markdown",
   "id": "fdb5a0d1",
   "metadata": {},
   "source": [
    "Categories = [ENTERTAINMENT, ECONOMY, ML]\n",
    "\n",
    "data 500 6620 9320\n",
    "\n",
    "film 7000 4000 1000\n",
    "\n",
    "Word data can be then represented as vector:\n",
    "\n",
    "data [500,6620,9320]"
   ]
  },
  {
   "cell_type": "markdown",
   "id": "33e19c8f",
   "metadata": {},
   "source": [
    "#### Euclidean distance"
   ]
  },
  {
   "cell_type": "markdown",
   "id": "60dde3ab",
   "metadata": {},
   "source": [
    "Distance between points in space (or as we can treat it vectors):\n",
    "\n",
    "P1=(a1,b1,c1)\n",
    "\n",
    "P2=(a2,b2,c1)\n",
    "\n",
    "$$ Distance = \\sqrt{(a1-a2)^{2}+(b1-b2)^{2}+(c1-c2)^{2}} $$"
   ]
  },
  {
   "cell_type": "code",
   "execution_count": 3,
   "id": "6c07003f",
   "metadata": {},
   "outputs": [
    {
     "data": {
      "text/plain": [
       "5.196152422706632"
      ]
     },
     "execution_count": 3,
     "metadata": {},
     "output_type": "execute_result"
    }
   ],
   "source": [
    "import numpy as np\n",
    "\n",
    "v=np.array([1,2,3])\n",
    "w=np.array([4,5,6])\n",
    "\n",
    "d=np.linalg.norm(v-w)\n",
    "d"
   ]
  },
  {
   "cell_type": "markdown",
   "id": "50b93c07",
   "metadata": {},
   "source": [
    "#### Cosine similarity"
   ]
  },
  {
   "cell_type": "markdown",
   "id": "16a2f9a8",
   "metadata": {},
   "source": [
    "Distancebetween vectors can be also described by the cosine value of the angle between them. It is less vulnerable to the length distance deifference between them and focuses on the `vector direction`."
   ]
  },
  {
   "cell_type": "markdown",
   "id": "ba32afd3",
   "metadata": {},
   "source": [
    "Vector norm:\n",
    "\n",
    "$$ ||\\vec{v}|| = \\sqrt{\\sum{v^2_i}} $$\n",
    "\n",
    "Dot product:\n",
    "\n",
    "$$ \\vec{v} \\cdot \\vec{w} = \\sum{v_i \\cdot w_i} $$\n",
    "\n",
    "Cosine:\n",
    "\n",
    "$$ cos(\\beta) = \\frac{\\vec{v} \\cdot \\vec{w}}{||\\vec{v}||||\\vec{w}||} $$\n",
    "\n",
    "Example:\n",
    "\n",
    "$ v=(20,40) $\n",
    "$ w=(30,20) $\n",
    "$$ \\vec{v} \\cdot \\vec{w} = \\frac{(20 \\times 30) + (40 \\times 20)}{\\sqrt{20^2+40^2} \\times \\sqrt{30^2+20^2}} = 0.87 $$"
   ]
  },
  {
   "cell_type": "markdown",
   "id": "9959f989",
   "metadata": {},
   "source": [
    "For $ cos(\\beta) = -1 $ the two vecros are orhogonal meaning very different and for  $ cos(\\beta) = 1 $ they point in the same direction. If $ cos(\\beta) = 0 $ words are orthogonal."
   ]
  },
  {
   "cell_type": "code",
   "execution_count": 14,
   "id": "7656bf5f",
   "metadata": {},
   "outputs": [
    {
     "data": {
      "text/plain": [
       "0.9746318461970762"
      ]
     },
     "execution_count": 14,
     "metadata": {},
     "output_type": "execute_result"
    }
   ],
   "source": [
    "import numpy as np\n",
    "\n",
    "v=np.array([1,2,3])\n",
    "w=np.array([4,5,6])\n",
    "\n",
    "cosine_similarity=np.dot(v,w)/(np.linalg.norm(v)*np.linalg.norm(w))\n",
    "cosine_similarity"
   ]
  },
  {
   "cell_type": "markdown",
   "id": "be3bc6e9",
   "metadata": {},
   "source": [
    "### Manipulating word embeddings"
   ]
  },
  {
   "cell_type": "code",
   "execution_count": 11,
   "id": "e009bee2",
   "metadata": {},
   "outputs": [],
   "source": [
    "import pandas as pd\n",
    "import numpy as np\n",
    "import pickle\n",
    "import matplotlib.pyplot as plt"
   ]
  },
  {
   "cell_type": "code",
   "execution_count": 9,
   "id": "7b6d6a42",
   "metadata": {},
   "outputs": [
    {
     "data": {
      "text/plain": [
       "243"
      ]
     },
     "execution_count": 9,
     "metadata": {},
     "output_type": "execute_result"
    }
   ],
   "source": [
    "word_embeddings=pickle.load(open('data/word_embeddings_subset.p','rb'))\n",
    "len(word_embeddings)"
   ]
  },
  {
   "cell_type": "code",
   "execution_count": 10,
   "id": "db8cc21e",
   "metadata": {},
   "outputs": [
    {
     "data": {
      "text/plain": [
       "array([-0.08007812,  0.13378906,  0.14355469,  0.09472656, -0.04736328,\n",
       "       -0.02355957, -0.00854492, -0.18652344,  0.04589844, -0.08154297,\n",
       "       -0.03442383, -0.11621094,  0.21777344, -0.10351562, -0.06689453,\n",
       "        0.15332031, -0.19335938,  0.26367188, -0.13671875, -0.05566406,\n",
       "        0.07470703, -0.00070953,  0.09375   , -0.14453125,  0.04296875,\n",
       "       -0.01916504, -0.22558594, -0.12695312, -0.0168457 ,  0.05224609,\n",
       "        0.0625    , -0.1484375 , -0.01965332,  0.17578125,  0.10644531,\n",
       "       -0.04760742, -0.10253906, -0.28515625,  0.10351562,  0.20800781,\n",
       "       -0.07617188, -0.04345703,  0.08642578,  0.08740234,  0.11767578,\n",
       "        0.20996094, -0.07275391,  0.1640625 , -0.01135254,  0.0025177 ,\n",
       "        0.05810547, -0.03222656,  0.06884766,  0.046875  ,  0.10107422,\n",
       "        0.02148438, -0.16210938,  0.07128906, -0.16210938,  0.05981445,\n",
       "        0.05102539, -0.05566406,  0.06787109, -0.03759766,  0.04345703,\n",
       "       -0.03173828, -0.03417969, -0.01116943,  0.06201172, -0.08007812,\n",
       "       -0.14941406,  0.11914062,  0.02575684,  0.00302124,  0.04711914,\n",
       "       -0.17773438,  0.04101562,  0.05541992,  0.00598145,  0.03027344,\n",
       "       -0.07666016, -0.109375  ,  0.02832031, -0.10498047,  0.0100708 ,\n",
       "       -0.03149414, -0.22363281, -0.03125   , -0.01147461,  0.17285156,\n",
       "        0.08056641, -0.10888672, -0.09570312, -0.21777344, -0.07910156,\n",
       "       -0.10009766,  0.06396484, -0.11962891,  0.18652344, -0.02062988,\n",
       "       -0.02172852,  0.29296875, -0.00793457,  0.0324707 , -0.15136719,\n",
       "        0.00227356, -0.03540039, -0.13378906,  0.0546875 , -0.03271484,\n",
       "       -0.01855469, -0.10302734, -0.13378906,  0.11425781,  0.16699219,\n",
       "        0.01361084, -0.02722168, -0.2109375 ,  0.07177734,  0.08691406,\n",
       "       -0.09960938,  0.01422119, -0.18261719,  0.00741577,  0.01965332,\n",
       "        0.00738525, -0.03271484, -0.15234375, -0.26367188, -0.14746094,\n",
       "        0.03320312, -0.03344727, -0.01000977,  0.01855469,  0.00183868,\n",
       "       -0.10498047,  0.09667969,  0.07910156,  0.11181641,  0.13085938,\n",
       "       -0.08740234, -0.1328125 ,  0.05004883,  0.19824219,  0.0612793 ,\n",
       "        0.16210938,  0.06933594,  0.01281738,  0.01550293,  0.01531982,\n",
       "        0.11474609,  0.02758789,  0.13769531, -0.08349609,  0.01123047,\n",
       "       -0.20507812, -0.12988281, -0.16699219,  0.20410156, -0.03588867,\n",
       "       -0.10888672,  0.0534668 ,  0.15820312, -0.20410156,  0.14648438,\n",
       "       -0.11572266,  0.01855469, -0.13574219,  0.24121094,  0.12304688,\n",
       "       -0.14550781,  0.17578125,  0.11816406, -0.30859375,  0.10888672,\n",
       "       -0.22363281,  0.19335938, -0.15722656, -0.07666016, -0.09082031,\n",
       "       -0.19628906, -0.23144531, -0.09130859, -0.14160156,  0.06347656,\n",
       "        0.03344727, -0.03369141,  0.06591797,  0.06201172,  0.3046875 ,\n",
       "        0.16796875, -0.11035156, -0.03833008, -0.02563477, -0.09765625,\n",
       "        0.04467773, -0.0534668 ,  0.11621094, -0.15039062, -0.16308594,\n",
       "       -0.15527344,  0.04638672,  0.11572266, -0.06640625, -0.04516602,\n",
       "        0.02331543, -0.08105469, -0.0255127 , -0.07714844,  0.0016861 ,\n",
       "        0.15820312,  0.00994873, -0.06445312,  0.15722656, -0.03112793,\n",
       "        0.10644531, -0.140625  ,  0.23535156, -0.11279297,  0.16015625,\n",
       "        0.00061798, -0.1484375 ,  0.02307129, -0.109375  ,  0.05444336,\n",
       "       -0.14160156,  0.11621094,  0.03710938,  0.14746094, -0.04199219,\n",
       "       -0.01391602, -0.03881836,  0.02783203,  0.10205078,  0.07470703,\n",
       "        0.20898438, -0.04223633, -0.04150391, -0.00588989, -0.14941406,\n",
       "       -0.04296875, -0.10107422, -0.06176758,  0.09472656,  0.22265625,\n",
       "       -0.02307129,  0.04858398, -0.15527344, -0.02282715, -0.04174805,\n",
       "        0.16699219, -0.09423828,  0.14453125,  0.11132812,  0.04223633,\n",
       "       -0.16699219,  0.10253906,  0.16796875,  0.12597656, -0.11865234,\n",
       "       -0.0213623 , -0.08056641,  0.24316406,  0.15527344,  0.16503906,\n",
       "        0.00854492, -0.12255859,  0.08691406, -0.11914062, -0.02941895,\n",
       "        0.08349609, -0.03100586,  0.13964844, -0.05151367,  0.00765991,\n",
       "       -0.04443359, -0.04980469, -0.03222656, -0.00952148, -0.10888672,\n",
       "       -0.10302734, -0.15722656,  0.19335938,  0.04858398,  0.015625  ,\n",
       "       -0.08105469, -0.11621094, -0.01989746,  0.05737305,  0.06103516,\n",
       "       -0.14550781,  0.06738281, -0.24414062, -0.07714844,  0.04760742,\n",
       "       -0.07519531, -0.14941406, -0.04418945,  0.09716797,  0.06738281],\n",
       "      dtype=float32)"
      ]
     },
     "execution_count": 10,
     "metadata": {},
     "output_type": "execute_result"
    }
   ],
   "source": [
    "word_vector=word_embeddings['country']\n",
    "word_vector"
   ]
  },
  {
   "cell_type": "code",
   "execution_count": 15,
   "id": "424adcee",
   "metadata": {},
   "outputs": [],
   "source": [
    "words=['oil','gas','happy','sad','city','town','village','petroleum','joyful']\n",
    "vectors=np.array([word_embeddings[word] for word in words])"
   ]
  },
  {
   "cell_type": "code",
   "execution_count": 18,
   "id": "51a32315",
   "metadata": {},
   "outputs": [
    {
     "data": {
      "text/plain": [
       "array([ 0.06396484,  0.01080322,  0.02539062, -0.04467773, -0.04003906,\n",
       "       -0.16113281, -0.21582031,  0.10888672,  0.08398438], dtype=float32)"
      ]
     },
     "execution_count": 18,
     "metadata": {},
     "output_type": "execute_result"
    }
   ],
   "source": [
    "vectors[:,3]"
   ]
  },
  {
   "cell_type": "code",
   "execution_count": 33,
   "id": "eeb61ec0",
   "metadata": {},
   "outputs": [
    {
     "data": {
      "image/png": "[encoded data removed]",
      "text/plain": [
       "<Figure size 432x288 with 1 Axes>"
      ]
     },
     "metadata": {
      "needs_background": "light"
     },
     "output_type": "display_data"
    }
   ],
   "source": [
    "plt.scatter(vectors[:,3],vectors[:,2])\n",
    "for vector,word in zip(vectors,words):\n",
    "    plt.arrow(0,0,vector[3],vector[2],head_width=0.005,head_length=0.005,ec='r',width=1e-5)\n",
    "    plt.annotate(word,(vector[3],vector[2]))"
   ]
  },
  {
   "cell_type": "markdown",
   "id": "86df1e5b",
   "metadata": {},
   "source": [
    "#### word distance"
   ]
  },
  {
   "cell_type": "code",
   "execution_count": 40,
   "id": "3e4f0526",
   "metadata": {},
   "outputs": [
    {
     "data": {
      "text/plain": [
       "<matplotlib.patches.FancyArrow at 0x18d31234df0>"
      ]
     },
     "execution_count": 40,
     "metadata": {},
     "output_type": "execute_result"
    },
    {
     "data": {
      "image/png": "[encoded data removed]",
      "text/plain": [
       "<Figure size 432x288 with 1 Axes>"
      ]
     },
     "metadata": {
      "needs_background": "light"
     },
     "output_type": "display_data"
    }
   ],
   "source": [
    "words=['happy','sad','town','village']\n",
    "vectors=np.array([word_embeddings[word] for word in words])\n",
    "\n",
    "plt.scatter(vectors[:,3],vectors[:,2])\n",
    "for vector,word in zip(vectors,words):\n",
    "    plt.arrow(0,0,vector[3],vector[2],head_width=0.005,head_length=0.005,ec='r',width=1e-5)\n",
    "    plt.annotate(word,(vector[3],vector[2]))\n",
    "diff=vectors[1]-vectors[0]\n",
    "plt.arrow(vectors[0,3],vectors[0,2],diff[3],diff[2],ec='b',width=1e-5)\n",
    "diff=vectors[3]-vectors[2]\n",
    "plt.arrow(vectors[2,3],vectors[2,2],diff[3],diff[2],ec='b',width=1e-5)"
   ]
  },
  {
   "cell_type": "markdown",
   "id": "53a584ad",
   "metadata": {},
   "source": [
    "#### Norm"
   ]
  },
  {
   "cell_type": "code",
   "execution_count": 42,
   "id": "1bc7f21e",
   "metadata": {},
   "outputs": [
    {
     "data": {
      "text/plain": [
       "2.3105447"
      ]
     },
     "execution_count": 42,
     "metadata": {},
     "output_type": "execute_result"
    }
   ],
   "source": [
    "np.linalg.norm(word_embeddings['city'])"
   ]
  },
  {
   "cell_type": "markdown",
   "id": "c35b301d",
   "metadata": {},
   "source": [
    "#### predicting capitals"
   ]
  },
  {
   "cell_type": "code",
   "execution_count": 43,
   "id": "2e195196",
   "metadata": {},
   "outputs": [],
   "source": [
    "capital=word_embeddings['France']-word_embeddings['Paris']"
   ]
  },
  {
   "cell_type": "code",
   "execution_count": 46,
   "id": "36a54180",
   "metadata": {},
   "outputs": [
    {
     "data": {
      "text/plain": [
       "array([-0.02905273, -0.2475586 ,  0.53952026,  0.20581055, -0.14862823,\n",
       "       -0.18334961, -0.15527344, -0.13989258, -0.02709961,  0.22644043],\n",
       "      dtype=float32)"
      ]
     },
     "execution_count": 46,
     "metadata": {},
     "output_type": "execute_result"
    }
   ],
   "source": [
    "country=word_embeddings['Madrid']+capital\n",
    "country[0:10]"
   ]
  },
  {
   "cell_type": "code",
   "execution_count": 50,
   "id": "9f405a83",
   "metadata": {},
   "outputs": [
    {
     "data": {
      "text/plain": [
       "array([ 0.03149414, -0.18261719,  0.16308594,  0.12451172, -0.01855469,\n",
       "       -0.17382812, -0.12109375, -0.1328125 , -0.125     ,  0.24511719],\n",
       "      dtype=float32)"
      ]
     },
     "execution_count": 50,
     "metadata": {},
     "output_type": "execute_result"
    }
   ],
   "source": [
    "word_embeddings['Spain'][0:10]"
   ]
  },
  {
   "cell_type": "code",
   "execution_count": 48,
   "id": "18b788d2",
   "metadata": {},
   "outputs": [
    {
     "data": {
      "text/plain": [
       "array([-0.06054688, -0.06494141,  0.37643433,  0.08129883, -0.13007355,\n",
       "       -0.00952148, -0.03417969, -0.00708008,  0.09790039, -0.01867676],\n",
       "      dtype=float32)"
      ]
     },
     "execution_count": 48,
     "metadata": {},
     "output_type": "execute_result"
    }
   ],
   "source": [
    "diff=country-word_embeddings['Spain']\n",
    "diff[0:10]"
   ]
  },
  {
   "cell_type": "code",
   "execution_count": 51,
   "id": "eed3ca47",
   "metadata": {},
   "outputs": [],
   "source": [
    "keys=word_embeddings.keys()\n",
    "data=[word_embeddings[key] for key in keys]\n",
    "embedding=pd.DataFrame(data=data,index=keys)"
   ]
  },
  {
   "cell_type": "code",
   "execution_count": 52,
   "id": "b19ed150",
   "metadata": {},
   "outputs": [
    {
     "data": {
      "text/html": [
       "<div>\n",
       "<style scoped>\n",
       "    .dataframe tbody tr th:only-of-type {\n",
       "        vertical-align: middle;\n",
       "    }\n",
       "\n",
       "    .dataframe tbody tr th {\n",
       "        vertical-align: top;\n",
       "    }\n",
       "\n",
       "    .dataframe thead th {\n",
       "        text-align: right;\n",
       "    }\n",
       "</style>\n",
       "<table border=\"1\" class=\"dataframe\">\n",
       "  <thead>\n",
       "    <tr style=\"text-align: right;\">\n",
       "      <th></th>\n",
       "      <th>0</th>\n",
       "      <th>1</th>\n",
       "      <th>2</th>\n",
       "      <th>3</th>\n",
       "      <th>4</th>\n",
       "      <th>5</th>\n",
       "      <th>6</th>\n",
       "      <th>7</th>\n",
       "      <th>8</th>\n",
       "      <th>9</th>\n",
       "      <th>...</th>\n",
       "      <th>290</th>\n",
       "      <th>291</th>\n",
       "      <th>292</th>\n",
       "      <th>293</th>\n",
       "      <th>294</th>\n",
       "      <th>295</th>\n",
       "      <th>296</th>\n",
       "      <th>297</th>\n",
       "      <th>298</th>\n",
       "      <th>299</th>\n",
       "    </tr>\n",
       "  </thead>\n",
       "  <tbody>\n",
       "    <tr>\n",
       "      <th>country</th>\n",
       "      <td>-0.080078</td>\n",
       "      <td>0.133789</td>\n",
       "      <td>0.143555</td>\n",
       "      <td>0.094727</td>\n",
       "      <td>-0.047363</td>\n",
       "      <td>-0.023560</td>\n",
       "      <td>-0.008545</td>\n",
       "      <td>-0.186523</td>\n",
       "      <td>0.045898</td>\n",
       "      <td>-0.081543</td>\n",
       "      <td>...</td>\n",
       "      <td>-0.145508</td>\n",
       "      <td>0.067383</td>\n",
       "      <td>-0.244141</td>\n",
       "      <td>-0.077148</td>\n",
       "      <td>0.047607</td>\n",
       "      <td>-0.075195</td>\n",
       "      <td>-0.149414</td>\n",
       "      <td>-0.044189</td>\n",
       "      <td>0.097168</td>\n",
       "      <td>0.067383</td>\n",
       "    </tr>\n",
       "    <tr>\n",
       "      <th>city</th>\n",
       "      <td>-0.010071</td>\n",
       "      <td>0.057373</td>\n",
       "      <td>0.183594</td>\n",
       "      <td>-0.040039</td>\n",
       "      <td>-0.029785</td>\n",
       "      <td>-0.079102</td>\n",
       "      <td>0.071777</td>\n",
       "      <td>0.013306</td>\n",
       "      <td>-0.143555</td>\n",
       "      <td>0.011292</td>\n",
       "      <td>...</td>\n",
       "      <td>0.024292</td>\n",
       "      <td>-0.168945</td>\n",
       "      <td>-0.062988</td>\n",
       "      <td>0.117188</td>\n",
       "      <td>-0.020508</td>\n",
       "      <td>0.030273</td>\n",
       "      <td>-0.247070</td>\n",
       "      <td>-0.122559</td>\n",
       "      <td>0.076172</td>\n",
       "      <td>-0.234375</td>\n",
       "    </tr>\n",
       "    <tr>\n",
       "      <th>China</th>\n",
       "      <td>-0.073242</td>\n",
       "      <td>0.135742</td>\n",
       "      <td>0.108887</td>\n",
       "      <td>0.083008</td>\n",
       "      <td>-0.127930</td>\n",
       "      <td>-0.227539</td>\n",
       "      <td>0.151367</td>\n",
       "      <td>-0.045654</td>\n",
       "      <td>-0.065430</td>\n",
       "      <td>0.034424</td>\n",
       "      <td>...</td>\n",
       "      <td>0.140625</td>\n",
       "      <td>0.087402</td>\n",
       "      <td>0.152344</td>\n",
       "      <td>0.079590</td>\n",
       "      <td>0.006348</td>\n",
       "      <td>-0.037842</td>\n",
       "      <td>-0.183594</td>\n",
       "      <td>0.137695</td>\n",
       "      <td>0.093750</td>\n",
       "      <td>-0.079590</td>\n",
       "    </tr>\n",
       "    <tr>\n",
       "      <th>Iraq</th>\n",
       "      <td>0.191406</td>\n",
       "      <td>0.125000</td>\n",
       "      <td>-0.065430</td>\n",
       "      <td>0.060059</td>\n",
       "      <td>-0.285156</td>\n",
       "      <td>-0.102539</td>\n",
       "      <td>0.117188</td>\n",
       "      <td>-0.351562</td>\n",
       "      <td>-0.095215</td>\n",
       "      <td>0.200195</td>\n",
       "      <td>...</td>\n",
       "      <td>-0.100586</td>\n",
       "      <td>-0.077148</td>\n",
       "      <td>-0.123047</td>\n",
       "      <td>0.193359</td>\n",
       "      <td>-0.153320</td>\n",
       "      <td>0.089355</td>\n",
       "      <td>-0.173828</td>\n",
       "      <td>-0.054688</td>\n",
       "      <td>0.302734</td>\n",
       "      <td>0.105957</td>\n",
       "    </tr>\n",
       "    <tr>\n",
       "      <th>oil</th>\n",
       "      <td>-0.139648</td>\n",
       "      <td>0.062256</td>\n",
       "      <td>-0.279297</td>\n",
       "      <td>0.063965</td>\n",
       "      <td>0.044434</td>\n",
       "      <td>-0.154297</td>\n",
       "      <td>-0.184570</td>\n",
       "      <td>-0.498047</td>\n",
       "      <td>0.047363</td>\n",
       "      <td>0.110840</td>\n",
       "      <td>...</td>\n",
       "      <td>-0.195312</td>\n",
       "      <td>-0.345703</td>\n",
       "      <td>0.217773</td>\n",
       "      <td>-0.091797</td>\n",
       "      <td>0.051025</td>\n",
       "      <td>0.061279</td>\n",
       "      <td>0.194336</td>\n",
       "      <td>0.204102</td>\n",
       "      <td>0.235352</td>\n",
       "      <td>-0.051025</td>\n",
       "    </tr>\n",
       "  </tbody>\n",
       "</table>\n",
       "<p>5 rows × 300 columns</p>\n",
       "</div>"
      ],
      "text/plain": [
       "              0         1         2         3         4         5         6    \\\n",
       "country -0.080078  0.133789  0.143555  0.094727 -0.047363 -0.023560 -0.008545   \n",
       "city    -0.010071  0.057373  0.183594 -0.040039 -0.029785 -0.079102  0.071777   \n",
       "China   -0.073242  0.135742  0.108887  0.083008 -0.127930 -0.227539  0.151367   \n",
       "Iraq     0.191406  0.125000 -0.065430  0.060059 -0.285156 -0.102539  0.117188   \n",
       "oil     -0.139648  0.062256 -0.279297  0.063965  0.044434 -0.154297 -0.184570   \n",
       "\n",
       "              7         8         9    ...       290       291       292  \\\n",
       "country -0.186523  0.045898 -0.081543  ... -0.145508  0.067383 -0.244141   \n",
       "city     0.013306 -0.143555  0.011292  ...  0.024292 -0.168945 -0.062988   \n",
       "China   -0.045654 -0.065430  0.034424  ...  0.140625  0.087402  0.152344   \n",
       "Iraq    -0.351562 -0.095215  0.200195  ... -0.100586 -0.077148 -0.123047   \n",
       "oil     -0.498047  0.047363  0.110840  ... -0.195312 -0.345703  0.217773   \n",
       "\n",
       "              293       294       295       296       297       298       299  \n",
       "country -0.077148  0.047607 -0.075195 -0.149414 -0.044189  0.097168  0.067383  \n",
       "city     0.117188 -0.020508  0.030273 -0.247070 -0.122559  0.076172 -0.234375  \n",
       "China    0.079590  0.006348 -0.037842 -0.183594  0.137695  0.093750 -0.079590  \n",
       "Iraq     0.193359 -0.153320  0.089355 -0.173828 -0.054688  0.302734  0.105957  \n",
       "oil     -0.091797  0.051025  0.061279  0.194336  0.204102  0.235352 -0.051025  \n",
       "\n",
       "[5 rows x 300 columns]"
      ]
     },
     "execution_count": 52,
     "metadata": {},
     "output_type": "execute_result"
    }
   ],
   "source": [
    "embedding.head()"
   ]
  },
  {
   "cell_type": "code",
   "execution_count": 53,
   "id": "f103fe72",
   "metadata": {},
   "outputs": [],
   "source": [
    "def find_closest_word(v,k=1):\n",
    "    diff=embedding.values-v\n",
    "    delta=np.sum(diff**2,axis=1)#squared euclidian distance\n",
    "    i=np.argmin(delta)\n",
    "    return embedding.iloc[i].name"
   ]
  },
  {
   "cell_type": "code",
   "execution_count": 54,
   "id": "40082a82",
   "metadata": {},
   "outputs": [
    {
     "data": {
      "text/plain": [
       "'Spain'"
      ]
     },
     "execution_count": 54,
     "metadata": {},
     "output_type": "execute_result"
    }
   ],
   "source": [
    "find_closest_word(country)"
   ]
  },
  {
   "cell_type": "code",
   "execution_count": 55,
   "id": "f9893b02",
   "metadata": {},
   "outputs": [
    {
     "data": {
      "text/plain": [
       "'Germany'"
      ]
     },
     "execution_count": 55,
     "metadata": {},
     "output_type": "execute_result"
    }
   ],
   "source": [
    "find_closest_word(word_embeddings['Berlin']+capital)"
   ]
  },
  {
   "cell_type": "markdown",
   "id": "b79a6106",
   "metadata": {},
   "source": [
    "Bug:"
   ]
  },
  {
   "cell_type": "code",
   "execution_count": 56,
   "id": "b7ed147e",
   "metadata": {},
   "outputs": [
    {
     "data": {
      "text/plain": [
       "'Lisbon'"
      ]
     },
     "execution_count": 56,
     "metadata": {},
     "output_type": "execute_result"
    }
   ],
   "source": [
    "find_closest_word(word_embeddings['Lisbon']+capital)"
   ]
  },
  {
   "cell_type": "markdown",
   "id": "1e17faf7",
   "metadata": {},
   "source": [
    "#### represent sentence as vector"
   ]
  },
  {
   "cell_type": "code",
   "execution_count": 58,
   "id": "e9b9cbd3",
   "metadata": {},
   "outputs": [
    {
     "data": {
      "text/plain": [
       "'petroleum'"
      ]
     },
     "execution_count": 58,
     "metadata": {},
     "output_type": "execute_result"
    }
   ],
   "source": [
    "sentence='Spain petroleum city king'\n",
    "voc=[word_embeddings[word] for word in sentence.split(\" \")]\n",
    "doc2voc=np.sum(voc,axis=0)\n",
    "find_closest_word(doc2voc)"
   ]
  },
  {
   "cell_type": "markdown",
   "id": "f8d6b758",
   "metadata": {},
   "source": [
    "***"
   ]
  },
  {
   "cell_type": "markdown",
   "id": "e4f180c9",
   "metadata": {},
   "source": [
    "## PCA"
   ]
  },
  {
   "cell_type": "markdown",
   "id": "adcc0546",
   "metadata": {},
   "source": [
    "#### Principle Component Analysis"
   ]
  },
  {
   "cell_type": "markdown",
   "id": "ecdcd03d",
   "metadata": {},
   "source": [
    "A way to `reduce number of features` by transforming a large set of variables into a smaller one that still contains most of the information in the large set."
   ]
  },
  {
   "cell_type": "markdown",
   "id": "e8be7443",
   "metadata": {},
   "source": [
    "`PCA` is based on the Singular Value Decomposition `SVD` of the Covariance Matrix of the original dataset. The Eigenvectors of such decomposition are used as rotation matrix. The Eigenvectors are arranged in the rotation matrix in decreasing order according to its explained variance. The last is related to the EigenValues of the `SVD`.\n",
    "\n",
    "We look for a `vector` z that will fit the data so that the `distance` between the `origin and the point's perpedicular intersection with it` is `the smallest`. Unlike in the linear regression where the we minimize the vertical distance between point and the line. \n",
    "\n",
    "PCA consists of:\n",
    "- normalizing\n",
    "- feature scaling\n",
    "- computing covariance matrix\n",
    "\n",
    "mean normalize, get the covariance matrix, perform SVD, dot product the data, reconstruct data\n",
    "\n",
    "For a 2D example we map the values (x,y) onto a new axis and represent points by on value from new axis."
   ]
  },
  {
   "cell_type": "code",
   "execution_count": 1,
   "id": "30f298b8",
   "metadata": {},
   "outputs": [],
   "source": [
    "import matplotlib.pyplot as plt\n",
    "import numpy as np\n",
    "import pandas as pd\n",
    "import random\n",
    "import math\n",
    "from sklearn.decomposition import PCA"
   ]
  },
  {
   "cell_type": "code",
   "execution_count": 2,
   "id": "7eb81049",
   "metadata": {},
   "outputs": [],
   "source": [
    "np.random.seed(1)\n",
    "n=1\n",
    "x=np.random.uniform(1,2,1000)\n",
    "y=x.copy()*n\n",
    "x=x-np.mean(x)\n",
    "y=y-np.mean(y)\n",
    "\n",
    "data=pd.DataFrame({'x':x,'y':y})\n",
    "pca=PCA(n_components=2)\n",
    "pcaTr=pca.fit(data)\n",
    "\n",
    "data_pca=pcaTr.transform(data)\n",
    "data_pca=pd.DataFrame(data=data_pca,columns=['PC1','PC2'])"
   ]
  },
  {
   "cell_type": "code",
   "execution_count": 3,
   "id": "f671382a",
   "metadata": {},
   "outputs": [
    {
     "data": {
      "text/plain": [
       "<matplotlib.collections.PathCollection at 0x203046d31f0>"
      ]
     },
     "execution_count": 3,
     "metadata": {},
     "output_type": "execute_result"
    },
    {
     "data": {
      "image/png": "[encoded data removed]",
      "text/plain": [
       "<Figure size 432x288 with 1 Axes>"
      ]
     },
     "metadata": {
      "needs_background": "light"
     },
     "output_type": "display_data"
    }
   ],
   "source": [
    "plt.scatter(data.x,data.y)\n",
    "plt.scatter(data_pca.PC1,data_pca.PC2)"
   ]
  },
  {
   "cell_type": "markdown",
   "id": "a84d0a83",
   "metadata": {},
   "source": [
    "#### transformation model pcaTr"
   ]
  },
  {
   "cell_type": "markdown",
   "id": "06f33204",
   "metadata": {},
   "source": [
    "PCA model is composed of a rotation matrix and its corresponding explained variance.\n",
    "- `pcaTr.components_` has the rotation matrix\n",
    "- `pcaTr.explained_variance_` has the explained variance of each principal component"
   ]
  },
  {
   "cell_type": "code",
   "execution_count": 4,
   "id": "9aa08d61",
   "metadata": {},
   "outputs": [
    {
     "name": "stdout",
     "output_type": "stream",
     "text": [
      "Eigenvectors: \n",
      "[[-0.70710678 -0.70710678]\n",
      " [ 0.70710678 -0.70710678]]\n",
      "Eigenvalues: \n",
      "[1.66465230e-01 2.08930963e-34]\n"
     ]
    }
   ],
   "source": [
    "print(f'Eigenvectors: \\n{pcaTr.components_}')\n",
    "print(f'Eigenvalues: \\n{pcaTr.explained_variance_}')"
   ]
  },
  {
   "cell_type": "markdown",
   "id": "594b7dcc",
   "metadata": {},
   "source": [
    "$$ cos(45^0) = 0.7071 $$\n",
    "The rotation matrix is equal to:\n",
    "$$ R = \\begin{bmatrix} cos(45^0) & sin(45^o) \\\\ -sin(45^o) & cos(45^o) \\end{bmatrix} $$"
   ]
  },
  {
   "cell_type": "markdown",
   "id": "5368d6c9",
   "metadata": {},
   "source": [
    "As $45^o$ is the same angle as that trom the variables y=1*x\n",
    "\n",
    "Then PCA has identyfied the angle in which point the original variables.\n",
    "\n",
    "And the explained Variance is around [0.166 0]. Remember that the Variance of a uniform random variable x ~ U(1,2) as our x and y is equal to:\n",
    "\n",
    "$$ Var(x) = \\frac{(2-1)^2}{12} = 0.08333 $$\n",
    "\n",
    "Then the explained variance given by the PCA can be interpreted as\n",
    "\n",
    "$$ [Var(x) + Var(y), \\ 0] = [0.08333 + 0.08333, \\ 0] = [0.166, \\ 0] $$\n",
    "\n",
    "Which means that all the explained variance of our new system is explained by our first principal component."
   ]
  },
  {
   "cell_type": "markdown",
   "id": "f53fb809",
   "metadata": {},
   "source": [
    "#### Correlated normal random variables"
   ]
  },
  {
   "cell_type": "code",
   "execution_count": 5,
   "id": "a8c7e864",
   "metadata": {},
   "outputs": [
    {
     "name": "stdout",
     "output_type": "stream",
     "text": [
      "angle: 45.0\n",
      "rotation matrix: \n",
      " [[ 0.70710678  0.70710678]\n",
      " [-0.70710678  0.70710678]]\n"
     ]
    }
   ],
   "source": [
    "np.random.seed(100)\n",
    "\n",
    "#standard deviation\n",
    "std1=1\n",
    "std2=0.333\n",
    "\n",
    "x=np.random.normal(0,std1,1000)\n",
    "y=np.random.normal(0,std2,1000)\n",
    "\n",
    "#centering data\n",
    "x=x-np.mean(x)\n",
    "y=y-np.mean(y)\n",
    "\n",
    "# pair of independent variables with a desired amount of covariance\n",
    "n=1\n",
    "angle=np.arctan(1/n)\n",
    "print(f'angle: {angle*180/math.pi}')\n",
    "\n",
    "rotation_matrix=np.array([[np.cos(angle),np.sin(angle)],[-np.sin(angle),np.cos(angle)]])\n",
    "print(f'rotation matrix: \\n {rotation_matrix}')\n",
    "\n",
    "xy=np.concatenate(([x],[y]),axis=0).T\n",
    "data=np.dot(xy,rotation_matrix)"
   ]
  },
  {
   "cell_type": "code",
   "execution_count": 6,
   "id": "4a563984",
   "metadata": {},
   "outputs": [
    {
     "data": {
      "text/plain": [
       "<matplotlib.collections.PathCollection at 0x20370549b20>"
      ]
     },
     "execution_count": 6,
     "metadata": {},
     "output_type": "execute_result"
    },
    {
     "data": {
      "image/png": "[encoded data removed]",
      "text/plain": [
       "<Figure size 432x288 with 1 Axes>"
      ]
     },
     "metadata": {
      "needs_background": "light"
     },
     "output_type": "display_data"
    }
   ],
   "source": [
    "plt.scatter(data[:,0],data[:,1])"
   ]
  },
  {
   "cell_type": "markdown",
   "id": "2697247d",
   "metadata": {},
   "source": [
    "#### PCA"
   ]
  },
  {
   "cell_type": "markdown",
   "id": "fd3c68ef",
   "metadata": {},
   "source": [
    "`Original` and `transformed` system in the same plot alogside with `Principal Component` vectors in red and blue."
   ]
  },
  {
   "cell_type": "code",
   "execution_count": 7,
   "id": "b92fbbc3",
   "metadata": {},
   "outputs": [
    {
     "name": "stdout",
     "output_type": "stream",
     "text": [
      "Eigenvectors: \n",
      "[[ 0.70827652  0.7059351 ]\n",
      " [-0.7059351   0.70827652]]\n",
      "Eigenvalues: \n",
      "[1.09488457 0.11243237]\n"
     ]
    }
   ],
   "source": [
    "pca=PCA(n_components=2)\n",
    "pcaTr=pca.fit(data)\n",
    "data_pca=pcaTr.transform(data)\n",
    "print(f'Eigenvectors: \\n{pcaTr.components_}')\n",
    "print(f'Eigenvalues: \\n{pcaTr.explained_variance_}')"
   ]
  },
  {
   "cell_type": "code",
   "execution_count": 11,
   "id": "3d159adc",
   "metadata": {},
   "outputs": [
    {
     "data": {
      "text/plain": [
       "[<matplotlib.lines.Line2D at 0x203049e1970>]"
      ]
     },
     "execution_count": 11,
     "metadata": {},
     "output_type": "execute_result"
    },
    {
     "data": {
      "image/png": "[encoded data removed]",
      "text/plain": [
       "<Figure size 432x288 with 1 Axes>"
      ]
     },
     "metadata": {
      "needs_background": "light"
     },
     "output_type": "display_data"
    }
   ],
   "source": [
    "plt.scatter(data[:,0],data[:,1])\n",
    "plt.scatter(data_pca[:,0],data_pca[:,1])\n",
    "plt.plot([0,rotation_matrix[0][0]*std1*3],[0,rotation_matrix[0][1]*std1*3],color='r')\n",
    "plt.plot([0,rotation_matrix[1][0]*std2*3],[0,rotation_matrix[1][1]*std2*3],color='b')"
   ]
  },
  {
   "cell_type": "markdown",
   "id": "c9f8e057",
   "metadata": {},
   "source": [
    "The explanation of this chart is as follows:\n",
    "- the rotation matrix used to create the correlated variables took the original uncorrelated variavles `x` and `y` and transformed them into the blue points. \n",
    "- the `PCA` tranformation finds out the rotation matrix used to create correlated variables (blue points). Using the `PCA` model to transform data, puts back the variables as the original uncorrelated variables (blue points).\n",
    "- the explained Variance of the `PCA` is\n",
    "\n",
    "$$ [1.0095, 0.1124] $$\n",
    "\n",
    "which is approximately\n",
    "\n",
    "$$ [1,0.333 \\times 0.333] = [std1^2, std2^2] $$\n",
    "\n",
    "the parameters of our original random variables `x` and `y`"
   ]
  },
  {
   "cell_type": "markdown",
   "id": "f6577e1b",
   "metadata": {},
   "source": [
    "#### PCA"
   ]
  },
  {
   "cell_type": "markdown",
   "id": "897a0071",
   "metadata": {},
   "source": [
    "Principal components contained in the `rotation matrix` are `decreasingly sorted` depending on its `explained Variance`. It usually means that the `first components retain most of the power of the data` to explain the patterns that **generalize** the data. Nevertheless, for some applications patterns that explain much less Variance are interesting eg. novelty detection.\n",
    "\n",
    "In the figure we can see original data and its corresponding projection using dimention axes as principal components. Data was compromised of a single variable."
   ]
  },
  {
   "cell_type": "code",
   "execution_count": 12,
   "id": "8f2fdec8",
   "metadata": {},
   "outputs": [
    {
     "data": {
      "text/plain": [
       "<matplotlib.collections.PathCollection at 0x20305a2adf0>"
      ]
     },
     "execution_count": 12,
     "metadata": {},
     "output_type": "execute_result"
    },
    {
     "data": {
      "image/png": "[encoded data removed]",
      "text/plain": [
       "<Figure size 432x288 with 1 Axes>"
      ]
     },
     "metadata": {
      "needs_background": "light"
     },
     "output_type": "display_data"
    }
   ],
   "source": [
    "n=len(data)\n",
    "plt.scatter(data[:,0],data[:,1])\n",
    "plt.scatter(data[:,0],np.zeros(n))\n",
    "plt.scatter(np.zeros(n),data[:,1])"
   ]
  },
  {
   "cell_type": "markdown",
   "id": "3888aadf",
   "metadata": {},
   "source": [
    "*** "
   ]
  },
  {
   "cell_type": "markdown",
   "id": "cbf37b01",
   "metadata": {},
   "source": [
    "## Word vectors"
   ]
  },
  {
   "cell_type": "markdown",
   "id": "8bfe44e6",
   "metadata": {},
   "source": [
    "In NLP each word is represented by `vectors` consisting of numbers. Vector encodes meainng of the word. Numbers for each word are learned using ML models. "
   ]
  },
  {
   "cell_type": "code",
   "execution_count": 12,
   "id": "4a44cefb",
   "metadata": {},
   "outputs": [],
   "source": [
    "import numpy as np\n",
    "import pandas as pd\n",
    "import pickle\n",
    "import matplotlib.pyplot as plt"
   ]
  },
  {
   "cell_type": "code",
   "execution_count": 13,
   "id": "e8d15a4f",
   "metadata": {},
   "outputs": [
    {
     "data": {
      "text/html": [
       "<div>\n",
       "<style scoped>\n",
       "    .dataframe tbody tr th:only-of-type {\n",
       "        vertical-align: middle;\n",
       "    }\n",
       "\n",
       "    .dataframe tbody tr th {\n",
       "        vertical-align: top;\n",
       "    }\n",
       "\n",
       "    .dataframe thead th {\n",
       "        text-align: right;\n",
       "    }\n",
       "</style>\n",
       "<table border=\"1\" class=\"dataframe\">\n",
       "  <thead>\n",
       "    <tr style=\"text-align: right;\">\n",
       "      <th></th>\n",
       "      <th>Athens</th>\n",
       "      <th>Greece</th>\n",
       "      <th>Baghdad</th>\n",
       "      <th>Iraq</th>\n",
       "    </tr>\n",
       "  </thead>\n",
       "  <tbody>\n",
       "    <tr>\n",
       "      <th>0</th>\n",
       "      <td>Athens</td>\n",
       "      <td>Greece</td>\n",
       "      <td>Bangkok</td>\n",
       "      <td>Thailand</td>\n",
       "    </tr>\n",
       "    <tr>\n",
       "      <th>1</th>\n",
       "      <td>Athens</td>\n",
       "      <td>Greece</td>\n",
       "      <td>Beijing</td>\n",
       "      <td>China</td>\n",
       "    </tr>\n",
       "    <tr>\n",
       "      <th>2</th>\n",
       "      <td>Athens</td>\n",
       "      <td>Greece</td>\n",
       "      <td>Berlin</td>\n",
       "      <td>Germany</td>\n",
       "    </tr>\n",
       "    <tr>\n",
       "      <th>3</th>\n",
       "      <td>Athens</td>\n",
       "      <td>Greece</td>\n",
       "      <td>Bern</td>\n",
       "      <td>Switzerland</td>\n",
       "    </tr>\n",
       "    <tr>\n",
       "      <th>4</th>\n",
       "      <td>Athens</td>\n",
       "      <td>Greece</td>\n",
       "      <td>Cairo</td>\n",
       "      <td>Egypt</td>\n",
       "    </tr>\n",
       "  </tbody>\n",
       "</table>\n",
       "</div>"
      ],
      "text/plain": [
       "   Athens  Greece  Baghdad         Iraq\n",
       "0  Athens  Greece  Bangkok     Thailand\n",
       "1  Athens  Greece  Beijing        China\n",
       "2  Athens  Greece   Berlin      Germany\n",
       "3  Athens  Greece     Bern  Switzerland\n",
       "4  Athens  Greece    Cairo        Egypt"
      ]
     },
     "execution_count": 13,
     "metadata": {},
     "output_type": "execute_result"
    }
   ],
   "source": [
    "data=pd.read_csv('data/capitals.txt',delimiter=' ')\n",
    "data.head()"
   ]
  },
  {
   "cell_type": "code",
   "execution_count": 14,
   "id": "299fe71e",
   "metadata": {},
   "outputs": [],
   "source": [
    "import nltk\n",
    "from gensim.models import KeyedVectors"
   ]
  },
  {
   "cell_type": "code",
   "execution_count": 15,
   "id": "b8a782d9",
   "metadata": {},
   "outputs": [
    {
     "name": "stderr",
     "output_type": "stream",
     "text": [
      "[nltk_data] Downloading package punkt to\n",
      "[nltk_data]     C:\\Users\\pk764\\AppData\\Roaming\\nltk_data...\n",
      "[nltk_data]   Package punkt is already up-to-date!\n"
     ]
    },
    {
     "data": {
      "text/plain": [
       "True"
      ]
     },
     "execution_count": 15,
     "metadata": {},
     "output_type": "execute_result"
    }
   ],
   "source": [
    "nltk.download('punkt')"
   ]
  },
  {
   "cell_type": "markdown",
   "id": "6e6e88c1",
   "metadata": {},
   "source": [
    "Making `subset of word_embeddings` from `embeddings` (google source)."
   ]
  },
  {
   "cell_type": "code",
   "execution_count": 11,
   "id": "8297e776",
   "metadata": {},
   "outputs": [],
   "source": [
    "#embeddings=KeyedVectors.load_word2vec_format('./GoogleNews-vectors-navigate300.bin',binary=True)\n",
    "\n",
    "f=open('capitals.txt','r').read()\n",
    "set_words=set(nltk.word.tokenize(f))\n",
    "words=set('king','queen','oil','gas','happy','sad','city','town','village','country','continent','petroleum','joyful')\n",
    "set_words.update(words)\n",
    "\n",
    "def get_word_embeddings(embeddings):\n",
    "    word_embeddings={}\n",
    "    for word in set_words:\n",
    "        word_embeddings[word]=embeddings[word]\n",
    "    return word_embeddings"
   ]
  },
  {
   "cell_type": "code",
   "execution_count": 12,
   "id": "a30edb85",
   "metadata": {},
   "outputs": [],
   "source": [
    "#word_embeddings=get_word_embeddings(embeddings)\n",
    "#pickle.dump(word_embeddings,open('data/word_embeddings_subset.p','wb'))"
   ]
  },
  {
   "cell_type": "code",
   "execution_count": 16,
   "id": "b58da31d",
   "metadata": {},
   "outputs": [
    {
     "data": {
      "text/plain": [
       "243"
      ]
     },
     "execution_count": 16,
     "metadata": {},
     "output_type": "execute_result"
    }
   ],
   "source": [
    "word_embeddings=pickle.load(open('data/word_embeddings_subset.p','rb'))\n",
    "len(word_embeddings)"
   ]
  },
  {
   "cell_type": "code",
   "execution_count": 35,
   "id": "eed1cf67",
   "metadata": {},
   "outputs": [],
   "source": [
    "#word_embeddings"
   ]
  },
  {
   "cell_type": "code",
   "execution_count": 18,
   "id": "884c6949",
   "metadata": {},
   "outputs": [
    {
     "data": {
      "text/plain": [
       "(300,)"
      ]
     },
     "execution_count": 18,
     "metadata": {},
     "output_type": "execute_result"
    }
   ],
   "source": [
    "word_embeddings['country'].shape"
   ]
  },
  {
   "cell_type": "markdown",
   "id": "e09f6cf4",
   "metadata": {},
   "source": [
    "### Predicting relationships"
   ]
  },
  {
   "cell_type": "markdown",
   "id": "e40a6e79",
   "metadata": {},
   "source": [
    "#### cosine similarity"
   ]
  },
  {
   "cell_type": "markdown",
   "id": "b155350c",
   "metadata": {},
   "source": [
    "$$ cos(\\beta) = \\frac{A \\cdot B}{||A||||B||} = \\frac{\\sum{A_i B_i}}{\\sqrt{\\sum{A_{i}^{2}}} \\sqrt{\\sum{B_{i}^{2}}}} $$"
   ]
  },
  {
   "cell_type": "markdown",
   "id": "10238b28",
   "metadata": {},
   "source": [
    "$A$ and $B$ represent word vectors and $A_i$ or $B_i$ represent index of that vector."
   ]
  },
  {
   "cell_type": "code",
   "execution_count": 19,
   "id": "67595aef",
   "metadata": {},
   "outputs": [],
   "source": [
    "def cosine_similarity(A,B):\n",
    "    '''\n",
    "    Parameters:\n",
    "    -----------\n",
    "        A: np array (word vector)\n",
    "        B: np array (word vector)\n",
    "    Returns:\n",
    "    --------\n",
    "        cos: float (cosine similarity between A and B)\n",
    "    '''\n",
    "    dot = np.dot(A,B)\n",
    "    norm_a=np.linalg.norm(A)\n",
    "    norm_b=np.linalg.norm(B)\n",
    "    cos=dot/(norm_a*norm_b)\n",
    "    return cos"
   ]
  },
  {
   "cell_type": "code",
   "execution_count": 20,
   "id": "3d81d370",
   "metadata": {},
   "outputs": [
    {
     "data": {
      "text/plain": [
       "0.6510957"
      ]
     },
     "execution_count": 20,
     "metadata": {},
     "output_type": "execute_result"
    }
   ],
   "source": [
    "king=word_embeddings['king']\n",
    "queen=word_embeddings['queen']\n",
    "cosine_similarity(king,queen)"
   ]
  },
  {
   "cell_type": "markdown",
   "id": "26b188ee",
   "metadata": {},
   "source": [
    "#### euclidean distance"
   ]
  },
  {
   "cell_type": "markdown",
   "id": "337f2f3d",
   "metadata": {},
   "source": [
    "$$ D(A,B) = D(B,A) = \\sqrt{(A_1-B_1)^{2}+(A_2-B_2)^{2}+...+(A_n-B_n)^{2}} = \\sqrt{\\sum{(A_i-B_i)^2}} $$"
   ]
  },
  {
   "cell_type": "markdown",
   "id": "66f28213",
   "metadata": {},
   "source": [
    "$n$ is number of elements in vector. The more similar words, the more likely Euclidean distance will be close to 0."
   ]
  },
  {
   "cell_type": "code",
   "execution_count": 21,
   "id": "82f4f708",
   "metadata": {},
   "outputs": [],
   "source": [
    "def euclidean(A,B):\n",
    "    '''\n",
    "    Parameters:\n",
    "    -----------\n",
    "        A: np array (word vector)\n",
    "        B: np array (word vector)\n",
    "    Returns:\n",
    "    --------\n",
    "        d: float (euclidean distance between A and B)\n",
    "    '''\n",
    "    d=np.linalg.norm(A-B)\n",
    "    return d"
   ]
  },
  {
   "cell_type": "code",
   "execution_count": 22,
   "id": "39630b30",
   "metadata": {},
   "outputs": [
    {
     "data": {
      "text/plain": [
       "2.4796925"
      ]
     },
     "execution_count": 22,
     "metadata": {},
     "output_type": "execute_result"
    }
   ],
   "source": [
    "euclidean(king,queen)"
   ]
  },
  {
   "cell_type": "markdown",
   "id": "685c84aa",
   "metadata": {},
   "source": [
    "#### predicting capitals"
   ]
  },
  {
   "cell_type": "code",
   "execution_count": 23,
   "id": "4a95058e",
   "metadata": {},
   "outputs": [],
   "source": [
    "def get_country(city1,country1,city2,embeddings):\n",
    "    '''\n",
    "    Parameters:\n",
    "    -----------\n",
    "        city1,city2: string (capital cities names)\n",
    "        country1: string (country of city1)\n",
    "        embeddings: dict witk words and their embeddings\n",
    "    \n",
    "    Returns:\n",
    "    --------\n",
    "        city2: string (capital city of country2)\n",
    "    '''\n",
    "    vec_diff=embeddings[country1]-embeddings[city1]\n",
    "    country2=vec_diff+embeddings[city2]\n",
    "    excluded=[city1,city2,country1]\n",
    "    similarity={}\n",
    "    \n",
    "    for word in embeddings.keys():\n",
    "        similarity[word]=cosine_similarity(embeddings[word],country2)\n",
    "    \n",
    "    for word in excluded:\n",
    "        similarity.pop(word)\n",
    "    \n",
    "    country2=max(similarity,key=similarity.get)\n",
    "    \n",
    "    return (country2,similarity[country2])"
   ]
  },
  {
   "cell_type": "code",
   "execution_count": 24,
   "id": "a754b238",
   "metadata": {},
   "outputs": [
    {
     "data": {
      "text/plain": [
       "('Egypt', 0.7626821)"
      ]
     },
     "execution_count": 24,
     "metadata": {},
     "output_type": "execute_result"
    }
   ],
   "source": [
    "get_country('Athens','Greece','Cairo',word_embeddings)"
   ]
  },
  {
   "cell_type": "markdown",
   "id": "be0e583e",
   "metadata": {},
   "source": [
    "#### model accuracy"
   ]
  },
  {
   "cell_type": "code",
   "execution_count": 25,
   "id": "708c0f7c",
   "metadata": {},
   "outputs": [],
   "source": [
    "def get_accuracy(embeddings,data):\n",
    "    '''\n",
    "    Paramaters:\n",
    "    -----------\n",
    "        embeddings: dict witk words and their embeddings\n",
    "        data: DataFrame with all country-capital pairs\n",
    "    Returns:\n",
    "    --------\n",
    "        accuracy: str\n",
    "    '''\n",
    "    n=len(data)\n",
    "    incorrect=0\n",
    "    for i in range(n):\n",
    "        city1=data.iloc[i]['city1']\n",
    "        city2=data.iloc[i]['city2']\n",
    "        country1=data.iloc[i]['country1']\n",
    "        country2=data.iloc[i]['country2']\n",
    "        \n",
    "        prediction=get_country(city1,country1,city2,embeddings)[0]\n",
    "        \n",
    "        if prediction!=country2:\n",
    "            incorrect+=1\n",
    "    accuracy=(n-incorrect)/n\n",
    "    return accuracy"
   ]
  },
  {
   "cell_type": "code",
   "execution_count": 26,
   "id": "5571c960",
   "metadata": {},
   "outputs": [
    {
     "data": {
      "text/html": [
       "<div>\n",
       "<style scoped>\n",
       "    .dataframe tbody tr th:only-of-type {\n",
       "        vertical-align: middle;\n",
       "    }\n",
       "\n",
       "    .dataframe tbody tr th {\n",
       "        vertical-align: top;\n",
       "    }\n",
       "\n",
       "    .dataframe thead th {\n",
       "        text-align: right;\n",
       "    }\n",
       "</style>\n",
       "<table border=\"1\" class=\"dataframe\">\n",
       "  <thead>\n",
       "    <tr style=\"text-align: right;\">\n",
       "      <th></th>\n",
       "      <th>city1</th>\n",
       "      <th>country1</th>\n",
       "      <th>city2</th>\n",
       "      <th>country2</th>\n",
       "    </tr>\n",
       "  </thead>\n",
       "  <tbody>\n",
       "    <tr>\n",
       "      <th>0</th>\n",
       "      <td>Athens</td>\n",
       "      <td>Greece</td>\n",
       "      <td>Bangkok</td>\n",
       "      <td>Thailand</td>\n",
       "    </tr>\n",
       "    <tr>\n",
       "      <th>1</th>\n",
       "      <td>Athens</td>\n",
       "      <td>Greece</td>\n",
       "      <td>Beijing</td>\n",
       "      <td>China</td>\n",
       "    </tr>\n",
       "    <tr>\n",
       "      <th>2</th>\n",
       "      <td>Athens</td>\n",
       "      <td>Greece</td>\n",
       "      <td>Berlin</td>\n",
       "      <td>Germany</td>\n",
       "    </tr>\n",
       "    <tr>\n",
       "      <th>3</th>\n",
       "      <td>Athens</td>\n",
       "      <td>Greece</td>\n",
       "      <td>Bern</td>\n",
       "      <td>Switzerland</td>\n",
       "    </tr>\n",
       "    <tr>\n",
       "      <th>4</th>\n",
       "      <td>Athens</td>\n",
       "      <td>Greece</td>\n",
       "      <td>Cairo</td>\n",
       "      <td>Egypt</td>\n",
       "    </tr>\n",
       "  </tbody>\n",
       "</table>\n",
       "</div>"
      ],
      "text/plain": [
       "    city1 country1    city2     country2\n",
       "0  Athens   Greece  Bangkok     Thailand\n",
       "1  Athens   Greece  Beijing        China\n",
       "2  Athens   Greece   Berlin      Germany\n",
       "3  Athens   Greece     Bern  Switzerland\n",
       "4  Athens   Greece    Cairo        Egypt"
      ]
     },
     "execution_count": 26,
     "metadata": {},
     "output_type": "execute_result"
    }
   ],
   "source": [
    "data=pd.read_csv('data/capitals.txt',delimiter=' ')\n",
    "data.columns=['city1','country1','city2','country2']\n",
    "data.head()"
   ]
  },
  {
   "cell_type": "code",
   "execution_count": 78,
   "id": "630d1f7c",
   "metadata": {},
   "outputs": [
    {
     "name": "stdout",
     "output_type": "stream",
     "text": [
      "Accuracy: 0.9192082407594425\n"
     ]
    }
   ],
   "source": [
    "acc=get_accuracy(word_embeddings,data)\n",
    "print(f'Accuracy: {acc}')"
   ]
  },
  {
   "cell_type": "markdown",
   "id": "ad1a4708",
   "metadata": {},
   "source": [
    "### pca"
   ]
  },
  {
   "cell_type": "code",
   "execution_count": 27,
   "id": "d53fc184",
   "metadata": {},
   "outputs": [],
   "source": [
    "from sklearn.decomposition import PCA\n",
    "import numpy as np"
   ]
  },
  {
   "cell_type": "code",
   "execution_count": 28,
   "id": "d49e1440",
   "metadata": {},
   "outputs": [],
   "source": [
    "def compute_pca(X,n_components=2):\n",
    "    '''\n",
    "    Parameters:\n",
    "    -----------\n",
    "        X: (m,n) word vector\n",
    "        n_components: int (number of components user wants to keep)\n",
    "    Returns:\n",
    "    --------\n",
    "        X_reduced: data transformed in dims.columns + regenerated original data\n",
    "    '''\n",
    "    X_demeaned=X-np.mean(X)\n",
    "    pca=PCA(n_components)\n",
    "    pcaTr=pca.fit(X_demeaned)\n",
    "    eigen_vals=pcaTr.explained_variance_\n",
    "    eigen_vectors=pcaTr.components_\n",
    "    X_reduced=pcaTr.transform(X_demeaned)\n",
    "    \n",
    "    return X_reduced"
   ]
  },
  {
   "cell_type": "code",
   "execution_count": 29,
   "id": "7241e413",
   "metadata": {},
   "outputs": [
    {
     "name": "stdout",
     "output_type": "stream",
     "text": [
      "Original matrix: \n",
      "[[4.17022005e-01 7.20324493e-01 1.14374817e-04 3.02332573e-01\n",
      "  1.46755891e-01 9.23385948e-02 1.86260211e-01 3.45560727e-01\n",
      "  3.96767474e-01 5.38816734e-01]\n",
      " [4.19194514e-01 6.85219500e-01 2.04452250e-01 8.78117436e-01\n",
      "  2.73875932e-02 6.70467510e-01 4.17304802e-01 5.58689828e-01\n",
      "  1.40386939e-01 1.98101489e-01]\n",
      " [8.00744569e-01 9.68261576e-01 3.13424178e-01 6.92322616e-01\n",
      "  8.76389152e-01 8.94606664e-01 8.50442114e-02 3.90547832e-02\n",
      "  1.69830420e-01 8.78142503e-01]]\n",
      "Reduced matrix: \n",
      "[[-0.43437323 -0.49820384]\n",
      " [-0.42077249  0.50351448]\n",
      " [ 0.85514571 -0.00531064]]\n"
     ]
    }
   ],
   "source": [
    "np.random.seed(1)\n",
    "X=np.random.rand(3,10)\n",
    "X_reduced=compute_pca(X,2)\n",
    "print(f'Original matrix: \\n{X}')\n",
    "print(f'Reduced matrix: \\n{X_reduced}')"
   ]
  },
  {
   "cell_type": "markdown",
   "id": "48aad5b1",
   "metadata": {},
   "source": [
    "***"
   ]
  },
  {
   "cell_type": "markdown",
   "id": "40eb8a51",
   "metadata": {},
   "source": [
    "#### pca with words"
   ]
  },
  {
   "cell_type": "code",
   "execution_count": 32,
   "id": "3162ef7d",
   "metadata": {},
   "outputs": [
    {
     "data": {
      "text/plain": [
       "(11, 300)"
      ]
     },
     "execution_count": 32,
     "metadata": {},
     "output_type": "execute_result"
    }
   ],
   "source": [
    "words=['oil','gas','happy','sad','city','town','village','country','continent','petroleum','joyful']\n",
    "X=np.array([word_embeddings[word] for word in words])\n",
    "X.shape"
   ]
  },
  {
   "cell_type": "code",
   "execution_count": 34,
   "id": "c6cf4d99",
   "metadata": {},
   "outputs": [
    {
     "data": {
      "image/png": "[encoded data removed]",
      "text/plain": [
       "<Figure size 432x288 with 1 Axes>"
      ]
     },
     "metadata": {
      "needs_background": "light"
     },
     "output_type": "display_data"
    }
   ],
   "source": [
    "result=compute_pca(X,2)\n",
    "plt.scatter(result[:,0],result[:,1])\n",
    "for i,word in enumerate(words):\n",
    "    plt.annotate(word,(result[i,0]-0.05,result[i,1]+0.1))"
   ]
  },
  {
   "cell_type": "markdown",
   "id": "02e727fb",
   "metadata": {},
   "source": [
    "Words with `similar meaning` are groupped as their `vectors are close` to each other."
   ]
  },
  {
   "cell_type": "code",
   "execution_count": null,
   "id": "b22a2517",
   "metadata": {},
   "outputs": [],
   "source": []
  }
 ],
 "metadata": {
  "kernelspec": {
   "display_name": "Python 3 (ipykernel)",
   "language": "python",
   "name": "python3"
  },
  "language_info": {
   "codemirror_mode": {
    "name": "ipython",
    "version": 3
   },
   "file_extension": ".py",
   "mimetype": "text/x-python",
   "name": "python",
   "nbconvert_exporter": "python",
   "pygments_lexer": "ipython3",
   "version": "3.8.12"
  }
 },
 "nbformat": 4,
 "nbformat_minor": 5
}
