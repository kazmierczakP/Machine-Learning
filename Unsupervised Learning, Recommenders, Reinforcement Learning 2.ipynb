{
 "cells": [
  {
   "cell_type": "markdown",
   "id": "b5c62285",
   "metadata": {},
   "source": [
    "# Recommenders"
   ]
  },
  {
   "cell_type": "markdown",
   "id": "c6701341",
   "metadata": {},
   "source": [
    "## Colaborative filtering"
   ]
  },
  {
   "cell_type": "markdown",
   "id": "aaa00c98",
   "metadata": {},
   "source": [
    "***"
   ]
  },
  {
   "cell_type": "markdown",
   "id": "9193c10d",
   "metadata": {},
   "source": [
    "Y - rating matrix with input from users\n",
    "\n",
    "R - matrix with info whether the user has rated the product (0 if no, 1 if yes)\n"
   ]
  },
  {
   "cell_type": "markdown",
   "id": "71304a1d",
   "metadata": {},
   "source": [
    "$$ \n",
    "\\mathbf{R}=\n",
    "\\begin{bmatrix} \n",
    "1 & 0 & ... & 1 \\\\\n",
    "1 & 1 & ... & 1 \\\\\n",
    "1 & 0 & ... & 0 \\\\\n",
    "0 & 1 & ... & 1 \\\\\n",
    "\\end{bmatrix} \n",
    "\\mathbf{Y}=\n",
    "\\begin{bmatrix} \n",
    "5 & 0 & ... & 1 \\\\\n",
    "3 & 4 & ... & 2 \\\\\n",
    "2 & 0 & ... & 0 \\\\\n",
    "0 & 5 & ... & 13 \\\\\n",
    "\\end{bmatrix}\n",
    "\\\\\n",
    "\\\\\n",
    "Y(i,j)=R(i,j)(w_j \\cdot x_i + b_j)\n",
    "$$"
   ]
  },
  {
   "cell_type": "markdown",
   "id": "995a560c",
   "metadata": {},
   "source": [
    "***"
   ]
  },
  {
   "cell_type": "markdown",
   "id": "751e1a72",
   "metadata": {},
   "source": [
    "`Left matrix` has the `ratng` of `users` (columns) for each `item` (row)"
   ]
  },
  {
   "cell_type": "markdown",
   "id": "8b8f1da5",
   "metadata": {},
   "source": [
    "`Right matrix` has a `feature scores for items` (x_1 how romantic item is) and (x_2 how much action it has)"
   ]
  },
  {
   "cell_type": "markdown",
   "id": "31fdc236",
   "metadata": {},
   "source": [
    "$$\n",
    "\\begin{bmatrix} \n",
    "5 & 5 & 0 & 0 \\\\\n",
    "5 & ? & ? & 0 \\\\\n",
    "? & 4 & 0 & ? \\\\\n",
    "0 & 0 & 5 & 4 \\\\\n",
    "\\end{bmatrix}\n",
    "\\begin{bmatrix} \n",
    "0.9 & 0 \\\\\n",
    "1.0 & 0.01 \\\\\n",
    "0.99 & 1.0 \\\\\n",
    "0 & 0.9 \\\\\n",
    "\\end{bmatrix}\n",
    "$$"
   ]
  },
  {
   "cell_type": "markdown",
   "id": "930881b0",
   "metadata": {},
   "source": [
    "$$\n",
    "w^{(1)}=\\begin{bmatrix} \n",
    "5  \\\\\n",
    "0 \\\\\n",
    "\\end{bmatrix}\n",
    "\\\\\n",
    "x^{(1)}=\\begin{bmatrix} \n",
    "0.99  \\\\\n",
    "0 \\\\\n",
    "\\end{bmatrix}\n",
    "$$"
   ]
  },
  {
   "cell_type": "markdown",
   "id": "08cd380e",
   "metadata": {},
   "source": [
    "$$ b_1=0 $$"
   ]
  },
  {
   "cell_type": "markdown",
   "id": "1e1bba98",
   "metadata": {},
   "source": [
    "$w^{(1)}$ stands for preferences for first user (likes romantic and doesn't like action)"
   ]
  },
  {
   "cell_type": "markdown",
   "id": "ffb191e1",
   "metadata": {},
   "source": [
    "$x^{(1)}$ stands for features for first item (very romantic and with no action)"
   ]
  },
  {
   "cell_type": "markdown",
   "id": "9f1f5167",
   "metadata": {},
   "source": [
    "user i rating score for j item: $$w^{(j)} \\cdot x^{(i)} + b^{(j)} = RATING$$"
   ]
  },
  {
   "cell_type": "markdown",
   "id": "4203486c",
   "metadata": {},
   "source": [
    "$$w^{(1)} \\cdot x^{(3)} + b^{(1)} = 4.95$$"
   ]
  },
  {
   "cell_type": "markdown",
   "id": "f905d2be",
   "metadata": {},
   "source": [
    "$w^{(j)},b^{(j)},x^{(i)}$ are generated basing on the `left matrix` by minimizing the cost function with respect to $w$, $x$ and $b$"
   ]
  },
  {
   "cell_type": "markdown",
   "id": "043b3620",
   "metadata": {},
   "source": [
    "$$ min J (w_j,x^{(i)},b_j)= \\frac{1}{2m_j} \\sum_{i:r(i,j)=1}^{} (w_j*x^{(i)}+b_j-y^{(i)})^{2} + {\\color{blue}{\\frac{\\lambda}{2m_j} \\sum_{k=0}^{n}(w^{k}_j)^{2}}} + {\\color{blue}{\\frac{\\lambda}{2m_j} \\sum_{k=0}^{n}(x^{k}_i)^{2}}} $$"
   ]
  },
  {
   "cell_type": "markdown",
   "id": "5d658a3b",
   "metadata": {},
   "source": [
    "As we have ratings of some users on some products, based on them we can adjust the w, and b and having them we can guess x for customers on new products"
   ]
  },
  {
   "cell_type": "markdown",
   "id": "b875abe4",
   "metadata": {},
   "source": [
    "#### Gradient descent"
   ]
  },
  {
   "cell_type": "markdown",
   "id": "0ade8d7f",
   "metadata": {},
   "source": [
    "$$\n",
    "w^{(j)}_i = w^{(j)}_i - \\alpha \\dfrac{\\partial}{\\partial w^{(j)}_i} J(w,x,b)\n",
    "\\\\\n",
    "b^{(j)}_i = b^{(j)}_i - \\alpha \\dfrac{\\partial}{\\partial b^{(j)}_i} J(w,x,b)\n",
    "\\\\\n",
    "x^{(i)}_k = x^{(i)}_k - \\alpha \\dfrac{\\partial}{\\partial x^{(i)}_k} J(w,x,b)\n",
    "$$"
   ]
  },
  {
   "cell_type": "markdown",
   "id": "6dce645f",
   "metadata": {},
   "source": [
    "#### mean normalization"
   ]
  },
  {
   "cell_type": "markdown",
   "id": "21d0521d",
   "metadata": {},
   "source": [
    "calculate `mean rate` for each `product` and assign it as default value for `new users`"
   ]
  },
  {
   "cell_type": "markdown",
   "id": "014d23a6",
   "metadata": {},
   "source": [
    "$$\n",
    "\\mu=\n",
    "\\begin{bmatrix} \n",
    "2.5 \\\\\n",
    "2.5 \\\\\n",
    "2 \\\\\n",
    "2.25 \\\\\n",
    "\\end{bmatrix}\n",
    "$$"
   ]
  },
  {
   "cell_type": "markdown",
   "id": "ca1685cc",
   "metadata": {},
   "source": [
    "Exact steps are to `subtract the mean from the raitng matrix` and add it back in the `algorythm` so that new users have some rating and not 0"
   ]
  },
  {
   "cell_type": "markdown",
   "id": "309689e3",
   "metadata": {},
   "source": [
    "a new rating martix would look like this:"
   ]
  },
  {
   "cell_type": "markdown",
   "id": "eb4ebb18",
   "metadata": {},
   "source": [
    "$$\n",
    "\\begin{bmatrix} \n",
    "2.5 & 2.5 & -2.5 & -2.5 & ? \\\\\n",
    "2.5 & ? & ? & -2.5 & ?\\\\\n",
    "? & 2 & -2 & ? & ?\\\\\n",
    "-1.25 & -1.25 & 2.75 & 1.47 & ?\\\\\n",
    "\\end{bmatrix}\n",
    "$$"
   ]
  },
  {
   "cell_type": "markdown",
   "id": "a0108b3a",
   "metadata": {},
   "source": [
    " $$w^{(j)} \\cdot x^{(i)} + b^{(j)} +\\mu_i = RATING$$"
   ]
  },
  {
   "cell_type": "markdown",
   "id": "984b2042",
   "metadata": {},
   "source": [
    "***"
   ]
  },
  {
   "cell_type": "markdown",
   "id": "0168eceb",
   "metadata": {},
   "source": [
    "#### gradient in tf"
   ]
  },
  {
   "cell_type": "code",
   "execution_count": 112,
   "id": "b8ecd890",
   "metadata": {},
   "outputs": [],
   "source": [
    "import numpy as np\n",
    "import tensorflow as tf\n",
    "from tensorflow import keras\n",
    "import matplotlib.pyplot as plt\n",
    "import pandas as pd"
   ]
  },
  {
   "cell_type": "code",
   "execution_count": 25,
   "id": "617664e0",
   "metadata": {},
   "outputs": [],
   "source": [
    "w=tf.Variable(3.0)\n",
    "x=1.0\n",
    "y=1.0\n",
    "alpha=0.01\n",
    "iterations=30\n",
    "for i in range(iterations):\n",
    "    with tf.GradientTape() as tape:\n",
    "        fwb=x*w\n",
    "        cost=(fwb-y)**2\n",
    "    [dJdw]=tape.gradient(cost,[w])\n",
    "    w.assign_add(-alpha*dJdw)"
   ]
  },
  {
   "cell_type": "code",
   "execution_count": 26,
   "id": "b1a66bf5",
   "metadata": {},
   "outputs": [
    {
     "data": {
      "text/plain": [
       "<tf.Variable 'Variable:0' shape=() dtype=float32, numpy=2.0909684>"
      ]
     },
     "execution_count": 26,
     "metadata": {},
     "output_type": "execute_result"
    }
   ],
   "source": [
    "w"
   ]
  },
  {
   "cell_type": "code",
   "execution_count": 27,
   "id": "112ab7ce",
   "metadata": {},
   "outputs": [
    {
     "data": {
      "image/png": "[encoded data removed]",
      "text/plain": [
       "<Figure size 432x288 with 1 Axes>"
      ]
     },
     "metadata": {
      "needs_background": "light"
     },
     "output_type": "display_data"
    }
   ],
   "source": [
    "w_=np.linspace(-2,4,1000)\n",
    "loss=(x*w_-y)**2\n",
    "plt.plot(w_,loss)\n",
    "plt.xlabel('w')\n",
    "plt.ylabel('loss')\n",
    "plt.grid()"
   ]
  },
  {
   "cell_type": "markdown",
   "id": "25fb47d6",
   "metadata": {},
   "source": [
    "***"
   ]
  },
  {
   "cell_type": "code",
   "execution_count": 86,
   "id": "7eede14e",
   "metadata": {},
   "outputs": [],
   "source": [
    "import numpy as np\n",
    "from numpy import loadtxt\n",
    "import tensorflow as tf\n",
    "from tensorflow import keras"
   ]
  },
  {
   "cell_type": "code",
   "execution_count": 87,
   "id": "45e65e30",
   "metadata": {},
   "outputs": [],
   "source": [
    "def normalizeRatings(Y, R):\n",
    "    \"\"\"\n",
    "    Preprocess data by subtracting mean rating for every movie (every row).\n",
    "    Only include real ratings R(i,j)=1.\n",
    "    [Ynorm, Ymean] = normalizeRatings(Y, R) normalized Y so that each movie\n",
    "    has a rating of 0 on average. Unrated moves then have a mean rating (0)\n",
    "    Returns the mean rating in Ymean.\n",
    "    \"\"\"\n",
    "    Ymean = (np.sum(Y*R,axis=1)/(np.sum(R, axis=1)+1e-12)).reshape(-1,1)\n",
    "    Ynorm = Y - np.multiply(Ymean, R)\n",
    "    return(Ynorm, Ymean)\n",
    "\n",
    "def load_precalc_params():\n",
    "\n",
    "    file = open('./data/ml-latest-small/small_movies_X.csv', 'rb')\n",
    "    X = loadtxt(file, delimiter = \",\")\n",
    "\n",
    "    file = open('./data/ml-latest-small/small_movies_W.csv', 'rb')\n",
    "    W = loadtxt(file,delimiter = \",\")\n",
    "\n",
    "    file = open('./data/ml-latest-small/small_movies_b.csv', 'rb')\n",
    "    b = loadtxt(file,delimiter = \",\")\n",
    "    b = b.reshape(1,-1)\n",
    "    num_movies, num_features = X.shape\n",
    "    num_users,_ = W.shape\n",
    "    return(X, W, b, num_movies, num_features, num_users)\n",
    "   \n",
    "def load_ratings():\n",
    "    file = open('./data/ml-latest-small/small_movies_Y.csv', 'rb')\n",
    "    Y = loadtxt(file,delimiter = \",\")\n",
    "\n",
    "    file = open('./data/ml-latest-small/small_movies_R.csv', 'rb')\n",
    "    R = loadtxt(file,delimiter = \",\")\n",
    "    return(Y,R)\n",
    "\n",
    "def load_Movie_List_pd():\n",
    "    \"\"\" returns df with and index of movies in the order they are in in the Y matrix \"\"\"\n",
    "    df = pd.read_csv('./data/ml-latest-small/small_movie_list.csv', header=0, index_col=0,  delimiter=',', quotechar='\"')\n",
    "    mlist = df[\"title\"].to_list()\n",
    "    return(mlist, df)"
   ]
  },
  {
   "cell_type": "code",
   "execution_count": 88,
   "id": "a498ca94",
   "metadata": {},
   "outputs": [
    {
     "name": "stdout",
     "output_type": "stream",
     "text": [
      "x: (4778, 10)\n",
      "w: (443, 10)\n",
      "b: (1, 443)\n",
      "y: (4778, 443)\n",
      "r: (4778, 443)\n",
      "num_features: 10\n",
      "num_users: 443\n",
      "num_movies: 4778\n"
     ]
    }
   ],
   "source": [
    "x,w,b,num_movies,num_features,num_users=load_precalc_params()\n",
    "y,r=load_ratings()\n",
    "print(f'x: {x.shape}')\n",
    "print(f'w: {w.shape}')\n",
    "print(f'b: {b.shape}')\n",
    "print(f'y: {y.shape}')\n",
    "print(f'r: {r.shape}')\n",
    "print(f'num_features: {num_features}')\n",
    "print(f'num_users: {num_users}')\n",
    "print(f'num_movies: {num_movies}')"
   ]
  },
  {
   "cell_type": "code",
   "execution_count": 89,
   "id": "38d0b229",
   "metadata": {},
   "outputs": [
    {
     "data": {
      "text/plain": [
       "3.4"
      ]
     },
     "execution_count": 89,
     "metadata": {},
     "output_type": "execute_result"
    }
   ],
   "source": [
    "mu=np.mean(y[0,r[0,:].astype(bool)])\n",
    "mu"
   ]
  },
  {
   "cell_type": "code",
   "execution_count": 90,
   "id": "881348e1",
   "metadata": {},
   "outputs": [
    {
     "data": {
      "text/plain": [
       "array([ 0.47935075,  0.4766997 ,  0.48794055, -0.11980432, -0.32864022,\n",
       "        0.4232462 , -0.3951074 , -0.2383076 , -0.36121953, -0.18090296])"
      ]
     },
     "execution_count": 90,
     "metadata": {},
     "output_type": "execute_result"
    }
   ],
   "source": [
    "w[0]"
   ]
  },
  {
   "cell_type": "code",
   "execution_count": 91,
   "id": "b133ffd9",
   "metadata": {},
   "outputs": [
    {
     "data": {
      "text/plain": [
       "array([-0.03328682,  1.1667464 , -0.5064895 ,  0.1250965 ,  1.5347596 ,\n",
       "       -0.21013564,  0.10417578, -0.349303  ,  0.75385165, -0.20810875])"
      ]
     },
     "execution_count": 91,
     "metadata": {},
     "output_type": "execute_result"
    }
   ],
   "source": [
    "x[0]"
   ]
  },
  {
   "cell_type": "code",
   "execution_count": 92,
   "id": "d5a400f3",
   "metadata": {},
   "outputs": [
    {
     "data": {
      "text/plain": [
       "0.23609531"
      ]
     },
     "execution_count": 92,
     "metadata": {},
     "output_type": "execute_result"
    }
   ],
   "source": [
    "b[0,0]"
   ]
  },
  {
   "cell_type": "code",
   "execution_count": 93,
   "id": "f2a4ed5b",
   "metadata": {},
   "outputs": [
    {
     "data": {
      "text/plain": [
       "0.0"
      ]
     },
     "execution_count": 93,
     "metadata": {},
     "output_type": "execute_result"
    }
   ],
   "source": [
    "y[0,0]"
   ]
  },
  {
   "cell_type": "code",
   "execution_count": 94,
   "id": "90ad8ccd",
   "metadata": {},
   "outputs": [
    {
     "data": {
      "text/plain": [
       "0.0738194323347234"
      ]
     },
     "execution_count": 94,
     "metadata": {},
     "output_type": "execute_result"
    }
   ],
   "source": [
    "(np.dot(x[0],w[0])+b[0,0]-y[0,0])**2"
   ]
  },
  {
   "cell_type": "markdown",
   "id": "451166cb",
   "metadata": {},
   "source": [
    "multipy by r so that we cont add cost for case where y=0 (no rating)"
   ]
  },
  {
   "cell_type": "code",
   "execution_count": 95,
   "id": "3c9ec39f",
   "metadata": {},
   "outputs": [
    {
     "data": {
      "text/plain": [
       "0.0"
      ]
     },
     "execution_count": 95,
     "metadata": {},
     "output_type": "execute_result"
    }
   ],
   "source": [
    "r[0,0]*(np.dot(x[0],w[0])+b[0,0]-y[0,0])**2"
   ]
  },
  {
   "cell_type": "code",
   "execution_count": 96,
   "id": "71bb11b4",
   "metadata": {},
   "outputs": [],
   "source": [
    "def cost(x,w,b,y,r,lambda_):\n",
    "    \"\"\"\n",
    "    Calculates cost for the content-based filtering\n",
    "    \n",
    "    Parameters:\n",
    "    -----------\n",
    "    x: array (num_movies,features)\n",
    "        matrix of item features\n",
    "    w array (num_users, num_features)\n",
    "        matrix of user parameters\n",
    "    b: array\n",
    "        vector of user parameters\n",
    "    y: array\n",
    "        matrix of user ratings\n",
    "    r: array\n",
    "        matrix with info whether film was rated by user\n",
    "    \n",
    "    Returns:\n",
    "    --------\n",
    "    J: float\n",
    "        cost\n",
    "    \"\"\"\n",
    "    \n",
    "    nm,nu=y.shape\n",
    "    J=0\n",
    "    \n",
    "    for i in range(nu):\n",
    "        w_=w[i]\n",
    "        b_=b[0,i]\n",
    "        for j in range(nm):\n",
    "            x_=x[j]\n",
    "            y_=y[j,i]\n",
    "            r_=r[j,i]\n",
    "            J+=(r_*(np.dot(w_,x_)+b_-y_))**2\n",
    "            J+=(lambda_/2)*(np.sum(w**2)+np.sum(x**2))\n",
    "    J=J/2\n",
    "    \n",
    "    return J"
   ]
  },
  {
   "cell_type": "code",
   "execution_count": 97,
   "id": "fc5514a1",
   "metadata": {},
   "outputs": [],
   "source": [
    "def cost_v(x,w,b,y,r,lambda_):\n",
    "    \"\"\"\n",
    "    Calculates cost for the content-based filtering\n",
    "    \n",
    "    Parameters:\n",
    "    -----------\n",
    "    x: array (num_movies,features)\n",
    "        matrix of item features\n",
    "    w array (num_users, num_features)\n",
    "        matrix of user parameters\n",
    "    b: array\n",
    "        vector of user parameters\n",
    "    y: array\n",
    "        matrix of user ratings\n",
    "    r: array\n",
    "        matrix with info whether film was rated by user\n",
    "    \n",
    "    Returns:\n",
    "    --------\n",
    "    J: float\n",
    "        cost\n",
    "    \"\"\"\n",
    "    \n",
    "    j=(tf.linalg.matmul(x,tf.transpose(w))+b-y)*R\n",
    "    J=0.5*tf.reduce_sum(j**2)+(lambda_/2)*(tf.reduce_sum(x**2)+tf.reduce_sum(w**2))\n",
    "    \n",
    "    return J"
   ]
  },
  {
   "cell_type": "code",
   "execution_count": 98,
   "id": "a90c768e",
   "metadata": {},
   "outputs": [
    {
     "name": "stdout",
     "output_type": "stream",
     "text": [
      "cost: 13.670725805579915\n"
     ]
    }
   ],
   "source": [
    "nu=4\n",
    "nm=5\n",
    "nf=3\n",
    "x_=x[:nm,:nf]\n",
    "w_=w[:nu,:nf]\n",
    "b_=b[0:nu].reshape(1,-1)\n",
    "y_=y[:nm,:nu]\n",
    "r_=r[:nm,:nu]\n",
    "J=cost(x_,w_,b_,y_,r_,0)\n",
    "print(f'cost: {J}')"
   ]
  },
  {
   "cell_type": "code",
   "execution_count": 99,
   "id": "77d9bc51",
   "metadata": {},
   "outputs": [
    {
     "name": "stdout",
     "output_type": "stream",
     "text": [
      "cost: 157.90184766437093\n"
     ]
    }
   ],
   "source": [
    "J=cost(x_,w_,b_,y_,r_,1.5)\n",
    "print(f'cost: {J}')"
   ]
  },
  {
   "cell_type": "markdown",
   "id": "7579d6b6",
   "metadata": {},
   "source": [
    "***"
   ]
  },
  {
   "cell_type": "code",
   "execution_count": null,
   "id": "8a3ac96b",
   "metadata": {},
   "outputs": [],
   "source": [
    "x,w,b,num_movies,num_features,num_users=load_precalc_params()\n",
    "y,r=load_ratings()"
   ]
  },
  {
   "cell_type": "code",
   "execution_count": 113,
   "id": "e3e80479",
   "metadata": {},
   "outputs": [],
   "source": [
    "movie_list,movie_list_df=load_Movie_List_pd()"
   ]
  },
  {
   "cell_type": "code",
   "execution_count": 115,
   "id": "b10ef029",
   "metadata": {},
   "outputs": [
    {
     "name": "stdout",
     "output_type": "stream",
     "text": [
      "rated: 5.0 for Shrek (2001)\n",
      "rated: 2.0 for Amelie (Fabuleux destin d'Amélie Poulain, Le) (2001)\n",
      "rated: 1.0 for Last Orders (2001)\n",
      "rated: 3.0 for Lucky Break (2001)\n",
      "rated: 1.0 for Pirates of the Caribbean: The Curse of the Black Pearl (2003)\n",
      "rated: 5.0 for Lord of the Rings: The Return of the King, The (2003)\n",
      "rated: 5.0 for Incredibles, The (2004)\n",
      "rated: 3.0 for Inception (2010)\n"
     ]
    }
   ],
   "source": [
    "my_ratings=np.zeros(num_movies)\n",
    "\n",
    "my_ratings[929]=5\n",
    "my_ratings[246]=5\n",
    "my_ratings[2716]=3\n",
    "my_ratings[1150]=5\n",
    "my_ratings[382]=2\n",
    "my_ratings[432]=1\n",
    "my_ratings[466]=3\n",
    "my_ratings[793]=1\n",
    "my_rated=[i for i in range(len(my_ratings)) if my_ratings[i]>0]\n",
    "for i in range(len(my_ratings)):\n",
    "    if my_ratings[i]>0:\n",
    "        print(f'rated: {my_ratings[i]} for {movie_list_df.loc[i,\"title\"]}')"
   ]
  },
  {
   "cell_type": "code",
   "execution_count": 101,
   "id": "cda57bfa",
   "metadata": {},
   "outputs": [],
   "source": [
    "Y,R=load_ratings()\n",
    "Y=np.c_[my_ratings,Y]\n",
    "R=np.c_[(my_ratings!=0).astype(int),R]\n",
    "\n",
    "Ynorm,Ymean=normalizeRatings(Y,R)"
   ]
  },
  {
   "cell_type": "code",
   "execution_count": 102,
   "id": "a4547f63",
   "metadata": {},
   "outputs": [],
   "source": [
    "nm,nu=Y.shape\n",
    "nf=100\n",
    "\n",
    "tf.random.set_seed(1234)\n",
    "W=tf.Variable(tf.random.normal((nu,nf),dtype=tf.float64),name='w')\n",
    "X=tf.Variable(tf.random.normal((nm,nf),dtype=tf.float64),name='x')\n",
    "b=tf.Variable(tf.random.normal((1,nu),dtype=tf.float64),name='b')\n",
    "\n",
    "optimizer=keras.optimizers.Adam(learning_rate=1e-1)"
   ]
  },
  {
   "cell_type": "code",
   "execution_count": 103,
   "id": "5faa4ebe",
   "metadata": {},
   "outputs": [
    {
     "name": "stdout",
     "output_type": "stream",
     "text": [
      "iter: 0, Loss: 2320945.212\n",
      "iter: 20, Loss: 136153.601\n",
      "iter: 40, Loss: 51851.330\n",
      "iter: 60, Loss: 24593.162\n",
      "iter: 80, Loss: 13627.901\n",
      "iter: 100, Loss: 8486.129\n",
      "iter: 120, Loss: 5806.522\n",
      "iter: 140, Loss: 4310.591\n",
      "iter: 160, Loss: 3434.304\n",
      "iter: 180, Loss: 2901.147\n"
     ]
    }
   ],
   "source": [
    "iterations=200\n",
    "lambda_=1\n",
    "\n",
    "for i in range(iterations):\n",
    "    with tf.GradientTape() as tape:\n",
    "        cost_value=cost_v(X,W,b,Ynorm,R,lambda_)\n",
    "    grads=tape.gradient(cost_value,[X,W,b])\n",
    "    optimizer.apply_gradients(zip(grads,[X,W,b]))\n",
    "    \n",
    "    if i%20==0:\n",
    "        print(f'iter: {i}, Loss: {cost_value:.3f}')"
   ]
  },
  {
   "cell_type": "code",
   "execution_count": 118,
   "id": "d56b0fe3",
   "metadata": {},
   "outputs": [
    {
     "name": "stdout",
     "output_type": "stream",
     "text": [
      "Orig rating: 5.0, predicted: 4.844267689123638 for movie Shrek (2001)\n",
      "Orig rating: 2.0, predicted: 2.1776415980500943 for movie Amelie (Fabuleux destin d'Amélie Poulain, Le) (2001)\n",
      "Orig rating: 1.0, predicted: 1.1544582859904946 for movie Last Orders (2001)\n",
      "Orig rating: 3.0, predicted: 2.9573982209074097 for movie Lucky Break (2001)\n",
      "Orig rating: 1.0, predicted: 1.2311395762653299 for movie Pirates of the Caribbean: The Curse of the Black Pearl (2003)\n",
      "Orig rating: 5.0, predicted: 4.909370783103678 for movie Lord of the Rings: The Return of the King, The (2003)\n",
      "Orig rating: 5.0, predicted: 4.732906717785769 for movie Incredibles, The (2004)\n",
      "Orig rating: 3.0, predicted: 2.9931342220221175 for movie Inception (2010)\n",
      "Predicting rating: 1.591625667666703 for movie Delirium (2014)\n",
      "Predicting rating: 2.2314083041655377 for movie Laggies (2014)\n",
      "Predicting rating: 3.368068887583902 for movie One I Love, The (2014)\n",
      "Predicting rating: 0.4128558622217039 for movie Martin Lawrence Live: Runteldat (2002)\n",
      "Predicting rating: 2.4334615474071652 for movie Son of the Bride (Hijo de la novia, El) (2001)\n",
      "Predicting rating: 1.6306413409967813 for movie Colourful (Karafuru) (2010)\n",
      "Predicting rating: 2.471722845635119 for movie English Vinglish (2012)\n"
     ]
    }
   ],
   "source": [
    "p=np.matmul(X.numpy(),np.transpose(W.numpy()))+b.numpy()\n",
    "pm=p+Ymean\n",
    "\n",
    "my_predictions=pm[:,0]\n",
    "ix=tf.argsort(my_predictions,direction='DESCENDING')\n",
    "\n",
    "for i in range(len(my_ratings)):\n",
    "    if my_ratings[i]>0:\n",
    "        print(f'Orig rating: {my_ratings[i]}, predicted: {my_predictions[i]} for movie {movie_list[i]}')\n",
    "        \n",
    "for i in range(10):\n",
    "    j=ix[i]\n",
    "    if j not in my_rated:\n",
    "        print(f'Predicting rating: {my_predictions[i]} for movie {movie_list[j]}')"
   ]
  },
  {
   "cell_type": "markdown",
   "id": "10a49a7b",
   "metadata": {},
   "source": [
    "***"
   ]
  },
  {
   "cell_type": "markdown",
   "id": "03ef31cb",
   "metadata": {},
   "source": [
    "## Content-based filtering"
   ]
  },
  {
   "cell_type": "markdown",
   "id": "a6908204",
   "metadata": {},
   "source": [
    "For `collaborative filtering` you generate `two vectors` (user and item) whose dot product gives a rating. Vectors were derrived `from ratings`.\n",
    "\n",
    "For `content-based filtering` also generates `two vectors` (user and item) but to make them uses other information available about them. Additional info is fed to `neural network that generates the vectors`.\n",
    "\n",
    "User vector and iten vector have to be of the same size (amount of features)."
   ]
  },
  {
   "cell_type": "code",
   "execution_count": 25,
   "id": "8433ffa8",
   "metadata": {},
   "outputs": [],
   "source": [
    "import numpy as np\n",
    "import numpy.ma as ma\n",
    "import pandas as pd\n",
    "import tensorflow as tf\n",
    "from tensorflow import keras\n",
    "from sklearn.preprocessing import StandardScaler, MinMaxScaler\n",
    "from sklearn.model_selection import train_test_split\n",
    "import tabulate\n",
    "import csv\n",
    "from collections import defaultdict\n",
    "from numpy import genfromtxt\n",
    "import pickle\n",
    "pd.set_option('display.precision',1)"
   ]
  },
  {
   "cell_type": "code",
   "execution_count": 26,
   "id": "2ae88706",
   "metadata": {},
   "outputs": [
    {
     "data": {
      "text/html": [
       "<div>\n",
       "<style scoped>\n",
       "    .dataframe tbody tr th:only-of-type {\n",
       "        vertical-align: middle;\n",
       "    }\n",
       "\n",
       "    .dataframe tbody tr th {\n",
       "        vertical-align: top;\n",
       "    }\n",
       "\n",
       "    .dataframe thead th {\n",
       "        text-align: right;\n",
       "    }\n",
       "</style>\n",
       "<table border=\"1\" class=\"dataframe\">\n",
       "  <thead>\n",
       "    <tr style=\"text-align: right;\">\n",
       "      <th></th>\n",
       "      <th>movie id</th>\n",
       "      <th>num ratings</th>\n",
       "      <th>ave rating</th>\n",
       "      <th>title</th>\n",
       "      <th>genres</th>\n",
       "    </tr>\n",
       "  </thead>\n",
       "  <tbody>\n",
       "    <tr>\n",
       "      <th>0</th>\n",
       "      <td>4993</td>\n",
       "      <td>198</td>\n",
       "      <td>4.1</td>\n",
       "      <td>Lord of the Rings: The Fellowship of the Ring,...</td>\n",
       "      <td>Adventure|Fantasy</td>\n",
       "    </tr>\n",
       "    <tr>\n",
       "      <th>1</th>\n",
       "      <td>5952</td>\n",
       "      <td>188</td>\n",
       "      <td>4.0</td>\n",
       "      <td>Lord of the Rings: The Two Towers, The</td>\n",
       "      <td>Adventure|Fantasy</td>\n",
       "    </tr>\n",
       "    <tr>\n",
       "      <th>2</th>\n",
       "      <td>7153</td>\n",
       "      <td>185</td>\n",
       "      <td>4.1</td>\n",
       "      <td>Lord of the Rings: The Return of the King, The</td>\n",
       "      <td>Action|Adventure|Drama|Fantasy</td>\n",
       "    </tr>\n",
       "    <tr>\n",
       "      <th>3</th>\n",
       "      <td>4306</td>\n",
       "      <td>170</td>\n",
       "      <td>3.9</td>\n",
       "      <td>Shrek</td>\n",
       "      <td>Adventure|Animation|Children|Comedy|Fantasy|Ro...</td>\n",
       "    </tr>\n",
       "    <tr>\n",
       "      <th>4</th>\n",
       "      <td>58559</td>\n",
       "      <td>149</td>\n",
       "      <td>4.2</td>\n",
       "      <td>Dark Knight, The</td>\n",
       "      <td>Action|Crime|Drama</td>\n",
       "    </tr>\n",
       "    <tr>\n",
       "      <th>5</th>\n",
       "      <td>6539</td>\n",
       "      <td>149</td>\n",
       "      <td>3.8</td>\n",
       "      <td>Pirates of the Caribbean: The Curse of the Bla...</td>\n",
       "      <td>Action|Adventure|Comedy|Fantasy</td>\n",
       "    </tr>\n",
       "    <tr>\n",
       "      <th>6</th>\n",
       "      <td>79132</td>\n",
       "      <td>143</td>\n",
       "      <td>4.1</td>\n",
       "      <td>Inception</td>\n",
       "      <td>Action|Crime|Drama|Mystery|Sci-Fi|Thriller</td>\n",
       "    </tr>\n",
       "    <tr>\n",
       "      <th>7</th>\n",
       "      <td>6377</td>\n",
       "      <td>141</td>\n",
       "      <td>4.0</td>\n",
       "      <td>Finding Nemo</td>\n",
       "      <td>Adventure|Animation|Children|Comedy</td>\n",
       "    </tr>\n",
       "    <tr>\n",
       "      <th>8</th>\n",
       "      <td>4886</td>\n",
       "      <td>132</td>\n",
       "      <td>3.9</td>\n",
       "      <td>Monsters, Inc.</td>\n",
       "      <td>Adventure|Animation|Children|Comedy|Fantasy</td>\n",
       "    </tr>\n",
       "    <tr>\n",
       "      <th>9</th>\n",
       "      <td>7361</td>\n",
       "      <td>131</td>\n",
       "      <td>4.2</td>\n",
       "      <td>Eternal Sunshine of the Spotless Mind</td>\n",
       "      <td>Drama|Romance|Sci-Fi</td>\n",
       "    </tr>\n",
       "  </tbody>\n",
       "</table>\n",
       "</div>"
      ],
      "text/plain": [
       "   movie id  num ratings  ave rating  \\\n",
       "0      4993          198         4.1   \n",
       "1      5952          188         4.0   \n",
       "2      7153          185         4.1   \n",
       "3      4306          170         3.9   \n",
       "4     58559          149         4.2   \n",
       "5      6539          149         3.8   \n",
       "6     79132          143         4.1   \n",
       "7      6377          141         4.0   \n",
       "8      4886          132         3.9   \n",
       "9      7361          131         4.2   \n",
       "\n",
       "                                               title  \\\n",
       "0  Lord of the Rings: The Fellowship of the Ring,...   \n",
       "1             Lord of the Rings: The Two Towers, The   \n",
       "2     Lord of the Rings: The Return of the King, The   \n",
       "3                                              Shrek   \n",
       "4                                   Dark Knight, The   \n",
       "5  Pirates of the Caribbean: The Curse of the Bla...   \n",
       "6                                          Inception   \n",
       "7                                       Finding Nemo   \n",
       "8                                     Monsters, Inc.   \n",
       "9              Eternal Sunshine of the Spotless Mind   \n",
       "\n",
       "                                              genres  \n",
       "0                                  Adventure|Fantasy  \n",
       "1                                  Adventure|Fantasy  \n",
       "2                     Action|Adventure|Drama|Fantasy  \n",
       "3  Adventure|Animation|Children|Comedy|Fantasy|Ro...  \n",
       "4                                 Action|Crime|Drama  \n",
       "5                    Action|Adventure|Comedy|Fantasy  \n",
       "6         Action|Crime|Drama|Mystery|Sci-Fi|Thriller  \n",
       "7                Adventure|Animation|Children|Comedy  \n",
       "8        Adventure|Animation|Children|Comedy|Fantasy  \n",
       "9                               Drama|Romance|Sci-Fi  "
      ]
     },
     "execution_count": 26,
     "metadata": {},
     "output_type": "execute_result"
    }
   ],
   "source": [
    "top10_df=pd.read_csv('./data/recommenders/content_top10_df.csv')\n",
    "bygenre_df=pd.read_csv('./data/recommenders/content_bygenre_df.csv')\n",
    "top10_df"
   ]
  },
  {
   "cell_type": "code",
   "execution_count": 27,
   "id": "3a887103",
   "metadata": {},
   "outputs": [
    {
     "data": {
      "text/html": [
       "<div>\n",
       "<style scoped>\n",
       "    .dataframe tbody tr th:only-of-type {\n",
       "        vertical-align: middle;\n",
       "    }\n",
       "\n",
       "    .dataframe tbody tr th {\n",
       "        vertical-align: top;\n",
       "    }\n",
       "\n",
       "    .dataframe thead th {\n",
       "        text-align: right;\n",
       "    }\n",
       "</style>\n",
       "<table border=\"1\" class=\"dataframe\">\n",
       "  <thead>\n",
       "    <tr style=\"text-align: right;\">\n",
       "      <th></th>\n",
       "      <th>genre</th>\n",
       "      <th>num movies</th>\n",
       "      <th>ave rating/genre</th>\n",
       "      <th>ratings per genre</th>\n",
       "    </tr>\n",
       "  </thead>\n",
       "  <tbody>\n",
       "    <tr>\n",
       "      <th>0</th>\n",
       "      <td>Action</td>\n",
       "      <td>321</td>\n",
       "      <td>3.4</td>\n",
       "      <td>10377</td>\n",
       "    </tr>\n",
       "    <tr>\n",
       "      <th>1</th>\n",
       "      <td>Adventure</td>\n",
       "      <td>234</td>\n",
       "      <td>3.4</td>\n",
       "      <td>8785</td>\n",
       "    </tr>\n",
       "    <tr>\n",
       "      <th>2</th>\n",
       "      <td>Animation</td>\n",
       "      <td>76</td>\n",
       "      <td>3.6</td>\n",
       "      <td>2588</td>\n",
       "    </tr>\n",
       "    <tr>\n",
       "      <th>3</th>\n",
       "      <td>Children</td>\n",
       "      <td>69</td>\n",
       "      <td>3.4</td>\n",
       "      <td>2472</td>\n",
       "    </tr>\n",
       "    <tr>\n",
       "      <th>4</th>\n",
       "      <td>Comedy</td>\n",
       "      <td>326</td>\n",
       "      <td>3.4</td>\n",
       "      <td>8911</td>\n",
       "    </tr>\n",
       "    <tr>\n",
       "      <th>5</th>\n",
       "      <td>Crime</td>\n",
       "      <td>139</td>\n",
       "      <td>3.5</td>\n",
       "      <td>4671</td>\n",
       "    </tr>\n",
       "    <tr>\n",
       "      <th>6</th>\n",
       "      <td>Documentary</td>\n",
       "      <td>13</td>\n",
       "      <td>3.8</td>\n",
       "      <td>280</td>\n",
       "    </tr>\n",
       "    <tr>\n",
       "      <th>7</th>\n",
       "      <td>Drama</td>\n",
       "      <td>342</td>\n",
       "      <td>3.6</td>\n",
       "      <td>10201</td>\n",
       "    </tr>\n",
       "    <tr>\n",
       "      <th>8</th>\n",
       "      <td>Fantasy</td>\n",
       "      <td>124</td>\n",
       "      <td>3.4</td>\n",
       "      <td>4468</td>\n",
       "    </tr>\n",
       "    <tr>\n",
       "      <th>9</th>\n",
       "      <td>Horror</td>\n",
       "      <td>56</td>\n",
       "      <td>3.2</td>\n",
       "      <td>1345</td>\n",
       "    </tr>\n",
       "    <tr>\n",
       "      <th>10</th>\n",
       "      <td>Mystery</td>\n",
       "      <td>68</td>\n",
       "      <td>3.6</td>\n",
       "      <td>2497</td>\n",
       "    </tr>\n",
       "    <tr>\n",
       "      <th>11</th>\n",
       "      <td>Romance</td>\n",
       "      <td>151</td>\n",
       "      <td>3.4</td>\n",
       "      <td>4468</td>\n",
       "    </tr>\n",
       "    <tr>\n",
       "      <th>12</th>\n",
       "      <td>Sci-Fi</td>\n",
       "      <td>174</td>\n",
       "      <td>3.4</td>\n",
       "      <td>5894</td>\n",
       "    </tr>\n",
       "    <tr>\n",
       "      <th>13</th>\n",
       "      <td>Thriller</td>\n",
       "      <td>245</td>\n",
       "      <td>3.4</td>\n",
       "      <td>7659</td>\n",
       "    </tr>\n",
       "  </tbody>\n",
       "</table>\n",
       "</div>"
      ],
      "text/plain": [
       "          genre  num movies  ave rating/genre  ratings per genre\n",
       "0        Action         321               3.4              10377\n",
       "1     Adventure         234               3.4               8785\n",
       "2     Animation          76               3.6               2588\n",
       "3      Children          69               3.4               2472\n",
       "4        Comedy         326               3.4               8911\n",
       "5         Crime         139               3.5               4671\n",
       "6   Documentary          13               3.8                280\n",
       "7         Drama         342               3.6              10201\n",
       "8       Fantasy         124               3.4               4468\n",
       "9        Horror          56               3.2               1345\n",
       "10      Mystery          68               3.6               2497\n",
       "11      Romance         151               3.4               4468\n",
       "12       Sci-Fi         174               3.4               5894\n",
       "13     Thriller         245               3.4               7659"
      ]
     },
     "execution_count": 27,
     "metadata": {},
     "output_type": "execute_result"
    }
   ],
   "source": [
    "bygenre_df"
   ]
  },
  {
   "cell_type": "code",
   "execution_count": 28,
   "id": "5c4d089b",
   "metadata": {},
   "outputs": [],
   "source": [
    "def load_data():\n",
    "    ''' called to load preprepared data for the lab '''\n",
    "    item_train = genfromtxt('./data/recommenders/content_item_train.csv', delimiter=',')\n",
    "    user_train = genfromtxt('./data/recommenders/content_user_train.csv', delimiter=',')\n",
    "    y_train    = genfromtxt('./data/recommenders/content_y_train.csv', delimiter=',')\n",
    "    with open('./data/recommenders/content_item_train_header.txt', newline='') as f:    #csv reader handles quoted strings better\n",
    "        item_features = list(csv.reader(f))[0]\n",
    "    with open('./data/recommenders/content_user_train_header.txt', newline='') as f:\n",
    "        user_features = list(csv.reader(f))[0]\n",
    "    item_vecs = genfromtxt('./data/recommenders/content_item_vecs.csv', delimiter=',')\n",
    "\n",
    "    movie_dict = defaultdict(dict)\n",
    "    count = 0\n",
    "#    with open('./data/movies.csv', newline='') as csvfile:\n",
    "    with open('./data/recommenders/content_movie_list.csv', newline='') as csvfile:\n",
    "        reader = csv.reader(csvfile, delimiter=',', quotechar='\"')\n",
    "        for line in reader:\n",
    "            if count == 0:\n",
    "                count += 1  #skip header\n",
    "                #print(line) print\n",
    "            else:\n",
    "                count += 1\n",
    "                movie_id = int(line[0])\n",
    "                movie_dict[movie_id][\"title\"] = line[1]\n",
    "                movie_dict[movie_id][\"genres\"] = line[2]\n",
    "\n",
    "    with open('./data/recommenders/content_user_to_genre.pickle', 'rb') as f:\n",
    "        user_to_genre = pickle.load(f)\n",
    "\n",
    "    return(item_train, user_train, y_train, item_features, user_features, item_vecs, movie_dict, user_to_genre)\n"
   ]
  },
  {
   "cell_type": "code",
   "execution_count": 56,
   "id": "dbf3dc2f",
   "metadata": {},
   "outputs": [
    {
     "name": "stdout",
     "output_type": "stream",
     "text": [
      "Number of train vectors: 50884\n",
      "Number of train vectors: 50884\n"
     ]
    }
   ],
   "source": [
    "item_train,user_train,y_train,item_features,user_features,item_vecs,movie_dict,user_to_genre=load_data()\n",
    "\n",
    "num_user_features=user_train.shape[1]-3\n",
    "num_item_features=item_train.shape[1]-1\n",
    "uvs=3\n",
    "ivs=3\n",
    "u_s=3\n",
    "i_s=1\n",
    "print(f'Number of train vectors: {len(item_train)}')\n",
    "print(f'Number of train vectors: {len(user_train)}')"
   ]
  },
  {
   "cell_type": "code",
   "execution_count": 57,
   "id": "776436df",
   "metadata": {},
   "outputs": [
    {
     "name": "stdout",
     "output_type": "stream",
     "text": [
      "y_train[:5]: [4.  3.5 4.  4.  4.5]\n"
     ]
    }
   ],
   "source": [
    "#pprint_train(item_train,item_featurs,ivs,i_s,maxcount=5)\n",
    "print(f'y_train[:5]: {y_train[:5]}')"
   ]
  },
  {
   "cell_type": "markdown",
   "id": "e1da4daf",
   "metadata": {},
   "source": [
    "#### data preparation"
   ]
  },
  {
   "cell_type": "code",
   "execution_count": 58,
   "id": "9d28d069",
   "metadata": {},
   "outputs": [
    {
     "name": "stdout",
     "output_type": "stream",
     "text": [
      "True\n",
      "True\n"
     ]
    }
   ],
   "source": [
    "item_train_unscaled=item_train\n",
    "user_train_unscaled=user_train\n",
    "y_train_unscaled=y_train\n",
    "\n",
    "scalerItem=StandardScaler()\n",
    "scalerItem.fit(item_train)\n",
    "item_train=scalerItem.transform(item_train)\n",
    "\n",
    "scalerUser=StandardScaler()\n",
    "scalerUser.fit(user_train)\n",
    "user_train=scalerUser.transform(user_train)\n",
    "\n",
    "scalerTarget=MinMaxScaler((-1,1))\n",
    "scalerTarget.fit(y_train.reshape(-1,1))\n",
    "y_train=scalerTarget.transform(y_train.reshape(-1,1))\n",
    "\n",
    "print(np.allclose(item_train_unscaled,scalerItem.inverse_transform(item_train)))\n",
    "print(np.allclose(user_train_unscaled,scalerUser.inverse_transform(user_train)))"
   ]
  },
  {
   "cell_type": "code",
   "execution_count": 59,
   "id": "f8e0ef0f",
   "metadata": {},
   "outputs": [
    {
     "name": "stdout",
     "output_type": "stream",
     "text": [
      "item training data shape: (40707, 17)\n",
      "item test data shape: (10177, 17)\n",
      "user training data shape: (40707, 17)\n"
     ]
    }
   ],
   "source": [
    "item_train,item_test=train_test_split(item_train,train_size=0.8,shuffle=True,random_state=1)\n",
    "user_train,user_test=train_test_split(user_train,train_size=0.8,shuffle=True,random_state=1)\n",
    "y_train,y_test=train_test_split(y_train,train_size=0.8,shuffle=True,random_state=1)\n",
    "print(f'item training data shape: {item_train.shape}')\n",
    "print(f'item test data shape: {item_test.shape}')\n",
    "print(f'user training data shape: {user_train.shape}')\n",
    "#pprint(user_train,user_features,uvs,u_s,maxcount=5)"
   ]
  },
  {
   "cell_type": "markdown",
   "id": "8ff7975d",
   "metadata": {},
   "source": [
    "#### neaural network"
   ]
  },
  {
   "cell_type": "code",
   "execution_count": 60,
   "id": "aa4b55f5",
   "metadata": {},
   "outputs": [
    {
     "name": "stdout",
     "output_type": "stream",
     "text": [
      "Model: \"model_4\"\n",
      "__________________________________________________________________________________________________\n",
      " Layer (type)                   Output Shape         Param #     Connected to                     \n",
      "==================================================================================================\n",
      " input_12 (InputLayer)          [(None, 14)]         0           []                               \n",
      "                                                                                                  \n",
      " input_13 (InputLayer)          [(None, 16)]         0           []                               \n",
      "                                                                                                  \n",
      " sequential_12 (Sequential)     (None, 32)           40864       ['input_12[0][0]']               \n",
      "                                                                                                  \n",
      " sequential_13 (Sequential)     (None, 32)           41376       ['input_13[0][0]']               \n",
      "                                                                                                  \n",
      " tf.math.l2_normalize_10 (TFOpL  (None, 32)          0           ['sequential_12[0][0]']          \n",
      " ambda)                                                                                           \n",
      "                                                                                                  \n",
      " tf.math.l2_normalize_11 (TFOpL  (None, 32)          0           ['sequential_13[0][0]']          \n",
      " ambda)                                                                                           \n",
      "                                                                                                  \n",
      " dot_4 (Dot)                    (None, 1)            0           ['tf.math.l2_normalize_10[0][0]',\n",
      "                                                                  'tf.math.l2_normalize_11[0][0]']\n",
      "                                                                                                  \n",
      "==================================================================================================\n",
      "Total params: 82,240\n",
      "Trainable params: 82,240\n",
      "Non-trainable params: 0\n",
      "__________________________________________________________________________________________________\n"
     ]
    }
   ],
   "source": [
    "num_outputs=32\n",
    "tf.random.set_seed(1)\n",
    "\n",
    "user_nn=tf.keras.models.Sequential(\n",
    "[\n",
    "    tf.keras.layers.Dense(256,activation='relu'),\n",
    "    tf.keras.layers.Dense(128,activation='relu'),\n",
    "    tf.keras.layers.Dense(num_outputs,activation='linear')\n",
    "])\n",
    "\n",
    "item_nn=tf.keras.models.Sequential(\n",
    "[\n",
    "    tf.keras.layers.Dense(256,activation='relu'),\n",
    "    tf.keras.layers.Dense(128,activation='relu'),\n",
    "    tf.keras.layers.Dense(num_outputs,activation='linear')\n",
    "])\n",
    "\n",
    "input_user=tf.keras.layers.Input(shape=(num_user_features))\n",
    "vu=user_nn(input_user)\n",
    "vu=tf.linalg.l2_normalize(vu,axis=1)\n",
    "\n",
    "input_item=tf.keras.layers.Input(shape=(num_item_features))\n",
    "vi=item_nn(input_item)\n",
    "vi=tf.linalg.l2_normalize(vi,axis=1)\n",
    "\n",
    "output=tf.keras.layers.Dot(axes=1)([vu,vi])\n",
    "model=tf.keras.Model([input_user,input_item],output)\n",
    "model.summary()"
   ]
  },
  {
   "cell_type": "code",
   "execution_count": 61,
   "id": "bf5e4f87",
   "metadata": {},
   "outputs": [],
   "source": [
    "tf.random.set_seed(1)\n",
    "cost_fn=tf.keras.losses.MeanSquaredError()\n",
    "opt=keras.optimizers.Adam(learning_rate=0.01)\n",
    "model.compile(optimizer=opt,loss=cost_fn)"
   ]
  },
  {
   "cell_type": "code",
   "execution_count": 62,
   "id": "5de7d8bc",
   "metadata": {},
   "outputs": [
    {
     "name": "stdout",
     "output_type": "stream",
     "text": [
      "Epoch 1/30\n",
      "1273/1273 [==============================] - 4s 2ms/step - loss: 0.1244\n",
      "Epoch 2/30\n",
      "1273/1273 [==============================] - 3s 2ms/step - loss: 0.1161\n",
      "Epoch 3/30\n",
      "1273/1273 [==============================] - 3s 2ms/step - loss: 0.1116\n",
      "Epoch 4/30\n",
      "1273/1273 [==============================] - 3s 2ms/step - loss: 0.1069\n",
      "Epoch 5/30\n",
      "1273/1273 [==============================] - 3s 2ms/step - loss: 0.1039\n",
      "Epoch 6/30\n",
      "1273/1273 [==============================] - 3s 2ms/step - loss: 0.1008\n",
      "Epoch 7/30\n",
      "1273/1273 [==============================] - 3s 2ms/step - loss: 0.0985\n",
      "Epoch 8/30\n",
      "1273/1273 [==============================] - 3s 2ms/step - loss: 0.0964\n",
      "Epoch 9/30\n",
      "1273/1273 [==============================] - 3s 2ms/step - loss: 0.0942\n",
      "Epoch 10/30\n",
      "1273/1273 [==============================] - 3s 2ms/step - loss: 0.0926\n",
      "Epoch 11/30\n",
      "1273/1273 [==============================] - 3s 2ms/step - loss: 0.0909\n",
      "Epoch 12/30\n",
      "1273/1273 [==============================] - 3s 2ms/step - loss: 0.0893\n",
      "Epoch 13/30\n",
      "1273/1273 [==============================] - 3s 2ms/step - loss: 0.0884\n",
      "Epoch 14/30\n",
      "1273/1273 [==============================] - 3s 2ms/step - loss: 0.0875\n",
      "Epoch 15/30\n",
      "1273/1273 [==============================] - 3s 2ms/step - loss: 0.0862\n",
      "Epoch 16/30\n",
      "1273/1273 [==============================] - 3s 2ms/step - loss: 0.0852\n",
      "Epoch 17/30\n",
      "1273/1273 [==============================] - 3s 2ms/step - loss: 0.0841\n",
      "Epoch 18/30\n",
      "1273/1273 [==============================] - 3s 2ms/step - loss: 0.0830\n",
      "Epoch 19/30\n",
      "1273/1273 [==============================] - 3s 2ms/step - loss: 0.0822\n",
      "Epoch 20/30\n",
      "1273/1273 [==============================] - 3s 2ms/step - loss: 0.0810\n",
      "Epoch 21/30\n",
      "1273/1273 [==============================] - 3s 2ms/step - loss: 0.0799\n",
      "Epoch 22/30\n",
      "1273/1273 [==============================] - 3s 2ms/step - loss: 0.0792\n",
      "Epoch 23/30\n",
      "1273/1273 [==============================] - 3s 2ms/step - loss: 0.0783\n",
      "Epoch 24/30\n",
      "1273/1273 [==============================] - 3s 2ms/step - loss: 0.0775\n",
      "Epoch 25/30\n",
      "1273/1273 [==============================] - 3s 2ms/step - loss: 0.0765\n",
      "Epoch 26/30\n",
      "1273/1273 [==============================] - 3s 2ms/step - loss: 0.0761\n",
      "Epoch 27/30\n",
      "1273/1273 [==============================] - 3s 2ms/step - loss: 0.0752\n",
      "Epoch 28/30\n",
      "1273/1273 [==============================] - 3s 2ms/step - loss: 0.0746\n",
      "Epoch 29/30\n",
      "1273/1273 [==============================] - 3s 2ms/step - loss: 0.0741\n",
      "Epoch 30/30\n",
      "1273/1273 [==============================] - 3s 2ms/step - loss: 0.0735\n"
     ]
    },
    {
     "data": {
      "text/plain": [
       "<keras.callbacks.History at 0x2adbd42a940>"
      ]
     },
     "execution_count": 62,
     "metadata": {},
     "output_type": "execute_result"
    }
   ],
   "source": [
    "tf.random.set_seed(1)\n",
    "model.fit([user_train[:,u_s:],item_train[:,i_s:]],y_train,epochs=30)"
   ]
  },
  {
   "cell_type": "code",
   "execution_count": 63,
   "id": "c7717df2",
   "metadata": {},
   "outputs": [
    {
     "name": "stdout",
     "output_type": "stream",
     "text": [
      "319/319 [==============================] - 1s 1ms/step - loss: 0.0827\n"
     ]
    },
    {
     "data": {
      "text/plain": [
       "0.08265088498592377"
      ]
     },
     "execution_count": 63,
     "metadata": {},
     "output_type": "execute_result"
    }
   ],
   "source": [
    "model.evaluate([user_test[:,u_s:],item_test[:,i_s:]],y_test)"
   ]
  },
  {
   "cell_type": "markdown",
   "id": "cdfa1f48",
   "metadata": {},
   "source": [
    "#### new user"
   ]
  },
  {
   "cell_type": "code",
   "execution_count": 64,
   "id": "4209e4c8",
   "metadata": {},
   "outputs": [],
   "source": [
    "new_user_id = 5000\n",
    "new_rating_ave = 0.0\n",
    "new_action = 0.0\n",
    "new_adventure = 5.0\n",
    "new_animation = 0.0\n",
    "new_childrens = 0.0\n",
    "new_comedy = 0.0\n",
    "new_crime = 0.0\n",
    "new_documentary = 0.0\n",
    "new_drama = 0.0\n",
    "new_fantasy = 5.0\n",
    "new_horror = 0.0\n",
    "new_mystery = 0.0\n",
    "new_romance = 0.0\n",
    "new_scifi = 0.0\n",
    "new_thriller = 0.0\n",
    "new_rating_count = 3\n",
    "\n",
    "user_vec = np.array([[new_user_id, new_rating_count, new_rating_ave,\n",
    "                      new_action, new_adventure, new_animation, new_childrens,\n",
    "                      new_comedy, new_crime, new_documentary,\n",
    "                      new_drama, new_fantasy, new_horror, new_mystery,\n",
    "                      new_romance, new_scifi, new_thriller]])"
   ]
  },
  {
   "cell_type": "code",
   "execution_count": 70,
   "id": "3ff33d05",
   "metadata": {},
   "outputs": [],
   "source": [
    "def gen_user_vecs(user_vec, num_items):\n",
    "    \"\"\" given a user vector return:\n",
    "        user predict maxtrix to match the size of item_vecs \"\"\"\n",
    "    user_vecs = np.tile(user_vec, (num_items, 1))\n",
    "    return user_vecs"
   ]
  },
  {
   "cell_type": "code",
   "execution_count": 67,
   "id": "75b28080",
   "metadata": {},
   "outputs": [
    {
     "name": "stdout",
     "output_type": "stream",
     "text": [
      "27/27 [==============================] - 0s 2ms/step\n"
     ]
    }
   ],
   "source": [
    "user_vecs=gen_user_vecs(user_vec,len(item_vecs))\n",
    "\n",
    "suser_vecs=scalerUser.transform(user_vecs)\n",
    "sitem_vecs=scalerItem.transform(item_vecs)\n",
    "\n",
    "y_p=model.predict([suser_vecs[:,u_s:],sitem_vecs[:,i_s:]])\n",
    "y_pu=scalerTarget.inverse_transform(y_p)\n",
    "\n",
    "sorted_index=np.argsort(-y_pu,axis=0).reshape(-1).tolist()\n",
    "sorted_ypu=y_pu[sorted_index]\n",
    "sorted_items=item_vecs[sorted_index]\n",
    "\n",
    "#print_pred_movies(sorted_ypu,sorted_items,movie_dict,max_count=10)"
   ]
  },
  {
   "cell_type": "markdown",
   "id": "a302d21b",
   "metadata": {},
   "source": [
    "#### existing user"
   ]
  },
  {
   "cell_type": "code",
   "execution_count": 72,
   "id": "389c8b84",
   "metadata": {},
   "outputs": [],
   "source": [
    "def get_user_vecs(user_id, user_train, item_vecs, user_to_genre):\n",
    "    \"\"\" given a user_id, return:\n",
    "        user train/predict matrix to match the size of item_vecs\n",
    "        y vector with ratings for all rated movies and 0 for others of size item_vecs \"\"\"\n",
    "\n",
    "    if not user_id in user_to_genre:\n",
    "        print(\"error: unknown user id\")\n",
    "        return None\n",
    "    else:\n",
    "        user_vec_found = False\n",
    "        for i in range(len(user_train)):\n",
    "            if user_train[i, 0] == user_id:\n",
    "                user_vec = user_train[i]\n",
    "                user_vec_found = True\n",
    "                break\n",
    "        if not user_vec_found:\n",
    "            print(\"error in get_user_vecs, did not find uid in user_train\")\n",
    "        num_items = len(item_vecs)\n",
    "        user_vecs = np.tile(user_vec, (num_items, 1))\n",
    "\n",
    "        y = np.zeros(num_items)\n",
    "        for i in range(num_items):  # walk through movies in item_vecs and get the movies, see if user has rated them\n",
    "            movie_id = item_vecs[i, 0]\n",
    "            if movie_id in user_to_genre[user_id]['movies']:\n",
    "                rating = user_to_genre[user_id]['movies'][movie_id]\n",
    "            else:\n",
    "                rating = 0\n",
    "            y[i] = rating\n",
    "    return(user_vecs, y)"
   ]
  },
  {
   "cell_type": "code",
   "execution_count": 74,
   "id": "020568fd",
   "metadata": {},
   "outputs": [
    {
     "name": "stdout",
     "output_type": "stream",
     "text": [
      "27/27 [==============================] - 0s 2ms/step\n"
     ]
    }
   ],
   "source": [
    "uid=2\n",
    "user_vecs,y_vecs=get_user_vecs(uid,user_train_unscaled,item_vecs,user_to_genre)\n",
    "\n",
    "suser_vecs=scalerUser.transform(user_vecs)\n",
    "sitem_vecs=scalerItem.transform(item_vecs)\n",
    "\n",
    "y_p=model.predict([suser_vecs[:,u_s:],sitem_vecs[:,i_s:]])\n",
    "y_pu=scalerTarget.inverse_transform(y_p)\n",
    "\n",
    "sorted_index=np.argsort(-y_pu,axis=0).reshape(-1).tolist()\n",
    "sorted_ypu=y_pu[sorted_index]\n",
    "sorted_items=item_vecs[sorted_index]\n",
    "sorted_user=user_vecs[sorted_index]\n",
    "sorted_y=y_vecs[sorted_index]\n",
    "\n",
    "#print_pred_movies(sorted_ypu,sorted_items,movie_dict,max_count=10)"
   ]
  },
  {
   "cell_type": "markdown",
   "id": "8e3b110c",
   "metadata": {},
   "source": [
    "#### finding similar items"
   ]
  },
  {
   "cell_type": "code",
   "execution_count": 75,
   "id": "59d29195",
   "metadata": {},
   "outputs": [],
   "source": [
    "def sq_dist(a,b):\n",
    "    \"\"\"\n",
    "    Calculates squared distance between two vectors\n",
    "    \n",
    "    Parameters:\n",
    "    -----------\n",
    "    a: array\n",
    "    b: array\n",
    "    \n",
    "    Returns:\n",
    "    --------\n",
    "    d: float\n",
    "    \"\"\"\n",
    "    d=np.sum((a-b)**2)\n",
    "    return d"
   ]
  },
  {
   "cell_type": "code",
   "execution_count": 77,
   "id": "ffd47542",
   "metadata": {},
   "outputs": [
    {
     "name": "stdout",
     "output_type": "stream",
     "text": [
      "Model: \"model_5\"\n",
      "_________________________________________________________________\n",
      " Layer (type)                Output Shape              Param #   \n",
      "=================================================================\n",
      " input_15 (InputLayer)       [(None, 16)]              0         \n",
      "                                                                 \n",
      " sequential_13 (Sequential)  (None, 32)                41376     \n",
      "                                                                 \n",
      " tf.math.l2_normalize_13 (TF  (None, 32)               0         \n",
      " OpLambda)                                                       \n",
      "                                                                 \n",
      "=================================================================\n",
      "Total params: 41,376\n",
      "Trainable params: 41,376\n",
      "Non-trainable params: 0\n",
      "_________________________________________________________________\n"
     ]
    }
   ],
   "source": [
    "input_item_m=tf.keras.layers.Input(shape=(num_item_features))\n",
    "vm_m=item_nn(input_item_m)\n",
    "vm_m=tf.linalg.l2_normalize(vm_m,axis=1)\n",
    "model_m=tf.keras.Model(input_item_m,vm_m)\n",
    "model_m.summary()"
   ]
  },
  {
   "cell_type": "code",
   "execution_count": 78,
   "id": "52546ecb",
   "metadata": {},
   "outputs": [
    {
     "name": "stdout",
     "output_type": "stream",
     "text": [
      "27/27 [==============================] - 0s 2ms/step\n",
      "feature vectors: (847, 32)\n"
     ]
    }
   ],
   "source": [
    "scaled_item_vecs=scalerItem.transform(item_vecs)\n",
    "vms=model_m.predict(scaled_item_vecs[:,i_s:])\n",
    "print(f'feature vectors: {vms.shape}')"
   ]
  },
  {
   "cell_type": "code",
   "execution_count": 79,
   "id": "65edc9a8",
   "metadata": {},
   "outputs": [],
   "source": [
    "count = 50  # number of movies to display\n",
    "dim = len(vms)\n",
    "dist = np.zeros((dim,dim))\n",
    "\n",
    "for i in range(dim):\n",
    "    for j in range(dim):\n",
    "        dist[i,j] = sq_dist(vms[i, :], vms[j, :])\n",
    "       \n",
    "m_dist=ma.masked_array(dist, mask=np.identity(dist.shape[0])) \n",
    "\n",
    "disp = [[\"movie1\", \"genres\", \"movie2\", \"genres\"]]\n",
    "for i in range(count):\n",
    "    min_idx = np.argmin(m_dist[i])\n",
    "    movie1_id = int(item_vecs[i,0])\n",
    "    movie2_id = int(item_vecs[min_idx,0])\n",
    "    disp.append( [movie_dict[movie1_id]['title'], movie_dict[movie1_id]['genres'],\n",
    "                  movie_dict[movie2_id]['title'], movie_dict[movie1_id]['genres']]\n",
    "               )\n",
    "#table = tabulate.tabulate(disp, tablefmt='html', headers=\"firstrow\")\n",
    "#table\n"
   ]
  },
  {
   "cell_type": "code",
   "execution_count": 80,
   "id": "38c2d7e0",
   "metadata": {},
   "outputs": [
    {
     "data": {
      "text/plain": [
       "[['movie1', 'genres', 'movie2', 'genres'],\n",
       " ['Save the Last Dance (2001)',\n",
       "  'Drama|Romance',\n",
       "  'Mona Lisa Smile (2003)',\n",
       "  'Drama|Romance'],\n",
       " ['Wedding Planner, The (2001)',\n",
       "  'Comedy|Romance',\n",
       "  'Mr. Deeds (2002)',\n",
       "  'Comedy|Romance'],\n",
       " ['Hannibal (2001)',\n",
       "  'Horror|Thriller',\n",
       "  'Final Destination 2 (2003)',\n",
       "  'Horror|Thriller'],\n",
       " ['Saving Silverman (Evil Woman) (2001)',\n",
       "  'Comedy|Romance',\n",
       "  'Sweetest Thing, The (2002)',\n",
       "  'Comedy|Romance'],\n",
       " ['Down to Earth (2001)',\n",
       "  'Comedy|Fantasy|Romance',\n",
       "  'Bewitched (2005)',\n",
       "  'Comedy|Fantasy|Romance'],\n",
       " ['Mexican, The (2001)',\n",
       "  'Action|Comedy',\n",
       "  'Rush Hour 2 (2001)',\n",
       "  'Action|Comedy'],\n",
       " ['15 Minutes (2001)', 'Thriller', 'Panic Room (2002)', 'Thriller'],\n",
       " ['Enemy at the Gates (2001)', 'Drama', 'Seabiscuit (2003)', 'Drama'],\n",
       " ['Heartbreakers (2001)',\n",
       "  'Comedy|Crime|Romance',\n",
       "  'Sex and the City (2008)',\n",
       "  'Comedy|Crime|Romance'],\n",
       " ['Spy Kids (2001)',\n",
       "  'Action|Adventure|Children|Comedy',\n",
       "  'Mummy Returns, The (2001)',\n",
       "  'Action|Adventure|Children|Comedy'],\n",
       " ['Along Came a Spider (2001)',\n",
       "  'Action|Crime|Mystery|Thriller',\n",
       "  'Red Dragon (2002)',\n",
       "  'Action|Crime|Mystery|Thriller'],\n",
       " ['Blow (2001)', 'Crime|Drama', '25th Hour (2002)', 'Crime|Drama'],\n",
       " [\"Bridget Jones's Diary (2001)\",\n",
       "  'Comedy|Drama|Romance',\n",
       "  'Punch-Drunk Love (2002)',\n",
       "  'Comedy|Drama|Romance'],\n",
       " ['Joe Dirt (2001)',\n",
       "  'Adventure|Comedy|Mystery|Romance',\n",
       "  'Nacho Libre (2006)',\n",
       "  'Adventure|Comedy|Mystery|Romance'],\n",
       " ['Crocodile Dundee in Los Angeles (2001)',\n",
       "  'Comedy|Drama',\n",
       "  'Dumb and Dumberer: When Harry Met Lloyd (2003)',\n",
       "  'Comedy|Drama'],\n",
       " ['Mummy Returns, The (2001)',\n",
       "  'Action|Adventure|Comedy|Thriller',\n",
       "  'Scooby-Doo (2002)',\n",
       "  'Action|Adventure|Comedy|Thriller'],\n",
       " [\"Knight's Tale, A (2001)\",\n",
       "  'Action|Comedy|Romance',\n",
       "  'My Big Fat Greek Wedding (2002)',\n",
       "  'Action|Comedy|Romance'],\n",
       " ['Shrek (2001)',\n",
       "  'Adventure|Animation|Children|Comedy|Fantasy|Romance',\n",
       "  'Enchanted (2007)',\n",
       "  'Adventure|Animation|Children|Comedy|Fantasy|Romance'],\n",
       " ['Moulin Rouge (2001)',\n",
       "  'Drama|Romance',\n",
       "  'Walk to Remember, A (2002)',\n",
       "  'Drama|Romance'],\n",
       " ['Pearl Harbor (2001)',\n",
       "  'Action|Drama|Romance',\n",
       "  'Sucker Punch (2011)',\n",
       "  'Action|Drama|Romance'],\n",
       " ['Animal, The (2001)',\n",
       "  'Comedy',\n",
       "  'Dumb and Dumberer: When Harry Met Lloyd (2003)',\n",
       "  'Comedy'],\n",
       " ['Evolution (2001)', 'Comedy|Sci-Fi', 'EuroTrip (2004)', 'Comedy|Sci-Fi'],\n",
       " ['Swordfish (2001)',\n",
       "  'Action|Crime|Drama',\n",
       "  'Wanted (2008)',\n",
       "  'Action|Crime|Drama'],\n",
       " ['Atlantis: The Lost Empire (2001)',\n",
       "  'Adventure|Animation|Children|Fantasy',\n",
       "  'Polar Express, The (2004)',\n",
       "  'Adventure|Animation|Children|Fantasy'],\n",
       " ['Lara Croft: Tomb Raider (2001)',\n",
       "  'Action|Adventure',\n",
       "  'Men in Black II (a.k.a. MIIB) (a.k.a. MIB 2) (2002)',\n",
       "  'Action|Adventure'],\n",
       " ['Dr. Dolittle 2 (2001)',\n",
       "  'Comedy',\n",
       "  'Legally Blonde 2: Red, White & Blonde (2003)',\n",
       "  'Comedy'],\n",
       " ['Fast and the Furious, The (2001)',\n",
       "  'Action|Crime|Thriller',\n",
       "  'Transporter 2 (2005)',\n",
       "  'Action|Crime|Thriller'],\n",
       " ['A.I. Artificial Intelligence (2001)',\n",
       "  'Adventure|Drama|Sci-Fi',\n",
       "  'Death to Smoochy (2002)',\n",
       "  'Adventure|Drama|Sci-Fi'],\n",
       " ['Cats & Dogs (2001)',\n",
       "  'Children|Comedy',\n",
       "  'Shrek the Third (2007)',\n",
       "  'Children|Comedy'],\n",
       " ['Scary Movie 2 (2001)', 'Comedy', 'Not Another Teen Movie (2001)', 'Comedy'],\n",
       " ['Final Fantasy: The Spirits Within (2001)',\n",
       "  'Adventure|Animation|Fantasy|Sci-Fi',\n",
       "  'Final Fantasy VII: Advent Children (2004)',\n",
       "  'Adventure|Animation|Fantasy|Sci-Fi'],\n",
       " ['Legally Blonde (2001)',\n",
       "  'Comedy|Romance',\n",
       "  'Serendipity (2001)',\n",
       "  'Comedy|Romance'],\n",
       " ['Score, The (2001)',\n",
       "  'Action|Drama',\n",
       "  'Italian Job, The (2003)',\n",
       "  'Action|Drama'],\n",
       " ['Jurassic Park III (2001)',\n",
       "  'Action|Adventure|Sci-Fi|Thriller',\n",
       "  'Paycheck (2003)',\n",
       "  'Action|Adventure|Sci-Fi|Thriller'],\n",
       " [\"America's Sweethearts (2001)\",\n",
       "  'Comedy|Romance',\n",
       "  'Maid in Manhattan (2002)',\n",
       "  'Comedy|Romance'],\n",
       " ['Ghost World (2001)',\n",
       "  'Comedy|Drama',\n",
       "  'Station Agent, The (2003)',\n",
       "  'Comedy|Drama'],\n",
       " ['Planet of the Apes (2001)',\n",
       "  'Action|Adventure|Drama|Sci-Fi',\n",
       "  'Aeon Flux (2005)',\n",
       "  'Action|Adventure|Drama|Sci-Fi'],\n",
       " ['Princess Diaries, The (2001)',\n",
       "  'Children|Comedy|Romance',\n",
       "  'Solaris (2002)',\n",
       "  'Children|Comedy|Romance'],\n",
       " ['Rush Hour 2 (2001)',\n",
       "  'Action|Comedy',\n",
       "  'Mexican, The (2001)',\n",
       "  'Action|Comedy'],\n",
       " ['American Pie 2 (2001)', 'Comedy', 'Rat Race (2001)', 'Comedy'],\n",
       " ['Others, The (2001)',\n",
       "  'Drama|Horror|Mystery|Thriller',\n",
       "  'Dogville (2003)',\n",
       "  'Drama|Horror|Mystery|Thriller'],\n",
       " ['Rat Race (2001)', 'Comedy', 'American Pie 2 (2001)', 'Comedy'],\n",
       " ['Jay and Silent Bob Strike Back (2001)',\n",
       "  'Adventure|Comedy',\n",
       "  'EuroTrip (2004)',\n",
       "  'Adventure|Comedy'],\n",
       " ['Training Day (2001)',\n",
       "  'Crime|Drama|Thriller',\n",
       "  'Frailty (2001)',\n",
       "  'Crime|Drama|Thriller'],\n",
       " ['Zoolander (2001)', 'Comedy', 'Old School (2003)', 'Comedy'],\n",
       " ['Serendipity (2001)',\n",
       "  'Comedy|Romance',\n",
       "  'Legally Blonde (2001)',\n",
       "  'Comedy|Romance'],\n",
       " ['Mulholland Drive (2001)',\n",
       "  'Crime|Drama|Mystery|Thriller',\n",
       "  'Prisoners (2013)',\n",
       "  'Crime|Drama|Mystery|Thriller'],\n",
       " ['From Hell (2001)',\n",
       "  'Crime|Horror|Mystery|Thriller',\n",
       "  'Identity (2003)',\n",
       "  'Crime|Horror|Mystery|Thriller'],\n",
       " ['Waking Life (2001)',\n",
       "  'Animation|Drama|Fantasy',\n",
       "  'Let the Right One In (LÃ¥t den rÃ¤tte komma in) (2008)',\n",
       "  'Animation|Drama|Fantasy'],\n",
       " ['K-PAX (2001)',\n",
       "  'Drama|Fantasy|Mystery|Sci-Fi',\n",
       "  'Gosford Park (2001)',\n",
       "  'Drama|Fantasy|Mystery|Sci-Fi']]"
      ]
     },
     "execution_count": 80,
     "metadata": {},
     "output_type": "execute_result"
    }
   ],
   "source": [
    "disp"
   ]
  },
  {
   "cell_type": "code",
   "execution_count": null,
   "id": "50c001e0",
   "metadata": {},
   "outputs": [],
   "source": []
  }
 ],
 "metadata": {
  "kernelspec": {
   "display_name": "Python 3 (ipykernel)",
   "language": "python",
   "name": "python3"
  },
  "language_info": {
   "codemirror_mode": {
    "name": "ipython",
    "version": 3
   },
   "file_extension": ".py",
   "mimetype": "text/x-python",
   "name": "python",
   "nbconvert_exporter": "python",
   "pygments_lexer": "ipython3",
   "version": "3.8.12"
  }
 },
 "nbformat": 4,
 "nbformat_minor": 5
}
