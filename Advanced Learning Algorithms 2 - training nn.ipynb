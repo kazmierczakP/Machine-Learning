{
 "cells": [
  {
   "cell_type": "markdown",
   "id": "678943ea",
   "metadata": {},
   "source": [
    "# Training"
   ]
  },
  {
   "cell_type": "code",
   "execution_count": 1,
   "id": "d9cf1edc",
   "metadata": {},
   "outputs": [],
   "source": [
    "import numpy as np\n",
    "import tensorflow as tf\n",
    "import matplotlib.pyplot as plt"
   ]
  },
  {
   "cell_type": "markdown",
   "id": "d14eb337",
   "metadata": {},
   "source": [
    "## Cost functions"
   ]
  },
  {
   "cell_type": "markdown",
   "id": "ec745f4b",
   "metadata": {},
   "source": [
    "#### Binary Crossentropy"
   ]
  },
  {
   "cell_type": "markdown",
   "id": "53c00f80",
   "metadata": {},
   "source": [
    "Cost function for logistic regression"
   ]
  },
  {
   "cell_type": "markdown",
   "id": "45503511",
   "metadata": {},
   "source": [
    "$$ loss(f_w(x^{(i)}),y^{(i)}) = - y^{(i)}\\log(f_w(x^{(i)})) - (1-y^{(i)})\\log(1-f_w(x^{(i)})) $$"
   ]
  },
  {
   "cell_type": "markdown",
   "id": "b7f1e6af",
   "metadata": {},
   "source": [
    "#### MSE"
   ]
  },
  {
   "cell_type": "markdown",
   "id": "45058ff1",
   "metadata": {},
   "source": [
    "$$ loss(f_w(x^{(i)}),y^{(i)}) = \\frac{1}{2m} \\sum_{i=0}^{m-1} (w \\cdot x^{(i)}_j+b-y^{(i)}_j)^2  $$"
   ]
  },
  {
   "cell_type": "markdown",
   "id": "dae6128a",
   "metadata": {},
   "source": [
    "#### Multiclass Crossentropy"
   ]
  },
  {
   "cell_type": "markdown",
   "id": "234c6aec",
   "metadata": {},
   "source": [
    "Cost function for Softmax "
   ]
  },
  {
   "cell_type": "markdown",
   "id": "9425b2f6",
   "metadata": {},
   "source": [
    "$$ loss(a_i) = - log(a_i) $$\n",
    "$$ a_i=\\dfrac {e^{-(z_i)}}{\\sum_{k=0}^{m-1}e^{-(z_k)}} $$"
   ]
  },
  {
   "cell_type": "markdown",
   "id": "945f478a",
   "metadata": {},
   "source": [
    "a_i is probability for i class so the closer to 1, the smaller loss (it the true class is i, for others same pattern with 0)"
   ]
  },
  {
   "cell_type": "markdown",
   "id": "1c5ad283",
   "metadata": {},
   "source": [
    "## Activation functions"
   ]
  },
  {
   "cell_type": "markdown",
   "id": "d3dc51ef",
   "metadata": {},
   "source": [
    "#### Linear"
   ]
  },
  {
   "cell_type": "markdown",
   "id": "2add49a9",
   "metadata": {},
   "source": [
    "good for predicting positive/negative number"
   ]
  },
  {
   "cell_type": "markdown",
   "id": "05c02547",
   "metadata": {},
   "source": [
    "$$ y_j = w_0+w_1x_1+w_2x_2+...+w_jx_j $$"
   ]
  },
  {
   "cell_type": "markdown",
   "id": "9053438d",
   "metadata": {},
   "source": [
    "#### Sigmoid"
   ]
  },
  {
   "cell_type": "markdown",
   "id": "d1ec213e",
   "metadata": {},
   "source": [
    "good for binary classification"
   ]
  },
  {
   "cell_type": "markdown",
   "id": "bd7a98c3",
   "metadata": {},
   "source": [
    "$$ y_j = \\dfrac {1}{1+e^{-(w_0+w_1x_1+w_2x_2+...+w_jx_j)}} $$"
   ]
  },
  {
   "cell_type": "markdown",
   "id": "0b56788b",
   "metadata": {},
   "source": [
    "#### ReLu"
   ]
  },
  {
   "cell_type": "markdown",
   "id": "695f17d8",
   "metadata": {},
   "source": [
    "good if y can only take non negative values"
   ]
  },
  {
   "cell_type": "markdown",
   "id": "0e508ff7",
   "metadata": {},
   "source": [
    "$$ y_j = max(0,{(w_0+w_1x_1+w_2x_2+...+w_jx_j)}) $$"
   ]
  },
  {
   "cell_type": "markdown",
   "id": "28c9dc0c",
   "metadata": {},
   "source": [
    "#### Softmax"
   ]
  },
  {
   "cell_type": "markdown",
   "id": "dd83df8a",
   "metadata": {},
   "source": [
    "good for last layer to give probabilities of many classes"
   ]
  },
  {
   "cell_type": "markdown",
   "id": "fccf05e9",
   "metadata": {},
   "source": [
    "$$ y_j = \\dfrac  {e^{-(z_j)}}{\\sum_{k=0}^{m-1}e^{-(z_k)}} $$\n",
    "$$ z_j = w_0+w_1x_1+w_2x_2+...+w_jx_j $$  "
   ]
  },
  {
   "cell_type": "markdown",
   "id": "f54caaad",
   "metadata": {},
   "source": [
    "Softmax for 2 classes is equal to esigmoid function."
   ]
  },
  {
   "cell_type": "markdown",
   "id": "4830cabd",
   "metadata": {},
   "source": [
    "# ReLu"
   ]
  },
  {
   "cell_type": "code",
   "execution_count": 2,
   "id": "b49e17f1",
   "metadata": {},
   "outputs": [],
   "source": [
    "w1,b1=-2,2\n",
    "w2,b2=1,-1\n",
    "w3,b3=2,-4"
   ]
  },
  {
   "cell_type": "code",
   "execution_count": 30,
   "id": "b531b8e7",
   "metadata": {},
   "outputs": [
    {
     "data": {
      "text/plain": [
       "(0.0, 3.0)"
      ]
     },
     "execution_count": 30,
     "metadata": {},
     "output_type": "execute_result"
    },
    {
     "data": {
      "image/png": "[encoded data removed]",
      "text/plain": [
       "<Figure size 432x288 with 3 Axes>"
      ]
     },
     "metadata": {
      "needs_background": "light"
     },
     "output_type": "display_data"
    }
   ],
   "source": [
    "x=np.arange(0,6)\n",
    "y=x*0\n",
    "y1=w1*x+b1\n",
    "y2=w2*x+b2\n",
    "y3=w3*x+b3\n",
    "plt.subplot(221)\n",
    "plt.plot(x,y1,c='k',label='y1')\n",
    "plt.plot(x,y,linestyle=':')\n",
    "plt.xlim(0,3)\n",
    "plt.subplot(222)\n",
    "plt.plot(x,y2,c='r',label='y2')\n",
    "plt.plot(x,y,linestyle=':')\n",
    "plt.xlim(0,3)\n",
    "plt.subplot(223)\n",
    "plt.plot(x,y3,c='b',label='y3')\n",
    "plt.plot(x,y,linestyle=':')\n",
    "plt.xlim(0,3)"
   ]
  },
  {
   "cell_type": "code",
   "execution_count": 21,
   "id": "8bd05bfd",
   "metadata": {},
   "outputs": [
    {
     "data": {
      "text/plain": [
       "<matplotlib.legend.Legend at 0x182a3b38520>"
      ]
     },
     "execution_count": 21,
     "metadata": {},
     "output_type": "execute_result"
    },
    {
     "data": {
      "image/png": "[encoded data removed]",
      "text/plain": [
       "<Figure size 432x288 with 1 Axes>"
      ]
     },
     "metadata": {
      "needs_background": "light"
     },
     "output_type": "display_data"
    }
   ],
   "source": [
    "x=np.arange(0,6)\n",
    "y1=w1*x[0:2]+b1\n",
    "y2=w2*x[1:3]+b2\n",
    "y22=w2*x[2:4]+b2\n",
    "y3=w3*x[2:4]+b3\n",
    "plt.plot(x[0:2],y1,c='k',label='y1')\n",
    "plt.plot(x[1:3],y2,c='r',label='y2')\n",
    "plt.plot(x[2:4],y3+y22,c='b',label='y3+y2')\n",
    "plt.xlim(0,3)\n",
    "plt.ylim(-2,4)\n",
    "plt.grid()\n",
    "plt.legend()"
   ]
  },
  {
   "cell_type": "code",
   "execution_count": 118,
   "id": "a9c98d62",
   "metadata": {},
   "outputs": [],
   "source": [
    " model=tf.keras.models.Sequential(\n",
    "     [\n",
    "         tf.keras.layers.Input(shape=(1,)),\n",
    "         tf.keras.layers.Dense(3,activation='relu',name='layer1'),\n",
    "         tf.keras.layers.Dense(1,activation='linear',name='layer2')\n",
    "     ]\n",
    " \n",
    " )"
   ]
  },
  {
   "cell_type": "code",
   "execution_count": 119,
   "id": "19825dc7",
   "metadata": {},
   "outputs": [],
   "source": [
    "model.compile(\n",
    "    loss=tf.keras.losses.MeanSquaredError(),\n",
    "    optimizer=tf.keras.optimizers.Adam(learning_rate=0.2)\n",
    ")"
   ]
  },
  {
   "cell_type": "code",
   "execution_count": 120,
   "id": "c6dea8eb",
   "metadata": {},
   "outputs": [],
   "source": [
    "x=np.arange(0,4)\n",
    "y=np.array([2,0,1,4])"
   ]
  },
  {
   "cell_type": "code",
   "execution_count": 121,
   "id": "92de3941",
   "metadata": {},
   "outputs": [
    {
     "name": "stdout",
     "output_type": "stream",
     "text": [
      "Epoch 1/60\n",
      "1/1 [==============================] - 0s 296ms/step - loss: 5.1158\n",
      "Epoch 2/60\n",
      "1/1 [==============================] - 0s 3ms/step - loss: 3.4892\n",
      "Epoch 3/60\n",
      "1/1 [==============================] - 0s 4ms/step - loss: 2.0980\n",
      "Epoch 4/60\n",
      "1/1 [==============================] - 0s 5ms/step - loss: 1.6216\n",
      "Epoch 5/60\n",
      "1/1 [==============================] - 0s 6ms/step - loss: 2.4370\n",
      "Epoch 6/60\n",
      "1/1 [==============================] - 0s 4ms/step - loss: 2.5242\n",
      "Epoch 7/60\n",
      "1/1 [==============================] - 0s 5ms/step - loss: 2.0464\n",
      "Epoch 8/60\n",
      "1/1 [==============================] - 0s 5ms/step - loss: 1.6837\n",
      "Epoch 9/60\n",
      "1/1 [==============================] - 0s 6ms/step - loss: 1.6300\n",
      "Epoch 10/60\n",
      "1/1 [==============================] - 0s 4ms/step - loss: 1.7609\n",
      "Epoch 11/60\n",
      "1/1 [==============================] - 0s 4ms/step - loss: 1.9110\n",
      "Epoch 12/60\n",
      "1/1 [==============================] - 0s 5ms/step - loss: 1.9937\n",
      "Epoch 13/60\n",
      "1/1 [==============================] - 0s 4ms/step - loss: 1.9895\n",
      "Epoch 14/60\n",
      "1/1 [==============================] - 0s 6ms/step - loss: 1.9142\n",
      "Epoch 15/60\n",
      "1/1 [==============================] - 0s 5ms/step - loss: 1.8007\n",
      "Epoch 16/60\n",
      "1/1 [==============================] - 0s 5ms/step - loss: 1.6911\n",
      "Epoch 17/60\n",
      "1/1 [==============================] - 0s 4ms/step - loss: 1.6274\n",
      "Epoch 18/60\n",
      "1/1 [==============================] - 0s 5ms/step - loss: 1.6333\n",
      "Epoch 19/60\n",
      "1/1 [==============================] - 0s 5ms/step - loss: 1.6933\n",
      "Epoch 20/60\n",
      "1/1 [==============================] - 0s 3ms/step - loss: 1.7534\n",
      "Epoch 21/60\n",
      "1/1 [==============================] - 0s 7ms/step - loss: 1.7615\n",
      "Epoch 22/60\n",
      "1/1 [==============================] - 0s 4ms/step - loss: 1.7122\n",
      "Epoch 23/60\n",
      "1/1 [==============================] - 0s 5ms/step - loss: 1.6437\n",
      "Epoch 24/60\n",
      "1/1 [==============================] - 0s 3ms/step - loss: 1.5762\n",
      "Epoch 25/60\n",
      "1/1 [==============================] - 0s 4ms/step - loss: 1.5419\n",
      "Epoch 26/60\n",
      "1/1 [==============================] - 0s 8ms/step - loss: 1.5367\n",
      "Epoch 27/60\n",
      "1/1 [==============================] - 0s 5ms/step - loss: 1.5393\n",
      "Epoch 28/60\n",
      "1/1 [==============================] - 0s 6ms/step - loss: 1.5284\n",
      "Epoch 29/60\n",
      "1/1 [==============================] - 0s 4ms/step - loss: 1.4919\n",
      "Epoch 30/60\n",
      "1/1 [==============================] - 0s 4ms/step - loss: 1.4302\n",
      "Epoch 31/60\n",
      "1/1 [==============================] - 0s 5ms/step - loss: 1.3537\n",
      "Epoch 32/60\n",
      "1/1 [==============================] - 0s 6ms/step - loss: 1.2779\n",
      "Epoch 33/60\n",
      "1/1 [==============================] - 0s 5ms/step - loss: 1.2148\n",
      "Epoch 34/60\n",
      "1/1 [==============================] - 0s 5ms/step - loss: 1.1645\n",
      "Epoch 35/60\n",
      "1/1 [==============================] - 0s 6ms/step - loss: 1.1132\n",
      "Epoch 36/60\n",
      "1/1 [==============================] - 0s 4ms/step - loss: 1.0448\n",
      "Epoch 37/60\n",
      "1/1 [==============================] - 0s 6ms/step - loss: 0.9559\n",
      "Epoch 38/60\n",
      "1/1 [==============================] - 0s 4ms/step - loss: 0.9143\n",
      "Epoch 39/60\n",
      "1/1 [==============================] - 0s 6ms/step - loss: 0.8889\n",
      "Epoch 40/60\n",
      "1/1 [==============================] - 0s 4ms/step - loss: 0.8646\n",
      "Epoch 41/60\n",
      "1/1 [==============================] - 0s 5ms/step - loss: 0.8352\n",
      "Epoch 42/60\n",
      "1/1 [==============================] - 0s 4ms/step - loss: 0.7997\n",
      "Epoch 43/60\n",
      "1/1 [==============================] - 0s 4ms/step - loss: 0.7636\n",
      "Epoch 44/60\n",
      "1/1 [==============================] - 0s 8ms/step - loss: 0.7340\n",
      "Epoch 45/60\n",
      "1/1 [==============================] - 0s 4ms/step - loss: 0.7114\n",
      "Epoch 46/60\n",
      "1/1 [==============================] - 0s 6ms/step - loss: 0.6889\n",
      "Epoch 47/60\n",
      "1/1 [==============================] - 0s 4ms/step - loss: 0.6618\n",
      "Epoch 48/60\n",
      "1/1 [==============================] - 0s 4ms/step - loss: 0.6350\n",
      "Epoch 49/60\n",
      "1/1 [==============================] - 0s 6ms/step - loss: 0.6153\n",
      "Epoch 50/60\n",
      "1/1 [==============================] - 0s 4ms/step - loss: 0.6010\n",
      "Epoch 51/60\n",
      "1/1 [==============================] - 0s 4ms/step - loss: 0.5841\n",
      "Epoch 52/60\n",
      "1/1 [==============================] - 0s 4ms/step - loss: 0.5644\n",
      "Epoch 53/60\n",
      "1/1 [==============================] - 0s 6ms/step - loss: 0.5499\n",
      "Epoch 54/60\n",
      "1/1 [==============================] - 0s 3ms/step - loss: 0.5416\n",
      "Epoch 55/60\n",
      "1/1 [==============================] - 0s 5ms/step - loss: 0.5320\n",
      "Epoch 56/60\n",
      "1/1 [==============================] - 0s 4ms/step - loss: 0.5207\n",
      "Epoch 57/60\n",
      "1/1 [==============================] - 0s 4ms/step - loss: 0.5147\n",
      "Epoch 58/60\n",
      "1/1 [==============================] - 0s 9ms/step - loss: 0.5125\n",
      "Epoch 59/60\n",
      "1/1 [==============================] - 0s 4ms/step - loss: 0.5073\n",
      "Epoch 60/60\n",
      "1/1 [==============================] - 0s 6ms/step - loss: 0.5030\n"
     ]
    },
    {
     "data": {
      "text/plain": [
       "<keras.callbacks.History at 0x182ab264100>"
      ]
     },
     "execution_count": 121,
     "metadata": {},
     "output_type": "execute_result"
    }
   ],
   "source": [
    "model.fit(x,y,epochs=60)"
   ]
  },
  {
   "cell_type": "code",
   "execution_count": 122,
   "id": "d67104fa",
   "metadata": {},
   "outputs": [
    {
     "name": "stdout",
     "output_type": "stream",
     "text": [
      "w: [[-0.60828704  1.529279   -1.1621584 ]] \n",
      "b: [ 0.        -2.9965787 -1.1980411]\n"
     ]
    }
   ],
   "source": [
    "w,b=model.get_layer('layer1').get_weights()\n",
    "print(f'w: {w} \\nb: {b}')"
   ]
  },
  {
   "cell_type": "code",
   "execution_count": 123,
   "id": "9c206b2e",
   "metadata": {
    "scrolled": false
   },
   "outputs": [
    {
     "name": "stdout",
     "output_type": "stream",
     "text": [
      "1/1 [==============================] - 0s 45ms/step\n"
     ]
    },
    {
     "data": {
      "text/plain": [
       "[<matplotlib.lines.Line2D at 0x182ab356130>]"
      ]
     },
     "execution_count": 123,
     "metadata": {},
     "output_type": "execute_result"
    },
    {
     "data": {
      "image/png": "[encoded data removed]",
      "text/plain": [
       "<Figure size 432x288 with 1 Axes>"
      ]
     },
     "metadata": {
      "needs_background": "light"
     },
     "output_type": "display_data"
    }
   ],
   "source": [
    "plt.plot(x,model.predict(x))\n",
    "plt.plot(x,y,linestyle=':')"
   ]
  },
  {
   "cell_type": "markdown",
   "id": "ae640f06",
   "metadata": {},
   "source": [
    "# Multiclass"
   ]
  },
  {
   "cell_type": "code",
   "execution_count": 1,
   "id": "e5207d5d",
   "metadata": {},
   "outputs": [],
   "source": [
    "import numpy as np\n",
    "import tensorflow as tf\n",
    "import matplotlib.pyplot as plt\n",
    "from keras.datasets import mnist"
   ]
  },
  {
   "cell_type": "code",
   "execution_count": 47,
   "id": "0f478f01",
   "metadata": {},
   "outputs": [],
   "source": [
    "(X,Y), (test_X, test_Y) = mnist.load_data()"
   ]
  },
  {
   "cell_type": "code",
   "execution_count": 48,
   "id": "113b7bbe",
   "metadata": {},
   "outputs": [],
   "source": [
    "X_reshaped=X.reshape(60000,784)"
   ]
  },
  {
   "cell_type": "code",
   "execution_count": 49,
   "id": "27b8b6e2",
   "metadata": {},
   "outputs": [],
   "source": [
    " model=tf.keras.models.Sequential(\n",
    "     [\n",
    "         tf.keras.layers.Input(shape=(784,)),\n",
    "         tf.keras.layers.Dense(25,activation='relu',name='layer1'),\n",
    "         tf.keras.layers.Dense(15,activation='relu',name='layer2'),\n",
    "         tf.keras.layers.Dense(10,activation='softmax',name='layer3')\n",
    "     ]\n",
    " \n",
    " )"
   ]
  },
  {
   "cell_type": "code",
   "execution_count": 50,
   "id": "79fdf71d",
   "metadata": {},
   "outputs": [],
   "source": [
    "model.compile(\n",
    "    loss=tf.keras.losses.SparseCategoricalCrossentropy(),\n",
    "    optimizer=tf.keras.optimizers.Adam(learning_rate=0.001)\n",
    ")"
   ]
  },
  {
   "cell_type": "code",
   "execution_count": 51,
   "id": "ac082015",
   "metadata": {
    "scrolled": true
   },
   "outputs": [
    {
     "name": "stdout",
     "output_type": "stream",
     "text": [
      "Epoch 1/20\n",
      "1875/1875 [==============================] - 3s 2ms/step - loss: 1.9157\n",
      "Epoch 2/20\n",
      "1875/1875 [==============================] - 3s 1ms/step - loss: 1.2816\n",
      "Epoch 3/20\n",
      "1875/1875 [==============================] - 3s 2ms/step - loss: 0.9635\n",
      "Epoch 4/20\n",
      "1875/1875 [==============================] - 3s 2ms/step - loss: 0.6584\n",
      "Epoch 5/20\n",
      "1875/1875 [==============================] - 3s 1ms/step - loss: 0.3938\n",
      "Epoch 6/20\n",
      "1875/1875 [==============================] - 3s 1ms/step - loss: 0.2841\n",
      "Epoch 7/20\n",
      "1875/1875 [==============================] - 3s 2ms/step - loss: 0.2445\n",
      "Epoch 8/20\n",
      "1875/1875 [==============================] - 3s 2ms/step - loss: 0.2221\n",
      "Epoch 9/20\n",
      "1875/1875 [==============================] - 3s 2ms/step - loss: 0.2049\n",
      "Epoch 10/20\n",
      "1875/1875 [==============================] - 3s 1ms/step - loss: 0.1926\n",
      "Epoch 11/20\n",
      "1875/1875 [==============================] - 3s 2ms/step - loss: 0.1867\n",
      "Epoch 12/20\n",
      "1875/1875 [==============================] - 3s 2ms/step - loss: 0.1759\n",
      "Epoch 13/20\n",
      "1875/1875 [==============================] - 3s 2ms/step - loss: 0.1686\n",
      "Epoch 14/20\n",
      "1875/1875 [==============================] - 3s 2ms/step - loss: 0.1660\n",
      "Epoch 15/20\n",
      "1875/1875 [==============================] - 3s 2ms/step - loss: 0.1594\n",
      "Epoch 16/20\n",
      "1875/1875 [==============================] - 3s 2ms/step - loss: 0.1562\n",
      "Epoch 17/20\n",
      "1875/1875 [==============================] - 3s 2ms/step - loss: 0.1504\n",
      "Epoch 18/20\n",
      "1875/1875 [==============================] - 3s 2ms/step - loss: 0.1476\n",
      "Epoch 19/20\n",
      "1875/1875 [==============================] - 3s 2ms/step - loss: 0.1423\n",
      "Epoch 20/20\n",
      "1875/1875 [==============================] - 3s 2ms/step - loss: 0.1399\n"
     ]
    },
    {
     "data": {
      "text/plain": [
       "<keras.callbacks.History at 0x2038f610ca0>"
      ]
     },
     "execution_count": 51,
     "metadata": {},
     "output_type": "execute_result"
    }
   ],
   "source": [
    "model.fit(X_reshaped,Y,epochs=20)"
   ]
  },
  {
   "cell_type": "code",
   "execution_count": 52,
   "id": "92275fe7",
   "metadata": {},
   "outputs": [
    {
     "name": "stdout",
     "output_type": "stream",
     "text": [
      "WARNING:tensorflow:5 out of the last 9 calls to <function Model.make_predict_function.<locals>.predict_function at 0x000002038F6173A0> triggered tf.function retracing. Tracing is expensive and the excessive number of tracings could be due to (1) creating @tf.function repeatedly in a loop, (2) passing tensors with different shapes, (3) passing Python objects instead of tensors. For (1), please define your @tf.function outside of the loop. For (2), @tf.function has reduce_retracing=True option that can avoid unnecessary retracing. For (3), please refer to https://www.tensorflow.org/guide/function#controlling_retracing and https://www.tensorflow.org/api_docs/python/tf/function for  more details.\n",
      "1/1 [==============================] - 0s 70ms/step\n",
      "1/1 [==============================] - 0s 24ms/step\n",
      "true: 5, predicted: [[1.9277170e-03 9.5318537e-05 1.2348287e-03 3.1969470e-01 1.3244153e-03\n",
      "  5.6010252e-01 9.7848400e-03 3.5683148e-05 7.9812057e-02 2.5987897e-02]]\n",
      "true: 0, predicted: [[9.9999988e-01 3.0184937e-25 3.1190582e-15 2.5325766e-30 7.8867801e-10\n",
      "  4.3073615e-18 2.5754171e-13 5.8000734e-13 9.5594828e-08 7.9139306e-11]]\n"
     ]
    }
   ],
   "source": [
    "p0=model.predict(X_reshaped[0].reshape(1,784))\n",
    "p1=model.predict(X_reshaped[1].reshape(1,784))\n",
    "print(f'true: {Y[0]}, predicted: {p0}')\n",
    "print(f'true: {Y[1]}, predicted: {p1}')"
   ]
  },
  {
   "cell_type": "markdown",
   "id": "536c1b6b",
   "metadata": {},
   "source": [
    "### Improved implementation"
   ]
  },
  {
   "cell_type": "markdown",
   "id": "dec3fdd9",
   "metadata": {},
   "source": [
    "Due to computational reasons it is adviced not ot use `'softmax'` but rather `'linear'` + `from_logits=True` instead"
   ]
  },
  {
   "cell_type": "code",
   "execution_count": 36,
   "id": "4f72ac04",
   "metadata": {},
   "outputs": [],
   "source": [
    " model=tf.keras.models.Sequential(\n",
    "     [\n",
    "         tf.keras.layers.Input(shape=(784,)),\n",
    "         tf.keras.layers.Dense(25,activation='relu',name='layer1'),\n",
    "         tf.keras.layers.Dense(15,activation='relu',name='layer2'),\n",
    "         tf.keras.layers.Dense(10,activation='linear',name='layer3')\n",
    "     ]\n",
    " \n",
    " )\n",
    "model.compile(\n",
    "    loss=tf.keras.losses.SparseCategoricalCrossentropy(from_logits=True),\n",
    "    optimizer=tf.keras.optimizers.Adam(learning_rate=0.001)\n",
    ")"
   ]
  },
  {
   "cell_type": "code",
   "execution_count": 37,
   "id": "6c27ce19",
   "metadata": {
    "scrolled": true
   },
   "outputs": [
    {
     "name": "stdout",
     "output_type": "stream",
     "text": [
      "Epoch 1/20\n",
      "1875/1875 [==============================] - 3s 1ms/step - loss: 1.5704\n",
      "Epoch 2/20\n",
      "1875/1875 [==============================] - 3s 1ms/step - loss: 0.6527\n",
      "Epoch 3/20\n",
      "1875/1875 [==============================] - 3s 2ms/step - loss: 0.5164\n",
      "Epoch 4/20\n",
      "1875/1875 [==============================] - 3s 2ms/step - loss: 0.4578\n",
      "Epoch 5/20\n",
      "1875/1875 [==============================] - 3s 2ms/step - loss: 0.4093\n",
      "Epoch 6/20\n",
      "1875/1875 [==============================] - 3s 2ms/step - loss: 0.3808\n",
      "Epoch 7/20\n",
      "1875/1875 [==============================] - 3s 2ms/step - loss: 0.3573\n",
      "Epoch 8/20\n",
      "1875/1875 [==============================] - 3s 2ms/step - loss: 0.3355\n",
      "Epoch 9/20\n",
      "1875/1875 [==============================] - 3s 2ms/step - loss: 0.3248\n",
      "Epoch 10/20\n",
      "1875/1875 [==============================] - 3s 2ms/step - loss: 0.3105\n",
      "Epoch 11/20\n",
      "1875/1875 [==============================] - 3s 2ms/step - loss: 0.3006\n",
      "Epoch 12/20\n",
      "1875/1875 [==============================] - 4s 2ms/step - loss: 0.2834\n",
      "Epoch 13/20\n",
      "1875/1875 [==============================] - 4s 2ms/step - loss: 0.2774\n",
      "Epoch 14/20\n",
      "1875/1875 [==============================] - 3s 2ms/step - loss: 0.2651\n",
      "Epoch 15/20\n",
      "1875/1875 [==============================] - 3s 2ms/step - loss: 0.2547\n",
      "Epoch 16/20\n",
      "1875/1875 [==============================] - 3s 2ms/step - loss: 0.2453\n",
      "Epoch 17/20\n",
      "1875/1875 [==============================] - 3s 2ms/step - loss: 0.2328\n",
      "Epoch 18/20\n",
      "1875/1875 [==============================] - 3s 2ms/step - loss: 0.2275\n",
      "Epoch 19/20\n",
      "1875/1875 [==============================] - 3s 2ms/step - loss: 0.2216\n",
      "Epoch 20/20\n",
      "1875/1875 [==============================] - 3s 2ms/step - loss: 0.2153\n"
     ]
    },
    {
     "data": {
      "text/plain": [
       "<keras.callbacks.History at 0x2038f4fddf0>"
      ]
     },
     "execution_count": 37,
     "metadata": {},
     "output_type": "execute_result"
    }
   ],
   "source": [
    "model.fit(X_reshaped,Y,epochs=20)"
   ]
  },
  {
   "cell_type": "markdown",
   "id": "f223fd56",
   "metadata": {},
   "source": [
    "For efficiency training data is broken into batches. Default size of batch in TensoeFlow is 32. There are 60000 rows in the dataset which means `1875` batches. Notation `1875/1875` describes which batch is being executed."
   ]
  },
  {
   "cell_type": "markdown",
   "id": "42c59122",
   "metadata": {},
   "source": [
    "So here as we have `'linear'` function at the last layer, the output is z rather than a=exp(-z)/sum(exp(-z_i))"
   ]
  },
  {
   "cell_type": "code",
   "execution_count": 38,
   "id": "6489951b",
   "metadata": {},
   "outputs": [
    {
     "name": "stdout",
     "output_type": "stream",
     "text": [
      "1/1 [==============================] - 0s 50ms/step\n",
      "1/1 [==============================] - 0s 16ms/step\n",
      "true: 5, predicted: [[ 7.3164344 12.944876  12.918251  17.310467   1.4760929 24.282928\n",
      "  11.3466835 12.97772   10.354348  14.392653 ]]\n",
      "true: 0, predicted: [[ 11.445258   -15.49023      1.3439013   -0.9151575    0.50015426\n",
      "    4.0592866    1.91262     -1.480469    -0.90899396   4.2813535 ]]\n"
     ]
    }
   ],
   "source": [
    "p0=model.predict(X_reshaped[0].reshape(1,784))\n",
    "p1=model.predict(X_reshaped[1].reshape(1,784))\n",
    "print(f'true: {Y[0]}, predicted: {p0}')\n",
    "print(f'true: {Y[1]}, predicted: {p1}')"
   ]
  },
  {
   "cell_type": "markdown",
   "id": "c5e97b87",
   "metadata": {},
   "source": [
    "#### Softmax"
   ]
  },
  {
   "cell_type": "code",
   "execution_count": 30,
   "id": "7dcc1169",
   "metadata": {},
   "outputs": [],
   "source": [
    "def softmax(z):\n",
    "    e_z=np.exp(z)\n",
    "    sm=e_z/np.sum(e_z)\n",
    "    return sm"
   ]
  },
  {
   "cell_type": "code",
   "execution_count": 45,
   "id": "16b87a4f",
   "metadata": {},
   "outputs": [
    {
     "data": {
      "text/plain": [
       "array([4.2766075e-08, 1.1898723e-05, 1.1586105e-05, 9.3638082e-04,\n",
       "       1.2435732e-10, 9.9897391e-01, 2.4066576e-06, 1.2296020e-05,\n",
       "       8.9217207e-07, 5.0613024e-05], dtype=float32)"
      ]
     },
     "execution_count": 45,
     "metadata": {},
     "output_type": "execute_result"
    }
   ],
   "source": [
    "softmax(p0[0])"
   ]
  },
  {
   "cell_type": "code",
   "execution_count": 46,
   "id": "fe5ca5bb",
   "metadata": {},
   "outputs": [
    {
     "data": {
      "text/plain": [
       "array([9.9846631e-01, 2.0017035e-12, 4.0960942e-05, 4.2783186e-06,\n",
       "       1.7617134e-05, 6.1893754e-04, 7.2337134e-05, 2.4308688e-06,\n",
       "       4.3047698e-06, 7.7283935e-04], dtype=float32)"
      ]
     },
     "execution_count": 46,
     "metadata": {},
     "output_type": "execute_result"
    }
   ],
   "source": [
    "softmax(p1[0])"
   ]
  },
  {
   "cell_type": "markdown",
   "id": "9a54be8d",
   "metadata": {},
   "source": [
    "#### SparseCategoricalCrossentropy"
   ]
  },
  {
   "cell_type": "markdown",
   "id": "a7de2870",
   "metadata": {},
   "source": [
    "for predictions noncoded like 0-9"
   ]
  },
  {
   "cell_type": "markdown",
   "id": "17dc6ece",
   "metadata": {},
   "source": [
    "#### CategoricalCrossEntropy"
   ]
  },
  {
   "cell_type": "markdown",
   "id": "66042bc6",
   "metadata": {},
   "source": [
    "for encoded predictions like 2 is [0,0,1,0,0,0,0,0,0,0]"
   ]
  },
  {
   "cell_type": "markdown",
   "id": "f0c52cd9",
   "metadata": {},
   "source": [
    "***"
   ]
  },
  {
   "cell_type": "markdown",
   "id": "f1391f41",
   "metadata": {},
   "source": [
    "# Gradient descent"
   ]
  },
  {
   "cell_type": "markdown",
   "id": "55bcf75c",
   "metadata": {},
   "source": [
    "Adaptive Moment estimation - Adam - automaticlly adjusts the alpha step\n",
    "\n",
    "`tf.keras.optimizers.Adam(learning_rate=0.001)`"
   ]
  },
  {
   "cell_type": "code",
   "execution_count": null,
   "id": "b385b9c8",
   "metadata": {},
   "outputs": [],
   "source": [
    "model.compile(\n",
    "    loss=tf.keras.losses.SparseCategoricalCrossentropy(),\n",
    "    optimizer=tf.keras.optimizers.Adam(learning_rate=0.001)\n",
    ")"
   ]
  },
  {
   "cell_type": "markdown",
   "id": "3e4a2ed1",
   "metadata": {},
   "source": [
    "# Layer types"
   ]
  },
  {
   "cell_type": "markdown",
   "id": "bf0767ac",
   "metadata": {},
   "source": [
    "`tf.keras.layers.Dense(25,activation='relu',name='layer1')` connects all inputs with all neurons"
   ]
  },
  {
   "cell_type": "markdown",
   "id": "c43930cf",
   "metadata": {},
   "source": [
    "Convlution layers make connections only to some neurons. They need less training data"
   ]
  },
  {
   "cell_type": "markdown",
   "id": "f68a9d3d",
   "metadata": {},
   "source": [
    "Those input batches can overleap like `x1-x20` to the first neuron, `x11-x30` to the second, etc.."
   ]
  },
  {
   "cell_type": "markdown",
   "id": "a2ab0c8f",
   "metadata": {},
   "source": [
    "# Back propagation"
   ]
  },
  {
   "cell_type": "code",
   "execution_count": 2,
   "id": "92b510a5",
   "metadata": {},
   "outputs": [],
   "source": [
    "import sympy"
   ]
  },
  {
   "cell_type": "code",
   "execution_count": 3,
   "id": "a50ade92",
   "metadata": {},
   "outputs": [],
   "source": [
    "J, w = sympy.symbols('J,w')"
   ]
  },
  {
   "cell_type": "code",
   "execution_count": 4,
   "id": "bdff85d2",
   "metadata": {},
   "outputs": [
    {
     "data": {
      "text/latex": [
       "$\\displaystyle w^{2}$"
      ],
      "text/plain": [
       "w**2"
      ]
     },
     "execution_count": 4,
     "metadata": {},
     "output_type": "execute_result"
    }
   ],
   "source": [
    "J=w**2\n",
    "J"
   ]
  },
  {
   "cell_type": "code",
   "execution_count": 5,
   "id": "e23235d0",
   "metadata": {},
   "outputs": [
    {
     "data": {
      "text/latex": [
       "$\\displaystyle 2 w$"
      ],
      "text/plain": [
       "2*w"
      ]
     },
     "execution_count": 5,
     "metadata": {},
     "output_type": "execute_result"
    }
   ],
   "source": [
    "dJ_dw=sympy.diff(J,w)\n",
    "dJ_dw"
   ]
  },
  {
   "cell_type": "code",
   "execution_count": 6,
   "id": "7fe97256",
   "metadata": {},
   "outputs": [
    {
     "data": {
      "text/latex": [
       "$\\displaystyle 4$"
      ],
      "text/plain": [
       "4"
      ]
     },
     "execution_count": 6,
     "metadata": {},
     "output_type": "execute_result"
    }
   ],
   "source": [
    "dJ_dw.subs([(w,2)])"
   ]
  },
  {
   "cell_type": "code",
   "execution_count": 7,
   "id": "53be118f",
   "metadata": {},
   "outputs": [
    {
     "data": {
      "text/latex": [
       "$\\displaystyle w^{3}$"
      ],
      "text/plain": [
       "w**3"
      ]
     },
     "execution_count": 7,
     "metadata": {},
     "output_type": "execute_result"
    }
   ],
   "source": [
    "J=w**3\n",
    "J"
   ]
  },
  {
   "cell_type": "code",
   "execution_count": 8,
   "id": "23a98783",
   "metadata": {},
   "outputs": [
    {
     "data": {
      "text/latex": [
       "$\\displaystyle 3 w^{2}$"
      ],
      "text/plain": [
       "3*w**2"
      ]
     },
     "execution_count": 8,
     "metadata": {},
     "output_type": "execute_result"
    }
   ],
   "source": [
    "dJ_dw=sympy.diff(J,w)\n",
    "dJ_dw"
   ]
  },
  {
   "cell_type": "code",
   "execution_count": 9,
   "id": "b3e608f6",
   "metadata": {},
   "outputs": [
    {
     "data": {
      "text/latex": [
       "$\\displaystyle 12$"
      ],
      "text/plain": [
       "12"
      ]
     },
     "execution_count": 9,
     "metadata": {},
     "output_type": "execute_result"
    }
   ],
   "source": [
    "dJ_dw.subs([(w,2)])"
   ]
  },
  {
   "cell_type": "markdown",
   "id": "0cbb15c7",
   "metadata": {},
   "source": [
    "#### derivative"
   ]
  },
  {
   "cell_type": "code",
   "execution_count": 13,
   "id": "06911fdf",
   "metadata": {},
   "outputs": [
    {
     "name": "stdout",
     "output_type": "stream",
     "text": [
      "J 9 J_epsilon 9.006001 k 6.000999999999479\n"
     ]
    }
   ],
   "source": [
    "J=3**2\n",
    "J_epsilon=(3+0.001)**2\n",
    "k=(J_epsilon-J)/0.001\n",
    "print('J',J,'J_epsilon',J_epsilon,'k',k)"
   ]
  },
  {
   "cell_type": "code",
   "execution_count": 14,
   "id": "55ec9558",
   "metadata": {},
   "outputs": [],
   "source": [
    "J, w = sympy.symbols('J,w')"
   ]
  },
  {
   "cell_type": "code",
   "execution_count": 15,
   "id": "efcf31b7",
   "metadata": {},
   "outputs": [
    {
     "data": {
      "text/latex": [
       "$\\displaystyle 6$"
      ],
      "text/plain": [
       "6"
      ]
     },
     "execution_count": 15,
     "metadata": {},
     "output_type": "execute_result"
    }
   ],
   "source": [
    "J=w**2\n",
    "dJ_dw=sympy.diff(J,w)\n",
    "dJ_dw.subs([(w,3)])"
   ]
  },
  {
   "cell_type": "markdown",
   "id": "ec0f0bd4",
   "metadata": {},
   "source": [
    "## Practice lab"
   ]
  },
  {
   "cell_type": "code",
   "execution_count": null,
   "id": "85fd0b08",
   "metadata": {},
   "outputs": [],
   "source": []
  }
 ],
 "metadata": {
  "kernelspec": {
   "display_name": "Python 3 (ipykernel)",
   "language": "python",
   "name": "python3"
  },
  "language_info": {
   "codemirror_mode": {
    "name": "ipython",
    "version": 3
   },
   "file_extension": ".py",
   "mimetype": "text/x-python",
   "name": "python",
   "nbconvert_exporter": "python",
   "pygments_lexer": "ipython3",
   "version": "3.8.12"
  }
 },
 "nbformat": 4,
 "nbformat_minor": 5
}
