{
 "cells": [
  {
   "cell_type": "markdown",
   "id": "19fce53d-dd1a-4dc2-b19b-a9a44af2a46f",
   "metadata": {},
   "source": [
    "# Natural Language Processing in tf"
   ]
  },
  {
   "cell_type": "markdown",
   "id": "c38b76d9-b739-40bd-ba27-0839931bde58",
   "metadata": {},
   "source": [
    "#### Tokenizer"
   ]
  },
  {
   "cell_type": "markdown",
   "id": "b2d11720-ab89-444b-b15c-96ef0b6578a9",
   "metadata": {},
   "source": [
    "`Tokens` - numerical representation of words"
   ]
  },
  {
   "cell_type": "code",
   "execution_count": 40,
   "id": "9671e370-bba6-4702-a7de-c584c134b934",
   "metadata": {},
   "outputs": [],
   "source": [
    "from tensorflow.keras.preprocessing.text import Tokenizer\n",
    "from tensorflow.keras.preprocessing.sequence import pad_sequences\n",
    "import json"
   ]
  },
  {
   "cell_type": "code",
   "execution_count": 4,
   "id": "1bf41c12-72ca-4bbe-bf40-2adc7f3613b7",
   "metadata": {},
   "outputs": [],
   "source": [
    "sentences=['I love my dog.','i love my cat','You love my dog!']"
   ]
  },
  {
   "cell_type": "code",
   "execution_count": 7,
   "id": "d131eed0-228a-4df0-86a9-6ddc6bce4375",
   "metadata": {},
   "outputs": [],
   "source": [
    "tokenizer=Tokenizer(num_words=100)\n",
    "tokenizer.fit_on_texts(sentences)"
   ]
  },
  {
   "cell_type": "code",
   "execution_count": 8,
   "id": "a190fb72-54b5-4978-a0d6-1e3c2fd3fb69",
   "metadata": {},
   "outputs": [
    {
     "data": {
      "text/plain": [
       "{'love': 1, 'my': 2, 'i': 3, 'dog': 4, 'cat': 5, 'you': 6}"
      ]
     },
     "execution_count": 8,
     "metadata": {},
     "output_type": "execute_result"
    }
   ],
   "source": [
    "word_index=tokenizer.word_index\n",
    "word_index"
   ]
  },
  {
   "cell_type": "markdown",
   "id": "a1b95074-248e-4a35-b75d-77061236a614",
   "metadata": {},
   "source": [
    "#### Sequences"
   ]
  },
  {
   "cell_type": "code",
   "execution_count": 9,
   "id": "fe55346d-a538-4298-a9cd-5e95842ce794",
   "metadata": {},
   "outputs": [],
   "source": [
    "sentences=['I love my dog.','i love my cat','You love my dog!','Do you think my dog is amazing?']"
   ]
  },
  {
   "cell_type": "code",
   "execution_count": 21,
   "id": "6eda5baa-1d6a-4b1a-91cf-728d0ec500e3",
   "metadata": {},
   "outputs": [],
   "source": [
    "tokenizer=Tokenizer(num_words=100)\n",
    "tokenizer.fit_on_texts(sentences)"
   ]
  },
  {
   "cell_type": "code",
   "execution_count": 22,
   "id": "f95d742d-6103-4878-b271-afa804f0fdc4",
   "metadata": {},
   "outputs": [
    {
     "data": {
      "text/plain": [
       "{'my': 1,\n",
       " 'love': 2,\n",
       " 'dog': 3,\n",
       " 'i': 4,\n",
       " 'you': 5,\n",
       " 'cat': 6,\n",
       " 'do': 7,\n",
       " 'think': 8,\n",
       " 'is': 9,\n",
       " 'amazing': 10}"
      ]
     },
     "execution_count": 22,
     "metadata": {},
     "output_type": "execute_result"
    }
   ],
   "source": [
    "word_index=tokenizer.word_index\n",
    "word_index"
   ]
  },
  {
   "cell_type": "code",
   "execution_count": 23,
   "id": "13e5aa8d-1b1b-40c2-8ea4-02072ae82a00",
   "metadata": {},
   "outputs": [
    {
     "data": {
      "text/plain": [
       "[[4, 2, 1, 3], [4, 2, 1, 6], [5, 2, 1, 3], [7, 5, 8, 1, 3, 9, 10]]"
      ]
     },
     "execution_count": 23,
     "metadata": {},
     "output_type": "execute_result"
    }
   ],
   "source": [
    "sequences=tokenizer.texts_to_sequences(sentences)\n",
    "sequences"
   ]
  },
  {
   "cell_type": "markdown",
   "id": "9190031e-0d2f-4e0e-ac01-afc11a22351f",
   "metadata": {},
   "source": [
    "#### Out Of Vocabulary words (OOV)"
   ]
  },
  {
   "cell_type": "markdown",
   "id": "5e501b74-f4a9-4c39-950b-1f01de1a1063",
   "metadata": {},
   "source": [
    "If a word is not present in the vocabulary it will not be added in the sequence"
   ]
  },
  {
   "cell_type": "code",
   "execution_count": 24,
   "id": "7983b0a7-7d62-4413-88b2-5eb0cefbfc2e",
   "metadata": {},
   "outputs": [
    {
     "data": {
      "text/plain": [
       "[[4, 3]]"
      ]
     },
     "execution_count": 24,
     "metadata": {},
     "output_type": "execute_result"
    }
   ],
   "source": [
    "test_data=['I really like dog and cats']\n",
    "tokenizer.texts_to_sequences(test_data)"
   ]
  },
  {
   "cell_type": "code",
   "execution_count": 25,
   "id": "063cc17d-c0a6-490e-a72f-81cb609c564d",
   "metadata": {},
   "outputs": [],
   "source": [
    "sentences=['I love my dog.','i love my cat','You love my dog!','Do you think my dog is amazing?']"
   ]
  },
  {
   "cell_type": "code",
   "execution_count": 26,
   "id": "12825feb-4822-4367-a768-f4e0442579d1",
   "metadata": {},
   "outputs": [],
   "source": [
    "tokenizer=Tokenizer(num_words=100,oov_token='<OOV>')\n",
    "tokenizer.fit_on_texts(sentences)"
   ]
  },
  {
   "cell_type": "code",
   "execution_count": 28,
   "id": "00885185-e3d3-4b45-9f52-66644ce4873b",
   "metadata": {},
   "outputs": [
    {
     "data": {
      "text/plain": [
       "{'<OOV>': 1,\n",
       " 'my': 2,\n",
       " 'love': 3,\n",
       " 'dog': 4,\n",
       " 'i': 5,\n",
       " 'you': 6,\n",
       " 'cat': 7,\n",
       " 'do': 8,\n",
       " 'think': 9,\n",
       " 'is': 10,\n",
       " 'amazing': 11}"
      ]
     },
     "execution_count": 28,
     "metadata": {},
     "output_type": "execute_result"
    }
   ],
   "source": [
    "word_index=tokenizer.word_index\n",
    "word_index"
   ]
  },
  {
   "cell_type": "code",
   "execution_count": 30,
   "id": "a613d560-04cc-413d-958e-06436c905ba3",
   "metadata": {},
   "outputs": [
    {
     "data": {
      "text/plain": [
       "[[5, 1, 1, 4, 1, 1]]"
      ]
     },
     "execution_count": 30,
     "metadata": {},
     "output_type": "execute_result"
    }
   ],
   "source": [
    "test_data=['I really like dog and cats']\n",
    "sequences=tokenizer.texts_to_sequences(test_data)\n",
    "sequences"
   ]
  },
  {
   "cell_type": "markdown",
   "id": "db94ea2e-163a-48aa-bf85-0dcf737ba916",
   "metadata": {},
   "source": [
    "#### Padding"
   ]
  },
  {
   "cell_type": "code",
   "execution_count": 34,
   "id": "cb55fd66-7097-4c6a-a4c3-eed5cc7a54d1",
   "metadata": {},
   "outputs": [
    {
     "data": {
      "text/plain": [
       "[[5, 3, 2, 4], [5, 3, 2, 7], [6, 3, 2, 4], [8, 6, 9, 2, 4, 10, 11]]"
      ]
     },
     "execution_count": 34,
     "metadata": {},
     "output_type": "execute_result"
    }
   ],
   "source": [
    "sequences=tokenizer.texts_to_sequences(sentences)\n",
    "sequences"
   ]
  },
  {
   "cell_type": "code",
   "execution_count": 35,
   "id": "890ee9c5-fd49-4cbc-bdac-4215470d19a0",
   "metadata": {},
   "outputs": [
    {
     "data": {
      "text/plain": [
       "array([[ 0,  0,  0,  5,  3,  2,  4],\n",
       "       [ 0,  0,  0,  5,  3,  2,  7],\n",
       "       [ 0,  0,  0,  6,  3,  2,  4],\n",
       "       [ 8,  6,  9,  2,  4, 10, 11]])"
      ]
     },
     "execution_count": 35,
     "metadata": {},
     "output_type": "execute_result"
    }
   ],
   "source": [
    "padded=pad_sequences(sequences)\n",
    "padded"
   ]
  },
  {
   "cell_type": "code",
   "execution_count": 37,
   "id": "be75a8f7-42cb-4da6-9192-aa729076f9af",
   "metadata": {},
   "outputs": [
    {
     "data": {
      "text/plain": [
       "array([[ 5,  3,  2,  4,  0,  0],\n",
       "       [ 5,  3,  2,  7,  0,  0],\n",
       "       [ 6,  3,  2,  4,  0,  0],\n",
       "       [ 8,  6,  9,  2,  4, 10]])"
      ]
     },
     "execution_count": 37,
     "metadata": {},
     "output_type": "execute_result"
    }
   ],
   "source": [
    "padded=pad_sequences(sequences,padding='post',truncating='post',maxlen=6)\n",
    "padded"
   ]
  },
  {
   "cell_type": "markdown",
   "id": "4b16f257-636e-40aa-bb62-bf36277906c4",
   "metadata": {},
   "source": [
    "##### Sarcasm data"
   ]
  },
  {
   "cell_type": "code",
   "execution_count": 39,
   "id": "3973f755-2ec1-4663-a27a-10fd3bc6fd9e",
   "metadata": {},
   "outputs": [],
   "source": [
    "#https://storage.googleapis.com/tensorflow-1-public/course3/sarcasm.json"
   ]
  },
  {
   "cell_type": "code",
   "execution_count": 48,
   "id": "e1e86154-c5df-4fe2-b3bd-7f814921b524",
   "metadata": {},
   "outputs": [],
   "source": [
    "from tensorflow.keras.preprocessing.text import Tokenizer\n",
    "from tensorflow.keras.preprocessing.sequence import pad_sequences\n",
    "import json"
   ]
  },
  {
   "cell_type": "code",
   "execution_count": 41,
   "id": "0a212b60-a462-4cdb-b17f-077023deecf9",
   "metadata": {},
   "outputs": [],
   "source": [
    "with open('sarcasm_text.json','r') as f:\n",
    "    data=json.load(f)"
   ]
  },
  {
   "cell_type": "code",
   "execution_count": 42,
   "id": "7837c2d9-feaa-4943-8ff9-d84df751ee75",
   "metadata": {},
   "outputs": [
    {
     "data": {
      "text/plain": [
       "{'article_link': 'https://www.huffingtonpost.com/entry/versace-black-code_us_5861fbefe4b0de3a08f600d5',\n",
       " 'headline': \"former versace store clerk sues over secret 'black code' for minority shoppers\",\n",
       " 'is_sarcastic': 0}"
      ]
     },
     "execution_count": 42,
     "metadata": {},
     "output_type": "execute_result"
    }
   ],
   "source": [
    "data[0]"
   ]
  },
  {
   "cell_type": "code",
   "execution_count": 43,
   "id": "74ac63f5-9b0a-4813-89ec-75571d3137a9",
   "metadata": {},
   "outputs": [],
   "source": [
    "sentences=[]\n",
    "labels=[]\n",
    "urls=[]\n",
    "for text in data:\n",
    "    sentences.append(text['headline'])\n",
    "    labels.append(text['is_sarcastic'])\n",
    "    urls.append(text['article_link'])"
   ]
  },
  {
   "cell_type": "code",
   "execution_count": 45,
   "id": "89830243-d9c7-4df3-b351-ef44f77dda92",
   "metadata": {},
   "outputs": [],
   "source": [
    "tokenizer=Tokenizer(oov_token='<OOV>')\n",
    "tokenizer.fit_on_texts(sentences)\n",
    "word_index=tokenizer.word_index"
   ]
  },
  {
   "cell_type": "code",
   "execution_count": 46,
   "id": "0d729575-c840-4b25-ad87-28041b34959e",
   "metadata": {},
   "outputs": [],
   "source": [
    "sequences=tokenizer.texts_to_sequences(sentences)\n",
    "padded=pad_sequences(sequences,padding='post')"
   ]
  },
  {
   "cell_type": "code",
   "execution_count": 47,
   "id": "26f64034-f9d9-4472-acaa-0f3c45f6e1cd",
   "metadata": {},
   "outputs": [
    {
     "name": "stdout",
     "output_type": "stream",
     "text": [
      "[308, 15115, 679, 3337, 2298, 48, 382, 2576, 15116, 6, 2577, 8434]\n",
      "[  308 15115   679  3337  2298    48   382  2576 15116     6  2577  8434\n",
      "     0     0     0     0     0     0     0     0     0     0     0     0\n",
      "     0     0     0     0     0     0     0     0     0     0     0     0\n",
      "     0     0     0     0]\n"
     ]
    }
   ],
   "source": [
    "print(sequences[0])\n",
    "print(padded[0])"
   ]
  },
  {
   "cell_type": "markdown",
   "id": "4aa716ff-1c70-439a-8958-c902865e1882",
   "metadata": {},
   "source": [
    "---"
   ]
  },
  {
   "cell_type": "markdown",
   "id": "99978889-bdbb-4c40-aa26-43a94487ee14",
   "metadata": {},
   "source": [
    "## Word Embeddings"
   ]
  },
  {
   "cell_type": "code",
   "execution_count": 1,
   "id": "8ac587aa-fe95-4d18-b98f-35263b38cd51",
   "metadata": {},
   "outputs": [
    {
     "name": "stderr",
     "output_type": "stream",
     "text": [
      "C:\\Users\\pk764\\miniconda3\\envs\\tensorflow\\lib\\site-packages\\tqdm\\auto.py:21: TqdmWarning: IProgress not found. Please update jupyter and ipywidgets. See https://ipywidgets.readthedocs.io/en/stable/user_install.html\n",
      "  from .autonotebook import tqdm as notebook_tqdm\n"
     ]
    }
   ],
   "source": [
    "from tensorflow.keras.preprocessing.text import Tokenizer\n",
    "from tensorflow.keras.preprocessing.sequence import pad_sequences\n",
    "import tensorflow_datasets as tfds\n",
    "import tensorflow as tf\n",
    "import numpy as np\n",
    "import io"
   ]
  },
  {
   "cell_type": "markdown",
   "id": "a0cb4508-9fe7-4d26-b992-837b3a4b0e4b",
   "metadata": {},
   "source": [
    "#### Data"
   ]
  },
  {
   "cell_type": "code",
   "execution_count": 2,
   "id": "cfc490c5-30ab-45f6-bd21-29ab0543ff9d",
   "metadata": {},
   "outputs": [],
   "source": [
    "imdb,info=tfds.load(\"imdb_reviews\",with_info=True,as_supervised=True)"
   ]
  },
  {
   "cell_type": "code",
   "execution_count": 3,
   "id": "7231f144-2003-406b-9e0e-d4f7eaafdbbe",
   "metadata": {},
   "outputs": [],
   "source": [
    "train,test=imdb['train'],imdb['test']"
   ]
  },
  {
   "cell_type": "code",
   "execution_count": 4,
   "id": "488847e5-b856-4fb8-a084-83e80e4a7660",
   "metadata": {},
   "outputs": [],
   "source": [
    "train_sentences=[]\n",
    "train_labels=[]\n",
    "for s,l in train:\n",
    "    train_sentences.append(s.numpy().decode('utf8'))\n",
    "    train_labels.append(l.numpy())\n",
    "\n",
    "test_sentences=[]\n",
    "test_labels=[]\n",
    "for s,l in test:\n",
    "    test_sentences.append(s.numpy().decode('utf8'))\n",
    "    test_labels.append(l.numpy())\n",
    "\n",
    "train_labels_final=np.array(train_labels)\n",
    "test_labels_final=np.array(test_labels)"
   ]
  },
  {
   "cell_type": "code",
   "execution_count": 75,
   "id": "f2a83938-6d41-4e0c-8363-ed15859368f5",
   "metadata": {},
   "outputs": [
    {
     "data": {
      "text/plain": [
       "\"This was an absolutely terrible movie. Don't be lured in by Christopher Walken or Michael Ironside. Both are great actors, but this must simply be their worst role in history. Even their great acting could not redeem this movie's ridiculous storyline. This movie is an early nineties US propaganda piece. The most pathetic scenes were those when the Columbian rebels were making their cases for revolutions. Maria Conchita Alonso appeared phony, and her pseudo-love affair with Walken was nothing but a pathetic emotional plug in a movie that was devoid of any real meaning. I am disappointed that there are movies like this, ruining actor's like Christopher Walken's good name. I could barely sit through it.\""
      ]
     },
     "execution_count": 75,
     "metadata": {},
     "output_type": "execute_result"
    }
   ],
   "source": [
    "train_sentences[0]"
   ]
  },
  {
   "cell_type": "code",
   "execution_count": 6,
   "id": "8f5f3e59-c904-442b-8f23-340c91911f9f",
   "metadata": {},
   "outputs": [
    {
     "data": {
      "text/plain": [
       "0"
      ]
     },
     "execution_count": 6,
     "metadata": {},
     "output_type": "execute_result"
    }
   ],
   "source": [
    "train_labels[0]"
   ]
  },
  {
   "cell_type": "code",
   "execution_count": 25,
   "id": "b5463b79-7d31-4b20-ab77-eef0dc262ba6",
   "metadata": {},
   "outputs": [],
   "source": [
    "vocab_size=10000\n",
    "max_length=120\n",
    "embedding_dim=16\n",
    "trunc_type='post'\n",
    "oov_tok=\"<OOV>\""
   ]
  },
  {
   "cell_type": "code",
   "execution_count": 61,
   "id": "5885ff2b-b6bf-4255-8806-8e387c6bbe23",
   "metadata": {},
   "outputs": [],
   "source": [
    "tokenizer=Tokenizer(num_words=10000,oov_token='<OOV>')\n",
    "tokenizer.fit_on_texts(train_sentences)\n",
    "word_index=tokenizer.word_index\n",
    "\n",
    "sequences=tokenizer.texts_to_sequences(train_sentences)\n",
    "padded=pad_sequences(sequences,maxlen=120,truncating='post')\n",
    "\n",
    "test_sequences=tokenizer.texts_to_sequences(test_sentences)\n",
    "test_padded=pad_sequences(test_sequences,maxlen=120,truncating='post')"
   ]
  },
  {
   "cell_type": "code",
   "execution_count": 23,
   "id": "eeea2cfa-6adb-4761-8a05-f08c8e272af4",
   "metadata": {},
   "outputs": [
    {
     "data": {
      "text/plain": [
       "12"
      ]
     },
     "execution_count": 23,
     "metadata": {},
     "output_type": "execute_result"
    }
   ],
   "source": [
    "word_index['this']"
   ]
  },
  {
   "cell_type": "code",
   "execution_count": 20,
   "id": "27a0a2e0-acee-4920-8442-5d53132f8ed8",
   "metadata": {},
   "outputs": [
    {
     "name": "stdout",
     "output_type": "stream",
     "text": [
      "12 14 33 425 392 18 90 28 1 9 32 1366 3585 40 486 1 197 24 85 154 19 12 213 329 28 66 247 215 9 477 58 66 85 114 98 22 5675 12 1322 643 767 12 18 7 33 400 8170 176 2455 416 2 89 1231 137 69 146 52 2 1 7577 69 229 66 2933 16 1 2904 1 1 1479 4940 3 39 3900 117 1584 17 3585 14 162 19 4 1231 917 7917 9 4 18 13 14 4139 5 99 145 1214 11 242 683 13 48 24 100 38 12 7181 5515 38 1366 1 50 401 11 98 1197 867 141 10\n"
     ]
    }
   ],
   "source": [
    "print(*sequences[0])"
   ]
  },
  {
   "cell_type": "code",
   "execution_count": 18,
   "id": "ba871bcf-04fd-4f69-a610-11ca4b3a544c",
   "metadata": {},
   "outputs": [
    {
     "data": {
      "text/plain": [
       "116"
      ]
     },
     "execution_count": 18,
     "metadata": {},
     "output_type": "execute_result"
    }
   ],
   "source": [
    "len(train_sentences[0].split(' '))"
   ]
  },
  {
   "cell_type": "code",
   "execution_count": 13,
   "id": "a78eeeb0-7c2e-4eee-9562-29217a6d39ca",
   "metadata": {},
   "outputs": [
    {
     "data": {
      "text/plain": [
       "array([   0,    0,    0,   12,   14,   33,  425,  392,   18,   90,   28,\n",
       "          1,    9,   32, 1366, 3585,   40,  486,    1,  197,   24,   85,\n",
       "        154,   19,   12,  213,  329,   28,   66,  247,  215,    9,  477,\n",
       "         58,   66,   85,  114,   98,   22, 5675,   12, 1322,  643,  767,\n",
       "         12,   18,    7,   33,  400, 8170,  176, 2455,  416,    2,   89,\n",
       "       1231,  137,   69,  146,   52,    2,    1, 7577,   69,  229,   66,\n",
       "       2933,   16,    1, 2904,    1,    1, 1479, 4940,    3,   39, 3900,\n",
       "        117, 1584,   17, 3585,   14,  162,   19,    4, 1231,  917, 7917,\n",
       "          9,    4,   18,   13,   14, 4139,    5,   99,  145, 1214,   11,\n",
       "        242,  683,   13,   48,   24,  100,   38,   12, 7181, 5515,   38,\n",
       "       1366,    1,   50,  401,   11,   98, 1197,  867,  141,   10])"
      ]
     },
     "execution_count": 13,
     "metadata": {},
     "output_type": "execute_result"
    }
   ],
   "source": [
    "padded[0]"
   ]
  },
  {
   "cell_type": "markdown",
   "id": "2596630d-f625-4691-a48e-744fb32ef3df",
   "metadata": {},
   "source": [
    "#### Model"
   ]
  },
  {
   "cell_type": "markdown",
   "id": "50ba358f-3b03-4973-8cfe-a2866fc8272e",
   "metadata": {},
   "source": [
    "`Embedding layer` - transforms the words into vectors (embeddings) by 'learning process'"
   ]
  },
  {
   "cell_type": "code",
   "execution_count": 27,
   "id": "79cb3471-f456-4ae8-8240-45613aa20510",
   "metadata": {},
   "outputs": [
    {
     "name": "stdout",
     "output_type": "stream",
     "text": [
      "Model: \"sequential\"\n",
      "_________________________________________________________________\n",
      " Layer (type)                Output Shape              Param #   \n",
      "=================================================================\n",
      " embedding (Embedding)       (None, 120, 16)           160000    \n",
      "                                                                 \n",
      " flatten (Flatten)           (None, 1920)              0         \n",
      "                                                                 \n",
      " dense (Dense)               (None, 6)                 11526     \n",
      "                                                                 \n",
      " dense_1 (Dense)             (None, 1)                 7         \n",
      "                                                                 \n",
      "=================================================================\n",
      "Total params: 171,533\n",
      "Trainable params: 171,533\n",
      "Non-trainable params: 0\n",
      "_________________________________________________________________\n"
     ]
    }
   ],
   "source": [
    "model=tf.keras.models.Sequential([\n",
    "    tf.keras.layers.Embedding(10000,16,input_length=120),\n",
    "    # tf.keras.layers.GlobalAveragePooling1D()  - can be instead of Flatten to speed up the training\n",
    "    tf.keras.layers.Flatten(),\n",
    "    tf.keras.layers.Dense(6,activation='relu'),\n",
    "    tf.keras.layers.Dense(1,activation='sigmoid')\n",
    "])\n",
    "model.compile(loss='binary_crossentropy',optimizer='adam',metrics=['accuracy'])\n",
    "model.summary()"
   ]
  },
  {
   "cell_type": "code",
   "execution_count": 28,
   "id": "32b14c15-f171-48f4-9198-778eb746367f",
   "metadata": {},
   "outputs": [
    {
     "name": "stdout",
     "output_type": "stream",
     "text": [
      "Epoch 1/10\n",
      "782/782 [==============================] - 6s 6ms/step - loss: 0.4785 - accuracy: 0.7544 - val_loss: 0.3825 - val_accuracy: 0.8276\n",
      "Epoch 2/10\n",
      "782/782 [==============================] - 5s 6ms/step - loss: 0.2371 - accuracy: 0.9090 - val_loss: 0.4125 - val_accuracy: 0.8188\n",
      "Epoch 3/10\n",
      "782/782 [==============================] - 4s 6ms/step - loss: 0.0944 - accuracy: 0.9751 - val_loss: 0.5062 - val_accuracy: 0.8042\n",
      "Epoch 4/10\n",
      "782/782 [==============================] - 4s 5ms/step - loss: 0.0235 - accuracy: 0.9973 - val_loss: 0.5912 - val_accuracy: 0.8092\n",
      "Epoch 5/10\n",
      "782/782 [==============================] - 5s 7ms/step - loss: 0.0062 - accuracy: 0.9995 - val_loss: 0.6674 - val_accuracy: 0.8084\n",
      "Epoch 6/10\n",
      "782/782 [==============================] - 4s 5ms/step - loss: 0.0018 - accuracy: 1.0000 - val_loss: 0.7312 - val_accuracy: 0.8084\n",
      "Epoch 7/10\n",
      "782/782 [==============================] - 4s 5ms/step - loss: 8.6153e-04 - accuracy: 1.0000 - val_loss: 0.7813 - val_accuracy: 0.8084\n",
      "Epoch 8/10\n",
      "782/782 [==============================] - 4s 5ms/step - loss: 4.7986e-04 - accuracy: 1.0000 - val_loss: 0.8313 - val_accuracy: 0.8076\n",
      "Epoch 9/10\n",
      "782/782 [==============================] - 3s 4ms/step - loss: 2.7895e-04 - accuracy: 1.0000 - val_loss: 0.8706 - val_accuracy: 0.8086\n",
      "Epoch 10/10\n",
      "782/782 [==============================] - 4s 6ms/step - loss: 1.6808e-04 - accuracy: 1.0000 - val_loss: 0.9158 - val_accuracy: 0.8082\n"
     ]
    },
    {
     "data": {
      "text/plain": [
       "<keras.callbacks.History at 0x27fb5fa0f10>"
      ]
     },
     "execution_count": 28,
     "metadata": {},
     "output_type": "execute_result"
    }
   ],
   "source": [
    "model.fit(padded, train_labels_final, epochs=10, validation_data=(test_padded, test_labels_final))"
   ]
  },
  {
   "cell_type": "code",
   "execution_count": 29,
   "id": "c1c8ff90-879c-4900-9dae-9234e71d48d2",
   "metadata": {},
   "outputs": [
    {
     "name": "stdout",
     "output_type": "stream",
     "text": [
      "(10000, 16)\n"
     ]
    }
   ],
   "source": [
    "embedding_layer = model.layers[0]\n",
    "embedding_weights = embedding_layer.get_weights()[0]\n",
    "print(embedding_weights.shape) "
   ]
  },
  {
   "cell_type": "code",
   "execution_count": 36,
   "id": "ca8f205e-f618-40b5-ac5c-207dc61e6a8f",
   "metadata": {},
   "outputs": [],
   "source": [
    "reverse_word_index = tokenizer.index_word"
   ]
  },
  {
   "cell_type": "markdown",
   "id": "35a65f12-2341-423c-8f39-40cd6dc5b523",
   "metadata": {},
   "source": [
    "### Ebdedding for word 'this'"
   ]
  },
  {
   "cell_type": "code",
   "execution_count": 41,
   "id": "5def3943-044f-4c1d-afa4-e758d1f2f241",
   "metadata": {},
   "outputs": [
    {
     "data": {
      "text/plain": [
       "12"
      ]
     },
     "execution_count": 41,
     "metadata": {},
     "output_type": "execute_result"
    }
   ],
   "source": [
    "word_index['this']"
   ]
  },
  {
   "cell_type": "code",
   "execution_count": 40,
   "id": "965c1df8-a86f-4560-8c61-e18ad96883bf",
   "metadata": {},
   "outputs": [
    {
     "data": {
      "text/plain": [
       "'this'"
      ]
     },
     "execution_count": 40,
     "metadata": {},
     "output_type": "execute_result"
    }
   ],
   "source": [
    "reverse_word_index[12]"
   ]
  },
  {
   "cell_type": "code",
   "execution_count": 33,
   "id": "97b5382a-447d-447d-b6fa-d86ae6592821",
   "metadata": {},
   "outputs": [
    {
     "data": {
      "text/plain": [
       "array([ 0.01732098,  0.03883694,  0.00314773,  0.07088259, -0.01046987,\n",
       "       -0.06574874,  0.00452995, -0.07446088, -0.03176188,  0.0255941 ,\n",
       "        0.04540478,  0.02921965, -0.10129014, -0.06795222,  0.04545994,\n",
       "       -0.02090956], dtype=float32)"
      ]
     },
     "execution_count": 33,
     "metadata": {},
     "output_type": "execute_result"
    }
   ],
   "source": [
    "embedding_layer.get_weights()[0][12]"
   ]
  },
  {
   "cell_type": "markdown",
   "id": "6d8857c1-fdba-4a8e-a709-c3fe89f9ffaa",
   "metadata": {},
   "source": [
    "#### saving embedding to files"
   ]
  },
  {
   "cell_type": "code",
   "execution_count": 48,
   "id": "97c91cff-cedb-4930-a0e3-dac5db2e48d4",
   "metadata": {},
   "outputs": [],
   "source": [
    "out_v = io.open('vecs.tsv', 'w', encoding='utf-8')\n",
    "out_m = io.open('meta.tsv', 'w', encoding='utf-8')\n",
    "\n",
    "for word_num in range(1, vocab_size):\n",
    "  word_name = reverse_word_index[word_num]\n",
    "  word_embedding = embedding_weights[word_num]\n",
    "  out_m.write(word_name + \"\\n\")\n",
    "  out_v.write('\\t'.join([str(x) for x in word_embedding]) + \"\\n\")\n",
    "\n",
    "out_v.close()\n",
    "out_m.close()"
   ]
  },
  {
   "cell_type": "markdown",
   "id": "e0c2b0bf-1551-4bd6-a613-5fc94aa6f134",
   "metadata": {},
   "source": [
    "#### Prediction"
   ]
  },
  {
   "cell_type": "code",
   "execution_count": 88,
   "id": "94abdf4a-7679-47ef-a7f1-2d1955b7efb0",
   "metadata": {},
   "outputs": [],
   "source": [
    "sentence=['I am very sad and disappointed.']\n",
    "sequence=tokenizer.texts_to_sequences(sentence)\n",
    "padded_sentence=pad_sequences(sequence,maxlen=120,truncating='post')"
   ]
  },
  {
   "cell_type": "code",
   "execution_count": 93,
   "id": "b5e75a9b-9408-4c97-8261-1afa34075197",
   "metadata": {},
   "outputs": [
    {
     "data": {
      "text/plain": [
       "array([[0.01014504]], dtype=float32)"
      ]
     },
     "execution_count": 93,
     "metadata": {},
     "output_type": "execute_result"
    }
   ],
   "source": [
    "model.predict(padded_sentence)"
   ]
  },
  {
   "cell_type": "code",
   "execution_count": 100,
   "id": "06eef46f-865f-4655-b6fd-fbe3f67973db",
   "metadata": {},
   "outputs": [],
   "source": [
    "sentence=['I am very happy and positive.']\n",
    "sequence=tokenizer.texts_to_sequences(sentence)\n",
    "padded_sentence=pad_sequences(sequence,maxlen=120,truncating='post')"
   ]
  },
  {
   "cell_type": "code",
   "execution_count": 101,
   "id": "3e528f47-a7e1-4f2c-bcb6-6b0710124e20",
   "metadata": {},
   "outputs": [
    {
     "data": {
      "text/plain": [
       "array([[0.07908636]], dtype=float32)"
      ]
     },
     "execution_count": 101,
     "metadata": {},
     "output_type": "execute_result"
    }
   ],
   "source": [
    "model.predict(padded_sentence)"
   ]
  },
  {
   "cell_type": "markdown",
   "id": "93583ba3-709d-43c8-89e9-951af27c60f4",
   "metadata": {},
   "source": [
    "#### embedding representation of the sentence"
   ]
  },
  {
   "cell_type": "code",
   "execution_count": 105,
   "id": "08e382f4-4a35-4b4f-a56a-1f05c351fca9",
   "metadata": {},
   "outputs": [],
   "source": [
    "sentence=['I am very sad and disappointed.']\n",
    "sequence=tokenizer.texts_to_sequences(sentence)\n",
    "padded_sentence=pad_sequences(sequence,maxlen=120,truncating='post')"
   ]
  },
  {
   "cell_type": "code",
   "execution_count": 106,
   "id": "1fc60b7b-8539-45b3-8703-dea668e9fd46",
   "metadata": {},
   "outputs": [],
   "source": [
    "embedding_layer = model.layers[0]\n",
    "embedding_weights = embedding_layer.get_weights()[0]"
   ]
  },
  {
   "cell_type": "code",
   "execution_count": 104,
   "id": "f46d3b26-a011-4c0d-b70a-a8005b1e0c3c",
   "metadata": {},
   "outputs": [
    {
     "data": {
      "text/plain": [
       "[11, 242, 53, 617, 3, 683]"
      ]
     },
     "execution_count": 104,
     "metadata": {},
     "output_type": "execute_result"
    }
   ],
   "source": [
    "sequence[0]"
   ]
  },
  {
   "cell_type": "code",
   "execution_count": 107,
   "id": "f911a57b-7844-4acb-a028-31afc6b004da",
   "metadata": {},
   "outputs": [
    {
     "data": {
      "text/plain": [
       "[array([ 0.05546806,  0.02298771,  0.0172684 ,  0.03091698, -0.07459392,\n",
       "         0.01433226,  0.02187289,  0.00327258, -0.00966344,  0.02315352,\n",
       "        -0.03263053, -0.03765973, -0.06803975, -0.09124558,  0.04811637,\n",
       "        -0.08203588], dtype=float32),\n",
       " array([-0.05712991,  0.01696622, -0.14221789,  0.03213404, -0.05724561,\n",
       "        -0.01006129, -0.00514991,  0.06566341, -0.21159425,  0.0419423 ,\n",
       "        -0.09126277,  0.11824071, -0.06019272,  0.00994538,  0.08418934,\n",
       "        -0.06620424], dtype=float32),\n",
       " array([ 0.03498159,  0.03117444,  0.0812915 , -0.01013181,  0.02452705,\n",
       "        -0.00558887,  0.06784967, -0.03621948,  0.04363375,  0.01972983,\n",
       "         0.14937499, -0.03679243,  0.00167526, -0.07363233, -0.05904289,\n",
       "         0.04830597], dtype=float32),\n",
       " array([-0.14086892, -0.00389054, -0.04655302, -0.02539505,  0.16150677,\n",
       "        -0.09445944,  0.04134813,  0.1930382 ,  0.11897997,  0.02631295,\n",
       "        -0.06040715,  0.1259364 , -0.03673497,  0.07601505,  0.12779288,\n",
       "         0.06780225], dtype=float32),\n",
       " array([-0.03708884,  0.0366281 ,  0.03187872,  0.02460837,  0.022135  ,\n",
       "         0.05045582,  0.06423651, -0.03145779, -0.044817  , -0.0109619 ,\n",
       "         0.10242252,  0.01171654, -0.10162327, -0.07925332, -0.02633249,\n",
       "        -0.02686153], dtype=float32),\n",
       " array([-0.13110282,  0.0994034 , -0.18507695,  0.03569267,  0.12239027,\n",
       "        -0.05107437,  0.01946856,  0.08759416, -0.16086607,  0.18182506,\n",
       "        -0.15469979,  0.23837826,  0.19074163,  0.10894471,  0.11459512,\n",
       "        -0.17605112], dtype=float32)]"
      ]
     },
     "execution_count": 107,
     "metadata": {},
     "output_type": "execute_result"
    }
   ],
   "source": [
    "[embedding_weights[i] for i in sequence[0] ]"
   ]
  },
  {
   "cell_type": "markdown",
   "id": "e7a8fca2-463a-41da-ae77-76842f613491",
   "metadata": {},
   "source": [
    "---"
   ]
  },
  {
   "cell_type": "code",
   "execution_count": 113,
   "id": "a1a85d0e-844e-47cb-b96a-576f4b4b6fb1",
   "metadata": {},
   "outputs": [],
   "source": [
    "import numpy as np\n",
    "from tensorflow.keras.preprocessing.text import Tokenizer\n",
    "from tensorflow.keras.preprocessing.sequence import pad_sequences\n",
    "import json"
   ]
  },
  {
   "cell_type": "code",
   "execution_count": 111,
   "id": "85a14741-5a75-4219-99b8-c4e7f4199e4a",
   "metadata": {},
   "outputs": [],
   "source": [
    "with open(\"data/sarcasm_text.json\", 'r') as f:\n",
    "    datastore = json.load(f)\n",
    "\n",
    "sentences = []\n",
    "labels = []\n",
    "for item in datastore:\n",
    "    sentences.append(item['headline'])\n",
    "    labels.append(item['is_sarcastic'])"
   ]
  },
  {
   "cell_type": "code",
   "execution_count": 114,
   "id": "843a7905-4502-4e2f-9a18-b5a16ed69883",
   "metadata": {},
   "outputs": [],
   "source": [
    "train_sentences = sentences[0:20000]\n",
    "test_sentences = sentences[20000:]\n",
    "\n",
    "train_labels = labels[0:20000]\n",
    "test_labels = labels[20000:]"
   ]
  },
  {
   "cell_type": "code",
   "execution_count": 123,
   "id": "ff7b8db4-9146-4ce5-8425-1937e7167c93",
   "metadata": {},
   "outputs": [],
   "source": [
    "tokenizer=Tokenizer(num_words=10000,oov_token='<OOV>')\n",
    "tokenizer.fit_on_texts(train_sentences)\n",
    "word_index=tokenizer.word_index\n",
    "\n",
    "sequences=tokenizer.texts_to_sequences(train_sentences)\n",
    "padded=pad_sequences(sequences,maxlen=32,truncating='post',padding='post')\n",
    "\n",
    "test_sequences=tokenizer.texts_to_sequences(test_sentences)\n",
    "test_padded=pad_sequences(test_sequences,maxlen=32,truncating='post',padding='post')\n",
    "\n",
    "train_labels = np.array(train_labels)\n",
    "test_labels = np.array(test_labels)"
   ]
  },
  {
   "cell_type": "markdown",
   "id": "d77f52cd-787a-4c6c-b14c-570dc9cd710e",
   "metadata": {},
   "source": [
    "#### Global Average Pooling 1D"
   ]
  },
  {
   "cell_type": "markdown",
   "id": "3581e5db-3959-4a0d-a60c-c898743b9dee",
   "metadata": {},
   "source": [
    "Transferd array [[10,1,1],[2,3,1]] into [[4],[2]] by averaging numbers"
   ]
  },
  {
   "cell_type": "code",
   "execution_count": 119,
   "id": "6ab64203-7609-42c9-8530-de95e422a2b9",
   "metadata": {},
   "outputs": [
    {
     "name": "stdout",
     "output_type": "stream",
     "text": [
      "shape of sample_array = (1, 3, 2)\n",
      "sample array: [[[10  2]\n",
      "  [ 1  3]\n",
      "  [ 1  1]]]\n",
      "output shape of gap1d_layer: (1, 2)\n",
      "output array of gap1d_layer: [[4 2]]\n"
     ]
    }
   ],
   "source": [
    "import tensorflow as tf\n",
    "\n",
    "gap1d_layer = tf.keras.layers.GlobalAveragePooling1D()\n",
    "\n",
    "sample_array = np.array([[[10,2],[1,3],[1,1]]])\n",
    "output = gap1d_layer(sample_array)\n",
    "\n",
    "print(f'shape of sample_array = {sample_array.shape}')\n",
    "print(f'sample array: {sample_array}')\n",
    "\n",
    "print(f'output shape of gap1d_layer: {output.shape}')\n",
    "print(f'output array of gap1d_layer: {output.numpy()}')"
   ]
  },
  {
   "cell_type": "markdown",
   "id": "6b20e554-3f63-47f2-9bc7-e68200725214",
   "metadata": {},
   "source": [
    "#### Model"
   ]
  },
  {
   "cell_type": "code",
   "execution_count": 122,
   "id": "500af510-6fa4-4344-a4ee-b0f3e90fb298",
   "metadata": {},
   "outputs": [],
   "source": [
    "model=tf.keras.models.Sequential([\n",
    "    tf.keras.layers.Embedding(10000,16,input_length=32),\n",
    "    tf.keras.layers.GlobalAveragePooling1D(),\n",
    "    tf.keras.layers.Dense(16,activation='relu'),\n",
    "    tf.keras.layers.Dense(1,activation='sigmoid')\n",
    "])\n",
    "model.compile(loss='binary_crossentropy',optimizer='adam',metrics=['accuracy'])"
   ]
  },
  {
   "cell_type": "code",
   "execution_count": 125,
   "id": "a6f683ba-f9fa-43ad-94da-8574a31400a2",
   "metadata": {},
   "outputs": [
    {
     "name": "stdout",
     "output_type": "stream",
     "text": [
      "Epoch 1/10\n",
      "625/625 - 3s - loss: 0.5863 - accuracy: 0.6862 - val_loss: 0.4171 - val_accuracy: 0.8247 - 3s/epoch - 5ms/step\n",
      "Epoch 2/10\n",
      "625/625 - 2s - loss: 0.3296 - accuracy: 0.8663 - val_loss: 0.3545 - val_accuracy: 0.8450 - 2s/epoch - 3ms/step\n",
      "Epoch 3/10\n",
      "625/625 - 2s - loss: 0.2487 - accuracy: 0.9025 - val_loss: 0.3446 - val_accuracy: 0.8517 - 2s/epoch - 3ms/step\n",
      "Epoch 4/10\n",
      "625/625 - 2s - loss: 0.2013 - accuracy: 0.9232 - val_loss: 0.3519 - val_accuracy: 0.8533 - 2s/epoch - 3ms/step\n",
      "Epoch 5/10\n",
      "625/625 - 2s - loss: 0.1693 - accuracy: 0.9358 - val_loss: 0.3839 - val_accuracy: 0.8484 - 2s/epoch - 3ms/step\n",
      "Epoch 6/10\n",
      "625/625 - 2s - loss: 0.1445 - accuracy: 0.9481 - val_loss: 0.4062 - val_accuracy: 0.8466 - 2s/epoch - 3ms/step\n",
      "Epoch 7/10\n",
      "625/625 - 2s - loss: 0.1238 - accuracy: 0.9566 - val_loss: 0.4440 - val_accuracy: 0.8407 - 2s/epoch - 3ms/step\n",
      "Epoch 8/10\n",
      "625/625 - 2s - loss: 0.1075 - accuracy: 0.9635 - val_loss: 0.4760 - val_accuracy: 0.8447 - 2s/epoch - 3ms/step\n",
      "Epoch 9/10\n",
      "625/625 - 2s - loss: 0.0932 - accuracy: 0.9686 - val_loss: 0.5326 - val_accuracy: 0.8353 - 2s/epoch - 3ms/step\n",
      "Epoch 10/10\n",
      "625/625 - 2s - loss: 0.0803 - accuracy: 0.9742 - val_loss: 0.5636 - val_accuracy: 0.8374 - 2s/epoch - 3ms/step\n"
     ]
    }
   ],
   "source": [
    "history = model.fit(padded, train_labels, epochs=10, validation_data=(test_padded, test_labels), verbose=2)"
   ]
  },
  {
   "cell_type": "markdown",
   "id": "fc4b4a3a-fb8a-41d0-b201-ededd0d52978",
   "metadata": {},
   "source": [
    "#### Results"
   ]
  },
  {
   "cell_type": "code",
   "execution_count": 126,
   "id": "6452847f-9b78-4d2e-ae70-541bed74f5a1",
   "metadata": {},
   "outputs": [
    {
     "data": {
      "image/png": "[encoded data removed]",
      "text/plain": [
       "<Figure size 640x480 with 1 Axes>"
      ]
     },
     "metadata": {},
     "output_type": "display_data"
    },
    {
     "data": {
      "image/png": "[encoded data removed]",
      "text/plain": [
       "<Figure size 640x480 with 1 Axes>"
      ]
     },
     "metadata": {},
     "output_type": "display_data"
    }
   ],
   "source": [
    "import matplotlib.pyplot as plt\n",
    "\n",
    "# Plot utility\n",
    "def plot_graphs(history, string):\n",
    "  plt.plot(history.history[string])\n",
    "  plt.plot(history.history['val_'+string])\n",
    "  plt.xlabel(\"Epochs\")\n",
    "  plt.ylabel(string)\n",
    "  plt.legend([string, 'val_'+string])\n",
    "  plt.show()\n",
    "  \n",
    "# Plot the accuracy and loss\n",
    "plot_graphs(history, \"accuracy\")\n",
    "plot_graphs(history, \"loss\")"
   ]
  },
  {
   "cell_type": "markdown",
   "id": "925b2342-098f-4321-a4c0-5a1e1a925b78",
   "metadata": {},
   "source": [
    "### Visualuze embeddings"
   ]
  },
  {
   "cell_type": "code",
   "execution_count": 128,
   "id": "0e1437ef-4833-4367-8702-b037ec74a700",
   "metadata": {},
   "outputs": [],
   "source": [
    "reverse_word_index = tokenizer.index_word\n",
    "embedding_layer = model.layers[0]\n",
    "embedding_weights = embedding_layer.get_weights()[0]"
   ]
  },
  {
   "cell_type": "markdown",
   "id": "4a860edc-7412-40a1-99c2-723b5d5a9bed",
   "metadata": {},
   "source": [
    "[Tensorflow Embedding Projector](https://projector.tensorflow.org/)"
   ]
  },
  {
   "cell_type": "code",
   "execution_count": null,
   "id": "e0d91d4f-c6a4-4fc7-8739-c5e72b41df95",
   "metadata": {},
   "outputs": [],
   "source": [
    "import io\n",
    "\n",
    "out_v = io.open('vecs.tsv', 'w', encoding='utf-8')\n",
    "out_m = io.open('meta.tsv', 'w', encoding='utf-8')\n",
    "\n",
    "for word_num in range(1, vocab_size):\n",
    "  word_name = reverse_word_index[word_num]\n",
    "  word_embedding = embedding_weights[word_num]\n",
    "  out_m.write(word_name + \"\\n\")\n",
    "  out_v.write('\\t'.join([str(x) for x in word_embedding]) + \"\\n\")\n",
    "\n",
    "out_v.close()\n",
    "out_m.close()"
   ]
  },
  {
   "cell_type": "markdown",
   "id": "7174a975-af09-4bd7-b3c0-4b99b70cc4af",
   "metadata": {},
   "source": [
    "---"
   ]
  },
  {
   "cell_type": "markdown",
   "id": "1bcce8a9-b373-46e5-b840-ac5b0389178c",
   "metadata": {},
   "source": [
    "## Subwords"
   ]
  },
  {
   "cell_type": "code",
   "execution_count": 1,
   "id": "322edf9a-6b3e-4dff-8d3a-2d06c4e6d7cb",
   "metadata": {},
   "outputs": [
    {
     "name": "stderr",
     "output_type": "stream",
     "text": [
      "C:\\Users\\pk764\\miniconda3\\envs\\tensorflow\\lib\\site-packages\\tqdm\\auto.py:21: TqdmWarning: IProgress not found. Please update jupyter and ipywidgets. See https://ipywidgets.readthedocs.io/en/stable/user_install.html\n",
      "  from .autonotebook import tqdm as notebook_tqdm\n"
     ]
    }
   ],
   "source": [
    "from tensorflow.keras.preprocessing.text import Tokenizer\n",
    "from tensorflow.keras.preprocessing.sequence import pad_sequences\n",
    "import tensorflow_datasets as tfds\n",
    "import tensorflow as tf\n",
    "import numpy as np"
   ]
  },
  {
   "cell_type": "markdown",
   "id": "a566beec-304f-4e41-9ddd-45ee6798f993",
   "metadata": {},
   "source": [
    "#### Data"
   ]
  },
  {
   "cell_type": "code",
   "execution_count": 1,
   "id": "c092182d-494e-4a0d-a30f-903739d35040",
   "metadata": {},
   "outputs": [],
   "source": [
    "imdb_plaintext, info_plaintext = tfds.load(\"imdb_reviews\", with_info=True, as_supervised=True)\n",
    "imdb_subwords, info_subwords = tfds.load(\"imdb_reviews/subwords8k\", with_info=True, as_supervised=True)"
   ]
  },
  {
   "cell_type": "code",
   "execution_count": 17,
   "id": "ab7251e3-d248-4de2-afee-cd354f58fea3",
   "metadata": {},
   "outputs": [
    {
     "name": "stdout",
     "output_type": "stream",
     "text": [
      "tf.Tensor(\n",
      "[  62   18   41  604  927   65    3  644 7968   21   35 5096   36   11\n",
      "   43 2948 5240  102   50  681 7862 1244    3 3266   29  122  640    2\n",
      "   26   14  279  438   35   79  349  384   11 1991    3  492   79  122\n",
      "  188  117   33 4047 4531   14   65 7968    8 1819 3947    3   62   27\n",
      "    9   41  577 5044 2629 2552 7193 7961 3642    3   19  107 3903  225\n",
      "   85  198   72    1 1512  738 2347  102 6245    8   85  308   79 6936\n",
      " 7961   23 4981 8044    3 6429 7961 1141 1335 1848 4848   55 3601 4217\n",
      " 8050    2    5   59 3831 1484 8040 7974  174 5773   22 5240  102   18\n",
      "  247   26    4 3903 1612 3902  291   11    4   27   13   18 4092 4008\n",
      " 7961    6  119  213 2774    3   12  258 2306   13   91   29  171   52\n",
      "  229    2 1245 5790  995 7968    8   52 2948 5240 8039 7968    8   74\n",
      " 1249    3   12  117 2438 1369  192   39 7975], shape=(163,), dtype=int64)\n",
      "This was an absolutely terrible movie. Don't be lured in by Christopher Walken or Michael Ironside. Both are great actors, but this must simply be their worst role in history. Even their great acting could not redeem this movie's ridiculous storyline. This movie is an early nineties US propaganda piece. The most pathetic scenes were those when the Columbian rebels were making their cases for revolutions. Maria Conchita Alonso appeared phony, and her pseudo-love affair with Walken was nothing but a pathetic emotional plug in a movie that was devoid of any real meaning. I am disappointed that there are movies like this, ruining actor's like Christopher Walken's good name. I could barely sit through it.\n"
     ]
    }
   ],
   "source": [
    "tokenizer_subwords = info_subwords.features['text'].encoder\n",
    "\n",
    "for example in imdb_subwords['train'].take(1):\n",
    "    print(example[0])\n",
    "    print(tokenizer_subwords.decode(example[0]))"
   ]
  },
  {
   "cell_type": "code",
   "execution_count": 20,
   "id": "e62b41ea-354c-45f8-b8c7-721669693f43",
   "metadata": {},
   "outputs": [
    {
     "name": "stdout",
     "output_type": "stream",
     "text": [
      "This was an absolutely terrible movie. Don't be lured in by Christopher Walken or Michael Ironside. Both are great actors, but this must simply be their worst role in history. Even their great acting could not redeem this movie's ridiculous storyline. This movie is an early nineties US propaganda piece. The most pathetic scenes were those when the Columbian rebels were making their cases for revolutions. Maria Conchita Alonso appeared phony, and her pseudo-love affair with Walken was nothing but a pathetic emotional plug in a movie that was devoid of any real meaning. I am disappointed that there are movies like this, ruining actor's like Christopher Walken's good name. I could barely sit through it.\n"
     ]
    }
   ],
   "source": [
    "train_data = imdb_plaintext['train']\n",
    "training_sentences = []\n",
    "\n",
    "for s,_ in train_data:\n",
    "  training_sentences.append(s.numpy().decode('utf8'))\n",
    "print(training_sentences[0])"
   ]
  },
  {
   "cell_type": "code",
   "execution_count": 8,
   "id": "8f580d55-7251-4794-bad7-0cbf4a631032",
   "metadata": {},
   "outputs": [],
   "source": [
    "tokenizer_plaintext = Tokenizer(num_words = 10000, oov_token='<OOV>')\n",
    "tokenizer_plaintext.fit_on_texts(training_sentences)\n",
    "sequences = tokenizer_plaintext.texts_to_sequences(training_sentences)"
   ]
  },
  {
   "cell_type": "code",
   "execution_count": 9,
   "id": "c3e46af1-04c5-4284-8495-2502ef888973",
   "metadata": {},
   "outputs": [
    {
     "data": {
      "text/plain": [
       "[\"this was an absolutely terrible movie don't be <OOV> in by christopher walken or michael <OOV> both are great actors but this must simply be their worst role in history even their great acting could not redeem this movie's ridiculous storyline this movie is an early nineties us propaganda piece the most pathetic scenes were those when the <OOV> rebels were making their cases for <OOV> maria <OOV> <OOV> appeared phony and her pseudo love affair with walken was nothing but a pathetic emotional plug in a movie that was devoid of any real meaning i am disappointed that there are movies like this ruining actor's like christopher <OOV> good name i could barely sit through it\"]"
      ]
     },
     "execution_count": 9,
     "metadata": {},
     "output_type": "execute_result"
    }
   ],
   "source": [
    "tokenizer_plaintext.sequences_to_texts(sequences[0:1])"
   ]
  },
  {
   "cell_type": "code",
   "execution_count": 11,
   "id": "754f73eb-207e-469f-b36a-07219128723c",
   "metadata": {},
   "outputs": [
    {
     "name": "stdout",
     "output_type": "stream",
     "text": [
      "[62, 18, 41, 604, 927, 65, 3, 644, 7968, 21, 35, 5096, 36, 11, 43, 2948, 5240, 102, 50, 681, 7862, 1244, 3, 3266, 29, 122, 640, 2, 26, 14, 279, 438, 35, 79, 349, 384, 11, 1991, 3, 492, 79, 122, 188, 117, 33, 4047, 4531, 14, 65, 7968, 8, 1819, 3947, 3, 62, 27, 9, 41, 577, 5044, 2629, 2552, 7193, 7961, 3642, 3, 19, 107, 3903, 225, 85, 198, 72, 1, 1512, 738, 2347, 102, 6245, 8, 85, 308, 79, 6936, 7961, 23, 4981, 8044, 3, 6429, 7961, 1141, 1335, 1848, 4848, 55, 3601, 4217, 8050, 2, 5, 59, 3831, 1484, 8040, 7974, 174, 5773, 22, 5240, 102, 18, 247, 26, 4, 3903, 1612, 3902, 291, 11, 4, 27, 13, 18, 4092, 4008, 7961, 6, 119, 213, 2774, 3, 12, 258, 2306, 13, 91, 29, 171, 52, 229, 2, 1245, 5790, 995, 7968, 8, 52, 2948, 5240, 8039, 7968, 8, 74, 1249, 3, 12, 117, 2438, 1369, 192, 39, 7975]\n",
      "This was an absolutely terrible movie. Don't be lured in by Christopher Walken or Michael Ironside. Both are great actors, but this must simply be their worst role in history. Even their great acting could not redeem this movie's ridiculous storyline. This movie is an early nineties US propaganda piece. The most pathetic scenes were those when the Columbian rebels were making their cases for revolutions. Maria Conchita Alonso appeared phony, and her pseudo-love affair with Walken was nothing but a pathetic emotional plug in a movie that was devoid of any real meaning. I am disappointed that there are movies like this, ruining actor's like Christopher Walken's good name. I could barely sit through it.\n"
     ]
    }
   ],
   "source": [
    "tokenized_string = tokenizer_subwords.encode(training_sentences[0])\n",
    "print(tokenized_string)\n",
    "original_string = tokenizer_subwords.decode(tokenized_string)\n",
    "print (original_string)"
   ]
  },
  {
   "cell_type": "code",
   "execution_count": null,
   "id": "49aef8c1-082f-4d73-90c9-ff713dd70085",
   "metadata": {},
   "outputs": [],
   "source": []
  }
 ],
 "metadata": {
  "kernelspec": {
   "display_name": "Python 3 (ipykernel)",
   "language": "python",
   "name": "python3"
  },
  "language_info": {
   "codemirror_mode": {
    "name": "ipython",
    "version": 3
   },
   "file_extension": ".py",
   "mimetype": "text/x-python",
   "name": "python",
   "nbconvert_exporter": "python",
   "pygments_lexer": "ipython3",
   "version": "3.9.18"
  }
 },
 "nbformat": 4,
 "nbformat_minor": 5
}
