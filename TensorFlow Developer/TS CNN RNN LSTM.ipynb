{
 "cells": [
  {
   "cell_type": "markdown",
   "id": "4c89f266",
   "metadata": {},
   "source": [
    "# Convolutions with LSTM"
   ]
  },
  {
   "cell_type": "markdown",
   "id": "0119f830",
   "metadata": {},
   "source": [
    "## CNN + RNN"
   ]
  },
  {
   "cell_type": "code",
   "execution_count": 1,
   "id": "32378db4",
   "metadata": {},
   "outputs": [],
   "source": [
    "import tensorflow as tf\n",
    "import numpy as np\n",
    "import pandas as pd\n",
    "import matplotlib.pyplot as plt"
   ]
  },
  {
   "cell_type": "code",
   "execution_count": 2,
   "id": "b4fe9273",
   "metadata": {},
   "outputs": [],
   "source": [
    "def trend_f(time,slope):\n",
    "    trend=time*slope\n",
    "    return trend\n",
    "def season_f(time,period):\n",
    "    season=(time%period)/period\n",
    "    return season\n",
    "def seasonality_f(sason_time,amplitude):\n",
    "    data_pattern = np.where(season_time < 0.4,np.cos(season_time * 2 * np.pi),1 / np.exp(3 * season_time))\n",
    "    seasonality=amplitude*data_pattern\n",
    "    return seasonality\n",
    "def noise_f(time,noise_level):\n",
    "    rnd = np.random.RandomState(42)\n",
    "    noise = rnd.randn(len(time))*noise_level\n",
    "    return noise"
   ]
  },
  {
   "cell_type": "markdown",
   "id": "2747eece",
   "metadata": {},
   "source": [
    "#### data"
   ]
  },
  {
   "cell_type": "code",
   "execution_count": 3,
   "id": "f4ea1d31",
   "metadata": {},
   "outputs": [],
   "source": [
    "slope=0.05\n",
    "period=365\n",
    "amplitude=40\n",
    "noise_level=5\n",
    "baseline=10\n",
    "time=np.arange(365*4+1)\n",
    "\n",
    "trend=trend_f(time,slope)\n",
    "season_time=season_f(time,period)\n",
    "seasonality=seasonality_f(season_time,amplitude)\n",
    "noise = noise_f(time,noise_level)\n",
    "\n",
    "series=baseline+noise+trend+seasonality"
   ]
  },
  {
   "cell_type": "code",
   "execution_count": 4,
   "id": "3972deea",
   "metadata": {},
   "outputs": [
    {
     "data": {
      "text/plain": [
       "Text(0, 0.5, 'value')"
      ]
     },
     "execution_count": 4,
     "metadata": {},
     "output_type": "execute_result"
    },
    {
     "data": {
      "image/png": "[encoded data removed]",
      "text/plain": [
       "<Figure size 432x288 with 1 Axes>"
      ]
     },
     "metadata": {
      "needs_background": "light"
     },
     "output_type": "display_data"
    }
   ],
   "source": [
    "plt.plot(time, series)\n",
    "plt.xlabel('time')\n",
    "plt.ylabel('value')"
   ]
  },
  {
   "cell_type": "code",
   "execution_count": 5,
   "id": "4131cd52",
   "metadata": {},
   "outputs": [],
   "source": [
    "split_time=1000\n",
    "x_train=series[:split_time]\n",
    "x_val=series[split_time:]\n",
    "time_train=time[:split_time]\n",
    "time_val=time[split_time:]"
   ]
  },
  {
   "cell_type": "code",
   "execution_count": 7,
   "id": "94f974f7",
   "metadata": {},
   "outputs": [],
   "source": [
    "window=20\n",
    "batch=16\n",
    "shuffle_buffer=1000"
   ]
  },
  {
   "cell_type": "code",
   "execution_count": 8,
   "id": "e7241728",
   "metadata": {},
   "outputs": [],
   "source": [
    "def windowed_data(series,window,batch,shuffle_buffer):\n",
    "    data=tf.data.Dataset.from_tensor_slices(series)\n",
    "    data=data.window(window+1,shift=1,drop_remainder=True)\n",
    "    data=data.flat_map(lambda i: i.batch(window+1))\n",
    "    data=data.map(lambda i: (i[:-1], i[-1]))\n",
    "    data=data.shuffle(shuffle_buffer)\n",
    "    data=data.batch(batch).prefetch(1)\n",
    "    return data"
   ]
  },
  {
   "cell_type": "code",
   "execution_count": 9,
   "id": "bfaaf89b",
   "metadata": {},
   "outputs": [],
   "source": [
    "dataset=windowed_data(series,window,batch,shuffle_buffer)"
   ]
  },
  {
   "cell_type": "markdown",
   "id": "a00840ed",
   "metadata": {},
   "source": [
    "#### model"
   ]
  },
  {
   "cell_type": "code",
   "execution_count": 10,
   "id": "45a35eb5",
   "metadata": {},
   "outputs": [],
   "source": [
    "tf.keras.backend.clear_session()"
   ]
  },
  {
   "cell_type": "code",
   "execution_count": 21,
   "id": "b65be7dd",
   "metadata": {},
   "outputs": [
    {
     "name": "stdout",
     "output_type": "stream",
     "text": [
      "Model: \"sequential_6\"\n",
      "_________________________________________________________________\n",
      " Layer (type)                Output Shape              Param #   \n",
      "=================================================================\n",
      " conv1d_7 (Conv1D)           (None, 20, 64)            256       \n",
      "                                                                 \n",
      " lstm_12 (LSTM)              (None, 20, 64)            33024     \n",
      "                                                                 \n",
      " lstm_13 (LSTM)              (None, 64)                33024     \n",
      "                                                                 \n",
      " dense_6 (Dense)             (None, 1)                 65        \n",
      "                                                                 \n",
      " lambda_6 (Lambda)           (None, 1)                 0         \n",
      "                                                                 \n",
      "=================================================================\n",
      "Total params: 66,369\n",
      "Trainable params: 66,369\n",
      "Non-trainable params: 0\n",
      "_________________________________________________________________\n"
     ]
    }
   ],
   "source": [
    "model=tf.keras.models.Sequential([\n",
    "    tf.keras.layers.Conv1D(filters=64,kernel_size=3,strides=1,padding='causal',activation='relu',input_shape=[window,1]),\n",
    "    tf.keras.layers.LSTM(64,return_sequences=True),\n",
    "    tf.keras.layers.LSTM(64),\n",
    "    tf.keras.layers.Dense(1),\n",
    "    tf.keras.layers.Lambda(lambda x: x*400)\n",
    "])\n",
    "init_weights = model.get_weights()\n",
    "model.summary()"
   ]
  },
  {
   "cell_type": "markdown",
   "id": "b0037f6f",
   "metadata": {},
   "source": [
    "#### tuning learning rate"
   ]
  },
  {
   "cell_type": "code",
   "execution_count": 17,
   "id": "535ed708",
   "metadata": {},
   "outputs": [
    {
     "name": "stdout",
     "output_type": "stream",
     "text": [
      "Epoch 1/100\n",
      "91/91 [==============================] - 5s 22ms/step - loss: 65.3787 - accuracy: 0.0000e+00 - lr: 1.0000e-08\n",
      "Epoch 2/100\n",
      "91/91 [==============================] - 1s 15ms/step - loss: 24.5767 - accuracy: 0.0000e+00 - lr: 1.1220e-08\n",
      "Epoch 3/100\n",
      "91/91 [==============================] - 1s 14ms/step - loss: 16.8481 - accuracy: 0.0000e+00 - lr: 1.2589e-08\n",
      "Epoch 4/100\n",
      "91/91 [==============================] - 2s 16ms/step - loss: 13.0404 - accuracy: 0.0000e+00 - lr: 1.4125e-08\n",
      "Epoch 5/100\n",
      "91/91 [==============================] - 1s 14ms/step - loss: 10.8022 - accuracy: 0.0000e+00 - lr: 1.5849e-08\n",
      "Epoch 6/100\n",
      "91/91 [==============================] - 1s 13ms/step - loss: 9.6922 - accuracy: 0.0000e+00 - lr: 1.7783e-08\n",
      "Epoch 7/100\n",
      "91/91 [==============================] - 1s 13ms/step - loss: 8.9420 - accuracy: 0.0000e+00 - lr: 1.9953e-08\n",
      "Epoch 8/100\n",
      "91/91 [==============================] - 1s 13ms/step - loss: 8.3978 - accuracy: 0.0000e+00 - lr: 2.2387e-08\n",
      "Epoch 9/100\n",
      "91/91 [==============================] - 1s 13ms/step - loss: 8.0631 - accuracy: 0.0000e+00 - lr: 2.5119e-08\n",
      "Epoch 10/100\n",
      "91/91 [==============================] - 1s 13ms/step - loss: 7.5727 - accuracy: 0.0000e+00 - lr: 2.8184e-08\n",
      "Epoch 11/100\n",
      "91/91 [==============================] - 1s 14ms/step - loss: 7.2664 - accuracy: 0.0000e+00 - lr: 3.1623e-08\n",
      "Epoch 12/100\n",
      "91/91 [==============================] - 1s 14ms/step - loss: 6.8700 - accuracy: 0.0000e+00 - lr: 3.5481e-08\n",
      "Epoch 13/100\n",
      "91/91 [==============================] - 1s 15ms/step - loss: 6.6003 - accuracy: 0.0000e+00 - lr: 3.9811e-08\n",
      "Epoch 14/100\n",
      "91/91 [==============================] - 1s 14ms/step - loss: 6.4183 - accuracy: 0.0000e+00 - lr: 4.4668e-08\n",
      "Epoch 15/100\n",
      "91/91 [==============================] - 1s 14ms/step - loss: 6.1604 - accuracy: 0.0000e+00 - lr: 5.0119e-08\n",
      "Epoch 16/100\n",
      "91/91 [==============================] - 1s 13ms/step - loss: 6.0389 - accuracy: 0.0000e+00 - lr: 5.6234e-08\n",
      "Epoch 17/100\n",
      "91/91 [==============================] - 1s 13ms/step - loss: 5.8566 - accuracy: 0.0000e+00 - lr: 6.3096e-08\n",
      "Epoch 18/100\n",
      "91/91 [==============================] - 1s 13ms/step - loss: 5.7984 - accuracy: 0.0000e+00 - lr: 7.0795e-08\n",
      "Epoch 19/100\n",
      "91/91 [==============================] - 1s 14ms/step - loss: 5.7222 - accuracy: 0.0000e+00 - lr: 7.9433e-08\n",
      "Epoch 20/100\n",
      "91/91 [==============================] - 1s 14ms/step - loss: 5.6726 - accuracy: 0.0000e+00 - lr: 8.9125e-08\n",
      "Epoch 21/100\n",
      "91/91 [==============================] - 1s 15ms/step - loss: 5.6360 - accuracy: 0.0000e+00 - lr: 1.0000e-07\n",
      "Epoch 22/100\n",
      "91/91 [==============================] - 2s 18ms/step - loss: 5.7970 - accuracy: 0.0000e+00 - lr: 1.1220e-07\n",
      "Epoch 23/100\n",
      "91/91 [==============================] - 2s 16ms/step - loss: 5.4226 - accuracy: 0.0000e+00 - lr: 1.2589e-07\n",
      "Epoch 24/100\n",
      "91/91 [==============================] - 2s 17ms/step - loss: 5.4242 - accuracy: 0.0000e+00 - lr: 1.4125e-07\n",
      "Epoch 25/100\n",
      "91/91 [==============================] - 1s 15ms/step - loss: 5.4880 - accuracy: 0.0000e+00 - lr: 1.5849e-07\n",
      "Epoch 26/100\n",
      "91/91 [==============================] - 2s 16ms/step - loss: 5.3309 - accuracy: 0.0000e+00 - lr: 1.7783e-07\n",
      "Epoch 27/100\n",
      "91/91 [==============================] - 1s 15ms/step - loss: 5.2452 - accuracy: 0.0000e+00 - lr: 1.9953e-07\n",
      "Epoch 28/100\n",
      "91/91 [==============================] - 1s 14ms/step - loss: 5.3681 - accuracy: 0.0000e+00 - lr: 2.2387e-07\n",
      "Epoch 29/100\n",
      "91/91 [==============================] - 1s 15ms/step - loss: 5.4298 - accuracy: 0.0000e+00 - lr: 2.5119e-07\n",
      "Epoch 30/100\n",
      "91/91 [==============================] - 1s 15ms/step - loss: 5.6595 - accuracy: 0.0000e+00 - lr: 2.8184e-07\n",
      "Epoch 31/100\n",
      "91/91 [==============================] - 1s 15ms/step - loss: 5.2075 - accuracy: 0.0000e+00 - lr: 3.1623e-07\n",
      "Epoch 32/100\n",
      "91/91 [==============================] - 1s 15ms/step - loss: 5.5976 - accuracy: 0.0000e+00 - lr: 3.5481e-07\n",
      "Epoch 33/100\n",
      "91/91 [==============================] - 1s 15ms/step - loss: 5.7142 - accuracy: 0.0000e+00 - lr: 3.9811e-07\n",
      "Epoch 34/100\n",
      "91/91 [==============================] - 1s 14ms/step - loss: 5.4321 - accuracy: 0.0000e+00 - lr: 4.4668e-07\n",
      "Epoch 35/100\n",
      "91/91 [==============================] - 1s 14ms/step - loss: 5.5612 - accuracy: 0.0000e+00 - lr: 5.0119e-07\n",
      "Epoch 36/100\n",
      "91/91 [==============================] - 2s 16ms/step - loss: 5.4111 - accuracy: 0.0000e+00 - lr: 5.6234e-07\n",
      "Epoch 37/100\n",
      "91/91 [==============================] - 1s 15ms/step - loss: 5.4760 - accuracy: 0.0000e+00 - lr: 6.3096e-07\n",
      "Epoch 38/100\n",
      "91/91 [==============================] - 2s 16ms/step - loss: 5.2123 - accuracy: 0.0000e+00 - lr: 7.0795e-07\n",
      "Epoch 39/100\n",
      "91/91 [==============================] - 1s 15ms/step - loss: 5.6785 - accuracy: 0.0000e+00 - lr: 7.9433e-07\n",
      "Epoch 40/100\n",
      "91/91 [==============================] - 2s 16ms/step - loss: 5.7695 - accuracy: 0.0000e+00 - lr: 8.9125e-07\n",
      "Epoch 41/100\n",
      "91/91 [==============================] - 1s 15ms/step - loss: 5.8151 - accuracy: 0.0000e+00 - lr: 1.0000e-06\n",
      "Epoch 42/100\n",
      "91/91 [==============================] - 1s 14ms/step - loss: 6.5957 - accuracy: 0.0000e+00 - lr: 1.1220e-06\n",
      "Epoch 43/100\n",
      "91/91 [==============================] - 2s 15ms/step - loss: 5.4807 - accuracy: 0.0000e+00 - lr: 1.2589e-06\n",
      "Epoch 44/100\n",
      "91/91 [==============================] - 2s 17ms/step - loss: 6.5062 - accuracy: 0.0000e+00 - lr: 1.4125e-06\n",
      "Epoch 45/100\n",
      "91/91 [==============================] - 1s 14ms/step - loss: 5.8808 - accuracy: 0.0000e+00 - lr: 1.5849e-06\n",
      "Epoch 46/100\n",
      "91/91 [==============================] - 1s 15ms/step - loss: 6.6926 - accuracy: 0.0000e+00 - lr: 1.7783e-06\n",
      "Epoch 47/100\n",
      "91/91 [==============================] - 2s 16ms/step - loss: 7.2882 - accuracy: 0.0000e+00 - lr: 1.9953e-06\n",
      "Epoch 48/100\n",
      "91/91 [==============================] - 1s 14ms/step - loss: 7.5983 - accuracy: 0.0000e+00 - lr: 2.2387e-06\n",
      "Epoch 49/100\n",
      "91/91 [==============================] - 2s 17ms/step - loss: 6.1298 - accuracy: 0.0000e+00 - lr: 2.5119e-06\n",
      "Epoch 50/100\n",
      "91/91 [==============================] - 2s 16ms/step - loss: 7.1854 - accuracy: 0.0000e+00 - lr: 2.8184e-06\n",
      "Epoch 51/100\n",
      "91/91 [==============================] - 1s 15ms/step - loss: 6.8126 - accuracy: 0.0000e+00 - lr: 3.1623e-06\n",
      "Epoch 52/100\n",
      "91/91 [==============================] - 1s 14ms/step - loss: 6.7640 - accuracy: 0.0000e+00 - lr: 3.5481e-06\n",
      "Epoch 53/100\n",
      "91/91 [==============================] - 1s 13ms/step - loss: 7.4387 - accuracy: 0.0000e+00 - lr: 3.9811e-06\n",
      "Epoch 54/100\n",
      "91/91 [==============================] - 1s 13ms/step - loss: 10.9546 - accuracy: 0.0000e+00 - lr: 4.4668e-06\n",
      "Epoch 55/100\n",
      "91/91 [==============================] - 1s 13ms/step - loss: 7.8201 - accuracy: 0.0000e+00 - lr: 5.0119e-06\n",
      "Epoch 56/100\n",
      "91/91 [==============================] - 1s 13ms/step - loss: 10.4616 - accuracy: 0.0000e+00 - lr: 5.6234e-06\n",
      "Epoch 57/100\n",
      "91/91 [==============================] - 1s 13ms/step - loss: 8.8775 - accuracy: 0.0000e+00 - lr: 6.3096e-06\n",
      "Epoch 58/100\n",
      "91/91 [==============================] - 1s 13ms/step - loss: 8.4047 - accuracy: 0.0000e+00 - lr: 7.0795e-06\n",
      "Epoch 59/100\n",
      "91/91 [==============================] - 1s 13ms/step - loss: 7.5834 - accuracy: 0.0000e+00 - lr: 7.9433e-06\n",
      "Epoch 60/100\n",
      "91/91 [==============================] - 1s 13ms/step - loss: 7.8146 - accuracy: 0.0000e+00 - lr: 8.9125e-06\n",
      "Epoch 61/100\n",
      "91/91 [==============================] - 1s 13ms/step - loss: 8.8373 - accuracy: 0.0000e+00 - lr: 1.0000e-05\n",
      "Epoch 62/100\n",
      "91/91 [==============================] - 1s 13ms/step - loss: 8.9938 - accuracy: 0.0000e+00 - lr: 1.1220e-05\n",
      "Epoch 63/100\n",
      "91/91 [==============================] - 1s 14ms/step - loss: 14.7361 - accuracy: 0.0000e+00 - lr: 1.2589e-05\n",
      "Epoch 64/100\n",
      "91/91 [==============================] - 1s 14ms/step - loss: 7.4980 - accuracy: 0.0000e+00 - lr: 1.4125e-05\n",
      "Epoch 65/100\n",
      "91/91 [==============================] - 1s 13ms/step - loss: 10.6470 - accuracy: 0.0000e+00 - lr: 1.5849e-05\n",
      "Epoch 66/100\n",
      "91/91 [==============================] - 1s 13ms/step - loss: 9.9209 - accuracy: 0.0000e+00 - lr: 1.7783e-05\n",
      "Epoch 67/100\n",
      "91/91 [==============================] - 1s 14ms/step - loss: 11.0951 - accuracy: 0.0000e+00 - lr: 1.9953e-05\n",
      "Epoch 68/100\n"
     ]
    },
    {
     "name": "stdout",
     "output_type": "stream",
     "text": [
      "91/91 [==============================] - 2s 15ms/step - loss: 9.7867 - accuracy: 0.0000e+00 - lr: 2.2387e-05\n",
      "Epoch 69/100\n",
      "91/91 [==============================] - 2s 16ms/step - loss: 11.2651 - accuracy: 0.0000e+00 - lr: 2.5119e-05\n",
      "Epoch 70/100\n",
      "91/91 [==============================] - 2s 17ms/step - loss: 7.2271 - accuracy: 0.0000e+00 - lr: 2.8184e-05\n",
      "Epoch 71/100\n",
      "91/91 [==============================] - 1s 14ms/step - loss: 8.4154 - accuracy: 0.0000e+00 - lr: 3.1623e-05\n",
      "Epoch 72/100\n",
      "91/91 [==============================] - 2s 16ms/step - loss: 9.7299 - accuracy: 0.0000e+00 - lr: 3.5481e-05\n",
      "Epoch 73/100\n",
      "91/91 [==============================] - 1s 14ms/step - loss: 12.6429 - accuracy: 0.0000e+00 - lr: 3.9811e-05\n",
      "Epoch 74/100\n",
      "91/91 [==============================] - 2s 15ms/step - loss: 7.8558 - accuracy: 0.0000e+00 - lr: 4.4668e-05\n",
      "Epoch 75/100\n",
      "91/91 [==============================] - 1s 15ms/step - loss: 8.0781 - accuracy: 0.0000e+00 - lr: 5.0119e-05\n",
      "Epoch 76/100\n",
      "91/91 [==============================] - 1s 14ms/step - loss: 7.2807 - accuracy: 0.0000e+00 - lr: 5.6234e-05\n",
      "Epoch 77/100\n",
      "91/91 [==============================] - 1s 14ms/step - loss: 8.6929 - accuracy: 0.0000e+00 - lr: 6.3096e-05\n",
      "Epoch 78/100\n",
      "91/91 [==============================] - 1s 14ms/step - loss: 7.7132 - accuracy: 0.0000e+00 - lr: 7.0795e-05\n",
      "Epoch 79/100\n",
      "91/91 [==============================] - 1s 15ms/step - loss: 9.4753 - accuracy: 0.0000e+00 - lr: 7.9433e-05\n",
      "Epoch 80/100\n",
      "91/91 [==============================] - 1s 15ms/step - loss: 11.6885 - accuracy: 0.0000e+00 - lr: 8.9125e-05\n",
      "Epoch 81/100\n",
      "91/91 [==============================] - 1s 15ms/step - loss: 12.5442 - accuracy: 0.0000e+00 - lr: 1.0000e-04\n",
      "Epoch 82/100\n",
      "91/91 [==============================] - 1s 14ms/step - loss: 12.5501 - accuracy: 0.0000e+00 - lr: 1.1220e-04\n",
      "Epoch 83/100\n",
      "91/91 [==============================] - 1s 14ms/step - loss: 11.5677 - accuracy: 0.0000e+00 - lr: 1.2589e-04\n",
      "Epoch 84/100\n",
      "91/91 [==============================] - 1s 15ms/step - loss: 14.9841 - accuracy: 0.0000e+00 - lr: 1.4125e-04\n",
      "Epoch 85/100\n",
      "91/91 [==============================] - 1s 14ms/step - loss: 25.3333 - accuracy: 0.0000e+00 - lr: 1.5849e-04\n",
      "Epoch 86/100\n",
      "91/91 [==============================] - 2s 18ms/step - loss: 19.5018 - accuracy: 0.0000e+00 - lr: 1.7783e-04\n",
      "Epoch 87/100\n",
      "91/91 [==============================] - 2s 15ms/step - loss: 25.0769 - accuracy: 0.0000e+00 - lr: 1.9953e-04\n",
      "Epoch 88/100\n",
      "91/91 [==============================] - 2s 16ms/step - loss: 25.4343 - accuracy: 0.0000e+00 - lr: 2.2387e-04\n",
      "Epoch 89/100\n",
      "91/91 [==============================] - 2s 15ms/step - loss: 31.0912 - accuracy: 0.0000e+00 - lr: 2.5119e-04\n",
      "Epoch 90/100\n",
      "91/91 [==============================] - 1s 14ms/step - loss: 31.4243 - accuracy: 0.0000e+00 - lr: 2.8184e-04\n",
      "Epoch 91/100\n",
      "91/91 [==============================] - 1s 15ms/step - loss: 27.0107 - accuracy: 0.0000e+00 - lr: 3.1623e-04\n",
      "Epoch 92/100\n",
      "91/91 [==============================] - 2s 15ms/step - loss: 43.9292 - accuracy: 0.0000e+00 - lr: 3.5481e-04\n",
      "Epoch 93/100\n",
      "91/91 [==============================] - 1s 15ms/step - loss: 40.8971 - accuracy: 0.0000e+00 - lr: 3.9811e-04\n",
      "Epoch 94/100\n",
      "91/91 [==============================] - 1s 15ms/step - loss: 48.4295 - accuracy: 0.0000e+00 - lr: 4.4668e-04\n",
      "Epoch 95/100\n",
      "91/91 [==============================] - 1s 14ms/step - loss: 47.2135 - accuracy: 0.0000e+00 - lr: 5.0119e-04\n",
      "Epoch 96/100\n",
      "91/91 [==============================] - 1s 14ms/step - loss: 46.5367 - accuracy: 0.0000e+00 - lr: 5.6234e-04\n",
      "Epoch 97/100\n",
      "91/91 [==============================] - 1s 14ms/step - loss: 73.1914 - accuracy: 0.0000e+00 - lr: 6.3096e-04\n",
      "Epoch 98/100\n",
      "91/91 [==============================] - 1s 14ms/step - loss: 98.2649 - accuracy: 0.0000e+00 - lr: 7.0795e-04\n",
      "Epoch 99/100\n",
      "91/91 [==============================] - 1s 14ms/step - loss: 64.3512 - accuracy: 0.0000e+00 - lr: 7.9433e-04\n",
      "Epoch 100/100\n",
      "91/91 [==============================] - 1s 15ms/step - loss: 83.8684 - accuracy: 0.0000e+00 - lr: 8.9125e-04\n"
     ]
    }
   ],
   "source": [
    "lr_schedule=tf.keras.callbacks.LearningRateScheduler(lambda epoch: 1e-8 * 10**(epoch/20))\n",
    "model.compile(optimizer=tf.keras.optimizers.SGD(momentum=0.9),loss=tf.keras.losses.Huber(),metrics=['mae'])\n",
    "history=model.fit(dataset,epochs=100,callbacks=[lr_schedule])"
   ]
  },
  {
   "cell_type": "code",
   "execution_count": 19,
   "id": "11637da3",
   "metadata": {},
   "outputs": [
    {
     "data": {
      "text/plain": [
       "(1e-08, 0.001, 0.0, 50.0)"
      ]
     },
     "execution_count": 19,
     "metadata": {},
     "output_type": "execute_result"
    },
    {
     "data": {
      "image/png": "[encoded data removed]",
      "text/plain": [
       "<Figure size 432x288 with 1 Axes>"
      ]
     },
     "metadata": {
      "needs_background": "light"
     },
     "output_type": "display_data"
    }
   ],
   "source": [
    "lrs = 1e-8 * (10 ** (np.arange(100) / 20))\n",
    "plt.semilogx(lrs, history.history[\"loss\"])\n",
    "plt.axis([1e-8, 1e-3, 0, 50])"
   ]
  },
  {
   "cell_type": "markdown",
   "id": "04a73b9c",
   "metadata": {},
   "source": [
    "#### model training"
   ]
  },
  {
   "cell_type": "code",
   "execution_count": 22,
   "id": "0f7a6578",
   "metadata": {},
   "outputs": [
    {
     "name": "stdout",
     "output_type": "stream",
     "text": [
      "Epoch 1/100\n",
      "91/91 [==============================] - 4s 14ms/step - loss: 33.5268 - accuracy: 0.0000e+00\n",
      "Epoch 2/100\n",
      "91/91 [==============================] - 1s 13ms/step - loss: 6.2578 - accuracy: 0.0000e+00\n",
      "Epoch 3/100\n",
      "91/91 [==============================] - 1s 13ms/step - loss: 6.1291 - accuracy: 0.0000e+00\n",
      "Epoch 4/100\n",
      "91/91 [==============================] - 1s 14ms/step - loss: 6.0963 - accuracy: 0.0000e+00\n",
      "Epoch 5/100\n",
      "91/91 [==============================] - 1s 14ms/step - loss: 6.0630 - accuracy: 0.0000e+00\n",
      "Epoch 6/100\n",
      "91/91 [==============================] - 1s 13ms/step - loss: 5.8301 - accuracy: 0.0000e+00\n",
      "Epoch 7/100\n",
      "91/91 [==============================] - 1s 13ms/step - loss: 5.9171 - accuracy: 0.0000e+00\n",
      "Epoch 8/100\n",
      "91/91 [==============================] - 1s 14ms/step - loss: 5.7746 - accuracy: 0.0000e+00\n",
      "Epoch 9/100\n",
      "91/91 [==============================] - 1s 14ms/step - loss: 5.8777 - accuracy: 0.0000e+00\n",
      "Epoch 10/100\n",
      "91/91 [==============================] - 1s 13ms/step - loss: 5.8061 - accuracy: 0.0000e+00\n",
      "Epoch 11/100\n",
      "91/91 [==============================] - 1s 14ms/step - loss: 5.6670 - accuracy: 0.0000e+00\n",
      "Epoch 12/100\n",
      "91/91 [==============================] - 1s 14ms/step - loss: 5.7230 - accuracy: 0.0000e+00\n",
      "Epoch 13/100\n",
      "91/91 [==============================] - 1s 14ms/step - loss: 5.7454 - accuracy: 0.0000e+00\n",
      "Epoch 14/100\n",
      "91/91 [==============================] - 1s 14ms/step - loss: 5.7755 - accuracy: 0.0000e+00\n",
      "Epoch 15/100\n",
      "91/91 [==============================] - 1s 13ms/step - loss: 5.5247 - accuracy: 0.0000e+00\n",
      "Epoch 16/100\n",
      "91/91 [==============================] - 1s 13ms/step - loss: 5.5344 - accuracy: 0.0000e+00\n",
      "Epoch 17/100\n",
      "91/91 [==============================] - 1s 14ms/step - loss: 5.5341 - accuracy: 0.0000e+00\n",
      "Epoch 18/100\n",
      "91/91 [==============================] - 2s 17ms/step - loss: 5.3771 - accuracy: 0.0000e+00\n",
      "Epoch 19/100\n",
      "91/91 [==============================] - 2s 20ms/step - loss: 5.4143 - accuracy: 0.0000e+00\n",
      "Epoch 20/100\n",
      "91/91 [==============================] - 2s 21ms/step - loss: 5.4123 - accuracy: 0.0000e+00\n",
      "Epoch 21/100\n",
      "91/91 [==============================] - 2s 19ms/step - loss: 5.3699 - accuracy: 0.0000e+00\n",
      "Epoch 22/100\n",
      "91/91 [==============================] - 2s 19ms/step - loss: 5.3588 - accuracy: 0.0000e+00\n",
      "Epoch 23/100\n",
      "91/91 [==============================] - 2s 15ms/step - loss: 5.2226 - accuracy: 0.0000e+00\n",
      "Epoch 24/100\n",
      "91/91 [==============================] - 2s 17ms/step - loss: 5.2749 - accuracy: 0.0000e+00\n",
      "Epoch 25/100\n",
      "91/91 [==============================] - 1s 14ms/step - loss: 5.2714 - accuracy: 0.0000e+00\n",
      "Epoch 26/100\n",
      "91/91 [==============================] - 1s 14ms/step - loss: 5.4813 - accuracy: 0.0000e+00\n",
      "Epoch 27/100\n",
      "91/91 [==============================] - 1s 14ms/step - loss: 5.2038 - accuracy: 0.0000e+00\n",
      "Epoch 28/100\n",
      "91/91 [==============================] - 2s 16ms/step - loss: 5.2481 - accuracy: 0.0000e+00\n",
      "Epoch 29/100\n",
      "91/91 [==============================] - 1s 15ms/step - loss: 5.2502 - accuracy: 0.0000e+00\n",
      "Epoch 30/100\n",
      "91/91 [==============================] - 1s 15ms/step - loss: 5.1567 - accuracy: 0.0000e+00\n",
      "Epoch 31/100\n",
      "91/91 [==============================] - 2s 16ms/step - loss: 5.2917 - accuracy: 0.0000e+00\n",
      "Epoch 32/100\n",
      "91/91 [==============================] - 2s 18ms/step - loss: 5.3004 - accuracy: 0.0000e+00\n",
      "Epoch 33/100\n",
      "91/91 [==============================] - 2s 17ms/step - loss: 5.2204 - accuracy: 0.0000e+00\n",
      "Epoch 34/100\n",
      "91/91 [==============================] - 2s 17ms/step - loss: 5.1322 - accuracy: 0.0000e+00\n",
      "Epoch 35/100\n",
      "91/91 [==============================] - 2s 16ms/step - loss: 5.1979 - accuracy: 0.0000e+00\n",
      "Epoch 36/100\n",
      "91/91 [==============================] - 1s 14ms/step - loss: 5.1789 - accuracy: 0.0000e+00\n",
      "Epoch 37/100\n",
      "91/91 [==============================] - 1s 13ms/step - loss: 5.0970 - accuracy: 0.0000e+00\n",
      "Epoch 38/100\n",
      "91/91 [==============================] - 1s 13ms/step - loss: 5.1583 - accuracy: 0.0000e+00\n",
      "Epoch 39/100\n",
      "91/91 [==============================] - 2s 15ms/step - loss: 5.3368 - accuracy: 0.0000e+00\n",
      "Epoch 40/100\n",
      "91/91 [==============================] - 1s 15ms/step - loss: 5.1183 - accuracy: 0.0000e+00\n",
      "Epoch 41/100\n",
      "91/91 [==============================] - 2s 15ms/step - loss: 5.1218 - accuracy: 0.0000e+00\n",
      "Epoch 42/100\n",
      "91/91 [==============================] - 1s 14ms/step - loss: 5.0577 - accuracy: 0.0000e+00\n",
      "Epoch 43/100\n",
      "91/91 [==============================] - 2s 15ms/step - loss: 5.2543 - accuracy: 0.0000e+00\n",
      "Epoch 44/100\n",
      "91/91 [==============================] - 1s 15ms/step - loss: 5.1116 - accuracy: 0.0000e+00\n",
      "Epoch 45/100\n",
      "91/91 [==============================] - 2s 15ms/step - loss: 5.1430 - accuracy: 0.0000e+00\n",
      "Epoch 46/100\n",
      "91/91 [==============================] - 1s 14ms/step - loss: 5.0581 - accuracy: 0.0000e+00\n",
      "Epoch 47/100\n",
      "91/91 [==============================] - 2s 15ms/step - loss: 4.9930 - accuracy: 0.0000e+00\n",
      "Epoch 48/100\n",
      "91/91 [==============================] - 1s 15ms/step - loss: 4.9229 - accuracy: 0.0000e+00\n",
      "Epoch 49/100\n",
      "91/91 [==============================] - 1s 15ms/step - loss: 5.0410 - accuracy: 0.0000e+00\n",
      "Epoch 50/100\n",
      "91/91 [==============================] - 1s 15ms/step - loss: 5.0954 - accuracy: 0.0000e+00\n",
      "Epoch 51/100\n",
      "91/91 [==============================] - 1s 15ms/step - loss: 4.9403 - accuracy: 0.0000e+00\n",
      "Epoch 52/100\n",
      "91/91 [==============================] - 1s 15ms/step - loss: 4.9907 - accuracy: 0.0000e+00\n",
      "Epoch 53/100\n",
      "91/91 [==============================] - 2s 15ms/step - loss: 4.9945 - accuracy: 0.0000e+00\n",
      "Epoch 54/100\n",
      "91/91 [==============================] - 1s 15ms/step - loss: 5.3248 - accuracy: 0.0000e+00\n",
      "Epoch 55/100\n",
      "91/91 [==============================] - 1s 15ms/step - loss: 4.9794 - accuracy: 0.0000e+00\n",
      "Epoch 56/100\n",
      "91/91 [==============================] - 1s 15ms/step - loss: 5.0668 - accuracy: 0.0000e+00\n",
      "Epoch 57/100\n",
      "91/91 [==============================] - 1s 15ms/step - loss: 5.0500 - accuracy: 0.0000e+00\n",
      "Epoch 58/100\n",
      "91/91 [==============================] - 2s 17ms/step - loss: 4.9503 - accuracy: 0.0000e+00\n",
      "Epoch 59/100\n",
      "91/91 [==============================] - 1s 14ms/step - loss: 5.0643 - accuracy: 0.0000e+00\n",
      "Epoch 60/100\n",
      "91/91 [==============================] - 2s 16ms/step - loss: 4.9718 - accuracy: 0.0000e+00\n",
      "Epoch 61/100\n",
      "91/91 [==============================] - 1s 14ms/step - loss: 5.0670 - accuracy: 0.0000e+00\n",
      "Epoch 62/100\n",
      "91/91 [==============================] - 2s 16ms/step - loss: 4.9157 - accuracy: 0.0000e+00\n",
      "Epoch 63/100\n",
      "91/91 [==============================] - 1s 14ms/step - loss: 4.9645 - accuracy: 0.0000e+00\n",
      "Epoch 64/100\n",
      "91/91 [==============================] - 2s 16ms/step - loss: 4.8359 - accuracy: 0.0000e+00\n",
      "Epoch 65/100\n",
      "91/91 [==============================] - 1s 14ms/step - loss: 4.9120 - accuracy: 0.0000e+00\n",
      "Epoch 66/100\n",
      "91/91 [==============================] - 2s 15ms/step - loss: 4.8797 - accuracy: 0.0000e+00\n",
      "Epoch 67/100\n",
      "91/91 [==============================] - 1s 14ms/step - loss: 4.9463 - accuracy: 0.0000e+00\n",
      "Epoch 68/100\n",
      "91/91 [==============================] - 2s 16ms/step - loss: 4.8111 - accuracy: 0.0000e+00\n",
      "Epoch 69/100\n",
      "91/91 [==============================] - 1s 14ms/step - loss: 4.9038 - accuracy: 0.0000e+00\n",
      "Epoch 70/100\n",
      "91/91 [==============================] - 2s 15ms/step - loss: 4.8632 - accuracy: 0.0000e+00\n",
      "Epoch 71/100\n",
      "91/91 [==============================] - 1s 15ms/step - loss: 4.8831 - accuracy: 0.0000e+00\n",
      "Epoch 72/100\n",
      "91/91 [==============================] - 2s 15ms/step - loss: 4.8430 - accuracy: 0.0000e+00\n",
      "Epoch 73/100\n",
      "91/91 [==============================] - 1s 14ms/step - loss: 4.8893 - accuracy: 0.0000e+00\n",
      "Epoch 74/100\n",
      "91/91 [==============================] - 2s 15ms/step - loss: 4.8382 - accuracy: 0.0000e+00\n",
      "Epoch 75/100\n",
      "91/91 [==============================] - 1s 15ms/step - loss: 5.0699 - accuracy: 0.0000e+00\n",
      "Epoch 76/100\n",
      "91/91 [==============================] - 1s 15ms/step - loss: 4.7993 - accuracy: 0.0000e+00\n",
      "Epoch 77/100\n",
      "91/91 [==============================] - 1s 14ms/step - loss: 5.0229 - accuracy: 0.0000e+00\n",
      "Epoch 78/100\n",
      "91/91 [==============================] - 2s 15ms/step - loss: 4.7990 - accuracy: 0.0000e+00\n",
      "Epoch 79/100\n"
     ]
    },
    {
     "name": "stdout",
     "output_type": "stream",
     "text": [
      "91/91 [==============================] - 1s 15ms/step - loss: 4.7902 - accuracy: 0.0000e+00\n",
      "Epoch 80/100\n",
      "91/91 [==============================] - 1s 15ms/step - loss: 4.8949 - accuracy: 0.0000e+00\n",
      "Epoch 81/100\n",
      "91/91 [==============================] - 1s 15ms/step - loss: 4.8313 - accuracy: 0.0000e+00\n",
      "Epoch 82/100\n",
      "91/91 [==============================] - 2s 15ms/step - loss: 4.7937 - accuracy: 0.0000e+00\n",
      "Epoch 83/100\n",
      "91/91 [==============================] - 1s 15ms/step - loss: 4.8119 - accuracy: 0.0000e+00\n",
      "Epoch 84/100\n",
      "91/91 [==============================] - 1s 15ms/step - loss: 4.9413 - accuracy: 0.0000e+00\n",
      "Epoch 85/100\n",
      "91/91 [==============================] - 1s 15ms/step - loss: 4.7738 - accuracy: 0.0000e+00\n",
      "Epoch 86/100\n",
      "91/91 [==============================] - 1s 15ms/step - loss: 4.9413 - accuracy: 0.0000e+00\n",
      "Epoch 87/100\n",
      "91/91 [==============================] - 1s 15ms/step - loss: 4.8086 - accuracy: 0.0000e+00\n",
      "Epoch 88/100\n",
      "91/91 [==============================] - 1s 15ms/step - loss: 4.7641 - accuracy: 0.0000e+00\n",
      "Epoch 89/100\n",
      "91/91 [==============================] - 1s 15ms/step - loss: 4.8959 - accuracy: 0.0000e+00\n",
      "Epoch 90/100\n",
      "91/91 [==============================] - 2s 15ms/step - loss: 4.9305 - accuracy: 0.0000e+00\n",
      "Epoch 91/100\n",
      "91/91 [==============================] - 2s 16ms/step - loss: 4.7645 - accuracy: 0.0000e+00\n",
      "Epoch 92/100\n",
      "91/91 [==============================] - 1s 15ms/step - loss: 4.8562 - accuracy: 0.0000e+00\n",
      "Epoch 93/100\n",
      "91/91 [==============================] - 2s 16ms/step - loss: 4.8470 - accuracy: 0.0000e+00\n",
      "Epoch 94/100\n",
      "91/91 [==============================] - 1s 15ms/step - loss: 4.8005 - accuracy: 0.0000e+00\n",
      "Epoch 95/100\n",
      "91/91 [==============================] - 2s 16ms/step - loss: 4.7435 - accuracy: 0.0000e+00\n",
      "Epoch 96/100\n",
      "91/91 [==============================] - 1s 15ms/step - loss: 4.7222 - accuracy: 0.0000e+00\n",
      "Epoch 97/100\n",
      "91/91 [==============================] - 2s 16ms/step - loss: 4.7077 - accuracy: 0.0000e+00\n",
      "Epoch 98/100\n",
      "91/91 [==============================] - 2s 17ms/step - loss: 4.7397 - accuracy: 0.0000e+00\n",
      "Epoch 99/100\n",
      "91/91 [==============================] - 2s 16ms/step - loss: 4.6573 - accuracy: 0.0000e+00\n",
      "Epoch 100/100\n",
      "91/91 [==============================] - 1s 14ms/step - loss: 4.9098 - accuracy: 0.0000e+00\n"
     ]
    }
   ],
   "source": [
    "tf.keras.backend.clear_session()\n",
    "model=tf.keras.models.Sequential([\n",
    "    tf.keras.layers.Conv1D(filters=64,kernel_size=3,strides=1,padding='causal',activation='relu',input_shape=[window,1]),\n",
    "    tf.keras.layers.LSTM(64,return_sequences=True),\n",
    "    tf.keras.layers.LSTM(64),\n",
    "    tf.keras.layers.Dense(1),\n",
    "    tf.keras.layers.Lambda(lambda x: x*400)\n",
    "])\n",
    "model.set_weights(init_weights) # instad of definign model again^^ we can reset weights\n",
    "model.compile(optimizer=tf.keras.optimizers.SGD(learning_rate=1e-7,momentum=0.9),loss=tf.keras.losses.Huber(),metrics=['mae'])\n",
    "history=model.fit(dataset,epochs=100)"
   ]
  },
  {
   "cell_type": "code",
   "execution_count": 23,
   "id": "b1e5e710",
   "metadata": {},
   "outputs": [
    {
     "data": {
      "text/plain": [
       "[<matplotlib.lines.Line2D at 0x2181473fc10>]"
      ]
     },
     "execution_count": 23,
     "metadata": {},
     "output_type": "execute_result"
    },
    {
     "data": {
      "image/png": "[encoded data removed]",
      "text/plain": [
       "<Figure size 432x288 with 1 Axes>"
      ]
     },
     "metadata": {
      "needs_background": "light"
     },
     "output_type": "display_data"
    }
   ],
   "source": [
    "loss = history.history['loss']\n",
    "epochs = range(len(loss))\n",
    "plt.plot(epochs, loss, 'b', label='Training Loss')"
   ]
  },
  {
   "cell_type": "markdown",
   "id": "08af94e3",
   "metadata": {},
   "source": [
    "#### prediction"
   ]
  },
  {
   "cell_type": "code",
   "execution_count": 24,
   "id": "69e73c9c",
   "metadata": {},
   "outputs": [],
   "source": [
    "def model_forecast(model, series, window_size, batch_size):\n",
    "    dataset = tf.data.Dataset.from_tensor_slices(series)\n",
    "    dataset = dataset.window(window_size, shift=1, drop_remainder=True)\n",
    "    dataset = dataset.flat_map(lambda w: w.batch(window_size))\n",
    "    dataset = dataset.batch(batch_size).prefetch(1)\n",
    "    forecast = model.predict(dataset)\n",
    "    return forecast"
   ]
  },
  {
   "cell_type": "code",
   "execution_count": 25,
   "id": "8eeaa151",
   "metadata": {},
   "outputs": [
    {
     "name": "stdout",
     "output_type": "stream",
     "text": [
      "29/29 [==============================] - 1s 5ms/step\n"
     ]
    }
   ],
   "source": [
    "forecast_series = series[split_time-window:-1]\n",
    "forecast = model_forecast(model, forecast_series, window, batch)\n",
    "results = forecast.squeeze()"
   ]
  },
  {
   "cell_type": "code",
   "execution_count": 26,
   "id": "5851de91",
   "metadata": {},
   "outputs": [
    {
     "data": {
      "text/plain": [
       "[<matplotlib.lines.Line2D at 0x2181c520640>]"
      ]
     },
     "execution_count": 26,
     "metadata": {},
     "output_type": "execute_result"
    },
    {
     "data": {
      "image/png": "[encoded data removed]",
      "text/plain": [
       "<Figure size 432x288 with 1 Axes>"
      ]
     },
     "metadata": {
      "needs_background": "light"
     },
     "output_type": "display_data"
    }
   ],
   "source": [
    "results=np.array(forecast).squeeze()\n",
    "plt.plot(time_val, x_val)\n",
    "plt.plot(time_val, results)"
   ]
  },
  {
   "cell_type": "code",
   "execution_count": 27,
   "id": "2a0df167",
   "metadata": {},
   "outputs": [
    {
     "name": "stdout",
     "output_type": "stream",
     "text": [
      "47.793194\n",
      "4.976859\n"
     ]
    }
   ],
   "source": [
    "print(tf.keras.metrics.mean_squared_error(x_val, results).numpy())\n",
    "print(tf.keras.metrics.mean_absolute_error(x_val, results).numpy())"
   ]
  },
  {
   "cell_type": "markdown",
   "id": "12430514",
   "metadata": {},
   "source": [
    "---"
   ]
  },
  {
   "cell_type": "markdown",
   "id": "98f902f0",
   "metadata": {},
   "source": [
    "## DNN"
   ]
  },
  {
   "cell_type": "code",
   "execution_count": 28,
   "id": "7d0bb8c0",
   "metadata": {},
   "outputs": [],
   "source": [
    "import tensorflow as tf\n",
    "import numpy as np\n",
    "import matplotlib.pyplot as plt\n",
    "import csv"
   ]
  },
  {
   "cell_type": "markdown",
   "id": "280232a4",
   "metadata": {},
   "source": [
    "#### data"
   ]
  },
  {
   "cell_type": "code",
   "execution_count": 30,
   "id": "508b9610",
   "metadata": {},
   "outputs": [],
   "source": [
    "time_step = []\n",
    "sunspots = []\n",
    "\n",
    "with open('data/Sunspots.csv') as csvfile:\n",
    "  reader = csv.reader(csvfile, delimiter=',')\n",
    "  next(reader)\n",
    "  for row in reader:\n",
    "    time_step.append(int(row[0]))\n",
    "    sunspots.append(float(row[2]))\n",
    "    \n",
    "time = np.array(time_step)\n",
    "series = np.array(sunspots)"
   ]
  },
  {
   "cell_type": "code",
   "execution_count": 31,
   "id": "92b86107",
   "metadata": {},
   "outputs": [
    {
     "data": {
      "text/plain": [
       "Text(0, 0.5, 'value')"
      ]
     },
     "execution_count": 31,
     "metadata": {},
     "output_type": "execute_result"
    },
    {
     "data": {
      "image/png": "[encoded data removed]",
      "text/plain": [
       "<Figure size 432x288 with 1 Axes>"
      ]
     },
     "metadata": {
      "needs_background": "light"
     },
     "output_type": "display_data"
    }
   ],
   "source": [
    "plt.plot(time, series)\n",
    "plt.xlabel('time')\n",
    "plt.ylabel('value')"
   ]
  },
  {
   "cell_type": "code",
   "execution_count": 36,
   "id": "9f5e3a93",
   "metadata": {},
   "outputs": [],
   "source": [
    "split_time=3000\n",
    "x_train=series[:split_time]\n",
    "x_val=series[split_time:]\n",
    "time_train=time[:split_time]\n",
    "time_val=time[split_time:]"
   ]
  },
  {
   "cell_type": "code",
   "execution_count": 37,
   "id": "93c40ea5",
   "metadata": {},
   "outputs": [],
   "source": [
    "window=30\n",
    "batch=32\n",
    "shuffle_buffer=1000"
   ]
  },
  {
   "cell_type": "code",
   "execution_count": 38,
   "id": "d02cb9e7",
   "metadata": {},
   "outputs": [],
   "source": [
    "def windowed_data(series,window,batch,shuffle_buffer):\n",
    "    data=tf.data.Dataset.from_tensor_slices(series)\n",
    "    data=data.window(window+1,shift=1,drop_remainder=True)\n",
    "    data=data.flat_map(lambda i: i.batch(window+1))\n",
    "    data=data.map(lambda i: (i[:-1], i[-1]))\n",
    "    data=data.shuffle(shuffle_buffer)\n",
    "    data=data.batch(batch).prefetch(1)\n",
    "    return data"
   ]
  },
  {
   "cell_type": "code",
   "execution_count": 39,
   "id": "db11f506",
   "metadata": {},
   "outputs": [],
   "source": [
    "dataset=windowed_data(series,window,batch,shuffle_buffer)"
   ]
  },
  {
   "cell_type": "markdown",
   "id": "107b5399",
   "metadata": {},
   "source": [
    "#### model"
   ]
  },
  {
   "cell_type": "code",
   "execution_count": 42,
   "id": "feee57cc",
   "metadata": {},
   "outputs": [
    {
     "name": "stdout",
     "output_type": "stream",
     "text": [
      "Model: \"sequential_8\"\n",
      "_________________________________________________________________\n",
      " Layer (type)                Output Shape              Param #   \n",
      "=================================================================\n",
      " dense_9 (Dense)             (None, 30)                930       \n",
      "                                                                 \n",
      " dense_10 (Dense)            (None, 15)                465       \n",
      "                                                                 \n",
      " dense_11 (Dense)            (None, 1)                 16        \n",
      "                                                                 \n",
      "=================================================================\n",
      "Total params: 1,411\n",
      "Trainable params: 1,411\n",
      "Non-trainable params: 0\n",
      "_________________________________________________________________\n"
     ]
    }
   ],
   "source": [
    "model=tf.keras.models.Sequential([\n",
    "    tf.keras.layers.Dense(30,activation='relu',input_shape=[window]),\n",
    "    tf.keras.layers.Dense(15,activation='relu'),\n",
    "    tf.keras.layers.Dense(1)\n",
    "])\n",
    "model.summary()"
   ]
  },
  {
   "cell_type": "markdown",
   "id": "58690e06",
   "metadata": {},
   "source": [
    "#### tuning learning rate"
   ]
  },
  {
   "cell_type": "code",
   "execution_count": 43,
   "id": "7c6e5773",
   "metadata": {},
   "outputs": [
    {
     "name": "stdout",
     "output_type": "stream",
     "text": [
      "Epoch 1/100\n",
      "101/101 [==============================] - 1s 2ms/step - loss: 115.7492 - accuracy: 0.0178 - lr: 1.0000e-08\n",
      "Epoch 2/100\n",
      "101/101 [==============================] - 0s 2ms/step - loss: 114.8214 - accuracy: 0.0178 - lr: 1.1220e-08\n",
      "Epoch 3/100\n",
      "101/101 [==============================] - 0s 2ms/step - loss: 113.7726 - accuracy: 0.0178 - lr: 1.2589e-08\n",
      "Epoch 4/100\n",
      "101/101 [==============================] - 0s 2ms/step - loss: 112.6141 - accuracy: 0.0178 - lr: 1.4125e-08\n",
      "Epoch 5/100\n",
      "101/101 [==============================] - 0s 2ms/step - loss: 111.3144 - accuracy: 0.0178 - lr: 1.5849e-08\n",
      "Epoch 6/100\n",
      "101/101 [==============================] - 0s 2ms/step - loss: 109.8731 - accuracy: 0.0175 - lr: 1.7783e-08\n",
      "Epoch 7/100\n",
      "101/101 [==============================] - 0s 2ms/step - loss: 108.2642 - accuracy: 0.0168 - lr: 1.9953e-08\n",
      "Epoch 8/100\n",
      "101/101 [==============================] - 0s 2ms/step - loss: 106.4653 - accuracy: 0.0168 - lr: 2.2387e-08\n",
      "Epoch 9/100\n",
      "101/101 [==============================] - 0s 2ms/step - loss: 104.4715 - accuracy: 0.0165 - lr: 2.5119e-08\n",
      "Epoch 10/100\n",
      "101/101 [==============================] - 0s 2ms/step - loss: 102.2686 - accuracy: 0.0168 - lr: 2.8184e-08\n",
      "Epoch 11/100\n",
      "101/101 [==============================] - 0s 2ms/step - loss: 99.8354 - accuracy: 0.0165 - lr: 3.1623e-08\n",
      "Epoch 12/100\n",
      "101/101 [==============================] - 0s 2ms/step - loss: 97.1485 - accuracy: 0.0159 - lr: 3.5481e-08\n",
      "Epoch 13/100\n",
      "101/101 [==============================] - 0s 3ms/step - loss: 94.1861 - accuracy: 0.0156 - lr: 3.9811e-08\n",
      "Epoch 14/100\n",
      "101/101 [==============================] - 0s 2ms/step - loss: 90.9243 - accuracy: 0.0159 - lr: 4.4668e-08\n",
      "Epoch 15/100\n",
      "101/101 [==============================] - 0s 2ms/step - loss: 87.3716 - accuracy: 0.0147 - lr: 5.0119e-08\n",
      "Epoch 16/100\n",
      "101/101 [==============================] - 0s 2ms/step - loss: 83.5150 - accuracy: 0.0137 - lr: 5.6234e-08\n",
      "Epoch 17/100\n",
      "101/101 [==============================] - 0s 3ms/step - loss: 79.2787 - accuracy: 0.0134 - lr: 6.3096e-08\n",
      "Epoch 18/100\n",
      "101/101 [==============================] - 0s 2ms/step - loss: 74.7160 - accuracy: 0.0112 - lr: 7.0795e-08\n",
      "Epoch 19/100\n",
      "101/101 [==============================] - 0s 2ms/step - loss: 69.8157 - accuracy: 0.0112 - lr: 7.9433e-08\n",
      "Epoch 20/100\n",
      "101/101 [==============================] - 0s 3ms/step - loss: 64.5323 - accuracy: 0.0094 - lr: 8.9125e-08\n",
      "Epoch 21/100\n",
      "101/101 [==============================] - 0s 2ms/step - loss: 58.9728 - accuracy: 0.0087 - lr: 1.0000e-07\n",
      "Epoch 22/100\n",
      "101/101 [==============================] - 0s 2ms/step - loss: 53.3856 - accuracy: 0.0081 - lr: 1.1220e-07\n",
      "Epoch 23/100\n",
      "101/101 [==============================] - 0s 2ms/step - loss: 48.1450 - accuracy: 0.0062 - lr: 1.2589e-07\n",
      "Epoch 24/100\n",
      "101/101 [==============================] - 0s 2ms/step - loss: 43.6704 - accuracy: 0.0053 - lr: 1.4125e-07\n",
      "Epoch 25/100\n",
      "101/101 [==============================] - 0s 2ms/step - loss: 40.0271 - accuracy: 0.0053 - lr: 1.5849e-07\n",
      "Epoch 26/100\n",
      "101/101 [==============================] - 0s 3ms/step - loss: 37.2690 - accuracy: 0.0047 - lr: 1.7783e-07\n",
      "Epoch 27/100\n",
      "101/101 [==============================] - 0s 2ms/step - loss: 35.3228 - accuracy: 0.0047 - lr: 1.9953e-07\n",
      "Epoch 28/100\n",
      "101/101 [==============================] - 0s 2ms/step - loss: 33.9847 - accuracy: 0.0050 - lr: 2.2387e-07\n",
      "Epoch 29/100\n",
      "101/101 [==============================] - 0s 2ms/step - loss: 32.9833 - accuracy: 0.0050 - lr: 2.5119e-07\n",
      "Epoch 30/100\n",
      "101/101 [==============================] - 0s 2ms/step - loss: 32.1155 - accuracy: 0.0050 - lr: 2.8184e-07\n",
      "Epoch 31/100\n",
      "101/101 [==============================] - 0s 2ms/step - loss: 31.2448 - accuracy: 0.0047 - lr: 3.1623e-07\n",
      "Epoch 32/100\n",
      "101/101 [==============================] - 0s 2ms/step - loss: 30.3249 - accuracy: 0.0047 - lr: 3.5481e-07\n",
      "Epoch 33/100\n",
      "101/101 [==============================] - 0s 2ms/step - loss: 29.3715 - accuracy: 0.0047 - lr: 3.9811e-07\n",
      "Epoch 34/100\n",
      "101/101 [==============================] - 0s 2ms/step - loss: 28.3862 - accuracy: 0.0047 - lr: 4.4668e-07\n",
      "Epoch 35/100\n",
      "101/101 [==============================] - 0s 2ms/step - loss: 27.4164 - accuracy: 0.0047 - lr: 5.0119e-07\n",
      "Epoch 36/100\n",
      "101/101 [==============================] - 0s 2ms/step - loss: 26.5425 - accuracy: 0.0050 - lr: 5.6234e-07\n",
      "Epoch 37/100\n",
      "101/101 [==============================] - 0s 2ms/step - loss: 25.7362 - accuracy: 0.0050 - lr: 6.3096e-07\n",
      "Epoch 38/100\n",
      "101/101 [==============================] - 0s 2ms/step - loss: 24.9825 - accuracy: 0.0050 - lr: 7.0795e-07\n",
      "Epoch 39/100\n",
      "101/101 [==============================] - 0s 2ms/step - loss: 24.3157 - accuracy: 0.0050 - lr: 7.9433e-07\n",
      "Epoch 40/100\n",
      "101/101 [==============================] - 0s 2ms/step - loss: 23.7533 - accuracy: 0.0053 - lr: 8.9125e-07\n",
      "Epoch 41/100\n",
      "101/101 [==============================] - 0s 4ms/step - loss: 23.2426 - accuracy: 0.0053 - lr: 1.0000e-06\n",
      "Epoch 42/100\n",
      "101/101 [==============================] - 0s 2ms/step - loss: 22.7667 - accuracy: 0.0050 - lr: 1.1220e-06\n",
      "Epoch 43/100\n",
      "101/101 [==============================] - 0s 2ms/step - loss: 22.3938 - accuracy: 0.0050 - lr: 1.2589e-06\n",
      "Epoch 44/100\n",
      "101/101 [==============================] - 0s 2ms/step - loss: 21.9997 - accuracy: 0.0050 - lr: 1.4125e-06\n",
      "Epoch 45/100\n",
      "101/101 [==============================] - 0s 2ms/step - loss: 21.6516 - accuracy: 0.0050 - lr: 1.5849e-06\n",
      "Epoch 46/100\n",
      "101/101 [==============================] - 0s 2ms/step - loss: 21.3452 - accuracy: 0.0050 - lr: 1.7783e-06\n",
      "Epoch 47/100\n",
      "101/101 [==============================] - 0s 2ms/step - loss: 21.0763 - accuracy: 0.0050 - lr: 1.9953e-06\n",
      "Epoch 48/100\n",
      "101/101 [==============================] - 0s 2ms/step - loss: 20.7916 - accuracy: 0.0047 - lr: 2.2387e-06\n",
      "Epoch 49/100\n",
      "101/101 [==============================] - 0s 2ms/step - loss: 20.5627 - accuracy: 0.0047 - lr: 2.5119e-06\n",
      "Epoch 50/100\n",
      "101/101 [==============================] - 0s 2ms/step - loss: 20.2843 - accuracy: 0.0047 - lr: 2.8184e-06\n",
      "Epoch 51/100\n",
      "101/101 [==============================] - 0s 2ms/step - loss: 20.0775 - accuracy: 0.0047 - lr: 3.1623e-06\n",
      "Epoch 52/100\n",
      "101/101 [==============================] - 0s 2ms/step - loss: 19.8162 - accuracy: 0.0047 - lr: 3.5481e-06\n",
      "Epoch 53/100\n",
      "101/101 [==============================] - 0s 2ms/step - loss: 19.6363 - accuracy: 0.0047 - lr: 3.9811e-06\n",
      "Epoch 54/100\n",
      "101/101 [==============================] - 0s 2ms/step - loss: 19.3015 - accuracy: 0.0047 - lr: 4.4668e-06\n",
      "Epoch 55/100\n",
      "101/101 [==============================] - 0s 2ms/step - loss: 19.2483 - accuracy: 0.0047 - lr: 5.0119e-06\n",
      "Epoch 56/100\n",
      "101/101 [==============================] - 0s 2ms/step - loss: 18.9909 - accuracy: 0.0044 - lr: 5.6234e-06\n",
      "Epoch 57/100\n",
      "101/101 [==============================] - 0s 2ms/step - loss: 18.8512 - accuracy: 0.0044 - lr: 6.3096e-06\n",
      "Epoch 58/100\n",
      "101/101 [==============================] - 0s 2ms/step - loss: 18.5833 - accuracy: 0.0044 - lr: 7.0795e-06\n",
      "Epoch 59/100\n",
      "101/101 [==============================] - 0s 2ms/step - loss: 18.5636 - accuracy: 0.0041 - lr: 7.9433e-06\n",
      "Epoch 60/100\n",
      "101/101 [==============================] - 0s 2ms/step - loss: 18.3253 - accuracy: 0.0041 - lr: 8.9125e-06\n",
      "Epoch 61/100\n",
      "101/101 [==============================] - 0s 2ms/step - loss: 18.2315 - accuracy: 0.0044 - lr: 1.0000e-05\n",
      "Epoch 62/100\n",
      "101/101 [==============================] - 0s 2ms/step - loss: 18.1092 - accuracy: 0.0044 - lr: 1.1220e-05\n",
      "Epoch 63/100\n",
      "101/101 [==============================] - 0s 2ms/step - loss: 18.1894 - accuracy: 0.0044 - lr: 1.2589e-05\n",
      "Epoch 64/100\n",
      "101/101 [==============================] - 0s 2ms/step - loss: 18.1531 - accuracy: 0.0041 - lr: 1.4125e-05\n",
      "Epoch 65/100\n",
      "101/101 [==============================] - 0s 2ms/step - loss: 17.8988 - accuracy: 0.0044 - lr: 1.5849e-05\n",
      "Epoch 66/100\n",
      "101/101 [==============================] - 0s 2ms/step - loss: 17.6683 - accuracy: 0.0050 - lr: 1.7783e-05\n",
      "Epoch 67/100\n",
      "101/101 [==============================] - 0s 2ms/step - loss: 17.8338 - accuracy: 0.0056 - lr: 1.9953e-05\n",
      "Epoch 68/100\n",
      "101/101 [==============================] - 0s 2ms/step - loss: 18.0926 - accuracy: 0.0050 - lr: 2.2387e-05\n",
      "Epoch 69/100\n"
     ]
    },
    {
     "name": "stdout",
     "output_type": "stream",
     "text": [
      "101/101 [==============================] - 0s 2ms/step - loss: 17.6566 - accuracy: 0.0053 - lr: 2.5119e-05\n",
      "Epoch 70/100\n",
      "101/101 [==============================] - 0s 2ms/step - loss: 17.6378 - accuracy: 0.0053 - lr: 2.8184e-05\n",
      "Epoch 71/100\n",
      "101/101 [==============================] - 0s 2ms/step - loss: 17.4495 - accuracy: 0.0044 - lr: 3.1623e-05\n",
      "Epoch 72/100\n",
      "101/101 [==============================] - 0s 2ms/step - loss: 17.8515 - accuracy: 0.0050 - lr: 3.5481e-05\n",
      "Epoch 73/100\n",
      "101/101 [==============================] - 0s 2ms/step - loss: 17.1902 - accuracy: 0.0034 - lr: 3.9811e-05\n",
      "Epoch 74/100\n",
      "101/101 [==============================] - 0s 2ms/step - loss: 17.3476 - accuracy: 0.0041 - lr: 4.4668e-05\n",
      "Epoch 75/100\n",
      "101/101 [==============================] - 0s 3ms/step - loss: 17.4746 - accuracy: 0.0041 - lr: 5.0119e-05\n",
      "Epoch 76/100\n",
      "101/101 [==============================] - 0s 3ms/step - loss: 17.9352 - accuracy: 0.0037 - lr: 5.6234e-05\n",
      "Epoch 77/100\n",
      "101/101 [==============================] - 0s 3ms/step - loss: 19.1012 - accuracy: 0.0031 - lr: 6.3096e-05\n",
      "Epoch 78/100\n",
      "101/101 [==============================] - 0s 3ms/step - loss: 17.8282 - accuracy: 0.0031 - lr: 7.0795e-05\n",
      "Epoch 79/100\n",
      "101/101 [==============================] - 0s 3ms/step - loss: 18.4414 - accuracy: 0.0028 - lr: 7.9433e-05\n",
      "Epoch 80/100\n",
      "101/101 [==============================] - 0s 3ms/step - loss: 17.2990 - accuracy: 0.0028 - lr: 8.9125e-05\n",
      "Epoch 81/100\n",
      "101/101 [==============================] - 0s 2ms/step - loss: 18.1076 - accuracy: 0.0022 - lr: 1.0000e-04\n",
      "Epoch 82/100\n",
      "101/101 [==============================] - 0s 2ms/step - loss: 17.4897 - accuracy: 0.0022 - lr: 1.1220e-04\n",
      "Epoch 83/100\n",
      "101/101 [==============================] - 0s 3ms/step - loss: 17.4716 - accuracy: 0.0022 - lr: 1.2589e-04\n",
      "Epoch 84/100\n",
      "101/101 [==============================] - 0s 2ms/step - loss: 19.1937 - accuracy: 0.0019 - lr: 1.4125e-04\n",
      "Epoch 85/100\n",
      "101/101 [==============================] - 0s 2ms/step - loss: 18.1669 - accuracy: 0.0025 - lr: 1.5849e-04\n",
      "Epoch 86/100\n",
      "101/101 [==============================] - 0s 3ms/step - loss: 17.8773 - accuracy: 0.0019 - lr: 1.7783e-04\n",
      "Epoch 87/100\n",
      "101/101 [==============================] - 0s 3ms/step - loss: 18.6988 - accuracy: 0.0022 - lr: 1.9953e-04\n",
      "Epoch 88/100\n",
      "101/101 [==============================] - 0s 3ms/step - loss: 19.5953 - accuracy: 0.0019 - lr: 2.2387e-04\n",
      "Epoch 89/100\n",
      "101/101 [==============================] - 0s 3ms/step - loss: 18.7160 - accuracy: 0.0022 - lr: 2.5119e-04\n",
      "Epoch 90/100\n",
      "101/101 [==============================] - 0s 3ms/step - loss: 18.8254 - accuracy: 0.0016 - lr: 2.8184e-04\n",
      "Epoch 91/100\n",
      "101/101 [==============================] - 0s 2ms/step - loss: 18.9729 - accuracy: 0.0016 - lr: 3.1623e-04\n",
      "Epoch 92/100\n",
      "101/101 [==============================] - 0s 3ms/step - loss: 22.3614 - accuracy: 0.0016 - lr: 3.5481e-04\n",
      "Epoch 93/100\n",
      "101/101 [==============================] - 0s 2ms/step - loss: 18.0460 - accuracy: 0.0016 - lr: 3.9811e-04\n",
      "Epoch 94/100\n",
      "101/101 [==============================] - 0s 3ms/step - loss: 23.1953 - accuracy: 0.0022 - lr: 4.4668e-04\n",
      "Epoch 95/100\n",
      "101/101 [==============================] - 0s 3ms/step - loss: 30.1392 - accuracy: 0.0028 - lr: 5.0119e-04\n",
      "Epoch 96/100\n",
      "101/101 [==============================] - 0s 3ms/step - loss: 19.4119 - accuracy: 0.0019 - lr: 5.6234e-04\n",
      "Epoch 97/100\n",
      "101/101 [==============================] - 0s 3ms/step - loss: 27.7914 - accuracy: 0.0025 - lr: 6.3096e-04\n",
      "Epoch 98/100\n",
      "101/101 [==============================] - 0s 3ms/step - loss: 30.1625 - accuracy: 0.0016 - lr: 7.0795e-04\n",
      "Epoch 99/100\n",
      "101/101 [==============================] - 0s 3ms/step - loss: 36.3895 - accuracy: 0.0028 - lr: 7.9433e-04\n",
      "Epoch 100/100\n",
      "101/101 [==============================] - 0s 2ms/step - loss: 37.3156 - accuracy: 0.0022 - lr: 8.9125e-04\n"
     ]
    }
   ],
   "source": [
    "lr_schedule=tf.keras.callbacks.LearningRateScheduler(lambda epoch: 1e-8 * 10**(epoch/20))\n",
    "model.compile(optimizer=tf.keras.optimizers.SGD(momentum=0.9),loss=tf.keras.losses.Huber(),metrics=['mae'])\n",
    "history=model.fit(dataset,epochs=100,callbacks=[lr_schedule])"
   ]
  },
  {
   "cell_type": "code",
   "execution_count": 44,
   "id": "a457dc00",
   "metadata": {},
   "outputs": [
    {
     "data": {
      "text/plain": [
       "(1e-08, 0.001, 0.0, 50.0)"
      ]
     },
     "execution_count": 44,
     "metadata": {},
     "output_type": "execute_result"
    },
    {
     "data": {
      "image/png": "[encoded data removed]",
      "text/plain": [
       "<Figure size 432x288 with 1 Axes>"
      ]
     },
     "metadata": {
      "needs_background": "light"
     },
     "output_type": "display_data"
    }
   ],
   "source": [
    "lrs = 1e-8 * (10 ** (np.arange(100) / 20))\n",
    "plt.semilogx(lrs, history.history[\"loss\"])\n",
    "plt.axis([1e-8, 1e-3, 0, 50])"
   ]
  },
  {
   "cell_type": "markdown",
   "id": "4b90f898",
   "metadata": {},
   "source": [
    "#### model training"
   ]
  },
  {
   "cell_type": "code",
   "execution_count": 46,
   "id": "9f3f248d",
   "metadata": {},
   "outputs": [
    {
     "name": "stdout",
     "output_type": "stream",
     "text": [
      "Epoch 1/100\n",
      "101/101 [==============================] - 1s 2ms/step - loss: 23.1327 - mae: 23.6270\n",
      "Epoch 2/100\n",
      "101/101 [==============================] - 0s 2ms/step - loss: 19.7204 - mae: 20.2127\n",
      "Epoch 3/100\n",
      "101/101 [==============================] - 0s 2ms/step - loss: 18.9221 - mae: 19.4162\n",
      "Epoch 4/100\n",
      "101/101 [==============================] - 0s 2ms/step - loss: 18.3281 - mae: 18.8200\n",
      "Epoch 5/100\n",
      "101/101 [==============================] - 0s 2ms/step - loss: 17.9856 - mae: 18.4783\n",
      "Epoch 6/100\n",
      "101/101 [==============================] - 0s 2ms/step - loss: 18.1232 - mae: 18.6168\n",
      "Epoch 7/100\n",
      "101/101 [==============================] - 0s 2ms/step - loss: 17.6693 - mae: 18.1624\n",
      "Epoch 8/100\n",
      "101/101 [==============================] - 0s 2ms/step - loss: 17.5977 - mae: 18.0905\n",
      "Epoch 9/100\n",
      "101/101 [==============================] - 0s 2ms/step - loss: 17.4469 - mae: 17.9380\n",
      "Epoch 10/100\n",
      "101/101 [==============================] - 0s 3ms/step - loss: 17.6179 - mae: 18.1088\n",
      "Epoch 11/100\n",
      "101/101 [==============================] - 0s 2ms/step - loss: 17.2878 - mae: 17.7799\n",
      "Epoch 12/100\n",
      "101/101 [==============================] - 0s 2ms/step - loss: 17.3757 - mae: 17.8681\n",
      "Epoch 13/100\n",
      "101/101 [==============================] - 0s 3ms/step - loss: 17.2688 - mae: 17.7605\n",
      "Epoch 14/100\n",
      "101/101 [==============================] - 0s 2ms/step - loss: 17.1567 - mae: 17.6494\n",
      "Epoch 15/100\n",
      "101/101 [==============================] - 0s 2ms/step - loss: 17.1935 - mae: 17.6853\n",
      "Epoch 16/100\n",
      "101/101 [==============================] - 0s 2ms/step - loss: 17.1775 - mae: 17.6693\n",
      "Epoch 17/100\n",
      "101/101 [==============================] - 0s 2ms/step - loss: 16.9604 - mae: 17.4501\n",
      "Epoch 18/100\n",
      "101/101 [==============================] - 0s 2ms/step - loss: 17.3208 - mae: 17.8109\n",
      "Epoch 19/100\n",
      "101/101 [==============================] - 0s 2ms/step - loss: 17.1079 - mae: 17.6007\n",
      "Epoch 20/100\n",
      "101/101 [==============================] - 0s 2ms/step - loss: 16.9637 - mae: 17.4545\n",
      "Epoch 21/100\n",
      "101/101 [==============================] - 0s 2ms/step - loss: 17.1727 - mae: 17.6640\n",
      "Epoch 22/100\n",
      "101/101 [==============================] - 0s 2ms/step - loss: 16.9637 - mae: 17.4556\n",
      "Epoch 23/100\n",
      "101/101 [==============================] - 0s 2ms/step - loss: 17.1775 - mae: 17.6690\n",
      "Epoch 24/100\n",
      "101/101 [==============================] - 0s 2ms/step - loss: 17.1415 - mae: 17.6320\n",
      "Epoch 25/100\n",
      "101/101 [==============================] - 0s 3ms/step - loss: 17.2782 - mae: 17.7698\n",
      "Epoch 26/100\n",
      "101/101 [==============================] - 0s 2ms/step - loss: 17.2292 - mae: 17.7225\n",
      "Epoch 27/100\n",
      "101/101 [==============================] - 0s 2ms/step - loss: 17.1141 - mae: 17.6058\n",
      "Epoch 28/100\n",
      "101/101 [==============================] - 0s 2ms/step - loss: 17.2294 - mae: 17.7215\n",
      "Epoch 29/100\n",
      "101/101 [==============================] - 0s 3ms/step - loss: 16.9053 - mae: 17.3975\n",
      "Epoch 30/100\n",
      "101/101 [==============================] - 0s 2ms/step - loss: 16.6838 - mae: 17.1737\n",
      "Epoch 31/100\n",
      "101/101 [==============================] - 0s 2ms/step - loss: 16.8638 - mae: 17.3559\n",
      "Epoch 32/100\n",
      "101/101 [==============================] - 0s 2ms/step - loss: 16.7224 - mae: 17.2139\n",
      "Epoch 33/100\n",
      "101/101 [==============================] - 0s 2ms/step - loss: 16.6309 - mae: 17.1236\n",
      "Epoch 34/100\n",
      "101/101 [==============================] - 0s 2ms/step - loss: 16.8654 - mae: 17.3576\n",
      "Epoch 35/100\n",
      "101/101 [==============================] - 0s 2ms/step - loss: 16.7930 - mae: 17.2846\n",
      "Epoch 36/100\n",
      "101/101 [==============================] - 0s 2ms/step - loss: 16.9576 - mae: 17.4492\n",
      "Epoch 37/100\n",
      "101/101 [==============================] - 0s 2ms/step - loss: 16.6328 - mae: 17.1241\n",
      "Epoch 38/100\n",
      "101/101 [==============================] - 0s 2ms/step - loss: 16.6566 - mae: 17.1489\n",
      "Epoch 39/100\n",
      "101/101 [==============================] - 0s 2ms/step - loss: 16.6831 - mae: 17.1739\n",
      "Epoch 40/100\n",
      "101/101 [==============================] - 0s 2ms/step - loss: 16.8414 - mae: 17.3327\n",
      "Epoch 41/100\n",
      "101/101 [==============================] - 0s 2ms/step - loss: 17.2261 - mae: 17.7182\n",
      "Epoch 42/100\n",
      "101/101 [==============================] - 0s 2ms/step - loss: 16.7928 - mae: 17.2843\n",
      "Epoch 43/100\n",
      "101/101 [==============================] - 0s 2ms/step - loss: 16.7065 - mae: 17.1976\n",
      "Epoch 44/100\n",
      "101/101 [==============================] - 0s 2ms/step - loss: 16.7065 - mae: 17.1974\n",
      "Epoch 45/100\n",
      "101/101 [==============================] - 0s 2ms/step - loss: 16.5443 - mae: 17.0349\n",
      "Epoch 46/100\n",
      "101/101 [==============================] - 0s 2ms/step - loss: 16.7370 - mae: 17.2282\n",
      "Epoch 47/100\n",
      "101/101 [==============================] - 0s 2ms/step - loss: 16.5721 - mae: 17.0644\n",
      "Epoch 48/100\n",
      "101/101 [==============================] - 0s 2ms/step - loss: 16.6400 - mae: 17.1320\n",
      "Epoch 49/100\n",
      "101/101 [==============================] - 0s 2ms/step - loss: 16.7413 - mae: 17.2332\n",
      "Epoch 50/100\n",
      "101/101 [==============================] - 0s 2ms/step - loss: 16.7540 - mae: 17.2455\n",
      "Epoch 51/100\n",
      "101/101 [==============================] - 0s 2ms/step - loss: 17.0276 - mae: 17.5196\n",
      "Epoch 52/100\n",
      "101/101 [==============================] - 0s 2ms/step - loss: 16.6208 - mae: 17.1119\n",
      "Epoch 53/100\n",
      "101/101 [==============================] - 0s 2ms/step - loss: 16.6656 - mae: 17.1573\n",
      "Epoch 54/100\n",
      "101/101 [==============================] - 0s 2ms/step - loss: 16.7745 - mae: 17.2678\n",
      "Epoch 55/100\n",
      "101/101 [==============================] - 0s 2ms/step - loss: 16.6820 - mae: 17.1732\n",
      "Epoch 56/100\n",
      "101/101 [==============================] - 0s 2ms/step - loss: 16.7085 - mae: 17.1998\n",
      "Epoch 57/100\n",
      "101/101 [==============================] - 0s 2ms/step - loss: 16.6770 - mae: 17.1694\n",
      "Epoch 58/100\n",
      "101/101 [==============================] - 0s 2ms/step - loss: 16.6305 - mae: 17.1211\n",
      "Epoch 59/100\n",
      "101/101 [==============================] - 0s 2ms/step - loss: 16.6207 - mae: 17.1134\n",
      "Epoch 60/100\n",
      "101/101 [==============================] - 0s 2ms/step - loss: 16.6259 - mae: 17.1172\n",
      "Epoch 61/100\n",
      "101/101 [==============================] - 0s 2ms/step - loss: 16.3678 - mae: 16.8597\n",
      "Epoch 62/100\n",
      "101/101 [==============================] - 0s 2ms/step - loss: 16.6239 - mae: 17.1138\n",
      "Epoch 63/100\n",
      "101/101 [==============================] - 0s 2ms/step - loss: 16.4694 - mae: 16.9596\n",
      "Epoch 64/100\n",
      "101/101 [==============================] - 0s 3ms/step - loss: 16.4918 - mae: 16.9813\n",
      "Epoch 65/100\n",
      "101/101 [==============================] - 0s 2ms/step - loss: 16.4727 - mae: 16.9645\n",
      "Epoch 66/100\n",
      "101/101 [==============================] - 0s 2ms/step - loss: 16.6303 - mae: 17.1212\n",
      "Epoch 67/100\n",
      "101/101 [==============================] - 0s 2ms/step - loss: 16.8547 - mae: 17.3458\n",
      "Epoch 68/100\n",
      "101/101 [==============================] - 0s 2ms/step - loss: 16.7029 - mae: 17.1946\n",
      "Epoch 69/100\n",
      "101/101 [==============================] - 0s 3ms/step - loss: 16.5471 - mae: 17.0396\n",
      "Epoch 70/100\n",
      "101/101 [==============================] - 0s 3ms/step - loss: 17.0981 - mae: 17.5893\n",
      "Epoch 71/100\n",
      "101/101 [==============================] - 0s 3ms/step - loss: 16.7867 - mae: 17.2782\n",
      "Epoch 72/100\n",
      "101/101 [==============================] - 0s 3ms/step - loss: 16.4585 - mae: 16.9489\n",
      "Epoch 73/100\n",
      "101/101 [==============================] - 0s 3ms/step - loss: 16.4974 - mae: 16.9896\n",
      "Epoch 74/100\n",
      "101/101 [==============================] - 0s 3ms/step - loss: 16.5856 - mae: 17.0769\n",
      "Epoch 75/100\n",
      "101/101 [==============================] - 0s 3ms/step - loss: 16.5351 - mae: 17.0255\n",
      "Epoch 76/100\n",
      "101/101 [==============================] - 0s 3ms/step - loss: 16.8134 - mae: 17.3060\n",
      "Epoch 77/100\n",
      "101/101 [==============================] - 0s 3ms/step - loss: 16.4160 - mae: 16.9061\n",
      "Epoch 78/100\n",
      "101/101 [==============================] - 0s 3ms/step - loss: 16.5839 - mae: 17.0756\n",
      "Epoch 79/100\n",
      "101/101 [==============================] - 0s 3ms/step - loss: 16.3858 - mae: 16.8771\n",
      "Epoch 80/100\n",
      "101/101 [==============================] - 0s 3ms/step - loss: 16.3892 - mae: 16.8805\n",
      "Epoch 81/100\n",
      "101/101 [==============================] - 0s 3ms/step - loss: 16.4601 - mae: 16.9513\n",
      "Epoch 82/100\n",
      "101/101 [==============================] - 0s 3ms/step - loss: 16.5813 - mae: 17.0724\n",
      "Epoch 83/100\n"
     ]
    },
    {
     "name": "stdout",
     "output_type": "stream",
     "text": [
      "101/101 [==============================] - 0s 2ms/step - loss: 16.6012 - mae: 17.0922\n",
      "Epoch 84/100\n",
      "101/101 [==============================] - 0s 3ms/step - loss: 16.4540 - mae: 16.9450\n",
      "Epoch 85/100\n",
      "101/101 [==============================] - 0s 3ms/step - loss: 16.5552 - mae: 17.0453\n",
      "Epoch 86/100\n",
      "101/101 [==============================] - 0s 3ms/step - loss: 16.4830 - mae: 16.9742\n",
      "Epoch 87/100\n",
      "101/101 [==============================] - 0s 3ms/step - loss: 16.4754 - mae: 16.9659\n",
      "Epoch 88/100\n",
      "101/101 [==============================] - 0s 3ms/step - loss: 16.2969 - mae: 16.7865\n",
      "Epoch 89/100\n",
      "101/101 [==============================] - 0s 2ms/step - loss: 16.4040 - mae: 16.8953\n",
      "Epoch 90/100\n",
      "101/101 [==============================] - 0s 2ms/step - loss: 16.6407 - mae: 17.1325\n",
      "Epoch 91/100\n",
      "101/101 [==============================] - 0s 3ms/step - loss: 16.5781 - mae: 17.0688\n",
      "Epoch 92/100\n",
      "101/101 [==============================] - 0s 3ms/step - loss: 16.3058 - mae: 16.7960\n",
      "Epoch 93/100\n",
      "101/101 [==============================] - 0s 3ms/step - loss: 16.3296 - mae: 16.8205\n",
      "Epoch 94/100\n",
      "101/101 [==============================] - 0s 3ms/step - loss: 16.3217 - mae: 16.8137\n",
      "Epoch 95/100\n",
      "101/101 [==============================] - 0s 3ms/step - loss: 16.3825 - mae: 16.8729\n",
      "Epoch 96/100\n",
      "101/101 [==============================] - 0s 2ms/step - loss: 16.3959 - mae: 16.8874\n",
      "Epoch 97/100\n",
      "101/101 [==============================] - 0s 2ms/step - loss: 16.4322 - mae: 16.9229\n",
      "Epoch 98/100\n",
      "101/101 [==============================] - 0s 3ms/step - loss: 16.5126 - mae: 17.0039\n",
      "Epoch 99/100\n",
      "101/101 [==============================] - 0s 3ms/step - loss: 16.7838 - mae: 17.2754\n",
      "Epoch 100/100\n",
      "101/101 [==============================] - 0s 3ms/step - loss: 16.3112 - mae: 16.8038\n"
     ]
    }
   ],
   "source": [
    "model=tf.keras.models.Sequential([\n",
    "    tf.keras.layers.Dense(30,activation='relu',input_shape=[window]),\n",
    "    tf.keras.layers.Dense(15,activation='relu'),\n",
    "    tf.keras.layers.Dense(1)\n",
    "])\n",
    "model.compile(optimizer=tf.keras.optimizers.SGD(learning_rate=2e-5,momentum=0.9),loss=tf.keras.losses.Huber(),metrics=['mae'])\n",
    "history=model.fit(dataset,epochs=100)"
   ]
  },
  {
   "cell_type": "code",
   "execution_count": 47,
   "id": "ade7ba0b",
   "metadata": {},
   "outputs": [
    {
     "data": {
      "text/plain": [
       "[<matplotlib.lines.Line2D at 0x2181e2e7be0>]"
      ]
     },
     "execution_count": 47,
     "metadata": {},
     "output_type": "execute_result"
    },
    {
     "data": {
      "image/png": "[encoded data removed]",
      "text/plain": [
       "<Figure size 432x288 with 1 Axes>"
      ]
     },
     "metadata": {
      "needs_background": "light"
     },
     "output_type": "display_data"
    }
   ],
   "source": [
    "loss = history.history['loss']\n",
    "epochs = range(len(loss))\n",
    "plt.plot(epochs, loss, 'b', label='Training Loss')"
   ]
  },
  {
   "cell_type": "markdown",
   "id": "b38e1d90",
   "metadata": {},
   "source": [
    "#### prediction"
   ]
  },
  {
   "cell_type": "code",
   "execution_count": 48,
   "id": "25dd97b6",
   "metadata": {},
   "outputs": [],
   "source": [
    "def model_forecast(model, series, window_size, batch_size):\n",
    "    dataset = tf.data.Dataset.from_tensor_slices(series)\n",
    "    dataset = dataset.window(window_size, shift=1, drop_remainder=True)\n",
    "    dataset = dataset.flat_map(lambda w: w.batch(window_size))\n",
    "    dataset = dataset.batch(batch_size).prefetch(1)\n",
    "    forecast = model.predict(dataset)\n",
    "    return forecast"
   ]
  },
  {
   "cell_type": "code",
   "execution_count": 49,
   "id": "00a65144",
   "metadata": {},
   "outputs": [
    {
     "name": "stdout",
     "output_type": "stream",
     "text": [
      "8/8 [==============================] - 0s 5ms/step\n"
     ]
    }
   ],
   "source": [
    "forecast_series = series[split_time-window:-1]\n",
    "forecast = model_forecast(model, forecast_series, window, batch)\n",
    "results = forecast.squeeze()"
   ]
  },
  {
   "cell_type": "code",
   "execution_count": 50,
   "id": "5f0f8e77",
   "metadata": {},
   "outputs": [
    {
     "data": {
      "text/plain": [
       "[<matplotlib.lines.Line2D at 0x2181f346640>]"
      ]
     },
     "execution_count": 50,
     "metadata": {},
     "output_type": "execute_result"
    },
    {
     "data": {
      "image/png": "[encoded data removed]",
      "text/plain": [
       "<Figure size 432x288 with 1 Axes>"
      ]
     },
     "metadata": {
      "needs_background": "light"
     },
     "output_type": "display_data"
    }
   ],
   "source": [
    "results=np.array(forecast).squeeze()\n",
    "plt.plot(time_val, x_val)\n",
    "plt.plot(time_val, results)"
   ]
  },
  {
   "cell_type": "code",
   "execution_count": 51,
   "id": "2ace4e72",
   "metadata": {},
   "outputs": [
    {
     "name": "stdout",
     "output_type": "stream",
     "text": [
      "410.42496\n",
      "13.844117\n"
     ]
    }
   ],
   "source": [
    "print(tf.keras.metrics.mean_squared_error(x_val, results).numpy())\n",
    "print(tf.keras.metrics.mean_absolute_error(x_val, results).numpy())"
   ]
  },
  {
   "cell_type": "markdown",
   "id": "7689dc6b",
   "metadata": {},
   "source": [
    "---"
   ]
  },
  {
   "cell_type": "markdown",
   "id": "89d76bbc",
   "metadata": {},
   "source": [
    "## CNN + DNN + LSTM"
   ]
  },
  {
   "cell_type": "code",
   "execution_count": 56,
   "id": "232dfb0e",
   "metadata": {},
   "outputs": [],
   "source": [
    "import tensorflow as tf\n",
    "import numpy as np\n",
    "import matplotlib.pyplot as plt\n",
    "import csv"
   ]
  },
  {
   "cell_type": "markdown",
   "id": "9fbda1f4",
   "metadata": {},
   "source": [
    "#### data"
   ]
  },
  {
   "cell_type": "code",
   "execution_count": 52,
   "id": "7846fe20",
   "metadata": {},
   "outputs": [],
   "source": [
    "time_step = []\n",
    "sunspots = []\n",
    "\n",
    "with open('data/Sunspots.csv') as csvfile:\n",
    "  reader = csv.reader(csvfile, delimiter=',')\n",
    "  next(reader)\n",
    "  for row in reader:\n",
    "    time_step.append(int(row[0]))\n",
    "    sunspots.append(float(row[2]))\n",
    "    \n",
    "time = np.array(time_step)\n",
    "series = np.array(sunspots)"
   ]
  },
  {
   "cell_type": "code",
   "execution_count": 53,
   "id": "030702d8",
   "metadata": {},
   "outputs": [
    {
     "data": {
      "text/plain": [
       "Text(0, 0.5, 'value')"
      ]
     },
     "execution_count": 53,
     "metadata": {},
     "output_type": "execute_result"
    },
    {
     "data": {
      "image/png": "[encoded data removed]",
      "text/plain": [
       "<Figure size 432x288 with 1 Axes>"
      ]
     },
     "metadata": {
      "needs_background": "light"
     },
     "output_type": "display_data"
    }
   ],
   "source": [
    "plt.plot(time, series)\n",
    "plt.xlabel('time')\n",
    "plt.ylabel('value')"
   ]
  },
  {
   "cell_type": "code",
   "execution_count": 54,
   "id": "53a6d95e",
   "metadata": {},
   "outputs": [],
   "source": [
    "split_time=3000\n",
    "x_train=series[:split_time]\n",
    "x_val=series[split_time:]\n",
    "time_train=time[:split_time]\n",
    "time_val=time[split_time:]"
   ]
  },
  {
   "cell_type": "code",
   "execution_count": 57,
   "id": "c26ef4e4",
   "metadata": {},
   "outputs": [],
   "source": [
    "window=30\n",
    "batch=32\n",
    "shuffle_buffer=1000"
   ]
  },
  {
   "cell_type": "code",
   "execution_count": 58,
   "id": "4617c7d8",
   "metadata": {},
   "outputs": [],
   "source": [
    "def windowed_data(series,window,batch,shuffle_buffer):\n",
    "    data=tf.data.Dataset.from_tensor_slices(series)\n",
    "    data=data.window(window+1,shift=1,drop_remainder=True)\n",
    "    data=data.flat_map(lambda i: i.batch(window+1))\n",
    "    data=data.map(lambda i: (i[:-1], i[-1]))\n",
    "    data=data.shuffle(shuffle_buffer)\n",
    "    data=data.batch(batch).prefetch(1)\n",
    "    return data"
   ]
  },
  {
   "cell_type": "code",
   "execution_count": 59,
   "id": "07e9be73",
   "metadata": {},
   "outputs": [],
   "source": [
    "dataset=windowed_data(series,window,batch,shuffle_buffer)"
   ]
  },
  {
   "cell_type": "markdown",
   "id": "f5117e84",
   "metadata": {},
   "source": [
    "#### model"
   ]
  },
  {
   "cell_type": "code",
   "execution_count": 61,
   "id": "48c8ca66",
   "metadata": {},
   "outputs": [
    {
     "name": "stdout",
     "output_type": "stream",
     "text": [
      "Model: \"sequential_11\"\n",
      "_________________________________________________________________\n",
      " Layer (type)                Output Shape              Param #   \n",
      "=================================================================\n",
      " conv1d_9 (Conv1D)           (None, 30, 64)            256       \n",
      "                                                                 \n",
      " lstm_16 (LSTM)              (None, 30, 64)            33024     \n",
      "                                                                 \n",
      " lstm_17 (LSTM)              (None, 64)                33024     \n",
      "                                                                 \n",
      " dense_18 (Dense)            (None, 30)                1950      \n",
      "                                                                 \n",
      " dense_19 (Dense)            (None, 10)                310       \n",
      "                                                                 \n",
      " dense_20 (Dense)            (None, 1)                 11        \n",
      "                                                                 \n",
      " lambda_8 (Lambda)           (None, 1)                 0         \n",
      "                                                                 \n",
      "=================================================================\n",
      "Total params: 68,575\n",
      "Trainable params: 68,575\n",
      "Non-trainable params: 0\n",
      "_________________________________________________________________\n"
     ]
    }
   ],
   "source": [
    "model=tf.keras.models.Sequential([\n",
    "    tf.keras.layers.Conv1D(filters=64,kernel_size=3,strides=1,activation='relu',padding='causal',input_shape=[window,1]),\n",
    "    tf.keras.layers.LSTM(64,return_sequences=True),\n",
    "    tf.keras.layers.LSTM(64),\n",
    "    tf.keras.layers.Dense(30,activation='relu'),\n",
    "    tf.keras.layers.Dense(10,activation='relu'),\n",
    "    tf.keras.layers.Dense(1),\n",
    "    tf.keras.layers.Lambda(lambda x: x*400)\n",
    "])\n",
    "model.summary()"
   ]
  },
  {
   "cell_type": "markdown",
   "id": "39241d56",
   "metadata": {},
   "source": [
    "#### tuning learning rate"
   ]
  },
  {
   "cell_type": "code",
   "execution_count": 62,
   "id": "e7360a42",
   "metadata": {
    "scrolled": true
   },
   "outputs": [
    {
     "name": "stdout",
     "output_type": "stream",
     "text": [
      "Epoch 1/100\n",
      "101/101 [==============================] - 6s 24ms/step - loss: 53.4420 - mae: 53.9406 - lr: 1.0000e-08\n",
      "Epoch 2/100\n",
      "101/101 [==============================] - 3s 24ms/step - loss: 47.8698 - mae: 48.3682 - lr: 1.1220e-08\n",
      "Epoch 3/100\n",
      "101/101 [==============================] - 3s 24ms/step - loss: 43.7087 - mae: 44.2057 - lr: 1.2589e-08\n",
      "Epoch 4/100\n",
      "101/101 [==============================] - 3s 24ms/step - loss: 40.2186 - mae: 40.7165 - lr: 1.4125e-08\n",
      "Epoch 5/100\n",
      "101/101 [==============================] - 3s 24ms/step - loss: 37.0875 - mae: 37.5849 - lr: 1.5849e-08\n",
      "Epoch 6/100\n",
      "101/101 [==============================] - 3s 24ms/step - loss: 34.2569 - mae: 34.7539 - lr: 1.7783e-08\n",
      "Epoch 7/100\n",
      "101/101 [==============================] - 2s 23ms/step - loss: 31.7571 - mae: 32.2538 - lr: 1.9953e-08\n",
      "Epoch 8/100\n",
      "101/101 [==============================] - 2s 23ms/step - loss: 29.7695 - mae: 30.2644 - lr: 2.2387e-08\n",
      "Epoch 9/100\n",
      "101/101 [==============================] - 2s 23ms/step - loss: 28.3565 - mae: 28.8522 - lr: 2.5119e-08\n",
      "Epoch 10/100\n",
      "101/101 [==============================] - 2s 24ms/step - loss: 27.4207 - mae: 27.9146 - lr: 2.8184e-08\n",
      "Epoch 11/100\n",
      "101/101 [==============================] - 3s 24ms/step - loss: 26.7039 - mae: 27.1979 - lr: 3.1623e-08\n",
      "Epoch 12/100\n",
      "101/101 [==============================] - 3s 28ms/step - loss: 26.0387 - mae: 26.5334 - lr: 3.5481e-08\n",
      "Epoch 13/100\n",
      "101/101 [==============================] - 3s 29ms/step - loss: 25.3931 - mae: 25.8878 - lr: 3.9811e-08\n",
      "Epoch 14/100\n",
      "101/101 [==============================] - 3s 28ms/step - loss: 24.7476 - mae: 25.2432 - lr: 4.4668e-08\n",
      "Epoch 15/100\n",
      "101/101 [==============================] - 3s 28ms/step - loss: 24.1170 - mae: 24.6102 - lr: 5.0119e-08\n",
      "Epoch 16/100\n",
      "101/101 [==============================] - 3s 29ms/step - loss: 23.5264 - mae: 24.0198 - lr: 5.6234e-08\n",
      "Epoch 17/100\n",
      "101/101 [==============================] - 3s 29ms/step - loss: 23.0514 - mae: 23.5447 - lr: 6.3096e-08\n",
      "Epoch 18/100\n",
      "101/101 [==============================] - 3s 29ms/step - loss: 22.6460 - mae: 23.1404 - lr: 7.0795e-08\n",
      "Epoch 19/100\n",
      "101/101 [==============================] - 3s 27ms/step - loss: 22.2315 - mae: 22.7249 - lr: 7.9433e-08\n",
      "Epoch 20/100\n",
      "101/101 [==============================] - 3s 27ms/step - loss: 21.8129 - mae: 22.3059 - lr: 8.9125e-08\n",
      "Epoch 21/100\n",
      "101/101 [==============================] - 3s 28ms/step - loss: 21.4006 - mae: 21.8934 - lr: 1.0000e-07\n",
      "Epoch 22/100\n",
      "101/101 [==============================] - 3s 28ms/step - loss: 20.9540 - mae: 21.4471 - lr: 1.1220e-07\n",
      "Epoch 23/100\n",
      "101/101 [==============================] - 3s 27ms/step - loss: 20.8115 - mae: 21.3043 - lr: 1.2589e-07\n",
      "Epoch 24/100\n",
      "101/101 [==============================] - 3s 29ms/step - loss: 20.3360 - mae: 20.8286 - lr: 1.4125e-07\n",
      "Epoch 25/100\n",
      "101/101 [==============================] - 3s 29ms/step - loss: 20.1493 - mae: 20.6415 - lr: 1.5849e-07\n",
      "Epoch 26/100\n",
      "101/101 [==============================] - 3s 28ms/step - loss: 20.0556 - mae: 20.5494 - lr: 1.7783e-07\n",
      "Epoch 27/100\n",
      "101/101 [==============================] - 3s 27ms/step - loss: 19.6221 - mae: 20.1148 - lr: 1.9953e-07\n",
      "Epoch 28/100\n",
      "101/101 [==============================] - 3s 29ms/step - loss: 19.5086 - mae: 20.0021 - lr: 2.2387e-07\n",
      "Epoch 29/100\n",
      "101/101 [==============================] - 3s 27ms/step - loss: 19.1107 - mae: 19.6031 - lr: 2.5119e-07\n",
      "Epoch 30/100\n",
      "101/101 [==============================] - 3s 26ms/step - loss: 18.9539 - mae: 19.4470 - lr: 2.8184e-07\n",
      "Epoch 31/100\n",
      "101/101 [==============================] - 3s 25ms/step - loss: 19.2211 - mae: 19.7131 - lr: 3.1623e-07\n",
      "Epoch 32/100\n",
      "101/101 [==============================] - 3s 25ms/step - loss: 18.8588 - mae: 19.3520 - lr: 3.5481e-07\n",
      "Epoch 33/100\n",
      "101/101 [==============================] - 3s 26ms/step - loss: 18.7921 - mae: 19.2855 - lr: 3.9811e-07\n",
      "Epoch 34/100\n",
      "101/101 [==============================] - 3s 28ms/step - loss: 18.4082 - mae: 18.9002 - lr: 4.4668e-07\n",
      "Epoch 35/100\n",
      "101/101 [==============================] - 3s 29ms/step - loss: 19.1987 - mae: 19.6906 - lr: 5.0119e-07\n",
      "Epoch 36/100\n",
      "101/101 [==============================] - 3s 28ms/step - loss: 18.6902 - mae: 19.1823 - lr: 5.6234e-07\n",
      "Epoch 37/100\n",
      "101/101 [==============================] - 3s 31ms/step - loss: 18.9569 - mae: 19.4504 - lr: 6.3096e-07\n",
      "Epoch 38/100\n",
      "101/101 [==============================] - 3s 33ms/step - loss: 18.7298 - mae: 19.2221 - lr: 7.0795e-07\n",
      "Epoch 39/100\n",
      "101/101 [==============================] - 3s 28ms/step - loss: 18.7267 - mae: 19.2187 - lr: 7.9433e-07\n",
      "Epoch 40/100\n",
      "101/101 [==============================] - 3s 28ms/step - loss: 18.4696 - mae: 18.9615 - lr: 8.9125e-07\n",
      "Epoch 41/100\n",
      "101/101 [==============================] - 3s 29ms/step - loss: 19.0538 - mae: 19.5467 - lr: 1.0000e-06\n",
      "Epoch 42/100\n",
      "101/101 [==============================] - 3s 28ms/step - loss: 18.3586 - mae: 18.8519 - lr: 1.1220e-06\n",
      "Epoch 43/100\n",
      "101/101 [==============================] - 3s 28ms/step - loss: 19.3897 - mae: 19.8829 - lr: 1.2589e-06\n",
      "Epoch 44/100\n",
      "101/101 [==============================] - 3s 29ms/step - loss: 18.7237 - mae: 19.2170 - lr: 1.4125e-06\n",
      "Epoch 45/100\n",
      "101/101 [==============================] - 3s 29ms/step - loss: 19.0956 - mae: 19.5880 - lr: 1.5849e-06\n",
      "Epoch 46/100\n",
      "101/101 [==============================] - 3s 28ms/step - loss: 18.7397 - mae: 19.2320 - lr: 1.7783e-06\n",
      "Epoch 47/100\n",
      "101/101 [==============================] - 3s 29ms/step - loss: 19.0990 - mae: 19.5922 - lr: 1.9953e-06\n",
      "Epoch 48/100\n",
      "101/101 [==============================] - 3s 28ms/step - loss: 18.2259 - mae: 18.7180 - lr: 2.2387e-06\n",
      "Epoch 49/100\n",
      "101/101 [==============================] - 3s 28ms/step - loss: 19.1000 - mae: 19.5926 - lr: 2.5119e-06\n",
      "Epoch 50/100\n",
      "101/101 [==============================] - 3s 29ms/step - loss: 17.9557 - mae: 18.4477 - lr: 2.8184e-06\n",
      "Epoch 51/100\n",
      "101/101 [==============================] - 3s 28ms/step - loss: 19.9785 - mae: 20.4721 - lr: 3.1623e-06\n",
      "Epoch 52/100\n",
      "101/101 [==============================] - 3s 28ms/step - loss: 19.1404 - mae: 19.6340 - lr: 3.5481e-06\n",
      "Epoch 53/100\n",
      "101/101 [==============================] - 3s 28ms/step - loss: 20.7070 - mae: 21.2000 - lr: 3.9811e-06\n",
      "Epoch 54/100\n",
      "101/101 [==============================] - 3s 28ms/step - loss: 19.4999 - mae: 19.9936 - lr: 4.4668e-06\n",
      "Epoch 55/100\n",
      "101/101 [==============================] - 3s 28ms/step - loss: 19.5553 - mae: 20.0492 - lr: 5.0119e-06\n",
      "Epoch 56/100\n",
      "101/101 [==============================] - 3s 28ms/step - loss: 19.8242 - mae: 20.3184 - lr: 5.6234e-06\n",
      "Epoch 57/100\n",
      "101/101 [==============================] - 3s 29ms/step - loss: 20.3775 - mae: 20.8700 - lr: 6.3096e-06\n",
      "Epoch 58/100\n",
      "101/101 [==============================] - 3s 31ms/step - loss: 20.5452 - mae: 21.0377 - lr: 7.0795e-06\n",
      "Epoch 59/100\n",
      "101/101 [==============================] - 3s 28ms/step - loss: 20.6422 - mae: 21.1360 - lr: 7.9433e-06\n",
      "Epoch 60/100\n",
      "101/101 [==============================] - 3s 28ms/step - loss: 19.1016 - mae: 19.5954 - lr: 8.9125e-06\n",
      "Epoch 61/100\n",
      "101/101 [==============================] - 3s 28ms/step - loss: 20.1164 - mae: 20.6100 - lr: 1.0000e-05\n",
      "Epoch 62/100\n",
      "101/101 [==============================] - 3s 28ms/step - loss: 20.1407 - mae: 20.6331 - lr: 1.1220e-05\n",
      "Epoch 63/100\n",
      "101/101 [==============================] - 3s 28ms/step - loss: 21.0191 - mae: 21.5150 - lr: 1.2589e-05\n",
      "Epoch 64/100\n",
      "101/101 [==============================] - 3s 28ms/step - loss: 20.0305 - mae: 20.5251 - lr: 1.4125e-05\n",
      "Epoch 65/100\n",
      "101/101 [==============================] - 3s 28ms/step - loss: 19.8316 - mae: 20.3257 - lr: 1.5849e-05\n",
      "Epoch 66/100\n",
      "101/101 [==============================] - 3s 28ms/step - loss: 19.7150 - mae: 20.2075 - lr: 1.7783e-05\n",
      "Epoch 67/100\n",
      "101/101 [==============================] - 3s 28ms/step - loss: 20.7715 - mae: 21.2638 - lr: 1.9953e-05\n",
      "Epoch 68/100\n",
      "101/101 [==============================] - 3s 28ms/step - loss: 19.8157 - mae: 20.3102 - lr: 2.2387e-05\n",
      "Epoch 69/100\n",
      "101/101 [==============================] - 3s 28ms/step - loss: 21.2067 - mae: 21.7012 - lr: 2.5119e-05\n",
      "Epoch 70/100\n",
      "101/101 [==============================] - 3s 28ms/step - loss: 20.6156 - mae: 21.1085 - lr: 2.8184e-05\n",
      "Epoch 71/100\n"
     ]
    },
    {
     "name": "stdout",
     "output_type": "stream",
     "text": [
      "101/101 [==============================] - 3s 28ms/step - loss: 21.8298 - mae: 22.3247 - lr: 3.1623e-05\n",
      "Epoch 72/100\n",
      "101/101 [==============================] - 3s 28ms/step - loss: 22.2652 - mae: 22.7594 - lr: 3.5481e-05\n",
      "Epoch 73/100\n",
      "101/101 [==============================] - 3s 28ms/step - loss: 21.6003 - mae: 22.0945 - lr: 3.9811e-05\n",
      "Epoch 74/100\n",
      "101/101 [==============================] - 3s 28ms/step - loss: 20.9327 - mae: 21.4269 - lr: 4.4668e-05\n",
      "Epoch 75/100\n",
      "101/101 [==============================] - 3s 28ms/step - loss: 22.3574 - mae: 22.8518 - lr: 5.0119e-05\n",
      "Epoch 76/100\n",
      "101/101 [==============================] - 3s 29ms/step - loss: 22.0954 - mae: 22.5898 - lr: 5.6234e-05\n",
      "Epoch 77/100\n",
      "101/101 [==============================] - 3s 28ms/step - loss: 20.0157 - mae: 20.5110 - lr: 6.3096e-05\n",
      "Epoch 78/100\n",
      "101/101 [==============================] - 3s 30ms/step - loss: 20.8866 - mae: 21.3804 - lr: 7.0795e-05\n",
      "Epoch 79/100\n",
      "101/101 [==============================] - 3s 30ms/step - loss: 23.1751 - mae: 23.6688 - lr: 7.9433e-05\n",
      "Epoch 80/100\n",
      "101/101 [==============================] - 3s 25ms/step - loss: 27.5316 - mae: 28.0251 - lr: 8.9125e-05\n",
      "Epoch 81/100\n",
      "101/101 [==============================] - 3s 25ms/step - loss: 22.9968 - mae: 23.4919 - lr: 1.0000e-04\n",
      "Epoch 82/100\n",
      "101/101 [==============================] - 3s 25ms/step - loss: 28.6910 - mae: 29.1864 - lr: 1.1220e-04\n",
      "Epoch 83/100\n",
      "101/101 [==============================] - 3s 26ms/step - loss: 25.8413 - mae: 26.3366 - lr: 1.2589e-04\n",
      "Epoch 84/100\n",
      "101/101 [==============================] - 3s 25ms/step - loss: 25.3351 - mae: 25.8303 - lr: 1.4125e-04\n",
      "Epoch 85/100\n",
      "101/101 [==============================] - 3s 26ms/step - loss: 23.8158 - mae: 24.3100 - lr: 1.5849e-04\n",
      "Epoch 86/100\n",
      "101/101 [==============================] - 3s 25ms/step - loss: 30.0179 - mae: 30.5147 - lr: 1.7783e-04\n",
      "Epoch 87/100\n",
      "101/101 [==============================] - 3s 26ms/step - loss: 33.7959 - mae: 34.2929 - lr: 1.9953e-04\n",
      "Epoch 88/100\n",
      "101/101 [==============================] - 3s 26ms/step - loss: 35.3014 - mae: 35.7985 - lr: 2.2387e-04\n",
      "Epoch 89/100\n",
      "101/101 [==============================] - 3s 26ms/step - loss: 41.5634 - mae: 42.0607 - lr: 2.5119e-04\n",
      "Epoch 90/100\n",
      "101/101 [==============================] - 3s 26ms/step - loss: 47.6629 - mae: 48.1606 - lr: 2.8184e-04\n",
      "Epoch 91/100\n",
      "101/101 [==============================] - 3s 26ms/step - loss: 40.8893 - mae: 41.3874 - lr: 3.1623e-04\n",
      "Epoch 92/100\n",
      "101/101 [==============================] - 3s 26ms/step - loss: 43.8143 - mae: 44.3113 - lr: 3.5481e-04\n",
      "Epoch 93/100\n",
      "101/101 [==============================] - 3s 26ms/step - loss: 61.2863 - mae: 61.7849 - lr: 3.9811e-04\n",
      "Epoch 94/100\n",
      "101/101 [==============================] - 3s 26ms/step - loss: 68.1947 - mae: 68.6932 - lr: 4.4668e-04\n",
      "Epoch 95/100\n",
      "101/101 [==============================] - 3s 26ms/step - loss: 57.4573 - mae: 57.9551 - lr: 5.0119e-04\n",
      "Epoch 96/100\n",
      "101/101 [==============================] - 3s 26ms/step - loss: 59.9979 - mae: 60.4960 - lr: 5.6234e-04\n",
      "Epoch 97/100\n",
      "101/101 [==============================] - 3s 28ms/step - loss: 59.1669 - mae: 59.6650 - lr: 6.3096e-04\n",
      "Epoch 98/100\n",
      "101/101 [==============================] - 3s 26ms/step - loss: 65.9517 - mae: 66.4498 - lr: 7.0795e-04\n",
      "Epoch 99/100\n",
      "101/101 [==============================] - 3s 26ms/step - loss: 65.6245 - mae: 66.1227 - lr: 7.9433e-04\n",
      "Epoch 100/100\n",
      "101/101 [==============================] - 3s 28ms/step - loss: 68.4328 - mae: 68.9312 - lr: 8.9125e-04\n"
     ]
    }
   ],
   "source": [
    "lr_schedule=tf.keras.callbacks.LearningRateScheduler(lambda epoch: 1e-8 * 10**(epoch/20))\n",
    "model.compile(optimizer=tf.keras.optimizers.SGD(momentum=0.9),loss=tf.keras.losses.Huber(),metrics=['mae'])\n",
    "history=model.fit(dataset,epochs=100,callbacks=[lr_schedule])"
   ]
  },
  {
   "cell_type": "code",
   "execution_count": 64,
   "id": "f344f490",
   "metadata": {},
   "outputs": [
    {
     "data": {
      "text/plain": [
       "(1e-08, 0.001, 0.0, 50.0)"
      ]
     },
     "execution_count": 64,
     "metadata": {},
     "output_type": "execute_result"
    },
    {
     "data": {
      "image/png": "[encoded data removed]",
      "text/plain": [
       "<Figure size 432x288 with 1 Axes>"
      ]
     },
     "metadata": {
      "needs_background": "light"
     },
     "output_type": "display_data"
    }
   ],
   "source": [
    "lrs = 1e-8 * (10 ** (np.arange(100) / 20))\n",
    "plt.semilogx(lrs, history.history[\"loss\"])\n",
    "plt.axis([1e-8, 1e-3, 0, 50])"
   ]
  },
  {
   "cell_type": "markdown",
   "id": "3c2f2f24",
   "metadata": {},
   "source": [
    "#### model training"
   ]
  },
  {
   "cell_type": "code",
   "execution_count": 65,
   "id": "b5473def",
   "metadata": {},
   "outputs": [
    {
     "name": "stdout",
     "output_type": "stream",
     "text": [
      "Epoch 1/100\n",
      "101/101 [==============================] - 1s 2ms/step - loss: 60.8762 - mae: 61.3738\n",
      "Epoch 2/100\n",
      "101/101 [==============================] - 0s 2ms/step - loss: 43.1977 - mae: 43.6937\n",
      "Epoch 3/100\n",
      "101/101 [==============================] - 0s 2ms/step - loss: 37.0614 - mae: 37.5576\n",
      "Epoch 4/100\n",
      "101/101 [==============================] - 0s 2ms/step - loss: 33.5111 - mae: 34.0069\n",
      "Epoch 5/100\n",
      "101/101 [==============================] - 0s 2ms/step - loss: 31.2281 - mae: 31.7234\n",
      "Epoch 6/100\n",
      "101/101 [==============================] - 0s 2ms/step - loss: 29.6245 - mae: 30.1197\n",
      "Epoch 7/100\n",
      "101/101 [==============================] - 0s 2ms/step - loss: 28.3500 - mae: 28.8443\n",
      "Epoch 8/100\n",
      "101/101 [==============================] - 0s 2ms/step - loss: 27.3436 - mae: 27.8372\n",
      "Epoch 9/100\n",
      "101/101 [==============================] - 0s 2ms/step - loss: 26.5234 - mae: 27.0169\n",
      "Epoch 10/100\n",
      "101/101 [==============================] - 0s 2ms/step - loss: 25.8587 - mae: 26.3526\n",
      "Epoch 11/100\n",
      "101/101 [==============================] - 0s 2ms/step - loss: 25.2586 - mae: 25.7509\n",
      "Epoch 12/100\n",
      "101/101 [==============================] - 0s 2ms/step - loss: 24.6879 - mae: 25.1802\n",
      "Epoch 13/100\n",
      "101/101 [==============================] - 0s 2ms/step - loss: 24.2439 - mae: 24.7366\n",
      "Epoch 14/100\n",
      "101/101 [==============================] - 0s 2ms/step - loss: 23.8131 - mae: 24.3056\n",
      "Epoch 15/100\n",
      "101/101 [==============================] - 0s 2ms/step - loss: 23.4134 - mae: 23.9062\n",
      "Epoch 16/100\n",
      "101/101 [==============================] - 0s 2ms/step - loss: 23.0787 - mae: 23.5718\n",
      "Epoch 17/100\n",
      "101/101 [==============================] - 0s 2ms/step - loss: 22.7551 - mae: 23.2484\n",
      "Epoch 18/100\n",
      "101/101 [==============================] - 0s 3ms/step - loss: 22.4973 - mae: 22.9899\n",
      "Epoch 19/100\n",
      "101/101 [==============================] - 0s 2ms/step - loss: 22.2096 - mae: 22.7034\n",
      "Epoch 20/100\n",
      "101/101 [==============================] - 0s 2ms/step - loss: 21.9534 - mae: 22.4461\n",
      "Epoch 21/100\n",
      "101/101 [==============================] - 0s 2ms/step - loss: 21.7248 - mae: 22.2191\n",
      "Epoch 22/100\n",
      "101/101 [==============================] - 0s 2ms/step - loss: 21.5285 - mae: 22.0226\n",
      "Epoch 23/100\n",
      "101/101 [==============================] - 0s 3ms/step - loss: 21.3084 - mae: 21.8019\n",
      "Epoch 24/100\n",
      "101/101 [==============================] - 0s 2ms/step - loss: 21.1516 - mae: 21.6445\n",
      "Epoch 25/100\n",
      "101/101 [==============================] - 0s 2ms/step - loss: 20.9498 - mae: 21.4429\n",
      "Epoch 26/100\n",
      "101/101 [==============================] - 0s 2ms/step - loss: 20.7934 - mae: 21.2857\n",
      "Epoch 27/100\n",
      "101/101 [==============================] - 0s 2ms/step - loss: 20.6745 - mae: 21.1652\n",
      "Epoch 28/100\n",
      "101/101 [==============================] - 0s 2ms/step - loss: 20.5225 - mae: 21.0156\n",
      "Epoch 29/100\n",
      "101/101 [==============================] - 0s 3ms/step - loss: 20.3867 - mae: 20.8786\n",
      "Epoch 30/100\n",
      "101/101 [==============================] - 0s 2ms/step - loss: 20.2592 - mae: 20.7520\n",
      "Epoch 31/100\n",
      "101/101 [==============================] - 0s 2ms/step - loss: 20.1902 - mae: 20.6834\n",
      "Epoch 32/100\n",
      "101/101 [==============================] - 0s 2ms/step - loss: 20.0639 - mae: 20.5574\n",
      "Epoch 33/100\n",
      "101/101 [==============================] - 0s 2ms/step - loss: 19.9651 - mae: 20.4573\n",
      "Epoch 34/100\n",
      "101/101 [==============================] - 0s 2ms/step - loss: 19.8656 - mae: 20.3581\n",
      "Epoch 35/100\n",
      "101/101 [==============================] - 0s 2ms/step - loss: 19.7633 - mae: 20.2558\n",
      "Epoch 36/100\n",
      "101/101 [==============================] - 0s 2ms/step - loss: 19.6994 - mae: 20.1917\n",
      "Epoch 37/100\n",
      "101/101 [==============================] - 0s 2ms/step - loss: 19.6375 - mae: 20.1308\n",
      "Epoch 38/100\n",
      "101/101 [==============================] - 0s 2ms/step - loss: 19.5320 - mae: 20.0258\n",
      "Epoch 39/100\n",
      "101/101 [==============================] - 0s 2ms/step - loss: 19.4775 - mae: 19.9694\n",
      "Epoch 40/100\n",
      "101/101 [==============================] - 0s 3ms/step - loss: 19.4125 - mae: 19.9049\n",
      "Epoch 41/100\n",
      "101/101 [==============================] - 0s 2ms/step - loss: 19.3177 - mae: 19.8110\n",
      "Epoch 42/100\n",
      "101/101 [==============================] - 0s 2ms/step - loss: 19.2542 - mae: 19.7476\n",
      "Epoch 43/100\n",
      "101/101 [==============================] - 0s 2ms/step - loss: 19.2392 - mae: 19.7322\n",
      "Epoch 44/100\n",
      "101/101 [==============================] - 0s 2ms/step - loss: 19.1874 - mae: 19.6792\n",
      "Epoch 45/100\n",
      "101/101 [==============================] - 0s 2ms/step - loss: 19.0959 - mae: 19.5886\n",
      "Epoch 46/100\n",
      "101/101 [==============================] - 0s 2ms/step - loss: 19.0689 - mae: 19.5610\n",
      "Epoch 47/100\n",
      "101/101 [==============================] - 0s 2ms/step - loss: 19.0072 - mae: 19.4988\n",
      "Epoch 48/100\n",
      "101/101 [==============================] - 0s 2ms/step - loss: 18.9534 - mae: 19.4460\n",
      "Epoch 49/100\n",
      "101/101 [==============================] - 0s 2ms/step - loss: 18.9124 - mae: 19.4043\n",
      "Epoch 50/100\n",
      "101/101 [==============================] - 0s 2ms/step - loss: 18.8637 - mae: 19.3563\n",
      "Epoch 51/100\n",
      "101/101 [==============================] - 0s 2ms/step - loss: 18.8139 - mae: 19.3059\n",
      "Epoch 52/100\n",
      "101/101 [==============================] - 0s 2ms/step - loss: 18.7796 - mae: 19.2723\n",
      "Epoch 53/100\n",
      "101/101 [==============================] - 0s 2ms/step - loss: 18.7428 - mae: 19.2345\n",
      "Epoch 54/100\n",
      "101/101 [==============================] - 0s 2ms/step - loss: 18.7076 - mae: 19.2006\n",
      "Epoch 55/100\n",
      "101/101 [==============================] - 0s 2ms/step - loss: 18.7220 - mae: 19.2145\n",
      "Epoch 56/100\n",
      "101/101 [==============================] - 0s 2ms/step - loss: 18.6220 - mae: 19.1151\n",
      "Epoch 57/100\n",
      "101/101 [==============================] - 0s 2ms/step - loss: 18.5940 - mae: 19.0867\n",
      "Epoch 58/100\n",
      "101/101 [==============================] - 0s 2ms/step - loss: 18.5489 - mae: 19.0402\n",
      "Epoch 59/100\n",
      "101/101 [==============================] - 0s 2ms/step - loss: 18.5036 - mae: 18.9958\n",
      "Epoch 60/100\n",
      "101/101 [==============================] - 0s 2ms/step - loss: 18.4740 - mae: 18.9667\n",
      "Epoch 61/100\n",
      "101/101 [==============================] - 0s 2ms/step - loss: 18.4936 - mae: 18.9866\n",
      "Epoch 62/100\n",
      "101/101 [==============================] - 0s 2ms/step - loss: 18.4316 - mae: 18.9236\n",
      "Epoch 63/100\n",
      "101/101 [==============================] - 0s 2ms/step - loss: 18.4349 - mae: 18.9283\n",
      "Epoch 64/100\n",
      "101/101 [==============================] - 0s 3ms/step - loss: 18.3903 - mae: 18.8836\n",
      "Epoch 65/100\n",
      "101/101 [==============================] - 0s 2ms/step - loss: 18.3518 - mae: 18.8446\n",
      "Epoch 66/100\n",
      "101/101 [==============================] - 0s 2ms/step - loss: 18.3133 - mae: 18.8068\n",
      "Epoch 67/100\n",
      "101/101 [==============================] - 0s 2ms/step - loss: 18.3005 - mae: 18.7941\n",
      "Epoch 68/100\n",
      "101/101 [==============================] - 0s 2ms/step - loss: 18.2648 - mae: 18.7573\n",
      "Epoch 69/100\n",
      "101/101 [==============================] - 0s 2ms/step - loss: 18.2392 - mae: 18.7317\n",
      "Epoch 70/100\n",
      "101/101 [==============================] - 0s 2ms/step - loss: 18.2122 - mae: 18.7044\n",
      "Epoch 71/100\n",
      "101/101 [==============================] - 0s 2ms/step - loss: 18.1831 - mae: 18.6760\n",
      "Epoch 72/100\n",
      "101/101 [==============================] - 0s 2ms/step - loss: 18.1647 - mae: 18.6569\n",
      "Epoch 73/100\n",
      "101/101 [==============================] - 0s 2ms/step - loss: 18.1389 - mae: 18.6317\n",
      "Epoch 74/100\n",
      "101/101 [==============================] - 0s 2ms/step - loss: 18.1444 - mae: 18.6385\n",
      "Epoch 75/100\n",
      "101/101 [==============================] - 0s 2ms/step - loss: 18.0871 - mae: 18.5785\n",
      "Epoch 76/100\n",
      "101/101 [==============================] - 0s 2ms/step - loss: 18.0360 - mae: 18.5285\n",
      "Epoch 77/100\n",
      "101/101 [==============================] - 0s 2ms/step - loss: 18.0602 - mae: 18.5534\n",
      "Epoch 78/100\n",
      "101/101 [==============================] - 0s 2ms/step - loss: 18.0262 - mae: 18.5188\n",
      "Epoch 79/100\n",
      "101/101 [==============================] - 0s 3ms/step - loss: 18.0146 - mae: 18.5071\n",
      "Epoch 80/100\n",
      "101/101 [==============================] - 0s 2ms/step - loss: 17.9876 - mae: 18.4806\n",
      "Epoch 81/100\n",
      "101/101 [==============================] - 0s 2ms/step - loss: 17.9908 - mae: 18.4841\n",
      "Epoch 82/100\n",
      "101/101 [==============================] - 0s 2ms/step - loss: 17.9620 - mae: 18.4537\n",
      "Epoch 83/100\n"
     ]
    },
    {
     "name": "stdout",
     "output_type": "stream",
     "text": [
      "101/101 [==============================] - 0s 2ms/step - loss: 17.9275 - mae: 18.4195\n",
      "Epoch 84/100\n",
      "101/101 [==============================] - 0s 3ms/step - loss: 17.9054 - mae: 18.3974\n",
      "Epoch 85/100\n",
      "101/101 [==============================] - 0s 3ms/step - loss: 17.9019 - mae: 18.3947\n",
      "Epoch 86/100\n",
      "101/101 [==============================] - 0s 3ms/step - loss: 17.8584 - mae: 18.3496\n",
      "Epoch 87/100\n",
      "101/101 [==============================] - 0s 3ms/step - loss: 17.8557 - mae: 18.3475\n",
      "Epoch 88/100\n",
      "101/101 [==============================] - 0s 3ms/step - loss: 17.8534 - mae: 18.3441\n",
      "Epoch 89/100\n",
      "101/101 [==============================] - 0s 3ms/step - loss: 17.8578 - mae: 18.3495\n",
      "Epoch 90/100\n",
      "101/101 [==============================] - 0s 3ms/step - loss: 17.8258 - mae: 18.3173\n",
      "Epoch 91/100\n",
      "101/101 [==============================] - 0s 3ms/step - loss: 17.7964 - mae: 18.2884\n",
      "Epoch 92/100\n",
      "101/101 [==============================] - 0s 3ms/step - loss: 17.7790 - mae: 18.2706\n",
      "Epoch 93/100\n",
      "101/101 [==============================] - 0s 3ms/step - loss: 17.7607 - mae: 18.2519\n",
      "Epoch 94/100\n",
      "101/101 [==============================] - 0s 3ms/step - loss: 17.7430 - mae: 18.2345\n",
      "Epoch 95/100\n",
      "101/101 [==============================] - 0s 3ms/step - loss: 17.7520 - mae: 18.2436\n",
      "Epoch 96/100\n",
      "101/101 [==============================] - 0s 3ms/step - loss: 17.7152 - mae: 18.2059\n",
      "Epoch 97/100\n",
      "101/101 [==============================] - 0s 3ms/step - loss: 17.6771 - mae: 18.1683\n",
      "Epoch 98/100\n",
      "101/101 [==============================] - 0s 3ms/step - loss: 17.6797 - mae: 18.1710\n",
      "Epoch 99/100\n",
      "101/101 [==============================] - 0s 2ms/step - loss: 17.7001 - mae: 18.1916\n",
      "Epoch 100/100\n",
      "101/101 [==============================] - 0s 3ms/step - loss: 17.6598 - mae: 18.1517\n"
     ]
    }
   ],
   "source": [
    "model=tf.keras.models.Sequential([\n",
    "    tf.keras.layers.Dense(30,activation='relu',input_shape=[window]),\n",
    "    tf.keras.layers.Dense(15,activation='relu'),\n",
    "    tf.keras.layers.Dense(1)\n",
    "])\n",
    "model.compile(optimizer=tf.keras.optimizers.SGD(learning_rate=1e-6,momentum=0.9),loss=tf.keras.losses.Huber(),metrics=['mae'])\n",
    "history=model.fit(dataset,epochs=100)"
   ]
  },
  {
   "cell_type": "code",
   "execution_count": 66,
   "id": "e7305700",
   "metadata": {},
   "outputs": [
    {
     "data": {
      "text/plain": [
       "[<matplotlib.lines.Line2D at 0x218102fbe80>]"
      ]
     },
     "execution_count": 66,
     "metadata": {},
     "output_type": "execute_result"
    },
    {
     "data": {
      "image/png": "[encoded data removed]",
      "text/plain": [
       "<Figure size 432x288 with 1 Axes>"
      ]
     },
     "metadata": {
      "needs_background": "light"
     },
     "output_type": "display_data"
    }
   ],
   "source": [
    "loss = history.history['loss']\n",
    "epochs = range(len(loss))\n",
    "plt.plot(epochs, loss, 'b', label='Training Loss')"
   ]
  },
  {
   "cell_type": "markdown",
   "id": "77a64d9e",
   "metadata": {},
   "source": [
    "#### prediction"
   ]
  },
  {
   "cell_type": "code",
   "execution_count": 67,
   "id": "8711233c",
   "metadata": {},
   "outputs": [],
   "source": [
    "def model_forecast(model, series, window_size, batch_size):\n",
    "    dataset = tf.data.Dataset.from_tensor_slices(series)\n",
    "    dataset = dataset.window(window_size, shift=1, drop_remainder=True)\n",
    "    dataset = dataset.flat_map(lambda w: w.batch(window_size))\n",
    "    dataset = dataset.batch(batch_size).prefetch(1)\n",
    "    forecast = model.predict(dataset)\n",
    "    return forecast"
   ]
  },
  {
   "cell_type": "code",
   "execution_count": 68,
   "id": "468ea77a",
   "metadata": {},
   "outputs": [
    {
     "name": "stdout",
     "output_type": "stream",
     "text": [
      "8/8 [==============================] - 0s 5ms/step\n"
     ]
    }
   ],
   "source": [
    "forecast_series = series[split_time-window:-1]\n",
    "forecast = model_forecast(model, forecast_series, window, batch)\n",
    "results = forecast.squeeze()"
   ]
  },
  {
   "cell_type": "code",
   "execution_count": 69,
   "id": "dffa6ee0",
   "metadata": {},
   "outputs": [
    {
     "data": {
      "text/plain": [
       "[<matplotlib.lines.Line2D at 0x2181038d4c0>]"
      ]
     },
     "execution_count": 69,
     "metadata": {},
     "output_type": "execute_result"
    },
    {
     "data": {
      "image/png": "[encoded data removed]",
      "text/plain": [
       "<Figure size 432x288 with 1 Axes>"
      ]
     },
     "metadata": {
      "needs_background": "light"
     },
     "output_type": "display_data"
    }
   ],
   "source": [
    "results=np.array(forecast).squeeze()\n",
    "plt.plot(time_val, x_val)\n",
    "plt.plot(time_val, results)"
   ]
  },
  {
   "cell_type": "code",
   "execution_count": 70,
   "id": "fb69f89b",
   "metadata": {},
   "outputs": [
    {
     "name": "stdout",
     "output_type": "stream",
     "text": [
      "484.3338\n",
      "14.907427\n"
     ]
    }
   ],
   "source": [
    "print(tf.keras.metrics.mean_squared_error(x_val, results).numpy())\n",
    "print(tf.keras.metrics.mean_absolute_error(x_val, results).numpy())"
   ]
  },
  {
   "cell_type": "markdown",
   "id": "e3c26090-60b0-461c-ba7b-35ed9cc19a3d",
   "metadata": {},
   "source": [
    "#### dynamic learning rate adjusting"
   ]
  },
  {
   "cell_type": "code",
   "execution_count": null,
   "id": "cf5f566a-90df-479d-85ac-41871af97076",
   "metadata": {},
   "outputs": [],
   "source": [
    "initial_learning_rate=1e-7\n",
    "lr_schedule = tf.keras.optimizers.schedules.ExponentialDecay(initial_learning_rate,decay_steps=400,decay_rate=0.96,staircase=True)\n",
    "model.compile(optimizer=tf.keras.optimizers.SGD(learning_rate=lr_schedule,momentum=0.9),loss=tf.keras.losses.Huber(),metrics=['mae'])\n",
    "history=model.fit(dataset,epochs=100)"
   ]
  }
 ],
 "metadata": {
  "kernelspec": {
   "display_name": "Python 3 (ipykernel)",
   "language": "python",
   "name": "python3"
  },
  "language_info": {
   "codemirror_mode": {
    "name": "ipython",
    "version": 3
   },
   "file_extension": ".py",
   "mimetype": "text/x-python",
   "name": "python",
   "nbconvert_exporter": "python",
   "pygments_lexer": "ipython3",
   "version": "3.9.18"
  }
 },
 "nbformat": 4,
 "nbformat_minor": 5
}
