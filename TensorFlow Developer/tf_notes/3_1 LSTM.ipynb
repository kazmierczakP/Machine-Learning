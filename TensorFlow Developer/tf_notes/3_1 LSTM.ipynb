{
 "cells": [
  {
   "cell_type": "markdown",
   "id": "6015d7ae-0182-4ef8-a2da-471a7fbb6611",
   "metadata": {},
   "source": [
    "# RNN"
   ]
  },
  {
   "cell_type": "markdown",
   "id": "685c9428-450f-46b9-92ca-1cea4c87de51",
   "metadata": {},
   "source": [
    "`LSTM` - long short term memory"
   ]
  },
  {
   "cell_type": "code",
   "execution_count": 1,
   "id": "5b74b145-c4b6-4d60-8f15-fe9b5b380b12",
   "metadata": {},
   "outputs": [
    {
     "name": "stderr",
     "output_type": "stream",
     "text": [
      "C:\\Users\\pk764\\miniconda3\\envs\\tensorflow\\lib\\site-packages\\tqdm\\auto.py:21: TqdmWarning: IProgress not found. Please update jupyter and ipywidgets. See https://ipywidgets.readthedocs.io/en/stable/user_install.html\n",
      "  from .autonotebook import tqdm as notebook_tqdm\n"
     ]
    }
   ],
   "source": [
    "import tensorflow as tf\n",
    "import tensorflow_datasets as tfds"
   ]
  },
  {
   "cell_type": "markdown",
   "id": "dc6e4b7a-db06-4494-8456-48f468768224",
   "metadata": {},
   "source": [
    "## Subwords"
   ]
  },
  {
   "cell_type": "markdown",
   "id": "f52fcfa2-35dc-4bcb-9b4e-d6c58eca48a1",
   "metadata": {},
   "source": [
    "## LSTM"
   ]
  },
  {
   "cell_type": "markdown",
   "id": "feb448b0-f6ed-4582-aaac-2188f3e8aac9",
   "metadata": {},
   "source": [
    "#### Data"
   ]
  },
  {
   "cell_type": "code",
   "execution_count": 2,
   "id": "2f941db4-0d62-4f57-8215-27aa6e8a12c7",
   "metadata": {},
   "outputs": [
    {
     "name": "stderr",
     "output_type": "stream",
     "text": [
      "WARNING:absl:TFDS datasets with text encoding are deprecated and will be removed in a future version. Instead, you should use the plain text version and tokenize the text using `tensorflow_text` (See: https://www.tensorflow.org/tutorials/tensorflow_text/intro#tfdata_example)\n"
     ]
    }
   ],
   "source": [
    "dataset,info=tfds.load('imdb_reviews/subwords8k',with_info=True,as_supervised=True)\n",
    "tokenizer=info.features['text'].encoder"
   ]
  },
  {
   "cell_type": "code",
   "execution_count": 3,
   "id": "79859b78-5f06-400c-81c9-4e4e33bf1b66",
   "metadata": {},
   "outputs": [],
   "source": [
    "BUFFER_SIZE = 10000\n",
    "BATCH_SIZE = 256\n",
    "train_data, test_data = dataset['train'], dataset['test'] \n",
    "train_dataset = train_data.shuffle(BUFFER_SIZE)\n",
    "\n",
    "train_dataset = train_dataset.padded_batch(BATCH_SIZE)\n",
    "test_dataset = test_data.padded_batch(BATCH_SIZE)"
   ]
  },
  {
   "cell_type": "markdown",
   "id": "2a020f1c-fdc1-490f-a3a7-89fd11905d14",
   "metadata": {},
   "source": [
    "#### Model"
   ]
  },
  {
   "cell_type": "markdown",
   "id": "249f4fe4-1561-462b-be21-560ae26c698d",
   "metadata": {},
   "source": [
    "`Flatten/GlobalAveragePooling1D` layer will be switched to `LSTM` layer and put in `Bidirectional` layer."
   ]
  },
  {
   "cell_type": "code",
   "execution_count": 17,
   "id": "197547c6-9e5b-42cb-8414-1ba503918e23",
   "metadata": {},
   "outputs": [
    {
     "name": "stdout",
     "output_type": "stream",
     "text": [
      "Model: \"sequential_4\"\n",
      "_________________________________________________________________\n",
      " Layer (type)                Output Shape              Param #   \n",
      "=================================================================\n",
      " embedding_4 (Embedding)     (None, None, 64)          523840    \n",
      "                                                                 \n",
      " bidirectional_4 (Bidirectio  (None, 128)              66048     \n",
      " nal)                                                            \n",
      "                                                                 \n",
      " dense_8 (Dense)             (None, 64)                8256      \n",
      "                                                                 \n",
      " dense_9 (Dense)             (None, 1)                 65        \n",
      "                                                                 \n",
      "=================================================================\n",
      "Total params: 598,209\n",
      "Trainable params: 598,209\n",
      "Non-trainable params: 0\n",
      "_________________________________________________________________\n"
     ]
    }
   ],
   "source": [
    "model=tf.keras.models.Sequential([\n",
    "    tf.keras.layers.Embedding(tokenizer.vocab_size,64),\n",
    "    tf.keras.layers.Bidirectional(tf.keras.layers.LSTM(64)),\n",
    "    tf.keras.layers.Dense(64,activation='relu'),\n",
    "    tf.keras.layers.Dense(1,activation='sigmoid')\n",
    "])\n",
    "model.summary()"
   ]
  },
  {
   "cell_type": "code",
   "execution_count": 14,
   "id": "258b5658-a855-47f3-9b61-5f60a83473ed",
   "metadata": {},
   "outputs": [],
   "source": [
    "model.compile(loss='BinaryCrossentropy',optimizer='adam',metrics=['accuracy'])"
   ]
  },
  {
   "cell_type": "code",
   "execution_count": 16,
   "id": "36fa586c-fd2a-4f15-8951-e7951392357e",
   "metadata": {},
   "outputs": [],
   "source": [
    "#history=model.fit(train_dataset,epochs=10,validation_data=test_dataset)"
   ]
  },
  {
   "cell_type": "markdown",
   "id": "6b742750-4bb6-49b6-a573-eed7ba0f0e37",
   "metadata": {},
   "source": [
    "version with multiple layers:"
   ]
  },
  {
   "cell_type": "code",
   "execution_count": 20,
   "id": "db31748a-ad64-4db5-b651-4912ac6664cf",
   "metadata": {},
   "outputs": [
    {
     "name": "stdout",
     "output_type": "stream",
     "text": [
      "Model: \"sequential_6\"\n",
      "_________________________________________________________________\n",
      " Layer (type)                Output Shape              Param #   \n",
      "=================================================================\n",
      " embedding_7 (Embedding)     (None, None, 64)          523840    \n",
      "                                                                 \n",
      " bidirectional_7 (Bidirectio  (None, None, 128)        66048     \n",
      " nal)                                                            \n",
      "                                                                 \n",
      " bidirectional_8 (Bidirectio  (None, 64)               41216     \n",
      " nal)                                                            \n",
      "                                                                 \n",
      " dense_12 (Dense)            (None, 64)                4160      \n",
      "                                                                 \n",
      " dense_13 (Dense)            (None, 1)                 65        \n",
      "                                                                 \n",
      "=================================================================\n",
      "Total params: 635,329\n",
      "Trainable params: 635,329\n",
      "Non-trainable params: 0\n",
      "_________________________________________________________________\n"
     ]
    }
   ],
   "source": [
    "model=tf.keras.models.Sequential([\n",
    "    tf.keras.layers.Embedding(tokenizer.vocab_size,64),\n",
    "    tf.keras.layers.Bidirectional(tf.keras.layers.LSTM(64,return_sequences=True)),\n",
    "    tf.keras.layers.Bidirectional(tf.keras.layers.LSTM(32)),\n",
    "    tf.keras.layers.Dense(64,activation='relu'),\n",
    "    tf.keras.layers.Dense(1,activation='sigmoid')\n",
    "])\n",
    "model.summary()"
   ]
  },
  {
   "cell_type": "code",
   "execution_count": null,
   "id": "fe92d058-c9bc-4b35-84af-b0274cf4cd40",
   "metadata": {},
   "outputs": [],
   "source": [
    "model.compile(loss='BinaryCrossentropy',optimizer='adam',metrics=['accuracy'])"
   ]
  },
  {
   "cell_type": "code",
   "execution_count": null,
   "id": "e4c07252-e6a7-479b-81d6-679a02e9bd41",
   "metadata": {},
   "outputs": [],
   "source": [
    "#history=model.fit(train_dataset,epochs=10,validation_data=test_dataset)"
   ]
  },
  {
   "cell_type": "code",
   "execution_count": null,
   "id": "e16a1d74-9768-4b5e-83d8-081c91b0e890",
   "metadata": {},
   "outputs": [],
   "source": [
    "plt.plot(history.history['accuracy'])\n",
    "plt.plot(history.history['val_accuracy'])\n",
    "plt.xlabel(\"Epochs\")\n",
    "plt.ylabel('accuracy')\n",
    "plt.legend(['accuracy', 'val_accuracy'])\n",
    "plt.show()"
   ]
  },
  {
   "cell_type": "markdown",
   "id": "2210d137-afc4-4db0-a1f9-27b2a118da52",
   "metadata": {},
   "source": [
    "---"
   ]
  },
  {
   "cell_type": "markdown",
   "id": "d5e719aa-0b4a-4698-b942-54b0ef8cda59",
   "metadata": {},
   "source": [
    "## CNN"
   ]
  },
  {
   "cell_type": "markdown",
   "id": "3d6abca7-d50f-4454-9814-baa4663595a9",
   "metadata": {},
   "source": [
    "#### Data"
   ]
  },
  {
   "cell_type": "code",
   "execution_count": 23,
   "id": "935bb3a2-cafb-454f-acb2-b16e8f914805",
   "metadata": {},
   "outputs": [
    {
     "name": "stderr",
     "output_type": "stream",
     "text": [
      "WARNING:absl:TFDS datasets with text encoding are deprecated and will be removed in a future version. Instead, you should use the plain text version and tokenize the text using `tensorflow_text` (See: https://www.tensorflow.org/tutorials/tensorflow_text/intro#tfdata_example)\n"
     ]
    }
   ],
   "source": [
    "dataset,info=tfds.load('imdb_reviews/subwords8k',with_info=True,as_supervised=True)\n",
    "tokenizer=info.features['text'].encoder"
   ]
  },
  {
   "cell_type": "code",
   "execution_count": 24,
   "id": "4ae0147d-90f4-413b-87be-fb16182e1fc7",
   "metadata": {},
   "outputs": [],
   "source": [
    "BUFFER_SIZE = 10000\n",
    "BATCH_SIZE = 256\n",
    "train_data, test_data = dataset['train'], dataset['test'] \n",
    "train_dataset = train_data.shuffle(BUFFER_SIZE)\n",
    "\n",
    "train_dataset = train_dataset.padded_batch(BATCH_SIZE)\n",
    "test_dataset = test_data.padded_batch(BATCH_SIZE)"
   ]
  },
  {
   "cell_type": "markdown",
   "id": "7316a531-ca5d-4ad7-8423-f10efdc0f29e",
   "metadata": {},
   "source": [
    "#### Model"
   ]
  },
  {
   "cell_type": "code",
   "execution_count": 26,
   "id": "7adc46f3-ef8d-4052-aa42-240603da6809",
   "metadata": {},
   "outputs": [
    {
     "name": "stdout",
     "output_type": "stream",
     "text": [
      "Model: \"sequential_7\"\n",
      "_________________________________________________________________\n",
      " Layer (type)                Output Shape              Param #   \n",
      "=================================================================\n",
      " embedding_8 (Embedding)     (None, None, 64)          523840    \n",
      "                                                                 \n",
      " conv1d (Conv1D)             (None, None, 128)         41088     \n",
      "                                                                 \n",
      " global_max_pooling1d (Globa  (None, 128)              0         \n",
      " lMaxPooling1D)                                                  \n",
      "                                                                 \n",
      " dense_14 (Dense)            (None, 64)                8256      \n",
      "                                                                 \n",
      " dense_15 (Dense)            (None, 1)                 65        \n",
      "                                                                 \n",
      "=================================================================\n",
      "Total params: 573,249\n",
      "Trainable params: 573,249\n",
      "Non-trainable params: 0\n",
      "_________________________________________________________________\n"
     ]
    }
   ],
   "source": [
    "model=tf.keras.models.Sequential([\n",
    "    tf.keras.layers.Embedding(tokenizer.vocab_size,64),\n",
    "    tf.keras.layers.Conv1D(filters=128,kernel_size=5,activation='relu'),\n",
    "    tf.keras.layers.GlobalMaxPooling1D(),\n",
    "    tf.keras.layers.Dense(64,activation='relu'),\n",
    "    tf.keras.layers.Dense(1,activation='sigmoid')\n",
    "])\n",
    "model.summary()"
   ]
  },
  {
   "cell_type": "code",
   "execution_count": 29,
   "id": "167d6ee0-f4f0-4581-8c94-9643210f9e4c",
   "metadata": {},
   "outputs": [
    {
     "data": {
      "text/plain": [
       "8185"
      ]
     },
     "execution_count": 29,
     "metadata": {},
     "output_type": "execute_result"
    }
   ],
   "source": [
    "tokenizer.vocab_size"
   ]
  },
  {
   "cell_type": "code",
   "execution_count": 27,
   "id": "1e2b3f53-c32b-41e4-96fa-fb5db3d920a0",
   "metadata": {},
   "outputs": [],
   "source": [
    "model.compile(loss='BinaryCrossentropy',optimizer='adam',metrics=['accuracy'])"
   ]
  },
  {
   "cell_type": "code",
   "execution_count": 30,
   "id": "9279caee-aab5-4b72-8bc0-baa3f53299c8",
   "metadata": {},
   "outputs": [],
   "source": [
    "#history=model.fit(train_dataset,epochs=10,validation_data=test_dataset)"
   ]
  },
  {
   "cell_type": "code",
   "execution_count": null,
   "id": "1d48c702-9b5d-4f58-907d-e38abd46c2e7",
   "metadata": {},
   "outputs": [],
   "source": [
    "plt.plot(history.history['accuracy'])\n",
    "plt.plot(history.history['val_accuracy'])\n",
    "plt.xlabel(\"Epochs\")\n",
    "plt.ylabel('accuracy')\n",
    "plt.legend(['accuracy', 'val_accuracy'])\n",
    "plt.show()"
   ]
  },
  {
   "cell_type": "markdown",
   "id": "2d99e7d5-b6fd-448f-abb9-fe8d6a9b7082",
   "metadata": {},
   "source": [
    "---"
   ]
  },
  {
   "cell_type": "markdown",
   "id": "e5e42911-2789-407d-b18e-8b49d5f65ef1",
   "metadata": {},
   "source": [
    "## Words"
   ]
  },
  {
   "cell_type": "code",
   "execution_count": 42,
   "id": "db725a2e-c04b-43a0-a909-8f49fa3b5a31",
   "metadata": {},
   "outputs": [],
   "source": [
    "import tensorflow_datasets as tfds\n",
    "import tensorflow as tf\n",
    "import numpy as np\n",
    "import matplotlib.pyplot as plt\n",
    "\n",
    "from tensorflow.keras.preprocessing.text import Tokenizer\n",
    "from tensorflow.keras.preprocessing.sequence import pad_sequences"
   ]
  },
  {
   "cell_type": "code",
   "execution_count": 34,
   "id": "c9e101ab-7d5e-4624-b603-537f62f963b8",
   "metadata": {},
   "outputs": [],
   "source": [
    "imdb,info=tfds.load(\"imdb_reviews\",with_info=True,as_supervised=True)\n",
    "train,test=imdb['train'],imdb['test']"
   ]
  },
  {
   "cell_type": "code",
   "execution_count": 35,
   "id": "fefe02f1-6d55-45ee-aafe-027177d17c8c",
   "metadata": {},
   "outputs": [],
   "source": [
    "train_sentences=[]\n",
    "train_labels=[]\n",
    "for s,l in train:\n",
    "    train_sentences.append(s.numpy().decode('utf8'))\n",
    "    train_labels.append(l.numpy())\n",
    "\n",
    "test_sentences=[]\n",
    "test_labels=[]\n",
    "for s,l in test:\n",
    "    test_sentences.append(s.numpy().decode('utf8'))\n",
    "    test_labels.append(l.numpy())\n",
    "\n",
    "train_labels_final=np.array(train_labels)\n",
    "test_labels_final=np.array(test_labels)"
   ]
  },
  {
   "cell_type": "code",
   "execution_count": 36,
   "id": "e9294e54-ef20-4355-99ec-ab2240975b1b",
   "metadata": {},
   "outputs": [],
   "source": [
    "tokenizer=Tokenizer(num_words=10000,oov_token='<OOV>')\n",
    "tokenizer.fit_on_texts(train_sentences)\n",
    "word_index=tokenizer.word_index\n",
    "\n",
    "sequences=tokenizer.texts_to_sequences(train_sentences)\n",
    "padded=pad_sequences(sequences,maxlen=120,truncating='post')\n",
    "\n",
    "test_sequences=tokenizer.texts_to_sequences(test_sentences)\n",
    "test_padded=pad_sequences(test_sequences,maxlen=120,truncating='post')"
   ]
  },
  {
   "cell_type": "markdown",
   "id": "e87adb46-6dfe-4037-a865-3aa7c5a4b38c",
   "metadata": {},
   "source": [
    "#### Flatten"
   ]
  },
  {
   "cell_type": "code",
   "execution_count": 61,
   "id": "7fb63ec0-228f-4548-abb0-e75006f7340a",
   "metadata": {},
   "outputs": [
    {
     "name": "stdout",
     "output_type": "stream",
     "text": [
      "Model: \"sequential_14\"\n",
      "_________________________________________________________________\n",
      " Layer (type)                Output Shape              Param #   \n",
      "=================================================================\n",
      " embedding_16 (Embedding)    (None, 120, 16)           160000    \n",
      "                                                                 \n",
      " flatten_4 (Flatten)         (None, 1920)              0         \n",
      "                                                                 \n",
      " dense_28 (Dense)            (None, 6)                 11526     \n",
      "                                                                 \n",
      " dense_29 (Dense)            (None, 1)                 7         \n",
      "                                                                 \n",
      "=================================================================\n",
      "Total params: 171,533\n",
      "Trainable params: 171,533\n",
      "Non-trainable params: 0\n",
      "_________________________________________________________________\n"
     ]
    }
   ],
   "source": [
    "model_flatten=tf.keras.models.Sequential([\n",
    "    tf.keras.layers.Embedding(10000,16,input_length=120),\n",
    "    tf.keras.layers.Flatten(),\n",
    "    #tf.keras.layers.GlobalAveragePooling1D()\n",
    "    tf.keras.layers.Dense(6,activation='relu'),\n",
    "    tf.keras.layers.Dense(1,activation='sigmoid')\n",
    "])\n",
    "model_flatten.compile(loss='binary_crossentropy',optimizer='adam',metrics=['accuracy'])\n",
    "model_flatten.summary()"
   ]
  },
  {
   "cell_type": "code",
   "execution_count": 62,
   "id": "bc27eee5-87df-4f8e-8928-1d935fa5e7f9",
   "metadata": {},
   "outputs": [
    {
     "name": "stdout",
     "output_type": "stream",
     "text": [
      "Epoch 1/10\n",
      "196/196 [==============================] - 1s 5ms/step - loss: 0.6208 - accuracy: 0.6546 - val_loss: 0.4410 - val_accuracy: 0.8039\n",
      "Epoch 2/10\n",
      "196/196 [==============================] - 1s 4ms/step - loss: 0.3249 - accuracy: 0.8636 - val_loss: 0.3743 - val_accuracy: 0.8341\n",
      "Epoch 3/10\n",
      "196/196 [==============================] - 1s 4ms/step - loss: 0.2091 - accuracy: 0.9237 - val_loss: 0.3989 - val_accuracy: 0.8266\n",
      "Epoch 4/10\n",
      "196/196 [==============================] - 1s 4ms/step - loss: 0.1186 - accuracy: 0.9678 - val_loss: 0.4519 - val_accuracy: 0.8163\n",
      "Epoch 5/10\n",
      "196/196 [==============================] - 1s 4ms/step - loss: 0.0568 - accuracy: 0.9913 - val_loss: 0.4921 - val_accuracy: 0.8169\n",
      "Epoch 6/10\n",
      "196/196 [==============================] - 1s 4ms/step - loss: 0.0253 - accuracy: 0.9981 - val_loss: 0.5504 - val_accuracy: 0.8111\n",
      "Epoch 7/10\n",
      "196/196 [==============================] - 1s 4ms/step - loss: 0.0124 - accuracy: 0.9994 - val_loss: 0.5877 - val_accuracy: 0.8122\n",
      "Epoch 8/10\n",
      "196/196 [==============================] - 1s 4ms/step - loss: 0.0066 - accuracy: 0.9998 - val_loss: 0.6260 - val_accuracy: 0.8114\n",
      "Epoch 9/10\n",
      "196/196 [==============================] - 1s 4ms/step - loss: 0.0042 - accuracy: 1.0000 - val_loss: 0.6594 - val_accuracy: 0.8111\n",
      "Epoch 10/10\n",
      "196/196 [==============================] - 1s 5ms/step - loss: 0.0029 - accuracy: 1.0000 - val_loss: 0.6900 - val_accuracy: 0.8109\n"
     ]
    }
   ],
   "source": [
    "history_flatten=model_flatten.fit(padded,train_labels_final,batch_size=128,epochs=10, validation_data=(test_padded, test_labels_final))"
   ]
  },
  {
   "cell_type": "code",
   "execution_count": 63,
   "id": "16f1c8e9-919b-45b7-8c2e-7a8b0f2408f5",
   "metadata": {},
   "outputs": [
    {
     "data": {
      "text/plain": [
       "Text(0.5, 1.0, 'Accuracy')"
      ]
     },
     "execution_count": 63,
     "metadata": {},
     "output_type": "execute_result"
    },
    {
     "data": {
      "image/png": "[encoded data removed]",
      "text/plain": [
       "<Figure size 640x480 with 1 Axes>"
      ]
     },
     "metadata": {},
     "output_type": "display_data"
    }
   ],
   "source": [
    "plt.plot(history_flatten.history['accuracy'],label='train')\n",
    "plt.plot(history_flatten.history['val_accuracy'],label='test')\n",
    "plt.legend()\n",
    "plt.title('Accuracy')"
   ]
  },
  {
   "cell_type": "markdown",
   "id": "ed976306-cc25-4035-86fc-bb3202ed5d4b",
   "metadata": {},
   "source": [
    "#### CNN"
   ]
  },
  {
   "cell_type": "code",
   "execution_count": 67,
   "id": "84b0ae70-e399-4f5a-8567-3533fa8c663b",
   "metadata": {},
   "outputs": [
    {
     "name": "stdout",
     "output_type": "stream",
     "text": [
      "Model: \"sequential_16\"\n",
      "_________________________________________________________________\n",
      " Layer (type)                Output Shape              Param #   \n",
      "=================================================================\n",
      " embedding_18 (Embedding)    (None, 120, 16)           160000    \n",
      "                                                                 \n",
      " conv1d_1 (Conv1D)           (None, 116, 128)          10368     \n",
      "                                                                 \n",
      " global_average_pooling1d (G  (None, 128)              0         \n",
      " lobalAveragePooling1D)                                          \n",
      "                                                                 \n",
      " dense_32 (Dense)            (None, 6)                 774       \n",
      "                                                                 \n",
      " dense_33 (Dense)            (None, 1)                 7         \n",
      "                                                                 \n",
      "=================================================================\n",
      "Total params: 171,149\n",
      "Trainable params: 171,149\n",
      "Non-trainable params: 0\n",
      "_________________________________________________________________\n"
     ]
    }
   ],
   "source": [
    "model_conv=tf.keras.models.Sequential([\n",
    "    tf.keras.layers.Embedding(10000,16,input_length=120),\n",
    "    tf.keras.layers.Conv1D(128,5,activation='relu'),\n",
    "    tf.keras.layers.GlobalAveragePooling1D(),\n",
    "    tf.keras.layers.Dense(6,activation='relu'),\n",
    "    tf.keras.layers.Dense(1,activation='sigmoid')\n",
    "])\n",
    "model_conv.compile(loss='binary_crossentropy',optimizer='adam',metrics=['accuracy'])\n",
    "model_conv.summary()"
   ]
  },
  {
   "cell_type": "code",
   "execution_count": 68,
   "id": "5b105495-dd6d-44ec-b21d-68907119f789",
   "metadata": {},
   "outputs": [
    {
     "name": "stdout",
     "output_type": "stream",
     "text": [
      "Epoch 1/10\n",
      "196/196 [==============================] - 7s 32ms/step - loss: 0.5390 - accuracy: 0.7136 - val_loss: 0.4095 - val_accuracy: 0.8144\n",
      "Epoch 2/10\n",
      "196/196 [==============================] - 6s 31ms/step - loss: 0.3012 - accuracy: 0.8768 - val_loss: 0.3956 - val_accuracy: 0.8242\n",
      "Epoch 3/10\n",
      "196/196 [==============================] - 6s 31ms/step - loss: 0.2415 - accuracy: 0.9055 - val_loss: 0.4183 - val_accuracy: 0.8246\n",
      "Epoch 4/10\n",
      "196/196 [==============================] - 6s 31ms/step - loss: 0.2075 - accuracy: 0.9232 - val_loss: 0.4565 - val_accuracy: 0.8202\n",
      "Epoch 5/10\n",
      "196/196 [==============================] - 7s 35ms/step - loss: 0.1803 - accuracy: 0.9347 - val_loss: 0.5401 - val_accuracy: 0.8056\n",
      "Epoch 6/10\n",
      "196/196 [==============================] - 7s 34ms/step - loss: 0.1624 - accuracy: 0.9438 - val_loss: 0.5717 - val_accuracy: 0.8060\n",
      "Epoch 7/10\n",
      "196/196 [==============================] - 7s 33ms/step - loss: 0.1413 - accuracy: 0.9514 - val_loss: 0.6108 - val_accuracy: 0.8036\n",
      "Epoch 8/10\n",
      "196/196 [==============================] - 7s 34ms/step - loss: 0.1253 - accuracy: 0.9581 - val_loss: 0.6903 - val_accuracy: 0.7979\n",
      "Epoch 9/10\n",
      "196/196 [==============================] - 7s 35ms/step - loss: 0.1117 - accuracy: 0.9650 - val_loss: 0.7919 - val_accuracy: 0.7909\n",
      "Epoch 10/10\n",
      "196/196 [==============================] - 7s 36ms/step - loss: 0.0984 - accuracy: 0.9715 - val_loss: 0.8230 - val_accuracy: 0.7946\n"
     ]
    }
   ],
   "source": [
    "history_conv=model_conv.fit(padded,train_labels_final,batch_size=128,epochs=10, validation_data=(test_padded, test_labels_final))"
   ]
  },
  {
   "cell_type": "code",
   "execution_count": 69,
   "id": "9bbba261-4970-4dce-8d5a-f0f8c0bfff48",
   "metadata": {},
   "outputs": [
    {
     "data": {
      "text/plain": [
       "Text(0.5, 1.0, 'Accuracy')"
      ]
     },
     "execution_count": 69,
     "metadata": {},
     "output_type": "execute_result"
    },
    {
     "data": {
      "image/png": "[encoded data removed]",
      "text/plain": [
       "<Figure size 640x480 with 1 Axes>"
      ]
     },
     "metadata": {},
     "output_type": "display_data"
    }
   ],
   "source": [
    "plt.plot(history_conv.history['accuracy'],label='train')\n",
    "plt.plot(history_conv.history['val_accuracy'],label='test')\n",
    "plt.legend()\n",
    "plt.title('Accuracy')"
   ]
  },
  {
   "cell_type": "markdown",
   "id": "8157fb1d-1c52-4ecf-9941-1354c28634c3",
   "metadata": {},
   "source": [
    "#### LSTM"
   ]
  },
  {
   "cell_type": "code",
   "execution_count": 53,
   "id": "c0007053-9909-427a-9fb0-d7cea786113d",
   "metadata": {},
   "outputs": [
    {
     "name": "stdout",
     "output_type": "stream",
     "text": [
      "Model: \"sequential_12\"\n",
      "_________________________________________________________________\n",
      " Layer (type)                Output Shape              Param #   \n",
      "=================================================================\n",
      " embedding_14 (Embedding)    (None, 120, 16)           160000    \n",
      "                                                                 \n",
      " bidirectional_9 (Bidirectio  (None, 64)               12544     \n",
      " nal)                                                            \n",
      "                                                                 \n",
      " dense_24 (Dense)            (None, 6)                 390       \n",
      "                                                                 \n",
      " dense_25 (Dense)            (None, 1)                 7         \n",
      "                                                                 \n",
      "=================================================================\n",
      "Total params: 172,941\n",
      "Trainable params: 172,941\n",
      "Non-trainable params: 0\n",
      "_________________________________________________________________\n"
     ]
    }
   ],
   "source": [
    "model_lstm=tf.keras.models.Sequential([\n",
    "    tf.keras.layers.Embedding(10000,16,input_length=120),\n",
    "    tf.keras.layers.Bidirectional(tf.keras.layers.LSTM(32)),\n",
    "    tf.keras.layers.Dense(6,activation='relu'),\n",
    "    tf.keras.layers.Dense(1,activation='sigmoid')\n",
    "])\n",
    "model_lstm.compile(loss='binary_crossentropy',optimizer='adam',metrics=['accuracy'])\n",
    "model_lstm.summary()"
   ]
  },
  {
   "cell_type": "code",
   "execution_count": 57,
   "id": "008b4817-eb1f-4f3e-8d47-468871f6f8cf",
   "metadata": {},
   "outputs": [
    {
     "name": "stdout",
     "output_type": "stream",
     "text": [
      "Epoch 1/10\n",
      "196/196 [==============================] - 18s 78ms/step - loss: 0.5514 - accuracy: 0.6890 - val_loss: 0.4054 - val_accuracy: 0.8190\n",
      "Epoch 2/10\n",
      "196/196 [==============================] - 18s 93ms/step - loss: 0.3140 - accuracy: 0.8706 - val_loss: 0.3934 - val_accuracy: 0.8204\n",
      "Epoch 3/10\n",
      "196/196 [==============================] - 18s 92ms/step - loss: 0.2584 - accuracy: 0.8995 - val_loss: 0.4088 - val_accuracy: 0.8224\n",
      "Epoch 4/10\n",
      "196/196 [==============================] - 18s 93ms/step - loss: 0.2135 - accuracy: 0.9197 - val_loss: 0.4670 - val_accuracy: 0.8114\n",
      "Epoch 5/10\n",
      "196/196 [==============================] - 19s 95ms/step - loss: 0.1882 - accuracy: 0.9320 - val_loss: 0.5221 - val_accuracy: 0.8120\n",
      "Epoch 6/10\n",
      "196/196 [==============================] - 19s 96ms/step - loss: 0.1659 - accuracy: 0.9422 - val_loss: 0.5465 - val_accuracy: 0.8100\n",
      "Epoch 7/10\n",
      "196/196 [==============================] - 18s 94ms/step - loss: 0.1403 - accuracy: 0.9526 - val_loss: 0.5274 - val_accuracy: 0.7981\n",
      "Epoch 8/10\n",
      "196/196 [==============================] - 18s 94ms/step - loss: 0.1245 - accuracy: 0.9588 - val_loss: 0.6882 - val_accuracy: 0.7987\n",
      "Epoch 9/10\n",
      "196/196 [==============================] - 23s 118ms/step - loss: 0.1019 - accuracy: 0.9695 - val_loss: 0.6714 - val_accuracy: 0.8016\n",
      "Epoch 10/10\n",
      "196/196 [==============================] - 25s 126ms/step - loss: 0.0918 - accuracy: 0.9722 - val_loss: 0.7175 - val_accuracy: 0.7990\n"
     ]
    }
   ],
   "source": [
    "history_lstm=model_lstm.fit(padded,train_labels_final,batch_size=128,epochs=10, validation_data=(test_padded, test_labels_final))"
   ]
  },
  {
   "cell_type": "code",
   "execution_count": 59,
   "id": "934f5dd6-97ee-4ed2-b75f-16a0a4ddc2e5",
   "metadata": {},
   "outputs": [
    {
     "data": {
      "text/plain": [
       "Text(0.5, 1.0, 'Accuracy')"
      ]
     },
     "execution_count": 59,
     "metadata": {},
     "output_type": "execute_result"
    },
    {
     "data": {
      "image/png": "[encoded data removed]",
      "text/plain": [
       "<Figure size 640x480 with 1 Axes>"
      ]
     },
     "metadata": {},
     "output_type": "display_data"
    }
   ],
   "source": [
    "plt.plot(history_lstm.history['accuracy'],label='train')\n",
    "plt.plot(history_lstm.history['val_accuracy'],label='test')\n",
    "plt.legend()\n",
    "plt.title('Accuracy')"
   ]
  },
  {
   "cell_type": "markdown",
   "id": "c8edbb71-b695-4785-99b8-3437b7e718de",
   "metadata": {},
   "source": [
    "#### GRU"
   ]
  },
  {
   "cell_type": "markdown",
   "id": "0edb3bdb-77bd-4df3-8d1d-89a8b80f75c5",
   "metadata": {},
   "source": [
    "`Gradient Recurrent Unit` - Like LSTM but faster"
   ]
  },
  {
   "cell_type": "code",
   "execution_count": 64,
   "id": "d1b01f7a-4d7b-4a26-bfb0-d12ad0a62582",
   "metadata": {},
   "outputs": [
    {
     "name": "stdout",
     "output_type": "stream",
     "text": [
      "Model: \"sequential_15\"\n",
      "_________________________________________________________________\n",
      " Layer (type)                Output Shape              Param #   \n",
      "=================================================================\n",
      " embedding_17 (Embedding)    (None, 120, 16)           160000    \n",
      "                                                                 \n",
      " bidirectional_11 (Bidirecti  (None, 64)               9600      \n",
      " onal)                                                           \n",
      "                                                                 \n",
      " dense_30 (Dense)            (None, 6)                 390       \n",
      "                                                                 \n",
      " dense_31 (Dense)            (None, 1)                 7         \n",
      "                                                                 \n",
      "=================================================================\n",
      "Total params: 169,997\n",
      "Trainable params: 169,997\n",
      "Non-trainable params: 0\n",
      "_________________________________________________________________\n"
     ]
    }
   ],
   "source": [
    "model_gru=tf.keras.models.Sequential([\n",
    "    tf.keras.layers.Embedding(10000,16,input_length=120),\n",
    "    tf.keras.layers.Bidirectional(tf.keras.layers.GRU(32)),\n",
    "    tf.keras.layers.Dense(6,activation='relu'),\n",
    "    tf.keras.layers.Dense(1,activation='sigmoid')\n",
    "])\n",
    "model_gru.compile(loss='binary_crossentropy',optimizer='adam',metrics=['accuracy'])\n",
    "model_gru.summary()"
   ]
  },
  {
   "cell_type": "code",
   "execution_count": 65,
   "id": "0324c6b4-dc03-4c0b-898d-0d3c09079289",
   "metadata": {},
   "outputs": [
    {
     "name": "stdout",
     "output_type": "stream",
     "text": [
      "Epoch 1/10\n",
      "196/196 [==============================] - 19s 86ms/step - loss: 0.5832 - accuracy: 0.6604 - val_loss: 0.4138 - val_accuracy: 0.8151\n",
      "Epoch 2/10\n",
      "196/196 [==============================] - 19s 95ms/step - loss: 0.3210 - accuracy: 0.8662 - val_loss: 0.3882 - val_accuracy: 0.8232\n",
      "Epoch 3/10\n",
      "196/196 [==============================] - 18s 92ms/step - loss: 0.2388 - accuracy: 0.9104 - val_loss: 0.4093 - val_accuracy: 0.8186\n",
      "Epoch 4/10\n",
      "196/196 [==============================] - 18s 94ms/step - loss: 0.1998 - accuracy: 0.9279 - val_loss: 0.4652 - val_accuracy: 0.8065\n",
      "Epoch 5/10\n",
      "196/196 [==============================] - 21s 108ms/step - loss: 0.1548 - accuracy: 0.9467 - val_loss: 0.6189 - val_accuracy: 0.7994\n",
      "Epoch 6/10\n",
      "196/196 [==============================] - 28s 143ms/step - loss: 0.1203 - accuracy: 0.9612 - val_loss: 0.5869 - val_accuracy: 0.7996\n",
      "Epoch 7/10\n",
      "196/196 [==============================] - 20s 101ms/step - loss: 0.0921 - accuracy: 0.9715 - val_loss: 0.7150 - val_accuracy: 0.7931\n",
      "Epoch 8/10\n",
      "196/196 [==============================] - 20s 103ms/step - loss: 0.0762 - accuracy: 0.9770 - val_loss: 0.7418 - val_accuracy: 0.7938\n",
      "Epoch 9/10\n",
      "196/196 [==============================] - 19s 98ms/step - loss: 0.0550 - accuracy: 0.9842 - val_loss: 0.9174 - val_accuracy: 0.7898\n",
      "Epoch 10/10\n",
      "196/196 [==============================] - 20s 104ms/step - loss: 0.0436 - accuracy: 0.9884 - val_loss: 0.9298 - val_accuracy: 0.7838\n"
     ]
    }
   ],
   "source": [
    "history_gru=model_gru.fit(padded,train_labels_final,batch_size=128,epochs=10, validation_data=(test_padded, test_labels_final))"
   ]
  },
  {
   "cell_type": "code",
   "execution_count": 66,
   "id": "d8ea9045-6411-464d-9679-7ed059e29440",
   "metadata": {},
   "outputs": [
    {
     "data": {
      "text/plain": [
       "Text(0.5, 1.0, 'Accuracy')"
      ]
     },
     "execution_count": 66,
     "metadata": {},
     "output_type": "execute_result"
    },
    {
     "data": {
      "image/png": "[encoded data removed]",
      "text/plain": [
       "<Figure size 640x480 with 1 Axes>"
      ]
     },
     "metadata": {},
     "output_type": "display_data"
    }
   ],
   "source": [
    "plt.plot(history_gru.history['accuracy'],label='train')\n",
    "plt.plot(history_gru.history['val_accuracy'],label='test')\n",
    "plt.legend()\n",
    "plt.title('Accuracy')"
   ]
  },
  {
   "cell_type": "markdown",
   "id": "0426a26e-d3b9-42bd-baa9-83a2f0de6621",
   "metadata": {},
   "source": [
    "---"
   ]
  },
  {
   "cell_type": "markdown",
   "id": "abe70451-c68d-4490-87d7-a096c961ace7",
   "metadata": {},
   "source": [
    "## Sarcasm data"
   ]
  },
  {
   "cell_type": "code",
   "execution_count": 71,
   "id": "450565d3-98c4-43e1-8101-3d1ff4389c3d",
   "metadata": {},
   "outputs": [],
   "source": [
    "import json"
   ]
  },
  {
   "cell_type": "code",
   "execution_count": 79,
   "id": "f64a3bca-ff9c-42d3-8b66-a3e513d1727f",
   "metadata": {},
   "outputs": [],
   "source": [
    "with open(\"data/sarcasm_text.json\", 'r') as f:\n",
    "    datastore = json.load(f)\n",
    "\n",
    "sentences = []\n",
    "labels = []\n",
    "for item in datastore:\n",
    "    sentences.append(item['headline'])\n",
    "    labels.append(item['is_sarcastic'])"
   ]
  },
  {
   "cell_type": "code",
   "execution_count": 103,
   "id": "6d1fa25c-bb29-44e6-bccf-2853bd8f760c",
   "metadata": {},
   "outputs": [],
   "source": [
    "tokenizer=Tokenizer(num_words=10000,oov_token='<OOV>')\n",
    "tokenizer.fit_on_texts(sentences)\n",
    "word_index=tokenizer.word_index"
   ]
  },
  {
   "cell_type": "code",
   "execution_count": 104,
   "id": "4f15f513-b31d-4c8a-b464-2d92899c8375",
   "metadata": {},
   "outputs": [],
   "source": [
    "train_sentences = sentences[0:20000]\n",
    "test_sentences = sentences[20000:]\n",
    "\n",
    "train_labels = labels[0:20000]\n",
    "test_labels = labels[20000:]"
   ]
  },
  {
   "cell_type": "code",
   "execution_count": 105,
   "id": "f5ae419f-7f01-4f91-aed8-41ed479fc502",
   "metadata": {},
   "outputs": [],
   "source": [
    "sequences=tokenizer.texts_to_sequences(train_sentences)\n",
    "padded=pad_sequences(sequences,maxlen=120,truncating='post',padding='post')\n",
    "\n",
    "test_sequences=tokenizer.texts_to_sequences(test_sentences)\n",
    "test_padded=pad_sequences(test_sequences,maxlen=120,truncating='post',padding='post')\n",
    "\n",
    "train_labels = np.array(train_labels)\n",
    "test_labels = np.array(test_labels)"
   ]
  },
  {
   "cell_type": "markdown",
   "id": "77971643-79c4-4b72-adf8-e9da9c6e5a41",
   "metadata": {},
   "source": [
    "#### CNN"
   ]
  },
  {
   "cell_type": "code",
   "execution_count": 106,
   "id": "9d07fa66-760e-46fd-b06b-f22888493938",
   "metadata": {},
   "outputs": [
    {
     "name": "stdout",
     "output_type": "stream",
     "text": [
      "Model: \"sequential_23\"\n",
      "_________________________________________________________________\n",
      " Layer (type)                Output Shape              Param #   \n",
      "=================================================================\n",
      " embedding_25 (Embedding)    (None, 120, 16)           160000    \n",
      "                                                                 \n",
      " conv1d_8 (Conv1D)           (None, 116, 128)          10368     \n",
      "                                                                 \n",
      " global_max_pooling1d_5 (Glo  (None, 128)              0         \n",
      " balMaxPooling1D)                                                \n",
      "                                                                 \n",
      " dense_46 (Dense)            (None, 6)                 774       \n",
      "                                                                 \n",
      " dense_47 (Dense)            (None, 1)                 7         \n",
      "                                                                 \n",
      "=================================================================\n",
      "Total params: 171,149\n",
      "Trainable params: 171,149\n",
      "Non-trainable params: 0\n",
      "_________________________________________________________________\n"
     ]
    }
   ],
   "source": [
    "model=tf.keras.models.Sequential([\n",
    "    tf.keras.layers.Embedding(10000,16,input_length=120),\n",
    "    tf.keras.layers.Conv1D(128,5,activation='relu'),\n",
    "    tf.keras.layers.GlobalMaxPooling1D(),\n",
    "    tf.keras.layers.Dense(6,activation='relu'),\n",
    "    tf.keras.layers.Dense(1,activation='sigmoid')\n",
    "])\n",
    "model.compile(loss='binary_crossentropy',optimizer='adam',metrics=['accuracy'])\n",
    "model.summary()"
   ]
  },
  {
   "cell_type": "code",
   "execution_count": 107,
   "id": "e285eb28-4ae9-493d-b63a-7fd5ed940bec",
   "metadata": {},
   "outputs": [
    {
     "name": "stdout",
     "output_type": "stream",
     "text": [
      "Epoch 1/10\n",
      "625/625 [==============================] - 6s 9ms/step - loss: 0.5184 - accuracy: 0.7690 - val_loss: 0.4500 - val_accuracy: 0.8301\n",
      "Epoch 2/10\n",
      "625/625 [==============================] - 5s 9ms/step - loss: 0.3445 - accuracy: 0.8860 - val_loss: 0.4136 - val_accuracy: 0.8368\n",
      "Epoch 3/10\n",
      "625/625 [==============================] - 5s 8ms/step - loss: 0.2335 - accuracy: 0.9327 - val_loss: 0.4278 - val_accuracy: 0.8287\n",
      "Epoch 4/10\n",
      "625/625 [==============================] - 5s 8ms/step - loss: 0.1640 - accuracy: 0.9580 - val_loss: 0.4609 - val_accuracy: 0.8354\n",
      "Epoch 5/10\n",
      "625/625 [==============================] - 6s 10ms/step - loss: 0.1238 - accuracy: 0.9716 - val_loss: 0.5682 - val_accuracy: 0.8374\n",
      "Epoch 6/10\n",
      "625/625 [==============================] - 6s 10ms/step - loss: 0.1057 - accuracy: 0.9754 - val_loss: 0.6290 - val_accuracy: 0.8389\n",
      "Epoch 7/10\n",
      "625/625 [==============================] - 7s 10ms/step - loss: 0.0956 - accuracy: 0.9771 - val_loss: 0.7144 - val_accuracy: 0.8375\n",
      "Epoch 8/10\n",
      "625/625 [==============================] - 6s 10ms/step - loss: 0.0912 - accuracy: 0.9778 - val_loss: 0.7477 - val_accuracy: 0.8356\n",
      "Epoch 9/10\n",
      "625/625 [==============================] - 7s 10ms/step - loss: 0.0867 - accuracy: 0.9790 - val_loss: 0.7765 - val_accuracy: 0.8331\n",
      "Epoch 10/10\n",
      "625/625 [==============================] - 6s 10ms/step - loss: 0.0854 - accuracy: 0.9790 - val_loss: 0.7859 - val_accuracy: 0.8295\n"
     ]
    }
   ],
   "source": [
    "history=model.fit(padded,train_labels,epochs=10, validation_data=(test_padded, test_labels))"
   ]
  },
  {
   "cell_type": "code",
   "execution_count": 108,
   "id": "59c396f9-284d-4430-a3d8-83bae67b85f4",
   "metadata": {},
   "outputs": [
    {
     "data": {
      "text/plain": [
       "Text(0.5, 1.0, 'Accuracy')"
      ]
     },
     "execution_count": 108,
     "metadata": {},
     "output_type": "execute_result"
    },
    {
     "data": {
      "image/png": "[encoded data removed]",
      "text/plain": [
       "<Figure size 640x480 with 1 Axes>"
      ]
     },
     "metadata": {},
     "output_type": "display_data"
    }
   ],
   "source": [
    "plt.plot(history.history['accuracy'],label='train')\n",
    "plt.plot(history.history['val_accuracy'],label='test')\n",
    "plt.legend()\n",
    "plt.title('Accuracy')"
   ]
  },
  {
   "cell_type": "markdown",
   "id": "28e5b36e-2bd7-4c67-93b9-e7bfde664834",
   "metadata": {},
   "source": [
    "#### LSTM"
   ]
  },
  {
   "cell_type": "code",
   "execution_count": 110,
   "id": "c8526b00-361a-477c-9d46-8fa5bdeda6de",
   "metadata": {},
   "outputs": [
    {
     "name": "stdout",
     "output_type": "stream",
     "text": [
      "Model: \"sequential_24\"\n",
      "_________________________________________________________________\n",
      " Layer (type)                Output Shape              Param #   \n",
      "=================================================================\n",
      " embedding_26 (Embedding)    (None, 120, 16)           160000    \n",
      "                                                                 \n",
      " bidirectional_12 (Bidirecti  (None, 64)               12544     \n",
      " onal)                                                           \n",
      "                                                                 \n",
      " dense_48 (Dense)            (None, 24)                1560      \n",
      "                                                                 \n",
      " dense_49 (Dense)            (None, 1)                 25        \n",
      "                                                                 \n",
      "=================================================================\n",
      "Total params: 174,129\n",
      "Trainable params: 174,129\n",
      "Non-trainable params: 0\n",
      "_________________________________________________________________\n"
     ]
    }
   ],
   "source": [
    "model=tf.keras.models.Sequential([\n",
    "    tf.keras.layers.Embedding(10000,16,input_length=120),\n",
    "    tf.keras.layers.Bidirectional(tf.keras.layers.LSTM(32)),\n",
    "    tf.keras.layers.Dense(24,activation='relu'),\n",
    "    tf.keras.layers.Dense(1,activation='sigmoid')\n",
    "])\n",
    "model.compile(loss='binary_crossentropy',optimizer='adam',metrics=['accuracy'])\n",
    "model.summary()"
   ]
  },
  {
   "cell_type": "code",
   "execution_count": 111,
   "id": "28e202aa-2a18-45e4-84c8-dfa84980cda7",
   "metadata": {},
   "outputs": [
    {
     "name": "stdout",
     "output_type": "stream",
     "text": [
      "Epoch 1/10\n",
      "625/625 [==============================] - 23s 33ms/step - loss: 0.4182 - accuracy: 0.7956 - val_loss: 0.3302 - val_accuracy: 0.8539\n",
      "Epoch 2/10\n",
      "625/625 [==============================] - 23s 38ms/step - loss: 0.2138 - accuracy: 0.9133 - val_loss: 0.3423 - val_accuracy: 0.8542\n",
      "Epoch 3/10\n",
      "625/625 [==============================] - 24s 38ms/step - loss: 0.1328 - accuracy: 0.9506 - val_loss: 0.4007 - val_accuracy: 0.8544\n",
      "Epoch 4/10\n",
      "625/625 [==============================] - 24s 38ms/step - loss: 0.0836 - accuracy: 0.9704 - val_loss: 0.5014 - val_accuracy: 0.8465\n",
      "Epoch 5/10\n",
      "625/625 [==============================] - 24s 38ms/step - loss: 0.0496 - accuracy: 0.9841 - val_loss: 0.6188 - val_accuracy: 0.8393\n",
      "Epoch 6/10\n",
      "625/625 [==============================] - 24s 38ms/step - loss: 0.0329 - accuracy: 0.9899 - val_loss: 0.7868 - val_accuracy: 0.8429\n",
      "Epoch 7/10\n",
      "625/625 [==============================] - 24s 38ms/step - loss: 0.0219 - accuracy: 0.9936 - val_loss: 0.9730 - val_accuracy: 0.8343\n",
      "Epoch 8/10\n",
      "625/625 [==============================] - 24s 38ms/step - loss: 0.0155 - accuracy: 0.9955 - val_loss: 1.1582 - val_accuracy: 0.8341\n",
      "Epoch 9/10\n",
      "625/625 [==============================] - 24s 38ms/step - loss: 0.0142 - accuracy: 0.9957 - val_loss: 1.2428 - val_accuracy: 0.8299\n",
      "Epoch 10/10\n",
      "625/625 [==============================] - 24s 38ms/step - loss: 0.0103 - accuracy: 0.9969 - val_loss: 1.2171 - val_accuracy: 0.8293\n"
     ]
    }
   ],
   "source": [
    "history=model.fit(padded,train_labels,epochs=10, validation_data=(test_padded, test_labels))"
   ]
  },
  {
   "cell_type": "code",
   "execution_count": 112,
   "id": "19fc282f-0da7-4f54-90ec-c427dd59e783",
   "metadata": {},
   "outputs": [
    {
     "data": {
      "text/plain": [
       "Text(0.5, 1.0, 'Accuracy')"
      ]
     },
     "execution_count": 112,
     "metadata": {},
     "output_type": "execute_result"
    },
    {
     "data": {
      "image/png": "[encoded data removed]",
      "text/plain": [
       "<Figure size 640x480 with 1 Axes>"
      ]
     },
     "metadata": {},
     "output_type": "display_data"
    }
   ],
   "source": [
    "plt.plot(history.history['accuracy'],label='train')\n",
    "plt.plot(history.history['val_accuracy'],label='test')\n",
    "plt.legend()\n",
    "plt.title('Accuracy')"
   ]
  },
  {
   "cell_type": "markdown",
   "id": "42294b9d-3c37-44a4-8630-f07bc155c8f3",
   "metadata": {},
   "source": [
    "---"
   ]
  },
  {
   "cell_type": "markdown",
   "id": "7428aba6-f3f6-43cc-b9b3-f9d817e40144",
   "metadata": {},
   "source": [
    "## Embedding text"
   ]
  },
  {
   "cell_type": "code",
   "execution_count": null,
   "id": "870f8688-f306-49b1-af48-59d79ff5909a",
   "metadata": {},
   "outputs": [],
   "source": []
  }
 ],
 "metadata": {
  "kernelspec": {
   "display_name": "Python 3 (ipykernel)",
   "language": "python",
   "name": "python3"
  },
  "language_info": {
   "codemirror_mode": {
    "name": "ipython",
    "version": 3
   },
   "file_extension": ".py",
   "mimetype": "text/x-python",
   "name": "python",
   "nbconvert_exporter": "python",
   "pygments_lexer": "ipython3",
   "version": "3.9.18"
  }
 },
 "nbformat": 4,
 "nbformat_minor": 5
}
