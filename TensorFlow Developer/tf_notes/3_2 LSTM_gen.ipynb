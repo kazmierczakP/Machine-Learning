{
 "cells": [
  {
   "cell_type": "markdown",
   "id": "0f130584-3751-48b0-ae8a-11dac2459e72",
   "metadata": {},
   "source": [
    "# LSTM text generation"
   ]
  },
  {
   "cell_type": "code",
   "execution_count": 170,
   "id": "743b7374-21f3-4ba8-b2e0-580eba2f6c9c",
   "metadata": {},
   "outputs": [],
   "source": [
    "import tensorflow as tf\n",
    "import numpy as np\n",
    "\n",
    "from tensorflow.keras.preprocessing.text import Tokenizer\n",
    "from tensorflow.keras.preprocessing.sequence import pad_sequences\n",
    "import matplotlib.pyplot as plt"
   ]
  },
  {
   "cell_type": "markdown",
   "id": "ce3084f4-d764-485b-a0be-eaf9bbc6e55a",
   "metadata": {},
   "source": [
    "#### Data"
   ]
  },
  {
   "cell_type": "code",
   "execution_count": 171,
   "id": "1a859ac6-e28f-424b-bd3e-076b01d85388",
   "metadata": {},
   "outputs": [],
   "source": [
    "data=\"In the town of Athy one Jeremy Lanigan \\n Battered away til he hadnt a pound. \\nHis father died and made him a man again \\n Left him a farm and ten acres of ground. \\nHe gave a grand party for friends and relations \\nWho didnt forget him when come to the wall, \\nAnd if youll but listen Ill make your eyes glisten \\nOf the rows and the ructions of Lanigans Ball. \\nMyself to be sure got free invitation, \\nFor all the nice girls and boys I might ask, \\nAnd just in a minute both friends and relations \\nWere dancing round merry as bees round a cask. \\nJudy ODaly, that nice little milliner, \\nShe tipped me a wink for to give her a call, \\nAnd I soon arrived with Peggy McGilligan \\nJust in time for Lanigans Ball. \\nThere were lashings of punch and wine for the ladies, \\nPotatoes and cakes; there was bacon and tea, \\nThere were the Nolans, Dolans, OGradys \\nCourting the girls and dancing away. \\nSongs they went round as plenty as water, \\nThe harp that once sounded in Taras old hall,\\nSweet Nelly Gray and The Rat Catchers Daughter,\\nAll singing together at Lanigans Ball. \\nThey were doing all kinds of nonsensical polkas \\nAll round the room in a whirligig. \\nJulia and I, we banished their nonsense \\nAnd tipped them the twist of a reel and a jig. \\nAch mavrone, how the girls got all mad at me \\nDanced til youd think the ceiling would fall. \\nFor I spent three weeks at Brooks Academy \\nLearning new steps for Lanigans Ball. \\nThree long weeks I spent up in Dublin, \\nThree long weeks to learn nothing at all,\\n Three long weeks I spent up in Dublin, \\nLearning new steps for Lanigans Ball. \\nShe stepped out and I stepped in again, \\nI stepped out and she stepped in again, \\nShe stepped out and I stepped in again, \\nLearning new steps for Lanigans Ball. \\nBoys were all merry and the girls they were hearty \\nAnd danced all around in couples and groups, \\nTil an accident happened, young Terrance McCarthy \\nPut his right leg through miss Finnertys hoops. \\nPoor creature fainted and cried Meelia murther, \\nCalled for her brothers and gathered them all. \\nCarmody swore that hed go no further \\nTil he had satisfaction at Lanigans Ball. \\nIn the midst of the row miss Kerrigan fainted, \\nHer cheeks at the same time as red as a rose. \\nSome of the lads declared she was painted, \\nShe took a small drop too much, I suppose. \\nHer sweetheart, Ned Morgan, so powerful and able, \\nWhen he saw his fair colleen stretched out by the wall, \\nTore the left leg from under the table \\nAnd smashed all the Chaneys at Lanigans Ball. \\nBoys, oh boys, twas then there were runctions. \\nMyself got a lick from big Phelim McHugh. \\nI soon replied to his introduction \\nAnd kicked up a terrible hullabaloo. \\nOld Casey, the piper, was near being strangled. \\nThey squeezed up his pipes, bellows, chanters and all. \\nThe girls, in their ribbons, they got all entangled \\nAnd that put an end to Lanigans Ball.\"\n",
    "corpus=data.lower().split('\\n')"
   ]
  },
  {
   "cell_type": "code",
   "execution_count": 172,
   "id": "4c57b720-fb87-4231-beac-f33afd718c92",
   "metadata": {},
   "outputs": [
    {
     "data": {
      "text/plain": [
       "263"
      ]
     },
     "execution_count": 172,
     "metadata": {},
     "output_type": "execute_result"
    }
   ],
   "source": [
    "tokenizer=Tokenizer()\n",
    "tokenizer.fit_on_texts(corpus)\n",
    "all_words=len(tokenizer.word_index)+1\n",
    "all_words"
   ]
  },
  {
   "cell_type": "code",
   "execution_count": 173,
   "id": "9acd4bb1-78d3-4a1c-ba1e-389589d4406f",
   "metadata": {},
   "outputs": [
    {
     "data": {
      "text/plain": [
       "'in the town of athy one jeremy lanigan '"
      ]
     },
     "execution_count": 173,
     "metadata": {},
     "output_type": "execute_result"
    }
   ],
   "source": [
    "corpus[0]"
   ]
  },
  {
   "cell_type": "code",
   "execution_count": 174,
   "id": "a1110465-f9b0-4390-a29a-55fdc665ee97",
   "metadata": {},
   "outputs": [
    {
     "data": {
      "text/plain": [
       "[4, 2, 66, 8, 67, 68, 69, 70]"
      ]
     },
     "execution_count": 174,
     "metadata": {},
     "output_type": "execute_result"
    }
   ],
   "source": [
    "tokenizer.texts_to_sequences(corpus)[0]"
   ]
  },
  {
   "cell_type": "markdown",
   "id": "a2cf7460-d906-42bf-9912-9893d92dfc17",
   "metadata": {},
   "source": [
    "#### Preprocessing"
   ]
  },
  {
   "cell_type": "code",
   "execution_count": 175,
   "id": "7c4c71b5-80b6-43aa-a43f-76aae46929e0",
   "metadata": {},
   "outputs": [],
   "source": [
    "input_sequences=[]\n",
    "tokens=tokenizer.texts_to_sequences(corpus)\n",
    "for token in tokens:\n",
    "    for i in range(1,len(token)):\n",
    "        mini_sequence=token[:i+1]\n",
    "        input_sequences.append(mini_sequence)\n",
    "\n",
    "max_sequence=max([len(x) for x in input_sequences])\n",
    "input_sequences=np.array(pad_sequences(input_sequences,maxlen=max_sequence,padding='pre'))\n",
    "xs,labels=input_sequences[:,:-1],input_sequences[:,-1]\n",
    "ys=tf.keras.utils.to_categorical(labels,num_classes=all_words)"
   ]
  },
  {
   "cell_type": "code",
   "execution_count": 176,
   "id": "1d1d795d-6e87-4f2c-87fd-d1c45e2439c8",
   "metadata": {},
   "outputs": [
    {
     "data": {
      "text/plain": [
       "array([[ 0,  0,  0,  0,  0,  0,  0,  0,  0,  4],\n",
       "       [ 0,  0,  0,  0,  0,  0,  0,  0,  4,  2],\n",
       "       [ 0,  0,  0,  0,  0,  0,  0,  4,  2, 66],\n",
       "       [ 0,  0,  0,  0,  0,  0,  4,  2, 66,  8],\n",
       "       [ 0,  0,  0,  0,  0,  4,  2, 66,  8, 67],\n",
       "       [ 0,  0,  0,  0,  4,  2, 66,  8, 67, 68],\n",
       "       [ 0,  0,  0,  4,  2, 66,  8, 67, 68, 69],\n",
       "       [ 0,  0,  0,  0,  0,  0,  0,  0,  0, 71],\n",
       "       [ 0,  0,  0,  0,  0,  0,  0,  0, 71, 40],\n",
       "       [ 0,  0,  0,  0,  0,  0,  0, 71, 40, 20],\n",
       "       [ 0,  0,  0,  0,  0,  0, 71, 40, 20, 21]])"
      ]
     },
     "execution_count": 176,
     "metadata": {},
     "output_type": "execute_result"
    }
   ],
   "source": [
    "xs[:max_sequence]"
   ]
  },
  {
   "cell_type": "code",
   "execution_count": 152,
   "id": "be9b4874-1122-49b8-9f36-09a159310344",
   "metadata": {},
   "outputs": [
    {
     "data": {
      "text/plain": [
       "array([ 2, 66,  8, 67, 68, 69, 70, 40, 20, 21, 72])"
      ]
     },
     "execution_count": 152,
     "metadata": {},
     "output_type": "execute_result"
    }
   ],
   "source": [
    "labels[:max_sequence]"
   ]
  },
  {
   "cell_type": "markdown",
   "id": "04d8139b-b354-4b87-96ed-a25eb3de95cc",
   "metadata": {},
   "source": [
    "one-hot encose the labels"
   ]
  },
  {
   "cell_type": "markdown",
   "id": "a51d9b0d-1ced-4372-b71f-c04313cf9fe7",
   "metadata": {},
   "source": [
    "#### check the data"
   ]
  },
  {
   "cell_type": "code",
   "execution_count": 154,
   "id": "29492329-757f-4f34-a774-a3d9aa914ff5",
   "metadata": {},
   "outputs": [
    {
     "data": {
      "text/plain": [
       "['in', 'the', 'town', 'of', 'athy', 'one', 'jeremy', 'lanigan']"
      ]
     },
     "execution_count": 154,
     "metadata": {},
     "output_type": "execute_result"
    }
   ],
   "source": [
    "txt=corpus[0].split()\n",
    "txt"
   ]
  },
  {
   "cell_type": "code",
   "execution_count": 155,
   "id": "156bfd0a-cf96-4f0e-b6cf-cf743b55b9bd",
   "metadata": {},
   "outputs": [
    {
     "data": {
      "text/plain": [
       "[4, 2, 66, 8, 67, 68, 69, 70]"
      ]
     },
     "execution_count": 155,
     "metadata": {},
     "output_type": "execute_result"
    }
   ],
   "source": [
    "tokens=[tokenizer.word_index[word] for word in txt]\n",
    "tokens"
   ]
  },
  {
   "cell_type": "code",
   "execution_count": 156,
   "id": "789d100f-9c59-4ce9-8548-6ed37630cd9a",
   "metadata": {},
   "outputs": [
    {
     "data": {
      "text/plain": [
       "array([ 0,  0,  0,  4,  2, 66,  8, 67, 68, 69])"
      ]
     },
     "execution_count": 156,
     "metadata": {},
     "output_type": "execute_result"
    }
   ],
   "source": [
    "xs[6]"
   ]
  },
  {
   "cell_type": "code",
   "execution_count": 126,
   "id": "ec996144-321e-411d-aed1-e15b9ace48df",
   "metadata": {},
   "outputs": [
    {
     "data": {
      "text/plain": [
       "['in the town of athy one jeremy']"
      ]
     },
     "execution_count": 126,
     "metadata": {},
     "output_type": "execute_result"
    }
   ],
   "source": [
    "tokenizer.sequences_to_texts([xs[6]])"
   ]
  },
  {
   "cell_type": "code",
   "execution_count": 127,
   "id": "48b0c0f6-8c07-4165-8737-f7651d6c06b7",
   "metadata": {},
   "outputs": [
    {
     "data": {
      "text/plain": [
       "array([0., 0., 0., 0., 0., 0., 0., 0., 0., 0., 0., 0., 0., 0., 0., 0., 0.,\n",
       "       0., 0., 0., 0., 0., 0., 0., 0., 0., 0., 0., 0., 0., 0., 0., 0., 0.,\n",
       "       0., 0., 0., 0., 0., 0., 0., 0., 0., 0., 0., 0., 0., 0., 0., 0., 0.,\n",
       "       0., 0., 0., 0., 0., 0., 0., 0., 0., 0., 0., 0., 0., 0., 0., 0., 0.,\n",
       "       0., 0., 1., 0., 0., 0., 0., 0., 0., 0., 0., 0., 0., 0., 0., 0., 0.,\n",
       "       0., 0., 0., 0., 0., 0., 0., 0., 0., 0., 0., 0., 0., 0., 0., 0., 0.,\n",
       "       0., 0., 0., 0., 0., 0., 0., 0., 0., 0., 0., 0., 0., 0., 0., 0., 0.,\n",
       "       0., 0., 0., 0., 0., 0., 0., 0., 0., 0., 0., 0., 0., 0., 0., 0., 0.,\n",
       "       0., 0., 0., 0., 0., 0., 0., 0., 0., 0., 0., 0., 0., 0., 0., 0., 0.,\n",
       "       0., 0., 0., 0., 0., 0., 0., 0., 0., 0., 0., 0., 0., 0., 0., 0., 0.,\n",
       "       0., 0., 0., 0., 0., 0., 0., 0., 0., 0., 0., 0., 0., 0., 0., 0., 0.,\n",
       "       0., 0., 0., 0., 0., 0., 0., 0., 0., 0., 0., 0., 0., 0., 0., 0., 0.,\n",
       "       0., 0., 0., 0., 0., 0., 0., 0., 0., 0., 0., 0., 0., 0., 0., 0., 0.,\n",
       "       0., 0., 0., 0., 0., 0., 0., 0., 0., 0., 0., 0., 0., 0., 0., 0., 0.,\n",
       "       0., 0., 0., 0., 0., 0., 0., 0., 0., 0., 0., 0., 0., 0., 0., 0., 0.,\n",
       "       0., 0., 0., 0., 0., 0., 0., 0.], dtype=float32)"
      ]
     },
     "execution_count": 127,
     "metadata": {},
     "output_type": "execute_result"
    }
   ],
   "source": [
    "ys[6]"
   ]
  },
  {
   "cell_type": "code",
   "execution_count": 128,
   "id": "075aa9e9-4399-4712-803c-e6ab57d111c2",
   "metadata": {},
   "outputs": [
    {
     "data": {
      "text/plain": [
       "70"
      ]
     },
     "execution_count": 128,
     "metadata": {},
     "output_type": "execute_result"
    }
   ],
   "source": [
    "np.argmax(ys[6])"
   ]
  },
  {
   "cell_type": "markdown",
   "id": "7821a5ef-1192-4095-b453-36ace7e4d20e",
   "metadata": {},
   "source": [
    "#### Model"
   ]
  },
  {
   "cell_type": "code",
   "execution_count": 177,
   "id": "69fc349b-14a3-40c2-a42c-82ef1d653a67",
   "metadata": {},
   "outputs": [
    {
     "name": "stdout",
     "output_type": "stream",
     "text": [
      "Model: \"sequential_10\"\n",
      "_________________________________________________________________\n",
      " Layer (type)                Output Shape              Param #   \n",
      "=================================================================\n",
      " embedding_10 (Embedding)    (None, 10, 64)            16832     \n",
      "                                                                 \n",
      " bidirectional_10 (Bidirecti  (None, 40)               13600     \n",
      " onal)                                                           \n",
      "                                                                 \n",
      " dense_10 (Dense)            (None, 263)               10783     \n",
      "                                                                 \n",
      "=================================================================\n",
      "Total params: 41,215\n",
      "Trainable params: 41,215\n",
      "Non-trainable params: 0\n",
      "_________________________________________________________________\n"
     ]
    }
   ],
   "source": [
    "model=tf.keras.models.Sequential([\n",
    "    tf.keras.layers.Embedding(all_words,64,input_length=max_sequence-1),\n",
    "    tf.keras.layers.Bidirectional(tf.keras.layers.LSTM(20)),\n",
    "    tf.keras.layers.Dense(all_words,activation='softmax')\n",
    "])\n",
    "model.compile(loss='categorical_crossentropy',optimizer='adam',metrics=['accuracy'])\n",
    "model.summary()"
   ]
  },
  {
   "cell_type": "code",
   "execution_count": 1,
   "id": "579e7205-ffcf-4472-aeca-d735e9715d06",
   "metadata": {},
   "outputs": [],
   "source": [
    "history=model.fit(xs,ys,epochs=500)"
   ]
  },
  {
   "cell_type": "code",
   "execution_count": 84,
   "id": "cc261bb3-c9ea-4cce-81cd-c59e3529fac1",
   "metadata": {},
   "outputs": [
    {
     "data": {
      "text/plain": [
       "Text(0.5, 1.0, 'Accuracy')"
      ]
     },
     "execution_count": 84,
     "metadata": {},
     "output_type": "execute_result"
    },
    {
     "data": {
      "image/png": "[encoded data removed]",
      "text/plain": [
       "<Figure size 640x480 with 1 Axes>"
      ]
     },
     "metadata": {},
     "output_type": "display_data"
    }
   ],
   "source": [
    "plt.plot(history.history['accuracy'],label='train')\n",
    "#plt.plot(history.history['val_accuracy'],label='test')\n",
    "plt.legend()\n",
    "plt.title('Accuracy')"
   ]
  },
  {
   "cell_type": "markdown",
   "id": "2919051d-5991-4800-ac18-eb1e8549b8b5",
   "metadata": {},
   "source": [
    "#### Generating text"
   ]
  },
  {
   "cell_type": "code",
   "execution_count": 194,
   "id": "3272dc6a-f8ba-48e9-b2d6-9bfba0d0ee9c",
   "metadata": {},
   "outputs": [],
   "source": [
    "text='Johen went to kickoff'"
   ]
  },
  {
   "cell_type": "code",
   "execution_count": 195,
   "id": "21c5e36d-605d-4e21-bde3-9f90dcbf923d",
   "metadata": {},
   "outputs": [],
   "source": [
    "next_words=50\n",
    "for _ in range(next_words):\n",
    "    tokens=tokenizer.texts_to_sequences([text])[0]\n",
    "    tokens=pad_sequences([tokens],maxlen=max_sequence-1,padding='pre')\n",
    "    probabilities=model.predict(tokens)\n",
    "    pred=np.argmax(probabilities,axis=-1)[0]\n",
    "    if pred!=0:\n",
    "        predicted_word=tokenizer.index_word[pred]\n",
    "        text+=' '+predicted_word"
   ]
  },
  {
   "cell_type": "code",
   "execution_count": 196,
   "id": "7d532e90-a274-4e61-83f2-abe5d6aa1e23",
   "metadata": {},
   "outputs": [
    {
     "data": {
      "text/plain": [
       "'Johen went to kickoff the girls and boys they were hearty hearty hearty mad at all and nothing a water water water water plenty as water water water ten ground ground ground ground fainted long able able able three able in in dublin dublin strangled glisten put new wall wall wall cask accident terrance'"
      ]
     },
     "execution_count": 196,
     "metadata": {},
     "output_type": "execute_result"
    }
   ],
   "source": [
    "text"
   ]
  },
  {
   "cell_type": "markdown",
   "id": "97028c45-3da4-4264-92be-088d65dc8dfe",
   "metadata": {},
   "source": [
    "---"
   ]
  },
  {
   "cell_type": "markdown",
   "id": "551524d4-baec-4b39-863a-434f33115525",
   "metadata": {},
   "source": [
    "## Poetry"
   ]
  },
  {
   "cell_type": "markdown",
   "id": "2e94a1a1-c313-4327-9911-5f22275ac5c8",
   "metadata": {},
   "source": [
    "#### Data"
   ]
  },
  {
   "cell_type": "code",
   "execution_count": 2,
   "id": "b25edada-10d8-4b0b-a7e1-d28a9c113ef5",
   "metadata": {},
   "outputs": [],
   "source": [
    "data = open('data/Laurences_generated_poetry.txt').read()\n",
    "corpus = data.lower().split(\"\\n\")\n",
    "print(corpus)"
   ]
  },
  {
   "cell_type": "markdown",
   "id": "b88207cd-2172-42c9-8e77-8533d5f48a78",
   "metadata": {},
   "source": [
    "#### Preprocessing"
   ]
  },
  {
   "cell_type": "code",
   "execution_count": 199,
   "id": "b0eb4cc2-edfc-4fbb-95f9-de3195e6618b",
   "metadata": {},
   "outputs": [
    {
     "data": {
      "text/plain": [
       "2690"
      ]
     },
     "execution_count": 199,
     "metadata": {},
     "output_type": "execute_result"
    }
   ],
   "source": [
    "tokenizer=Tokenizer()\n",
    "tokenizer.fit_on_texts(corpus)\n",
    "all_words=len(tokenizer.word_index)+1\n",
    "all_words"
   ]
  },
  {
   "cell_type": "code",
   "execution_count": 200,
   "id": "15c650b3-1bb1-4bbc-9265-e6ed72492a5a",
   "metadata": {},
   "outputs": [],
   "source": [
    "input_sequences=[]\n",
    "tokens=tokenizer.texts_to_sequences(corpus)\n",
    "for token in tokens:\n",
    "    for i in range(1,len(token)):\n",
    "        mini_sequence=token[:i+1]\n",
    "        input_sequences.append(mini_sequence)\n",
    "\n",
    "max_sequence=max([len(x) for x in input_sequences])\n",
    "input_sequences=np.array(pad_sequences(input_sequences,maxlen=max_sequence,padding='pre'))\n",
    "xs,labels=input_sequences[:,:-1],input_sequences[:,-1]\n",
    "ys=tf.keras.utils.to_categorical(labels,num_classes=all_words)"
   ]
  },
  {
   "cell_type": "markdown",
   "id": "5bc2f7f5-0345-45de-9d65-c965ff503763",
   "metadata": {},
   "source": [
    "#### Model"
   ]
  },
  {
   "cell_type": "code",
   "execution_count": null,
   "id": "bab9ad8e-8ee4-44f9-8b27-69db395f22d4",
   "metadata": {},
   "outputs": [],
   "source": [
    "model=tf.keras.models.Sequential([\n",
    "    tf.keras.layers.Embedding(all_words,100,input_length=max_sequence-1),\n",
    "    tf.keras.layers.Bidirectional(tf.keras.layers.LSTM(150)),\n",
    "    tf.keras.layers.Dense(all_words,activation='softmax')\n",
    "])\n",
    "model.compile(loss='categorical_crossentropy',optimizer='adam',learning_rate=0.01,metrics=['accuracy'])\n",
    "model.summary()"
   ]
  },
  {
   "cell_type": "code",
   "execution_count": null,
   "id": "0b3feef5-ee92-4396-a37c-52ecb4524927",
   "metadata": {},
   "outputs": [],
   "source": [
    "history=model.fit(xs,ys,epochs=100)"
   ]
  },
  {
   "cell_type": "markdown",
   "id": "5680fc64-9de1-4715-adbf-86921f8d24df",
   "metadata": {},
   "source": [
    "#### Prediction"
   ]
  },
  {
   "cell_type": "code",
   "execution_count": null,
   "id": "5be32b11-f1a8-4925-ae78-37ccf5d251b1",
   "metadata": {},
   "outputs": [],
   "source": [
    "text='Why o why do you exist'\n",
    "next_words=50\n",
    "for _ in range(next_words):\n",
    "    tokens=tokenizer.texts_to_sequences([text])[0]\n",
    "    tokens=pad_sequences([tokens],maxlen=max_sequence-1,padding='pre')\n",
    "    probabilities=model.predict(tokens)\n",
    "    pred=np.argmax(probabilities,axis=-1)[0]\n",
    "    if pred!=0:\n",
    "        predicted_word=tokenizer.index_word[pred]\n",
    "        text+=' '+predicted_word"
   ]
  }
 ],
 "metadata": {
  "kernelspec": {
   "display_name": "Python 3 (ipykernel)",
   "language": "python",
   "name": "python3"
  },
  "language_info": {
   "codemirror_mode": {
    "name": "ipython",
    "version": 3
   },
   "file_extension": ".py",
   "mimetype": "text/x-python",
   "name": "python",
   "nbconvert_exporter": "python",
   "pygments_lexer": "ipython3",
   "version": "3.9.18"
  }
 },
 "nbformat": 4,
 "nbformat_minor": 5
}
