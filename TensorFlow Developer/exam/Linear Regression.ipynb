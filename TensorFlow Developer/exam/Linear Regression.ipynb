{
 "cells": [
  {
   "cell_type": "code",
   "execution_count": 56,
   "id": "c4b3c99a-32d0-4b64-b5f2-f2221243f717",
   "metadata": {},
   "outputs": [],
   "source": [
    "import matplotlib.pyplot as plt\n",
    "import tensorflow as tf\n",
    "import pandas as pd\n",
    "import numpy as np"
   ]
  },
  {
   "cell_type": "code",
   "execution_count": 48,
   "id": "4eaeef64-690f-452c-97fd-c40f219b977d",
   "metadata": {},
   "outputs": [],
   "source": [
    "x_array=np.array([-1.0,  0.0, 1.0, 2.0, 3.0, 4.0])\n",
    "y_array=np.array([-3.0, -1.0, 1.0, 3.0, 5.0, 7.0])"
   ]
  },
  {
   "cell_type": "code",
   "execution_count": 49,
   "id": "5b92df0f-4d72-4bb2-8cfe-f1db0ed0672b",
   "metadata": {},
   "outputs": [
    {
     "name": "stdout",
     "output_type": "stream",
     "text": [
      "Model: \"sequential_8\"\n",
      "_________________________________________________________________\n",
      " Layer (type)                Output Shape              Param #   \n",
      "=================================================================\n",
      " dense_9 (Dense)             (None, 1)                 2         \n",
      "                                                                 \n",
      "=================================================================\n",
      "Total params: 2\n",
      "Trainable params: 2\n",
      "Non-trainable params: 0\n",
      "_________________________________________________________________\n"
     ]
    }
   ],
   "source": [
    "model=tf.keras.models.Sequential([\n",
    "    tf.keras.layers.Dense(1,input_shape=[1])\n",
    "])\n",
    "model.summary()"
   ]
  },
  {
   "cell_type": "code",
   "execution_count": 50,
   "id": "57671725-ea71-4c50-98d8-b49a7719ebad",
   "metadata": {},
   "outputs": [],
   "source": [
    "model.compile(optimizer='sgd',loss='mean_squared_error',metrics=['accuracy'])"
   ]
  },
  {
   "cell_type": "code",
   "execution_count": 51,
   "id": "00a1d9cf-995b-4f48-9c6d-5fe28879afe9",
   "metadata": {},
   "outputs": [
    {
     "name": "stdout",
     "output_type": "stream",
     "text": [
      "Epoch 1/10\n",
      "1/1 [==============================] - 0s 454ms/step - loss: 35.6302 - accuracy: 0.0000e+00\n",
      "Epoch 2/10\n",
      "1/1 [==============================] - 0s 4ms/step - loss: 28.3691 - accuracy: 0.0000e+00\n",
      "Epoch 3/10\n",
      "1/1 [==============================] - 0s 3ms/step - loss: 22.6495 - accuracy: 0.0000e+00\n",
      "Epoch 4/10\n",
      "1/1 [==============================] - 0s 7ms/step - loss: 18.1428 - accuracy: 0.0000e+00\n",
      "Epoch 5/10\n",
      "1/1 [==============================] - 0s 3ms/step - loss: 14.5905 - accuracy: 0.0000e+00\n",
      "Epoch 6/10\n",
      "1/1 [==============================] - 0s 3ms/step - loss: 11.7892 - accuracy: 0.0000e+00\n",
      "Epoch 7/10\n",
      "1/1 [==============================] - 0s 3ms/step - loss: 9.5790 - accuracy: 0.1667\n",
      "Epoch 8/10\n",
      "1/1 [==============================] - 0s 3ms/step - loss: 7.8338 - accuracy: 0.1667\n",
      "Epoch 9/10\n",
      "1/1 [==============================] - 0s 0s/step - loss: 6.4547 - accuracy: 0.1667\n",
      "Epoch 10/10\n",
      "1/1 [==============================] - 0s 4ms/step - loss: 5.3636 - accuracy: 0.1667\n"
     ]
    }
   ],
   "source": [
    "history=model.fit(x=x_array,y=y_array,epochs=10)"
   ]
  },
  {
   "cell_type": "code",
   "execution_count": 52,
   "id": "b889dd02-9c3e-433f-a65d-47bbc23d8276",
   "metadata": {},
   "outputs": [
    {
     "data": {
      "text/plain": [
       "array([[3.5052736]], dtype=float32)"
      ]
     },
     "execution_count": 52,
     "metadata": {},
     "output_type": "execute_result"
    }
   ],
   "source": [
    "model.predict([4])"
   ]
  },
  {
   "cell_type": "code",
   "execution_count": 54,
   "id": "6a29d48e-5a88-44bd-a1a8-116f4e5467d9",
   "metadata": {},
   "outputs": [],
   "source": [
    "acc=history.history['accuracy']\n",
    "loss=history.history['loss']\n",
    "epochs=range(len(acc))"
   ]
  },
  {
   "cell_type": "code",
   "execution_count": 58,
   "id": "9defbad0-8c24-4aae-aa1d-099717c36575",
   "metadata": {},
   "outputs": [
    {
     "data": {
      "text/plain": [
       "[<matplotlib.lines.Line2D at 0x27b03b26ee0>]"
      ]
     },
     "execution_count": 58,
     "metadata": {},
     "output_type": "execute_result"
    },
    {
     "data": {
      "image/png": "[encoded data removed]",
      "text/plain": [
       "<Figure size 640x480 with 1 Axes>"
      ]
     },
     "metadata": {},
     "output_type": "display_data"
    }
   ],
   "source": [
    "plt.plot(epochs,loss)"
   ]
  },
  {
   "cell_type": "code",
   "execution_count": null,
   "id": "db417d6a-d3a4-4963-b2d1-dca4b84a867d",
   "metadata": {},
   "outputs": [],
   "source": []
  }
 ],
 "metadata": {
  "kernelspec": {
   "display_name": "Python 3 (ipykernel)",
   "language": "python",
   "name": "python3"
  },
  "language_info": {
   "codemirror_mode": {
    "name": "ipython",
    "version": 3
   },
   "file_extension": ".py",
   "mimetype": "text/x-python",
   "name": "python",
   "nbconvert_exporter": "python",
   "pygments_lexer": "ipython3",
   "version": "3.9.18"
  }
 },
 "nbformat": 4,
 "nbformat_minor": 5
}
