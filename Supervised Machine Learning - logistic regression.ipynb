{
 "cells": [
  {
   "cell_type": "markdown",
   "id": "5afe0b0f",
   "metadata": {},
   "source": [
    "***"
   ]
  },
  {
   "cell_type": "markdown",
   "id": "8b0b290f",
   "metadata": {},
   "source": [
    "# Logistic Regression - Classification"
   ]
  },
  {
   "cell_type": "markdown",
   "id": "5ad6a97f",
   "metadata": {},
   "source": [
    "***"
   ]
  },
  {
   "cell_type": "markdown",
   "id": "c4513749",
   "metadata": {},
   "source": [
    "$$ y_j = \\dfrac {1}{1+e^{-(w_0+w_1x_1+w_2x_2+...+w_jx_j)}} $$"
   ]
  },
  {
   "cell_type": "markdown",
   "id": "3d51746c",
   "metadata": {},
   "source": [
    "#### sigmoid function"
   ]
  },
  {
   "cell_type": "code",
   "execution_count": 4,
   "id": "589c30d8",
   "metadata": {},
   "outputs": [],
   "source": [
    "import numpy as np\n",
    "import matplotlib.pyplot as plt"
   ]
  },
  {
   "cell_type": "code",
   "execution_count": 176,
   "id": "ffbb301f",
   "metadata": {},
   "outputs": [],
   "source": [
    "x=np.arange(-7,7,0.1)"
   ]
  },
  {
   "cell_type": "code",
   "execution_count": 177,
   "id": "434ceea9",
   "metadata": {},
   "outputs": [],
   "source": [
    "def sigmoid(z):\n",
    "    y=1/(1+np.exp(-z))\n",
    "    return y"
   ]
  },
  {
   "cell_type": "code",
   "execution_count": 178,
   "id": "11d5404e",
   "metadata": {},
   "outputs": [],
   "source": [
    "y=sigmoid(x)"
   ]
  },
  {
   "cell_type": "code",
   "execution_count": 179,
   "id": "5cec692f",
   "metadata": {},
   "outputs": [
    {
     "data": {
      "text/plain": [
       "Text(0.5, 1.0, 'Sigmoid function')"
      ]
     },
     "execution_count": 179,
     "metadata": {},
     "output_type": "execute_result"
    },
    {
     "data": {
      "image/png": "[encoded data removed]",
      "text/plain": [
       "<Figure size 432x288 with 1 Axes>"
      ]
     },
     "metadata": {
      "needs_background": "light"
     },
     "output_type": "display_data"
    }
   ],
   "source": [
    "plt.plot(x,y)\n",
    "plt.grid()\n",
    "plt.xlabel('z')\n",
    "plt.ylabel('y')\n",
    "plt.title('Sigmoid function')"
   ]
  },
  {
   "cell_type": "markdown",
   "id": "e4f0d99d",
   "metadata": {},
   "source": [
    "typically when y<0.5 y=0 and when y>0.5 y=1"
   ]
  },
  {
   "cell_type": "markdown",
   "id": "09cc40cd",
   "metadata": {},
   "source": [
    "therefore z=0 is the boundary"
   ]
  },
  {
   "cell_type": "markdown",
   "id": "781c3ed0",
   "metadata": {},
   "source": [
    "#### decision boundary"
   ]
  },
  {
   "cell_type": "markdown",
   "id": "2c7c6d35",
   "metadata": {},
   "source": [
    "$$ y=1  =>  z>0  =>  w_0+w_1x_1+w_2x_2>0  $$"
   ]
  },
  {
   "cell_type": "markdown",
   "id": "4e99a1cc",
   "metadata": {},
   "source": [
    "$$ x_2=\\dfrac {w_0+w_1x_1}{w_2}  $$"
   ]
  },
  {
   "cell_type": "code",
   "execution_count": 174,
   "id": "efc76968",
   "metadata": {},
   "outputs": [
    {
     "data": {
      "text/plain": [
       "Text(0.5, 1.0, 'Decision boundary')"
      ]
     },
     "execution_count": 174,
     "metadata": {},
     "output_type": "execute_result"
    },
    {
     "data": {
      "image/png": "[encoded data removed]",
      "text/plain": [
       "<Figure size 432x288 with 1 Axes>"
      ]
     },
     "metadata": {
      "needs_background": "light"
     },
     "output_type": "display_data"
    }
   ],
   "source": [
    "x=np.arange(0,6)\n",
    "y=3.3-x\n",
    "x1=np.array([1,1.5,1.1,1.8,2.3,2.2])\n",
    "x2=np.array([1,0.8,1.8,2.5,1.4,2.1])\n",
    "col = np.where(x2<(-x1+3.3),'b','r')\n",
    "plt.scatter(x1,x2,color=col)\n",
    "plt.plot(x,y,c='k')\n",
    "plt.fill_between(x,y,alpha=0.2)\n",
    "plt.xlabel('x1')\n",
    "plt.ylabel('x2')\n",
    "plt.xlim(0,4)\n",
    "plt.ylim(0,4)\n",
    "plt.title('Decision boundary')"
   ]
  },
  {
   "cell_type": "markdown",
   "id": "51aa8427",
   "metadata": {},
   "source": [
    "#### decision boundary can be a circle as well, not only a str8 line"
   ]
  },
  {
   "cell_type": "markdown",
   "id": "826586ef",
   "metadata": {},
   "source": [
    "its like a x1 x2 line of a waterfall where up is 1 and down is 0 for y"
   ]
  },
  {
   "cell_type": "markdown",
   "id": "51445414",
   "metadata": {},
   "source": [
    "in the blue area y=0, in the white area y=1"
   ]
  },
  {
   "cell_type": "markdown",
   "id": "f847589a",
   "metadata": {},
   "source": [
    "## Cost function"
   ]
  },
  {
   "cell_type": "markdown",
   "id": "ac6c7a8b",
   "metadata": {},
   "source": [
    "MSE for logistic regression is not convex function, as it has many local minimums therefore it is not the best choice for the cost function"
   ]
  },
  {
   "cell_type": "markdown",
   "id": "749355d8",
   "metadata": {},
   "source": [
    "$$ J = \\frac{1}{m} \\sum_{i=0}^{m-1} loss(f_w(x^{(i)}),y^{(i)})  $$"
   ]
  },
  {
   "cell_type": "markdown",
   "id": "61d581f2",
   "metadata": {},
   "source": [
    "$$ J = -\\frac{1}{m} \\sum_{i=0}^{m-1} [y^{(i)}\\log(f_w(x^{(i)})) + (1-y^{(i)})\\log(1-f_w(x^{(i)}))]  $$"
   ]
  },
  {
   "cell_type": "markdown",
   "id": "7adafe6c",
   "metadata": {},
   "source": [
    "f(x) is sigmoid so takes values from 0 to 1"
   ]
  },
  {
   "cell_type": "markdown",
   "id": "12d64ff5",
   "metadata": {},
   "source": [
    "#### Logistic loss function"
   ]
  },
  {
   "cell_type": "markdown",
   "id": "68c7883c",
   "metadata": {},
   "source": [
    "\n",
    "\\begin{equation}\n",
    "loss(f_w(x^{(i)}),y^{(i)}) = \\begin{cases}\n",
    "    - \\log(f_w(x^{(i)}))   & if& y^{(i)}=1\\\\\n",
    "    - \\log(1-f_w(x^{(i)}))  &  if& y^{(i)}=0\n",
    "    \\end{cases}\n",
    "\\end{equation}"
   ]
  },
  {
   "cell_type": "markdown",
   "id": "ab48dadf",
   "metadata": {},
   "source": [
    "or simplified"
   ]
  },
  {
   "cell_type": "markdown",
   "id": "8de43172",
   "metadata": {},
   "source": [
    "$$ loss(f_w(x^{(i)}),y^{(i)}) = - y^{(i)}\\log(f_w(x^{(i)})) - (1-y^{(i)})\\log(1-f_w(x^{(i)})) $$"
   ]
  },
  {
   "cell_type": "code",
   "execution_count": 51,
   "id": "126a024c",
   "metadata": {
    "scrolled": true
   },
   "outputs": [
    {
     "data": {
      "text/plain": [
       "<matplotlib.legend.Legend at 0x1fef4ee1fd0>"
      ]
     },
     "execution_count": 51,
     "metadata": {},
     "output_type": "execute_result"
    },
    {
     "data": {
      "image/png": "[encoded data removed]",
      "text/plain": [
       "<Figure size 720x576 with 2 Axes>"
      ]
     },
     "metadata": {
      "needs_background": "light"
     },
     "output_type": "display_data"
    }
   ],
   "source": [
    "x=np.arange(0,2,0.1)\n",
    "y=np.log(x)\n",
    "plt.figure(figsize=(10, 8))\n",
    "plt.subplot(221)\n",
    "plt.plot(x,y,label='log(f)')\n",
    "plt.plot(x,-y,label='-log(f)')\n",
    "x=np.arange(0,1.1,0.1)\n",
    "y=np.log(x)\n",
    "plt.fill_between(x,-y,alpha=0.2)\n",
    "plt.xlim(0,2)\n",
    "plt.ylim(-2,2)\n",
    "plt.grid()\n",
    "plt.legend()\n",
    "\n",
    "plt.subplot(222)\n",
    "x=np.arange(-1,1,0.1)\n",
    "y=np.log(1-x)\n",
    "plt.plot(x,y,label='log(1-f)')\n",
    "plt.plot(x,-y,label='-log(1-f)')\n",
    "x=np.arange(0,1.1,0.1)\n",
    "y=np.log(1-x)\n",
    "plt.fill_between(x,-y,alpha=0.2)\n",
    "plt.xlim(-1,1)\n",
    "plt.ylim(-2,2)\n",
    "plt.grid()\n",
    "plt.legend()"
   ]
  },
  {
   "cell_type": "code",
   "execution_count": 53,
   "id": "1dc6eb08",
   "metadata": {},
   "outputs": [],
   "source": [
    "import numpy as np"
   ]
  },
  {
   "cell_type": "code",
   "execution_count": 64,
   "id": "fe58908d",
   "metadata": {},
   "outputs": [],
   "source": [
    "x=np.array([[0.5,1.5],[1,1],[1.5,0.5],[3,0.5],[2,2],[1,2.5]])\n",
    "y=np.array([0,0,0,1,1,1])"
   ]
  },
  {
   "cell_type": "code",
   "execution_count": 65,
   "id": "91cbbc0a",
   "metadata": {},
   "outputs": [],
   "source": [
    "def sigmoid(z):\n",
    "    y=1/(1+np.exp(-z))\n",
    "    return y"
   ]
  },
  {
   "cell_type": "code",
   "execution_count": 73,
   "id": "fd019d60",
   "metadata": {},
   "outputs": [],
   "source": [
    "def cost(x,y,w,w0):\n",
    "    cost=0\n",
    "    rows,features=x.shape\n",
    "    for row in range(rows):\n",
    "        f=sigmoid(np.dot(x[row],w)+w0)\n",
    "        cost+=-y[row]*np.log(f)-(1-y[row])*np.log(1-f)\n",
    "    cost=cost/rows\n",
    "    return cost"
   ]
  },
  {
   "cell_type": "code",
   "execution_count": 96,
   "id": "ae3e510a",
   "metadata": {},
   "outputs": [
    {
     "name": "stdout",
     "output_type": "stream",
     "text": [
      "Cost for b=-3: -0.36686678640551745\n",
      "Cost for b=-3.3 : -0.3870815248579363\n"
     ]
    }
   ],
   "source": [
    "w=np.array([1,1])\n",
    "b1=-3\n",
    "b2=-3.3\n",
    "print(f'Cost for b=-3: {cost(x,y,w,b1)}')\n",
    "print(f'Cost for b=-3.3 : {cost(x,y,w,b2)}')"
   ]
  },
  {
   "cell_type": "code",
   "execution_count": 100,
   "id": "07a4ea1b",
   "metadata": {},
   "outputs": [
    {
     "data": {
      "text/plain": [
       "<matplotlib.legend.Legend at 0x1fef809cc40>"
      ]
     },
     "execution_count": 100,
     "metadata": {},
     "output_type": "execute_result"
    },
    {
     "data": {
      "image/png": "[encoded data removed]",
      "text/plain": [
       "<Figure size 432x288 with 1 Axes>"
      ]
     },
     "metadata": {
      "needs_background": "light"
     },
     "output_type": "display_data"
    }
   ],
   "source": [
    "x1=np.arange(0,3,0.1)\n",
    "x2=3-x1\n",
    "plt.scatter(x[:,0],x[:,1])\n",
    "plt.plot(x1,x2,c='k',label='0=x1+x2-3')\n",
    "x2=3.2-x1\n",
    "plt.plot(x1,x2,linestyle=':')\n",
    "plt.fill_between(X,Y,alpha=0.2)\n",
    "plt.xlabel('x1')\n",
    "plt.ylabel('x2')\n",
    "plt.title('0=x1*w1+x2*w2+w0')\n",
    "plt.legend()"
   ]
  },
  {
   "cell_type": "markdown",
   "id": "952e0cf7",
   "metadata": {},
   "source": [
    "## Gradient descent"
   ]
  },
  {
   "cell_type": "markdown",
   "id": "29fd9866",
   "metadata": {},
   "source": [
    "$$ dw_j=\\frac{1}{m} \\sum_{i=0}^{m-1} (f(x^{(i)})-y^{(i)})*x^{(i)}_j $$"
   ]
  },
  {
   "cell_type": "markdown",
   "id": "5a1c1547",
   "metadata": {},
   "source": [
    "$$ f(x^{(i)})=\\dfrac {1}{1+e^{-(w_0+w_1x_1+w_2x_2+...+w_jx_j)}} $$"
   ]
  },
  {
   "cell_type": "code",
   "execution_count": 102,
   "id": "cbeccd73",
   "metadata": {},
   "outputs": [],
   "source": [
    "import numpy as np"
   ]
  },
  {
   "cell_type": "code",
   "execution_count": 116,
   "id": "cad2c87c",
   "metadata": {},
   "outputs": [],
   "source": [
    "x=np.array([[0.5,1.5],[1,1],[1.5,0.5],[3,0.5],[2,2],[1,2.5]])\n",
    "y=np.array([0,0,0,1,1,1])\n",
    "w=np.array([2,3])\n",
    "w0=1"
   ]
  },
  {
   "cell_type": "code",
   "execution_count": 122,
   "id": "56efbb07",
   "metadata": {},
   "outputs": [],
   "source": [
    "def gradient(x,y,w,w0):\n",
    "    rows,features=x.shape\n",
    "    dw=np.zeros(features)\n",
    "    dw0=0\n",
    "    for feature in range(features):\n",
    "        for row in range(rows):\n",
    "            dw[feature]+=(sigmoid(np.dot(x[row],w)+w0)-y[row])*x[row][feature]\n",
    "    for row in range(rows):\n",
    "        dw0+=sigmoid(np.dot(x[row],w)+w0)-y[row]\n",
    "    dw=dw/rows\n",
    "    dw0=dw0/rows\n",
    "    return dw,dw0"
   ]
  },
  {
   "cell_type": "code",
   "execution_count": 123,
   "id": "453c88f7",
   "metadata": {},
   "outputs": [
    {
     "name": "stdout",
     "output_type": "stream",
     "text": [
      "dw: [0.49833339 0.49883943], dw0: 0.49861806546328574\n"
     ]
    }
   ],
   "source": [
    "dw,dw0=gradient(x,y,w,w0)\n",
    "print(f'dw: {dw}, dw0: {dw0}')"
   ]
  },
  {
   "cell_type": "code",
   "execution_count": 147,
   "id": "9a24c7cc",
   "metadata": {},
   "outputs": [],
   "source": [
    "def gradient_descent(x,y,w,w0,steps=1000,alpha=0.01):\n",
    "    for step in range(steps):\n",
    "        dw,dw0=gradient(x,y,w,w0)\n",
    "        w-=alpha*dw\n",
    "        w0-=alpha*dw0\n",
    "        loss=cost(x,y,w,w0)\n",
    "        if step%100==0:\n",
    "            print(f'STEP: {step} - loss: {loss}')\n",
    "    return w,w0"
   ]
  },
  {
   "cell_type": "code",
   "execution_count": 148,
   "id": "e99e95c1",
   "metadata": {},
   "outputs": [],
   "source": [
    "x=np.array([[0.5,1.5],[1,1],[1.5,0.5],[3,0.5],[2,2],[1,2.5]])\n",
    "y=np.array([0,0,0,1,1,1])\n",
    "w=np.array([0.,0.])\n",
    "w0=0."
   ]
  },
  {
   "cell_type": "code",
   "execution_count": 149,
   "id": "c75ac695",
   "metadata": {},
   "outputs": [
    {
     "name": "stdout",
     "output_type": "stream",
     "text": [
      "STEP: 0 - loss: -0.684610468560574\n",
      "STEP: 1000 - loss: -0.1590977666870457\n",
      "STEP: 2000 - loss: -0.08460064176930078\n",
      "STEP: 3000 - loss: -0.05705327279402531\n",
      "STEP: 4000 - loss: -0.04290759421682\n",
      "STEP: 5000 - loss: -0.03433847729884557\n",
      "STEP: 6000 - loss: -0.02860379802212006\n",
      "STEP: 7000 - loss: -0.02450156960879306\n",
      "STEP: 8000 - loss: -0.02142370332569295\n",
      "STEP: 9000 - loss: -0.019030137124109114\n",
      "Updated parameters: w: [5.28123029 5.07815608], w0: -14.222409982019837\n"
     ]
    }
   ],
   "source": [
    "w_out,w0_out=gradient_descent(x,y,w,w0,steps=10000,alpha=0.1)\n",
    "print(f'Updated parameters: w: {w_out}, w0: {w0_out}')"
   ]
  },
  {
   "cell_type": "code",
   "execution_count": 158,
   "id": "68eef95c",
   "metadata": {},
   "outputs": [
    {
     "data": {
      "text/plain": [
       "<matplotlib.legend.Legend at 0x1fef94e10a0>"
      ]
     },
     "execution_count": 158,
     "metadata": {},
     "output_type": "execute_result"
    },
    {
     "data": {
      "image/png": "[encoded data removed]",
      "text/plain": [
       "<Figure size 432x288 with 1 Axes>"
      ]
     },
     "metadata": {
      "needs_background": "light"
     },
     "output_type": "display_data"
    }
   ],
   "source": [
    "x1=np.arange(0,3,0.1)\n",
    "x2=(-w0_out-x1*w_out[0])/w_out[1]\n",
    "plt.scatter(x[:,0],x[:,1])\n",
    "plt.plot(x1,x2,c='k',label=f'0=x1*{w_out[0]:.3f}+x2*{w_out[1]:.3f}+{w0_out:.3f}')\n",
    "plt.fill_between(x1,x2,alpha=0.2)\n",
    "plt.xlabel('x1')\n",
    "plt.ylabel('x2')\n",
    "plt.title(f'0=x1*w1+x2*w2+w0')\n",
    "plt.legend()"
   ]
  },
  {
   "cell_type": "markdown",
   "id": "fd3625fd",
   "metadata": {},
   "source": [
    "## Scikit-Learn logistc regression"
   ]
  },
  {
   "cell_type": "code",
   "execution_count": 160,
   "id": "a6605d44",
   "metadata": {},
   "outputs": [],
   "source": [
    "import numpy as np\n",
    "from sklearn.linear_model import LogisticRegression"
   ]
  },
  {
   "cell_type": "code",
   "execution_count": 161,
   "id": "370c68b8",
   "metadata": {},
   "outputs": [],
   "source": [
    "x=np.array([[0.5,1.5],[1,1],[1.5,0.5],[3,0.5],[2,2],[1,2.5]])\n",
    "y=np.array([0,0,0,1,1,1])"
   ]
  },
  {
   "cell_type": "code",
   "execution_count": 163,
   "id": "51a27d88",
   "metadata": {},
   "outputs": [
    {
     "data": {
      "text/plain": [
       "LogisticRegression()"
      ]
     },
     "execution_count": 163,
     "metadata": {},
     "output_type": "execute_result"
    }
   ],
   "source": [
    "lr_model=LogisticRegression()\n",
    "lr_model.fit(x,y)"
   ]
  },
  {
   "cell_type": "code",
   "execution_count": 167,
   "id": "efa11f0c",
   "metadata": {
    "scrolled": true
   },
   "outputs": [
    {
     "name": "stdout",
     "output_type": "stream",
     "text": [
      "prediction: [0 0 0 1 1 1]\n",
      "accuracy: 1.0\n"
     ]
    }
   ],
   "source": [
    "pred=lr_model.predict(x)\n",
    "print(f'prediction: {pred}')\n",
    "print(f'accuracy: {lr_model.score(x,y)}')"
   ]
  },
  {
   "cell_type": "code",
   "execution_count": null,
   "id": "1625136e",
   "metadata": {},
   "outputs": [],
   "source": []
  }
 ],
 "metadata": {
  "kernelspec": {
   "display_name": "Python 3 (ipykernel)",
   "language": "python",
   "name": "python3"
  },
  "language_info": {
   "codemirror_mode": {
    "name": "ipython",
    "version": 3
   },
   "file_extension": ".py",
   "mimetype": "text/x-python",
   "name": "python",
   "nbconvert_exporter": "python",
   "pygments_lexer": "ipython3",
   "version": "3.8.12"
  }
 },
 "nbformat": 4,
 "nbformat_minor": 5
}
